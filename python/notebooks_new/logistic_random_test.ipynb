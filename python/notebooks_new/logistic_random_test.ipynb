{
 "cells": [
  {
   "cell_type": "code",
   "execution_count": 1,
   "metadata": {
    "collapsed": false
   },
   "outputs": [
    {
     "name": "stderr",
     "output_type": "stream",
     "text": [
      "/usr/local/Cellar/python3/3.6.2/Frameworks/Python.framework/Versions/3.6/lib/python3.6/importlib/_bootstrap.py:205: RuntimeWarning: numpy.dtype size changed, may indicate binary incompatibility. Expected 96, got 88\n",
      "  return f(*args, **kwds)\n"
     ]
    }
   ],
   "source": [
    "import sys\n",
    "import time\n",
    "\n",
    "import matplotlib.pyplot as plt\n",
    "import numpy as np\n",
    "import pandas as pd\n",
    "from pylab import *\n",
    "from sklearn.linear_model import LogisticRegression, Ridge\n",
    "from sklearn.pipeline import Pipeline\n",
    "from sklearn.model_selection import GridSearchCV\n",
    "from sklearn.preprocessing import StandardScaler\n",
    "\n",
    "sys.path.append('../models_new')\n",
    "import model_utils_new as util\n",
    "from construct_model_matrices_test import ModelMatrixConstructor\n",
    "\n",
    "%matplotlib inline\n",
    "plt.rcParams['figure.figsize'] = 10, 8"
   ]
  },
  {
   "cell_type": "code",
   "execution_count": 2,
   "metadata": {
    "collapsed": true
   },
   "outputs": [],
   "source": [
    "DATA_DIR = '../../data/Xy_random_split_data'\n",
    "TEST = False"
   ]
  },
  {
   "cell_type": "code",
   "execution_count": 3,
   "metadata": {
    "collapsed": false
   },
   "outputs": [
    {
     "name": "stdout",
     "output_type": "stream",
     "text": [
      "Loading data from ['X_train_1998.csv', 'X_train_1999.csv', 'X_train_2000.csv', 'X_train_2001.csv', 'X_train_2002.csv', 'X_train_2003.csv', 'X_train_2004.csv', 'X_train_2005.csv', 'X_train_2006.csv', 'X_train_2007.csv', 'X_train_2008.csv', 'X_train_2009.csv', 'X_train_2010.csv', 'X_train_2011.csv', 'X_train_2012.csv', 'X_train_2013.csv', 'X_train_2014.csv', 'X_train_2015.csv']...\n",
      "Loading data from ['X_valid_1998.csv', 'X_valid_1999.csv', 'X_valid_2000.csv', 'X_valid_2001.csv', 'X_valid_2002.csv', 'X_valid_2003.csv', 'X_valid_2004.csv', 'X_valid_2005.csv', 'X_valid_2006.csv', 'X_valid_2007.csv', 'X_valid_2008.csv', 'X_valid_2009.csv', 'X_valid_2010.csv', 'X_valid_2011.csv', 'X_valid_2012.csv', 'X_valid_2013.csv', 'X_valid_2014.csv', 'X_valid_2015.csv']...\n",
      "Loading data from ['X_test_1998.csv', 'X_test_1999.csv', 'X_test_2000.csv', 'X_test_2001.csv', 'X_test_2002.csv', 'X_test_2003.csv', 'X_test_2004.csv', 'X_test_2005.csv', 'X_test_2006.csv', 'X_test_2007.csv', 'X_test_2008.csv', 'X_test_2009.csv', 'X_test_2010.csv', 'X_test_2011.csv', 'X_test_2012.csv', 'X_test_2013.csv', 'X_test_2014.csv', 'X_test_2015.csv']...\n",
      "Loading data from ['y_train_1998.csv', 'y_train_1999.csv', 'y_train_2000.csv', 'y_train_2001.csv', 'y_train_2002.csv', 'y_train_2003.csv', 'y_train_2004.csv', 'y_train_2005.csv', 'y_train_2006.csv', 'y_train_2007.csv', 'y_train_2008.csv', 'y_train_2009.csv', 'y_train_2010.csv', 'y_train_2011.csv', 'y_train_2012.csv', 'y_train_2013.csv', 'y_train_2014.csv', 'y_train_2015.csv']...\n",
      "Loading data from ['y_valid_1998.csv', 'y_valid_1999.csv', 'y_valid_2000.csv', 'y_valid_2001.csv', 'y_valid_2002.csv', 'y_valid_2003.csv', 'y_valid_2004.csv', 'y_valid_2005.csv', 'y_valid_2006.csv', 'y_valid_2007.csv', 'y_valid_2008.csv', 'y_valid_2009.csv', 'y_valid_2010.csv', 'y_valid_2011.csv', 'y_valid_2012.csv', 'y_valid_2013.csv', 'y_valid_2014.csv', 'y_valid_2015.csv']...\n",
      "Loading data from ['y_test_1998.csv', 'y_test_1999.csv', 'y_test_2000.csv', 'y_test_2001.csv', 'y_test_2002.csv', 'y_test_2003.csv', 'y_test_2004.csv', 'y_test_2005.csv', 'y_test_2006.csv', 'y_test_2007.csv', 'y_test_2008.csv', 'y_test_2009.csv', 'y_test_2010.csv', 'y_test_2011.csv', 'y_test_2012.csv', 'y_test_2013.csv', 'y_test_2014.csv', 'y_test_2015.csv']...\n",
      "Adding quadratic terms...\n",
      "Adding cubic terms...\n",
      "Adding interactions...\n",
      "Adding quadratic terms...\n",
      "Adding cubic terms...\n",
      "Adding interactions...\n",
      "Adding quadratic terms...\n",
      "Adding cubic terms...\n",
      "Adding interactions...\n"
     ]
    }
   ],
   "source": [
    "matrix_constructor = ModelMatrixConstructor(DATA_DIR, TEST)\n",
    "matrix_constructor.construct_model_matrices()"
   ]
  },
  {
   "cell_type": "code",
   "execution_count": 52,
   "metadata": {
    "collapsed": false
   },
   "outputs": [
    {
     "name": "stdout",
     "output_type": "stream",
     "text": [
      "fixed: ['vgt', 'sum9_diff_cub', 'lon:Acs', 'sum9_t1:sum9_t2', 'etopo1_sq', 'etopo1:cwd', 'lat:Acs', 'btl_t2', 'sum9_t2', 'lon', 'sum9_diff', 'etopo1:sum9_diff', 'etopo1:mi', 'lat:cwd', 'lat_sq', 'lon:cwd', 'lat_cub', 'lat:vpd', 'etopo1', 'lon:sum9_diff', 'sum9_t1', 'btl_t1:btl_t2', 'lat:wd', 'sum9_diff_sq', 'lat:mi', 'etopo1:Acs', 'lon:lat:etopo1', 'etopo1:vpd', 'etopo1:PPT', 'lat:PPT', 'lat', 'lon:PPT', 'etopo1:wd', 'lon:mi', 'lon:wd', 'lon_cub', 'lat:sum9_diff', 'lon:vpd', 'btl_t1']\n",
      "variables: ['AugTmax', 'ddAugJul', 'summerP2', 'MarMin', 'Mar20', 'JanTmin', 'PMarAug', 'Tvar', 'summerTmean', 'AugMaxT', 'wd', 'OctTmin', 'TMarAug', 'AugTmean', 'Pmean', 'MarTmin', 'minT', 'vpd', 'OptTsum', 'PPT', 'JanMin', 'POctSep', 'summerP1', 'PcumOctSep', 'Jan20', 'OctMin', 'ddAugJun', 'maxT', 'fallTmean', 'max.drop', 'mi', 'Tmin', 'TOctSep', 'summerP0', 'cwd', 'winterMin', 'Tmean', 'Acs']\n"
     ]
    },
    {
     "data": {
      "text/plain": [
       "['Acs',\n",
       " 'AugMaxT',\n",
       " 'AugTmax',\n",
       " 'AugTmean',\n",
       " 'Jan20',\n",
       " 'JanMin',\n",
       " 'JanTmin',\n",
       " 'Mar20',\n",
       " 'MarMin',\n",
       " 'MarTmin',\n",
       " 'OctMin',\n",
       " 'OctTmin',\n",
       " 'OptTsum',\n",
       " 'PMarAug',\n",
       " 'POctSep',\n",
       " 'PPT',\n",
       " 'PcumOctSep',\n",
       " 'Pmean',\n",
       " 'TMarAug',\n",
       " 'TOctSep',\n",
       " 'Tmean',\n",
       " 'Tmin',\n",
       " 'Tvar',\n",
       " 'btl_t1',\n",
       " 'btl_t1:btl_t2',\n",
       " 'btl_t2',\n",
       " 'cwd',\n",
       " 'ddAugJul',\n",
       " 'ddAugJun',\n",
       " 'etopo1',\n",
       " 'etopo1:Acs',\n",
       " 'etopo1:Acs',\n",
       " 'etopo1:AugMaxT',\n",
       " 'etopo1:AugTmax',\n",
       " 'etopo1:AugTmean',\n",
       " 'etopo1:Jan20',\n",
       " 'etopo1:JanMin',\n",
       " 'etopo1:JanTmin',\n",
       " 'etopo1:Mar20',\n",
       " 'etopo1:MarMin',\n",
       " 'etopo1:MarTmin',\n",
       " 'etopo1:OctMin',\n",
       " 'etopo1:OctTmin',\n",
       " 'etopo1:OptTsum',\n",
       " 'etopo1:PMarAug',\n",
       " 'etopo1:POctSep',\n",
       " 'etopo1:PPT',\n",
       " 'etopo1:PPT',\n",
       " 'etopo1:PcumOctSep',\n",
       " 'etopo1:Pmean',\n",
       " 'etopo1:TMarAug',\n",
       " 'etopo1:TOctSep',\n",
       " 'etopo1:Tmean',\n",
       " 'etopo1:Tmin',\n",
       " 'etopo1:Tvar',\n",
       " 'etopo1:cwd',\n",
       " 'etopo1:cwd',\n",
       " 'etopo1:ddAugJul',\n",
       " 'etopo1:ddAugJun',\n",
       " 'etopo1:fallTmean',\n",
       " 'etopo1:max.drop',\n",
       " 'etopo1:maxT',\n",
       " 'etopo1:mi',\n",
       " 'etopo1:mi',\n",
       " 'etopo1:minT',\n",
       " 'etopo1:sum9_diff',\n",
       " 'etopo1:summerP0',\n",
       " 'etopo1:summerP1',\n",
       " 'etopo1:summerP2',\n",
       " 'etopo1:summerTmean',\n",
       " 'etopo1:vpd',\n",
       " 'etopo1:vpd',\n",
       " 'etopo1:wd',\n",
       " 'etopo1:wd',\n",
       " 'etopo1:winterMin',\n",
       " 'etopo1_sq',\n",
       " 'fallTmean',\n",
       " 'lat',\n",
       " 'lat:Acs',\n",
       " 'lat:Acs',\n",
       " 'lat:AugMaxT',\n",
       " 'lat:AugTmax',\n",
       " 'lat:AugTmean',\n",
       " 'lat:Jan20',\n",
       " 'lat:JanMin',\n",
       " 'lat:JanTmin',\n",
       " 'lat:Mar20',\n",
       " 'lat:MarMin',\n",
       " 'lat:MarTmin',\n",
       " 'lat:OctMin',\n",
       " 'lat:OctTmin',\n",
       " 'lat:OptTsum',\n",
       " 'lat:PMarAug',\n",
       " 'lat:POctSep',\n",
       " 'lat:PPT',\n",
       " 'lat:PPT',\n",
       " 'lat:PcumOctSep',\n",
       " 'lat:Pmean',\n",
       " 'lat:TMarAug',\n",
       " 'lat:TOctSep',\n",
       " 'lat:Tmean',\n",
       " 'lat:Tmin',\n",
       " 'lat:Tvar',\n",
       " 'lat:cwd',\n",
       " 'lat:cwd',\n",
       " 'lat:ddAugJul',\n",
       " 'lat:ddAugJun',\n",
       " 'lat:fallTmean',\n",
       " 'lat:max.drop',\n",
       " 'lat:maxT',\n",
       " 'lat:mi',\n",
       " 'lat:mi',\n",
       " 'lat:minT',\n",
       " 'lat:sum9_diff',\n",
       " 'lat:summerP0',\n",
       " 'lat:summerP1',\n",
       " 'lat:summerP2',\n",
       " 'lat:summerTmean',\n",
       " 'lat:vpd',\n",
       " 'lat:vpd',\n",
       " 'lat:wd',\n",
       " 'lat:wd',\n",
       " 'lat:winterMin',\n",
       " 'lat_cub',\n",
       " 'lat_sq',\n",
       " 'lon',\n",
       " 'lon:Acs',\n",
       " 'lon:Acs',\n",
       " 'lon:AugMaxT',\n",
       " 'lon:AugTmax',\n",
       " 'lon:AugTmean',\n",
       " 'lon:Jan20',\n",
       " 'lon:JanMin',\n",
       " 'lon:JanTmin',\n",
       " 'lon:Mar20',\n",
       " 'lon:MarMin',\n",
       " 'lon:MarTmin',\n",
       " 'lon:OctMin',\n",
       " 'lon:OctTmin',\n",
       " 'lon:OptTsum',\n",
       " 'lon:PMarAug',\n",
       " 'lon:POctSep',\n",
       " 'lon:PPT',\n",
       " 'lon:PPT',\n",
       " 'lon:PcumOctSep',\n",
       " 'lon:Pmean',\n",
       " 'lon:TMarAug',\n",
       " 'lon:TOctSep',\n",
       " 'lon:Tmean',\n",
       " 'lon:Tmin',\n",
       " 'lon:Tvar',\n",
       " 'lon:cwd',\n",
       " 'lon:cwd',\n",
       " 'lon:ddAugJul',\n",
       " 'lon:ddAugJun',\n",
       " 'lon:fallTmean',\n",
       " 'lon:lat:etopo1',\n",
       " 'lon:max.drop',\n",
       " 'lon:maxT',\n",
       " 'lon:mi',\n",
       " 'lon:mi',\n",
       " 'lon:minT',\n",
       " 'lon:sum9_diff',\n",
       " 'lon:summerP0',\n",
       " 'lon:summerP1',\n",
       " 'lon:summerP2',\n",
       " 'lon:summerTmean',\n",
       " 'lon:vpd',\n",
       " 'lon:vpd',\n",
       " 'lon:wd',\n",
       " 'lon:wd',\n",
       " 'lon:winterMin',\n",
       " 'lon_cub',\n",
       " 'max.drop',\n",
       " 'maxT',\n",
       " 'mi',\n",
       " 'minT',\n",
       " 'sum9_diff',\n",
       " 'sum9_diff_cub',\n",
       " 'sum9_diff_sq',\n",
       " 'sum9_t1',\n",
       " 'sum9_t1:sum9_t2',\n",
       " 'sum9_t2',\n",
       " 'summerP0',\n",
       " 'summerP1',\n",
       " 'summerP2',\n",
       " 'summerTmean',\n",
       " 'vgt',\n",
       " 'vpd',\n",
       " 'wd',\n",
       " 'winterMin',\n",
       " 'x',\n",
       " 'y',\n",
       " 'year']"
      ]
     },
     "execution_count": 52,
     "metadata": {},
     "output_type": "execute_result"
    }
   ],
   "source": [
    "test_vars = matrix_constructor.get_variables(random=False)\n",
    "test_vars = sorted(test_vars)\n",
    "for var in ['x', 'y', 'year']:\n",
    "    test_vars.append(var)\n",
    "test_vars"
   ]
  },
  {
   "cell_type": "code",
   "execution_count": 5,
   "metadata": {
    "collapsed": true
   },
   "outputs": [],
   "source": [
    "def print_dims(data_set, name):\n",
    "    print('%s:\\n X: %r\\n y: %r' \n",
    "          % (name, data_set[0].shape, data_set[1].shape))"
   ]
  },
  {
   "cell_type": "code",
   "execution_count": 98,
   "metadata": {
    "collapsed": false
   },
   "outputs": [
    {
     "name": "stdout",
     "output_type": "stream",
     "text": [
      "Train:\n",
      " X: (789475, 194)\n",
      " y: (789475, 1)\n",
      "Valid:\n",
      " X: (98876, 194)\n",
      " y: (98876, 1)\n",
      "Test:\n",
      " X: (99183, 194)\n",
      " y: (99183, 1)\n"
     ]
    },
    {
     "data": {
      "text/html": [
       "<div>\n",
       "<style scoped>\n",
       "    .dataframe tbody tr th:only-of-type {\n",
       "        vertical-align: middle;\n",
       "    }\n",
       "\n",
       "    .dataframe tbody tr th {\n",
       "        vertical-align: top;\n",
       "    }\n",
       "\n",
       "    .dataframe thead th {\n",
       "        text-align: right;\n",
       "    }\n",
       "</style>\n",
       "<table border=\"1\" class=\"dataframe\">\n",
       "  <thead>\n",
       "    <tr style=\"text-align: right;\">\n",
       "      <th></th>\n",
       "      <th>Acs</th>\n",
       "      <th>AugMaxT</th>\n",
       "      <th>AugTmax</th>\n",
       "      <th>AugTmean</th>\n",
       "      <th>Jan20</th>\n",
       "      <th>JanMin</th>\n",
       "      <th>JanTmin</th>\n",
       "      <th>Mar20</th>\n",
       "      <th>MarMin</th>\n",
       "      <th>MarTmin</th>\n",
       "      <th>...</th>\n",
       "      <th>summerP1</th>\n",
       "      <th>summerP2</th>\n",
       "      <th>summerTmean</th>\n",
       "      <th>vgt</th>\n",
       "      <th>vpd</th>\n",
       "      <th>wd</th>\n",
       "      <th>winterMin</th>\n",
       "      <th>x</th>\n",
       "      <th>y</th>\n",
       "      <th>year</th>\n",
       "    </tr>\n",
       "  </thead>\n",
       "  <tbody>\n",
       "    <tr>\n",
       "      <th>0</th>\n",
       "      <td>0.0</td>\n",
       "      <td>38.752094</td>\n",
       "      <td>36.091501</td>\n",
       "      <td>27.502499</td>\n",
       "      <td>0</td>\n",
       "      <td>-7.478265</td>\n",
       "      <td>-0.805385</td>\n",
       "      <td>0</td>\n",
       "      <td>-5.356053</td>\n",
       "      <td>4.376215</td>\n",
       "      <td>...</td>\n",
       "      <td>117.425140</td>\n",
       "      <td>260.620229</td>\n",
       "      <td>26.963603</td>\n",
       "      <td>0</td>\n",
       "      <td>366937.690852</td>\n",
       "      <td>11.790140</td>\n",
       "      <td>-8.064639</td>\n",
       "      <td>-450000.0</td>\n",
       "      <td>-2040000.0</td>\n",
       "      <td>2015</td>\n",
       "    </tr>\n",
       "    <tr>\n",
       "      <th>1</th>\n",
       "      <td>0.0</td>\n",
       "      <td>36.743772</td>\n",
       "      <td>33.994497</td>\n",
       "      <td>25.295415</td>\n",
       "      <td>0</td>\n",
       "      <td>-7.273205</td>\n",
       "      <td>-2.191895</td>\n",
       "      <td>0</td>\n",
       "      <td>-5.843041</td>\n",
       "      <td>2.200347</td>\n",
       "      <td>...</td>\n",
       "      <td>145.925704</td>\n",
       "      <td>318.327508</td>\n",
       "      <td>24.755350</td>\n",
       "      <td>0</td>\n",
       "      <td>320657.267566</td>\n",
       "      <td>48.674129</td>\n",
       "      <td>-8.693665</td>\n",
       "      <td>-440000.0</td>\n",
       "      <td>-2040000.0</td>\n",
       "      <td>2015</td>\n",
       "    </tr>\n",
       "    <tr>\n",
       "      <th>2</th>\n",
       "      <td>0.0</td>\n",
       "      <td>37.632520</td>\n",
       "      <td>35.397027</td>\n",
       "      <td>26.787834</td>\n",
       "      <td>0</td>\n",
       "      <td>-7.500000</td>\n",
       "      <td>-1.377182</td>\n",
       "      <td>0</td>\n",
       "      <td>-5.443481</td>\n",
       "      <td>3.525477</td>\n",
       "      <td>...</td>\n",
       "      <td>126.445372</td>\n",
       "      <td>280.075993</td>\n",
       "      <td>26.213616</td>\n",
       "      <td>0</td>\n",
       "      <td>334804.068208</td>\n",
       "      <td>60.135742</td>\n",
       "      <td>-8.585368</td>\n",
       "      <td>-430000.0</td>\n",
       "      <td>-2040000.0</td>\n",
       "      <td>2015</td>\n",
       "    </tr>\n",
       "    <tr>\n",
       "      <th>3</th>\n",
       "      <td>0.0</td>\n",
       "      <td>38.558851</td>\n",
       "      <td>35.949109</td>\n",
       "      <td>27.379772</td>\n",
       "      <td>0</td>\n",
       "      <td>-7.500000</td>\n",
       "      <td>-1.161289</td>\n",
       "      <td>0</td>\n",
       "      <td>-5.006946</td>\n",
       "      <td>4.101569</td>\n",
       "      <td>...</td>\n",
       "      <td>115.983417</td>\n",
       "      <td>259.864216</td>\n",
       "      <td>26.805074</td>\n",
       "      <td>0</td>\n",
       "      <td>350649.461883</td>\n",
       "      <td>57.758161</td>\n",
       "      <td>-8.490052</td>\n",
       "      <td>-420000.0</td>\n",
       "      <td>-2040000.0</td>\n",
       "      <td>2015</td>\n",
       "    </tr>\n",
       "    <tr>\n",
       "      <th>4</th>\n",
       "      <td>0.0</td>\n",
       "      <td>39.136888</td>\n",
       "      <td>36.350756</td>\n",
       "      <td>27.771246</td>\n",
       "      <td>0</td>\n",
       "      <td>-7.501845</td>\n",
       "      <td>-0.944256</td>\n",
       "      <td>0</td>\n",
       "      <td>-5.000000</td>\n",
       "      <td>4.428590</td>\n",
       "      <td>...</td>\n",
       "      <td>107.539114</td>\n",
       "      <td>243.690708</td>\n",
       "      <td>27.196394</td>\n",
       "      <td>0</td>\n",
       "      <td>360183.639481</td>\n",
       "      <td>63.650985</td>\n",
       "      <td>-8.365362</td>\n",
       "      <td>-410000.0</td>\n",
       "      <td>-2040000.0</td>\n",
       "      <td>2015</td>\n",
       "    </tr>\n",
       "  </tbody>\n",
       "</table>\n",
       "<p>5 rows × 194 columns</p>\n",
       "</div>"
      ],
      "text/plain": [
       "   Acs    AugMaxT    AugTmax   AugTmean  Jan20    JanMin   JanTmin  Mar20  \\\n",
       "0  0.0  38.752094  36.091501  27.502499      0 -7.478265 -0.805385      0   \n",
       "1  0.0  36.743772  33.994497  25.295415      0 -7.273205 -2.191895      0   \n",
       "2  0.0  37.632520  35.397027  26.787834      0 -7.500000 -1.377182      0   \n",
       "3  0.0  38.558851  35.949109  27.379772      0 -7.500000 -1.161289      0   \n",
       "4  0.0  39.136888  36.350756  27.771246      0 -7.501845 -0.944256      0   \n",
       "\n",
       "     MarMin   MarTmin  ...     summerP1    summerP2  summerTmean  vgt  \\\n",
       "0 -5.356053  4.376215  ...   117.425140  260.620229    26.963603    0   \n",
       "1 -5.843041  2.200347  ...   145.925704  318.327508    24.755350    0   \n",
       "2 -5.443481  3.525477  ...   126.445372  280.075993    26.213616    0   \n",
       "3 -5.006946  4.101569  ...   115.983417  259.864216    26.805074    0   \n",
       "4 -5.000000  4.428590  ...   107.539114  243.690708    27.196394    0   \n",
       "\n",
       "             vpd         wd  winterMin         x          y  year  \n",
       "0  366937.690852  11.790140  -8.064639 -450000.0 -2040000.0  2015  \n",
       "1  320657.267566  48.674129  -8.693665 -440000.0 -2040000.0  2015  \n",
       "2  334804.068208  60.135742  -8.585368 -430000.0 -2040000.0  2015  \n",
       "3  350649.461883  57.758161  -8.490052 -420000.0 -2040000.0  2015  \n",
       "4  360183.639481  63.650985  -8.365362 -410000.0 -2040000.0  2015  \n",
       "\n",
       "[5 rows x 194 columns]"
      ]
     },
     "execution_count": 98,
     "metadata": {},
     "output_type": "execute_result"
    }
   ],
   "source": [
    "data_sets = matrix_constructor.select_variables(test_vars)\n",
    "[[X_train, y_train], [X_valid, y_valid], [X_test, y_test]] = data_sets\n",
    "for (data_set, name) in zip(data_sets, ['Train', 'Valid', 'Test']):\n",
    "    print_dims(data_set, name)\n",
    "    \n",
    "X_train.head()"
   ]
  },
  {
   "cell_type": "code",
   "execution_count": 7,
   "metadata": {
    "collapsed": false
   },
   "outputs": [
    {
     "data": {
      "text/plain": [
       "(-140000.0, 1540000.0)"
      ]
     },
     "execution_count": 7,
     "metadata": {},
     "output_type": "execute_result"
    }
   ],
   "source": [
    "max(X_test.x), max(X_test.y)"
   ]
  },
  {
   "cell_type": "code",
   "execution_count": 8,
   "metadata": {
    "collapsed": false
   },
   "outputs": [
    {
     "data": {
      "text/plain": [
       "'AugMaxT'"
      ]
     },
     "execution_count": 8,
     "metadata": {},
     "output_type": "execute_result"
    }
   ],
   "source": [
    "test_vars[1]"
   ]
  },
  {
   "cell_type": "code",
   "execution_count": 9,
   "metadata": {
    "collapsed": false
   },
   "outputs": [],
   "source": [
    "year = 2009"
   ]
  },
  {
   "cell_type": "code",
   "execution_count": 10,
   "metadata": {
    "collapsed": false
   },
   "outputs": [
    {
     "name": "stdout",
     "output_type": "stream",
     "text": [
      "matrix shape: (195, 357)\n",
      "matrix shape: (192, 355)\n",
      "matrix shape: (196, 350)\n"
     ]
    }
   ],
   "source": [
    "var = test_vars[1]\n",
    "density_matrix_train = util.column2matrix(\n",
    "    X_train.loc[X_train.year == year, :], var)\n",
    "density_matrix_valid = util.column2matrix(\n",
    "    X_valid.loc[X_valid.year == year, :], var)\n",
    "density_matrix_test  = util.column2matrix(\n",
    "    X_test.loc[X_test.year   == year, :], var)"
   ]
  },
  {
   "cell_type": "code",
   "execution_count": 11,
   "metadata": {
    "collapsed": false
   },
   "outputs": [
    {
     "data": {
      "image/png": "[encoded data removed]",
      "text/plain": [
       "<Figure size 720x576 with 3 Axes>"
      ]
     },
     "metadata": {},
     "output_type": "display_data"
    }
   ],
   "source": [
    "plt.figure(figsize=(10,8))\n",
    "plt.subplot(1, 3, 1);\n",
    "imshow(np.rot90(density_matrix_train));\n",
    "plt.subplot(1, 3, 2);\n",
    "imshow(np.rot90(density_matrix_valid));\n",
    "plt.subplot(1, 3, 3);\n",
    "imshow(np.rot90(density_matrix_test));"
   ]
  },
  {
   "cell_type": "code",
   "execution_count": 53,
   "metadata": {
    "collapsed": false
   },
   "outputs": [],
   "source": [
    "def merge_Xy(data_sets):\n",
    "    out = []\n",
    "    for data_set in data_sets:\n",
    "        X, y = data_set[0].copy(), data_set[1].copy()\n",
    "        X['btl'] = y\n",
    "        out.append(X)\n",
    "    return out"
   ]
  },
  {
   "cell_type": "code",
   "execution_count": 99,
   "metadata": {
    "collapsed": false
   },
   "outputs": [],
   "source": [
    "[merge_train, merge_valid, merge_test] = merge_Xy(data_sets)"
   ]
  },
  {
   "cell_type": "code",
   "execution_count": 14,
   "metadata": {
    "collapsed": false
   },
   "outputs": [
    {
     "name": "stdout",
     "output_type": "stream",
     "text": [
      "matrix shape: (195, 357)\n",
      "matrix shape: (192, 355)\n",
      "matrix shape: (196, 350)\n"
     ]
    }
   ],
   "source": [
    "btl_matrix_train = util.column2matrix(\n",
    "    merge_train.loc[merge_train.year == year, :],'btl')\n",
    "btl_matrix_valid = util.column2matrix(\n",
    "    merge_valid.loc[merge_valid.year == year, :],'btl')\n",
    "btl_matrix_test = util.column2matrix(\n",
    "    merge_test.loc[merge_test.year == year, :],'btl')"
   ]
  },
  {
   "cell_type": "code",
   "execution_count": 15,
   "metadata": {
    "collapsed": false
   },
   "outputs": [
    {
     "data": {
      "image/png": "[encoded data removed]",
      "text/plain": [
       "<Figure size 432x288 with 3 Axes>"
      ]
     },
     "metadata": {},
     "output_type": "display_data"
    }
   ],
   "source": [
    "plt.subplot(1, 3, 1);\n",
    "imshow(np.rot90(btl_matrix_train));\n",
    "plt.title('Training Set');\n",
    "plt.subplot(1, 3, 2);\n",
    "imshow(np.rot90(btl_matrix_valid));\n",
    "plt.title('Validation Set');\n",
    "plt.subplot(1, 3, 3);\n",
    "imshow(np.rot90(btl_matrix_test));\n",
    "plt.title('Test Set');"
   ]
  },
  {
   "cell_type": "code",
   "execution_count": 100,
   "metadata": {
    "collapsed": false
   },
   "outputs": [
    {
     "name": "stdout",
     "output_type": "stream",
     "text": [
      "Percent presence in y_train: 12.92%\n",
      "Percent presence in y_valid: 13.93%\n",
      "Percent presence in y_test: 12.60%\n"
     ]
    }
   ],
   "source": [
    "util.print_percent_presence(y_train, 'y_train')\n",
    "util.print_percent_presence(y_valid, 'y_valid')\n",
    "util.print_percent_presence(y_test, 'y_test')"
   ]
  },
  {
   "cell_type": "code",
   "execution_count": 17,
   "metadata": {
    "collapsed": false
   },
   "outputs": [
    {
     "name": "stdout",
     "output_type": "stream",
     "text": [
      "Baseline accuracy if predicting \"absent\" for all cells:\n",
      "  train: 87.08\n",
      "  valid: 86.07\n",
      "  test:  87.4\n"
     ]
    }
   ],
   "source": [
    "print('Baseline accuracy if predicting \"absent\" for all cells:')\n",
    "print('  train:', 100 - 12.92)\n",
    "print('  valid:', 100 - 13.93)\n",
    "print('  test: ', 100 - 12.60)"
   ]
  },
  {
   "cell_type": "code",
   "execution_count": 101,
   "metadata": {
    "collapsed": false
   },
   "outputs": [],
   "source": [
    "y_train.columns=['btl']\n",
    "y_valid.columns=['btl']\n",
    "y_test.columns=['btl']"
   ]
  },
  {
   "cell_type": "code",
   "execution_count": 102,
   "metadata": {
    "collapsed": false
   },
   "outputs": [
    {
     "data": {
      "text/html": [
       "<div>\n",
       "<style scoped>\n",
       "    .dataframe tbody tr th:only-of-type {\n",
       "        vertical-align: middle;\n",
       "    }\n",
       "\n",
       "    .dataframe tbody tr th {\n",
       "        vertical-align: top;\n",
       "    }\n",
       "\n",
       "    .dataframe thead th {\n",
       "        text-align: right;\n",
       "    }\n",
       "</style>\n",
       "<table border=\"1\" class=\"dataframe\">\n",
       "  <thead>\n",
       "    <tr style=\"text-align: right;\">\n",
       "      <th></th>\n",
       "      <th>btl</th>\n",
       "    </tr>\n",
       "  </thead>\n",
       "  <tbody>\n",
       "    <tr>\n",
       "      <th>0</th>\n",
       "      <td>0</td>\n",
       "    </tr>\n",
       "    <tr>\n",
       "      <th>1</th>\n",
       "      <td>0</td>\n",
       "    </tr>\n",
       "    <tr>\n",
       "      <th>2</th>\n",
       "      <td>0</td>\n",
       "    </tr>\n",
       "    <tr>\n",
       "      <th>3</th>\n",
       "      <td>0</td>\n",
       "    </tr>\n",
       "    <tr>\n",
       "      <th>4</th>\n",
       "      <td>0</td>\n",
       "    </tr>\n",
       "  </tbody>\n",
       "</table>\n",
       "</div>"
      ],
      "text/plain": [
       "   btl\n",
       "0    0\n",
       "1    0\n",
       "2    0\n",
       "3    0\n",
       "4    0"
      ]
     },
     "execution_count": 102,
     "metadata": {},
     "output_type": "execute_result"
    }
   ],
   "source": [
    "y_train.head()"
   ]
  },
  {
   "cell_type": "code",
   "execution_count": 103,
   "metadata": {
    "collapsed": true
   },
   "outputs": [],
   "source": [
    "full_train = merge_train.copy()\n",
    "full_valid = merge_valid.copy()\n",
    "full_test = merge_test.copy()"
   ]
  },
  {
   "cell_type": "code",
   "execution_count": 104,
   "metadata": {
    "collapsed": false
   },
   "outputs": [],
   "source": [
    "#drop = ['x', 'y', 'year']\n",
    "drop = ['x', 'y', 'year', 'vgt', 'lon', 'lat', 'etopo1', 'lon_cub', 'lat_sq', 'lat_cub', 'etopo1_sq', 'lon:lat:etopo1']\n",
    "X_train = X_train.drop(drop, axis=1)\n",
    "X_valid = X_valid.drop(drop, axis=1)\n",
    "X_test  = X_test.drop(drop, axis=1)"
   ]
  },
  {
   "cell_type": "code",
   "execution_count": 105,
   "metadata": {
    "collapsed": false
   },
   "outputs": [
    {
     "data": {
      "text/plain": [
       "['Acs',\n",
       " 'AugMaxT',\n",
       " 'AugTmax',\n",
       " 'AugTmean',\n",
       " 'Jan20',\n",
       " 'JanMin',\n",
       " 'JanTmin',\n",
       " 'Mar20',\n",
       " 'MarMin',\n",
       " 'MarTmin',\n",
       " 'OctMin',\n",
       " 'OctTmin',\n",
       " 'OptTsum',\n",
       " 'PMarAug',\n",
       " 'POctSep',\n",
       " 'PPT',\n",
       " 'PcumOctSep',\n",
       " 'Pmean',\n",
       " 'TMarAug',\n",
       " 'TOctSep',\n",
       " 'Tmean',\n",
       " 'Tmin',\n",
       " 'Tvar',\n",
       " 'btl_t1',\n",
       " 'btl_t1:btl_t2',\n",
       " 'btl_t2',\n",
       " 'cwd',\n",
       " 'ddAugJul',\n",
       " 'ddAugJun',\n",
       " 'etopo1:Acs',\n",
       " 'etopo1:Acs',\n",
       " 'etopo1:AugMaxT',\n",
       " 'etopo1:AugTmax',\n",
       " 'etopo1:AugTmean',\n",
       " 'etopo1:Jan20',\n",
       " 'etopo1:JanMin',\n",
       " 'etopo1:JanTmin',\n",
       " 'etopo1:Mar20',\n",
       " 'etopo1:MarMin',\n",
       " 'etopo1:MarTmin',\n",
       " 'etopo1:OctMin',\n",
       " 'etopo1:OctTmin',\n",
       " 'etopo1:OptTsum',\n",
       " 'etopo1:PMarAug',\n",
       " 'etopo1:POctSep',\n",
       " 'etopo1:PPT',\n",
       " 'etopo1:PPT',\n",
       " 'etopo1:PcumOctSep',\n",
       " 'etopo1:Pmean',\n",
       " 'etopo1:TMarAug',\n",
       " 'etopo1:TOctSep',\n",
       " 'etopo1:Tmean',\n",
       " 'etopo1:Tmin',\n",
       " 'etopo1:Tvar',\n",
       " 'etopo1:cwd',\n",
       " 'etopo1:cwd',\n",
       " 'etopo1:ddAugJul',\n",
       " 'etopo1:ddAugJun',\n",
       " 'etopo1:fallTmean',\n",
       " 'etopo1:max.drop',\n",
       " 'etopo1:maxT',\n",
       " 'etopo1:mi',\n",
       " 'etopo1:mi',\n",
       " 'etopo1:minT',\n",
       " 'etopo1:sum9_diff',\n",
       " 'etopo1:summerP0',\n",
       " 'etopo1:summerP1',\n",
       " 'etopo1:summerP2',\n",
       " 'etopo1:summerTmean',\n",
       " 'etopo1:vpd',\n",
       " 'etopo1:vpd',\n",
       " 'etopo1:wd',\n",
       " 'etopo1:wd',\n",
       " 'etopo1:winterMin',\n",
       " 'fallTmean',\n",
       " 'lat:Acs',\n",
       " 'lat:Acs',\n",
       " 'lat:AugMaxT',\n",
       " 'lat:AugTmax',\n",
       " 'lat:AugTmean',\n",
       " 'lat:Jan20',\n",
       " 'lat:JanMin',\n",
       " 'lat:JanTmin',\n",
       " 'lat:Mar20',\n",
       " 'lat:MarMin',\n",
       " 'lat:MarTmin',\n",
       " 'lat:OctMin',\n",
       " 'lat:OctTmin',\n",
       " 'lat:OptTsum',\n",
       " 'lat:PMarAug',\n",
       " 'lat:POctSep',\n",
       " 'lat:PPT',\n",
       " 'lat:PPT',\n",
       " 'lat:PcumOctSep',\n",
       " 'lat:Pmean',\n",
       " 'lat:TMarAug',\n",
       " 'lat:TOctSep',\n",
       " 'lat:Tmean',\n",
       " 'lat:Tmin',\n",
       " 'lat:Tvar',\n",
       " 'lat:cwd',\n",
       " 'lat:cwd',\n",
       " 'lat:ddAugJul',\n",
       " 'lat:ddAugJun',\n",
       " 'lat:fallTmean',\n",
       " 'lat:max.drop',\n",
       " 'lat:maxT',\n",
       " 'lat:mi',\n",
       " 'lat:mi',\n",
       " 'lat:minT',\n",
       " 'lat:sum9_diff',\n",
       " 'lat:summerP0',\n",
       " 'lat:summerP1',\n",
       " 'lat:summerP2',\n",
       " 'lat:summerTmean',\n",
       " 'lat:vpd',\n",
       " 'lat:vpd',\n",
       " 'lat:wd',\n",
       " 'lat:wd',\n",
       " 'lat:winterMin',\n",
       " 'lon:Acs',\n",
       " 'lon:Acs',\n",
       " 'lon:AugMaxT',\n",
       " 'lon:AugTmax',\n",
       " 'lon:AugTmean',\n",
       " 'lon:Jan20',\n",
       " 'lon:JanMin',\n",
       " 'lon:JanTmin',\n",
       " 'lon:Mar20',\n",
       " 'lon:MarMin',\n",
       " 'lon:MarTmin',\n",
       " 'lon:OctMin',\n",
       " 'lon:OctTmin',\n",
       " 'lon:OptTsum',\n",
       " 'lon:PMarAug',\n",
       " 'lon:POctSep',\n",
       " 'lon:PPT',\n",
       " 'lon:PPT',\n",
       " 'lon:PcumOctSep',\n",
       " 'lon:Pmean',\n",
       " 'lon:TMarAug',\n",
       " 'lon:TOctSep',\n",
       " 'lon:Tmean',\n",
       " 'lon:Tmin',\n",
       " 'lon:Tvar',\n",
       " 'lon:cwd',\n",
       " 'lon:cwd',\n",
       " 'lon:ddAugJul',\n",
       " 'lon:ddAugJun',\n",
       " 'lon:fallTmean',\n",
       " 'lon:max.drop',\n",
       " 'lon:maxT',\n",
       " 'lon:mi',\n",
       " 'lon:mi',\n",
       " 'lon:minT',\n",
       " 'lon:sum9_diff',\n",
       " 'lon:summerP0',\n",
       " 'lon:summerP1',\n",
       " 'lon:summerP2',\n",
       " 'lon:summerTmean',\n",
       " 'lon:vpd',\n",
       " 'lon:vpd',\n",
       " 'lon:wd',\n",
       " 'lon:wd',\n",
       " 'lon:winterMin',\n",
       " 'max.drop',\n",
       " 'maxT',\n",
       " 'mi',\n",
       " 'minT',\n",
       " 'sum9_diff',\n",
       " 'sum9_diff_cub',\n",
       " 'sum9_diff_sq',\n",
       " 'sum9_t1',\n",
       " 'sum9_t1:sum9_t2',\n",
       " 'sum9_t2',\n",
       " 'summerP0',\n",
       " 'summerP1',\n",
       " 'summerP2',\n",
       " 'summerTmean',\n",
       " 'vpd',\n",
       " 'wd',\n",
       " 'winterMin']"
      ]
     },
     "execution_count": 105,
     "metadata": {},
     "output_type": "execute_result"
    }
   ],
   "source": [
    "predictors = list(X_train)\n",
    "predictors"
   ]
  },
  {
   "cell_type": "code",
   "execution_count": 23,
   "metadata": {
    "collapsed": true
   },
   "outputs": [],
   "source": [
    "def scale_data(X_train, X_valid, X_test):\n",
    "    scaler = StandardScaler()\n",
    "    X_train = scaler.fit_transform(X_train)\n",
    "    X_valid = scaler.transform(X_valid)\n",
    "    X_test  = scaler.transform(X_test)\n",
    "    return X_train, X_valid, X_test"
   ]
  },
  {
   "cell_type": "code",
   "execution_count": 106,
   "metadata": {
    "collapsed": false
   },
   "outputs": [],
   "source": [
    "X_train, X_valid, X_test = scale_data(X_train, X_valid, X_test) "
   ]
  },
  {
   "cell_type": "code",
   "execution_count": 107,
   "metadata": {
    "collapsed": false
   },
   "outputs": [],
   "source": [
    "y_train = y_train['btl'].values.reshape(-1)\n",
    "y_valid = y_valid['btl'].values.reshape(-1)\n",
    "y_test  = y_test['btl'].values.reshape(-1)"
   ]
  },
  {
   "cell_type": "code",
   "execution_count": 108,
   "metadata": {
    "collapsed": false
   },
   "outputs": [
    {
     "name": "stdout",
     "output_type": "stream",
     "text": [
      "Testing C = 0.0001\n",
      "  l1: ['sum9_t1', 'sum9_t2', 'btl_t1', 'btl_t2', 'sum9_diff_sq', 'etopo1:PPT', 'etopo1:PPT', 'lat:ddAugJun', 'etopo1:OctMin']\n",
      "[0.8985306454989946, 0.2968273573314595, 0.2566432176895177, 0.24563841285123053, 0.07679392858476519, 0.07641484944898938, 0.07641484944898938, -0.01947254473395468, -0.00705157075146149]\n",
      " Accuracy: 0.9322\n",
      "Elapsed time: 1.22 minutes\n",
      "\n",
      "Testing C = 0.001\n",
      "  l1: "
     ]
    },
    {
     "name": "stderr",
     "output_type": "stream",
     "text": [
      "/usr/local/lib/python3.6/site-packages/sklearn/linear_model/sag.py:326: ConvergenceWarning: The max_iter was reached which means the coef_ did not converge\n",
      "  \"the coef_ did not converge\", ConvergenceWarning)\n"
     ]
    },
    {
     "name": "stdout",
     "output_type": "stream",
     "text": [
      "['sum9_t1', 'vpd', 'sum9_t2', 'sum9_t1:sum9_t2', 'btl_t2', 'btl_t1', 'Tvar', 'etopo1:summerP1', 'lon:JanMin', 'lat:wd', 'lat:wd', 'MarMin', 'etopo1:AugMaxT', 'etopo1:maxT', 'Acs', 'ddAugJun', 'summerP0', 'lat:sum9_diff', 'lon:AugMaxT', 'sum9_diff_cub', 'lon:maxT', 'OptTsum', 'max.drop', 'etopo1:PPT', 'etopo1:PPT', 'AugTmean', 'btl_t1:btl_t2', 'lon:OctTmin', 'sum9_diff_sq', 'summerP2', 'etopo1:sum9_diff']\n",
      "[1.0396421552155146, -0.9460690298304677, 0.5441950121662202, -0.42951961892861906, 0.299650084726056, 0.2905849374387658, -0.27207494209735494, -0.17164771324799163, 0.15006898113749173, -0.14701411926097543, -0.14701411926097543, 0.13007236360301025, 0.12304933327776503, 0.11621869955337302, -0.1151067283511223, -0.11403980630801677, -0.10897279918713146, 0.10696499763160507, -0.10483488373299593, -0.09133099234906039, -0.09105863796827686, -0.08169104959219974, -0.07476415587129905, 0.06800746330746409, 0.06800746330746409, -0.04886888694110674, -0.048565949091393126, 0.047325354916149295, 0.016413481137496827, -0.004768562667326427, -0.0001487530499196601]\n",
      " Accuracy: 0.9346\n",
      "Elapsed time: 4.59 minutes\n",
      "\n",
      "Testing C = 0.01\n",
      "  l1: ['sum9_t2', 'Tmean', 'vpd', 'lat:TMarAug', 'Tvar', 'lat:Tmin', 'sum9_t1:sum9_t2', 'etopo1:Tvar', 'lon:sum9_diff', 'lat:sum9_diff', 'AugTmean', 'MarTmin', 'lon:AugMaxT', 'lon:MarTmin', 'lon:JanMin', 'etopo1:minT', 'sum9_diff', 'fallTmean', 'btl_t2', 'Acs', 'btl_t1', 'etopo1:Tmin', 'lon:maxT', 'lat:wd', 'lat:wd', 'etopo1:summerP1', 'PPT', 'lat:MarMin', 'etopo1:OctTmin', 'lat:AugMaxT', 'etopo1:ddAugJul', 'lat:cwd', 'lat:cwd', 'OctTmin', 'etopo1:MarTmin', 'lat:maxT', 'etopo1:Pmean', 'lat:summerTmean', 'OptTsum', 'lon:summerTmean', 'lon:AugTmax', 'lat:Jan20', 'lat:OctMin', 'etopo1:OctMin', 'lat:PPT', 'lat:PPT', 'etopo1:MarMin', 'lat:Pmean', 'MarMin', 'lat:AugTmean', 'etopo1:Jan20', 'sum9_diff_cub', 'etopo1:fallTmean', 'lat:TOctSep', 'mi', 'lat:mi', 'lat:mi', 'btl_t1:btl_t2', 'lat:summerP1', 'etopo1:Acs', 'etopo1:Acs', 'etopo1:summerP2', 'etopo1:PMarAug', 'lon:summerP0', 'etopo1:AugTmean', 'lon:Mar20', 'sum9_diff_sq', 'lat:PcumOctSep', 'etopo1:sum9_diff', 'lon:JanTmin', 'POctSep', 'etopo1:mi', 'etopo1:mi', 'etopo1:POctSep', 'Pmean', 'lon:summerP2', 'lat:max.drop', 'lat:Acs', 'lat:Acs', 'etopo1:Tmean', 'lat:JanMin', 'etopo1:Mar20']\n",
      "[1.8479556392857708, -1.1798813225460003, -1.1695792658551176, 0.9589095668914811, -0.7509266145903242, 0.7363174512930282, -0.7166830160415049, 0.6494681078077631, -0.5348577940555829, 0.5184230810945691, -0.5166000355647297, -0.4616952601942518, -0.41687144546127936, 0.3999149411159477, 0.3799294761877366, 0.3742747870135045, -0.3443056509929529, -0.3368764325781459, 0.3120942200424019, -0.31000020063184835, 0.3084424634921627, 0.2941107745408962, -0.2886418203743667, -0.2824158423038002, -0.2824158423038002, -0.2695667981916525, 0.2590979318185525, 0.23867269922583312, 0.23029963589010627, -0.21316673477163994, 0.2088271264519082, -0.20750460192917403, -0.20750460192917403, -0.20739958659584234, -0.1957299592158948, -0.1949037910146012, 0.19443884578774517, 0.18451967654446927, -0.1643074131588999, -0.1538870693042168, -0.14277838533481185, -0.13701223355584946, 0.13630887342476905, -0.1336047970086049, -0.13261040822877612, -0.13261040822877612, 0.1315510547919267, -0.12709203757159515, 0.12678536328117335, -0.1266927785183276, 0.1220051252196405, -0.11937028152984809, -0.11409807640630483, 0.10290993798001793, 0.10223800938330661, -0.10031856340551337, -0.10031856340551337, -0.07799582282825565, 0.0765653004979201, 0.06902063965799904, 0.06902063965799904, -0.06701437837523667, 0.06496079450712623, 0.06391995895649351, 0.06025518747188596, -0.059362931244225495, -0.055043569679545164, -0.053787961011865525, 0.04361521999848114, 0.04255707817523184, 0.03503202684764116, 0.023358231089457494, 0.023358231089457494, 0.018569572014388476, 0.018035085438465305, 0.017553317164359775, -0.005215856180858451, -0.0015894653042848221, -0.0015894653042848221, -3.3657513125830122e-09, -3.1800199320684266e-09, 1.04029366211897e-09]\n",
      " Accuracy: 0.935\n",
      "Elapsed time: 8.74 minutes\n",
      "\n",
      "Testing C = 0.1\n",
      "  l1: ['lon:Jan20', 'Tmean', 'lat:TMarAug', 'lat:TOctSep', 'Acs', 'mi', 'lat:Jan20', 'sum9_diff', 'OctMin', 'sum9_t2', 'lon:sum9_diff', 'lat:summerP1', 'lat:OctMin', 'fallTmean', 'lon:summerP1', 'Jan20', 'lon:Tmean', 'lon:Mar20', 'lon:Acs', 'lon:Acs', 'lat:summerP2', 'etopo1:TMarAug', 'etopo1:Tmin', 'lon:summerP2', 'lat:JanMin', 'lat:Mar20', 'lat:Tvar', 'wd', 'PMarAug', 'lat:fallTmean', 'lat:OctTmin', 'etopo1:Tmean', 'MarTmin', 'lon:vpd', 'lon:vpd', 'lat:mi', 'lat:mi', 'etopo1:AugTmean', 'lat:AugTmean', 'etopo1:vpd', 'etopo1:vpd', 'vpd', 'etopo1:AugTmax', 'etopo1:TOctSep', 'sum9_t1:sum9_t2', 'PPT', 'lon:POctSep', 'TMarAug', 'lon:OctTmin', 'etopo1:ddAugJul', 'lon:AugTmax', 'lat:summerTmean', 'Pmean', 'lon:PMarAug', 'etopo1:Tvar', 'etopo1:maxT', 'lat:sum9_diff', 'lon:summerP0', 'lat:PMarAug', 'lat:cwd', 'lat:cwd', 'lat:MarMin', 'JanMin', 'lat:Tmin', 'lon:JanTmin', 'etopo1:OctTmin', 'lat:wd', 'lat:wd', 'lat:Acs', 'lat:Acs', 'lon:PcumOctSep', 'lat:Pmean', 'etopo1:summerTmean', 'lat:summerP0', 'Tvar', 'lat:AugTmax', 'OptTsum', 'etopo1:cwd', 'etopo1:cwd', 'AugTmax', 'lat:ddAugJun', 'lon:ddAugJul', 'summerTmean', 'lat:POctSep', 'sum9_t1', 'lon:MarTmin', 'TOctSep', 'etopo1:mi', 'etopo1:mi', 'lon:JanMin', 'JanTmin', 'etopo1:ddAugJun', 'lon:OctMin', 'etopo1:MarTmin', 'etopo1:wd', 'etopo1:wd', 'btl_t1', 'btl_t2', 'lon:wd', 'lon:wd', 'PcumOctSep', 'summerP0', 'lon:AugMaxT', 'ddAugJun', 'lat:OptTsum', 'lat:minT', 'lat:vpd', 'lat:vpd', 'etopo1:PPT', 'etopo1:PPT', 'POctSep', 'maxT', 'etopo1:minT', 'etopo1:PMarAug', 'etopo1:JanMin', 'etopo1:AugMaxT', 'lat:AugMaxT', 'MarMin', 'etopo1:PcumOctSep', 'lat:max.drop', 'cwd', 'summerP1', 'lon:Tvar', 'etopo1:Jan20', 'lon:summerTmean', 'lon:maxT', 'etopo1:sum9_diff', 'lon:cwd', 'lon:cwd', 'etopo1:POctSep', 'sum9_diff_cub', 'lat:ddAugJul', 'etopo1:Mar20', 'Mar20', 'etopo1:OctMin', 'max.drop', 'etopo1:Acs', 'etopo1:Acs', 'lat:PcumOctSep', 'lon:ddAugJun', 'lon:winterMin', 'etopo1:summerP1', 'lat:Tmean', 'btl_t1:btl_t2', 'lat:PPT', 'lat:PPT', 'OctTmin', 'lat:maxT', 'etopo1:JanTmin', 'etopo1:summerP2', 'sum9_diff_sq', 'ddAugJul', 'lon:Pmean', 'etopo1:summerP0', 'etopo1:max.drop', 'etopo1:Pmean', 'lon:PPT', 'lon:PPT', 'lon:Tmin', 'etopo1:MarMin', 'etopo1:fallTmean', 'etopo1:winterMin', 'summerP2', 'lon:OptTsum', 'lon:TMarAug', 'AugTmean', 'Tmin', 'lon:MarMin', 'lon:AugTmean', 'lon:mi', 'lon:mi', 'lat:winterMin', 'lon:TOctSep', 'lon:fallTmean']\n",
      "[-2.294979476293855, -2.2277860841484585, 2.030166755533651, 1.662067107347608, -1.6421067559578753, 1.6337224223756135, -1.5907526712321491, -1.5591016740690327, -1.556643998637157, 1.4265869182559212, -1.3467354716198459, 1.3441560614482693, 1.2823234935938435, -1.1725663394168515, 1.169202885080918, -1.1193802130219581, 1.1105055156686565, -1.098826210465772, -1.0050243954679043, -1.0050243954679043, 0.9710554034976598, 0.9661225346130259, 0.9627188743036054, 0.9583384709002928, -0.9479869160075675, -0.9425696785643419, -0.9317780646774702, 0.9279128104539738, 0.9228312514812357, 0.9179356836699495, -0.8796858203255135, -0.8661095428224159, -0.8625670784180315, -0.8582233652065122, -0.8582233652065122, -0.8283432537532521, -0.8283432537532521, 0.826756918348797, -0.8206571350354744, -0.8151743678586337, -0.8151743678586337, -0.7859240987188825, -0.7643526855354565, -0.762647373688813, -0.7159137090206114, 0.7001811411508009, 0.6878379027711622, -0.6784940817406128, -0.6641080634894163, 0.6487485912676019, -0.6463094818742489, 0.6261082758216261, 0.6174319864495977, 0.6173860247689303, 0.6161449515266679, 0.6158042257795573, 0.6121475919857747, 0.5947257774101625, -0.5939618136685286, -0.5848206065797987, -0.5848206065797987, 0.5467416844616475, 0.5406048926378089, 0.5282756096725868, 0.5180534733667939, 0.5171510548081413, -0.5150245851310629, -0.5150245851310629, -0.5021658456827127, -0.5021658456827127, 0.48953942520039645, -0.4885605298385676, -0.4796962717380862, 0.4640006532845693, -0.45455643558914544, -0.4519763958908692, -0.44056989506905153, 0.43738316812055045, 0.43738316812055045, 0.4330352683614473, -0.43259792699950567, -0.41961292342479467, -0.416926189283355, 0.4035935484245583, 0.3964391022082063, 0.39427020807308627, -0.39359121396991636, 0.3933112718421949, 0.3933112718421949, 0.38188690454331126, 0.37838290738235153, 0.3585552671297691, -0.3491246530201609, -0.33594320781584286, -0.32165910500371653, -0.32165910500371653, 0.310503817164637, 0.30687742126863804, 0.30277953634437693, 0.30277953634437693, 0.2949725233363239, 0.28049536343825004, -0.2802951015509092, -0.26478304140278414, 0.24659497303788053, 0.23789798779839066, -0.23576785617763266, -0.23576785617763266, -0.2338230308233985, -0.2338230308233985, 0.22277316938049904, -0.22032449116473188, 0.21741576328360435, 0.21684483085321365, 0.214423117554641, 0.18641448088711515, -0.18616670720465744, 0.18105584741647862, 0.17649837279765188, -0.17279493931856724, -0.16026447467388436, -0.15904752141815873, -0.1567256665461854, 0.15011839339513722, -0.1459957816341426, -0.14369525833789248, 0.13145434052166938, -0.13062683877193482, -0.13062683877193482, 0.11590910658030533, -0.11194889498985879, -0.1082197514851997, -0.10700315449333048, 0.10123168875712658, -0.09890235551416945, 0.09865468829469133, 0.08772420879371208, 0.08772420879371208, -0.08500719853739977, -0.08429389812749945, 0.07879318564933853, -0.07846089370995686, -0.0769568747687541, -0.07649845008628403, -0.07556954466898078, -0.07556954466898078, -0.07297055145158916, -0.07013812637492511, 0.07004342225523234, -0.06865115071769962, -0.06416313005177221, -0.05570847183654532, 0.0520741872484116, -0.050922087870116976, 0.03474240459896884, -0.031170388254876915, 0.030174873951807988, 0.030174873951807988, -0.009472722743818452, -0.007665212045199567, 4.7074522699857534e-07, -1.1429066618977898e-07, 3.230545148424519e-08, 3.134078776180361e-08, 2.868118307199782e-08, -2.6216592280906822e-08, -2.300768052500856e-08, -1.9601262064573142e-08, 1.566408166051086e-08, 1.3994906141407469e-08, 1.3994906141407469e-08, 1.0325053116700846e-08, 8.12879883657361e-09, 3.2889333874033156e-09]\n",
      " Accuracy: 0.9353\n",
      "Elapsed time: 13.39 minutes\n",
      "\n",
      "Testing C = 1.0\n",
      "  l1: ['lon:Jan20', 'lat:TMarAug', 'Tmean', 'lat:TOctSep', 'Acs', 'OctMin', 'lat:Jan20', 'mi', 'sum9_diff', 'etopo1:TMarAug', 'fallTmean', 'lat:Mar20', 'lon:Tmean', 'lat:JanMin', 'lat:summerP1', 'lon:sum9_diff', 'lon:Acs', 'lon:Acs', 'sum9_t2', 'Jan20', 'lon:Mar20', 'lat:OctTmin', 'wd', 'lat:OctMin', 'lat:fallTmean', 'lon:vpd', 'lon:vpd', 'PMarAug', 'etopo1:AugTmax', 'etopo1:AugTmean', 'etopo1:summerTmean', 'lat:Tvar', 'lon:summerP2', 'AugTmax', 'lon:summerP1', 'lat:summerP2', 'lon:POctSep', 'etopo1:TOctSep', 'JanMin', 'lat:summerTmean', 'lon:OctTmin', 'vpd', 'lat:AugTmean', 'etopo1:Tmin', 'TMarAug', 'lon:summerP0', 'lat:mi', 'lat:mi', 'lon:JanTmin', 'etopo1:vpd', 'etopo1:vpd', 'lat:PMarAug', 'lat:POctSep', 'Pmean', 'PPT', 'MarTmin', 'lon:ddAugJul', 'lon:PcumOctSep', 'lat:AugTmax', 'etopo1:maxT', 'summerTmean', 'lat:Acs', 'lat:Acs', 'etopo1:Tmean', 'JanTmin', 'etopo1:ddAugJul', 'lon:OctMin', 'sum9_t1:sum9_t2', 'lat:cwd', 'lat:cwd', 'etopo1:Tvar', 'TOctSep', 'lon:AugTmax', 'lon:PMarAug', 'lat:summerP0', 'Tvar', 'OptTsum', 'lat:sum9_diff', 'lat:OptTsum', 'lat:ddAugJun', 'summerP0', 'lat:Pmean', 'ddAugJun', 'lat:MarMin', 'lat:Tmin', 'etopo1:cwd', 'etopo1:cwd', 'lat:minT', 'etopo1:mi', 'etopo1:mi', 'lon:ddAugJun', 'etopo1:OctTmin', 'lat:wd', 'lat:wd', 'lon:wd', 'lon:wd', 'Mar20', 'etopo1:PcumOctSep', 'lon:JanMin', 'MarMin', 'Tmin', 'sum9_t1', 'maxT', 'etopo1:wd', 'etopo1:wd', 'etopo1:ddAugJun', 'cwd', 'max.drop', 'PcumOctSep', 'summerP1', 'etopo1:MarTmin', 'lon:cwd', 'lon:cwd', 'lat:max.drop', 'lon:MarTmin', 'lon:Tvar', 'lat:Tmean', 'lat:vpd', 'lat:vpd', 'btl_t1', 'btl_t2', 'lat:ddAugJul', 'etopo1:PPT', 'etopo1:PPT', 'AugMaxT', 'ddAugJul', 'etopo1:PMarAug', 'AugTmean', 'lon:winterMin', 'lon:Tmin', 'etopo1:minT', 'winterMin', 'lon:minT', 'POctSep', 'lon:OptTsum', 'etopo1:AugMaxT', 'etopo1:Pmean', 'lon:MarMin', 'etopo1:JanMin', 'etopo1:Jan20', 'lat:AugMaxT', 'lon:maxT', 'etopo1:Mar20', 'lon:Pmean', 'etopo1:sum9_diff', 'lon:max.drop', 'lon:fallTmean', 'etopo1:JanTmin', 'lat:MarTmin', 'etopo1:summerP0', 'etopo1:fallTmean', 'lon:PPT', 'lon:PPT', 'sum9_diff_cub', 'lat:PcumOctSep', 'etopo1:MarMin', 'etopo1:OctMin', 'etopo1:Acs', 'etopo1:Acs', 'lon:summerTmean', 'lon:TOctSep', 'etopo1:summerP2', 'btl_t1:btl_t2', 'lat:JanTmin', 'sum9_diff_sq', 'summerP2', 'lon:TMarAug', 'OctTmin', 'lat:maxT', 'lon:AugMaxT', 'etopo1:winterMin', 'lat:PPT', 'lat:PPT', 'lon:mi', 'lon:mi', 'etopo1:OptTsum', 'lat:winterMin', 'etopo1:summerP1', 'minT', 'etopo1:POctSep', 'lon:AugTmean', 'etopo1:max.drop']\n",
      "[-2.7119613486754326, 2.2827788276604974, -2.1785423239535873, 2.158296005139796, -2.0514624538323343, -1.9690964817969527, -1.8082278031384238, 1.7656350163724115, -1.6957868741894166, 1.530608432677549, -1.5086404666033884, -1.479794321901433, 1.4794079643911038, -1.4645103815287004, 1.4603991105590113, -1.4292573295799293, -1.4178385779059803, -1.4178385779059803, 1.3737376989913848, -1.363297378328969, -1.3183271633876648, -1.30571075282284, 1.3033362577514311, 1.297470975619391, 1.2974697670117772, -1.230850393875809, -1.230850393875809, 1.2190568947290827, -1.1895439859593433, 1.1885559530817302, -1.1769056341284305, -1.1295784735589425, 1.1195475947809053, 1.1193703713901808, 1.1193572714414568, 1.1125101504071309, 1.110724364750625, -1.106878287704147, 1.1029265039227856, 1.0783462510084576, -1.0762106371341627, -1.0620009324942685, -1.055305678559788, 1.038983629660968, -1.0271901197234483, 1.0161567018794073, -0.9847271901530052, -0.9847271901530052, 0.9686430375724265, -0.9672543814941948, -0.9672543814941948, -0.9412309770017874, 0.9391060428208597, 0.9203037655086012, 0.911131409232343, -0.8431339425628761, -0.8288053364790725, 0.8280755198113585, -0.8185441574322193, 0.7934900720609768, -0.780543562416791, -0.7564253002523073, -0.7564253002523073, -0.7510566227064769, 0.7356409565975497, 0.7352101321350987, -0.7242206081431397, -0.713407784707244, -0.6960724043541701, -0.6960724043541701, 0.6939254357718212, -0.6885820589281323, -0.6843071546071471, 0.675583260974822, 0.6723935613276333, -0.6697617474226081, -0.6562255756811285, 0.6291084238837122, 0.617100863194164, -0.5913753621845778, 0.5857913252686578, -0.5594944932366848, -0.5551058383935611, 0.5519145883105432, 0.5365162859114488, 0.5214711812796783, 0.5214711812796783, 0.5189261820398886, 0.5035429285297088, 0.5035429285297088, -0.4998597814102348, 0.4978137719051383, -0.47752981564521496, -0.47752981564521496, 0.47583277645824545, 0.47583277645824545, 0.4676533380397311, 0.4652214070853067, 0.46514612994534416, 0.45376449805372693, -0.4462515965847784, 0.44502118171635, -0.4234643042986699, -0.4135952087023646, -0.4135952087023646, 0.41102418677111624, -0.40989949760894495, 0.4070120791552597, 0.4058308767238664, -0.401776980743256, -0.3903225457012232, -0.3457600289421284, -0.3457600289421284, -0.34357984966171656, 0.32227350885481404, -0.3196030009087249, -0.316023815118699, -0.3103559458138635, -0.3103559458138635, 0.3102039358729551, 0.30563133439075285, -0.28827215981247206, -0.2863449500418789, -0.2863449500418789, 0.2841455014943238, -0.27304144964999033, 0.26382572832571743, 0.2537759473651075, 0.2518257869666135, -0.2513183620385255, 0.2308041366210173, 0.223569885965119, 0.21821072985120193, 0.2121458520066392, 0.20831906871048292, 0.2062307532033829, -0.20478552631816138, 0.16551945398710968, 0.16374839918844303, 0.15532211352421899, -0.15502821703777375, -0.15369127776232544, -0.15235651689277457, 0.15068078552038286, 0.14149740557495885, 0.13361311079501564, 0.13323441454006069, 0.13268925059069187, -0.12852615480564594, -0.12722176943559835, 0.11676235000349477, 0.11400323587340268, 0.11400323587340268, -0.11135410307773831, -0.10036926693117008, -0.08607656858935035, -0.08283653147692362, 0.08112782686024615, 0.08112782686024615, -0.08069988614918056, -0.07958229813796554, -0.07741360728913092, -0.07560365058602651, 0.07171778317862051, -0.06391533935868006, 0.06270410657350826, 0.061479014956693404, 0.05042225658866234, 0.04274212221698953, 0.037703664101163346, -0.036889411488684645, -0.03581486629678822, -0.03581486629678822, -0.02601170156438225, -0.02601170156438225, 0.021669304980110327, -0.01669121091139726, -0.016086981802257434, -0.010057664915826, 0.008215976527893458, 0.0039227070257479265, 1.340910409641286e-07]\n",
      " Accuracy: 0.9355\n",
      "Elapsed time: 18.12 minutes\n",
      "\n"
     ]
    }
   ],
   "source": [
    "# Find optimal regularization via best validation-set accuracy\n",
    "l1_mods = []\n",
    "#l2_mods = []\n",
    "Cs = np.logspace(-4, 0, 5)\n",
    "best_C = np.nan\n",
    "best_accuracy = 0\n",
    "t0 = time.time()\n",
    "best_penalty = None\n",
    "\n",
    "for C in Cs:\n",
    "    print('Testing C =', C)\n",
    "    #for penalty in ['l1', 'l2']: #['l1', 'l2']:\n",
    "    penalty='l1'\n",
    "    print('  %s:' % penalty, end=' ')\n",
    "    logistic_clf = LogisticRegression(\n",
    "        C=C, penalty=penalty, solver='saga', n_jobs=-1)\n",
    "    logistic_clf.fit(X_train, y_train)\n",
    "    preds = logistic_clf.predict(X_valid)\n",
    "    accuracy = sum(y_valid == preds) / len(preds)\n",
    "    a = [[pred, coef] for pred, coef in zip(predictors, logistic_clf.coef_[0])]\n",
    "    sig_preds = []\n",
    "    sig_coefs = []\n",
    "    for pred, coef in a:\n",
    "        if abs(coef) > 0:\n",
    "            sig_preds.append(pred)\n",
    "            sig_coefs.append(coef)\n",
    "    print([sig_preds[i] for i in argsort(np.abs(sig_coefs))[::-1]])\n",
    "    print([sig_coefs[i] for i in argsort(np.abs(sig_coefs))[::-1]])\n",
    "    if (accuracy > best_accuracy):\n",
    "        best_C = C\n",
    "        best_accuaracy = accuracy\n",
    "        best_penalty = penalty\n",
    "    print(' Accuracy:', round(accuracy, 4))\n",
    "    if penalty == 'l1':\n",
    "        l1_mods.append(accuracy)\n",
    "    else:\n",
    "        l2_mods.append(accuracy)\n",
    "    print('Elapsed time: %.2f minutes\\n' % ((time.time() - t0) / 60))"
   ]
  },
  {
   "cell_type": "code",
   "execution_count": 109,
   "metadata": {
    "collapsed": true
   },
   "outputs": [],
   "source": [
    "!say \"I'm done in the test model\""
   ]
  },
  {
   "cell_type": "code",
   "execution_count": 110,
   "metadata": {
    "collapsed": false
   },
   "outputs": [
    {
     "data": {
      "image/png": "[encoded data removed]",
      "text/plain": [
       "<Figure size 432x288 with 1 Axes>"
      ]
     },
     "metadata": {},
     "output_type": "display_data"
    }
   ],
   "source": [
    "plt.plot(Cs, l1_mods, label='L1 Reg.');\n",
    "#plt.plot(Cs, l2_mods, label='L2 Reg.');\n",
    "plt.xscale('log');\n",
    "plt.xlabel('C');\n",
    "plt.ylabel('Accuracy');\n",
    "plt.legend(loc='best');"
   ]
  },
  {
   "cell_type": "code",
   "execution_count": 111,
   "metadata": {
    "collapsed": false
   },
   "outputs": [
    {
     "data": {
      "text/plain": [
       "[(0.0001, 0.9322484728346616),\n",
       " (0.001, 0.9346049597475626),\n",
       " (0.01, 0.9349892795015979),\n",
       " (0.1, 0.9353230308669445),\n",
       " (1.0, 0.9354545086775355)]"
      ]
     },
     "execution_count": 111,
     "metadata": {},
     "output_type": "execute_result"
    }
   ],
   "source": [
    "[(c, acc) for c, acc in zip(Cs, l1_mods)]"
   ]
  },
  {
   "cell_type": "code",
   "execution_count": 112,
   "metadata": {
    "collapsed": false
   },
   "outputs": [],
   "source": [
    "best_C = 1"
   ]
  },
  {
   "cell_type": "code",
   "execution_count": null,
   "metadata": {
    "collapsed": false
   },
   "outputs": [],
   "source": [
    "t0 = time.time()\n",
    "logistic_clf = LogisticRegression(C=best_C, penalty='l1', solver='saga', n_jobs=-1)\n",
    "logistic_clf.fit(X_train, y_train)\n",
    "preds = logistic_clf.predict(X_test)\n",
    "probs = logistic_clf.predict_proba(X_test)\n",
    "accuracy = sum(y_test == preds) / len(preds)\n",
    "print('Elapsed time: %.2f minutes\\n' % ((time.time() - t0) / 60))\n",
    "print('Accuracy:', accuracy)"
   ]
  },
  {
   "cell_type": "code",
   "execution_count": 33,
   "metadata": {
    "collapsed": true
   },
   "outputs": [],
   "source": [
    "def get_predictions_at_threshold(pred_ps, threshold):\n",
    "    return 1 * (pred_ps >= threshold)\n",
    "\n",
    "def threshold_plot(pred_ps, targets):\n",
    "    thresholds = np.linspace(0, 1, 500)\n",
    "    accuracies = []\n",
    "    n = len(pred_ps)\n",
    "\n",
    "    for threshold in thresholds:\n",
    "        preds = get_predictions_at_threshold(pred_ps, threshold)\n",
    "        accuracies.append((preds == targets).sum() / n)\n",
    "        \n",
    "    plt.plot(thresholds, accuracies);\n",
    "    optimal_threshold = thresholds[np.argmax(accuracies)]\n",
    "    optimal_accuracy = max(accuracies)\n",
    "    plt.plot([optimal_threshold, optimal_threshold], \n",
    "             [min(accuracies), max(accuracies)], \n",
    "             'r')\n",
    "    plt.plot([0, 1], [optimal_accuracy, optimal_accuracy], 'r')\n",
    "    plt.xlabel('Threshold for predicting \"Renewal\"')\n",
    "    plt.ylabel('Accuracy')\n",
    "    plt.show()\n",
    "    return {'threshold': optimal_threshold, 'accuracy': optimal_accuracy}"
   ]
  },
  {
   "cell_type": "code",
   "execution_count": null,
   "metadata": {
    "collapsed": false
   },
   "outputs": [],
   "source": [
    "pred_ps = logistic_clf.predict_proba(X_test)\n",
    "print(pred_ps[:5])\n",
    "pred_ps = np.array([p[1] for p in pred_ps])\n",
    "pred_ps[:5]\n",
    "\n",
    "THRESHOLD = 0.5\n",
    "preds = get_predictions_at_threshold(pred_ps, THRESHOLD)\n",
    "preds[:5]\n",
    "\n",
    "best_threshold = threshold_plot(pred_ps, y_test);\n",
    "print(best_threshold)"
   ]
  },
  {
   "cell_type": "code",
   "execution_count": 35,
   "metadata": {
    "collapsed": false
   },
   "outputs": [
    {
     "name": "stdout",
     "output_type": "stream",
     "text": [
      "Confusion Matrix:\n",
      "         Predicted:\n",
      "         \t1\t\t0\n",
      "Actual: 1\t9576\t\t2924\n",
      "        0\t2895\t\t83788\n",
      "Accuracy:  0.9413306715868647\n",
      "Precision: 0.7678614385374067\n",
      "Recall:    0.76608\n",
      "F1:        0.7669696848344079\n"
     ]
    }
   ],
   "source": [
    "cm = util.make_confusion_matrix(y_test, pred_ps, 0.5)\n",
    "metrics = util.get_metrics(cm)"
   ]
  },
  {
   "cell_type": "code",
   "execution_count": 36,
   "metadata": {
    "collapsed": false
   },
   "outputs": [
    {
     "name": "stdout",
     "output_type": "stream",
     "text": [
      "Confusion Matrix:\n",
      "         Predicted:\n",
      "         \t1\t\t0\n",
      "Actual: 1\t9329\t\t3171\n",
      "        0\t2573\t\t84110\n",
      "Accuracy:  0.9420868495609127\n",
      "Precision: 0.7838178457402117\n",
      "Recall:    0.74632\n",
      "F1:        0.7646094582411277\n"
     ]
    }
   ],
   "source": [
    "cm = util.make_confusion_matrix(\n",
    "    y_test, pred_ps, best_threshold['threshold'])\n",
    "metrics = util.get_metrics(cm)"
   ]
  },
  {
   "cell_type": "code",
   "execution_count": 37,
   "metadata": {
    "collapsed": false
   },
   "outputs": [
    {
     "name": "stdout",
     "output_type": "stream",
     "text": [
      "AUC:       0.9716972333675578\n"
     ]
    }
   ],
   "source": [
    "auc_metrics = util.get_auc(y_test, pred_ps)"
   ]
  },
  {
   "cell_type": "code",
   "execution_count": 38,
   "metadata": {
    "collapsed": false
   },
   "outputs": [
    {
     "data": {
      "image/png": "[encoded data removed]",
      "text/plain": [
       "<Figure size 432x288 with 1 Axes>"
      ]
     },
     "metadata": {},
     "output_type": "display_data"
    }
   ],
   "source": [
    "util.plot_roc(auc_metrics['fpr'], auc_metrics['tpr'])"
   ]
  },
  {
   "cell_type": "code",
   "execution_count": 39,
   "metadata": {
    "collapsed": false
   },
   "outputs": [
    {
     "data": {
      "text/html": [
       "<div>\n",
       "<style scoped>\n",
       "    .dataframe tbody tr th:only-of-type {\n",
       "        vertical-align: middle;\n",
       "    }\n",
       "\n",
       "    .dataframe tbody tr th {\n",
       "        vertical-align: top;\n",
       "    }\n",
       "\n",
       "    .dataframe thead th {\n",
       "        text-align: right;\n",
       "    }\n",
       "</style>\n",
       "<table border=\"1\" class=\"dataframe\">\n",
       "  <thead>\n",
       "    <tr style=\"text-align: right;\">\n",
       "      <th></th>\n",
       "      <th>predictor</th>\n",
       "      <th>coef</th>\n",
       "    </tr>\n",
       "  </thead>\n",
       "  <tbody>\n",
       "    <tr>\n",
       "      <th>169</th>\n",
       "      <td>vgt</td>\n",
       "      <td>3.795878</td>\n",
       "    </tr>\n",
       "    <tr>\n",
       "      <th>118</th>\n",
       "      <td>lon:Jan20</td>\n",
       "      <td>-3.472720</td>\n",
       "    </tr>\n",
       "    <tr>\n",
       "      <th>29</th>\n",
       "      <td>etopo1</td>\n",
       "      <td>3.225612</td>\n",
       "    </tr>\n",
       "    <tr>\n",
       "      <th>76</th>\n",
       "      <td>lat:Jan20</td>\n",
       "      <td>-3.160094</td>\n",
       "    </tr>\n",
       "    <tr>\n",
       "      <th>90</th>\n",
       "      <td>lat:TMarAug</td>\n",
       "      <td>2.584997</td>\n",
       "    </tr>\n",
       "    <tr>\n",
       "      <th>91</th>\n",
       "      <td>lat:TOctSep</td>\n",
       "      <td>2.572835</td>\n",
       "    </tr>\n",
       "    <tr>\n",
       "      <th>10</th>\n",
       "      <td>OctMin</td>\n",
       "      <td>-2.572545</td>\n",
       "    </tr>\n",
       "    <tr>\n",
       "      <th>79</th>\n",
       "      <td>lat:Mar20</td>\n",
       "      <td>-2.315299</td>\n",
       "    </tr>\n",
       "    <tr>\n",
       "      <th>151</th>\n",
       "      <td>lon:vpd</td>\n",
       "      <td>-2.284083</td>\n",
       "    </tr>\n",
       "    <tr>\n",
       "      <th>20</th>\n",
       "      <td>Tmean</td>\n",
       "      <td>-2.279173</td>\n",
       "    </tr>\n",
       "    <tr>\n",
       "      <th>114</th>\n",
       "      <td>lon:Acs</td>\n",
       "      <td>-2.237106</td>\n",
       "    </tr>\n",
       "    <tr>\n",
       "      <th>111</th>\n",
       "      <td>lat_cub</td>\n",
       "      <td>-2.163836</td>\n",
       "    </tr>\n",
       "    <tr>\n",
       "      <th>66</th>\n",
       "      <td>etopo1:vpd</td>\n",
       "      <td>-2.062247</td>\n",
       "    </tr>\n",
       "    <tr>\n",
       "      <th>134</th>\n",
       "      <td>lon:Tmean</td>\n",
       "      <td>1.920269</td>\n",
       "    </tr>\n",
       "    <tr>\n",
       "      <th>0</th>\n",
       "      <td>Acs</td>\n",
       "      <td>-1.902735</td>\n",
       "    </tr>\n",
       "    <tr>\n",
       "      <th>77</th>\n",
       "      <td>lat:JanMin</td>\n",
       "      <td>-1.831911</td>\n",
       "    </tr>\n",
       "    <tr>\n",
       "      <th>141</th>\n",
       "      <td>lon:lat:etopo1</td>\n",
       "      <td>1.734845</td>\n",
       "    </tr>\n",
       "    <tr>\n",
       "      <th>121</th>\n",
       "      <td>lon:Mar20</td>\n",
       "      <td>-1.670915</td>\n",
       "    </tr>\n",
       "    <tr>\n",
       "      <th>159</th>\n",
       "      <td>sum9_diff</td>\n",
       "      <td>-1.649950</td>\n",
       "    </tr>\n",
       "    <tr>\n",
       "      <th>105</th>\n",
       "      <td>lat:summerP1</td>\n",
       "      <td>1.604167</td>\n",
       "    </tr>\n",
       "    <tr>\n",
       "      <th>149</th>\n",
       "      <td>lon:summerP2</td>\n",
       "      <td>1.564559</td>\n",
       "    </tr>\n",
       "    <tr>\n",
       "      <th>83</th>\n",
       "      <td>lat:OctTmin</td>\n",
       "      <td>-1.552244</td>\n",
       "    </tr>\n",
       "    <tr>\n",
       "      <th>49</th>\n",
       "      <td>etopo1:TOctSep</td>\n",
       "      <td>-1.535831</td>\n",
       "    </tr>\n",
       "    <tr>\n",
       "      <th>147</th>\n",
       "      <td>lon:summerP0</td>\n",
       "      <td>1.533398</td>\n",
       "    </tr>\n",
       "    <tr>\n",
       "      <th>13</th>\n",
       "      <td>PMarAug</td>\n",
       "      <td>1.525229</td>\n",
       "    </tr>\n",
       "    <tr>\n",
       "      <th>65</th>\n",
       "      <td>etopo1:summerTmean</td>\n",
       "      <td>-1.520804</td>\n",
       "    </tr>\n",
       "    <tr>\n",
       "      <th>1</th>\n",
       "      <td>AugMaxT</td>\n",
       "      <td>1.506152</td>\n",
       "    </tr>\n",
       "    <tr>\n",
       "      <th>48</th>\n",
       "      <td>etopo1:TMarAug</td>\n",
       "      <td>1.486876</td>\n",
       "    </tr>\n",
       "    <tr>\n",
       "      <th>53</th>\n",
       "      <td>etopo1:cwd</td>\n",
       "      <td>1.465670</td>\n",
       "    </tr>\n",
       "    <tr>\n",
       "      <th>148</th>\n",
       "      <td>lon:summerP1</td>\n",
       "      <td>1.450565</td>\n",
       "    </tr>\n",
       "    <tr>\n",
       "      <th>...</th>\n",
       "      <td>...</td>\n",
       "      <td>...</td>\n",
       "    </tr>\n",
       "    <tr>\n",
       "      <th>16</th>\n",
       "      <td>PcumOctSep</td>\n",
       "      <td>0.133402</td>\n",
       "    </tr>\n",
       "    <tr>\n",
       "      <th>122</th>\n",
       "      <td>lon:MarMin</td>\n",
       "      <td>0.114977</td>\n",
       "    </tr>\n",
       "    <tr>\n",
       "      <th>94</th>\n",
       "      <td>lat:Tvar</td>\n",
       "      <td>-0.112595</td>\n",
       "    </tr>\n",
       "    <tr>\n",
       "      <th>73</th>\n",
       "      <td>lat:AugMaxT</td>\n",
       "      <td>0.110273</td>\n",
       "    </tr>\n",
       "    <tr>\n",
       "      <th>160</th>\n",
       "      <td>sum9_diff_cub</td>\n",
       "      <td>-0.104361</td>\n",
       "    </tr>\n",
       "    <tr>\n",
       "      <th>119</th>\n",
       "      <td>lon:JanMin</td>\n",
       "      <td>0.099944</td>\n",
       "    </tr>\n",
       "    <tr>\n",
       "      <th>116</th>\n",
       "      <td>lon:AugTmax</td>\n",
       "      <td>-0.091756</td>\n",
       "    </tr>\n",
       "    <tr>\n",
       "      <th>89</th>\n",
       "      <td>lat:Pmean</td>\n",
       "      <td>-0.091115</td>\n",
       "    </tr>\n",
       "    <tr>\n",
       "      <th>28</th>\n",
       "      <td>ddAugJun</td>\n",
       "      <td>-0.089010</td>\n",
       "    </tr>\n",
       "    <tr>\n",
       "      <th>38</th>\n",
       "      <td>etopo1:MarMin</td>\n",
       "      <td>-0.085910</td>\n",
       "    </tr>\n",
       "    <tr>\n",
       "      <th>136</th>\n",
       "      <td>lon:Tvar</td>\n",
       "      <td>-0.077810</td>\n",
       "    </tr>\n",
       "    <tr>\n",
       "      <th>44</th>\n",
       "      <td>etopo1:POctSep</td>\n",
       "      <td>-0.065328</td>\n",
       "    </tr>\n",
       "    <tr>\n",
       "      <th>40</th>\n",
       "      <td>etopo1:OctMin</td>\n",
       "      <td>-0.060436</td>\n",
       "    </tr>\n",
       "    <tr>\n",
       "      <th>24</th>\n",
       "      <td>btl_t1:btl_t2</td>\n",
       "      <td>-0.058026</td>\n",
       "    </tr>\n",
       "    <tr>\n",
       "      <th>140</th>\n",
       "      <td>lon:fallTmean</td>\n",
       "      <td>0.055017</td>\n",
       "    </tr>\n",
       "    <tr>\n",
       "      <th>93</th>\n",
       "      <td>lat:Tmin</td>\n",
       "      <td>-0.044564</td>\n",
       "    </tr>\n",
       "    <tr>\n",
       "      <th>63</th>\n",
       "      <td>etopo1:summerP1</td>\n",
       "      <td>0.040371</td>\n",
       "    </tr>\n",
       "    <tr>\n",
       "      <th>68</th>\n",
       "      <td>etopo1:winterMin</td>\n",
       "      <td>-0.037484</td>\n",
       "    </tr>\n",
       "    <tr>\n",
       "      <th>35</th>\n",
       "      <td>etopo1:JanMin</td>\n",
       "      <td>0.036325</td>\n",
       "    </tr>\n",
       "    <tr>\n",
       "      <th>36</th>\n",
       "      <td>etopo1:JanTmin</td>\n",
       "      <td>0.035914</td>\n",
       "    </tr>\n",
       "    <tr>\n",
       "      <th>161</th>\n",
       "      <td>sum9_diff_sq</td>\n",
       "      <td>-0.031556</td>\n",
       "    </tr>\n",
       "    <tr>\n",
       "      <th>31</th>\n",
       "      <td>etopo1:AugMaxT</td>\n",
       "      <td>-0.029952</td>\n",
       "    </tr>\n",
       "    <tr>\n",
       "      <th>21</th>\n",
       "      <td>Tmin</td>\n",
       "      <td>0.026318</td>\n",
       "    </tr>\n",
       "    <tr>\n",
       "      <th>14</th>\n",
       "      <td>POctSep</td>\n",
       "      <td>0.024324</td>\n",
       "    </tr>\n",
       "    <tr>\n",
       "      <th>57</th>\n",
       "      <td>etopo1:max.drop</td>\n",
       "      <td>0.014952</td>\n",
       "    </tr>\n",
       "    <tr>\n",
       "      <th>64</th>\n",
       "      <td>etopo1:summerP2</td>\n",
       "      <td>-0.013890</td>\n",
       "    </tr>\n",
       "    <tr>\n",
       "      <th>34</th>\n",
       "      <td>etopo1:Jan20</td>\n",
       "      <td>0.007196</td>\n",
       "    </tr>\n",
       "    <tr>\n",
       "      <th>78</th>\n",
       "      <td>lat:JanTmin</td>\n",
       "      <td>0.003081</td>\n",
       "    </tr>\n",
       "    <tr>\n",
       "      <th>55</th>\n",
       "      <td>etopo1:ddAugJun</td>\n",
       "      <td>-0.002674</td>\n",
       "    </tr>\n",
       "    <tr>\n",
       "      <th>42</th>\n",
       "      <td>etopo1:OptTsum</td>\n",
       "      <td>0.002320</td>\n",
       "    </tr>\n",
       "  </tbody>\n",
       "</table>\n",
       "<p>173 rows × 2 columns</p>\n",
       "</div>"
      ],
      "text/plain": [
       "              predictor      coef\n",
       "169                 vgt  3.795878\n",
       "118           lon:Jan20 -3.472720\n",
       "29               etopo1  3.225612\n",
       "76            lat:Jan20 -3.160094\n",
       "90          lat:TMarAug  2.584997\n",
       "91          lat:TOctSep  2.572835\n",
       "10               OctMin -2.572545\n",
       "79            lat:Mar20 -2.315299\n",
       "151             lon:vpd -2.284083\n",
       "20                Tmean -2.279173\n",
       "114             lon:Acs -2.237106\n",
       "111             lat_cub -2.163836\n",
       "66           etopo1:vpd -2.062247\n",
       "134           lon:Tmean  1.920269\n",
       "0                   Acs -1.902735\n",
       "77           lat:JanMin -1.831911\n",
       "141      lon:lat:etopo1  1.734845\n",
       "121           lon:Mar20 -1.670915\n",
       "159           sum9_diff -1.649950\n",
       "105        lat:summerP1  1.604167\n",
       "149        lon:summerP2  1.564559\n",
       "83          lat:OctTmin -1.552244\n",
       "49       etopo1:TOctSep -1.535831\n",
       "147        lon:summerP0  1.533398\n",
       "13              PMarAug  1.525229\n",
       "65   etopo1:summerTmean -1.520804\n",
       "1               AugMaxT  1.506152\n",
       "48       etopo1:TMarAug  1.486876\n",
       "53           etopo1:cwd  1.465670\n",
       "148        lon:summerP1  1.450565\n",
       "..                  ...       ...\n",
       "16           PcumOctSep  0.133402\n",
       "122          lon:MarMin  0.114977\n",
       "94             lat:Tvar -0.112595\n",
       "73          lat:AugMaxT  0.110273\n",
       "160       sum9_diff_cub -0.104361\n",
       "119          lon:JanMin  0.099944\n",
       "116         lon:AugTmax -0.091756\n",
       "89            lat:Pmean -0.091115\n",
       "28             ddAugJun -0.089010\n",
       "38        etopo1:MarMin -0.085910\n",
       "136            lon:Tvar -0.077810\n",
       "44       etopo1:POctSep -0.065328\n",
       "40        etopo1:OctMin -0.060436\n",
       "24        btl_t1:btl_t2 -0.058026\n",
       "140       lon:fallTmean  0.055017\n",
       "93             lat:Tmin -0.044564\n",
       "63      etopo1:summerP1  0.040371\n",
       "68     etopo1:winterMin -0.037484\n",
       "35        etopo1:JanMin  0.036325\n",
       "36       etopo1:JanTmin  0.035914\n",
       "161        sum9_diff_sq -0.031556\n",
       "31       etopo1:AugMaxT -0.029952\n",
       "21                 Tmin  0.026318\n",
       "14              POctSep  0.024324\n",
       "57      etopo1:max.drop  0.014952\n",
       "64      etopo1:summerP2 -0.013890\n",
       "34         etopo1:Jan20  0.007196\n",
       "78          lat:JanTmin  0.003081\n",
       "55      etopo1:ddAugJun -0.002674\n",
       "42       etopo1:OptTsum  0.002320\n",
       "\n",
       "[173 rows x 2 columns]"
      ]
     },
     "execution_count": 39,
     "metadata": {},
     "output_type": "execute_result"
    }
   ],
   "source": [
    "coefs = pd.DataFrame(\n",
    "    [[pred, coef] \n",
    "     for pred, coef in zip(predictors, logistic_clf.coef_[0])], \n",
    "    columns=['predictor', 'coef'])\n",
    "coefs['abs'] = np.abs(coefs.coef)\n",
    "coefs = coefs.sort_values('abs', ascending=False)\n",
    "coefs = coefs.drop(['abs'], axis=1)\n",
    "coefs"
   ]
  },
  {
   "cell_type": "code",
   "execution_count": 40,
   "metadata": {
    "collapsed": false
   },
   "outputs": [
    {
     "data": {
      "text/plain": [
       "array([[9.99999717e-01, 2.83467116e-07],\n",
       "       [9.99999458e-01, 5.42235819e-07],\n",
       "       [9.99999644e-01, 3.56024298e-07],\n",
       "       ...,\n",
       "       [9.99983728e-01, 1.62715190e-05],\n",
       "       [9.99982790e-01, 1.72096331e-05],\n",
       "       [9.99984858e-01, 1.51416534e-05]])"
      ]
     },
     "execution_count": 40,
     "metadata": {},
     "output_type": "execute_result"
    }
   ],
   "source": [
    "logistic_clf.predict_proba(X_train)"
   ]
  },
  {
   "cell_type": "code",
   "execution_count": 41,
   "metadata": {
    "collapsed": true
   },
   "outputs": [],
   "source": [
    "pred_ps_train = logistic_clf.predict_proba(X_train)\n",
    "pred_ps_train = np.array([p[1] for p in pred_ps_train])\n",
    "\n",
    "pred_ps_valid = logistic_clf.predict_proba(X_valid)\n",
    "pred_ps_valid = np.array([p[1] for p in pred_ps_valid])\n",
    "\n",
    "full_train['probs'] = pred_ps_train\n",
    "full_train['preds'] = get_predictions_at_threshold(\n",
    "    pred_ps_train, best_threshold['threshold'])\n",
    "\n",
    "\n",
    "full_valid['probs'] = pred_ps_valid\n",
    "full_valid['preds'] = get_predictions_at_threshold(\n",
    "    pred_ps_valid, best_threshold['threshold'])"
   ]
  },
  {
   "cell_type": "code",
   "execution_count": 42,
   "metadata": {
    "collapsed": false
   },
   "outputs": [
    {
     "data": {
      "text/html": [
       "<div>\n",
       "<style scoped>\n",
       "    .dataframe tbody tr th:only-of-type {\n",
       "        vertical-align: middle;\n",
       "    }\n",
       "\n",
       "    .dataframe tbody tr th {\n",
       "        vertical-align: top;\n",
       "    }\n",
       "\n",
       "    .dataframe thead th {\n",
       "        text-align: right;\n",
       "    }\n",
       "</style>\n",
       "<table border=\"1\" class=\"dataframe\">\n",
       "  <thead>\n",
       "    <tr style=\"text-align: right;\">\n",
       "      <th></th>\n",
       "      <th>Acs</th>\n",
       "      <th>AugMaxT</th>\n",
       "      <th>AugTmax</th>\n",
       "      <th>AugTmean</th>\n",
       "      <th>Jan20</th>\n",
       "      <th>JanMin</th>\n",
       "      <th>JanTmin</th>\n",
       "      <th>Mar20</th>\n",
       "      <th>MarMin</th>\n",
       "      <th>MarTmin</th>\n",
       "      <th>...</th>\n",
       "      <th>vgt</th>\n",
       "      <th>vpd</th>\n",
       "      <th>wd</th>\n",
       "      <th>winterMin</th>\n",
       "      <th>x</th>\n",
       "      <th>y</th>\n",
       "      <th>year</th>\n",
       "      <th>btl</th>\n",
       "      <th>probs</th>\n",
       "      <th>preds</th>\n",
       "    </tr>\n",
       "  </thead>\n",
       "  <tbody>\n",
       "    <tr>\n",
       "      <th>0</th>\n",
       "      <td>0.0</td>\n",
       "      <td>40.320885</td>\n",
       "      <td>37.172668</td>\n",
       "      <td>28.542564</td>\n",
       "      <td>0</td>\n",
       "      <td>-7.754573</td>\n",
       "      <td>-0.617069</td>\n",
       "      <td>0</td>\n",
       "      <td>-4.906324</td>\n",
       "      <td>4.892391</td>\n",
       "      <td>...</td>\n",
       "      <td>0</td>\n",
       "      <td>387627.763293</td>\n",
       "      <td>-7.549322</td>\n",
       "      <td>-8.055787</td>\n",
       "      <td>-390000.0</td>\n",
       "      <td>-2040000.0</td>\n",
       "      <td>2015</td>\n",
       "      <td>0</td>\n",
       "      <td>2.345047e-07</td>\n",
       "      <td>0</td>\n",
       "    </tr>\n",
       "    <tr>\n",
       "      <th>1</th>\n",
       "      <td>0.0</td>\n",
       "      <td>40.502707</td>\n",
       "      <td>37.358329</td>\n",
       "      <td>28.728538</td>\n",
       "      <td>0</td>\n",
       "      <td>-7.831432</td>\n",
       "      <td>-0.501957</td>\n",
       "      <td>0</td>\n",
       "      <td>-4.817822</td>\n",
       "      <td>5.149851</td>\n",
       "      <td>...</td>\n",
       "      <td>0</td>\n",
       "      <td>403269.338114</td>\n",
       "      <td>-43.963725</td>\n",
       "      <td>-7.897553</td>\n",
       "      <td>-380000.0</td>\n",
       "      <td>-2040000.0</td>\n",
       "      <td>2015</td>\n",
       "      <td>0</td>\n",
       "      <td>2.140744e-07</td>\n",
       "      <td>0</td>\n",
       "    </tr>\n",
       "    <tr>\n",
       "      <th>2</th>\n",
       "      <td>0.0</td>\n",
       "      <td>40.605501</td>\n",
       "      <td>37.344373</td>\n",
       "      <td>28.714929</td>\n",
       "      <td>0</td>\n",
       "      <td>-7.490612</td>\n",
       "      <td>-0.537551</td>\n",
       "      <td>0</td>\n",
       "      <td>-4.754256</td>\n",
       "      <td>5.106586</td>\n",
       "      <td>...</td>\n",
       "      <td>0</td>\n",
       "      <td>404661.530622</td>\n",
       "      <td>-36.603203</td>\n",
       "      <td>-7.796747</td>\n",
       "      <td>-370000.0</td>\n",
       "      <td>-2040000.0</td>\n",
       "      <td>2015</td>\n",
       "      <td>0</td>\n",
       "      <td>2.229605e-07</td>\n",
       "      <td>0</td>\n",
       "    </tr>\n",
       "    <tr>\n",
       "      <th>3</th>\n",
       "      <td>0.0</td>\n",
       "      <td>40.957636</td>\n",
       "      <td>37.679187</td>\n",
       "      <td>29.100471</td>\n",
       "      <td>0</td>\n",
       "      <td>-7.406106</td>\n",
       "      <td>-0.424526</td>\n",
       "      <td>0</td>\n",
       "      <td>-4.492903</td>\n",
       "      <td>5.414470</td>\n",
       "      <td>...</td>\n",
       "      <td>0</td>\n",
       "      <td>411001.699888</td>\n",
       "      <td>-48.166563</td>\n",
       "      <td>-7.568926</td>\n",
       "      <td>-360000.0</td>\n",
       "      <td>-2040000.0</td>\n",
       "      <td>2015</td>\n",
       "      <td>0</td>\n",
       "      <td>2.044995e-07</td>\n",
       "      <td>0</td>\n",
       "    </tr>\n",
       "    <tr>\n",
       "      <th>4</th>\n",
       "      <td>0.0</td>\n",
       "      <td>41.064250</td>\n",
       "      <td>37.894372</td>\n",
       "      <td>29.370663</td>\n",
       "      <td>0</td>\n",
       "      <td>-7.449937</td>\n",
       "      <td>-0.320193</td>\n",
       "      <td>0</td>\n",
       "      <td>-4.192837</td>\n",
       "      <td>5.694320</td>\n",
       "      <td>...</td>\n",
       "      <td>0</td>\n",
       "      <td>419928.640474</td>\n",
       "      <td>-80.172106</td>\n",
       "      <td>-7.449937</td>\n",
       "      <td>-350000.0</td>\n",
       "      <td>-2040000.0</td>\n",
       "      <td>2015</td>\n",
       "      <td>0</td>\n",
       "      <td>1.964985e-07</td>\n",
       "      <td>0</td>\n",
       "    </tr>\n",
       "  </tbody>\n",
       "</table>\n",
       "<p>5 rows × 179 columns</p>\n",
       "</div>"
      ],
      "text/plain": [
       "   Acs    AugMaxT    AugTmax   AugTmean  Jan20    JanMin   JanTmin  Mar20  \\\n",
       "0  0.0  40.320885  37.172668  28.542564      0 -7.754573 -0.617069      0   \n",
       "1  0.0  40.502707  37.358329  28.728538      0 -7.831432 -0.501957      0   \n",
       "2  0.0  40.605501  37.344373  28.714929      0 -7.490612 -0.537551      0   \n",
       "3  0.0  40.957636  37.679187  29.100471      0 -7.406106 -0.424526      0   \n",
       "4  0.0  41.064250  37.894372  29.370663      0 -7.449937 -0.320193      0   \n",
       "\n",
       "     MarMin   MarTmin  ...    vgt            vpd         wd  winterMin  \\\n",
       "0 -4.906324  4.892391  ...      0  387627.763293  -7.549322  -8.055787   \n",
       "1 -4.817822  5.149851  ...      0  403269.338114 -43.963725  -7.897553   \n",
       "2 -4.754256  5.106586  ...      0  404661.530622 -36.603203  -7.796747   \n",
       "3 -4.492903  5.414470  ...      0  411001.699888 -48.166563  -7.568926   \n",
       "4 -4.192837  5.694320  ...      0  419928.640474 -80.172106  -7.449937   \n",
       "\n",
       "          x          y  year  btl         probs  preds  \n",
       "0 -390000.0 -2040000.0  2015    0  2.345047e-07      0  \n",
       "1 -380000.0 -2040000.0  2015    0  2.140744e-07      0  \n",
       "2 -370000.0 -2040000.0  2015    0  2.229605e-07      0  \n",
       "3 -360000.0 -2040000.0  2015    0  2.044995e-07      0  \n",
       "4 -350000.0 -2040000.0  2015    0  1.964985e-07      0  \n",
       "\n",
       "[5 rows x 179 columns]"
      ]
     },
     "execution_count": 42,
     "metadata": {},
     "output_type": "execute_result"
    }
   ],
   "source": [
    "full_test['probs'] = pred_ps\n",
    "full_test['preds'] = get_predictions_at_threshold(\n",
    "    pred_ps, best_threshold['threshold'])\n",
    "full_test.head()"
   ]
  },
  {
   "cell_type": "code",
   "execution_count": 43,
   "metadata": {
    "collapsed": true
   },
   "outputs": [],
   "source": [
    "def pred_plot(actual_matrix, pred_matrix, error_matrix, year):\n",
    "    plt.subplot(131)\n",
    "    imshow(np.rot90(actual_matrix));\n",
    "    plt.title('%d Actual' % year);\n",
    "    plt.subplot(132)\n",
    "    imshow(np.rot90(pred_matrix));\n",
    "    plt.title('%d Predicted' % year);\n",
    "    plt.subplot(133)\n",
    "    imshow(np.rot90(error_matrix));\n",
    "    plt.title('%d Error' % year);"
   ]
  },
  {
   "cell_type": "code",
   "execution_count": 44,
   "metadata": {
    "collapsed": true
   },
   "outputs": [],
   "source": [
    "def make_actual_pred_and_error_matrices(\n",
    "    data, year, pred_type='preds', plot=False):\n",
    "    data_year = data.loc[data.year == year, :]\n",
    "    actual_matrix = util.column2matrix(data_year, 'btl')\n",
    "    pred_matrix   = util.column2matrix(data_year, pred_type)\n",
    "    error_matrix  = pred_matrix - actual_matrix\n",
    "    if plot:\n",
    "        pred_plot(actual_matrix, pred_matrix, error_matrix, year)        \n",
    "    return actual_matrix, pred_matrix, error_matrix"
   ]
  },
  {
   "cell_type": "code",
   "execution_count": 45,
   "metadata": {
    "collapsed": false
   },
   "outputs": [
    {
     "name": "stdout",
     "output_type": "stream",
     "text": [
      "matrix shape: (196, 359)\n",
      "matrix shape: (196, 359)\n",
      "matrix shape: (195, 357)\n",
      "matrix shape: (195, 357)\n"
     ]
    },
    {
     "data": {
      "image/png": "[encoded data removed]",
      "text/plain": [
       "<Figure size 432x288 with 3 Axes>"
      ]
     },
     "metadata": {},
     "output_type": "display_data"
    },
    {
     "data": {
      "image/png": "[encoded data removed]",
      "text/plain": [
       "<Figure size 432x288 with 3 Axes>"
      ]
     },
     "metadata": {},
     "output_type": "display_data"
    }
   ],
   "source": [
    "years = [2003, 2009]\n",
    "for year in years:\n",
    "    plt.figure();\n",
    "    make_actual_pred_and_error_matrices(full_train, year, plot=True)"
   ]
  },
  {
   "cell_type": "code",
   "execution_count": 46,
   "metadata": {
    "collapsed": false
   },
   "outputs": [
    {
     "name": "stdout",
     "output_type": "stream",
     "text": [
      "matrix shape: (196, 351)\n",
      "matrix shape: (196, 351)\n",
      "matrix shape: (192, 355)\n",
      "matrix shape: (192, 355)\n"
     ]
    },
    {
     "data": {
      "image/png": "[encoded data removed]",
      "text/plain": [
       "<Figure size 432x288 with 3 Axes>"
      ]
     },
     "metadata": {},
     "output_type": "display_data"
    },
    {
     "data": {
      "image/png": "[encoded data removed]",
      "text/plain": [
       "<Figure size 432x288 with 3 Axes>"
      ]
     },
     "metadata": {},
     "output_type": "display_data"
    }
   ],
   "source": [
    "for year in years:\n",
    "    plt.figure();\n",
    "    make_actual_pred_and_error_matrices(full_valid, year, plot=True)"
   ]
  },
  {
   "cell_type": "code",
   "execution_count": 47,
   "metadata": {
    "collapsed": false
   },
   "outputs": [
    {
     "name": "stdout",
     "output_type": "stream",
     "text": [
      "matrix shape: (184, 346)\n",
      "matrix shape: (184, 346)\n",
      "matrix shape: (196, 350)\n",
      "matrix shape: (196, 350)\n"
     ]
    },
    {
     "data": {
      "image/png": "[encoded data removed]",
      "text/plain": [
       "<Figure size 432x288 with 3 Axes>"
      ]
     },
     "metadata": {},
     "output_type": "display_data"
    },
    {
     "data": {
      "image/png": "[encoded data removed]",
      "text/plain": [
       "<Figure size 432x288 with 3 Axes>"
      ]
     },
     "metadata": {},
     "output_type": "display_data"
    }
   ],
   "source": [
    "for year in years:\n",
    "    plt.figure();\n",
    "    make_actual_pred_and_error_matrices(full_test, year, plot=True)"
   ]
  },
  {
   "cell_type": "code",
   "execution_count": 48,
   "metadata": {
    "collapsed": true
   },
   "outputs": [],
   "source": [
    "all_data = full_train.append(full_valid).append(full_test)\n",
    "all_data.index = range(all_data.shape[0])"
   ]
  },
  {
   "cell_type": "code",
   "execution_count": 49,
   "metadata": {
    "collapsed": false
   },
   "outputs": [
    {
     "name": "stdout",
     "output_type": "stream",
     "text": [
      "matrix shape: (196, 359)\n",
      "matrix shape: (196, 359)\n",
      "matrix shape: (196, 359)\n",
      "matrix shape: (196, 359)\n"
     ]
    },
    {
     "data": {
      "image/png": "[encoded data removed]",
      "text/plain": [
       "<Figure size 432x288 with 3 Axes>"
      ]
     },
     "metadata": {},
     "output_type": "display_data"
    },
    {
     "data": {
      "image/png": "[encoded data removed]",
      "text/plain": [
       "<Figure size 432x288 with 3 Axes>"
      ]
     },
     "metadata": {},
     "output_type": "display_data"
    }
   ],
   "source": [
    "for year in years:\n",
    "    plt.figure();\n",
    "    make_actual_pred_and_error_matrices(\n",
    "        all_data, year, pred_type='probs', plot=True)"
   ]
  },
  {
   "cell_type": "code",
   "execution_count": 50,
   "metadata": {
    "collapsed": true
   },
   "outputs": [],
   "source": [
    "!say \"I'm done in the test model\""
   ]
  },
  {
   "cell_type": "code",
   "execution_count": null,
   "metadata": {
    "collapsed": true
   },
   "outputs": [],
   "source": []
  }
 ],
 "metadata": {
  "kernelspec": {
   "display_name": "Python 3",
   "language": "python",
   "name": "python3"
  },
  "language_info": {
   "codemirror_mode": {
    "name": "ipython",
    "version": 3
   },
   "file_extension": ".py",
   "mimetype": "text/x-python",
   "name": "python",
   "nbconvert_exporter": "python",
   "pygments_lexer": "ipython3",
   "version": "3.6.2"
  }
 },
 "nbformat": 4,
 "nbformat_minor": 2
}
