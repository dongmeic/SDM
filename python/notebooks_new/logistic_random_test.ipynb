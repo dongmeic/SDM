{
 "cells": [
  {
   "cell_type": "code",
   "execution_count": 1,
   "metadata": {
    "collapsed": false
   },
   "outputs": [
    {
     "name": "stderr",
     "output_type": "stream",
     "text": [
      "/usr/local/Cellar/python3/3.6.2/Frameworks/Python.framework/Versions/3.6/lib/python3.6/importlib/_bootstrap.py:205: RuntimeWarning: numpy.dtype size changed, may indicate binary incompatibility. Expected 96, got 88\n",
      "  return f(*args, **kwds)\n"
     ]
    }
   ],
   "source": [
    "import sys\n",
    "import time\n",
    "\n",
    "import matplotlib.pyplot as plt\n",
    "import numpy as np\n",
    "import pandas as pd\n",
    "from pylab import *\n",
    "from sklearn.linear_model import LogisticRegression, Ridge\n",
    "from sklearn.pipeline import Pipeline\n",
    "from sklearn.model_selection import GridSearchCV\n",
    "from sklearn.preprocessing import StandardScaler\n",
    "\n",
    "sys.path.append('../models_new')\n",
    "import model_utils_new as util\n",
    "from construct_model_matrices_test import ModelMatrixConstructor\n",
    "\n",
    "%matplotlib inline\n",
    "plt.rcParams['figure.figsize'] = 10, 8"
   ]
  },
  {
   "cell_type": "code",
   "execution_count": 2,
   "metadata": {
    "collapsed": true
   },
   "outputs": [],
   "source": [
    "DATA_DIR = '../../data/Xy_random_split_data'\n",
    "TEST = False"
   ]
  },
  {
   "cell_type": "code",
   "execution_count": 3,
   "metadata": {
    "collapsed": false
   },
   "outputs": [
    {
     "name": "stdout",
     "output_type": "stream",
     "text": [
      "Loading data from ['X_train_1998.csv', 'X_train_1999.csv', 'X_train_2000.csv', 'X_train_2001.csv', 'X_train_2002.csv', 'X_train_2003.csv', 'X_train_2004.csv', 'X_train_2005.csv', 'X_train_2006.csv', 'X_train_2007.csv', 'X_train_2008.csv', 'X_train_2009.csv', 'X_train_2010.csv', 'X_train_2011.csv', 'X_train_2012.csv', 'X_train_2013.csv', 'X_train_2014.csv', 'X_train_2015.csv']...\n",
      "Loading data from ['X_valid_1998.csv', 'X_valid_1999.csv', 'X_valid_2000.csv', 'X_valid_2001.csv', 'X_valid_2002.csv', 'X_valid_2003.csv', 'X_valid_2004.csv', 'X_valid_2005.csv', 'X_valid_2006.csv', 'X_valid_2007.csv', 'X_valid_2008.csv', 'X_valid_2009.csv', 'X_valid_2010.csv', 'X_valid_2011.csv', 'X_valid_2012.csv', 'X_valid_2013.csv', 'X_valid_2014.csv', 'X_valid_2015.csv']...\n",
      "Loading data from ['X_test_1998.csv', 'X_test_1999.csv', 'X_test_2000.csv', 'X_test_2001.csv', 'X_test_2002.csv', 'X_test_2003.csv', 'X_test_2004.csv', 'X_test_2005.csv', 'X_test_2006.csv', 'X_test_2007.csv', 'X_test_2008.csv', 'X_test_2009.csv', 'X_test_2010.csv', 'X_test_2011.csv', 'X_test_2012.csv', 'X_test_2013.csv', 'X_test_2014.csv', 'X_test_2015.csv']...\n",
      "Loading data from ['y_train_1998.csv', 'y_train_1999.csv', 'y_train_2000.csv', 'y_train_2001.csv', 'y_train_2002.csv', 'y_train_2003.csv', 'y_train_2004.csv', 'y_train_2005.csv', 'y_train_2006.csv', 'y_train_2007.csv', 'y_train_2008.csv', 'y_train_2009.csv', 'y_train_2010.csv', 'y_train_2011.csv', 'y_train_2012.csv', 'y_train_2013.csv', 'y_train_2014.csv', 'y_train_2015.csv']...\n",
      "Loading data from ['y_valid_1998.csv', 'y_valid_1999.csv', 'y_valid_2000.csv', 'y_valid_2001.csv', 'y_valid_2002.csv', 'y_valid_2003.csv', 'y_valid_2004.csv', 'y_valid_2005.csv', 'y_valid_2006.csv', 'y_valid_2007.csv', 'y_valid_2008.csv', 'y_valid_2009.csv', 'y_valid_2010.csv', 'y_valid_2011.csv', 'y_valid_2012.csv', 'y_valid_2013.csv', 'y_valid_2014.csv', 'y_valid_2015.csv']...\n",
      "Loading data from ['y_test_1998.csv', 'y_test_1999.csv', 'y_test_2000.csv', 'y_test_2001.csv', 'y_test_2002.csv', 'y_test_2003.csv', 'y_test_2004.csv', 'y_test_2005.csv', 'y_test_2006.csv', 'y_test_2007.csv', 'y_test_2008.csv', 'y_test_2009.csv', 'y_test_2010.csv', 'y_test_2011.csv', 'y_test_2012.csv', 'y_test_2013.csv', 'y_test_2014.csv', 'y_test_2015.csv']...\n"
     ]
    }
   ],
   "source": [
    "matrix_constructor = ModelMatrixConstructor(DATA_DIR, TEST)\n",
    "matrix_constructor.construct_model_matrices()"
   ]
  },
  {
   "cell_type": "code",
   "execution_count": 7,
   "metadata": {
    "collapsed": false
   },
   "outputs": [],
   "source": [
    "#test_vars = matrix_constructor.get_random_variables()\n",
    "test_vars = ['Jan20', 'Mar20', 'Acs', 'max.drop','JanTmin', 'MarTmin', 'OctTmin', 'Tmin', 'OctMin', 'JanMin', \n",
    "             'MarMin', 'winterMin', 'minT','TMarAug', 'fallTmean', 'Tmean', 'Tvar', 'TOctSep','ddAugJul', \n",
    "             'ddAugJun','summerTmean', 'AugTmean', 'AugTmax', 'maxAugT','OptTsum', 'AugMaxT', 'maxT','PMarAug', \n",
    "             'summerP0', 'summerP1', 'summerP2', 'Pmean','POctSep', 'PcumOctSep', 'PPT','wd', 'vpd', 'mi', 'cwd']\n",
    "test_vars = sorted(test_vars)\n",
    "for var in ['x', 'y', 'year', 'age', 'btl_t1']:\n",
    "    test_vars.append(var)\n",
    "#test_vars"
   ]
  },
  {
   "cell_type": "code",
   "execution_count": 5,
   "metadata": {
    "collapsed": true
   },
   "outputs": [],
   "source": [
    "def print_dims(data_set, name):\n",
    "    print('%s:\\n X: %r\\n y: %r' \n",
    "          % (name, data_set[0].shape, data_set[1].shape))"
   ]
  },
  {
   "cell_type": "code",
   "execution_count": 8,
   "metadata": {
    "collapsed": false
   },
   "outputs": [
    {
     "name": "stdout",
     "output_type": "stream",
     "text": [
      "Train:\n",
      " X: (789475, 44)\n",
      " y: (789475, 1)\n",
      "Valid:\n",
      " X: (98876, 44)\n",
      " y: (98876, 1)\n",
      "Test:\n",
      " X: (99183, 44)\n",
      " y: (99183, 1)\n"
     ]
    },
    {
     "data": {
      "text/html": [
       "<div>\n",
       "<style scoped>\n",
       "    .dataframe tbody tr th:only-of-type {\n",
       "        vertical-align: middle;\n",
       "    }\n",
       "\n",
       "    .dataframe tbody tr th {\n",
       "        vertical-align: top;\n",
       "    }\n",
       "\n",
       "    .dataframe thead th {\n",
       "        text-align: right;\n",
       "    }\n",
       "</style>\n",
       "<table border=\"1\" class=\"dataframe\">\n",
       "  <thead>\n",
       "    <tr style=\"text-align: right;\">\n",
       "      <th></th>\n",
       "      <th>Acs</th>\n",
       "      <th>AugMaxT</th>\n",
       "      <th>AugTmax</th>\n",
       "      <th>AugTmean</th>\n",
       "      <th>Jan20</th>\n",
       "      <th>JanMin</th>\n",
       "      <th>JanTmin</th>\n",
       "      <th>Mar20</th>\n",
       "      <th>MarMin</th>\n",
       "      <th>MarTmin</th>\n",
       "      <th>...</th>\n",
       "      <th>summerP2</th>\n",
       "      <th>summerTmean</th>\n",
       "      <th>vpd</th>\n",
       "      <th>wd</th>\n",
       "      <th>winterMin</th>\n",
       "      <th>x</th>\n",
       "      <th>y</th>\n",
       "      <th>year</th>\n",
       "      <th>age</th>\n",
       "      <th>btl_t1</th>\n",
       "    </tr>\n",
       "  </thead>\n",
       "  <tbody>\n",
       "    <tr>\n",
       "      <th>0</th>\n",
       "      <td>0.0</td>\n",
       "      <td>38.752094</td>\n",
       "      <td>36.091501</td>\n",
       "      <td>27.502499</td>\n",
       "      <td>0</td>\n",
       "      <td>-7.478265</td>\n",
       "      <td>-0.805385</td>\n",
       "      <td>0</td>\n",
       "      <td>-5.356053</td>\n",
       "      <td>4.376215</td>\n",
       "      <td>...</td>\n",
       "      <td>260.620229</td>\n",
       "      <td>26.963603</td>\n",
       "      <td>366937.690852</td>\n",
       "      <td>11.790140</td>\n",
       "      <td>-8.064639</td>\n",
       "      <td>-450000.0</td>\n",
       "      <td>-2040000.0</td>\n",
       "      <td>2015</td>\n",
       "      <td>0.0</td>\n",
       "      <td>0</td>\n",
       "    </tr>\n",
       "    <tr>\n",
       "      <th>1</th>\n",
       "      <td>0.0</td>\n",
       "      <td>36.743772</td>\n",
       "      <td>33.994497</td>\n",
       "      <td>25.295415</td>\n",
       "      <td>0</td>\n",
       "      <td>-7.273205</td>\n",
       "      <td>-2.191895</td>\n",
       "      <td>0</td>\n",
       "      <td>-5.843041</td>\n",
       "      <td>2.200347</td>\n",
       "      <td>...</td>\n",
       "      <td>318.327508</td>\n",
       "      <td>24.755350</td>\n",
       "      <td>320657.267566</td>\n",
       "      <td>48.674129</td>\n",
       "      <td>-8.693665</td>\n",
       "      <td>-440000.0</td>\n",
       "      <td>-2040000.0</td>\n",
       "      <td>2015</td>\n",
       "      <td>0.0</td>\n",
       "      <td>0</td>\n",
       "    </tr>\n",
       "    <tr>\n",
       "      <th>2</th>\n",
       "      <td>0.0</td>\n",
       "      <td>37.632520</td>\n",
       "      <td>35.397027</td>\n",
       "      <td>26.787834</td>\n",
       "      <td>0</td>\n",
       "      <td>-7.500000</td>\n",
       "      <td>-1.377182</td>\n",
       "      <td>0</td>\n",
       "      <td>-5.443481</td>\n",
       "      <td>3.525477</td>\n",
       "      <td>...</td>\n",
       "      <td>280.075993</td>\n",
       "      <td>26.213616</td>\n",
       "      <td>334804.068208</td>\n",
       "      <td>60.135742</td>\n",
       "      <td>-8.585368</td>\n",
       "      <td>-430000.0</td>\n",
       "      <td>-2040000.0</td>\n",
       "      <td>2015</td>\n",
       "      <td>0.0</td>\n",
       "      <td>0</td>\n",
       "    </tr>\n",
       "    <tr>\n",
       "      <th>3</th>\n",
       "      <td>0.0</td>\n",
       "      <td>38.558851</td>\n",
       "      <td>35.949109</td>\n",
       "      <td>27.379772</td>\n",
       "      <td>0</td>\n",
       "      <td>-7.500000</td>\n",
       "      <td>-1.161289</td>\n",
       "      <td>0</td>\n",
       "      <td>-5.006946</td>\n",
       "      <td>4.101569</td>\n",
       "      <td>...</td>\n",
       "      <td>259.864216</td>\n",
       "      <td>26.805074</td>\n",
       "      <td>350649.461883</td>\n",
       "      <td>57.758161</td>\n",
       "      <td>-8.490052</td>\n",
       "      <td>-420000.0</td>\n",
       "      <td>-2040000.0</td>\n",
       "      <td>2015</td>\n",
       "      <td>0.0</td>\n",
       "      <td>0</td>\n",
       "    </tr>\n",
       "    <tr>\n",
       "      <th>4</th>\n",
       "      <td>0.0</td>\n",
       "      <td>39.136888</td>\n",
       "      <td>36.350756</td>\n",
       "      <td>27.771246</td>\n",
       "      <td>0</td>\n",
       "      <td>-7.501845</td>\n",
       "      <td>-0.944256</td>\n",
       "      <td>0</td>\n",
       "      <td>-5.000000</td>\n",
       "      <td>4.428590</td>\n",
       "      <td>...</td>\n",
       "      <td>243.690708</td>\n",
       "      <td>27.196394</td>\n",
       "      <td>360183.639481</td>\n",
       "      <td>63.650985</td>\n",
       "      <td>-8.365362</td>\n",
       "      <td>-410000.0</td>\n",
       "      <td>-2040000.0</td>\n",
       "      <td>2015</td>\n",
       "      <td>0.0</td>\n",
       "      <td>0</td>\n",
       "    </tr>\n",
       "  </tbody>\n",
       "</table>\n",
       "<p>5 rows × 44 columns</p>\n",
       "</div>"
      ],
      "text/plain": [
       "   Acs    AugMaxT    AugTmax   AugTmean  Jan20    JanMin   JanTmin  Mar20  \\\n",
       "0  0.0  38.752094  36.091501  27.502499      0 -7.478265 -0.805385      0   \n",
       "1  0.0  36.743772  33.994497  25.295415      0 -7.273205 -2.191895      0   \n",
       "2  0.0  37.632520  35.397027  26.787834      0 -7.500000 -1.377182      0   \n",
       "3  0.0  38.558851  35.949109  27.379772      0 -7.500000 -1.161289      0   \n",
       "4  0.0  39.136888  36.350756  27.771246      0 -7.501845 -0.944256      0   \n",
       "\n",
       "     MarMin   MarTmin   ...      summerP2  summerTmean            vpd  \\\n",
       "0 -5.356053  4.376215   ...    260.620229    26.963603  366937.690852   \n",
       "1 -5.843041  2.200347   ...    318.327508    24.755350  320657.267566   \n",
       "2 -5.443481  3.525477   ...    280.075993    26.213616  334804.068208   \n",
       "3 -5.006946  4.101569   ...    259.864216    26.805074  350649.461883   \n",
       "4 -5.000000  4.428590   ...    243.690708    27.196394  360183.639481   \n",
       "\n",
       "          wd  winterMin         x          y  year  age  btl_t1  \n",
       "0  11.790140  -8.064639 -450000.0 -2040000.0  2015  0.0       0  \n",
       "1  48.674129  -8.693665 -440000.0 -2040000.0  2015  0.0       0  \n",
       "2  60.135742  -8.585368 -430000.0 -2040000.0  2015  0.0       0  \n",
       "3  57.758161  -8.490052 -420000.0 -2040000.0  2015  0.0       0  \n",
       "4  63.650985  -8.365362 -410000.0 -2040000.0  2015  0.0       0  \n",
       "\n",
       "[5 rows x 44 columns]"
      ]
     },
     "execution_count": 8,
     "metadata": {},
     "output_type": "execute_result"
    }
   ],
   "source": [
    "data_sets = matrix_constructor.select_variables(test_vars)\n",
    "[[X_train, y_train], [X_valid, y_valid], [X_test, y_test]] = data_sets\n",
    "for (data_set, name) in zip(data_sets, ['Train', 'Valid', 'Test']):\n",
    "    print_dims(data_set, name)\n",
    "    \n",
    "X_train.head()"
   ]
  },
  {
   "cell_type": "code",
   "execution_count": 7,
   "metadata": {
    "collapsed": false
   },
   "outputs": [
    {
     "data": {
      "text/plain": [
       "(-140000.0, 1540000.0)"
      ]
     },
     "execution_count": 7,
     "metadata": {},
     "output_type": "execute_result"
    }
   ],
   "source": [
    "max(X_test.x), max(X_test.y)"
   ]
  },
  {
   "cell_type": "code",
   "execution_count": 8,
   "metadata": {
    "collapsed": false
   },
   "outputs": [
    {
     "data": {
      "text/plain": [
       "'AugMaxT'"
      ]
     },
     "execution_count": 8,
     "metadata": {},
     "output_type": "execute_result"
    }
   ],
   "source": [
    "test_vars[1]"
   ]
  },
  {
   "cell_type": "code",
   "execution_count": 9,
   "metadata": {
    "collapsed": false
   },
   "outputs": [],
   "source": [
    "year = 2009"
   ]
  },
  {
   "cell_type": "code",
   "execution_count": 10,
   "metadata": {
    "collapsed": false
   },
   "outputs": [
    {
     "name": "stdout",
     "output_type": "stream",
     "text": [
      "matrix shape: (195, 357)\n",
      "matrix shape: (192, 355)\n",
      "matrix shape: (196, 350)\n"
     ]
    }
   ],
   "source": [
    "var = test_vars[1]\n",
    "density_matrix_train = util.column2matrix(\n",
    "    X_train.loc[X_train.year == year, :], var)\n",
    "density_matrix_valid = util.column2matrix(\n",
    "    X_valid.loc[X_valid.year == year, :], var)\n",
    "density_matrix_test  = util.column2matrix(\n",
    "    X_test.loc[X_test.year   == year, :], var)"
   ]
  },
  {
   "cell_type": "code",
   "execution_count": 11,
   "metadata": {
    "collapsed": false
   },
   "outputs": [
    {
     "data": {
      "image/png": "[encoded data removed]",
      "text/plain": [
       "<Figure size 720x576 with 3 Axes>"
      ]
     },
     "metadata": {},
     "output_type": "display_data"
    }
   ],
   "source": [
    "plt.figure(figsize=(10,8))\n",
    "plt.subplot(1, 3, 1);\n",
    "imshow(np.rot90(density_matrix_train));\n",
    "plt.subplot(1, 3, 2);\n",
    "imshow(np.rot90(density_matrix_valid));\n",
    "plt.subplot(1, 3, 3);\n",
    "imshow(np.rot90(density_matrix_test));"
   ]
  },
  {
   "cell_type": "code",
   "execution_count": 9,
   "metadata": {
    "collapsed": false
   },
   "outputs": [],
   "source": [
    "def merge_Xy(data_sets):\n",
    "    out = []\n",
    "    for data_set in data_sets:\n",
    "        X, y = data_set[0].copy(), data_set[1].copy()\n",
    "        X['btl'] = y\n",
    "        out.append(X)\n",
    "    return out"
   ]
  },
  {
   "cell_type": "code",
   "execution_count": 10,
   "metadata": {
    "collapsed": false
   },
   "outputs": [],
   "source": [
    "[merge_train, merge_valid, merge_test] = merge_Xy(data_sets)"
   ]
  },
  {
   "cell_type": "code",
   "execution_count": 11,
   "metadata": {
    "collapsed": false
   },
   "outputs": [
    {
     "data": {
      "text/html": [
       "<div>\n",
       "<style scoped>\n",
       "    .dataframe tbody tr th:only-of-type {\n",
       "        vertical-align: middle;\n",
       "    }\n",
       "\n",
       "    .dataframe tbody tr th {\n",
       "        vertical-align: top;\n",
       "    }\n",
       "\n",
       "    .dataframe thead th {\n",
       "        text-align: right;\n",
       "    }\n",
       "</style>\n",
       "<table border=\"1\" class=\"dataframe\">\n",
       "  <thead>\n",
       "    <tr style=\"text-align: right;\">\n",
       "      <th></th>\n",
       "      <th>Acs</th>\n",
       "      <th>AugMaxT</th>\n",
       "      <th>AugTmax</th>\n",
       "      <th>AugTmean</th>\n",
       "      <th>Jan20</th>\n",
       "      <th>JanMin</th>\n",
       "      <th>JanTmin</th>\n",
       "      <th>Mar20</th>\n",
       "      <th>MarMin</th>\n",
       "      <th>MarTmin</th>\n",
       "      <th>...</th>\n",
       "      <th>summerP2</th>\n",
       "      <th>summerTmean</th>\n",
       "      <th>vpd</th>\n",
       "      <th>wd</th>\n",
       "      <th>winterMin</th>\n",
       "      <th>x</th>\n",
       "      <th>y</th>\n",
       "      <th>year</th>\n",
       "      <th>age</th>\n",
       "      <th>btl_t1</th>\n",
       "    </tr>\n",
       "  </thead>\n",
       "  <tbody>\n",
       "    <tr>\n",
       "      <th>0</th>\n",
       "      <td>0.0</td>\n",
       "      <td>38.752094</td>\n",
       "      <td>36.091501</td>\n",
       "      <td>27.502499</td>\n",
       "      <td>0</td>\n",
       "      <td>-7.478265</td>\n",
       "      <td>-0.805385</td>\n",
       "      <td>0</td>\n",
       "      <td>-5.356053</td>\n",
       "      <td>4.376215</td>\n",
       "      <td>...</td>\n",
       "      <td>260.620229</td>\n",
       "      <td>26.963603</td>\n",
       "      <td>366937.690852</td>\n",
       "      <td>11.790140</td>\n",
       "      <td>-8.064639</td>\n",
       "      <td>-450000.0</td>\n",
       "      <td>-2040000.0</td>\n",
       "      <td>2015</td>\n",
       "      <td>0.0</td>\n",
       "      <td>0</td>\n",
       "    </tr>\n",
       "    <tr>\n",
       "      <th>1</th>\n",
       "      <td>0.0</td>\n",
       "      <td>36.743772</td>\n",
       "      <td>33.994497</td>\n",
       "      <td>25.295415</td>\n",
       "      <td>0</td>\n",
       "      <td>-7.273205</td>\n",
       "      <td>-2.191895</td>\n",
       "      <td>0</td>\n",
       "      <td>-5.843041</td>\n",
       "      <td>2.200347</td>\n",
       "      <td>...</td>\n",
       "      <td>318.327508</td>\n",
       "      <td>24.755350</td>\n",
       "      <td>320657.267566</td>\n",
       "      <td>48.674129</td>\n",
       "      <td>-8.693665</td>\n",
       "      <td>-440000.0</td>\n",
       "      <td>-2040000.0</td>\n",
       "      <td>2015</td>\n",
       "      <td>0.0</td>\n",
       "      <td>0</td>\n",
       "    </tr>\n",
       "    <tr>\n",
       "      <th>2</th>\n",
       "      <td>0.0</td>\n",
       "      <td>37.632520</td>\n",
       "      <td>35.397027</td>\n",
       "      <td>26.787834</td>\n",
       "      <td>0</td>\n",
       "      <td>-7.500000</td>\n",
       "      <td>-1.377182</td>\n",
       "      <td>0</td>\n",
       "      <td>-5.443481</td>\n",
       "      <td>3.525477</td>\n",
       "      <td>...</td>\n",
       "      <td>280.075993</td>\n",
       "      <td>26.213616</td>\n",
       "      <td>334804.068208</td>\n",
       "      <td>60.135742</td>\n",
       "      <td>-8.585368</td>\n",
       "      <td>-430000.0</td>\n",
       "      <td>-2040000.0</td>\n",
       "      <td>2015</td>\n",
       "      <td>0.0</td>\n",
       "      <td>0</td>\n",
       "    </tr>\n",
       "    <tr>\n",
       "      <th>3</th>\n",
       "      <td>0.0</td>\n",
       "      <td>38.558851</td>\n",
       "      <td>35.949109</td>\n",
       "      <td>27.379772</td>\n",
       "      <td>0</td>\n",
       "      <td>-7.500000</td>\n",
       "      <td>-1.161289</td>\n",
       "      <td>0</td>\n",
       "      <td>-5.006946</td>\n",
       "      <td>4.101569</td>\n",
       "      <td>...</td>\n",
       "      <td>259.864216</td>\n",
       "      <td>26.805074</td>\n",
       "      <td>350649.461883</td>\n",
       "      <td>57.758161</td>\n",
       "      <td>-8.490052</td>\n",
       "      <td>-420000.0</td>\n",
       "      <td>-2040000.0</td>\n",
       "      <td>2015</td>\n",
       "      <td>0.0</td>\n",
       "      <td>0</td>\n",
       "    </tr>\n",
       "    <tr>\n",
       "      <th>4</th>\n",
       "      <td>0.0</td>\n",
       "      <td>39.136888</td>\n",
       "      <td>36.350756</td>\n",
       "      <td>27.771246</td>\n",
       "      <td>0</td>\n",
       "      <td>-7.501845</td>\n",
       "      <td>-0.944256</td>\n",
       "      <td>0</td>\n",
       "      <td>-5.000000</td>\n",
       "      <td>4.428590</td>\n",
       "      <td>...</td>\n",
       "      <td>243.690708</td>\n",
       "      <td>27.196394</td>\n",
       "      <td>360183.639481</td>\n",
       "      <td>63.650985</td>\n",
       "      <td>-8.365362</td>\n",
       "      <td>-410000.0</td>\n",
       "      <td>-2040000.0</td>\n",
       "      <td>2015</td>\n",
       "      <td>0.0</td>\n",
       "      <td>0</td>\n",
       "    </tr>\n",
       "  </tbody>\n",
       "</table>\n",
       "<p>5 rows × 44 columns</p>\n",
       "</div>"
      ],
      "text/plain": [
       "   Acs    AugMaxT    AugTmax   AugTmean  Jan20    JanMin   JanTmin  Mar20  \\\n",
       "0  0.0  38.752094  36.091501  27.502499      0 -7.478265 -0.805385      0   \n",
       "1  0.0  36.743772  33.994497  25.295415      0 -7.273205 -2.191895      0   \n",
       "2  0.0  37.632520  35.397027  26.787834      0 -7.500000 -1.377182      0   \n",
       "3  0.0  38.558851  35.949109  27.379772      0 -7.500000 -1.161289      0   \n",
       "4  0.0  39.136888  36.350756  27.771246      0 -7.501845 -0.944256      0   \n",
       "\n",
       "     MarMin   MarTmin   ...      summerP2  summerTmean            vpd  \\\n",
       "0 -5.356053  4.376215   ...    260.620229    26.963603  366937.690852   \n",
       "1 -5.843041  2.200347   ...    318.327508    24.755350  320657.267566   \n",
       "2 -5.443481  3.525477   ...    280.075993    26.213616  334804.068208   \n",
       "3 -5.006946  4.101569   ...    259.864216    26.805074  350649.461883   \n",
       "4 -5.000000  4.428590   ...    243.690708    27.196394  360183.639481   \n",
       "\n",
       "          wd  winterMin         x          y  year  age  btl_t1  \n",
       "0  11.790140  -8.064639 -450000.0 -2040000.0  2015  0.0       0  \n",
       "1  48.674129  -8.693665 -440000.0 -2040000.0  2015  0.0       0  \n",
       "2  60.135742  -8.585368 -430000.0 -2040000.0  2015  0.0       0  \n",
       "3  57.758161  -8.490052 -420000.0 -2040000.0  2015  0.0       0  \n",
       "4  63.650985  -8.365362 -410000.0 -2040000.0  2015  0.0       0  \n",
       "\n",
       "[5 rows x 44 columns]"
      ]
     },
     "execution_count": 11,
     "metadata": {},
     "output_type": "execute_result"
    }
   ],
   "source": [
    "X_train.head()"
   ]
  },
  {
   "cell_type": "code",
   "execution_count": 15,
   "metadata": {
    "collapsed": false
   },
   "outputs": [
    {
     "name": "stdout",
     "output_type": "stream",
     "text": [
      "matrix shape: (195, 357)\n",
      "matrix shape: (192, 355)\n",
      "matrix shape: (196, 350)\n"
     ]
    }
   ],
   "source": [
    "btl_matrix_train = util.column2matrix(\n",
    "    merge_train.loc[merge_train.year == year, :],'btl')\n",
    "btl_matrix_valid = util.column2matrix(\n",
    "    merge_valid.loc[merge_valid.year == year, :],'btl')\n",
    "btl_matrix_test = util.column2matrix(\n",
    "    merge_test.loc[merge_test.year == year, :],'btl')"
   ]
  },
  {
   "cell_type": "code",
   "execution_count": 16,
   "metadata": {
    "collapsed": false
   },
   "outputs": [
    {
     "data": {
      "image/png": "[encoded data removed]",
      "text/plain": [
       "<Figure size 432x288 with 3 Axes>"
      ]
     },
     "metadata": {},
     "output_type": "display_data"
    }
   ],
   "source": [
    "plt.subplot(1, 3, 1);\n",
    "imshow(np.rot90(btl_matrix_train));\n",
    "plt.title('Training Set');\n",
    "plt.subplot(1, 3, 2);\n",
    "imshow(np.rot90(btl_matrix_valid));\n",
    "plt.title('Validation Set');\n",
    "plt.subplot(1, 3, 3);\n",
    "imshow(np.rot90(btl_matrix_test));\n",
    "plt.title('Test Set');"
   ]
  },
  {
   "cell_type": "code",
   "execution_count": 12,
   "metadata": {
    "collapsed": false
   },
   "outputs": [
    {
     "name": "stdout",
     "output_type": "stream",
     "text": [
      "Percent presence in y_train: 12.92%\n",
      "Percent presence in y_valid: 13.93%\n",
      "Percent presence in y_test: 12.60%\n"
     ]
    }
   ],
   "source": [
    "util.print_percent_presence(y_train, 'y_train')\n",
    "util.print_percent_presence(y_valid, 'y_valid')\n",
    "util.print_percent_presence(y_test, 'y_test')"
   ]
  },
  {
   "cell_type": "code",
   "execution_count": 13,
   "metadata": {
    "collapsed": false
   },
   "outputs": [
    {
     "name": "stdout",
     "output_type": "stream",
     "text": [
      "Baseline accuracy if predicting \"absent\" for all cells:\n",
      "  train: 87.08\n",
      "  valid: 86.07\n",
      "  test:  87.4\n"
     ]
    }
   ],
   "source": [
    "print('Baseline accuracy if predicting \"absent\" for all cells:')\n",
    "print('  train:', 100 - 12.92)\n",
    "print('  valid:', 100 - 13.93)\n",
    "print('  test: ', 100 - 12.60)"
   ]
  },
  {
   "cell_type": "code",
   "execution_count": 14,
   "metadata": {
    "collapsed": true
   },
   "outputs": [],
   "source": [
    "y_train.columns=['btl']\n",
    "y_valid.columns=['btl']\n",
    "y_test.columns=['btl']"
   ]
  },
  {
   "cell_type": "code",
   "execution_count": 15,
   "metadata": {
    "collapsed": false
   },
   "outputs": [
    {
     "data": {
      "text/html": [
       "<div>\n",
       "<style scoped>\n",
       "    .dataframe tbody tr th:only-of-type {\n",
       "        vertical-align: middle;\n",
       "    }\n",
       "\n",
       "    .dataframe tbody tr th {\n",
       "        vertical-align: top;\n",
       "    }\n",
       "\n",
       "    .dataframe thead th {\n",
       "        text-align: right;\n",
       "    }\n",
       "</style>\n",
       "<table border=\"1\" class=\"dataframe\">\n",
       "  <thead>\n",
       "    <tr style=\"text-align: right;\">\n",
       "      <th></th>\n",
       "      <th>btl</th>\n",
       "    </tr>\n",
       "  </thead>\n",
       "  <tbody>\n",
       "    <tr>\n",
       "      <th>0</th>\n",
       "      <td>0</td>\n",
       "    </tr>\n",
       "    <tr>\n",
       "      <th>1</th>\n",
       "      <td>0</td>\n",
       "    </tr>\n",
       "    <tr>\n",
       "      <th>2</th>\n",
       "      <td>0</td>\n",
       "    </tr>\n",
       "    <tr>\n",
       "      <th>3</th>\n",
       "      <td>0</td>\n",
       "    </tr>\n",
       "    <tr>\n",
       "      <th>4</th>\n",
       "      <td>0</td>\n",
       "    </tr>\n",
       "  </tbody>\n",
       "</table>\n",
       "</div>"
      ],
      "text/plain": [
       "   btl\n",
       "0    0\n",
       "1    0\n",
       "2    0\n",
       "3    0\n",
       "4    0"
      ]
     },
     "execution_count": 15,
     "metadata": {},
     "output_type": "execute_result"
    }
   ],
   "source": [
    "y_train.head()"
   ]
  },
  {
   "cell_type": "code",
   "execution_count": 16,
   "metadata": {
    "collapsed": true
   },
   "outputs": [],
   "source": [
    "full_train = merge_train.copy()\n",
    "full_valid = merge_valid.copy()\n",
    "full_test = merge_test.copy()"
   ]
  },
  {
   "cell_type": "code",
   "execution_count": 17,
   "metadata": {
    "collapsed": true
   },
   "outputs": [],
   "source": [
    "drop = ['x', 'y', 'year']\n",
    "#drop = ['density']\n",
    "X_train = X_train.drop(drop, axis=1)\n",
    "X_valid = X_valid.drop(drop, axis=1)\n",
    "X_test  = X_test.drop(drop, axis=1)"
   ]
  },
  {
   "cell_type": "code",
   "execution_count": 18,
   "metadata": {
    "collapsed": false
   },
   "outputs": [
    {
     "data": {
      "text/plain": [
       "pandas.core.frame.DataFrame"
      ]
     },
     "execution_count": 18,
     "metadata": {},
     "output_type": "execute_result"
    }
   ],
   "source": [
    "type(X_train)"
   ]
  },
  {
   "cell_type": "code",
   "execution_count": 19,
   "metadata": {
    "collapsed": false
   },
   "outputs": [
    {
     "data": {
      "text/html": [
       "<div>\n",
       "<style scoped>\n",
       "    .dataframe tbody tr th:only-of-type {\n",
       "        vertical-align: middle;\n",
       "    }\n",
       "\n",
       "    .dataframe tbody tr th {\n",
       "        vertical-align: top;\n",
       "    }\n",
       "\n",
       "    .dataframe thead th {\n",
       "        text-align: right;\n",
       "    }\n",
       "</style>\n",
       "<table border=\"1\" class=\"dataframe\">\n",
       "  <thead>\n",
       "    <tr style=\"text-align: right;\">\n",
       "      <th></th>\n",
       "      <th>Acs</th>\n",
       "      <th>AugMaxT</th>\n",
       "      <th>AugTmax</th>\n",
       "      <th>AugTmean</th>\n",
       "      <th>Jan20</th>\n",
       "      <th>JanMin</th>\n",
       "      <th>JanTmin</th>\n",
       "      <th>Mar20</th>\n",
       "      <th>MarMin</th>\n",
       "      <th>MarTmin</th>\n",
       "      <th>...</th>\n",
       "      <th>minT</th>\n",
       "      <th>summerP0</th>\n",
       "      <th>summerP1</th>\n",
       "      <th>summerP2</th>\n",
       "      <th>summerTmean</th>\n",
       "      <th>vpd</th>\n",
       "      <th>wd</th>\n",
       "      <th>winterMin</th>\n",
       "      <th>age</th>\n",
       "      <th>btl_t1</th>\n",
       "    </tr>\n",
       "  </thead>\n",
       "  <tbody>\n",
       "    <tr>\n",
       "      <th>0</th>\n",
       "      <td>0.0</td>\n",
       "      <td>38.752094</td>\n",
       "      <td>36.091501</td>\n",
       "      <td>27.502499</td>\n",
       "      <td>0</td>\n",
       "      <td>-7.478265</td>\n",
       "      <td>-0.805385</td>\n",
       "      <td>0</td>\n",
       "      <td>-5.356053</td>\n",
       "      <td>4.376215</td>\n",
       "      <td>...</td>\n",
       "      <td>-8.944275</td>\n",
       "      <td>143.195089</td>\n",
       "      <td>117.425140</td>\n",
       "      <td>260.620229</td>\n",
       "      <td>26.963603</td>\n",
       "      <td>366937.690852</td>\n",
       "      <td>11.790140</td>\n",
       "      <td>-8.064639</td>\n",
       "      <td>0.0</td>\n",
       "      <td>0</td>\n",
       "    </tr>\n",
       "    <tr>\n",
       "      <th>1</th>\n",
       "      <td>0.0</td>\n",
       "      <td>36.743772</td>\n",
       "      <td>33.994497</td>\n",
       "      <td>25.295415</td>\n",
       "      <td>0</td>\n",
       "      <td>-7.273205</td>\n",
       "      <td>-2.191895</td>\n",
       "      <td>0</td>\n",
       "      <td>-5.843041</td>\n",
       "      <td>2.200347</td>\n",
       "      <td>...</td>\n",
       "      <td>-8.693665</td>\n",
       "      <td>172.401804</td>\n",
       "      <td>145.925704</td>\n",
       "      <td>318.327508</td>\n",
       "      <td>24.755350</td>\n",
       "      <td>320657.267566</td>\n",
       "      <td>48.674129</td>\n",
       "      <td>-8.693665</td>\n",
       "      <td>0.0</td>\n",
       "      <td>0</td>\n",
       "    </tr>\n",
       "    <tr>\n",
       "      <th>2</th>\n",
       "      <td>0.0</td>\n",
       "      <td>37.632520</td>\n",
       "      <td>35.397027</td>\n",
       "      <td>26.787834</td>\n",
       "      <td>0</td>\n",
       "      <td>-7.500000</td>\n",
       "      <td>-1.377182</td>\n",
       "      <td>0</td>\n",
       "      <td>-5.443481</td>\n",
       "      <td>3.525477</td>\n",
       "      <td>...</td>\n",
       "      <td>-8.585368</td>\n",
       "      <td>153.630621</td>\n",
       "      <td>126.445372</td>\n",
       "      <td>280.075993</td>\n",
       "      <td>26.213616</td>\n",
       "      <td>334804.068208</td>\n",
       "      <td>60.135742</td>\n",
       "      <td>-8.585368</td>\n",
       "      <td>0.0</td>\n",
       "      <td>0</td>\n",
       "    </tr>\n",
       "    <tr>\n",
       "      <th>3</th>\n",
       "      <td>0.0</td>\n",
       "      <td>38.558851</td>\n",
       "      <td>35.949109</td>\n",
       "      <td>27.379772</td>\n",
       "      <td>0</td>\n",
       "      <td>-7.500000</td>\n",
       "      <td>-1.161289</td>\n",
       "      <td>0</td>\n",
       "      <td>-5.006946</td>\n",
       "      <td>4.101569</td>\n",
       "      <td>...</td>\n",
       "      <td>-8.500000</td>\n",
       "      <td>143.880799</td>\n",
       "      <td>115.983417</td>\n",
       "      <td>259.864216</td>\n",
       "      <td>26.805074</td>\n",
       "      <td>350649.461883</td>\n",
       "      <td>57.758161</td>\n",
       "      <td>-8.490052</td>\n",
       "      <td>0.0</td>\n",
       "      <td>0</td>\n",
       "    </tr>\n",
       "    <tr>\n",
       "      <th>4</th>\n",
       "      <td>0.0</td>\n",
       "      <td>39.136888</td>\n",
       "      <td>36.350756</td>\n",
       "      <td>27.771246</td>\n",
       "      <td>0</td>\n",
       "      <td>-7.501845</td>\n",
       "      <td>-0.944256</td>\n",
       "      <td>0</td>\n",
       "      <td>-5.000000</td>\n",
       "      <td>4.428590</td>\n",
       "      <td>...</td>\n",
       "      <td>-8.500000</td>\n",
       "      <td>136.151595</td>\n",
       "      <td>107.539114</td>\n",
       "      <td>243.690708</td>\n",
       "      <td>27.196394</td>\n",
       "      <td>360183.639481</td>\n",
       "      <td>63.650985</td>\n",
       "      <td>-8.365362</td>\n",
       "      <td>0.0</td>\n",
       "      <td>0</td>\n",
       "    </tr>\n",
       "  </tbody>\n",
       "</table>\n",
       "<p>5 rows × 41 columns</p>\n",
       "</div>"
      ],
      "text/plain": [
       "   Acs    AugMaxT    AugTmax   AugTmean  Jan20    JanMin   JanTmin  Mar20  \\\n",
       "0  0.0  38.752094  36.091501  27.502499      0 -7.478265 -0.805385      0   \n",
       "1  0.0  36.743772  33.994497  25.295415      0 -7.273205 -2.191895      0   \n",
       "2  0.0  37.632520  35.397027  26.787834      0 -7.500000 -1.377182      0   \n",
       "3  0.0  38.558851  35.949109  27.379772      0 -7.500000 -1.161289      0   \n",
       "4  0.0  39.136888  36.350756  27.771246      0 -7.501845 -0.944256      0   \n",
       "\n",
       "     MarMin   MarTmin   ...        minT    summerP0    summerP1    summerP2  \\\n",
       "0 -5.356053  4.376215   ...   -8.944275  143.195089  117.425140  260.620229   \n",
       "1 -5.843041  2.200347   ...   -8.693665  172.401804  145.925704  318.327508   \n",
       "2 -5.443481  3.525477   ...   -8.585368  153.630621  126.445372  280.075993   \n",
       "3 -5.006946  4.101569   ...   -8.500000  143.880799  115.983417  259.864216   \n",
       "4 -5.000000  4.428590   ...   -8.500000  136.151595  107.539114  243.690708   \n",
       "\n",
       "   summerTmean            vpd         wd  winterMin  age  btl_t1  \n",
       "0    26.963603  366937.690852  11.790140  -8.064639  0.0       0  \n",
       "1    24.755350  320657.267566  48.674129  -8.693665  0.0       0  \n",
       "2    26.213616  334804.068208  60.135742  -8.585368  0.0       0  \n",
       "3    26.805074  350649.461883  57.758161  -8.490052  0.0       0  \n",
       "4    27.196394  360183.639481  63.650985  -8.365362  0.0       0  \n",
       "\n",
       "[5 rows x 41 columns]"
      ]
     },
     "execution_count": 19,
     "metadata": {},
     "output_type": "execute_result"
    }
   ],
   "source": [
    "X_train.head()"
   ]
  },
  {
   "cell_type": "code",
   "execution_count": 20,
   "metadata": {
    "collapsed": false
   },
   "outputs": [
    {
     "data": {
      "text/plain": [
       "['Acs',\n",
       " 'AugMaxT',\n",
       " 'AugTmax',\n",
       " 'AugTmean',\n",
       " 'Jan20',\n",
       " 'JanMin',\n",
       " 'JanTmin',\n",
       " 'Mar20',\n",
       " 'MarMin',\n",
       " 'MarTmin',\n",
       " 'OctMin',\n",
       " 'OctTmin',\n",
       " 'OptTsum',\n",
       " 'PMarAug',\n",
       " 'POctSep',\n",
       " 'PPT',\n",
       " 'PcumOctSep',\n",
       " 'Pmean',\n",
       " 'TMarAug',\n",
       " 'TOctSep',\n",
       " 'Tmean',\n",
       " 'Tmin',\n",
       " 'Tvar',\n",
       " 'cwd',\n",
       " 'ddAugJul',\n",
       " 'ddAugJun',\n",
       " 'fallTmean',\n",
       " 'max.drop',\n",
       " 'maxAugT',\n",
       " 'maxT',\n",
       " 'mi',\n",
       " 'minT',\n",
       " 'summerP0',\n",
       " 'summerP1',\n",
       " 'summerP2',\n",
       " 'summerTmean',\n",
       " 'vpd',\n",
       " 'wd',\n",
       " 'winterMin',\n",
       " 'age',\n",
       " 'btl_t1']"
      ]
     },
     "execution_count": 20,
     "metadata": {},
     "output_type": "execute_result"
    }
   ],
   "source": [
    "predictors = list(X_train)\n",
    "predictors"
   ]
  },
  {
   "cell_type": "code",
   "execution_count": 21,
   "metadata": {
    "collapsed": true
   },
   "outputs": [],
   "source": [
    "def scale_data(X_train, X_valid, X_test):\n",
    "    scaler = StandardScaler()\n",
    "    X_train = scaler.fit_transform(X_train)\n",
    "    X_valid = scaler.transform(X_valid)\n",
    "    X_test  = scaler.transform(X_test)\n",
    "    return X_train, X_valid, X_test"
   ]
  },
  {
   "cell_type": "code",
   "execution_count": 22,
   "metadata": {
    "collapsed": false
   },
   "outputs": [],
   "source": [
    "X_train, X_valid, X_test = scale_data(X_train, X_valid, X_test) "
   ]
  },
  {
   "cell_type": "code",
   "execution_count": 23,
   "metadata": {
    "collapsed": false
   },
   "outputs": [],
   "source": [
    "y_train = y_train['btl'].values.reshape(-1)\n",
    "y_valid = y_valid['btl'].values.reshape(-1)\n",
    "y_test  = y_test['btl'].values.reshape(-1)"
   ]
  },
  {
   "cell_type": "code",
   "execution_count": 24,
   "metadata": {
    "collapsed": false
   },
   "outputs": [
    {
     "name": "stdout",
     "output_type": "stream",
     "text": [
      "Testing C = 0.0001\n",
      "  l1: ['Mar20', 'OptTsum', 'Tvar', 'ddAugJul', 'summerP2', 'summerTmean', 'age', 'btl_t1']\n",
      " Accuracy: 0.9302\n",
      "Elapsed time: 0.18 minutes\n",
      "\n",
      "Testing C = 0.001\n",
      "  l1: ['Acs', 'AugMaxT', 'AugTmean', 'Jan20', 'JanMin', 'Mar20', 'MarMin', 'OctTmin', 'Tvar', 'cwd', 'ddAugJun', 'fallTmean', 'maxAugT', 'mi', 'summerP1', 'summerP2', 'vpd', 'age', 'btl_t1']\n",
      " Accuracy: 0.9287\n",
      "Elapsed time: 0.50 minutes\n",
      "\n",
      "Testing C = 0.01\n",
      "  l1: ['Acs', 'AugMaxT', 'AugTmax', 'AugTmean', 'Jan20', 'JanMin', 'JanTmin', 'Mar20', 'MarMin', 'MarTmin', 'OctMin', 'OctTmin', 'OptTsum', 'PMarAug', 'Pmean', 'Tmean', 'Tmin', 'cwd', 'ddAugJun', 'fallTmean', 'max.drop', 'maxAugT', 'mi', 'minT', 'summerP1', 'summerP2', 'summerTmean', 'vpd', 'wd', 'winterMin', 'age', 'btl_t1']\n",
      " Accuracy: 0.9274\n",
      "Elapsed time: 0.75 minutes\n",
      "\n",
      "Testing C = 0.1\n",
      "  l1: ['Acs', 'AugMaxT', 'AugTmax', 'AugTmean', 'Jan20', 'JanMin', 'JanTmin', 'Mar20', 'MarMin', 'MarTmin', 'OctMin', 'OctTmin', 'OptTsum', 'PMarAug', 'POctSep', 'PPT', 'PcumOctSep', 'Pmean', 'TMarAug', 'TOctSep', 'Tmean', 'Tmin', 'cwd', 'ddAugJun', 'fallTmean', 'max.drop', 'maxAugT', 'maxT', 'mi', 'minT', 'summerP0', 'summerP1', 'summerTmean', 'vpd', 'wd', 'winterMin', 'age', 'btl_t1']\n",
      " Accuracy: 0.928\n",
      "Elapsed time: 2.08 minutes\n",
      "\n",
      "Testing C = 1.0\n",
      "  l1: ['Acs', 'AugMaxT', 'AugTmax', 'AugTmean', 'Jan20', 'JanMin', 'JanTmin', 'Mar20', 'MarMin', 'MarTmin', 'OctMin', 'OctTmin', 'OptTsum', 'PMarAug', 'POctSep', 'PPT', 'PcumOctSep', 'Pmean', 'TMarAug', 'TOctSep', 'Tmean', 'Tmin', 'Tvar', 'cwd', 'ddAugJul', 'ddAugJun', 'fallTmean', 'max.drop', 'maxAugT', 'maxT', 'mi', 'minT', 'summerP0', 'summerP1', 'summerP2', 'summerTmean', 'vpd', 'wd', 'winterMin', 'age', 'btl_t1']\n",
      " Accuracy: 0.9279\n",
      "Elapsed time: 3.68 minutes\n",
      "\n"
     ]
    },
    {
     "name": "stderr",
     "output_type": "stream",
     "text": [
      "/usr/local/lib/python3.6/site-packages/sklearn/linear_model/sag.py:326: ConvergenceWarning: The max_iter was reached which means the coef_ did not converge\n",
      "  \"the coef_ did not converge\", ConvergenceWarning)\n"
     ]
    }
   ],
   "source": [
    "# Find optimal regularization via best validation-set accuracy\n",
    "l1_mods = []\n",
    "l2_mods = []\n",
    "Cs = np.logspace(-4, 0, 5)\n",
    "best_C = np.nan\n",
    "best_accuracy = 0\n",
    "t0 = time.time()\n",
    "best_penalty = None\n",
    "\n",
    "for C in Cs:\n",
    "    print('Testing C =', C)\n",
    "    #for penalty in ['l1', 'l2']: #['l1', 'l2']:\n",
    "    penalty='l1'\n",
    "    print('  %s:' % penalty, end=' ')\n",
    "    logistic_clf = LogisticRegression(\n",
    "        C=C, penalty=penalty, solver='saga', n_jobs=-1)\n",
    "    logistic_clf.fit(X_train, y_train)\n",
    "    preds = logistic_clf.predict(X_valid)\n",
    "    accuracy = sum(y_valid == preds) / len(preds)\n",
    "    a = [[pred, coef] for pred, coef in zip(predictors, logistic_clf.coef_[0])]\n",
    "    sig_preds = []\n",
    "    for pred, coef in a:\n",
    "        if abs(coef) > 0:\n",
    "            sig_preds.append(pred)\n",
    "    print(sig_preds)\n",
    "    if (accuracy > best_accuracy):\n",
    "        best_C = C\n",
    "        best_accuaracy = accuracy\n",
    "        best_penalty = penalty\n",
    "    print(' Accuracy:', round(accuracy, 4))\n",
    "    if penalty == 'l1':\n",
    "        l1_mods.append(accuracy)\n",
    "    else:\n",
    "        l2_mods.append(accuracy)\n",
    "    print('Elapsed time: %.2f minutes\\n' % ((time.time() - t0) / 60))"
   ]
  },
  {
   "cell_type": "code",
   "execution_count": 25,
   "metadata": {
    "collapsed": false
   },
   "outputs": [
    {
     "data": {
      "image/png": "[encoded data removed]",
      "text/plain": [
       "<Figure size 432x288 with 1 Axes>"
      ]
     },
     "metadata": {},
     "output_type": "display_data"
    }
   ],
   "source": [
    "plt.plot(Cs, l1_mods, label='L1 Reg.');\n",
    "#plt.plot(Cs, l2_mods, label='L2 Reg.');\n",
    "plt.xscale('log');\n",
    "plt.xlabel('C');\n",
    "plt.ylabel('Accuracy');\n",
    "plt.legend(loc='best');"
   ]
  },
  {
   "cell_type": "code",
   "execution_count": 26,
   "metadata": {
    "collapsed": false
   },
   "outputs": [
    {
     "data": {
      "text/plain": [
       "[(0.0001, 0.9302358509648448),\n",
       " (0.001, 0.9286884582709657),\n",
       " (0.01, 0.9274444759092196),\n",
       " (0.1, 0.9279703871515838),\n",
       " (1.0, 0.9279097050851571)]"
      ]
     },
     "execution_count": 26,
     "metadata": {},
     "output_type": "execute_result"
    }
   ],
   "source": [
    "[(c, acc) for c, acc in zip(Cs, l1_mods)]"
   ]
  },
  {
   "cell_type": "code",
   "execution_count": 27,
   "metadata": {
    "collapsed": false
   },
   "outputs": [],
   "source": [
    "best_C = 0.0001"
   ]
  },
  {
   "cell_type": "code",
   "execution_count": 28,
   "metadata": {
    "collapsed": false
   },
   "outputs": [
    {
     "name": "stdout",
     "output_type": "stream",
     "text": [
      "Elapsed time: 0.21 minutes\n",
      "\n",
      "Accuracy: 0.9356845427139732\n"
     ]
    }
   ],
   "source": [
    "t0 = time.time()\n",
    "logistic_clf = LogisticRegression(C=best_C, penalty='l1', solver='saga', n_jobs=-1)\n",
    "logistic_clf.fit(X_train, y_train)\n",
    "preds = logistic_clf.predict(X_test)\n",
    "probs = logistic_clf.predict_proba(X_test)\n",
    "accuracy = sum(y_test == preds) / len(preds)\n",
    "print('Elapsed time: %.2f minutes\\n' % ((time.time() - t0) / 60))\n",
    "print('Accuracy:', accuracy)"
   ]
  },
  {
   "cell_type": "code",
   "execution_count": 29,
   "metadata": {
    "collapsed": true
   },
   "outputs": [],
   "source": [
    "def get_predictions_at_threshold(pred_ps, threshold):\n",
    "    return 1 * (pred_ps >= threshold)\n",
    "\n",
    "def threshold_plot(pred_ps, targets):\n",
    "    thresholds = np.linspace(0, 1, 500)\n",
    "    accuracies = []\n",
    "    n = len(pred_ps)\n",
    "\n",
    "    for threshold in thresholds:\n",
    "        preds = get_predictions_at_threshold(pred_ps, threshold)\n",
    "        accuracies.append((preds == targets).sum() / n)\n",
    "        \n",
    "    plt.plot(thresholds, accuracies);\n",
    "    optimal_threshold = thresholds[np.argmax(accuracies)]\n",
    "    optimal_accuracy = max(accuracies)\n",
    "    plt.plot([optimal_threshold, optimal_threshold], \n",
    "             [min(accuracies), max(accuracies)], \n",
    "             'r')\n",
    "    plt.plot([0, 1], [optimal_accuracy, optimal_accuracy], 'r')\n",
    "    plt.xlabel('Threshold for predicting \"Renewal\"')\n",
    "    plt.ylabel('Accuracy')\n",
    "    plt.show()\n",
    "    return {'threshold': optimal_threshold, 'accuracy': optimal_accuracy}"
   ]
  },
  {
   "cell_type": "code",
   "execution_count": 30,
   "metadata": {
    "collapsed": false
   },
   "outputs": [
    {
     "name": "stdout",
     "output_type": "stream",
     "text": [
      "[[0.97904302 0.02095698]\n",
      " [0.97923184 0.02076816]\n",
      " [0.9792272  0.0207728 ]\n",
      " [0.97951783 0.02048217]\n",
      " [0.97975766 0.02024234]]\n"
     ]
    },
    {
     "data": {
      "image/png": "[encoded data removed]",
      "text/plain": [
       "<Figure size 432x288 with 1 Axes>"
      ]
     },
     "metadata": {},
     "output_type": "display_data"
    },
    {
     "name": "stdout",
     "output_type": "stream",
     "text": [
      "{'threshold': 0.5911823647294588, 'accuracy': 0.9369448393373865}\n"
     ]
    }
   ],
   "source": [
    "pred_ps = logistic_clf.predict_proba(X_test)\n",
    "print(pred_ps[:5])\n",
    "pred_ps = np.array([p[1] for p in pred_ps])\n",
    "pred_ps[:5]\n",
    "\n",
    "THRESHOLD = 0.5\n",
    "preds = get_predictions_at_threshold(pred_ps, THRESHOLD)\n",
    "preds[:5]\n",
    "\n",
    "best_threshold = threshold_plot(pred_ps, y_test);\n",
    "print(best_threshold)"
   ]
  },
  {
   "cell_type": "code",
   "execution_count": 31,
   "metadata": {
    "collapsed": false
   },
   "outputs": [
    {
     "name": "stdout",
     "output_type": "stream",
     "text": [
      "Confusion Matrix:\n",
      "         Predicted:\n",
      "         \t1\t\t0\n",
      "Actual: 1\t9420\t\t3080\n",
      "        0\t3299\t\t83384\n",
      "Accuracy:  0.9356845427139732\n",
      "Precision: 0.740624262913751\n",
      "Recall:    0.7536\n",
      "F1:        0.747055791268488\n"
     ]
    }
   ],
   "source": [
    "cm = util.make_confusion_matrix(y_test, pred_ps, 0.5)\n",
    "metrics = util.get_metrics(cm)"
   ]
  },
  {
   "cell_type": "code",
   "execution_count": 32,
   "metadata": {
    "collapsed": false
   },
   "outputs": [
    {
     "name": "stdout",
     "output_type": "stream",
     "text": [
      "Confusion Matrix:\n",
      "         Predicted:\n",
      "         \t1\t\t0\n",
      "Actual: 1\t9366\t\t3134\n",
      "        0\t3120\t\t83563\n",
      "Accuracy:  0.9369448393373865\n",
      "Precision: 0.7501201345506968\n",
      "Recall:    0.74928\n",
      "F1:        0.7496998319058673\n"
     ]
    }
   ],
   "source": [
    "cm = util.make_confusion_matrix(\n",
    "    y_test, pred_ps, best_threshold['threshold'])\n",
    "metrics = util.get_metrics(cm)"
   ]
  },
  {
   "cell_type": "code",
   "execution_count": 33,
   "metadata": {
    "collapsed": false
   },
   "outputs": [
    {
     "name": "stdout",
     "output_type": "stream",
     "text": [
      "AUC:       0.9278506106156917\n"
     ]
    }
   ],
   "source": [
    "auc_metrics = util.get_auc(y_test, pred_ps)"
   ]
  },
  {
   "cell_type": "code",
   "execution_count": 34,
   "metadata": {
    "collapsed": false
   },
   "outputs": [
    {
     "data": {
      "image/png": "[encoded data removed]",
      "text/plain": [
       "<Figure size 432x288 with 1 Axes>"
      ]
     },
     "metadata": {},
     "output_type": "display_data"
    }
   ],
   "source": [
    "util.plot_roc(auc_metrics['fpr'], auc_metrics['tpr'])"
   ]
  },
  {
   "cell_type": "code",
   "execution_count": 35,
   "metadata": {
    "collapsed": false
   },
   "outputs": [
    {
     "data": {
      "text/html": [
       "<div>\n",
       "<style scoped>\n",
       "    .dataframe tbody tr th:only-of-type {\n",
       "        vertical-align: middle;\n",
       "    }\n",
       "\n",
       "    .dataframe tbody tr th {\n",
       "        vertical-align: top;\n",
       "    }\n",
       "\n",
       "    .dataframe thead th {\n",
       "        text-align: right;\n",
       "    }\n",
       "</style>\n",
       "<table border=\"1\" class=\"dataframe\">\n",
       "  <thead>\n",
       "    <tr style=\"text-align: right;\">\n",
       "      <th></th>\n",
       "      <th>predictor</th>\n",
       "      <th>coef</th>\n",
       "    </tr>\n",
       "  </thead>\n",
       "  <tbody>\n",
       "    <tr>\n",
       "      <th>40</th>\n",
       "      <td>btl_t1</td>\n",
       "      <td>1.230139</td>\n",
       "    </tr>\n",
       "    <tr>\n",
       "      <th>39</th>\n",
       "      <td>age</td>\n",
       "      <td>0.187778</td>\n",
       "    </tr>\n",
       "    <tr>\n",
       "      <th>24</th>\n",
       "      <td>ddAugJul</td>\n",
       "      <td>-0.174109</td>\n",
       "    </tr>\n",
       "    <tr>\n",
       "      <th>35</th>\n",
       "      <td>summerTmean</td>\n",
       "      <td>-0.113796</td>\n",
       "    </tr>\n",
       "    <tr>\n",
       "      <th>22</th>\n",
       "      <td>Tvar</td>\n",
       "      <td>-0.108971</td>\n",
       "    </tr>\n",
       "    <tr>\n",
       "      <th>12</th>\n",
       "      <td>OptTsum</td>\n",
       "      <td>-0.036180</td>\n",
       "    </tr>\n",
       "    <tr>\n",
       "      <th>34</th>\n",
       "      <td>summerP2</td>\n",
       "      <td>-0.009861</td>\n",
       "    </tr>\n",
       "    <tr>\n",
       "      <th>7</th>\n",
       "      <td>Mar20</td>\n",
       "      <td>-0.006339</td>\n",
       "    </tr>\n",
       "    <tr>\n",
       "      <th>29</th>\n",
       "      <td>maxT</td>\n",
       "      <td>0.000000</td>\n",
       "    </tr>\n",
       "    <tr>\n",
       "      <th>25</th>\n",
       "      <td>ddAugJun</td>\n",
       "      <td>0.000000</td>\n",
       "    </tr>\n",
       "    <tr>\n",
       "      <th>26</th>\n",
       "      <td>fallTmean</td>\n",
       "      <td>0.000000</td>\n",
       "    </tr>\n",
       "    <tr>\n",
       "      <th>27</th>\n",
       "      <td>max.drop</td>\n",
       "      <td>0.000000</td>\n",
       "    </tr>\n",
       "    <tr>\n",
       "      <th>28</th>\n",
       "      <td>maxAugT</td>\n",
       "      <td>0.000000</td>\n",
       "    </tr>\n",
       "    <tr>\n",
       "      <th>32</th>\n",
       "      <td>summerP0</td>\n",
       "      <td>0.000000</td>\n",
       "    </tr>\n",
       "    <tr>\n",
       "      <th>30</th>\n",
       "      <td>mi</td>\n",
       "      <td>0.000000</td>\n",
       "    </tr>\n",
       "    <tr>\n",
       "      <th>31</th>\n",
       "      <td>minT</td>\n",
       "      <td>0.000000</td>\n",
       "    </tr>\n",
       "    <tr>\n",
       "      <th>33</th>\n",
       "      <td>summerP1</td>\n",
       "      <td>0.000000</td>\n",
       "    </tr>\n",
       "    <tr>\n",
       "      <th>36</th>\n",
       "      <td>vpd</td>\n",
       "      <td>0.000000</td>\n",
       "    </tr>\n",
       "    <tr>\n",
       "      <th>37</th>\n",
       "      <td>wd</td>\n",
       "      <td>0.000000</td>\n",
       "    </tr>\n",
       "    <tr>\n",
       "      <th>38</th>\n",
       "      <td>winterMin</td>\n",
       "      <td>0.000000</td>\n",
       "    </tr>\n",
       "    <tr>\n",
       "      <th>23</th>\n",
       "      <td>cwd</td>\n",
       "      <td>0.000000</td>\n",
       "    </tr>\n",
       "    <tr>\n",
       "      <th>0</th>\n",
       "      <td>Acs</td>\n",
       "      <td>0.000000</td>\n",
       "    </tr>\n",
       "    <tr>\n",
       "      <th>21</th>\n",
       "      <td>Tmin</td>\n",
       "      <td>0.000000</td>\n",
       "    </tr>\n",
       "    <tr>\n",
       "      <th>10</th>\n",
       "      <td>OctMin</td>\n",
       "      <td>0.000000</td>\n",
       "    </tr>\n",
       "    <tr>\n",
       "      <th>2</th>\n",
       "      <td>AugTmax</td>\n",
       "      <td>0.000000</td>\n",
       "    </tr>\n",
       "    <tr>\n",
       "      <th>3</th>\n",
       "      <td>AugTmean</td>\n",
       "      <td>0.000000</td>\n",
       "    </tr>\n",
       "    <tr>\n",
       "      <th>4</th>\n",
       "      <td>Jan20</td>\n",
       "      <td>0.000000</td>\n",
       "    </tr>\n",
       "    <tr>\n",
       "      <th>5</th>\n",
       "      <td>JanMin</td>\n",
       "      <td>0.000000</td>\n",
       "    </tr>\n",
       "    <tr>\n",
       "      <th>6</th>\n",
       "      <td>JanTmin</td>\n",
       "      <td>0.000000</td>\n",
       "    </tr>\n",
       "    <tr>\n",
       "      <th>8</th>\n",
       "      <td>MarMin</td>\n",
       "      <td>0.000000</td>\n",
       "    </tr>\n",
       "    <tr>\n",
       "      <th>9</th>\n",
       "      <td>MarTmin</td>\n",
       "      <td>0.000000</td>\n",
       "    </tr>\n",
       "    <tr>\n",
       "      <th>11</th>\n",
       "      <td>OctTmin</td>\n",
       "      <td>0.000000</td>\n",
       "    </tr>\n",
       "    <tr>\n",
       "      <th>1</th>\n",
       "      <td>AugMaxT</td>\n",
       "      <td>0.000000</td>\n",
       "    </tr>\n",
       "    <tr>\n",
       "      <th>13</th>\n",
       "      <td>PMarAug</td>\n",
       "      <td>0.000000</td>\n",
       "    </tr>\n",
       "    <tr>\n",
       "      <th>14</th>\n",
       "      <td>POctSep</td>\n",
       "      <td>0.000000</td>\n",
       "    </tr>\n",
       "    <tr>\n",
       "      <th>15</th>\n",
       "      <td>PPT</td>\n",
       "      <td>0.000000</td>\n",
       "    </tr>\n",
       "    <tr>\n",
       "      <th>16</th>\n",
       "      <td>PcumOctSep</td>\n",
       "      <td>0.000000</td>\n",
       "    </tr>\n",
       "    <tr>\n",
       "      <th>17</th>\n",
       "      <td>Pmean</td>\n",
       "      <td>0.000000</td>\n",
       "    </tr>\n",
       "    <tr>\n",
       "      <th>18</th>\n",
       "      <td>TMarAug</td>\n",
       "      <td>0.000000</td>\n",
       "    </tr>\n",
       "    <tr>\n",
       "      <th>19</th>\n",
       "      <td>TOctSep</td>\n",
       "      <td>0.000000</td>\n",
       "    </tr>\n",
       "    <tr>\n",
       "      <th>20</th>\n",
       "      <td>Tmean</td>\n",
       "      <td>0.000000</td>\n",
       "    </tr>\n",
       "  </tbody>\n",
       "</table>\n",
       "</div>"
      ],
      "text/plain": [
       "      predictor      coef\n",
       "40       btl_t1  1.230139\n",
       "39          age  0.187778\n",
       "24     ddAugJul -0.174109\n",
       "35  summerTmean -0.113796\n",
       "22         Tvar -0.108971\n",
       "12      OptTsum -0.036180\n",
       "34     summerP2 -0.009861\n",
       "7         Mar20 -0.006339\n",
       "29         maxT  0.000000\n",
       "25     ddAugJun  0.000000\n",
       "26    fallTmean  0.000000\n",
       "27     max.drop  0.000000\n",
       "28      maxAugT  0.000000\n",
       "32     summerP0  0.000000\n",
       "30           mi  0.000000\n",
       "31         minT  0.000000\n",
       "33     summerP1  0.000000\n",
       "36          vpd  0.000000\n",
       "37           wd  0.000000\n",
       "38    winterMin  0.000000\n",
       "23          cwd  0.000000\n",
       "0           Acs  0.000000\n",
       "21         Tmin  0.000000\n",
       "10       OctMin  0.000000\n",
       "2       AugTmax  0.000000\n",
       "3      AugTmean  0.000000\n",
       "4         Jan20  0.000000\n",
       "5        JanMin  0.000000\n",
       "6       JanTmin  0.000000\n",
       "8        MarMin  0.000000\n",
       "9       MarTmin  0.000000\n",
       "11      OctTmin  0.000000\n",
       "1       AugMaxT  0.000000\n",
       "13      PMarAug  0.000000\n",
       "14      POctSep  0.000000\n",
       "15          PPT  0.000000\n",
       "16   PcumOctSep  0.000000\n",
       "17        Pmean  0.000000\n",
       "18      TMarAug  0.000000\n",
       "19      TOctSep  0.000000\n",
       "20        Tmean  0.000000"
      ]
     },
     "execution_count": 35,
     "metadata": {},
     "output_type": "execute_result"
    }
   ],
   "source": [
    "coefs = pd.DataFrame(\n",
    "    [[pred, coef] \n",
    "     for pred, coef in zip(predictors, logistic_clf.coef_[0])], \n",
    "    columns=['predictor', 'coef'])\n",
    "coefs['abs'] = np.abs(coefs.coef)\n",
    "coefs = coefs.sort_values('abs', ascending=False)\n",
    "coefs = coefs.drop(['abs'], axis=1)\n",
    "coefs"
   ]
  },
  {
   "cell_type": "code",
   "execution_count": 36,
   "metadata": {
    "collapsed": false
   },
   "outputs": [
    {
     "data": {
      "text/plain": [
       "array([[0.97780685, 0.02219315],\n",
       "       [0.97514622, 0.02485378],\n",
       "       [0.97666173, 0.02333827],\n",
       "       ...,\n",
       "       [0.93280061, 0.06719939],\n",
       "       [0.94542385, 0.05457615],\n",
       "       [0.9409689 , 0.0590311 ]])"
      ]
     },
     "execution_count": 36,
     "metadata": {},
     "output_type": "execute_result"
    }
   ],
   "source": [
    "logistic_clf.predict_proba(X_train)"
   ]
  },
  {
   "cell_type": "code",
   "execution_count": 37,
   "metadata": {
    "collapsed": true
   },
   "outputs": [],
   "source": [
    "pred_ps_train = logistic_clf.predict_proba(X_train)\n",
    "pred_ps_train = np.array([p[1] for p in pred_ps_train])\n",
    "\n",
    "pred_ps_valid = logistic_clf.predict_proba(X_valid)\n",
    "pred_ps_valid = np.array([p[1] for p in pred_ps_valid])\n",
    "\n",
    "full_train['probs'] = pred_ps_train\n",
    "full_train['preds'] = get_predictions_at_threshold(\n",
    "    pred_ps_train, best_threshold['threshold'])\n",
    "\n",
    "\n",
    "full_valid['probs'] = pred_ps_valid\n",
    "full_valid['preds'] = get_predictions_at_threshold(\n",
    "    pred_ps_valid, best_threshold['threshold'])"
   ]
  },
  {
   "cell_type": "code",
   "execution_count": 38,
   "metadata": {
    "collapsed": false
   },
   "outputs": [
    {
     "data": {
      "text/html": [
       "<div>\n",
       "<style scoped>\n",
       "    .dataframe tbody tr th:only-of-type {\n",
       "        vertical-align: middle;\n",
       "    }\n",
       "\n",
       "    .dataframe tbody tr th {\n",
       "        vertical-align: top;\n",
       "    }\n",
       "\n",
       "    .dataframe thead th {\n",
       "        text-align: right;\n",
       "    }\n",
       "</style>\n",
       "<table border=\"1\" class=\"dataframe\">\n",
       "  <thead>\n",
       "    <tr style=\"text-align: right;\">\n",
       "      <th></th>\n",
       "      <th>Acs</th>\n",
       "      <th>AugMaxT</th>\n",
       "      <th>AugTmax</th>\n",
       "      <th>AugTmean</th>\n",
       "      <th>Jan20</th>\n",
       "      <th>JanMin</th>\n",
       "      <th>JanTmin</th>\n",
       "      <th>Mar20</th>\n",
       "      <th>MarMin</th>\n",
       "      <th>MarTmin</th>\n",
       "      <th>...</th>\n",
       "      <th>wd</th>\n",
       "      <th>winterMin</th>\n",
       "      <th>x</th>\n",
       "      <th>y</th>\n",
       "      <th>year</th>\n",
       "      <th>age</th>\n",
       "      <th>btl_t1</th>\n",
       "      <th>btl</th>\n",
       "      <th>probs</th>\n",
       "      <th>preds</th>\n",
       "    </tr>\n",
       "  </thead>\n",
       "  <tbody>\n",
       "    <tr>\n",
       "      <th>0</th>\n",
       "      <td>0.0</td>\n",
       "      <td>40.320885</td>\n",
       "      <td>37.172668</td>\n",
       "      <td>28.542564</td>\n",
       "      <td>0</td>\n",
       "      <td>-7.754573</td>\n",
       "      <td>-0.617069</td>\n",
       "      <td>0</td>\n",
       "      <td>-4.906324</td>\n",
       "      <td>4.892391</td>\n",
       "      <td>...</td>\n",
       "      <td>-7.549322</td>\n",
       "      <td>-8.055787</td>\n",
       "      <td>-390000.0</td>\n",
       "      <td>-2040000.0</td>\n",
       "      <td>2015</td>\n",
       "      <td>0.0</td>\n",
       "      <td>0</td>\n",
       "      <td>0</td>\n",
       "      <td>0.020957</td>\n",
       "      <td>0</td>\n",
       "    </tr>\n",
       "    <tr>\n",
       "      <th>1</th>\n",
       "      <td>0.0</td>\n",
       "      <td>40.502707</td>\n",
       "      <td>37.358329</td>\n",
       "      <td>28.728538</td>\n",
       "      <td>0</td>\n",
       "      <td>-7.831432</td>\n",
       "      <td>-0.501957</td>\n",
       "      <td>0</td>\n",
       "      <td>-4.817822</td>\n",
       "      <td>5.149851</td>\n",
       "      <td>...</td>\n",
       "      <td>-43.963725</td>\n",
       "      <td>-7.897553</td>\n",
       "      <td>-380000.0</td>\n",
       "      <td>-2040000.0</td>\n",
       "      <td>2015</td>\n",
       "      <td>0.0</td>\n",
       "      <td>0</td>\n",
       "      <td>0</td>\n",
       "      <td>0.020768</td>\n",
       "      <td>0</td>\n",
       "    </tr>\n",
       "    <tr>\n",
       "      <th>2</th>\n",
       "      <td>0.0</td>\n",
       "      <td>40.605501</td>\n",
       "      <td>37.344373</td>\n",
       "      <td>28.714929</td>\n",
       "      <td>0</td>\n",
       "      <td>-7.490612</td>\n",
       "      <td>-0.537551</td>\n",
       "      <td>0</td>\n",
       "      <td>-4.754256</td>\n",
       "      <td>5.106586</td>\n",
       "      <td>...</td>\n",
       "      <td>-36.603203</td>\n",
       "      <td>-7.796747</td>\n",
       "      <td>-370000.0</td>\n",
       "      <td>-2040000.0</td>\n",
       "      <td>2015</td>\n",
       "      <td>0.0</td>\n",
       "      <td>0</td>\n",
       "      <td>0</td>\n",
       "      <td>0.020773</td>\n",
       "      <td>0</td>\n",
       "    </tr>\n",
       "    <tr>\n",
       "      <th>3</th>\n",
       "      <td>0.0</td>\n",
       "      <td>40.957636</td>\n",
       "      <td>37.679187</td>\n",
       "      <td>29.100471</td>\n",
       "      <td>0</td>\n",
       "      <td>-7.406106</td>\n",
       "      <td>-0.424526</td>\n",
       "      <td>0</td>\n",
       "      <td>-4.492903</td>\n",
       "      <td>5.414470</td>\n",
       "      <td>...</td>\n",
       "      <td>-48.166563</td>\n",
       "      <td>-7.568926</td>\n",
       "      <td>-360000.0</td>\n",
       "      <td>-2040000.0</td>\n",
       "      <td>2015</td>\n",
       "      <td>0.0</td>\n",
       "      <td>0</td>\n",
       "      <td>0</td>\n",
       "      <td>0.020482</td>\n",
       "      <td>0</td>\n",
       "    </tr>\n",
       "    <tr>\n",
       "      <th>4</th>\n",
       "      <td>0.0</td>\n",
       "      <td>41.064250</td>\n",
       "      <td>37.894372</td>\n",
       "      <td>29.370663</td>\n",
       "      <td>0</td>\n",
       "      <td>-7.449937</td>\n",
       "      <td>-0.320193</td>\n",
       "      <td>0</td>\n",
       "      <td>-4.192837</td>\n",
       "      <td>5.694320</td>\n",
       "      <td>...</td>\n",
       "      <td>-80.172106</td>\n",
       "      <td>-7.449937</td>\n",
       "      <td>-350000.0</td>\n",
       "      <td>-2040000.0</td>\n",
       "      <td>2015</td>\n",
       "      <td>0.0</td>\n",
       "      <td>0</td>\n",
       "      <td>0</td>\n",
       "      <td>0.020242</td>\n",
       "      <td>0</td>\n",
       "    </tr>\n",
       "  </tbody>\n",
       "</table>\n",
       "<p>5 rows × 47 columns</p>\n",
       "</div>"
      ],
      "text/plain": [
       "   Acs    AugMaxT    AugTmax   AugTmean  Jan20    JanMin   JanTmin  Mar20  \\\n",
       "0  0.0  40.320885  37.172668  28.542564      0 -7.754573 -0.617069      0   \n",
       "1  0.0  40.502707  37.358329  28.728538      0 -7.831432 -0.501957      0   \n",
       "2  0.0  40.605501  37.344373  28.714929      0 -7.490612 -0.537551      0   \n",
       "3  0.0  40.957636  37.679187  29.100471      0 -7.406106 -0.424526      0   \n",
       "4  0.0  41.064250  37.894372  29.370663      0 -7.449937 -0.320193      0   \n",
       "\n",
       "     MarMin   MarTmin  ...           wd  winterMin         x          y  year  \\\n",
       "0 -4.906324  4.892391  ...    -7.549322  -8.055787 -390000.0 -2040000.0  2015   \n",
       "1 -4.817822  5.149851  ...   -43.963725  -7.897553 -380000.0 -2040000.0  2015   \n",
       "2 -4.754256  5.106586  ...   -36.603203  -7.796747 -370000.0 -2040000.0  2015   \n",
       "3 -4.492903  5.414470  ...   -48.166563  -7.568926 -360000.0 -2040000.0  2015   \n",
       "4 -4.192837  5.694320  ...   -80.172106  -7.449937 -350000.0 -2040000.0  2015   \n",
       "\n",
       "   age  btl_t1  btl     probs  preds  \n",
       "0  0.0       0    0  0.020957      0  \n",
       "1  0.0       0    0  0.020768      0  \n",
       "2  0.0       0    0  0.020773      0  \n",
       "3  0.0       0    0  0.020482      0  \n",
       "4  0.0       0    0  0.020242      0  \n",
       "\n",
       "[5 rows x 47 columns]"
      ]
     },
     "execution_count": 38,
     "metadata": {},
     "output_type": "execute_result"
    }
   ],
   "source": [
    "full_test['probs'] = pred_ps\n",
    "full_test['preds'] = get_predictions_at_threshold(\n",
    "    pred_ps, best_threshold['threshold'])\n",
    "full_test.head()"
   ]
  },
  {
   "cell_type": "code",
   "execution_count": 39,
   "metadata": {
    "collapsed": true
   },
   "outputs": [],
   "source": [
    "def pred_plot(actual_matrix, pred_matrix, error_matrix, year):\n",
    "    plt.subplot(131)\n",
    "    imshow(np.rot90(actual_matrix));\n",
    "    plt.title('%d Actual' % year);\n",
    "    plt.subplot(132)\n",
    "    imshow(np.rot90(pred_matrix));\n",
    "    plt.title('%d Predicted' % year);\n",
    "    plt.subplot(133)\n",
    "    imshow(np.rot90(error_matrix));\n",
    "    plt.title('%d Error' % year);"
   ]
  },
  {
   "cell_type": "code",
   "execution_count": 40,
   "metadata": {
    "collapsed": true
   },
   "outputs": [],
   "source": [
    "def make_actual_pred_and_error_matrices(\n",
    "    data, year, pred_type='preds', plot=False):\n",
    "    data_year = data.loc[data.year == year, :]\n",
    "    actual_matrix = util.column2matrix(data_year, 'btl')\n",
    "    pred_matrix   = util.column2matrix(data_year, pred_type)\n",
    "    error_matrix  = pred_matrix - actual_matrix\n",
    "    if plot:\n",
    "        pred_plot(actual_matrix, pred_matrix, error_matrix, year)        \n",
    "    return actual_matrix, pred_matrix, error_matrix"
   ]
  },
  {
   "cell_type": "code",
   "execution_count": 41,
   "metadata": {
    "collapsed": false
   },
   "outputs": [
    {
     "name": "stdout",
     "output_type": "stream",
     "text": [
      "matrix shape: (196, 359)\n",
      "matrix shape: (196, 359)\n",
      "matrix shape: (195, 357)\n",
      "matrix shape: (195, 357)\n"
     ]
    },
    {
     "data": {
      "image/png": "[encoded data removed]",
      "text/plain": [
       "<Figure size 432x288 with 3 Axes>"
      ]
     },
     "metadata": {},
     "output_type": "display_data"
    },
    {
     "data": {
      "image/png": "[encoded data removed]",
      "text/plain": [
       "<Figure size 432x288 with 3 Axes>"
      ]
     },
     "metadata": {},
     "output_type": "display_data"
    }
   ],
   "source": [
    "years = [2003, 2009]\n",
    "for year in years:\n",
    "    plt.figure();\n",
    "    make_actual_pred_and_error_matrices(full_train, year, plot=True)"
   ]
  },
  {
   "cell_type": "code",
   "execution_count": 42,
   "metadata": {
    "collapsed": false
   },
   "outputs": [
    {
     "name": "stdout",
     "output_type": "stream",
     "text": [
      "matrix shape: (196, 351)\n",
      "matrix shape: (196, 351)\n",
      "matrix shape: (192, 355)\n",
      "matrix shape: (192, 355)\n"
     ]
    },
    {
     "data": {
      "image/png": "[encoded data removed]",
      "text/plain": [
       "<Figure size 432x288 with 3 Axes>"
      ]
     },
     "metadata": {},
     "output_type": "display_data"
    },
    {
     "data": {
      "image/png": "[encoded data removed]",
      "text/plain": [
       "<Figure size 432x288 with 3 Axes>"
      ]
     },
     "metadata": {},
     "output_type": "display_data"
    }
   ],
   "source": [
    "for year in years:\n",
    "    plt.figure();\n",
    "    make_actual_pred_and_error_matrices(full_valid, year, plot=True)"
   ]
  },
  {
   "cell_type": "code",
   "execution_count": 43,
   "metadata": {
    "collapsed": false
   },
   "outputs": [
    {
     "name": "stdout",
     "output_type": "stream",
     "text": [
      "matrix shape: (184, 346)\n",
      "matrix shape: (184, 346)\n",
      "matrix shape: (196, 350)\n",
      "matrix shape: (196, 350)\n"
     ]
    },
    {
     "data": {
      "image/png": "[encoded data removed]",
      "text/plain": [
       "<Figure size 432x288 with 3 Axes>"
      ]
     },
     "metadata": {},
     "output_type": "display_data"
    },
    {
     "data": {
      "image/png": "[encoded data removed]",
      "text/plain": [
       "<Figure size 432x288 with 3 Axes>"
      ]
     },
     "metadata": {},
     "output_type": "display_data"
    }
   ],
   "source": [
    "for year in years:\n",
    "    plt.figure();\n",
    "    make_actual_pred_and_error_matrices(full_test, year, plot=True)"
   ]
  },
  {
   "cell_type": "code",
   "execution_count": 44,
   "metadata": {
    "collapsed": true
   },
   "outputs": [],
   "source": [
    "all_data = full_train.append(full_valid).append(full_test)\n",
    "all_data.index = range(all_data.shape[0])"
   ]
  },
  {
   "cell_type": "code",
   "execution_count": 45,
   "metadata": {
    "collapsed": false
   },
   "outputs": [
    {
     "name": "stdout",
     "output_type": "stream",
     "text": [
      "matrix shape: (196, 359)\n",
      "matrix shape: (196, 359)\n",
      "matrix shape: (196, 359)\n",
      "matrix shape: (196, 359)\n"
     ]
    },
    {
     "data": {
      "image/png": "[encoded data removed]",
      "text/plain": [
       "<Figure size 432x288 with 3 Axes>"
      ]
     },
     "metadata": {},
     "output_type": "display_data"
    },
    {
     "data": {
      "image/png": "[encoded data removed]",
      "text/plain": [
       "<Figure size 432x288 with 3 Axes>"
      ]
     },
     "metadata": {},
     "output_type": "display_data"
    }
   ],
   "source": [
    "for year in years:\n",
    "    plt.figure();\n",
    "    make_actual_pred_and_error_matrices(\n",
    "        all_data, year, pred_type='probs', plot=True)"
   ]
  },
  {
   "cell_type": "code",
   "execution_count": 46,
   "metadata": {
    "collapsed": true
   },
   "outputs": [],
   "source": [
    "!say \"I'm done\""
   ]
  },
  {
   "cell_type": "code",
   "execution_count": null,
   "metadata": {
    "collapsed": true
   },
   "outputs": [],
   "source": []
  }
 ],
 "metadata": {
  "kernelspec": {
   "display_name": "Python 3",
   "language": "python",
   "name": "python3"
  },
  "language_info": {
   "codemirror_mode": {
    "name": "ipython",
    "version": 3
   },
   "file_extension": ".py",
   "mimetype": "text/x-python",
   "name": "python",
   "nbconvert_exporter": "python",
   "pygments_lexer": "ipython3",
   "version": "3.6.2"
  }
 },
 "nbformat": 4,
 "nbformat_minor": 2
}
