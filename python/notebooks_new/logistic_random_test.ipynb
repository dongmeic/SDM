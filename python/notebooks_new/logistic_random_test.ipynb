{
 "cells": [
  {
   "cell_type": "code",
   "execution_count": 51,
   "metadata": {
    "collapsed": false
   },
   "outputs": [],
   "source": [
    "import sys\n",
    "import time\n",
    "\n",
    "import matplotlib.pyplot as plt\n",
    "import numpy as np\n",
    "import pandas as pd\n",
    "from pylab import *\n",
    "from sklearn.linear_model import LogisticRegression, Ridge\n",
    "from sklearn.pipeline import Pipeline\n",
    "from sklearn.model_selection import GridSearchCV\n",
    "from sklearn.preprocessing import StandardScaler\n",
    "\n",
    "sys.path.append('../models_new')\n",
    "import model_utils_new as util\n",
    "from construct_model_matrices_test import ModelMatrixConstructor\n",
    "\n",
    "%matplotlib inline\n",
    "plt.rcParams['figure.figsize'] = 10, 8"
   ]
  },
  {
   "cell_type": "code",
   "execution_count": 52,
   "metadata": {
    "collapsed": true
   },
   "outputs": [],
   "source": [
    "DATA_DIR = '../../data/Xy_random_split_data'\n",
    "TEST = False"
   ]
  },
  {
   "cell_type": "code",
   "execution_count": 53,
   "metadata": {
    "collapsed": false
   },
   "outputs": [
    {
     "name": "stdout",
     "output_type": "stream",
     "text": [
      "Loading data from ['X_train_1998.csv', 'X_train_1999.csv', 'X_train_2000.csv', 'X_train_2001.csv', 'X_train_2002.csv', 'X_train_2003.csv', 'X_train_2004.csv', 'X_train_2005.csv', 'X_train_2006.csv', 'X_train_2007.csv', 'X_train_2008.csv', 'X_train_2009.csv', 'X_train_2010.csv', 'X_train_2011.csv', 'X_train_2012.csv', 'X_train_2013.csv', 'X_train_2014.csv', 'X_train_2015.csv']...\n",
      "Loading data from ['X_valid_1998.csv', 'X_valid_1999.csv', 'X_valid_2000.csv', 'X_valid_2001.csv', 'X_valid_2002.csv', 'X_valid_2003.csv', 'X_valid_2004.csv', 'X_valid_2005.csv', 'X_valid_2006.csv', 'X_valid_2007.csv', 'X_valid_2008.csv', 'X_valid_2009.csv', 'X_valid_2010.csv', 'X_valid_2011.csv', 'X_valid_2012.csv', 'X_valid_2013.csv', 'X_valid_2014.csv', 'X_valid_2015.csv']...\n",
      "Loading data from ['X_test_1998.csv', 'X_test_1999.csv', 'X_test_2000.csv', 'X_test_2001.csv', 'X_test_2002.csv', 'X_test_2003.csv', 'X_test_2004.csv', 'X_test_2005.csv', 'X_test_2006.csv', 'X_test_2007.csv', 'X_test_2008.csv', 'X_test_2009.csv', 'X_test_2010.csv', 'X_test_2011.csv', 'X_test_2012.csv', 'X_test_2013.csv', 'X_test_2014.csv', 'X_test_2015.csv']...\n",
      "Loading data from ['y_train_1998.csv', 'y_train_1999.csv', 'y_train_2000.csv', 'y_train_2001.csv', 'y_train_2002.csv', 'y_train_2003.csv', 'y_train_2004.csv', 'y_train_2005.csv', 'y_train_2006.csv', 'y_train_2007.csv', 'y_train_2008.csv', 'y_train_2009.csv', 'y_train_2010.csv', 'y_train_2011.csv', 'y_train_2012.csv', 'y_train_2013.csv', 'y_train_2014.csv', 'y_train_2015.csv']...\n",
      "Loading data from ['y_valid_1998.csv', 'y_valid_1999.csv', 'y_valid_2000.csv', 'y_valid_2001.csv', 'y_valid_2002.csv', 'y_valid_2003.csv', 'y_valid_2004.csv', 'y_valid_2005.csv', 'y_valid_2006.csv', 'y_valid_2007.csv', 'y_valid_2008.csv', 'y_valid_2009.csv', 'y_valid_2010.csv', 'y_valid_2011.csv', 'y_valid_2012.csv', 'y_valid_2013.csv', 'y_valid_2014.csv', 'y_valid_2015.csv']...\n",
      "Loading data from ['y_test_1998.csv', 'y_test_1999.csv', 'y_test_2000.csv', 'y_test_2001.csv', 'y_test_2002.csv', 'y_test_2003.csv', 'y_test_2004.csv', 'y_test_2005.csv', 'y_test_2006.csv', 'y_test_2007.csv', 'y_test_2008.csv', 'y_test_2009.csv', 'y_test_2010.csv', 'y_test_2011.csv', 'y_test_2012.csv', 'y_test_2013.csv', 'y_test_2014.csv', 'y_test_2015.csv']...\n"
     ]
    }
   ],
   "source": [
    "matrix_constructor = ModelMatrixConstructor(DATA_DIR, TEST)\n",
    "matrix_constructor.construct_model_matrices()"
   ]
  },
  {
   "cell_type": "code",
   "execution_count": 54,
   "metadata": {
    "collapsed": false
   },
   "outputs": [],
   "source": [
    "#test_vars = matrix_constructor.get_random_variables()\n",
    "test_vars = ['Jan20', 'Mar20', 'Acs', 'max.drop','JanTmin', 'MarTmin', 'OctTmin', 'Tmin', 'OctMin', 'JanMin', \n",
    "             'MarMin', 'winterMin', 'minT','TMarAug', 'fallTmean', 'Tmean', 'Tvar', 'TOctSep','ddAugJul', \n",
    "             'ddAugJun','summerTmean', 'AugTmean', 'AugTmax', 'maxAugT','OptTsum', 'AugMaxT', 'maxT','PMarAug', \n",
    "             'summerP0', 'summerP1', 'summerP2', 'Pmean','POctSep', 'PcumOctSep', 'PPT','wd', 'vpd', 'mi', 'cwd']\n",
    "test_vars = sorted(test_vars)\n",
    "for var in ['x', 'y', 'year']:\n",
    "    test_vars.append(var)\n",
    "#test_vars"
   ]
  },
  {
   "cell_type": "code",
   "execution_count": 7,
   "metadata": {
    "collapsed": true
   },
   "outputs": [],
   "source": [
    "def print_dims(data_set, name):\n",
    "    print('%s:\\n X: %r\\n y: %r' \n",
    "          % (name, data_set[0].shape, data_set[1].shape))"
   ]
  },
  {
   "cell_type": "code",
   "execution_count": 57,
   "metadata": {
    "collapsed": false
   },
   "outputs": [
    {
     "name": "stdout",
     "output_type": "stream",
     "text": [
      "Train:\n",
      " X: (789475, 42)\n",
      " y: (789475, 1)\n",
      "Valid:\n",
      " X: (98876, 42)\n",
      " y: (98876, 1)\n",
      "Test:\n",
      " X: (99183, 42)\n",
      " y: (99183, 1)\n"
     ]
    },
    {
     "data": {
      "text/html": [
       "<div>\n",
       "<style scoped>\n",
       "    .dataframe tbody tr th:only-of-type {\n",
       "        vertical-align: middle;\n",
       "    }\n",
       "\n",
       "    .dataframe tbody tr th {\n",
       "        vertical-align: top;\n",
       "    }\n",
       "\n",
       "    .dataframe thead th {\n",
       "        text-align: right;\n",
       "    }\n",
       "</style>\n",
       "<table border=\"1\" class=\"dataframe\">\n",
       "  <thead>\n",
       "    <tr style=\"text-align: right;\">\n",
       "      <th></th>\n",
       "      <th>Acs</th>\n",
       "      <th>AugMaxT</th>\n",
       "      <th>AugTmax</th>\n",
       "      <th>AugTmean</th>\n",
       "      <th>Jan20</th>\n",
       "      <th>JanMin</th>\n",
       "      <th>JanTmin</th>\n",
       "      <th>Mar20</th>\n",
       "      <th>MarMin</th>\n",
       "      <th>MarTmin</th>\n",
       "      <th>...</th>\n",
       "      <th>summerP0</th>\n",
       "      <th>summerP1</th>\n",
       "      <th>summerP2</th>\n",
       "      <th>summerTmean</th>\n",
       "      <th>vpd</th>\n",
       "      <th>wd</th>\n",
       "      <th>winterMin</th>\n",
       "      <th>x</th>\n",
       "      <th>y</th>\n",
       "      <th>year</th>\n",
       "    </tr>\n",
       "  </thead>\n",
       "  <tbody>\n",
       "    <tr>\n",
       "      <th>0</th>\n",
       "      <td>0.0</td>\n",
       "      <td>38.752094</td>\n",
       "      <td>36.091501</td>\n",
       "      <td>27.502499</td>\n",
       "      <td>0</td>\n",
       "      <td>-7.478265</td>\n",
       "      <td>-0.805385</td>\n",
       "      <td>0</td>\n",
       "      <td>-5.356053</td>\n",
       "      <td>4.376215</td>\n",
       "      <td>...</td>\n",
       "      <td>143.195089</td>\n",
       "      <td>117.425140</td>\n",
       "      <td>260.620229</td>\n",
       "      <td>26.963603</td>\n",
       "      <td>366937.690852</td>\n",
       "      <td>11.790140</td>\n",
       "      <td>-8.064639</td>\n",
       "      <td>-450000.0</td>\n",
       "      <td>-2040000.0</td>\n",
       "      <td>2015</td>\n",
       "    </tr>\n",
       "    <tr>\n",
       "      <th>1</th>\n",
       "      <td>0.0</td>\n",
       "      <td>36.743772</td>\n",
       "      <td>33.994497</td>\n",
       "      <td>25.295415</td>\n",
       "      <td>0</td>\n",
       "      <td>-7.273205</td>\n",
       "      <td>-2.191895</td>\n",
       "      <td>0</td>\n",
       "      <td>-5.843041</td>\n",
       "      <td>2.200347</td>\n",
       "      <td>...</td>\n",
       "      <td>172.401804</td>\n",
       "      <td>145.925704</td>\n",
       "      <td>318.327508</td>\n",
       "      <td>24.755350</td>\n",
       "      <td>320657.267566</td>\n",
       "      <td>48.674129</td>\n",
       "      <td>-8.693665</td>\n",
       "      <td>-440000.0</td>\n",
       "      <td>-2040000.0</td>\n",
       "      <td>2015</td>\n",
       "    </tr>\n",
       "    <tr>\n",
       "      <th>2</th>\n",
       "      <td>0.0</td>\n",
       "      <td>37.632520</td>\n",
       "      <td>35.397027</td>\n",
       "      <td>26.787834</td>\n",
       "      <td>0</td>\n",
       "      <td>-7.500000</td>\n",
       "      <td>-1.377182</td>\n",
       "      <td>0</td>\n",
       "      <td>-5.443481</td>\n",
       "      <td>3.525477</td>\n",
       "      <td>...</td>\n",
       "      <td>153.630621</td>\n",
       "      <td>126.445372</td>\n",
       "      <td>280.075993</td>\n",
       "      <td>26.213616</td>\n",
       "      <td>334804.068208</td>\n",
       "      <td>60.135742</td>\n",
       "      <td>-8.585368</td>\n",
       "      <td>-430000.0</td>\n",
       "      <td>-2040000.0</td>\n",
       "      <td>2015</td>\n",
       "    </tr>\n",
       "    <tr>\n",
       "      <th>3</th>\n",
       "      <td>0.0</td>\n",
       "      <td>38.558851</td>\n",
       "      <td>35.949109</td>\n",
       "      <td>27.379772</td>\n",
       "      <td>0</td>\n",
       "      <td>-7.500000</td>\n",
       "      <td>-1.161289</td>\n",
       "      <td>0</td>\n",
       "      <td>-5.006946</td>\n",
       "      <td>4.101569</td>\n",
       "      <td>...</td>\n",
       "      <td>143.880799</td>\n",
       "      <td>115.983417</td>\n",
       "      <td>259.864216</td>\n",
       "      <td>26.805074</td>\n",
       "      <td>350649.461883</td>\n",
       "      <td>57.758161</td>\n",
       "      <td>-8.490052</td>\n",
       "      <td>-420000.0</td>\n",
       "      <td>-2040000.0</td>\n",
       "      <td>2015</td>\n",
       "    </tr>\n",
       "    <tr>\n",
       "      <th>4</th>\n",
       "      <td>0.0</td>\n",
       "      <td>39.136888</td>\n",
       "      <td>36.350756</td>\n",
       "      <td>27.771246</td>\n",
       "      <td>0</td>\n",
       "      <td>-7.501845</td>\n",
       "      <td>-0.944256</td>\n",
       "      <td>0</td>\n",
       "      <td>-5.000000</td>\n",
       "      <td>4.428590</td>\n",
       "      <td>...</td>\n",
       "      <td>136.151595</td>\n",
       "      <td>107.539114</td>\n",
       "      <td>243.690708</td>\n",
       "      <td>27.196394</td>\n",
       "      <td>360183.639481</td>\n",
       "      <td>63.650985</td>\n",
       "      <td>-8.365362</td>\n",
       "      <td>-410000.0</td>\n",
       "      <td>-2040000.0</td>\n",
       "      <td>2015</td>\n",
       "    </tr>\n",
       "  </tbody>\n",
       "</table>\n",
       "<p>5 rows × 42 columns</p>\n",
       "</div>"
      ],
      "text/plain": [
       "   Acs    AugMaxT    AugTmax   AugTmean  Jan20    JanMin   JanTmin  Mar20  \\\n",
       "0  0.0  38.752094  36.091501  27.502499      0 -7.478265 -0.805385      0   \n",
       "1  0.0  36.743772  33.994497  25.295415      0 -7.273205 -2.191895      0   \n",
       "2  0.0  37.632520  35.397027  26.787834      0 -7.500000 -1.377182      0   \n",
       "3  0.0  38.558851  35.949109  27.379772      0 -7.500000 -1.161289      0   \n",
       "4  0.0  39.136888  36.350756  27.771246      0 -7.501845 -0.944256      0   \n",
       "\n",
       "     MarMin   MarTmin  ...     summerP0    summerP1    summerP2  summerTmean  \\\n",
       "0 -5.356053  4.376215  ...   143.195089  117.425140  260.620229    26.963603   \n",
       "1 -5.843041  2.200347  ...   172.401804  145.925704  318.327508    24.755350   \n",
       "2 -5.443481  3.525477  ...   153.630621  126.445372  280.075993    26.213616   \n",
       "3 -5.006946  4.101569  ...   143.880799  115.983417  259.864216    26.805074   \n",
       "4 -5.000000  4.428590  ...   136.151595  107.539114  243.690708    27.196394   \n",
       "\n",
       "             vpd         wd  winterMin         x          y  year  \n",
       "0  366937.690852  11.790140  -8.064639 -450000.0 -2040000.0  2015  \n",
       "1  320657.267566  48.674129  -8.693665 -440000.0 -2040000.0  2015  \n",
       "2  334804.068208  60.135742  -8.585368 -430000.0 -2040000.0  2015  \n",
       "3  350649.461883  57.758161  -8.490052 -420000.0 -2040000.0  2015  \n",
       "4  360183.639481  63.650985  -8.365362 -410000.0 -2040000.0  2015  \n",
       "\n",
       "[5 rows x 42 columns]"
      ]
     },
     "execution_count": 57,
     "metadata": {},
     "output_type": "execute_result"
    }
   ],
   "source": [
    "data_sets = matrix_constructor.select_variables(test_vars)\n",
    "[[X_train, y_train], [X_valid, y_valid], [X_test, y_test]] = data_sets\n",
    "for (data_set, name) in zip(data_sets, ['Train', 'Valid', 'Test']):\n",
    "    print_dims(data_set, name)\n",
    "    \n",
    "X_train.head()"
   ]
  },
  {
   "cell_type": "code",
   "execution_count": 58,
   "metadata": {
    "collapsed": false
   },
   "outputs": [
    {
     "data": {
      "text/plain": [
       "(-140000.0, 1540000.0)"
      ]
     },
     "execution_count": 58,
     "metadata": {},
     "output_type": "execute_result"
    }
   ],
   "source": [
    "max(X_test.x), max(X_test.y)"
   ]
  },
  {
   "cell_type": "code",
   "execution_count": 59,
   "metadata": {
    "collapsed": false
   },
   "outputs": [
    {
     "data": {
      "text/plain": [
       "'AugMaxT'"
      ]
     },
     "execution_count": 59,
     "metadata": {},
     "output_type": "execute_result"
    }
   ],
   "source": [
    "test_vars[1]"
   ]
  },
  {
   "cell_type": "code",
   "execution_count": 11,
   "metadata": {
    "collapsed": false
   },
   "outputs": [],
   "source": [
    "year = 2009"
   ]
  },
  {
   "cell_type": "code",
   "execution_count": 12,
   "metadata": {
    "collapsed": false
   },
   "outputs": [
    {
     "name": "stdout",
     "output_type": "stream",
     "text": [
      "matrix shape: (195, 357)\n",
      "matrix shape: (192, 355)\n",
      "matrix shape: (196, 350)\n"
     ]
    }
   ],
   "source": [
    "var = test_vars[1]\n",
    "density_matrix_train = util.column2matrix(\n",
    "    X_train.loc[X_train.year == year, :], var)\n",
    "density_matrix_valid = util.column2matrix(\n",
    "    X_valid.loc[X_valid.year == year, :], var)\n",
    "density_matrix_test  = util.column2matrix(\n",
    "    X_test.loc[X_test.year   == year, :], var)"
   ]
  },
  {
   "cell_type": "code",
   "execution_count": 13,
   "metadata": {
    "collapsed": false
   },
   "outputs": [
    {
     "data": {
      "image/png": "[encoded data removed]",
      "text/plain": [
       "<Figure size 720x576 with 3 Axes>"
      ]
     },
     "metadata": {},
     "output_type": "display_data"
    }
   ],
   "source": [
    "plt.figure(figsize=(10,8))\n",
    "plt.subplot(1, 3, 1);\n",
    "imshow(np.rot90(density_matrix_train));\n",
    "plt.subplot(1, 3, 2);\n",
    "imshow(np.rot90(density_matrix_valid));\n",
    "plt.subplot(1, 3, 3);\n",
    "imshow(np.rot90(density_matrix_test));"
   ]
  },
  {
   "cell_type": "code",
   "execution_count": 14,
   "metadata": {
    "collapsed": false
   },
   "outputs": [],
   "source": [
    "def merge_Xy(data_sets):\n",
    "    out = []\n",
    "    for data_set in data_sets:\n",
    "        X, y = data_set[0].copy(), data_set[1].copy()\n",
    "        X['btl'] = y\n",
    "        out.append(X)\n",
    "    return out"
   ]
  },
  {
   "cell_type": "code",
   "execution_count": 60,
   "metadata": {
    "collapsed": false
   },
   "outputs": [],
   "source": [
    "[merge_train, merge_valid, merge_test] = merge_Xy(data_sets)"
   ]
  },
  {
   "cell_type": "code",
   "execution_count": 61,
   "metadata": {
    "collapsed": false
   },
   "outputs": [
    {
     "data": {
      "text/html": [
       "<div>\n",
       "<style scoped>\n",
       "    .dataframe tbody tr th:only-of-type {\n",
       "        vertical-align: middle;\n",
       "    }\n",
       "\n",
       "    .dataframe tbody tr th {\n",
       "        vertical-align: top;\n",
       "    }\n",
       "\n",
       "    .dataframe thead th {\n",
       "        text-align: right;\n",
       "    }\n",
       "</style>\n",
       "<table border=\"1\" class=\"dataframe\">\n",
       "  <thead>\n",
       "    <tr style=\"text-align: right;\">\n",
       "      <th></th>\n",
       "      <th>Acs</th>\n",
       "      <th>AugMaxT</th>\n",
       "      <th>AugTmax</th>\n",
       "      <th>AugTmean</th>\n",
       "      <th>Jan20</th>\n",
       "      <th>JanMin</th>\n",
       "      <th>JanTmin</th>\n",
       "      <th>Mar20</th>\n",
       "      <th>MarMin</th>\n",
       "      <th>MarTmin</th>\n",
       "      <th>...</th>\n",
       "      <th>summerP0</th>\n",
       "      <th>summerP1</th>\n",
       "      <th>summerP2</th>\n",
       "      <th>summerTmean</th>\n",
       "      <th>vpd</th>\n",
       "      <th>wd</th>\n",
       "      <th>winterMin</th>\n",
       "      <th>x</th>\n",
       "      <th>y</th>\n",
       "      <th>year</th>\n",
       "    </tr>\n",
       "  </thead>\n",
       "  <tbody>\n",
       "    <tr>\n",
       "      <th>0</th>\n",
       "      <td>0.0</td>\n",
       "      <td>38.752094</td>\n",
       "      <td>36.091501</td>\n",
       "      <td>27.502499</td>\n",
       "      <td>0</td>\n",
       "      <td>-7.478265</td>\n",
       "      <td>-0.805385</td>\n",
       "      <td>0</td>\n",
       "      <td>-5.356053</td>\n",
       "      <td>4.376215</td>\n",
       "      <td>...</td>\n",
       "      <td>143.195089</td>\n",
       "      <td>117.425140</td>\n",
       "      <td>260.620229</td>\n",
       "      <td>26.963603</td>\n",
       "      <td>366937.690852</td>\n",
       "      <td>11.790140</td>\n",
       "      <td>-8.064639</td>\n",
       "      <td>-450000.0</td>\n",
       "      <td>-2040000.0</td>\n",
       "      <td>2015</td>\n",
       "    </tr>\n",
       "    <tr>\n",
       "      <th>1</th>\n",
       "      <td>0.0</td>\n",
       "      <td>36.743772</td>\n",
       "      <td>33.994497</td>\n",
       "      <td>25.295415</td>\n",
       "      <td>0</td>\n",
       "      <td>-7.273205</td>\n",
       "      <td>-2.191895</td>\n",
       "      <td>0</td>\n",
       "      <td>-5.843041</td>\n",
       "      <td>2.200347</td>\n",
       "      <td>...</td>\n",
       "      <td>172.401804</td>\n",
       "      <td>145.925704</td>\n",
       "      <td>318.327508</td>\n",
       "      <td>24.755350</td>\n",
       "      <td>320657.267566</td>\n",
       "      <td>48.674129</td>\n",
       "      <td>-8.693665</td>\n",
       "      <td>-440000.0</td>\n",
       "      <td>-2040000.0</td>\n",
       "      <td>2015</td>\n",
       "    </tr>\n",
       "    <tr>\n",
       "      <th>2</th>\n",
       "      <td>0.0</td>\n",
       "      <td>37.632520</td>\n",
       "      <td>35.397027</td>\n",
       "      <td>26.787834</td>\n",
       "      <td>0</td>\n",
       "      <td>-7.500000</td>\n",
       "      <td>-1.377182</td>\n",
       "      <td>0</td>\n",
       "      <td>-5.443481</td>\n",
       "      <td>3.525477</td>\n",
       "      <td>...</td>\n",
       "      <td>153.630621</td>\n",
       "      <td>126.445372</td>\n",
       "      <td>280.075993</td>\n",
       "      <td>26.213616</td>\n",
       "      <td>334804.068208</td>\n",
       "      <td>60.135742</td>\n",
       "      <td>-8.585368</td>\n",
       "      <td>-430000.0</td>\n",
       "      <td>-2040000.0</td>\n",
       "      <td>2015</td>\n",
       "    </tr>\n",
       "    <tr>\n",
       "      <th>3</th>\n",
       "      <td>0.0</td>\n",
       "      <td>38.558851</td>\n",
       "      <td>35.949109</td>\n",
       "      <td>27.379772</td>\n",
       "      <td>0</td>\n",
       "      <td>-7.500000</td>\n",
       "      <td>-1.161289</td>\n",
       "      <td>0</td>\n",
       "      <td>-5.006946</td>\n",
       "      <td>4.101569</td>\n",
       "      <td>...</td>\n",
       "      <td>143.880799</td>\n",
       "      <td>115.983417</td>\n",
       "      <td>259.864216</td>\n",
       "      <td>26.805074</td>\n",
       "      <td>350649.461883</td>\n",
       "      <td>57.758161</td>\n",
       "      <td>-8.490052</td>\n",
       "      <td>-420000.0</td>\n",
       "      <td>-2040000.0</td>\n",
       "      <td>2015</td>\n",
       "    </tr>\n",
       "    <tr>\n",
       "      <th>4</th>\n",
       "      <td>0.0</td>\n",
       "      <td>39.136888</td>\n",
       "      <td>36.350756</td>\n",
       "      <td>27.771246</td>\n",
       "      <td>0</td>\n",
       "      <td>-7.501845</td>\n",
       "      <td>-0.944256</td>\n",
       "      <td>0</td>\n",
       "      <td>-5.000000</td>\n",
       "      <td>4.428590</td>\n",
       "      <td>...</td>\n",
       "      <td>136.151595</td>\n",
       "      <td>107.539114</td>\n",
       "      <td>243.690708</td>\n",
       "      <td>27.196394</td>\n",
       "      <td>360183.639481</td>\n",
       "      <td>63.650985</td>\n",
       "      <td>-8.365362</td>\n",
       "      <td>-410000.0</td>\n",
       "      <td>-2040000.0</td>\n",
       "      <td>2015</td>\n",
       "    </tr>\n",
       "  </tbody>\n",
       "</table>\n",
       "<p>5 rows × 42 columns</p>\n",
       "</div>"
      ],
      "text/plain": [
       "   Acs    AugMaxT    AugTmax   AugTmean  Jan20    JanMin   JanTmin  Mar20  \\\n",
       "0  0.0  38.752094  36.091501  27.502499      0 -7.478265 -0.805385      0   \n",
       "1  0.0  36.743772  33.994497  25.295415      0 -7.273205 -2.191895      0   \n",
       "2  0.0  37.632520  35.397027  26.787834      0 -7.500000 -1.377182      0   \n",
       "3  0.0  38.558851  35.949109  27.379772      0 -7.500000 -1.161289      0   \n",
       "4  0.0  39.136888  36.350756  27.771246      0 -7.501845 -0.944256      0   \n",
       "\n",
       "     MarMin   MarTmin  ...     summerP0    summerP1    summerP2  summerTmean  \\\n",
       "0 -5.356053  4.376215  ...   143.195089  117.425140  260.620229    26.963603   \n",
       "1 -5.843041  2.200347  ...   172.401804  145.925704  318.327508    24.755350   \n",
       "2 -5.443481  3.525477  ...   153.630621  126.445372  280.075993    26.213616   \n",
       "3 -5.006946  4.101569  ...   143.880799  115.983417  259.864216    26.805074   \n",
       "4 -5.000000  4.428590  ...   136.151595  107.539114  243.690708    27.196394   \n",
       "\n",
       "             vpd         wd  winterMin         x          y  year  \n",
       "0  366937.690852  11.790140  -8.064639 -450000.0 -2040000.0  2015  \n",
       "1  320657.267566  48.674129  -8.693665 -440000.0 -2040000.0  2015  \n",
       "2  334804.068208  60.135742  -8.585368 -430000.0 -2040000.0  2015  \n",
       "3  350649.461883  57.758161  -8.490052 -420000.0 -2040000.0  2015  \n",
       "4  360183.639481  63.650985  -8.365362 -410000.0 -2040000.0  2015  \n",
       "\n",
       "[5 rows x 42 columns]"
      ]
     },
     "execution_count": 61,
     "metadata": {},
     "output_type": "execute_result"
    }
   ],
   "source": [
    "X_train.head()"
   ]
  },
  {
   "cell_type": "code",
   "execution_count": 17,
   "metadata": {
    "collapsed": false
   },
   "outputs": [
    {
     "name": "stdout",
     "output_type": "stream",
     "text": [
      "matrix shape: (195, 357)\n",
      "matrix shape: (192, 355)\n",
      "matrix shape: (196, 350)\n"
     ]
    }
   ],
   "source": [
    "btl_matrix_train = util.column2matrix(\n",
    "    merge_train.loc[merge_train.year == year, :],'btl')\n",
    "btl_matrix_valid = util.column2matrix(\n",
    "    merge_valid.loc[merge_valid.year == year, :],'btl')\n",
    "btl_matrix_test = util.column2matrix(\n",
    "    merge_test.loc[merge_test.year == year, :],'btl')"
   ]
  },
  {
   "cell_type": "code",
   "execution_count": 18,
   "metadata": {
    "collapsed": false
   },
   "outputs": [
    {
     "data": {
      "image/png": "[encoded data removed]",
      "text/plain": [
       "<Figure size 432x288 with 3 Axes>"
      ]
     },
     "metadata": {},
     "output_type": "display_data"
    }
   ],
   "source": [
    "plt.subplot(1, 3, 1);\n",
    "imshow(np.rot90(btl_matrix_train));\n",
    "plt.title('Training Set');\n",
    "plt.subplot(1, 3, 2);\n",
    "imshow(np.rot90(btl_matrix_valid));\n",
    "plt.title('Validation Set');\n",
    "plt.subplot(1, 3, 3);\n",
    "imshow(np.rot90(btl_matrix_test));\n",
    "plt.title('Test Set');"
   ]
  },
  {
   "cell_type": "code",
   "execution_count": 62,
   "metadata": {
    "collapsed": false
   },
   "outputs": [
    {
     "name": "stdout",
     "output_type": "stream",
     "text": [
      "Percent presence in y_train: 12.92%\n",
      "Percent presence in y_valid: 13.93%\n",
      "Percent presence in y_test: 12.60%\n"
     ]
    }
   ],
   "source": [
    "util.print_percent_presence(y_train, 'y_train')\n",
    "util.print_percent_presence(y_valid, 'y_valid')\n",
    "util.print_percent_presence(y_test, 'y_test')"
   ]
  },
  {
   "cell_type": "code",
   "execution_count": 63,
   "metadata": {
    "collapsed": false
   },
   "outputs": [
    {
     "name": "stdout",
     "output_type": "stream",
     "text": [
      "Baseline accuracy if predicting \"absent\" for all cells:\n",
      "  train: 87.08\n",
      "  valid: 86.07\n",
      "  test:  87.4\n"
     ]
    }
   ],
   "source": [
    "print('Baseline accuracy if predicting \"absent\" for all cells:')\n",
    "print('  train:', 100 - 12.92)\n",
    "print('  valid:', 100 - 13.93)\n",
    "print('  test: ', 100 - 12.60)"
   ]
  },
  {
   "cell_type": "code",
   "execution_count": 64,
   "metadata": {
    "collapsed": true
   },
   "outputs": [],
   "source": [
    "y_train.columns=['btl']\n",
    "y_valid.columns=['btl']\n",
    "y_test.columns=['btl']"
   ]
  },
  {
   "cell_type": "code",
   "execution_count": 65,
   "metadata": {
    "collapsed": false
   },
   "outputs": [
    {
     "data": {
      "text/html": [
       "<div>\n",
       "<style scoped>\n",
       "    .dataframe tbody tr th:only-of-type {\n",
       "        vertical-align: middle;\n",
       "    }\n",
       "\n",
       "    .dataframe tbody tr th {\n",
       "        vertical-align: top;\n",
       "    }\n",
       "\n",
       "    .dataframe thead th {\n",
       "        text-align: right;\n",
       "    }\n",
       "</style>\n",
       "<table border=\"1\" class=\"dataframe\">\n",
       "  <thead>\n",
       "    <tr style=\"text-align: right;\">\n",
       "      <th></th>\n",
       "      <th>btl</th>\n",
       "    </tr>\n",
       "  </thead>\n",
       "  <tbody>\n",
       "    <tr>\n",
       "      <th>0</th>\n",
       "      <td>0</td>\n",
       "    </tr>\n",
       "    <tr>\n",
       "      <th>1</th>\n",
       "      <td>0</td>\n",
       "    </tr>\n",
       "    <tr>\n",
       "      <th>2</th>\n",
       "      <td>0</td>\n",
       "    </tr>\n",
       "    <tr>\n",
       "      <th>3</th>\n",
       "      <td>0</td>\n",
       "    </tr>\n",
       "    <tr>\n",
       "      <th>4</th>\n",
       "      <td>0</td>\n",
       "    </tr>\n",
       "  </tbody>\n",
       "</table>\n",
       "</div>"
      ],
      "text/plain": [
       "   btl\n",
       "0    0\n",
       "1    0\n",
       "2    0\n",
       "3    0\n",
       "4    0"
      ]
     },
     "execution_count": 65,
     "metadata": {},
     "output_type": "execute_result"
    }
   ],
   "source": [
    "y_train.head()"
   ]
  },
  {
   "cell_type": "code",
   "execution_count": 66,
   "metadata": {
    "collapsed": true
   },
   "outputs": [],
   "source": [
    "full_train = merge_train.copy()\n",
    "full_valid = merge_valid.copy()\n",
    "full_test = merge_test.copy()"
   ]
  },
  {
   "cell_type": "code",
   "execution_count": 67,
   "metadata": {
    "collapsed": true
   },
   "outputs": [],
   "source": [
    "drop = ['x', 'y', 'year']\n",
    "X_train = X_train.drop(drop, axis=1)\n",
    "X_valid = X_valid.drop(drop, axis=1)\n",
    "X_test  = X_test.drop(drop, axis=1)"
   ]
  },
  {
   "cell_type": "code",
   "execution_count": 68,
   "metadata": {
    "collapsed": false
   },
   "outputs": [
    {
     "data": {
      "text/plain": [
       "pandas.core.frame.DataFrame"
      ]
     },
     "execution_count": 68,
     "metadata": {},
     "output_type": "execute_result"
    }
   ],
   "source": [
    "type(X_train)"
   ]
  },
  {
   "cell_type": "code",
   "execution_count": 69,
   "metadata": {
    "collapsed": false
   },
   "outputs": [
    {
     "data": {
      "text/html": [
       "<div>\n",
       "<style scoped>\n",
       "    .dataframe tbody tr th:only-of-type {\n",
       "        vertical-align: middle;\n",
       "    }\n",
       "\n",
       "    .dataframe tbody tr th {\n",
       "        vertical-align: top;\n",
       "    }\n",
       "\n",
       "    .dataframe thead th {\n",
       "        text-align: right;\n",
       "    }\n",
       "</style>\n",
       "<table border=\"1\" class=\"dataframe\">\n",
       "  <thead>\n",
       "    <tr style=\"text-align: right;\">\n",
       "      <th></th>\n",
       "      <th>Acs</th>\n",
       "      <th>AugMaxT</th>\n",
       "      <th>AugTmax</th>\n",
       "      <th>AugTmean</th>\n",
       "      <th>Jan20</th>\n",
       "      <th>JanMin</th>\n",
       "      <th>JanTmin</th>\n",
       "      <th>Mar20</th>\n",
       "      <th>MarMin</th>\n",
       "      <th>MarTmin</th>\n",
       "      <th>...</th>\n",
       "      <th>maxT</th>\n",
       "      <th>mi</th>\n",
       "      <th>minT</th>\n",
       "      <th>summerP0</th>\n",
       "      <th>summerP1</th>\n",
       "      <th>summerP2</th>\n",
       "      <th>summerTmean</th>\n",
       "      <th>vpd</th>\n",
       "      <th>wd</th>\n",
       "      <th>winterMin</th>\n",
       "    </tr>\n",
       "  </thead>\n",
       "  <tbody>\n",
       "    <tr>\n",
       "      <th>0</th>\n",
       "      <td>0.0</td>\n",
       "      <td>38.752094</td>\n",
       "      <td>36.091501</td>\n",
       "      <td>27.502499</td>\n",
       "      <td>0</td>\n",
       "      <td>-7.478265</td>\n",
       "      <td>-0.805385</td>\n",
       "      <td>0</td>\n",
       "      <td>-5.356053</td>\n",
       "      <td>4.376215</td>\n",
       "      <td>...</td>\n",
       "      <td>37.911563</td>\n",
       "      <td>0.547172</td>\n",
       "      <td>-8.944275</td>\n",
       "      <td>143.195089</td>\n",
       "      <td>117.425140</td>\n",
       "      <td>260.620229</td>\n",
       "      <td>26.963603</td>\n",
       "      <td>366937.690852</td>\n",
       "      <td>11.790140</td>\n",
       "      <td>-8.064639</td>\n",
       "    </tr>\n",
       "    <tr>\n",
       "      <th>1</th>\n",
       "      <td>0.0</td>\n",
       "      <td>36.743772</td>\n",
       "      <td>33.994497</td>\n",
       "      <td>25.295415</td>\n",
       "      <td>0</td>\n",
       "      <td>-7.273205</td>\n",
       "      <td>-2.191895</td>\n",
       "      <td>0</td>\n",
       "      <td>-5.843041</td>\n",
       "      <td>2.200347</td>\n",
       "      <td>...</td>\n",
       "      <td>36.073205</td>\n",
       "      <td>0.575852</td>\n",
       "      <td>-8.693665</td>\n",
       "      <td>172.401804</td>\n",
       "      <td>145.925704</td>\n",
       "      <td>318.327508</td>\n",
       "      <td>24.755350</td>\n",
       "      <td>320657.267566</td>\n",
       "      <td>48.674129</td>\n",
       "      <td>-8.693665</td>\n",
       "    </tr>\n",
       "    <tr>\n",
       "      <th>2</th>\n",
       "      <td>0.0</td>\n",
       "      <td>37.632520</td>\n",
       "      <td>35.397027</td>\n",
       "      <td>26.787834</td>\n",
       "      <td>0</td>\n",
       "      <td>-7.500000</td>\n",
       "      <td>-1.377182</td>\n",
       "      <td>0</td>\n",
       "      <td>-5.443481</td>\n",
       "      <td>3.525477</td>\n",
       "      <td>...</td>\n",
       "      <td>36.879659</td>\n",
       "      <td>0.585835</td>\n",
       "      <td>-8.585368</td>\n",
       "      <td>153.630621</td>\n",
       "      <td>126.445372</td>\n",
       "      <td>280.075993</td>\n",
       "      <td>26.213616</td>\n",
       "      <td>334804.068208</td>\n",
       "      <td>60.135742</td>\n",
       "      <td>-8.585368</td>\n",
       "    </tr>\n",
       "    <tr>\n",
       "      <th>3</th>\n",
       "      <td>0.0</td>\n",
       "      <td>38.558851</td>\n",
       "      <td>35.949109</td>\n",
       "      <td>27.379772</td>\n",
       "      <td>0</td>\n",
       "      <td>-7.500000</td>\n",
       "      <td>-1.161289</td>\n",
       "      <td>0</td>\n",
       "      <td>-5.006946</td>\n",
       "      <td>4.101569</td>\n",
       "      <td>...</td>\n",
       "      <td>37.716008</td>\n",
       "      <td>0.594222</td>\n",
       "      <td>-8.500000</td>\n",
       "      <td>143.880799</td>\n",
       "      <td>115.983417</td>\n",
       "      <td>259.864216</td>\n",
       "      <td>26.805074</td>\n",
       "      <td>350649.461883</td>\n",
       "      <td>57.758161</td>\n",
       "      <td>-8.490052</td>\n",
       "    </tr>\n",
       "    <tr>\n",
       "      <th>4</th>\n",
       "      <td>0.0</td>\n",
       "      <td>39.136888</td>\n",
       "      <td>36.350756</td>\n",
       "      <td>27.771246</td>\n",
       "      <td>0</td>\n",
       "      <td>-7.501845</td>\n",
       "      <td>-0.944256</td>\n",
       "      <td>0</td>\n",
       "      <td>-5.000000</td>\n",
       "      <td>4.428590</td>\n",
       "      <td>...</td>\n",
       "      <td>38.233315</td>\n",
       "      <td>0.601224</td>\n",
       "      <td>-8.500000</td>\n",
       "      <td>136.151595</td>\n",
       "      <td>107.539114</td>\n",
       "      <td>243.690708</td>\n",
       "      <td>27.196394</td>\n",
       "      <td>360183.639481</td>\n",
       "      <td>63.650985</td>\n",
       "      <td>-8.365362</td>\n",
       "    </tr>\n",
       "  </tbody>\n",
       "</table>\n",
       "<p>5 rows × 39 columns</p>\n",
       "</div>"
      ],
      "text/plain": [
       "   Acs    AugMaxT    AugTmax   AugTmean  Jan20    JanMin   JanTmin  Mar20  \\\n",
       "0  0.0  38.752094  36.091501  27.502499      0 -7.478265 -0.805385      0   \n",
       "1  0.0  36.743772  33.994497  25.295415      0 -7.273205 -2.191895      0   \n",
       "2  0.0  37.632520  35.397027  26.787834      0 -7.500000 -1.377182      0   \n",
       "3  0.0  38.558851  35.949109  27.379772      0 -7.500000 -1.161289      0   \n",
       "4  0.0  39.136888  36.350756  27.771246      0 -7.501845 -0.944256      0   \n",
       "\n",
       "     MarMin   MarTmin    ...           maxT        mi      minT    summerP0  \\\n",
       "0 -5.356053  4.376215    ...      37.911563  0.547172 -8.944275  143.195089   \n",
       "1 -5.843041  2.200347    ...      36.073205  0.575852 -8.693665  172.401804   \n",
       "2 -5.443481  3.525477    ...      36.879659  0.585835 -8.585368  153.630621   \n",
       "3 -5.006946  4.101569    ...      37.716008  0.594222 -8.500000  143.880799   \n",
       "4 -5.000000  4.428590    ...      38.233315  0.601224 -8.500000  136.151595   \n",
       "\n",
       "     summerP1    summerP2  summerTmean            vpd         wd  winterMin  \n",
       "0  117.425140  260.620229    26.963603  366937.690852  11.790140  -8.064639  \n",
       "1  145.925704  318.327508    24.755350  320657.267566  48.674129  -8.693665  \n",
       "2  126.445372  280.075993    26.213616  334804.068208  60.135742  -8.585368  \n",
       "3  115.983417  259.864216    26.805074  350649.461883  57.758161  -8.490052  \n",
       "4  107.539114  243.690708    27.196394  360183.639481  63.650985  -8.365362  \n",
       "\n",
       "[5 rows x 39 columns]"
      ]
     },
     "execution_count": 69,
     "metadata": {},
     "output_type": "execute_result"
    }
   ],
   "source": [
    "X_train.head()"
   ]
  },
  {
   "cell_type": "code",
   "execution_count": 70,
   "metadata": {
    "collapsed": false
   },
   "outputs": [
    {
     "data": {
      "text/plain": [
       "['Acs',\n",
       " 'AugMaxT',\n",
       " 'AugTmax',\n",
       " 'AugTmean',\n",
       " 'Jan20',\n",
       " 'JanMin',\n",
       " 'JanTmin',\n",
       " 'Mar20',\n",
       " 'MarMin',\n",
       " 'MarTmin',\n",
       " 'OctMin',\n",
       " 'OctTmin',\n",
       " 'OptTsum',\n",
       " 'PMarAug',\n",
       " 'POctSep',\n",
       " 'PPT',\n",
       " 'PcumOctSep',\n",
       " 'Pmean',\n",
       " 'TMarAug',\n",
       " 'TOctSep',\n",
       " 'Tmean',\n",
       " 'Tmin',\n",
       " 'Tvar',\n",
       " 'cwd',\n",
       " 'ddAugJul',\n",
       " 'ddAugJun',\n",
       " 'fallTmean',\n",
       " 'max.drop',\n",
       " 'maxAugT',\n",
       " 'maxT',\n",
       " 'mi',\n",
       " 'minT',\n",
       " 'summerP0',\n",
       " 'summerP1',\n",
       " 'summerP2',\n",
       " 'summerTmean',\n",
       " 'vpd',\n",
       " 'wd',\n",
       " 'winterMin']"
      ]
     },
     "execution_count": 70,
     "metadata": {},
     "output_type": "execute_result"
    }
   ],
   "source": [
    "predictors = list(X_train)\n",
    "predictors"
   ]
  },
  {
   "cell_type": "code",
   "execution_count": 28,
   "metadata": {
    "collapsed": true
   },
   "outputs": [],
   "source": [
    "def scale_data(X_train, X_valid, X_test):\n",
    "    scaler = StandardScaler()\n",
    "    X_train = scaler.fit_transform(X_train)\n",
    "    X_valid = scaler.transform(X_valid)\n",
    "    X_test  = scaler.transform(X_test)\n",
    "    return X_train, X_valid, X_test"
   ]
  },
  {
   "cell_type": "code",
   "execution_count": 71,
   "metadata": {
    "collapsed": true
   },
   "outputs": [],
   "source": [
    "X_train, X_valid, X_test = scale_data(X_train, X_valid, X_test) "
   ]
  },
  {
   "cell_type": "code",
   "execution_count": 72,
   "metadata": {
    "collapsed": false
   },
   "outputs": [],
   "source": [
    "y_train = y_train['btl'].values.reshape(-1)\n",
    "y_valid = y_valid['btl'].values.reshape(-1)\n",
    "y_test  = y_test['btl'].values.reshape(-1)"
   ]
  },
  {
   "cell_type": "code",
   "execution_count": 73,
   "metadata": {
    "collapsed": false
   },
   "outputs": [
    {
     "name": "stdout",
     "output_type": "stream",
     "text": [
      "Testing C = 0.0001\n",
      "  l1: "
     ]
    },
    {
     "name": "stderr",
     "output_type": "stream",
     "text": [
      "/usr/local/lib/python3.6/site-packages/sklearn/linear_model/sag.py:326: ConvergenceWarning: The max_iter was reached which means the coef_ did not converge\n",
      "  \"the coef_ did not converge\", ConvergenceWarning)\n"
     ]
    },
    {
     "name": "stdout",
     "output_type": "stream",
     "text": [
      "['Acs', 'Jan20', 'Mar20', 'OptTsum', 'Tvar', 'ddAugJul', 'ddAugJun', 'mi', 'summerP1', 'summerP2', 'summerTmean', 'vpd']\n",
      " Accuracy: 0.8611\n",
      "Elapsed time: 1.35 minutes\n",
      "\n",
      "Testing C = 0.001\n",
      "  l1: ['Acs', 'AugTmax', 'AugTmean', 'Jan20', 'JanMin', 'JanTmin', 'Mar20', 'MarMin', 'OctMin', 'OptTsum', 'PMarAug', 'TMarAug', 'Tmin', 'cwd', 'ddAugJun', 'fallTmean', 'max.drop', 'maxAugT', 'maxT', 'mi', 'summerP1', 'summerP2', 'vpd', 'wd']\n",
      " Accuracy: 0.8682\n",
      "Elapsed time: 1.56 minutes\n",
      "\n",
      "Testing C = 0.01\n",
      "  l1: ['Acs', 'AugMaxT', 'AugTmax', 'AugTmean', 'Jan20', 'JanMin', 'JanTmin', 'Mar20', 'MarMin', 'MarTmin', 'OctMin', 'OctTmin', 'OptTsum', 'PMarAug', 'PPT', 'PcumOctSep', 'Pmean', 'Tmean', 'Tmin', 'Tvar', 'cwd', 'ddAugJun', 'fallTmean', 'max.drop', 'maxAugT', 'maxT', 'mi', 'minT', 'summerP0', 'summerP1', 'summerTmean', 'vpd', 'wd', 'winterMin']\n",
      " Accuracy: 0.8745\n",
      "Elapsed time: 1.85 minutes\n",
      "\n",
      "Testing C = 0.1\n",
      "  l1: ['Acs', 'AugMaxT', 'AugTmax', 'AugTmean', 'Jan20', 'JanMin', 'JanTmin', 'Mar20', 'MarMin', 'MarTmin', 'OctMin', 'OctTmin', 'OptTsum', 'PMarAug', 'POctSep', 'PPT', 'PcumOctSep', 'Pmean', 'TOctSep', 'Tmean', 'Tmin', 'Tvar', 'cwd', 'ddAugJul', 'ddAugJun', 'fallTmean', 'max.drop', 'maxAugT', 'maxT', 'mi', 'minT', 'summerP0', 'summerP1', 'summerP2', 'summerTmean', 'vpd', 'wd', 'winterMin']\n",
      " Accuracy: 0.8757\n",
      "Elapsed time: 3.25 minutes\n",
      "\n",
      "Testing C = 1.0\n",
      "  l1: ['Acs', 'AugMaxT', 'AugTmax', 'AugTmean', 'Jan20', 'JanMin', 'JanTmin', 'Mar20', 'MarMin', 'MarTmin', 'OctMin', 'OctTmin', 'OptTsum', 'PMarAug', 'POctSep', 'PPT', 'PcumOctSep', 'Pmean', 'TMarAug', 'TOctSep', 'Tmean', 'Tmin', 'Tvar', 'cwd', 'ddAugJul', 'ddAugJun', 'fallTmean', 'max.drop', 'maxAugT', 'maxT', 'mi', 'minT', 'summerP0', 'summerP1', 'summerTmean', 'vpd', 'wd', 'winterMin']\n",
      " Accuracy: 0.8757\n",
      "Elapsed time: 4.67 minutes\n",
      "\n"
     ]
    }
   ],
   "source": [
    "# Find optimal regularization via best validation-set accuracy\n",
    "l1_mods = []\n",
    "l2_mods = []\n",
    "Cs = np.logspace(-4, 0, 5)\n",
    "best_C = np.nan\n",
    "best_accuracy = 0\n",
    "t0 = time.time()\n",
    "best_penalty = None\n",
    "\n",
    "for C in Cs:\n",
    "    print('Testing C =', C)\n",
    "    #for penalty in ['l1', 'l2']: #['l1', 'l2']:\n",
    "    penalty='l1'\n",
    "    print('  %s:' % penalty, end=' ')\n",
    "    logistic_clf = LogisticRegression(\n",
    "        C=C, penalty=penalty, solver='saga', n_jobs=-1)\n",
    "    logistic_clf.fit(X_train, y_train)\n",
    "    preds = logistic_clf.predict(X_valid)\n",
    "    accuracy = sum(y_valid == preds) / len(preds)\n",
    "    a = [[pred, coef] for pred, coef in zip(predictors, logistic_clf.coef_[0])]\n",
    "    sig_preds = []\n",
    "    for pred, coef in a:\n",
    "        if abs(coef) > 0:\n",
    "            sig_preds.append(pred)\n",
    "    print(sig_preds)\n",
    "    if (accuracy > best_accuracy):\n",
    "        best_C = C\n",
    "        best_accuaracy = accuracy\n",
    "        best_penalty = penalty\n",
    "    print(' Accuracy:', round(accuracy, 4))\n",
    "    if penalty == 'l1':\n",
    "        l1_mods.append(accuracy)\n",
    "    else:\n",
    "        l2_mods.append(accuracy)\n",
    "    print('Elapsed time: %.2f minutes\\n' % ((time.time() - t0) / 60))"
   ]
  },
  {
   "cell_type": "code",
   "execution_count": 74,
   "metadata": {
    "collapsed": false
   },
   "outputs": [
    {
     "data": {
      "image/png": "[encoded data removed]",
      "text/plain": [
       "<Figure size 720x576 with 1 Axes>"
      ]
     },
     "metadata": {},
     "output_type": "display_data"
    }
   ],
   "source": [
    "plt.plot(Cs, l1_mods, label='L1 Reg.');\n",
    "#plt.plot(Cs, l2_mods, label='L2 Reg.');\n",
    "plt.xscale('log');\n",
    "plt.xlabel('C');\n",
    "plt.ylabel('Accuracy');\n",
    "plt.legend(loc='best');"
   ]
  },
  {
   "cell_type": "code",
   "execution_count": 75,
   "metadata": {
    "collapsed": false
   },
   "outputs": [
    {
     "data": {
      "text/plain": [
       "[(0.0001, 0.8611290909826449),\n",
       " (0.001, 0.8682086653990857),\n",
       " (0.01, 0.8745196003074558),\n",
       " (0.1, 0.875713014280513),\n",
       " (1.0, 0.8756927869250374)]"
      ]
     },
     "execution_count": 75,
     "metadata": {},
     "output_type": "execute_result"
    }
   ],
   "source": [
    "[(c, acc) for c, acc in zip(Cs, l1_mods)]"
   ]
  },
  {
   "cell_type": "code",
   "execution_count": 76,
   "metadata": {
    "collapsed": false
   },
   "outputs": [],
   "source": [
    "best_C = 0.1"
   ]
  },
  {
   "cell_type": "code",
   "execution_count": null,
   "metadata": {
    "collapsed": false
   },
   "outputs": [],
   "source": [
    "logistic_clf = LogisticRegression(C=best_C, penalty='l1')\n",
    "logistic_clf.fit(X_train, y_train)\n",
    "preds = logistic_clf.predict(X_test)\n",
    "probs = logistic_clf.predict_proba(X_test)\n",
    "accuracy = sum(y_test == preds) / len(preds)\n",
    "accuracy"
   ]
  },
  {
   "cell_type": "code",
   "execution_count": 37,
   "metadata": {
    "collapsed": true
   },
   "outputs": [],
   "source": [
    "def get_predictions_at_threshold(pred_ps, threshold):\n",
    "    return 1 * (pred_ps >= threshold)\n",
    "\n",
    "def threshold_plot(pred_ps, targets):\n",
    "    thresholds = np.linspace(0, 1, 500)\n",
    "    accuracies = []\n",
    "    n = len(pred_ps)\n",
    "\n",
    "    for threshold in thresholds:\n",
    "        preds = get_predictions_at_threshold(pred_ps, threshold)\n",
    "        accuracies.append((preds == targets).sum() / n)\n",
    "        \n",
    "    plt.plot(thresholds, accuracies);\n",
    "    optimal_threshold = thresholds[np.argmax(accuracies)]\n",
    "    optimal_accuracy = max(accuracies)\n",
    "    plt.plot([optimal_threshold, optimal_threshold], \n",
    "             [min(accuracies), max(accuracies)], \n",
    "             'r')\n",
    "    plt.plot([0, 1], [optimal_accuracy, optimal_accuracy], 'r')\n",
    "    plt.xlabel('Threshold for predicting \"Renewal\"')\n",
    "    plt.ylabel('Accuracy')\n",
    "    plt.show()\n",
    "    return {'threshold': optimal_threshold, 'accuracy': optimal_accuracy}"
   ]
  },
  {
   "cell_type": "code",
   "execution_count": 45,
   "metadata": {
    "collapsed": false
   },
   "outputs": [
    {
     "name": "stdout",
     "output_type": "stream",
     "text": [
      "[[0.99882306 0.00117694]\n",
      " [0.99888791 0.00111209]\n",
      " [0.9988685  0.0011315 ]\n",
      " [0.99891684 0.00108316]\n",
      " [0.99891262 0.00108738]]\n"
     ]
    },
    {
     "data": {
      "image/png": "[encoded data removed]",
      "text/plain": [
       "<Figure size 432x288 with 1 Axes>"
      ]
     },
     "metadata": {},
     "output_type": "display_data"
    },
    {
     "name": "stdout",
     "output_type": "stream",
     "text": [
      "{'threshold': 0.48697394789579157, 'accuracy': 0.9396713254492397}\n"
     ]
    }
   ],
   "source": [
    "pred_ps = logistic_clf.predict_proba(X_test)\n",
    "print(pred_ps[:5])\n",
    "pred_ps = np.array([p[1] for p in pred_ps])\n",
    "pred_ps[:5]\n",
    "\n",
    "THRESHOLD = 0.5\n",
    "preds = get_predictions_at_threshold(pred_ps, THRESHOLD)\n",
    "preds[:5]\n",
    "\n",
    "best_threshold = threshold_plot(pred_ps, y_test);\n",
    "print(best_threshold)"
   ]
  },
  {
   "cell_type": "code",
   "execution_count": 46,
   "metadata": {
    "collapsed": false
   },
   "outputs": [
    {
     "name": "stdout",
     "output_type": "stream",
     "text": [
      "Confusion Matrix:\n",
      "         Predicted:\n",
      "         \t1\t\t0\n",
      "Actual: 1\t9169\t\t3187\n",
      "        0\t2715\t\t82594\n",
      "Accuracy:  0.9395689346234577\n",
      "Precision: 0.7715415684954561\n",
      "Recall:    0.7420686306247977\n",
      "F1:        0.7565181518151816\n"
     ]
    }
   ],
   "source": [
    "cm = util.make_confusion_matrix(y_test, pred_ps, 0.5)\n",
    "metrics = util.get_metrics(cm)"
   ]
  },
  {
   "cell_type": "code",
   "execution_count": 47,
   "metadata": {
    "collapsed": false
   },
   "outputs": [
    {
     "name": "stdout",
     "output_type": "stream",
     "text": [
      "Confusion Matrix:\n",
      "         Predicted:\n",
      "         \t1\t\t0\n",
      "Actual: 1\t9245\t\t3111\n",
      "        0\t2781\t\t82528\n",
      "Accuracy:  0.9396713254492397\n",
      "Precision: 0.7687510394146017\n",
      "Recall:    0.7482194885076077\n",
      "F1:        0.7583463210565172\n"
     ]
    }
   ],
   "source": [
    "cm = util.make_confusion_matrix(\n",
    "    y_test, pred_ps, best_threshold['threshold'])\n",
    "metrics = util.get_metrics(cm)"
   ]
  },
  {
   "cell_type": "code",
   "execution_count": 48,
   "metadata": {
    "collapsed": false
   },
   "outputs": [
    {
     "name": "stdout",
     "output_type": "stream",
     "text": [
      "AUC:       0.9686661652414104\n"
     ]
    }
   ],
   "source": [
    "auc_metrics = util.get_auc(y_test, pred_ps)"
   ]
  },
  {
   "cell_type": "code",
   "execution_count": 49,
   "metadata": {
    "collapsed": false
   },
   "outputs": [
    {
     "data": {
      "image/png": "[encoded data removed]",
      "text/plain": [
       "<Figure size 432x288 with 1 Axes>"
      ]
     },
     "metadata": {},
     "output_type": "display_data"
    }
   ],
   "source": [
    "util.plot_roc(auc_metrics['fpr'], auc_metrics['tpr'])"
   ]
  },
  {
   "cell_type": "code",
   "execution_count": 50,
   "metadata": {
    "collapsed": false
   },
   "outputs": [
    {
     "data": {
      "text/html": [
       "<div>\n",
       "<style scoped>\n",
       "    .dataframe tbody tr th:only-of-type {\n",
       "        vertical-align: middle;\n",
       "    }\n",
       "\n",
       "    .dataframe tbody tr th {\n",
       "        vertical-align: top;\n",
       "    }\n",
       "\n",
       "    .dataframe thead th {\n",
       "        text-align: right;\n",
       "    }\n",
       "</style>\n",
       "<table border=\"1\" class=\"dataframe\">\n",
       "  <thead>\n",
       "    <tr style=\"text-align: right;\">\n",
       "      <th></th>\n",
       "      <th>predictor</th>\n",
       "      <th>coef</th>\n",
       "    </tr>\n",
       "  </thead>\n",
       "  <tbody>\n",
       "    <tr>\n",
       "      <th>57</th>\n",
       "      <td>vgt</td>\n",
       "      <td>1.221165</td>\n",
       "    </tr>\n",
       "    <tr>\n",
       "      <th>54</th>\n",
       "      <td>sum9_t1</td>\n",
       "      <td>0.864746</td>\n",
       "    </tr>\n",
       "    <tr>\n",
       "      <th>56</th>\n",
       "      <td>sum9_t2</td>\n",
       "      <td>0.463530</td>\n",
       "    </tr>\n",
       "    <tr>\n",
       "      <th>2</th>\n",
       "      <td>JanTmin_sq</td>\n",
       "      <td>-0.307829</td>\n",
       "    </tr>\n",
       "    <tr>\n",
       "      <th>55</th>\n",
       "      <td>sum9_t1:sum9_t2</td>\n",
       "      <td>-0.281307</td>\n",
       "    </tr>\n",
       "    <tr>\n",
       "      <th>8</th>\n",
       "      <td>btl_t1</td>\n",
       "      <td>0.259642</td>\n",
       "    </tr>\n",
       "    <tr>\n",
       "      <th>10</th>\n",
       "      <td>btl_t2</td>\n",
       "      <td>0.253184</td>\n",
       "    </tr>\n",
       "    <tr>\n",
       "      <th>48</th>\n",
       "      <td>lon:lat:etopo1</td>\n",
       "      <td>-0.241887</td>\n",
       "    </tr>\n",
       "    <tr>\n",
       "      <th>42</th>\n",
       "      <td>lon</td>\n",
       "      <td>-0.223044</td>\n",
       "    </tr>\n",
       "    <tr>\n",
       "      <th>12</th>\n",
       "      <td>cwd_sq</td>\n",
       "      <td>-0.206133</td>\n",
       "    </tr>\n",
       "    <tr>\n",
       "      <th>4</th>\n",
       "      <td>Pmean_sq</td>\n",
       "      <td>-0.149244</td>\n",
       "    </tr>\n",
       "    <tr>\n",
       "      <th>38</th>\n",
       "      <td>lat:maxAugT</td>\n",
       "      <td>0.144216</td>\n",
       "    </tr>\n",
       "    <tr>\n",
       "      <th>17</th>\n",
       "      <td>density:cwd</td>\n",
       "      <td>0.102029</td>\n",
       "    </tr>\n",
       "    <tr>\n",
       "      <th>23</th>\n",
       "      <td>etopo1:JanTmin</td>\n",
       "      <td>-0.079275</td>\n",
       "    </tr>\n",
       "    <tr>\n",
       "      <th>5</th>\n",
       "      <td>age</td>\n",
       "      <td>0.078464</td>\n",
       "    </tr>\n",
       "    <tr>\n",
       "      <th>39</th>\n",
       "      <td>lat:sum9_diff</td>\n",
       "      <td>0.053502</td>\n",
       "    </tr>\n",
       "    <tr>\n",
       "      <th>27</th>\n",
       "      <td>etopo1:maxAugT</td>\n",
       "      <td>0.053479</td>\n",
       "    </tr>\n",
       "    <tr>\n",
       "      <th>13</th>\n",
       "      <td>density</td>\n",
       "      <td>0.052404</td>\n",
       "    </tr>\n",
       "    <tr>\n",
       "      <th>9</th>\n",
       "      <td>btl_t1:btl_t2</td>\n",
       "      <td>-0.029373</td>\n",
       "    </tr>\n",
       "    <tr>\n",
       "      <th>6</th>\n",
       "      <td>age_cub</td>\n",
       "      <td>-0.009220</td>\n",
       "    </tr>\n",
       "    <tr>\n",
       "      <th>31</th>\n",
       "      <td>fallTmean_cub</td>\n",
       "      <td>-0.001917</td>\n",
       "    </tr>\n",
       "    <tr>\n",
       "      <th>33</th>\n",
       "      <td>lat:Jan20</td>\n",
       "      <td>-0.001150</td>\n",
       "    </tr>\n",
       "    <tr>\n",
       "      <th>22</th>\n",
       "      <td>etopo1:Jan20</td>\n",
       "      <td>0.000543</td>\n",
       "    </tr>\n",
       "    <tr>\n",
       "      <th>40</th>\n",
       "      <td>lat_cub</td>\n",
       "      <td>0.000000</td>\n",
       "    </tr>\n",
       "    <tr>\n",
       "      <th>41</th>\n",
       "      <td>lat_sq</td>\n",
       "      <td>0.000000</td>\n",
       "    </tr>\n",
       "    <tr>\n",
       "      <th>43</th>\n",
       "      <td>lon:Jan20</td>\n",
       "      <td>0.000000</td>\n",
       "    </tr>\n",
       "    <tr>\n",
       "      <th>46</th>\n",
       "      <td>lon:cwd</td>\n",
       "      <td>0.000000</td>\n",
       "    </tr>\n",
       "    <tr>\n",
       "      <th>44</th>\n",
       "      <td>lon:JanTmin</td>\n",
       "      <td>0.000000</td>\n",
       "    </tr>\n",
       "    <tr>\n",
       "      <th>45</th>\n",
       "      <td>lon:Pmean</td>\n",
       "      <td>0.000000</td>\n",
       "    </tr>\n",
       "    <tr>\n",
       "      <th>47</th>\n",
       "      <td>lon:fallTmean</td>\n",
       "      <td>0.000000</td>\n",
       "    </tr>\n",
       "    <tr>\n",
       "      <th>49</th>\n",
       "      <td>lon:maxAugT</td>\n",
       "      <td>0.000000</td>\n",
       "    </tr>\n",
       "    <tr>\n",
       "      <th>37</th>\n",
       "      <td>lat:fallTmean</td>\n",
       "      <td>0.000000</td>\n",
       "    </tr>\n",
       "    <tr>\n",
       "      <th>51</th>\n",
       "      <td>lon_cub</td>\n",
       "      <td>0.000000</td>\n",
       "    </tr>\n",
       "    <tr>\n",
       "      <th>52</th>\n",
       "      <td>maxAugT</td>\n",
       "      <td>0.000000</td>\n",
       "    </tr>\n",
       "    <tr>\n",
       "      <th>53</th>\n",
       "      <td>sum9_diff</td>\n",
       "      <td>0.000000</td>\n",
       "    </tr>\n",
       "    <tr>\n",
       "      <th>50</th>\n",
       "      <td>lon:sum9_diff</td>\n",
       "      <td>0.000000</td>\n",
       "    </tr>\n",
       "    <tr>\n",
       "      <th>0</th>\n",
       "      <td>Jan20</td>\n",
       "      <td>0.000000</td>\n",
       "    </tr>\n",
       "    <tr>\n",
       "      <th>36</th>\n",
       "      <td>lat:cwd</td>\n",
       "      <td>0.000000</td>\n",
       "    </tr>\n",
       "    <tr>\n",
       "      <th>20</th>\n",
       "      <td>density_cub</td>\n",
       "      <td>0.000000</td>\n",
       "    </tr>\n",
       "    <tr>\n",
       "      <th>3</th>\n",
       "      <td>Pmean</td>\n",
       "      <td>0.000000</td>\n",
       "    </tr>\n",
       "    <tr>\n",
       "      <th>7</th>\n",
       "      <td>age_sq</td>\n",
       "      <td>0.000000</td>\n",
       "    </tr>\n",
       "    <tr>\n",
       "      <th>11</th>\n",
       "      <td>cwd</td>\n",
       "      <td>0.000000</td>\n",
       "    </tr>\n",
       "    <tr>\n",
       "      <th>14</th>\n",
       "      <td>density:Jan20</td>\n",
       "      <td>0.000000</td>\n",
       "    </tr>\n",
       "    <tr>\n",
       "      <th>15</th>\n",
       "      <td>density:JanTmin</td>\n",
       "      <td>0.000000</td>\n",
       "    </tr>\n",
       "    <tr>\n",
       "      <th>16</th>\n",
       "      <td>density:Pmean</td>\n",
       "      <td>0.000000</td>\n",
       "    </tr>\n",
       "    <tr>\n",
       "      <th>18</th>\n",
       "      <td>density:fallTmean</td>\n",
       "      <td>0.000000</td>\n",
       "    </tr>\n",
       "    <tr>\n",
       "      <th>19</th>\n",
       "      <td>density:maxAugT</td>\n",
       "      <td>0.000000</td>\n",
       "    </tr>\n",
       "    <tr>\n",
       "      <th>21</th>\n",
       "      <td>etopo1</td>\n",
       "      <td>0.000000</td>\n",
       "    </tr>\n",
       "    <tr>\n",
       "      <th>35</th>\n",
       "      <td>lat:Pmean</td>\n",
       "      <td>0.000000</td>\n",
       "    </tr>\n",
       "    <tr>\n",
       "      <th>24</th>\n",
       "      <td>etopo1:Pmean</td>\n",
       "      <td>0.000000</td>\n",
       "    </tr>\n",
       "    <tr>\n",
       "      <th>25</th>\n",
       "      <td>etopo1:cwd</td>\n",
       "      <td>0.000000</td>\n",
       "    </tr>\n",
       "    <tr>\n",
       "      <th>26</th>\n",
       "      <td>etopo1:fallTmean</td>\n",
       "      <td>0.000000</td>\n",
       "    </tr>\n",
       "    <tr>\n",
       "      <th>28</th>\n",
       "      <td>etopo1:sum9_diff</td>\n",
       "      <td>0.000000</td>\n",
       "    </tr>\n",
       "    <tr>\n",
       "      <th>1</th>\n",
       "      <td>JanTmin</td>\n",
       "      <td>0.000000</td>\n",
       "    </tr>\n",
       "    <tr>\n",
       "      <th>30</th>\n",
       "      <td>fallTmean</td>\n",
       "      <td>0.000000</td>\n",
       "    </tr>\n",
       "    <tr>\n",
       "      <th>32</th>\n",
       "      <td>lat</td>\n",
       "      <td>0.000000</td>\n",
       "    </tr>\n",
       "    <tr>\n",
       "      <th>34</th>\n",
       "      <td>lat:JanTmin</td>\n",
       "      <td>0.000000</td>\n",
       "    </tr>\n",
       "    <tr>\n",
       "      <th>29</th>\n",
       "      <td>etopo1_sq</td>\n",
       "      <td>0.000000</td>\n",
       "    </tr>\n",
       "  </tbody>\n",
       "</table>\n",
       "</div>"
      ],
      "text/plain": [
       "            predictor      coef\n",
       "57                vgt  1.221165\n",
       "54            sum9_t1  0.864746\n",
       "56            sum9_t2  0.463530\n",
       "2          JanTmin_sq -0.307829\n",
       "55    sum9_t1:sum9_t2 -0.281307\n",
       "8              btl_t1  0.259642\n",
       "10             btl_t2  0.253184\n",
       "48     lon:lat:etopo1 -0.241887\n",
       "42                lon -0.223044\n",
       "12             cwd_sq -0.206133\n",
       "4            Pmean_sq -0.149244\n",
       "38        lat:maxAugT  0.144216\n",
       "17        density:cwd  0.102029\n",
       "23     etopo1:JanTmin -0.079275\n",
       "5                 age  0.078464\n",
       "39      lat:sum9_diff  0.053502\n",
       "27     etopo1:maxAugT  0.053479\n",
       "13            density  0.052404\n",
       "9       btl_t1:btl_t2 -0.029373\n",
       "6             age_cub -0.009220\n",
       "31      fallTmean_cub -0.001917\n",
       "33          lat:Jan20 -0.001150\n",
       "22       etopo1:Jan20  0.000543\n",
       "40            lat_cub  0.000000\n",
       "41             lat_sq  0.000000\n",
       "43          lon:Jan20  0.000000\n",
       "46            lon:cwd  0.000000\n",
       "44        lon:JanTmin  0.000000\n",
       "45          lon:Pmean  0.000000\n",
       "47      lon:fallTmean  0.000000\n",
       "49        lon:maxAugT  0.000000\n",
       "37      lat:fallTmean  0.000000\n",
       "51            lon_cub  0.000000\n",
       "52            maxAugT  0.000000\n",
       "53          sum9_diff  0.000000\n",
       "50      lon:sum9_diff  0.000000\n",
       "0               Jan20  0.000000\n",
       "36            lat:cwd  0.000000\n",
       "20        density_cub  0.000000\n",
       "3               Pmean  0.000000\n",
       "7              age_sq  0.000000\n",
       "11                cwd  0.000000\n",
       "14      density:Jan20  0.000000\n",
       "15    density:JanTmin  0.000000\n",
       "16      density:Pmean  0.000000\n",
       "18  density:fallTmean  0.000000\n",
       "19    density:maxAugT  0.000000\n",
       "21             etopo1  0.000000\n",
       "35          lat:Pmean  0.000000\n",
       "24       etopo1:Pmean  0.000000\n",
       "25         etopo1:cwd  0.000000\n",
       "26   etopo1:fallTmean  0.000000\n",
       "28   etopo1:sum9_diff  0.000000\n",
       "1             JanTmin  0.000000\n",
       "30          fallTmean  0.000000\n",
       "32                lat  0.000000\n",
       "34        lat:JanTmin  0.000000\n",
       "29          etopo1_sq  0.000000"
      ]
     },
     "execution_count": 50,
     "metadata": {},
     "output_type": "execute_result"
    }
   ],
   "source": [
    "coefs = pd.DataFrame(\n",
    "    [[pred, coef] \n",
    "     for pred, coef in zip(predictors, logistic_clf.coef_[0])], \n",
    "    columns=['predictor', 'coef'])\n",
    "coefs['abs'] = np.abs(coefs.coef)\n",
    "coefs = coefs.sort_values('abs', ascending=False)\n",
    "coefs = coefs.drop(['abs'], axis=1)\n",
    "coefs"
   ]
  },
  {
   "cell_type": "code",
   "execution_count": 110,
   "metadata": {
    "collapsed": false
   },
   "outputs": [
    {
     "data": {
      "text/plain": [
       "array([[9.99995146e-01, 4.85357678e-06],\n",
       "       [9.99995072e-01, 4.92762211e-06],\n",
       "       [9.99995192e-01, 4.80764752e-06],\n",
       "       ...,\n",
       "       [9.99923117e-01, 7.68830932e-05],\n",
       "       [9.99927689e-01, 7.23112228e-05],\n",
       "       [9.99930204e-01, 6.97963389e-05]])"
      ]
     },
     "execution_count": 110,
     "metadata": {},
     "output_type": "execute_result"
    }
   ],
   "source": [
    "logistic_clf.predict_proba(X_train)"
   ]
  },
  {
   "cell_type": "code",
   "execution_count": 111,
   "metadata": {
    "collapsed": true
   },
   "outputs": [],
   "source": [
    "pred_ps_train = logistic_clf.predict_proba(X_train)\n",
    "pred_ps_train = np.array([p[1] for p in pred_ps_train])\n",
    "\n",
    "pred_ps_valid = logistic_clf.predict_proba(X_valid)\n",
    "pred_ps_valid = np.array([p[1] for p in pred_ps_valid])\n",
    "\n",
    "full_train['probs'] = pred_ps_train\n",
    "full_train['preds'] = get_predictions_at_threshold(\n",
    "    pred_ps_train, best_threshold['threshold'])\n",
    "\n",
    "\n",
    "full_valid['probs'] = pred_ps_valid\n",
    "full_valid['preds'] = get_predictions_at_threshold(\n",
    "    pred_ps_valid, best_threshold['threshold'])"
   ]
  },
  {
   "cell_type": "code",
   "execution_count": 112,
   "metadata": {
    "collapsed": false
   },
   "outputs": [
    {
     "data": {
      "text/html": [
       "<div>\n",
       "<style scoped>\n",
       "    .dataframe tbody tr th:only-of-type {\n",
       "        vertical-align: middle;\n",
       "    }\n",
       "\n",
       "    .dataframe tbody tr th {\n",
       "        vertical-align: top;\n",
       "    }\n",
       "\n",
       "    .dataframe thead th {\n",
       "        text-align: right;\n",
       "    }\n",
       "</style>\n",
       "<table border=\"1\" class=\"dataframe\">\n",
       "  <thead>\n",
       "    <tr style=\"text-align: right;\">\n",
       "      <th></th>\n",
       "      <th>Jan20</th>\n",
       "      <th>JanTmin</th>\n",
       "      <th>OptTsum</th>\n",
       "      <th>TMarAug</th>\n",
       "      <th>summerP1</th>\n",
       "      <th>wd</th>\n",
       "      <th>x</th>\n",
       "      <th>y</th>\n",
       "      <th>year</th>\n",
       "      <th>vgt</th>\n",
       "      <th>btl_t1</th>\n",
       "      <th>btl</th>\n",
       "      <th>probs</th>\n",
       "      <th>preds</th>\n",
       "    </tr>\n",
       "  </thead>\n",
       "  <tbody>\n",
       "    <tr>\n",
       "      <th>0</th>\n",
       "      <td>0</td>\n",
       "      <td>-0.617069</td>\n",
       "      <td>83</td>\n",
       "      <td>23.077373</td>\n",
       "      <td>90.757501</td>\n",
       "      <td>-7.549322</td>\n",
       "      <td>-390000.0</td>\n",
       "      <td>-2040000.0</td>\n",
       "      <td>2015</td>\n",
       "      <td>0</td>\n",
       "      <td>0</td>\n",
       "      <td>0</td>\n",
       "      <td>0.000006</td>\n",
       "      <td>0</td>\n",
       "    </tr>\n",
       "    <tr>\n",
       "      <th>1</th>\n",
       "      <td>0</td>\n",
       "      <td>-0.501957</td>\n",
       "      <td>80</td>\n",
       "      <td>23.317689</td>\n",
       "      <td>84.857248</td>\n",
       "      <td>-43.963725</td>\n",
       "      <td>-380000.0</td>\n",
       "      <td>-2040000.0</td>\n",
       "      <td>2015</td>\n",
       "      <td>0</td>\n",
       "      <td>0</td>\n",
       "      <td>0</td>\n",
       "      <td>0.000006</td>\n",
       "      <td>0</td>\n",
       "    </tr>\n",
       "    <tr>\n",
       "      <th>2</th>\n",
       "      <td>0</td>\n",
       "      <td>-0.537551</td>\n",
       "      <td>78</td>\n",
       "      <td>23.324662</td>\n",
       "      <td>79.930506</td>\n",
       "      <td>-36.603203</td>\n",
       "      <td>-370000.0</td>\n",
       "      <td>-2040000.0</td>\n",
       "      <td>2015</td>\n",
       "      <td>0</td>\n",
       "      <td>0</td>\n",
       "      <td>0</td>\n",
       "      <td>0.000007</td>\n",
       "      <td>0</td>\n",
       "    </tr>\n",
       "    <tr>\n",
       "      <th>3</th>\n",
       "      <td>0</td>\n",
       "      <td>-0.424526</td>\n",
       "      <td>74</td>\n",
       "      <td>23.664151</td>\n",
       "      <td>73.935640</td>\n",
       "      <td>-48.166563</td>\n",
       "      <td>-360000.0</td>\n",
       "      <td>-2040000.0</td>\n",
       "      <td>2015</td>\n",
       "      <td>0</td>\n",
       "      <td>0</td>\n",
       "      <td>0</td>\n",
       "      <td>0.000007</td>\n",
       "      <td>0</td>\n",
       "    </tr>\n",
       "    <tr>\n",
       "      <th>4</th>\n",
       "      <td>0</td>\n",
       "      <td>-0.320193</td>\n",
       "      <td>71</td>\n",
       "      <td>23.927155</td>\n",
       "      <td>65.407949</td>\n",
       "      <td>-80.172106</td>\n",
       "      <td>-350000.0</td>\n",
       "      <td>-2040000.0</td>\n",
       "      <td>2015</td>\n",
       "      <td>0</td>\n",
       "      <td>0</td>\n",
       "      <td>0</td>\n",
       "      <td>0.000008</td>\n",
       "      <td>0</td>\n",
       "    </tr>\n",
       "  </tbody>\n",
       "</table>\n",
       "</div>"
      ],
      "text/plain": [
       "   Jan20   JanTmin  OptTsum    TMarAug   summerP1         wd         x  \\\n",
       "0      0 -0.617069       83  23.077373  90.757501  -7.549322 -390000.0   \n",
       "1      0 -0.501957       80  23.317689  84.857248 -43.963725 -380000.0   \n",
       "2      0 -0.537551       78  23.324662  79.930506 -36.603203 -370000.0   \n",
       "3      0 -0.424526       74  23.664151  73.935640 -48.166563 -360000.0   \n",
       "4      0 -0.320193       71  23.927155  65.407949 -80.172106 -350000.0   \n",
       "\n",
       "           y  year  vgt  btl_t1  btl     probs  preds  \n",
       "0 -2040000.0  2015    0       0    0  0.000006      0  \n",
       "1 -2040000.0  2015    0       0    0  0.000006      0  \n",
       "2 -2040000.0  2015    0       0    0  0.000007      0  \n",
       "3 -2040000.0  2015    0       0    0  0.000007      0  \n",
       "4 -2040000.0  2015    0       0    0  0.000008      0  "
      ]
     },
     "execution_count": 112,
     "metadata": {},
     "output_type": "execute_result"
    }
   ],
   "source": [
    "full_test['probs'] = pred_ps\n",
    "full_test['preds'] = get_predictions_at_threshold(\n",
    "    pred_ps, best_threshold['threshold'])\n",
    "full_test.head()"
   ]
  },
  {
   "cell_type": "code",
   "execution_count": 113,
   "metadata": {
    "collapsed": true
   },
   "outputs": [],
   "source": [
    "def pred_plot(actual_matrix, pred_matrix, error_matrix, year):\n",
    "    plt.subplot(131)\n",
    "    imshow(np.rot90(actual_matrix));\n",
    "    plt.title('%d Actual' % year);\n",
    "    plt.subplot(132)\n",
    "    imshow(np.rot90(pred_matrix));\n",
    "    plt.title('%d Predicted' % year);\n",
    "    plt.subplot(133)\n",
    "    imshow(np.rot90(error_matrix));\n",
    "    plt.title('%d Error' % year);"
   ]
  },
  {
   "cell_type": "code",
   "execution_count": 114,
   "metadata": {
    "collapsed": true
   },
   "outputs": [],
   "source": [
    "def make_actual_pred_and_error_matrices(\n",
    "    data, year, pred_type='preds', plot=False):\n",
    "    data_year = data.loc[data.year == year, :]\n",
    "    actual_matrix = util.column2matrix(data_year, 'btl')\n",
    "    pred_matrix   = util.column2matrix(data_year, pred_type)\n",
    "    error_matrix  = pred_matrix - actual_matrix\n",
    "    if plot:\n",
    "        pred_plot(actual_matrix, pred_matrix, error_matrix, year)        \n",
    "    return actual_matrix, pred_matrix, error_matrix"
   ]
  },
  {
   "cell_type": "code",
   "execution_count": 115,
   "metadata": {
    "collapsed": false
   },
   "outputs": [
    {
     "name": "stdout",
     "output_type": "stream",
     "text": [
      "matrix shape: (196, 359)\n",
      "matrix shape: (196, 359)\n",
      "matrix shape: (195, 357)\n",
      "matrix shape: (195, 357)\n"
     ]
    },
    {
     "data": {
      "image/png": "[encoded data removed]",
      "text/plain": [
       "<Figure size 432x288 with 3 Axes>"
      ]
     },
     "metadata": {},
     "output_type": "display_data"
    },
    {
     "data": {
      "image/png": "[encoded data removed]",
      "text/plain": [
       "<Figure size 432x288 with 3 Axes>"
      ]
     },
     "metadata": {},
     "output_type": "display_data"
    }
   ],
   "source": [
    "years = [2003, 2009]\n",
    "for year in years:\n",
    "    plt.figure();\n",
    "    make_actual_pred_and_error_matrices(full_train, year, plot=True)"
   ]
  },
  {
   "cell_type": "code",
   "execution_count": 116,
   "metadata": {
    "collapsed": false
   },
   "outputs": [
    {
     "name": "stdout",
     "output_type": "stream",
     "text": [
      "matrix shape: (196, 351)\n",
      "matrix shape: (196, 351)\n",
      "matrix shape: (192, 355)\n",
      "matrix shape: (192, 355)\n"
     ]
    },
    {
     "data": {
      "image/png": "[encoded data removed]",
      "text/plain": [
       "<Figure size 432x288 with 3 Axes>"
      ]
     },
     "metadata": {},
     "output_type": "display_data"
    },
    {
     "data": {
      "image/png": "[encoded data removed]",
      "text/plain": [
       "<Figure size 432x288 with 3 Axes>"
      ]
     },
     "metadata": {},
     "output_type": "display_data"
    }
   ],
   "source": [
    "for year in years:\n",
    "    plt.figure();\n",
    "    make_actual_pred_and_error_matrices(full_valid, year, plot=True)"
   ]
  },
  {
   "cell_type": "code",
   "execution_count": 117,
   "metadata": {
    "collapsed": false
   },
   "outputs": [
    {
     "name": "stdout",
     "output_type": "stream",
     "text": [
      "matrix shape: (184, 346)\n",
      "matrix shape: (184, 346)\n",
      "matrix shape: (196, 350)\n",
      "matrix shape: (196, 350)\n"
     ]
    },
    {
     "data": {
      "image/png": "[encoded data removed]",
      "text/plain": [
       "<Figure size 432x288 with 3 Axes>"
      ]
     },
     "metadata": {},
     "output_type": "display_data"
    },
    {
     "data": {
      "image/png": "[encoded data removed]",
      "text/plain": [
       "<Figure size 432x288 with 3 Axes>"
      ]
     },
     "metadata": {},
     "output_type": "display_data"
    }
   ],
   "source": [
    "for year in years:\n",
    "    plt.figure();\n",
    "    make_actual_pred_and_error_matrices(full_test, year, plot=True)"
   ]
  },
  {
   "cell_type": "code",
   "execution_count": 118,
   "metadata": {
    "collapsed": true
   },
   "outputs": [],
   "source": [
    "all_data = full_train.append(full_valid).append(full_test)\n",
    "all_data.index = range(all_data.shape[0])"
   ]
  },
  {
   "cell_type": "code",
   "execution_count": 119,
   "metadata": {
    "collapsed": false
   },
   "outputs": [
    {
     "name": "stdout",
     "output_type": "stream",
     "text": [
      "matrix shape: (196, 359)\n",
      "matrix shape: (196, 359)\n",
      "matrix shape: (196, 359)\n",
      "matrix shape: (196, 359)\n"
     ]
    },
    {
     "data": {
      "image/png": "[encoded data removed]",
      "text/plain": [
       "<Figure size 432x288 with 3 Axes>"
      ]
     },
     "metadata": {},
     "output_type": "display_data"
    },
    {
     "data": {
      "image/png": "[encoded data removed]",
      "text/plain": [
       "<Figure size 432x288 with 3 Axes>"
      ]
     },
     "metadata": {},
     "output_type": "display_data"
    }
   ],
   "source": [
    "for year in years:\n",
    "    plt.figure();\n",
    "    make_actual_pred_and_error_matrices(\n",
    "        all_data, year, pred_type='probs', plot=True)"
   ]
  },
  {
   "cell_type": "code",
   "execution_count": 120,
   "metadata": {
    "collapsed": true
   },
   "outputs": [],
   "source": [
    "!say \"I'm done\""
   ]
  },
  {
   "cell_type": "code",
   "execution_count": null,
   "metadata": {
    "collapsed": true
   },
   "outputs": [],
   "source": []
  }
 ],
 "metadata": {
  "kernelspec": {
   "display_name": "Python 3",
   "language": "python",
   "name": "python3"
  },
  "language_info": {
   "codemirror_mode": {
    "name": "ipython",
    "version": 3
   },
   "file_extension": ".py",
   "mimetype": "text/x-python",
   "name": "python",
   "nbconvert_exporter": "python",
   "pygments_lexer": "ipython3",
   "version": "3.6.2"
  }
 },
 "nbformat": 4,
 "nbformat_minor": 2
}
