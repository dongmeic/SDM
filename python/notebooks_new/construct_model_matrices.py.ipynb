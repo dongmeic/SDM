{
 "cells": [
  {
   "cell_type": "code",
   "execution_count": 1,
   "metadata": {
    "collapsed": true
   },
   "outputs": [],
   "source": [
    "import os\n",
    "\n",
    "import pandas as pd"
   ]
  },
  {
   "cell_type": "code",
   "execution_count": 2,
   "metadata": {
    "collapsed": false
   },
   "outputs": [
    {
     "name": "stdout",
     "output_type": "stream",
     "text": [
      "README.rmd             \u001b[34mcluster\u001b[m\u001b[m                input_data_1998.csv\r\n",
      "\u001b[34mXy_internal_split_data\u001b[m\u001b[m \u001b[34mdev\u001b[m\u001b[m\r\n"
     ]
    }
   ],
   "source": [
    "!ls ../../data/"
   ]
  },
  {
   "cell_type": "code",
   "execution_count": 42,
   "metadata": {
    "collapsed": false
   },
   "outputs": [
    {
     "name": "stdout",
     "output_type": "stream",
     "text": [
      "Train:\n",
      "  ['X_train_1998.csv'] \n",
      "  ['y_train_1998.csv']\n",
      "Valid:\n",
      "  ['X_valid_1998.csv'] \n",
      "  ['y_valid_1998.csv']\n",
      "Test:\n",
      "  ['X_test_1998.csv'] \n",
      "  ['y_test_1998.csv']\n"
     ]
    }
   ],
   "source": [
    "DATA_DIR = '../../data/Xy_internal_split_data'\n",
    "train_X_files = sorted([f for f in os.listdir(DATA_DIR) if 'X_train' in f])\n",
    "valid_X_files = sorted([f for f in os.listdir(DATA_DIR) if 'X_valid' in f])\n",
    "test_X_files  = sorted([f for f in os.listdir(DATA_DIR) if 'X_test' in f])\n",
    "train_y_files = sorted([f for f in os.listdir(DATA_DIR) if 'y_train' in f])\n",
    "valid_y_files = sorted([f for f in os.listdir(DATA_DIR) if 'y_valid' in f])\n",
    "test_y_files  = sorted([f for f in os.listdir(DATA_DIR) if 'y_test' in f])\n",
    "\n",
    "print('Train:\\n ', train_X_files, '\\n ', train_y_files)\n",
    "print('Valid:\\n ', valid_X_files, '\\n ', valid_y_files)\n",
    "print('Test:\\n ',  test_X_files,  '\\n ', test_y_files)"
   ]
  },
  {
   "cell_type": "code",
   "execution_count": 4,
   "metadata": {
    "collapsed": false
   },
   "outputs": [
    {
     "name": "stdout",
     "output_type": "stream",
     "text": [
      "(194820, 39) (41785, 39) (41305, 39)\n",
      "(277910, 39)\n"
     ]
    }
   ],
   "source": [
    "tr = pd.read_csv('%s/%s' % (DATA_DIR, train_files[0]))\n",
    "vl = pd.read_csv('%s/%s' % (DATA_DIR, valid_files[0]))\n",
    "ts = pd.read_csv('%s/%s' % (DATA_DIR, test_files[0]))\n",
    "\n",
    "print(tr.shape, vl.shape, ts.shape)\n",
    "out = tr.append(vl)\n",
    "out = out.append(ts)\n",
    "print(out.shape)"
   ]
  },
  {
   "cell_type": "code",
   "execution_count": 43,
   "metadata": {
    "collapsed": false
   },
   "outputs": [],
   "source": [
    "def load_data_set(set_files):\n",
    "    print('Loading data from %s...' % set_files)\n",
    "    data_set = pd.read_csv('%s/%s' % (DATA_DIR, set_files.pop()))\n",
    "    for f in set_files:\n",
    "        next_chunk = pd.read_csv('%s/%s' % (DATA_DIR, f))\n",
    "        data_set = data_set.append(next_chunk)\n",
    "    return data_set"
   ]
  },
  {
   "cell_type": "code",
   "execution_count": 44,
   "metadata": {
    "collapsed": false
   },
   "outputs": [
    {
     "name": "stdout",
     "output_type": "stream",
     "text": [
      "Loading data from ['X_train_1998.csv']...\n",
      "Loading data from ['X_valid_1998.csv']...\n",
      "Loading data from ['X_test_1998.csv']...\n",
      "Loading data from ['y_train_1998.csv']...\n",
      "Loading data from ['y_valid_1998.csv']...\n",
      "Loading data from ['y_test_1998.csv']...\n"
     ]
    }
   ],
   "source": [
    "X_train = load_data_set(train_X_files)\n",
    "X_valid = load_data_set(valid_X_files)\n",
    "X_test  = load_data_set(test_X_files)\n",
    "y_train = load_data_set(train_y_files)\n",
    "y_valid = load_data_set(valid_y_files)\n",
    "y_test  = load_data_set(test_y_files)\n",
    "\n",
    "data_sets = [[X_train, y_train], [X_valid, y_valid], [X_test, y_test]]"
   ]
  },
  {
   "cell_type": "code",
   "execution_count": 45,
   "metadata": {
    "collapsed": false
   },
   "outputs": [],
   "source": [
    "SQUARE = [\n",
    "    'lon', 'lat', 'etopo1', 'age', 'density', 'JanTmin', 'MarTmin', \n",
    "    'TMarAug', 'summerTmean', 'AugTmean', 'AugTmax', 'GSP', 'PMarAug',\n",
    "    'summerP0', 'OctTmin', 'fallTmean', 'winterTmin', 'Tmin', 'Tmean', \n",
    "    'Tvar', 'TOctSep', 'summerP1', 'summerP2', 'Pmean', 'POctSep', \n",
    "    'PcumOctSep', 'PPT', 'drop0', 'drop5', 'ddAugJul', 'ddAugJun']\n",
    "CUBE = ['age', 'density', 'drop0', 'drop5']\n",
    "INTERACTIONS = [\n",
    "    'lon:TMarAug', 'lon:AugTmean', 'lon:AugTmax', 'lon:OctTmin',\n",
    "    'lon:Tmean', 'lon:TOctSep', 'lat:ddAugJul', 'lat:ddAugJun', \n",
    "    'density:summerP0', 'density:summerP1', 'density:summerP2', \n",
    "    'JanTmin:summerTmean', 'JanTmin:AugTmean', 'JanTmin:AugTmax',\n",
    "    'JanTmin:ddAugJul', 'JanTmin:ddAugJun', 'MarTmin:AugTmean', \n",
    "    'MarTmin:AugTmax', 'TMarAug:ddAugJul', 'TMarAug:ddAugJun', \n",
    "    'summerTmean:OctTmin', 'summerTmean:winterTmin', 'summerTmean:Tmin',\n",
    "    'summerTmean:ddAugJul', 'summerTmean:ddAugJun', 'AugTmean:winterTmin',\n",
    "    'AugTmean:ddAugJul', 'AugTmean:ddAugJun', 'AugTmax:ddAugJun',\n",
    "    'GSP:summerP0', 'GSP:summerP1', 'GSP:summerP2', 'GSP:Pmean',\n",
    "    'GSP:POctSep', 'GSP:PcumOctSep', 'GSP:PPT', 'PMarAug:summerP0',\n",
    "    'PMarAug:summerP2', 'PMarAug:POctSep', 'PMarAug:PcumOctSep', \n",
    "    'PMarAug:PPT', 'OctTmin:ddAugJul', 'OctTmin:ddAugJun', \n",
    "    'fallTmean:ddAugJun', 'winterTmin:ddAugJul', 'winterTmin:ddAugJun',\n",
    "    'Tmin:ddAugJun', 'summerP1:POctSep', 'summerP1:PcumOctSep', \n",
    "    'summerP1:PPT']\n",
    "\n",
    "# check for typos in above\n",
    "for term in SQUARE + CUBE + INTERACTIONS:\n",
    "    for t in term.split(':'):\n",
    "        if t not in list(train):\n",
    "            print(t)"
   ]
  },
  {
   "cell_type": "code",
   "execution_count": 46,
   "metadata": {
    "collapsed": true
   },
   "outputs": [],
   "source": [
    "def add_squares(data_set):\n",
    "    print('Adding quadratic terms...')\n",
    "    for field in SQUARE:\n",
    "        if field in list(data_set):\n",
    "            data_set['%s_sq' % field] = data_set[field] ** 2\n",
    "    return data_set"
   ]
  },
  {
   "cell_type": "code",
   "execution_count": 47,
   "metadata": {
    "collapsed": true
   },
   "outputs": [],
   "source": [
    "def add_cubes(data_set):\n",
    "    print('Adding cubic terms...')    \n",
    "    for field in CUBE:\n",
    "        if field in list(data_set):\n",
    "            data_set['%s_cub' % field] = data_set[field] ** 3\n",
    "    return data_set"
   ]
  },
  {
   "cell_type": "code",
   "execution_count": 48,
   "metadata": {
    "collapsed": true
   },
   "outputs": [],
   "source": [
    "def add_interactions(data_set):\n",
    "    print('Adding interactions...')\n",
    "    for field in INTERACTIONS:\n",
    "        f1, f2 = field.split(':')\n",
    "        if f1 in data_set and f2 in data_set:\n",
    "            data_set[field] = data_set[f1] * data_set[f2]\n",
    "    return data_set"
   ]
  },
  {
   "cell_type": "code",
   "execution_count": 49,
   "metadata": {
    "collapsed": true
   },
   "outputs": [],
   "source": [
    "def add_all_cols(data_set):\n",
    "    data_set = add_squares(data_set)\n",
    "    data_set = add_cubes(data_set)\n",
    "    data_set = add_interactions(data_set)\n",
    "    return data_set"
   ]
  },
  {
   "cell_type": "code",
   "execution_count": 50,
   "metadata": {
    "collapsed": false
   },
   "outputs": [
    {
     "name": "stdout",
     "output_type": "stream",
     "text": [
      "Adding quadratic terms...\n",
      "Adding cubic terms...\n",
      "Adding interactions...\n"
     ]
    },
    {
     "data": {
      "text/html": [
       "<div>\n",
       "<style>\n",
       "    .dataframe thead tr:only-child th {\n",
       "        text-align: right;\n",
       "    }\n",
       "\n",
       "    .dataframe thead th {\n",
       "        text-align: left;\n",
       "    }\n",
       "\n",
       "    .dataframe tbody tr th {\n",
       "        vertical-align: top;\n",
       "    }\n",
       "</style>\n",
       "<table border=\"1\" class=\"dataframe\">\n",
       "  <thead>\n",
       "    <tr style=\"text-align: right;\">\n",
       "      <th></th>\n",
       "      <th>Tmean</th>\n",
       "      <th>age</th>\n",
       "      <th>lat</th>\n",
       "      <th>lon</th>\n",
       "      <th>lon_sq</th>\n",
       "      <th>lat_sq</th>\n",
       "      <th>age_sq</th>\n",
       "      <th>Tmean_sq</th>\n",
       "      <th>age_cub</th>\n",
       "      <th>lon:Tmean</th>\n",
       "    </tr>\n",
       "  </thead>\n",
       "  <tbody>\n",
       "    <tr>\n",
       "      <th>0</th>\n",
       "      <td>0</td>\n",
       "      <td>-2</td>\n",
       "      <td>4</td>\n",
       "      <td>1</td>\n",
       "      <td>1</td>\n",
       "      <td>16</td>\n",
       "      <td>4</td>\n",
       "      <td>0</td>\n",
       "      <td>-8</td>\n",
       "      <td>0</td>\n",
       "    </tr>\n",
       "    <tr>\n",
       "      <th>1</th>\n",
       "      <td>1</td>\n",
       "      <td>2</td>\n",
       "      <td>5</td>\n",
       "      <td>2</td>\n",
       "      <td>4</td>\n",
       "      <td>25</td>\n",
       "      <td>4</td>\n",
       "      <td>1</td>\n",
       "      <td>8</td>\n",
       "      <td>2</td>\n",
       "    </tr>\n",
       "    <tr>\n",
       "      <th>2</th>\n",
       "      <td>5</td>\n",
       "      <td>3</td>\n",
       "      <td>6</td>\n",
       "      <td>3</td>\n",
       "      <td>9</td>\n",
       "      <td>36</td>\n",
       "      <td>9</td>\n",
       "      <td>25</td>\n",
       "      <td>27</td>\n",
       "      <td>15</td>\n",
       "    </tr>\n",
       "  </tbody>\n",
       "</table>\n",
       "</div>"
      ],
      "text/plain": [
       "   Tmean  age  lat  lon  lon_sq  lat_sq  age_sq  Tmean_sq  age_cub  lon:Tmean\n",
       "0      0   -2    4    1       1      16       4         0       -8          0\n",
       "1      1    2    5    2       4      25       4         1        8          2\n",
       "2      5    3    6    3       9      36       9        25       27         15"
      ]
     },
     "execution_count": 50,
     "metadata": {},
     "output_type": "execute_result"
    }
   ],
   "source": [
    "test = pd.DataFrame({'lon': [1, 2, 3], \n",
    "                     'lat': [4, 5, 6], \n",
    "                     'age': [-2, 2, 3], \n",
    "                     'Tmean': [0, 1, 5]})\n",
    "test = add_all_cols(test)\n",
    "test.head()"
   ]
  },
  {
   "cell_type": "code",
   "execution_count": 53,
   "metadata": {
    "collapsed": true
   },
   "outputs": [],
   "source": [
    "def construct_model_matrices():\n",
    "    train_X_files = sorted(\n",
    "        [f for f in os.listdir(DATA_DIR) if 'X_train' in f])\n",
    "    valid_X_files = sorted(\n",
    "        [f for f in os.listdir(DATA_DIR) if 'X_valid' in f])\n",
    "    test_X_files  = sorted(\n",
    "        [f for f in os.listdir(DATA_DIR) if 'X_test' in f])\n",
    "    train_y_files = sorted(\n",
    "        [f for f in os.listdir(DATA_DIR) if 'y_train' in f])\n",
    "    valid_y_files = sorted(\n",
    "        [f for f in os.listdir(DATA_DIR) if 'y_valid' in f])\n",
    "    test_y_files  = sorted(\n",
    "        [f for f in os.listdir(DATA_DIR) if 'y_test' in f])\n",
    "    print('Train:\\n ', train_X_files, '\\n ', train_y_files)\n",
    "    print('Valid:\\n ', valid_X_files, '\\n ', valid_y_files)\n",
    "    print('Test:\\n ',  test_X_files,  '\\n ', test_y_files)\n",
    "    \n",
    "    X_train = load_data_set(train_X_files)\n",
    "    X_valid = load_data_set(valid_X_files)\n",
    "    X_test  = load_data_set(test_X_files)\n",
    "    y_train = load_data_set(train_y_files)\n",
    "    y_valid = load_data_set(valid_y_files)\n",
    "    y_test  = load_data_set(test_y_files)\n",
    "    data_sets = [\n",
    "        [X_train, y_train], [X_valid, y_valid], [X_test, y_test]]    \n",
    "    \n",
    "    for i, [X, y] in enumerate(data_sets):\n",
    "        data_sets[i] = [add_all_cols(X), y]\n",
    "    return data_sets"
   ]
  },
  {
   "cell_type": "code",
   "execution_count": 54,
   "metadata": {
    "collapsed": false
   },
   "outputs": [
    {
     "name": "stdout",
     "output_type": "stream",
     "text": [
      "Train:\n",
      "  ['X_train_1998.csv'] \n",
      "  ['y_train_1998.csv']\n",
      "Valid:\n",
      "  ['X_valid_1998.csv'] \n",
      "  ['y_valid_1998.csv']\n",
      "Test:\n",
      "  ['X_test_1998.csv'] \n",
      "  ['y_test_1998.csv']\n",
      "Loading data from ['X_train_1998.csv']...\n",
      "Loading data from ['X_valid_1998.csv']...\n",
      "Loading data from ['X_test_1998.csv']...\n",
      "Loading data from ['y_train_1998.csv']...\n",
      "Loading data from ['y_valid_1998.csv']...\n",
      "Loading data from ['y_test_1998.csv']...\n",
      "Adding quadratic terms...\n",
      "Adding cubic terms...\n",
      "Adding interactions...\n",
      "Adding quadratic terms...\n",
      "Adding cubic terms...\n",
      "Adding interactions...\n",
      "Adding quadratic terms...\n",
      "Adding cubic terms...\n",
      "Adding interactions...\n"
     ]
    }
   ],
   "source": [
    "data_sets = construct_model_matrices()"
   ]
  },
  {
   "cell_type": "code",
   "execution_count": 58,
   "metadata": {
    "collapsed": false
   },
   "outputs": [],
   "source": [
    "# Check\n",
    "#list(data_sets[0][0])\n",
    "#list(data_sets[0][1])"
   ]
  },
  {
   "cell_type": "code",
   "execution_count": null,
   "metadata": {
    "collapsed": true
   },
   "outputs": [],
   "source": []
  }
 ],
 "metadata": {
  "kernelspec": {
   "display_name": "Python 3",
   "language": "python",
   "name": "python3"
  },
  "language_info": {
   "codemirror_mode": {
    "name": "ipython",
    "version": 3
   },
   "file_extension": ".py",
   "mimetype": "text/x-python",
   "name": "python",
   "nbconvert_exporter": "python",
   "pygments_lexer": "ipython3",
   "version": "3.6.1"
  }
 },
 "nbformat": 4,
 "nbformat_minor": 0
}
