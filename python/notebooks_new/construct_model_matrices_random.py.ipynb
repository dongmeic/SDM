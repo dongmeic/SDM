{
 "cells": [
  {
   "cell_type": "code",
   "execution_count": 1,
   "metadata": {
    "collapsed": false
   },
   "outputs": [
    {
     "name": "stderr",
     "output_type": "stream",
     "text": [
      "/usr/local/Cellar/python3/3.6.2/Frameworks/Python.framework/Versions/3.6/lib/python3.6/importlib/_bootstrap.py:205: RuntimeWarning: numpy.dtype size changed, may indicate binary incompatibility. Expected 96, got 88\n",
      "  return f(*args, **kwds)\n",
      "/usr/local/Cellar/python3/3.6.2/Frameworks/Python.framework/Versions/3.6/lib/python3.6/importlib/_bootstrap.py:205: RuntimeWarning: numpy.dtype size changed, may indicate binary incompatibility. Expected 96, got 88\n",
      "  return f(*args, **kwds)\n"
     ]
    }
   ],
   "source": [
    "import os\n",
    "import numpy as np\n",
    "import pandas as pd"
   ]
  },
  {
   "cell_type": "code",
   "execution_count": 2,
   "metadata": {
    "collapsed": false
   },
   "outputs": [
    {
     "name": "stdout",
     "output_type": "stream",
     "text": [
      "\u001b[34mXy_internal_split_data\u001b[m\u001b[m \u001b[34mXy_year_split_data\u001b[m\u001b[m\r\n",
      "\u001b[34mXy_random_split_data\u001b[m\u001b[m   \u001b[34mcluster\u001b[m\u001b[m\r\n"
     ]
    }
   ],
   "source": [
    "!ls ../../data/"
   ]
  },
  {
   "cell_type": "code",
   "execution_count": 3,
   "metadata": {
    "collapsed": false
   },
   "outputs": [
    {
     "name": "stdout",
     "output_type": "stream",
     "text": [
      "Train:\n",
      "  ['X_train_1998.csv', 'X_train_1999.csv', 'X_train_2000.csv', 'X_train_2001.csv', 'X_train_2002.csv', 'X_train_2003.csv', 'X_train_2004.csv', 'X_train_2005.csv', 'X_train_2006.csv', 'X_train_2007.csv', 'X_train_2008.csv', 'X_train_2009.csv', 'X_train_2010.csv', 'X_train_2011.csv', 'X_train_2012.csv', 'X_train_2013.csv', 'X_train_2014.csv', 'X_train_2015.csv'] \n",
      "  ['y_train_1998.csv', 'y_train_1999.csv', 'y_train_2000.csv', 'y_train_2001.csv', 'y_train_2002.csv', 'y_train_2003.csv', 'y_train_2004.csv', 'y_train_2005.csv', 'y_train_2006.csv', 'y_train_2007.csv', 'y_train_2008.csv', 'y_train_2009.csv', 'y_train_2010.csv', 'y_train_2011.csv', 'y_train_2012.csv', 'y_train_2013.csv', 'y_train_2014.csv', 'y_train_2015.csv']\n",
      "Valid:\n",
      "  ['X_valid_1998.csv', 'X_valid_1999.csv', 'X_valid_2000.csv', 'X_valid_2001.csv', 'X_valid_2002.csv', 'X_valid_2003.csv', 'X_valid_2004.csv', 'X_valid_2005.csv', 'X_valid_2006.csv', 'X_valid_2007.csv', 'X_valid_2008.csv', 'X_valid_2009.csv', 'X_valid_2010.csv', 'X_valid_2011.csv', 'X_valid_2012.csv', 'X_valid_2013.csv', 'X_valid_2014.csv', 'X_valid_2015.csv'] \n",
      "  ['y_valid_1998.csv', 'y_valid_1999.csv', 'y_valid_2000.csv', 'y_valid_2001.csv', 'y_valid_2002.csv', 'y_valid_2003.csv', 'y_valid_2004.csv', 'y_valid_2005.csv', 'y_valid_2006.csv', 'y_valid_2007.csv', 'y_valid_2008.csv', 'y_valid_2009.csv', 'y_valid_2010.csv', 'y_valid_2011.csv', 'y_valid_2012.csv', 'y_valid_2013.csv', 'y_valid_2014.csv', 'y_valid_2015.csv']\n",
      "Test:\n",
      "  ['X_test_1998.csv', 'X_test_1999.csv', 'X_test_2000.csv', 'X_test_2001.csv', 'X_test_2002.csv', 'X_test_2003.csv', 'X_test_2004.csv', 'X_test_2005.csv', 'X_test_2006.csv', 'X_test_2007.csv', 'X_test_2008.csv', 'X_test_2009.csv', 'X_test_2010.csv', 'X_test_2011.csv', 'X_test_2012.csv', 'X_test_2013.csv', 'X_test_2014.csv', 'X_test_2015.csv'] \n",
      "  ['y_test_1998.csv', 'y_test_1999.csv', 'y_test_2000.csv', 'y_test_2001.csv', 'y_test_2002.csv', 'y_test_2003.csv', 'y_test_2004.csv', 'y_test_2005.csv', 'y_test_2006.csv', 'y_test_2007.csv', 'y_test_2008.csv', 'y_test_2009.csv', 'y_test_2010.csv', 'y_test_2011.csv', 'y_test_2012.csv', 'y_test_2013.csv', 'y_test_2014.csv', 'y_test_2015.csv']\n"
     ]
    }
   ],
   "source": [
    "#DATA_DIR = '../../data/Xy_internal_split_data'\n",
    "DATA_DIR = '../../data/Xy_random_split_data'\n",
    "train_X_files = sorted([f for f in os.listdir(DATA_DIR) if 'X_train' in f])\n",
    "valid_X_files = sorted([f for f in os.listdir(DATA_DIR) if 'X_valid' in f])\n",
    "test_X_files  = sorted([f for f in os.listdir(DATA_DIR) if 'X_test' in f])\n",
    "train_y_files = sorted([f for f in os.listdir(DATA_DIR) if 'y_train' in f])\n",
    "valid_y_files = sorted([f for f in os.listdir(DATA_DIR) if 'y_valid' in f])\n",
    "test_y_files  = sorted([f for f in os.listdir(DATA_DIR) if 'y_test' in f])\n",
    "\n",
    "print('Train:\\n ', train_X_files, '\\n ', train_y_files)\n",
    "print('Valid:\\n ', valid_X_files, '\\n ', valid_y_files)\n",
    "print('Test:\\n ',  test_X_files,  '\\n ', test_y_files)"
   ]
  },
  {
   "cell_type": "code",
   "execution_count": 4,
   "metadata": {
    "collapsed": false
   },
   "outputs": [],
   "source": [
    "def load_data_set(set_files):\n",
    "    print('Loading data from %s...' % set_files)\n",
    "    data_set = pd.read_csv('%s/%s' % (DATA_DIR, set_files.pop()))\n",
    "    for f in set_files:\n",
    "        next_chunk = pd.read_csv('%s/%s' % (DATA_DIR, f))\n",
    "        data_set = data_set.append(next_chunk)\n",
    "    data_set.index = range(data_set.shape[0])\n",
    "    return data_set"
   ]
  },
  {
   "cell_type": "code",
   "execution_count": 5,
   "metadata": {
    "collapsed": false
   },
   "outputs": [
    {
     "name": "stdout",
     "output_type": "stream",
     "text": [
      "Loading data from ['X_train_1998.csv', 'X_train_1999.csv', 'X_train_2000.csv', 'X_train_2001.csv', 'X_train_2002.csv', 'X_train_2003.csv', 'X_train_2004.csv', 'X_train_2005.csv', 'X_train_2006.csv', 'X_train_2007.csv', 'X_train_2008.csv', 'X_train_2009.csv', 'X_train_2010.csv', 'X_train_2011.csv', 'X_train_2012.csv', 'X_train_2013.csv', 'X_train_2014.csv', 'X_train_2015.csv']...\n",
      "Loading data from ['X_valid_1998.csv', 'X_valid_1999.csv', 'X_valid_2000.csv', 'X_valid_2001.csv', 'X_valid_2002.csv', 'X_valid_2003.csv', 'X_valid_2004.csv', 'X_valid_2005.csv', 'X_valid_2006.csv', 'X_valid_2007.csv', 'X_valid_2008.csv', 'X_valid_2009.csv', 'X_valid_2010.csv', 'X_valid_2011.csv', 'X_valid_2012.csv', 'X_valid_2013.csv', 'X_valid_2014.csv', 'X_valid_2015.csv']...\n",
      "Loading data from ['X_test_1998.csv', 'X_test_1999.csv', 'X_test_2000.csv', 'X_test_2001.csv', 'X_test_2002.csv', 'X_test_2003.csv', 'X_test_2004.csv', 'X_test_2005.csv', 'X_test_2006.csv', 'X_test_2007.csv', 'X_test_2008.csv', 'X_test_2009.csv', 'X_test_2010.csv', 'X_test_2011.csv', 'X_test_2012.csv', 'X_test_2013.csv', 'X_test_2014.csv', 'X_test_2015.csv']...\n",
      "Loading data from ['y_train_1998.csv', 'y_train_1999.csv', 'y_train_2000.csv', 'y_train_2001.csv', 'y_train_2002.csv', 'y_train_2003.csv', 'y_train_2004.csv', 'y_train_2005.csv', 'y_train_2006.csv', 'y_train_2007.csv', 'y_train_2008.csv', 'y_train_2009.csv', 'y_train_2010.csv', 'y_train_2011.csv', 'y_train_2012.csv', 'y_train_2013.csv', 'y_train_2014.csv', 'y_train_2015.csv']...\n",
      "Loading data from ['y_valid_1998.csv', 'y_valid_1999.csv', 'y_valid_2000.csv', 'y_valid_2001.csv', 'y_valid_2002.csv', 'y_valid_2003.csv', 'y_valid_2004.csv', 'y_valid_2005.csv', 'y_valid_2006.csv', 'y_valid_2007.csv', 'y_valid_2008.csv', 'y_valid_2009.csv', 'y_valid_2010.csv', 'y_valid_2011.csv', 'y_valid_2012.csv', 'y_valid_2013.csv', 'y_valid_2014.csv', 'y_valid_2015.csv']...\n",
      "Loading data from ['y_test_1998.csv', 'y_test_1999.csv', 'y_test_2000.csv', 'y_test_2001.csv', 'y_test_2002.csv', 'y_test_2003.csv', 'y_test_2004.csv', 'y_test_2005.csv', 'y_test_2006.csv', 'y_test_2007.csv', 'y_test_2008.csv', 'y_test_2009.csv', 'y_test_2010.csv', 'y_test_2011.csv', 'y_test_2012.csv', 'y_test_2013.csv', 'y_test_2014.csv', 'y_test_2015.csv']...\n"
     ]
    }
   ],
   "source": [
    "X_train = load_data_set(train_X_files)\n",
    "X_valid = load_data_set(valid_X_files)\n",
    "X_test  = load_data_set(test_X_files)\n",
    "y_train = load_data_set(train_y_files)\n",
    "y_valid = load_data_set(valid_y_files)\n",
    "y_test  = load_data_set(test_y_files)\n",
    "\n",
    "data_sets = [[X_train, y_train], [X_valid, y_valid], [X_test, y_test]]"
   ]
  },
  {
   "cell_type": "code",
   "execution_count": 6,
   "metadata": {
    "collapsed": false
   },
   "outputs": [],
   "source": [
    "SQUARE = [\n",
    "    'lon', 'lat', 'etopo1', 'age', 'density', 'JanTmin', 'MarTmin', 'maxT',\n",
    "    'TMarAug', 'summerTmean', 'AugTmean','PMarAug','TMarAug','Tmin', 'summerP2',\n",
    "    'summerP1', 'OctTmin','Tvar', 'TOctSep', 'summerP0', 'Pmean', 'POctSep', 'wd',\n",
    "    'PcumOctSep', 'PPT', 'cwd']\n",
    "CUBE = ['ddAugJul','ddAugJun','Tmean','TMarAug','fallTmean','TOctSep','vpd','AugMaxT','AugTmax']\n",
    "INTERACTIONS = [\n",
    "    'age:density', 'age:TMarAug', 'age:summerTmean', 'age:AugTmean', 'age:AugTmax', \n",
    "    'age:PMarAug', 'age:summerP0', 'age:Tvar', 'age:summerP1', 'age:summerP2', \n",
    "    'age:Pmean', 'age:POctSep', 'age:PcumOctSep', 'age:PPT', 'age:maxAugT', \n",
    "    'age:OptTsum', 'age:AugMaxT', 'age:maxT', 'age:drop5', 'age:max.drop', \n",
    "    'age:ddAugJul', 'age:ddAugJun', 'age:cv.gsp', 'age:wd', 'age:vpd', 'age:mi', \n",
    "    'age:cwd', 'age:pt.coef', 'density:JanTmin', 'density:MarTmin', 'density:TMarAug', \n",
    "    'density:summerTmean', 'density:AugTmean', 'density:AugTmax', 'density:PMarAug', \n",
    "    'density:summerP0', 'density:OctTmin', 'density:fallTmean', 'density:Tmin', \n",
    "    'density:Tmean', 'density:TOctSep', 'density:summerP1', 'density:summerP2', \n",
    "    'density:Pmean', 'density:POctSep', 'density:PcumOctSep', 'density:PPT', \n",
    "    'density:maxAugT', 'density:OptTsum', 'density:AugMaxT', 'density:maxT', \n",
    "    'density:Acs', 'density:drop0', 'density:drop5', 'density:max.drop', 'density:ddAugJul',\n",
    "    'density:ddAugJun', 'density:OctMin', 'density:JanMin', 'density:MarMin', 'density:winterMin', \n",
    "    'density:minT', 'density:cv.gsp', 'density:wd', 'density:vpd', 'density:mi', 'density:cwd', \n",
    "    'density:pt.coef', 'JanTmin:MarTmin', 'JanTmin:TMarAug', 'JanTmin:summerTmean', \n",
    "    'JanTmin:AugTmean', 'JanTmin:AugTmax', 'JanTmin:summerP0', 'JanTmin:OctTmin', 'JanTmin:fallTmean', \n",
    "    'JanTmin:Tmin', 'JanTmin:Tmean', 'JanTmin:Tvar', 'JanTmin:TOctSep', 'JanTmin:summerP1', \n",
    "    'JanTmin:summerP2', 'JanTmin:Pmean', 'JanTmin:POctSep', 'JanTmin:PcumOctSep', 'JanTmin:PPT', \n",
    "    'JanTmin:maxAugT', 'JanTmin:Acs', 'JanTmin:drop0', 'JanTmin:drop5', 'JanTmin:max.drop', \n",
    "    'JanTmin:OctMin', 'JanTmin:JanMin', 'JanTmin:MarMin', 'JanTmin:winterMin', 'JanTmin:minT', \n",
    "    'JanTmin:wd', 'JanTmin:cwd', 'JanTmin:pt.coef', 'MarTmin:TMarAug', 'MarTmin:summerTmean', \n",
    "    'MarTmin:AugTmean', 'MarTmin:AugTmax', 'MarTmin:summerP0', 'MarTmin:OctTmin', 'MarTmin:fallTmean', \n",
    "    'MarTmin:Tmin', 'MarTmin:Tmean', 'MarTmin:Tvar', 'MarTmin:TOctSep', 'MarTmin:summerP1', \n",
    "    'MarTmin:summerP2', 'MarTmin:Pmean', 'MarTmin:POctSep', 'MarTmin:PcumOctSep', 'MarTmin:PPT', \n",
    "    'MarTmin:maxAugT', 'MarTmin:AugMaxT', 'MarTmin:maxT', 'MarTmin:Acs', 'MarTmin:drop0', \n",
    "    'MarTmin:drop5', 'MarTmin:max.drop', 'MarTmin:OctMin', 'MarTmin:JanMin', 'MarTmin:MarMin', \n",
    "    'MarTmin:winterMin', 'MarTmin:minT', 'MarTmin:vpd', 'MarTmin:cwd', 'MarTmin:pt.coef', \n",
    "    'TMarAug:summerTmean', 'TMarAug:AugTmean', 'TMarAug:AugTmax', 'TMarAug:PMarAug', \n",
    "    'TMarAug:summerP0', 'TMarAug:OctTmin', 'TMarAug:fallTmean', 'TMarAug:Tmin', 'TMarAug:Tmean', \n",
    "    'TMarAug:Tvar', 'TMarAug:TOctSep', 'TMarAug:summerP1', 'TMarAug:summerP2', 'TMarAug:Pmean',\n",
    "    'TMarAug:POctSep', 'TMarAug:PcumOctSep', 'TMarAug:PPT', 'TMarAug:maxAugT', 'TMarAug:OptTsum', \n",
    "    'TMarAug:AugMaxT', 'TMarAug:maxT', 'TMarAug:Acs', 'TMarAug:drop5', 'TMarAug:max.drop', \n",
    "    'TMarAug:ddAugJul', 'TMarAug:ddAugJun', 'TMarAug:OctMin', 'TMarAug:JanMin', 'TMarAug:MarMin', \n",
    "    'TMarAug:winterMin', 'TMarAug:minT', 'TMarAug:wd', 'TMarAug:vpd', 'TMarAug:mi', 'TMarAug:cwd', \n",
    "    'TMarAug:pt.coef', 'summerTmean:AugTmean', 'summerTmean:AugTmax', 'summerTmean:PMarAug', \n",
    "    'summerTmean:summerP0', 'summerTmean:OctTmin', 'summerTmean:fallTmean', 'summerTmean:Tmin', \n",
    "    'summerTmean:Tmean', 'summerTmean:TOctSep', 'summerTmean:summerP1', 'summerTmean:summerP2', \n",
    "    'summerTmean:Pmean', 'summerTmean:POctSep', 'summerTmean:PcumOctSep', 'summerTmean:PPT', \n",
    "    'summerTmean:maxAugT', 'summerTmean:OptTsum', 'summerTmean:AugMaxT', 'summerTmean:maxT', \n",
    "    'summerTmean:ddAugJul', 'summerTmean:ddAugJun', 'summerTmean:OctMin', 'summerTmean:JanMin', \n",
    "    'summerTmean:MarMin', 'summerTmean:winterMin', 'summerTmean:minT', 'summerTmean:cv.gsp', \n",
    "    'summerTmean:wd', 'summerTmean:vpd', 'summerTmean:mi', 'summerTmean:cwd', 'summerTmean:pt.coef', \n",
    "    'AugTmean:AugTmax', 'AugTmean:PMarAug', 'AugTmean:summerP0', 'AugTmean:OctTmin', 'AugTmean:fallTmean', \n",
    "    'AugTmean:Tmin', 'AugTmean:Tmean', 'AugTmean:TOctSep', 'AugTmean:summerP1', 'AugTmean:summerP2', \n",
    "    'AugTmean:Pmean', 'AugTmean:POctSep', 'AugTmean:PcumOctSep', 'AugTmean:PPT', 'AugTmean:maxAugT', \n",
    "    'AugTmean:OptTsum', 'AugTmean:AugMaxT', 'AugTmean:maxT', 'AugTmean:Acs', 'AugTmean:max.drop', \n",
    "    'AugTmean:ddAugJul', 'AugTmean:ddAugJun', 'AugTmean:OctMin', 'AugTmean:JanMin', 'AugTmean:MarMin', \n",
    "    'AugTmean:winterMin', 'AugTmean:minT', 'AugTmean:cv.gsp', 'AugTmean:wd', 'AugTmean:vpd', \n",
    "    'AugTmean:mi', 'AugTmean:cwd', 'AugTmean:pt.coef', 'AugTmax:PMarAug', 'AugTmax:summerP0', \n",
    "    'AugTmax:OctTmin', 'AugTmax:fallTmean', 'AugTmax:Tmin', 'AugTmax:Tmean', 'AugTmax:TOctSep', \n",
    "    'AugTmax:summerP1', 'AugTmax:summerP2', 'AugTmax:Pmean', 'AugTmax:POctSep', 'AugTmax:PcumOctSep', \n",
    "    'AugTmax:PPT', 'AugTmax:maxAugT', 'AugTmax:OptTsum', 'AugTmax:AugMaxT', 'AugTmax:maxT', 'AugTmax:Acs', \n",
    "    'AugTmax:drop0', 'AugTmax:max.drop', 'AugTmax:ddAugJul', 'AugTmax:ddAugJun', 'AugTmax:OctMin', \n",
    "    'AugTmax:JanMin', 'AugTmax:MarMin', 'AugTmax:winterMin', 'AugTmax:minT', 'AugTmax:cv.gsp', \n",
    "    'AugTmax:wd', 'AugTmax:vpd', 'AugTmax:mi', 'AugTmax:cwd', 'AugTmax:pt.coef', 'PMarAug:summerP0', \n",
    "    'PMarAug:fallTmean', 'PMarAug:Tmean', 'PMarAug:Tvar', 'PMarAug:TOctSep', 'PMarAug:summerP1', \n",
    "    'PMarAug:summerP2', 'PMarAug:Pmean', 'PMarAug:POctSep', 'PMarAug:PcumOctSep', 'PMarAug:PPT', \n",
    "    'PMarAug:maxAugT', 'PMarAug:OptTsum', 'PMarAug:AugMaxT', 'PMarAug:maxT', 'PMarAug:drop0', 'PMarAug:drop5', \n",
    "    'PMarAug:ddAugJul', 'PMarAug:ddAugJun', 'PMarAug:wd', 'PMarAug:vpd', 'PMarAug:mi', 'PMarAug:cwd', \n",
    "    'PMarAug:pt.coef', 'summerP0:OctTmin', 'summerP0:fallTmean', 'summerP0:Tmin', 'summerP0:Tmean', \n",
    "    'summerP0:TOctSep', 'summerP0:summerP1', 'summerP0:summerP2', 'summerP0:Pmean', 'summerP0:POctSep', \n",
    "    'summerP0:PcumOctSep', 'summerP0:PPT', 'summerP0:maxAugT', 'summerP0:AugMaxT', 'summerP0:maxT', \n",
    "    'summerP0:max.drop', 'summerP0:OctMin', 'summerP0:JanMin', 'summerP0:MarMin', 'summerP0:winterMin', \n",
    "    'summerP0:minT', 'summerP0:wd', 'summerP0:mi', 'summerP0:cwd', 'summerP0:pt.coef', 'OctTmin:fallTmean', \n",
    "    'OctTmin:Tmin', 'OctTmin:Tmean', 'OctTmin:Tvar', 'OctTmin:TOctSep', 'OctTmin:summerP1', 'OctTmin:summerP2', \n",
    "    'OctTmin:Pmean', 'OctTmin:POctSep', 'OctTmin:PcumOctSep', 'OctTmin:PPT', 'OctTmin:maxAugT', 'OctTmin:AugMaxT', \n",
    "    'OctTmin:maxT', 'OctTmin:Acs', 'OctTmin:max.drop', 'OctTmin:OctMin', 'OctTmin:JanMin', 'OctTmin:MarMin', \n",
    "    'OctTmin:winterMin', 'OctTmin:minT', 'OctTmin:vpd', 'OctTmin:cwd', 'OctTmin:pt.coef', 'fallTmean:Tmin', \n",
    "    'fallTmean:Tmean', 'fallTmean:Tvar', 'fallTmean:TOctSep', 'fallTmean:summerP1', 'fallTmean:summerP2',\n",
    "    'fallTmean:maxAugT', 'fallTmean:OptTsum', 'fallTmean:AugMaxT', 'fallTmean:maxT', 'fallTmean:Acs', \n",
    "    'fallTmean:drop0', 'fallTmean:drop5', 'fallTmean:max.drop', 'fallTmean:ddAugJul', 'fallTmean:ddAugJun', \n",
    "    'fallTmean:OctMin', 'fallTmean:JanMin', 'fallTmean:MarMin', 'fallTmean:winterMin', 'fallTmean:minT', \n",
    "    'fallTmean:wd', 'fallTmean:vpd', 'fallTmean:mi', 'fallTmean:cwd', 'fallTmean:pt.coef', 'Tmin:Tmean', \n",
    "    'Tmin:Tvar', 'Tmin:TOctSep', 'Tmin:summerP1', 'Tmin:summerP2', 'Tmin:Pmean', 'Tmin:POctSep', \n",
    "    'Tmin:PcumOctSep', 'Tmin:PPT', 'Tmin:maxAugT', 'Tmin:AugMaxT', 'Tmin:Acs', 'Tmin:drop0', 'Tmin:drop5', \n",
    "    'Tmin:max.drop', 'Tmin:OctMin', 'Tmin:JanMin', 'Tmin:MarMin', 'Tmin:winterMin', 'Tmin:minT', 'Tmin:wd', \n",
    "    'Tmin:cwd', 'Tmin:pt.coef', 'Tmean:Tvar', 'Tmean:TOctSep', 'Tmean:summerP1', 'Tmean:summerP2', \n",
    "    'Tmean:maxAugT', 'Tmean:OptTsum', 'Tmean:AugMaxT', 'Tmean:maxT', 'Tmean:Acs', 'Tmean:drop0', 'Tmean:drop5',\n",
    "    'Tmean:max.drop', 'Tmean:ddAugJul', 'Tmean:ddAugJun', 'Tmean:OctMin', 'Tmean:JanMin', 'Tmean:MarMin', \n",
    "    'Tmean:winterMin', 'Tmean:minT', 'Tmean:wd', 'Tmean:vpd', 'Tmean:mi', 'Tmean:cwd', 'Tmean:pt.coef', \n",
    "    'Tvar:TOctSep', 'Tvar:Pmean', 'Tvar:POctSep', 'Tvar:PcumOctSep', 'Tvar:PPT', 'Tvar:maxAugT', 'Tvar:OptTsum', \n",
    "    'Tvar:AugMaxT', 'Tvar:maxT', 'Tvar:Acs', 'Tvar:drop5', 'Tvar:max.drop', 'Tvar:OctMin', 'Tvar:JanMin', \n",
    "    'Tvar:MarMin', 'Tvar:winterMin', 'Tvar:minT', 'Tvar:cv.gsp', 'Tvar:wd', 'Tvar:vpd', 'Tvar:mi', \n",
    "    'TOctSep:summerP1', 'TOctSep:summerP2', 'TOctSep:maxAugT', 'TOctSep:OptTsum', 'TOctSep:AugMaxT', \n",
    "    'TOctSep:maxT', 'TOctSep:Acs', 'TOctSep:drop0', 'TOctSep:drop5', 'TOctSep:max.drop', 'TOctSep:ddAugJul',\n",
    "    'TOctSep:ddAugJun', 'TOctSep:OctMin', 'TOctSep:JanMin', 'TOctSep:MarMin', 'TOctSep:winterMin', 'TOctSep:minT', \n",
    "    'TOctSep:wd', 'TOctSep:vpd', 'TOctSep:mi', 'TOctSep:cwd', 'TOctSep:pt.coef', 'summerP1:summerP2', \n",
    "    'summerP1:Pmean', 'summerP1:POctSep', 'summerP1:PcumOctSep', 'summerP1:PPT', 'summerP1:maxAugT', \n",
    "    'summerP1:AugMaxT', 'summerP1:maxT', 'summerP1:Acs', 'summerP1:max.drop', 'summerP1:OctMin', 'summerP1:JanMin',\n",
    "    'summerP1:MarMin', 'summerP1:winterMin', 'summerP1:minT', 'summerP1:wd', 'summerP1:mi', 'summerP1:cwd', \n",
    "    'summerP1:pt.coef', 'summerP2:Pmean', 'summerP2:POctSep', 'summerP2:PcumOctSep', 'summerP2:PPT', \n",
    "    'summerP2:maxAugT', 'summerP2:AugMaxT', 'summerP2:maxT', 'summerP2:max.drop', 'summerP2:ddAugJun', \n",
    "    'summerP2:OctMin', 'summerP2:JanMin', 'summerP2:MarMin', 'summerP2:winterMin', 'summerP2:minT', \n",
    "    'summerP2:wd', 'summerP2:mi', 'summerP2:cwd', 'summerP2:pt.coef', 'Pmean:POctSep', 'Pmean:PcumOctSep', \n",
    "    'Pmean:PPT', 'Pmean:maxAugT', 'Pmean:OptTsum', 'Pmean:AugMaxT', 'Pmean:maxT', 'Pmean:Acs', 'Pmean:drop0', \n",
    "    'Pmean:drop5', 'Pmean:max.drop', 'Pmean:ddAugJul', 'Pmean:ddAugJun', 'Pmean:OctMin', 'Pmean:JanMin', \n",
    "    'Pmean:MarMin', 'Pmean:winterMin', 'Pmean:minT', 'Pmean:cv.gsp', 'Pmean:wd', 'Pmean:vpd', 'Pmean:mi', \n",
    "    'Pmean:cwd', 'Pmean:pt.coef', 'POctSep:PcumOctSep', 'POctSep:PPT', 'POctSep:maxAugT', 'POctSep:OptTsum', \n",
    "    'POctSep:AugMaxT', 'POctSep:maxT', 'POctSep:Acs', 'POctSep:drop0', 'POctSep:drop5', 'POctSep:max.drop', \n",
    "    'POctSep:ddAugJul', 'POctSep:ddAugJun', 'POctSep:OctMin', 'POctSep:JanMin', 'POctSep:MarMin', 'POctSep:winterMin',\n",
    "    'POctSep:minT', 'POctSep:cv.gsp', 'POctSep:wd', 'POctSep:vpd', 'POctSep:mi', 'POctSep:cwd', 'POctSep:pt.coef', \n",
    "    'PcumOctSep:PPT', 'PcumOctSep:maxAugT', 'PcumOctSep:OptTsum', 'PcumOctSep:AugMaxT', 'PcumOctSep:maxT', \n",
    "    'PcumOctSep:Acs', 'PcumOctSep:drop0', 'PcumOctSep:drop5', 'PcumOctSep:max.drop', 'PcumOctSep:ddAugJul', \n",
    "    'PcumOctSep:ddAugJun', 'PcumOctSep:OctMin', 'PcumOctSep:JanMin', 'PcumOctSep:MarMin', 'PcumOctSep:winterMin', \n",
    "    'PcumOctSep:minT', 'PcumOctSep:cv.gsp', 'PcumOctSep:wd', 'PcumOctSep:vpd', 'PcumOctSep:mi', 'PcumOctSep:cwd',\n",
    "    'PcumOctSep:pt.coef', 'PPT:maxAugT', 'PPT:OptTsum', 'PPT:AugMaxT', 'PPT:maxT', 'PPT:Acs', 'PPT:drop0',\n",
    "    'PPT:drop5', 'PPT:max.drop', 'PPT:ddAugJul', 'PPT:ddAugJun', 'PPT:OctMin', 'PPT:JanMin', 'PPT:MarMin', \n",
    "    'PPT:winterMin', 'PPT:minT', 'PPT:cv.gsp', 'PPT:wd', 'PPT:vpd', 'PPT:mi', 'PPT:cwd', 'PPT:pt.coef', \n",
    "    'maxAugT:AugMaxT', 'maxAugT:maxT', 'maxAugT:drop0', 'maxAugT:OctMin', 'maxAugT:JanMin', 'maxAugT:MarMin', \n",
    "    'maxAugT:winterMin', 'maxAugT:minT', 'maxAugT:cv.gsp', 'maxAugT:wd', 'maxAugT:vpd', 'maxAugT:mi', 'maxAugT:cwd', \n",
    "    'maxAugT:pt.coef', 'summerT40:AugMaxT', 'OptTsum:AugMaxT', 'OptTsum:maxT', 'OptTsum:Acs', 'OptTsum:drop5', \n",
    "    'OptTsum:max.drop', 'OptTsum:ddAugJul', 'OptTsum:ddAugJun', 'OptTsum:wd', 'OptTsum:vpd', 'OptTsum:mi', \n",
    "    'OptTsum:cwd', 'OptTsum:pt.coef', 'AugMaxT:maxT', 'AugMaxT:drop0', 'AugMaxT:drop5', 'AugMaxT:ddAugJul',\n",
    "    'AugMaxT:ddAugJun', 'AugMaxT:MarMin', 'AugMaxT:cv.gsp', 'AugMaxT:wd', 'AugMaxT:vpd', 'AugMaxT:mi', \n",
    "    'AugMaxT:cwd', 'AugMaxT:pt.coef', 'maxT:drop0', 'maxT:drop5', 'maxT:ddAugJul', 'maxT:ddAugJun', 'maxT:MarMin', \n",
    "    'maxT:cv.gsp', 'maxT:wd', 'maxT:vpd', 'maxT:mi', 'maxT:cwd', 'maxT:pt.coef', 'Acs:drop5', 'Acs:max.drop', \n",
    "    'Acs:OctMin', 'Acs:JanMin', 'Acs:MarMin', 'Acs:winterMin', 'Acs:minT', 'Acs:vpd', 'Acs:pt.coef', \n",
    "    'drop0:max.drop', 'drop0:JanMin', 'drop0:MarMin', 'drop0:winterMin', 'drop0:minT', 'drop0:cwd', 'drop0:pt.coef', \n",
    "    'drop5:max.drop', 'drop5:OctMin', 'drop5:JanMin', 'drop5:MarMin', 'drop5:winterMin', 'drop5:minT', 'drop5:cv.gsp',\n",
    "    'max.drop:OctMin', 'max.drop:JanMin', 'max.drop:MarMin', 'max.drop:winterMin', 'max.drop:minT', 'max.drop:cv.gsp', \n",
    "    'max.drop:vpd', 'max.drop:cwd', 'max.drop:pt.coef', 'ddAugJul:ddAugJun', 'ddAugJul:wd', 'ddAugJul:vpd', \n",
    "    'ddAugJul:mi', 'ddAugJul:cwd', 'ddAugJul:pt.coef', 'ddAugJun:wd', 'ddAugJun:vpd', 'ddAugJun:mi', 'ddAugJun:cwd',\n",
    "    'ddAugJun:pt.coef', 'OctMin:JanMin', 'OctMin:MarMin', 'OctMin:winterMin', 'OctMin:minT', 'OctMin:cwd', \n",
    "    'OctMin:pt.coef', 'JanMin:MarMin', 'JanMin:winterMin', 'JanMin:minT', 'JanMin:cv.gsp', 'JanMin:cwd', \n",
    "    'JanMin:pt.coef', 'MarMin:winterMin', 'MarMin:minT', 'MarMin:cwd', 'MarMin:pt.coef', 'winterMin:minT', \n",
    "    'winterMin:cv.gsp', 'winterMin:cwd', 'winterMin:pt.coef', 'minT:cv.gsp', 'minT:cwd', 'minT:pt.coef', \n",
    "    'cv.gsp:wd', 'cv.gsp:mi', 'wd:vpd', 'wd:mi', 'wd:cwd', 'wd:pt.coef', 'vpd:mi', 'vpd:cwd', 'vpd:pt.coef', \n",
    "    'mi:cwd', 'mi:pt.coef', 'cwd:pt.coef']\n",
    "\n",
    "# check for typos in above\n",
    "for term in SQUARE + CUBE + INTERACTIONS:\n",
    "    for t in term.split(':'):\n",
    "        if t not in list(X_train):\n",
    "            print(t)"
   ]
  },
  {
   "cell_type": "code",
   "execution_count": 7,
   "metadata": {
    "collapsed": true
   },
   "outputs": [],
   "source": [
    "def add_squares(data_set):\n",
    "    print('Adding quadratic terms...')\n",
    "    for field in SQUARE:\n",
    "        if field in list(data_set):\n",
    "            data_set['%s_sq' % field] = data_set[field] ** 2\n",
    "    return data_set"
   ]
  },
  {
   "cell_type": "code",
   "execution_count": 8,
   "metadata": {
    "collapsed": true
   },
   "outputs": [],
   "source": [
    "def add_cubes(data_set):\n",
    "    print('Adding cubic terms...')    \n",
    "    for field in CUBE:\n",
    "        if field in list(data_set):\n",
    "            data_set['%s_cub' % field] = data_set[field] ** 3\n",
    "    return data_set"
   ]
  },
  {
   "cell_type": "code",
   "execution_count": 9,
   "metadata": {
    "collapsed": true
   },
   "outputs": [],
   "source": [
    "def add_interactions(data_set):\n",
    "    print('Adding interactions...')\n",
    "    for field in INTERACTIONS:\n",
    "        f1, f2 = field.split(':')\n",
    "        if f1 in data_set and f2 in data_set:\n",
    "            data_set[field] = data_set[f1] * data_set[f2]\n",
    "    return data_set"
   ]
  },
  {
   "cell_type": "code",
   "execution_count": 10,
   "metadata": {
    "collapsed": true
   },
   "outputs": [],
   "source": [
    "def add_all_cols(data_set):\n",
    "    data_set = add_squares(data_set)\n",
    "    data_set = add_cubes(data_set)\n",
    "    data_set = add_interactions(data_set)\n",
    "    return data_set"
   ]
  },
  {
   "cell_type": "code",
   "execution_count": 11,
   "metadata": {
    "collapsed": false
   },
   "outputs": [
    {
     "name": "stdout",
     "output_type": "stream",
     "text": [
      "Adding quadratic terms...\n",
      "Adding cubic terms...\n",
      "Adding interactions...\n"
     ]
    },
    {
     "data": {
      "text/html": [
       "<div>\n",
       "<style scoped>\n",
       "    .dataframe tbody tr th:only-of-type {\n",
       "        vertical-align: middle;\n",
       "    }\n",
       "\n",
       "    .dataframe tbody tr th {\n",
       "        vertical-align: top;\n",
       "    }\n",
       "\n",
       "    .dataframe thead th {\n",
       "        text-align: right;\n",
       "    }\n",
       "</style>\n",
       "<table border=\"1\" class=\"dataframe\">\n",
       "  <thead>\n",
       "    <tr style=\"text-align: right;\">\n",
       "      <th></th>\n",
       "      <th>lon</th>\n",
       "      <th>lat</th>\n",
       "      <th>age</th>\n",
       "      <th>Tmean</th>\n",
       "      <th>lon_sq</th>\n",
       "      <th>lat_sq</th>\n",
       "      <th>age_sq</th>\n",
       "      <th>Tmean_cub</th>\n",
       "    </tr>\n",
       "  </thead>\n",
       "  <tbody>\n",
       "    <tr>\n",
       "      <th>0</th>\n",
       "      <td>1</td>\n",
       "      <td>4</td>\n",
       "      <td>-2</td>\n",
       "      <td>0</td>\n",
       "      <td>1</td>\n",
       "      <td>16</td>\n",
       "      <td>4</td>\n",
       "      <td>0</td>\n",
       "    </tr>\n",
       "    <tr>\n",
       "      <th>1</th>\n",
       "      <td>2</td>\n",
       "      <td>5</td>\n",
       "      <td>2</td>\n",
       "      <td>1</td>\n",
       "      <td>4</td>\n",
       "      <td>25</td>\n",
       "      <td>4</td>\n",
       "      <td>1</td>\n",
       "    </tr>\n",
       "    <tr>\n",
       "      <th>2</th>\n",
       "      <td>3</td>\n",
       "      <td>6</td>\n",
       "      <td>3</td>\n",
       "      <td>5</td>\n",
       "      <td>9</td>\n",
       "      <td>36</td>\n",
       "      <td>9</td>\n",
       "      <td>125</td>\n",
       "    </tr>\n",
       "  </tbody>\n",
       "</table>\n",
       "</div>"
      ],
      "text/plain": [
       "   lon  lat  age  Tmean  lon_sq  lat_sq  age_sq  Tmean_cub\n",
       "0    1    4   -2      0       1      16       4          0\n",
       "1    2    5    2      1       4      25       4          1\n",
       "2    3    6    3      5       9      36       9        125"
      ]
     },
     "execution_count": 11,
     "metadata": {},
     "output_type": "execute_result"
    }
   ],
   "source": [
    "test = pd.DataFrame({'lon': [1, 2, 3], \n",
    "                     'lat': [4, 5, 6], \n",
    "                     'age': [-2, 2, 3], \n",
    "                     'Tmean': [0, 1, 5]})\n",
    "test = add_all_cols(test)\n",
    "test.head()"
   ]
  },
  {
   "cell_type": "code",
   "execution_count": 12,
   "metadata": {
    "collapsed": false
   },
   "outputs": [],
   "source": [
    "#X_train.loc[0, :]"
   ]
  },
  {
   "cell_type": "code",
   "execution_count": 13,
   "metadata": {
    "collapsed": false
   },
   "outputs": [],
   "source": [
    "#X_train.loc[np.isnan(X_train['density']) == False, :].head()"
   ]
  },
  {
   "cell_type": "code",
   "execution_count": 14,
   "metadata": {
    "collapsed": false
   },
   "outputs": [],
   "source": [
    "def fill_na(df, field):\n",
    "    '''\n",
    "    Fills value by taking the average of cells above and below (or just \n",
    "    one if both not available)\n",
    "    '''\n",
    "    print('Attempting to fill NAs with average of neighboring cells.')\n",
    "    iterations = 0\n",
    "    while sum(np.isnan(df[field])):\n",
    "        for i in range(df.shape[0]):\n",
    "            if np.isnan(df.loc[i, field]):\n",
    "                use = []\n",
    "                x = int(df.loc[i, 'x'])\n",
    "                x_above = int(df.loc[i - 1, 'x']) if i > 0 else np.nan\n",
    "                x_below = (int(df.loc[i + 1, 'x']) if i < df.shape[0] - 1 \n",
    "                           else np.nan)\n",
    "                if abs(x - x_above) == 1:\n",
    "                    use.append(x_above)\n",
    "                if abs(x - x_below) == 1:\n",
    "                    use.append(x_below)\n",
    "                if len(use):\n",
    "                    df.loc[i, field] = np.nanmean(use)\n",
    "        iterations += 1\n",
    "        if iterations > 2:\n",
    "            print('Could not fill %s for %d rows.' \n",
    "                  % (field, sum(np.isnan(df[field]))))\n",
    "            return df\n",
    "    return df"
   ]
  },
  {
   "cell_type": "code",
   "execution_count": 15,
   "metadata": {
    "collapsed": false
   },
   "outputs": [
    {
     "data": {
      "text/plain": [
       "13198"
      ]
     },
     "execution_count": 15,
     "metadata": {},
     "output_type": "execute_result"
    }
   ],
   "source": [
    "sum(np.isnan(X_train['density']))"
   ]
  },
  {
   "cell_type": "code",
   "execution_count": 34,
   "metadata": {
    "collapsed": false
   },
   "outputs": [],
   "source": [
    "#X_train = X_train.loc[np.isnan(X_train['density']) == False, :]\n",
    "#sum(np.isnan(X_train['density']))"
   ]
  },
  {
   "cell_type": "code",
   "execution_count": 16,
   "metadata": {
    "collapsed": false
   },
   "outputs": [
    {
     "name": "stdout",
     "output_type": "stream",
     "text": [
      "Attempting to fill NAs with average of neighboring cells.\n",
      "Could not fill density for 13198 rows.\n"
     ]
    },
    {
     "data": {
      "text/plain": [
       "13198"
      ]
     },
     "execution_count": 16,
     "metadata": {},
     "output_type": "execute_result"
    }
   ],
   "source": [
    "X_train_test = fill_na(X_train, 'density')\n",
    "sum(np.isnan(X_train_test['density']))"
   ]
  },
  {
   "cell_type": "code",
   "execution_count": 17,
   "metadata": {
    "collapsed": true
   },
   "outputs": [],
   "source": [
    "def construct_model_matrices():\n",
    "    train_X_files = sorted(\n",
    "        [f for f in os.listdir(DATA_DIR) if 'X_train' in f])\n",
    "    valid_X_files = sorted(\n",
    "        [f for f in os.listdir(DATA_DIR) if 'X_valid' in f])\n",
    "    test_X_files  = sorted(\n",
    "        [f for f in os.listdir(DATA_DIR) if 'X_test' in f])\n",
    "    train_y_files = sorted(\n",
    "        [f for f in os.listdir(DATA_DIR) if 'y_train' in f])\n",
    "    valid_y_files = sorted(\n",
    "        [f for f in os.listdir(DATA_DIR) if 'y_valid' in f])\n",
    "    test_y_files  = sorted(\n",
    "        [f for f in os.listdir(DATA_DIR) if 'y_test' in f])\n",
    "    print('Train:\\n ', train_X_files, '\\n ', train_y_files)\n",
    "    print('Valid:\\n ', valid_X_files, '\\n ', valid_y_files)\n",
    "    print('Test:\\n ',  test_X_files,  '\\n ', test_y_files)\n",
    "    \n",
    "    X_train = load_data_set(train_X_files)\n",
    "    X_valid = load_data_set(valid_X_files)\n",
    "    X_test  = load_data_set(test_X_files)\n",
    "    y_train = load_data_set(train_y_files)\n",
    "    y_valid = load_data_set(valid_y_files)\n",
    "    y_test  = load_data_set(test_y_files)\n",
    "    data_sets = [\n",
    "        [X_train, y_train], [X_valid, y_valid], [X_test, y_test]]    \n",
    "    \n",
    "    for i, [X, y] in enumerate(data_sets):\n",
    "        #data_sets[i] = [fill_na(X, 'density'), y]\n",
    "        #data_sets[i] = X.loc[np.isnan(X['density']) == False, :]\n",
    "        #data_sets[i] = [add_all_cols(X), y]\n",
    "        X = X.reindex()\n",
    "        y = y.reindex()\n",
    "        X = fill_na(X, 'density')\n",
    "        y = y.loc[np.isnan(X['density']) == False, :]\n",
    "        X = X.loc[np.isnan(X['density']) == False, :]\n",
    "        X = add_all_cols(X.copy())\n",
    "        X = X.reindex()\n",
    "        y = y.reindex()\n",
    "        data_sets[i] = [X, y]\n",
    "    return data_sets"
   ]
  },
  {
   "cell_type": "code",
   "execution_count": 18,
   "metadata": {
    "collapsed": false
   },
   "outputs": [
    {
     "name": "stdout",
     "output_type": "stream",
     "text": [
      "Train:\n",
      "  ['X_train_1998.csv', 'X_train_1999.csv', 'X_train_2000.csv', 'X_train_2001.csv', 'X_train_2002.csv', 'X_train_2003.csv', 'X_train_2004.csv', 'X_train_2005.csv', 'X_train_2006.csv', 'X_train_2007.csv', 'X_train_2008.csv', 'X_train_2009.csv', 'X_train_2010.csv', 'X_train_2011.csv', 'X_train_2012.csv', 'X_train_2013.csv', 'X_train_2014.csv', 'X_train_2015.csv'] \n",
      "  ['y_train_1998.csv', 'y_train_1999.csv', 'y_train_2000.csv', 'y_train_2001.csv', 'y_train_2002.csv', 'y_train_2003.csv', 'y_train_2004.csv', 'y_train_2005.csv', 'y_train_2006.csv', 'y_train_2007.csv', 'y_train_2008.csv', 'y_train_2009.csv', 'y_train_2010.csv', 'y_train_2011.csv', 'y_train_2012.csv', 'y_train_2013.csv', 'y_train_2014.csv', 'y_train_2015.csv']\n",
      "Valid:\n",
      "  ['X_valid_1998.csv', 'X_valid_1999.csv', 'X_valid_2000.csv', 'X_valid_2001.csv', 'X_valid_2002.csv', 'X_valid_2003.csv', 'X_valid_2004.csv', 'X_valid_2005.csv', 'X_valid_2006.csv', 'X_valid_2007.csv', 'X_valid_2008.csv', 'X_valid_2009.csv', 'X_valid_2010.csv', 'X_valid_2011.csv', 'X_valid_2012.csv', 'X_valid_2013.csv', 'X_valid_2014.csv', 'X_valid_2015.csv'] \n",
      "  ['y_valid_1998.csv', 'y_valid_1999.csv', 'y_valid_2000.csv', 'y_valid_2001.csv', 'y_valid_2002.csv', 'y_valid_2003.csv', 'y_valid_2004.csv', 'y_valid_2005.csv', 'y_valid_2006.csv', 'y_valid_2007.csv', 'y_valid_2008.csv', 'y_valid_2009.csv', 'y_valid_2010.csv', 'y_valid_2011.csv', 'y_valid_2012.csv', 'y_valid_2013.csv', 'y_valid_2014.csv', 'y_valid_2015.csv']\n",
      "Test:\n",
      "  ['X_test_1998.csv', 'X_test_1999.csv', 'X_test_2000.csv', 'X_test_2001.csv', 'X_test_2002.csv', 'X_test_2003.csv', 'X_test_2004.csv', 'X_test_2005.csv', 'X_test_2006.csv', 'X_test_2007.csv', 'X_test_2008.csv', 'X_test_2009.csv', 'X_test_2010.csv', 'X_test_2011.csv', 'X_test_2012.csv', 'X_test_2013.csv', 'X_test_2014.csv', 'X_test_2015.csv'] \n",
      "  ['y_test_1998.csv', 'y_test_1999.csv', 'y_test_2000.csv', 'y_test_2001.csv', 'y_test_2002.csv', 'y_test_2003.csv', 'y_test_2004.csv', 'y_test_2005.csv', 'y_test_2006.csv', 'y_test_2007.csv', 'y_test_2008.csv', 'y_test_2009.csv', 'y_test_2010.csv', 'y_test_2011.csv', 'y_test_2012.csv', 'y_test_2013.csv', 'y_test_2014.csv', 'y_test_2015.csv']\n",
      "Loading data from ['X_train_1998.csv', 'X_train_1999.csv', 'X_train_2000.csv', 'X_train_2001.csv', 'X_train_2002.csv', 'X_train_2003.csv', 'X_train_2004.csv', 'X_train_2005.csv', 'X_train_2006.csv', 'X_train_2007.csv', 'X_train_2008.csv', 'X_train_2009.csv', 'X_train_2010.csv', 'X_train_2011.csv', 'X_train_2012.csv', 'X_train_2013.csv', 'X_train_2014.csv', 'X_train_2015.csv']...\n",
      "Loading data from ['X_valid_1998.csv', 'X_valid_1999.csv', 'X_valid_2000.csv', 'X_valid_2001.csv', 'X_valid_2002.csv', 'X_valid_2003.csv', 'X_valid_2004.csv', 'X_valid_2005.csv', 'X_valid_2006.csv', 'X_valid_2007.csv', 'X_valid_2008.csv', 'X_valid_2009.csv', 'X_valid_2010.csv', 'X_valid_2011.csv', 'X_valid_2012.csv', 'X_valid_2013.csv', 'X_valid_2014.csv', 'X_valid_2015.csv']...\n",
      "Loading data from ['X_test_1998.csv', 'X_test_1999.csv', 'X_test_2000.csv', 'X_test_2001.csv', 'X_test_2002.csv', 'X_test_2003.csv', 'X_test_2004.csv', 'X_test_2005.csv', 'X_test_2006.csv', 'X_test_2007.csv', 'X_test_2008.csv', 'X_test_2009.csv', 'X_test_2010.csv', 'X_test_2011.csv', 'X_test_2012.csv', 'X_test_2013.csv', 'X_test_2014.csv', 'X_test_2015.csv']...\n",
      "Loading data from ['y_train_1998.csv', 'y_train_1999.csv', 'y_train_2000.csv', 'y_train_2001.csv', 'y_train_2002.csv', 'y_train_2003.csv', 'y_train_2004.csv', 'y_train_2005.csv', 'y_train_2006.csv', 'y_train_2007.csv', 'y_train_2008.csv', 'y_train_2009.csv', 'y_train_2010.csv', 'y_train_2011.csv', 'y_train_2012.csv', 'y_train_2013.csv', 'y_train_2014.csv', 'y_train_2015.csv']...\n",
      "Loading data from ['y_valid_1998.csv', 'y_valid_1999.csv', 'y_valid_2000.csv', 'y_valid_2001.csv', 'y_valid_2002.csv', 'y_valid_2003.csv', 'y_valid_2004.csv', 'y_valid_2005.csv', 'y_valid_2006.csv', 'y_valid_2007.csv', 'y_valid_2008.csv', 'y_valid_2009.csv', 'y_valid_2010.csv', 'y_valid_2011.csv', 'y_valid_2012.csv', 'y_valid_2013.csv', 'y_valid_2014.csv', 'y_valid_2015.csv']...\n",
      "Loading data from ['y_test_1998.csv', 'y_test_1999.csv', 'y_test_2000.csv', 'y_test_2001.csv', 'y_test_2002.csv', 'y_test_2003.csv', 'y_test_2004.csv', 'y_test_2005.csv', 'y_test_2006.csv', 'y_test_2007.csv', 'y_test_2008.csv', 'y_test_2009.csv', 'y_test_2010.csv', 'y_test_2011.csv', 'y_test_2012.csv', 'y_test_2013.csv', 'y_test_2014.csv', 'y_test_2015.csv']...\n",
      "Attempting to fill NAs with average of neighboring cells.\n",
      "Could not fill density for 13198 rows.\n",
      "Adding quadratic terms...\n",
      "Adding cubic terms...\n",
      "Adding interactions...\n",
      "Attempting to fill NAs with average of neighboring cells.\n",
      "Could not fill density for 1689 rows.\n",
      "Adding quadratic terms...\n",
      "Adding cubic terms...\n",
      "Adding interactions...\n",
      "Attempting to fill NAs with average of neighboring cells.\n",
      "Could not fill density for 1601 rows.\n",
      "Adding quadratic terms...\n",
      "Adding cubic terms...\n",
      "Adding interactions...\n"
     ]
    }
   ],
   "source": [
    "data_sets = construct_model_matrices()"
   ]
  },
  {
   "cell_type": "code",
   "execution_count": 19,
   "metadata": {
    "collapsed": false
   },
   "outputs": [
    {
     "name": "stdout",
     "output_type": "stream",
     "text": [
      "0\n",
      "0\n",
      "0\n"
     ]
    }
   ],
   "source": [
    "print(sum(np.isnan(data_sets[0][0]['density'])))\n",
    "print(sum(np.isnan(data_sets[1][0]['density'])))\n",
    "print(sum(np.isnan(data_sets[2][0]['density'])))"
   ]
  },
  {
   "cell_type": "code",
   "execution_count": 20,
   "metadata": {
    "collapsed": false
   },
   "outputs": [],
   "source": [
    "# Check\n",
    "#list(data_sets[0][0])\n",
    "#list(data_sets[0][1])"
   ]
  },
  {
   "cell_type": "code",
   "execution_count": 21,
   "metadata": {
    "collapsed": false
   },
   "outputs": [],
   "source": [
    "#data_sets[0][0].head()"
   ]
  }
 ],
 "metadata": {
  "kernelspec": {
   "display_name": "Python 3",
   "language": "python",
   "name": "python3"
  },
  "language_info": {
   "codemirror_mode": {
    "name": "ipython",
    "version": 3
   },
   "file_extension": ".py",
   "mimetype": "text/x-python",
   "name": "python",
   "nbconvert_exporter": "python",
   "pygments_lexer": "ipython3",
   "version": "3.6.2"
  }
 },
 "nbformat": 4,
 "nbformat_minor": 0
}
