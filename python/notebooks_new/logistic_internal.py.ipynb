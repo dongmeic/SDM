{
 "cells": [
  {
   "cell_type": "code",
   "execution_count": 1,
   "metadata": {
    "collapsed": false
   },
   "outputs": [
    {
     "name": "stderr",
     "output_type": "stream",
     "text": [
      "/usr/local/Cellar/python3/3.6.2/Frameworks/Python.framework/Versions/3.6/lib/python3.6/importlib/_bootstrap.py:205: RuntimeWarning: numpy.dtype size changed, may indicate binary incompatibility. Expected 96, got 88\n",
      "  return f(*args, **kwds)\n"
     ]
    }
   ],
   "source": [
    "import sys\n",
    "import time\n",
    "\n",
    "import matplotlib.pyplot as plt\n",
    "import numpy as np\n",
    "import pandas as pd\n",
    "from pylab import *\n",
    "from sklearn.linear_model import LogisticRegression, Ridge\n",
    "from sklearn.pipeline import Pipeline\n",
    "from sklearn.model_selection import GridSearchCV\n",
    "from sklearn.preprocessing import StandardScaler\n",
    "\n",
    "sys.path.append('../models_new')\n",
    "import model_utils as util\n",
    "from construct_model_matrices_internal import ModelMatrixConstructor\n",
    "\n",
    "%matplotlib inline\n",
    "plt.rcParams['figure.figsize'] = 10, 8"
   ]
  },
  {
   "cell_type": "code",
   "execution_count": 2,
   "metadata": {
    "collapsed": true
   },
   "outputs": [],
   "source": [
    "DATA_DIR = '../../data/Xy_internal_split_data'"
   ]
  },
  {
   "cell_type": "code",
   "execution_count": 3,
   "metadata": {
    "collapsed": false
   },
   "outputs": [
    {
     "name": "stdout",
     "output_type": "stream",
     "text": [
      "Train:\n",
      "  ['X_train_1998.csv', 'X_train_1999.csv', 'X_train_2000.csv', 'X_train_2001.csv', 'X_train_2002.csv', 'X_train_2003.csv', 'X_train_2004.csv', 'X_train_2005.csv', 'X_train_2006.csv', 'X_train_2007.csv', 'X_train_2008.csv', 'X_train_2009.csv', 'X_train_2010.csv', 'X_train_2011.csv', 'X_train_2012.csv', 'X_train_2013.csv', 'X_train_2014.csv', 'X_train_2015.csv'] \n",
      "  ['y_train_1998.csv', 'y_train_1999.csv', 'y_train_2000.csv', 'y_train_2001.csv', 'y_train_2002.csv', 'y_train_2003.csv', 'y_train_2004.csv', 'y_train_2005.csv', 'y_train_2006.csv', 'y_train_2007.csv', 'y_train_2008.csv', 'y_train_2009.csv', 'y_train_2010.csv', 'y_train_2011.csv', 'y_train_2012.csv', 'y_train_2013.csv', 'y_train_2014.csv', 'y_train_2015.csv']\n",
      "Valid:\n",
      "  ['X_valid_1998.csv', 'X_valid_1999.csv', 'X_valid_2000.csv', 'X_valid_2001.csv', 'X_valid_2002.csv', 'X_valid_2003.csv', 'X_valid_2004.csv', 'X_valid_2005.csv', 'X_valid_2006.csv', 'X_valid_2007.csv', 'X_valid_2008.csv', 'X_valid_2009.csv', 'X_valid_2010.csv', 'X_valid_2011.csv', 'X_valid_2012.csv', 'X_valid_2013.csv', 'X_valid_2014.csv', 'X_valid_2015.csv'] \n",
      "  ['y_valid_1998.csv', 'y_valid_1999.csv', 'y_valid_2000.csv', 'y_valid_2001.csv', 'y_valid_2002.csv', 'y_valid_2003.csv', 'y_valid_2004.csv', 'y_valid_2005.csv', 'y_valid_2006.csv', 'y_valid_2007.csv', 'y_valid_2008.csv', 'y_valid_2009.csv', 'y_valid_2010.csv', 'y_valid_2011.csv', 'y_valid_2012.csv', 'y_valid_2013.csv', 'y_valid_2014.csv', 'y_valid_2015.csv']\n",
      "Test:\n",
      "  ['X_test_1998.csv', 'X_test_1999.csv', 'X_test_2000.csv', 'X_test_2001.csv', 'X_test_2002.csv', 'X_test_2003.csv', 'X_test_2004.csv', 'X_test_2005.csv', 'X_test_2006.csv', 'X_test_2007.csv', 'X_test_2008.csv', 'X_test_2009.csv', 'X_test_2010.csv', 'X_test_2011.csv', 'X_test_2012.csv', 'X_test_2013.csv', 'X_test_2014.csv', 'X_test_2015.csv'] \n",
      "  ['y_test_1998.csv', 'y_test_1999.csv', 'y_test_2000.csv', 'y_test_2001.csv', 'y_test_2002.csv', 'y_test_2003.csv', 'y_test_2004.csv', 'y_test_2005.csv', 'y_test_2006.csv', 'y_test_2007.csv', 'y_test_2008.csv', 'y_test_2009.csv', 'y_test_2010.csv', 'y_test_2011.csv', 'y_test_2012.csv', 'y_test_2013.csv', 'y_test_2014.csv', 'y_test_2015.csv']\n",
      "Loading data from ['X_train_1998.csv', 'X_train_1999.csv', 'X_train_2000.csv', 'X_train_2001.csv', 'X_train_2002.csv', 'X_train_2003.csv', 'X_train_2004.csv', 'X_train_2005.csv', 'X_train_2006.csv', 'X_train_2007.csv', 'X_train_2008.csv', 'X_train_2009.csv', 'X_train_2010.csv', 'X_train_2011.csv', 'X_train_2012.csv', 'X_train_2013.csv', 'X_train_2014.csv', 'X_train_2015.csv']...\n",
      "Loading data from ['X_valid_1998.csv', 'X_valid_1999.csv', 'X_valid_2000.csv', 'X_valid_2001.csv', 'X_valid_2002.csv', 'X_valid_2003.csv', 'X_valid_2004.csv', 'X_valid_2005.csv', 'X_valid_2006.csv', 'X_valid_2007.csv', 'X_valid_2008.csv', 'X_valid_2009.csv', 'X_valid_2010.csv', 'X_valid_2011.csv', 'X_valid_2012.csv', 'X_valid_2013.csv', 'X_valid_2014.csv', 'X_valid_2015.csv']...\n",
      "Loading data from ['X_test_1998.csv', 'X_test_1999.csv', 'X_test_2000.csv', 'X_test_2001.csv', 'X_test_2002.csv', 'X_test_2003.csv', 'X_test_2004.csv', 'X_test_2005.csv', 'X_test_2006.csv', 'X_test_2007.csv', 'X_test_2008.csv', 'X_test_2009.csv', 'X_test_2010.csv', 'X_test_2011.csv', 'X_test_2012.csv', 'X_test_2013.csv', 'X_test_2014.csv', 'X_test_2015.csv']...\n",
      "Loading data from ['y_train_1998.csv', 'y_train_1999.csv', 'y_train_2000.csv', 'y_train_2001.csv', 'y_train_2002.csv', 'y_train_2003.csv', 'y_train_2004.csv', 'y_train_2005.csv', 'y_train_2006.csv', 'y_train_2007.csv', 'y_train_2008.csv', 'y_train_2009.csv', 'y_train_2010.csv', 'y_train_2011.csv', 'y_train_2012.csv', 'y_train_2013.csv', 'y_train_2014.csv', 'y_train_2015.csv']...\n",
      "Loading data from ['y_valid_1998.csv', 'y_valid_1999.csv', 'y_valid_2000.csv', 'y_valid_2001.csv', 'y_valid_2002.csv', 'y_valid_2003.csv', 'y_valid_2004.csv', 'y_valid_2005.csv', 'y_valid_2006.csv', 'y_valid_2007.csv', 'y_valid_2008.csv', 'y_valid_2009.csv', 'y_valid_2010.csv', 'y_valid_2011.csv', 'y_valid_2012.csv', 'y_valid_2013.csv', 'y_valid_2014.csv', 'y_valid_2015.csv']...\n",
      "Loading data from ['y_test_1998.csv', 'y_test_1999.csv', 'y_test_2000.csv', 'y_test_2001.csv', 'y_test_2002.csv', 'y_test_2003.csv', 'y_test_2004.csv', 'y_test_2005.csv', 'y_test_2006.csv', 'y_test_2007.csv', 'y_test_2008.csv', 'y_test_2009.csv', 'y_test_2010.csv', 'y_test_2011.csv', 'y_test_2012.csv', 'y_test_2013.csv', 'y_test_2014.csv', 'y_test_2015.csv']...\n",
      "Attempting to fill NAs with average of neighboring cells.\n",
      "Could not fill density for 54 rows.\n",
      "Adding quadratic terms...\n",
      "Adding cubic terms...\n",
      "Adding interactions...\n",
      "Attempting to fill NAs with average of neighboring cells.\n",
      "Could not fill density for 252 rows.\n",
      "Adding quadratic terms...\n",
      "Adding cubic terms...\n",
      "Adding interactions...\n",
      "Attempting to fill NAs with average of neighboring cells.\n",
      "Could not fill density for 162 rows.\n",
      "Adding quadratic terms...\n",
      "Adding cubic terms...\n",
      "Adding interactions...\n"
     ]
    }
   ],
   "source": [
    "matrix_constructor = ModelMatrixConstructor(DATA_DIR)\n",
    "data_sets = matrix_constructor.construct_model_matrices()"
   ]
  },
  {
   "cell_type": "code",
   "execution_count": 4,
   "metadata": {
    "collapsed": true
   },
   "outputs": [],
   "source": [
    "def print_dims(data_set, name):\n",
    "    print('%s:\\n X: %r\\n y: %r' \n",
    "          % (name, data_set[0].shape, data_set[1].shape))"
   ]
  },
  {
   "cell_type": "code",
   "execution_count": 5,
   "metadata": {
    "collapsed": false
   },
   "outputs": [
    {
     "name": "stdout",
     "output_type": "stream",
     "text": [
      "Train:\n",
      " X: (476082, 119)\n",
      " y: (476082, 1)\n",
      "Valid:\n",
      " X: (361152, 119)\n",
      " y: (361152, 1)\n",
      "Test:\n",
      " X: (153774, 119)\n",
      " y: (153774, 1)\n"
     ]
    }
   ],
   "source": [
    "[[X_train, y_train], [X_valid, y_valid], [X_test, y_test]] = data_sets\n",
    "for (data_set, name) in zip(data_sets, ['Train', 'Valid', 'Test']):\n",
    "    print_dims(data_set, name)"
   ]
  },
  {
   "cell_type": "code",
   "execution_count": 6,
   "metadata": {
    "collapsed": false
   },
   "outputs": [
    {
     "name": "stdout",
     "output_type": "stream",
     "text": [
      "NAs:\n",
      "cv.gsp:\t979\n"
     ]
    }
   ],
   "source": [
    "print('NAs:')\n",
    "for field in list(X_train):\n",
    "    n_na = sum(np.isnan(X_train[field]))\n",
    "    if n_na:\n",
    "        print('%s:\\t%d' % (field, n_na))"
   ]
  },
  {
   "cell_type": "code",
   "execution_count": 7,
   "metadata": {
    "collapsed": false
   },
   "outputs": [
    {
     "data": {
      "text/plain": [
       "(195, 360)"
      ]
     },
     "execution_count": 7,
     "metadata": {},
     "output_type": "execute_result"
    }
   ],
   "source": [
    "max(X_test.x), max(X_test.y)"
   ]
  },
  {
   "cell_type": "code",
   "execution_count": 8,
   "metadata": {
    "collapsed": false
   },
   "outputs": [
    {
     "data": {
      "text/html": [
       "<div>\n",
       "<style scoped>\n",
       "    .dataframe tbody tr th:only-of-type {\n",
       "        vertical-align: middle;\n",
       "    }\n",
       "\n",
       "    .dataframe tbody tr th {\n",
       "        vertical-align: top;\n",
       "    }\n",
       "\n",
       "    .dataframe thead th {\n",
       "        text-align: right;\n",
       "    }\n",
       "</style>\n",
       "<table border=\"1\" class=\"dataframe\">\n",
       "  <thead>\n",
       "    <tr style=\"text-align: right;\">\n",
       "      <th></th>\n",
       "      <th>x</th>\n",
       "      <th>y</th>\n",
       "      <th>lon</th>\n",
       "      <th>lat</th>\n",
       "      <th>etopo1</th>\n",
       "      <th>btl_t1</th>\n",
       "      <th>btl_t2</th>\n",
       "      <th>vgt</th>\n",
       "      <th>age</th>\n",
       "      <th>density</th>\n",
       "      <th>...</th>\n",
       "      <th>age:density</th>\n",
       "      <th>age:summerTmean</th>\n",
       "      <th>age:summerP0</th>\n",
       "      <th>age:ddAugJul</th>\n",
       "      <th>density:JanTmin</th>\n",
       "      <th>density:Tmean</th>\n",
       "      <th>density:OptTsum</th>\n",
       "      <th>density:wd</th>\n",
       "      <th>density:mi</th>\n",
       "      <th>density:ddAugJul</th>\n",
       "    </tr>\n",
       "  </thead>\n",
       "  <tbody>\n",
       "    <tr>\n",
       "      <th>0</th>\n",
       "      <td>37</td>\n",
       "      <td>69</td>\n",
       "      <td>-119.110980</td>\n",
       "      <td>35.837349</td>\n",
       "      <td>141</td>\n",
       "      <td>0</td>\n",
       "      <td>0</td>\n",
       "      <td>0</td>\n",
       "      <td>0.0</td>\n",
       "      <td>685.590759</td>\n",
       "      <td>...</td>\n",
       "      <td>0.000000e+00</td>\n",
       "      <td>0.000000</td>\n",
       "      <td>0.000000</td>\n",
       "      <td>0.0</td>\n",
       "      <td>2849.248599</td>\n",
       "      <td>13271.878842</td>\n",
       "      <td>5.416167e+04</td>\n",
       "      <td>-8.075468e+04</td>\n",
       "      <td>240.304257</td>\n",
       "      <td>6.825742e+06</td>\n",
       "    </tr>\n",
       "    <tr>\n",
       "      <th>1</th>\n",
       "      <td>38</td>\n",
       "      <td>69</td>\n",
       "      <td>-119.003126</td>\n",
       "      <td>35.859120</td>\n",
       "      <td>194</td>\n",
       "      <td>0</td>\n",
       "      <td>0</td>\n",
       "      <td>1</td>\n",
       "      <td>0.0</td>\n",
       "      <td>6174.752441</td>\n",
       "      <td>...</td>\n",
       "      <td>0.000000e+00</td>\n",
       "      <td>0.000000</td>\n",
       "      <td>0.000000</td>\n",
       "      <td>0.0</td>\n",
       "      <td>26398.570367</td>\n",
       "      <td>120484.422356</td>\n",
       "      <td>4.878054e+05</td>\n",
       "      <td>-5.832296e+05</td>\n",
       "      <td>2413.675907</td>\n",
       "      <td>6.068547e+07</td>\n",
       "    </tr>\n",
       "    <tr>\n",
       "      <th>2</th>\n",
       "      <td>39</td>\n",
       "      <td>69</td>\n",
       "      <td>-118.895219</td>\n",
       "      <td>35.880769</td>\n",
       "      <td>292</td>\n",
       "      <td>0</td>\n",
       "      <td>0</td>\n",
       "      <td>1</td>\n",
       "      <td>0.0</td>\n",
       "      <td>7538.154297</td>\n",
       "      <td>...</td>\n",
       "      <td>0.000000e+00</td>\n",
       "      <td>0.000000</td>\n",
       "      <td>0.000000</td>\n",
       "      <td>0.0</td>\n",
       "      <td>30480.630737</td>\n",
       "      <td>145796.396949</td>\n",
       "      <td>6.332050e+05</td>\n",
       "      <td>-4.459307e+05</td>\n",
       "      <td>3287.255430</td>\n",
       "      <td>7.131848e+07</td>\n",
       "    </tr>\n",
       "    <tr>\n",
       "      <th>3</th>\n",
       "      <td>40</td>\n",
       "      <td>69</td>\n",
       "      <td>-118.787258</td>\n",
       "      <td>35.902297</td>\n",
       "      <td>635</td>\n",
       "      <td>1</td>\n",
       "      <td>0</td>\n",
       "      <td>1</td>\n",
       "      <td>0.0</td>\n",
       "      <td>10577.365234</td>\n",
       "      <td>...</td>\n",
       "      <td>0.000000e+00</td>\n",
       "      <td>0.000000</td>\n",
       "      <td>0.000000</td>\n",
       "      <td>0.0</td>\n",
       "      <td>29730.031836</td>\n",
       "      <td>194388.042347</td>\n",
       "      <td>9.731176e+05</td>\n",
       "      <td>3.448271e+04</td>\n",
       "      <td>5304.876314</td>\n",
       "      <td>8.909315e+07</td>\n",
       "    </tr>\n",
       "    <tr>\n",
       "      <th>4</th>\n",
       "      <td>41</td>\n",
       "      <td>69</td>\n",
       "      <td>-118.679245</td>\n",
       "      <td>35.923705</td>\n",
       "      <td>1250</td>\n",
       "      <td>1</td>\n",
       "      <td>1</td>\n",
       "      <td>1</td>\n",
       "      <td>38.0</td>\n",
       "      <td>41283.019531</td>\n",
       "      <td>...</td>\n",
       "      <td>1.568755e+06</td>\n",
       "      <td>934.921657</td>\n",
       "      <td>1214.648905</td>\n",
       "      <td>244112.0</td>\n",
       "      <td>260.140945</td>\n",
       "      <td>641190.243919</td>\n",
       "      <td>3.467774e+06</td>\n",
       "      <td>1.125593e+07</td>\n",
       "      <td>27461.411519</td>\n",
       "      <td>2.652021e+08</td>\n",
       "    </tr>\n",
       "  </tbody>\n",
       "</table>\n",
       "<p>5 rows × 119 columns</p>\n",
       "</div>"
      ],
      "text/plain": [
       "    x   y         lon        lat  etopo1  btl_t1  btl_t2  vgt   age  \\\n",
       "0  37  69 -119.110980  35.837349     141       0       0    0   0.0   \n",
       "1  38  69 -119.003126  35.859120     194       0       0    1   0.0   \n",
       "2  39  69 -118.895219  35.880769     292       0       0    1   0.0   \n",
       "3  40  69 -118.787258  35.902297     635       1       0    1   0.0   \n",
       "4  41  69 -118.679245  35.923705    1250       1       1    1  38.0   \n",
       "\n",
       "        density        ...          age:density  age:summerTmean  \\\n",
       "0    685.590759        ...         0.000000e+00         0.000000   \n",
       "1   6174.752441        ...         0.000000e+00         0.000000   \n",
       "2   7538.154297        ...         0.000000e+00         0.000000   \n",
       "3  10577.365234        ...         0.000000e+00         0.000000   \n",
       "4  41283.019531        ...         1.568755e+06       934.921657   \n",
       "\n",
       "   age:summerP0  age:ddAugJul  density:JanTmin  density:Tmean  \\\n",
       "0      0.000000           0.0      2849.248599   13271.878842   \n",
       "1      0.000000           0.0     26398.570367  120484.422356   \n",
       "2      0.000000           0.0     30480.630737  145796.396949   \n",
       "3      0.000000           0.0     29730.031836  194388.042347   \n",
       "4   1214.648905      244112.0       260.140945  641190.243919   \n",
       "\n",
       "   density:OptTsum    density:wd    density:mi  density:ddAugJul  \n",
       "0     5.416167e+04 -8.075468e+04    240.304257      6.825742e+06  \n",
       "1     4.878054e+05 -5.832296e+05   2413.675907      6.068547e+07  \n",
       "2     6.332050e+05 -4.459307e+05   3287.255430      7.131848e+07  \n",
       "3     9.731176e+05  3.448271e+04   5304.876314      8.909315e+07  \n",
       "4     3.467774e+06  1.125593e+07  27461.411519      2.652021e+08  \n",
       "\n",
       "[5 rows x 119 columns]"
      ]
     },
     "execution_count": 8,
     "metadata": {},
     "output_type": "execute_result"
    }
   ],
   "source": [
    "X_train.head()"
   ]
  },
  {
   "cell_type": "code",
   "execution_count": 9,
   "metadata": {
    "collapsed": true
   },
   "outputs": [],
   "source": [
    "density_matrix_train = util.column2matrix(\n",
    "    X_train.loc[X_train.year == 2009, :], 'density', cell_dim=1)\n",
    "density_matrix_valid = util.column2matrix(\n",
    "    X_valid.loc[X_valid.year == 2009, :], 'density', cell_dim=1)\n",
    "density_matrix_test  = util.column2matrix(\n",
    "    X_test.loc[X_test.year   == 2009, :], 'density', cell_dim=1)"
   ]
  },
  {
   "cell_type": "code",
   "execution_count": 10,
   "metadata": {
    "collapsed": false
   },
   "outputs": [
    {
     "data": {
      "image/png": "[encoded data removed]",
      "text/plain": [
       "<Figure size 432x288 with 3 Axes>"
      ]
     },
     "metadata": {},
     "output_type": "display_data"
    }
   ],
   "source": [
    "plt.subplot(1, 3, 1);\n",
    "imshow(np.rot90(density_matrix_train));\n",
    "plt.subplot(1, 3, 2);\n",
    "imshow(np.rot90(density_matrix_valid));\n",
    "plt.subplot(1, 3, 3);\n",
    "imshow(np.rot90(density_matrix_test));"
   ]
  },
  {
   "cell_type": "code",
   "execution_count": 11,
   "metadata": {
    "collapsed": true
   },
   "outputs": [],
   "source": [
    "btl_matrix_train = util.column2matrix(\n",
    "    X_train.loc[X_train.year == 2009, :], 'btl_t1', cell_dim=1)\n",
    "btl_matrix_valid = util.column2matrix(\n",
    "    X_valid.loc[X_valid.year == 2009, :], 'btl_t1', cell_dim=1)\n",
    "btl_matrix_test  = util.column2matrix(\n",
    "    X_test.loc[X_test.year   == 2009, :], 'btl_t1', cell_dim=1)"
   ]
  },
  {
   "cell_type": "code",
   "execution_count": 12,
   "metadata": {
    "collapsed": false
   },
   "outputs": [
    {
     "data": {
      "image/png": "[encoded data removed]",
      "text/plain": [
       "<Figure size 432x288 with 3 Axes>"
      ]
     },
     "metadata": {},
     "output_type": "display_data"
    }
   ],
   "source": [
    "plt.subplot(1, 3, 1);\n",
    "imshow(np.rot90(btl_matrix_train));\n",
    "plt.title('Training Set');\n",
    "plt.subplot(1, 3, 2);\n",
    "imshow(np.rot90(btl_matrix_valid));\n",
    "plt.title('Validation Set');\n",
    "plt.subplot(1, 3, 3);\n",
    "imshow(np.rot90(btl_matrix_test));\n",
    "plt.title('Test Set');"
   ]
  },
  {
   "cell_type": "code",
   "execution_count": 13,
   "metadata": {
    "collapsed": false
   },
   "outputs": [
    {
     "name": "stdout",
     "output_type": "stream",
     "text": [
      "Percent presence in y_train: 27.87%\n",
      "Percent presence in y_valid: 10.41%\n",
      "Percent presence in y_test: 1.97%\n"
     ]
    }
   ],
   "source": [
    "util.print_percent_presence(y_train, 'y_train')\n",
    "util.print_percent_presence(y_valid, 'y_valid')\n",
    "util.print_percent_presence(y_test, 'y_test')"
   ]
  },
  {
   "cell_type": "code",
   "execution_count": 14,
   "metadata": {
    "collapsed": false
   },
   "outputs": [
    {
     "name": "stdout",
     "output_type": "stream",
     "text": [
      "Baseline accuracy if predicting \"absent\" for all cells:\n",
      "  train: 72.13\n",
      "  valid: 89.59\n",
      "  test:  98.03\n"
     ]
    }
   ],
   "source": [
    "print('Baseline accuracy if predicting \"absent\" for all cells:')\n",
    "print('  train:', 100 - 27.87)\n",
    "print('  valid:', 100 - 10.41)\n",
    "print('  test: ', 100 - 1.97)"
   ]
  },
  {
   "cell_type": "code",
   "execution_count": 15,
   "metadata": {
    "collapsed": true
   },
   "outputs": [],
   "source": [
    "full_train = X_train.copy()\n",
    "full_valid = X_valid.copy()\n",
    "full_test = X_test.copy()\n",
    "\n",
    "full_train['btl_t'] = y_train['btl_t']\n",
    "full_valid['btl_t'] = y_valid['btl_t']\n",
    "full_test['btl_t'] = y_test['btl_t']"
   ]
  },
  {
   "cell_type": "code",
   "execution_count": 16,
   "metadata": {
    "collapsed": true
   },
   "outputs": [],
   "source": [
    "drop = ['x', 'y', 'year']\n",
    "X_train = X_train.drop(drop, axis=1)\n",
    "X_valid = X_valid.drop(drop, axis=1)\n",
    "X_test  = X_test.drop(drop, axis=1)"
   ]
  },
  {
   "cell_type": "code",
   "execution_count": 17,
   "metadata": {
    "collapsed": true
   },
   "outputs": [],
   "source": [
    "predictors = list(X_train)"
   ]
  },
  {
   "cell_type": "code",
   "execution_count": 18,
   "metadata": {
    "collapsed": true
   },
   "outputs": [],
   "source": [
    "def drop_NA(df):\n",
    "    df = df[df.columns.drop(list(df.filter(regex='cv.gsp')))]\n",
    "    return df"
   ]
  },
  {
   "cell_type": "code",
   "execution_count": 19,
   "metadata": {
    "collapsed": true
   },
   "outputs": [],
   "source": [
    "X_train = drop_NA(X_train)\n",
    "X_valid = drop_NA(X_valid)\n",
    "X_test = drop_NA(X_test)"
   ]
  },
  {
   "cell_type": "code",
   "execution_count": 20,
   "metadata": {
    "collapsed": false
   },
   "outputs": [],
   "source": [
    "def scale_data(X_train, X_valid, X_test):\n",
    "    scaler = StandardScaler()\n",
    "    X_train = scaler.fit_transform(X_train)\n",
    "    X_valid = scaler.transform(X_valid)\n",
    "    X_test  = scaler.transform(X_test)\n",
    "    return X_train, X_valid, X_test"
   ]
  },
  {
   "cell_type": "code",
   "execution_count": 21,
   "metadata": {
    "collapsed": true
   },
   "outputs": [],
   "source": [
    "X_train, X_valid, X_test = scale_data(X_train, X_valid, X_test) "
   ]
  },
  {
   "cell_type": "code",
   "execution_count": 22,
   "metadata": {
    "collapsed": true
   },
   "outputs": [],
   "source": [
    "y_train = y_train['btl_t'].values.reshape(-1)\n",
    "y_valid = y_valid['btl_t'].values.reshape(-1)\n",
    "y_test  = y_test['btl_t'].values.reshape(-1)"
   ]
  },
  {
   "cell_type": "code",
   "execution_count": 23,
   "metadata": {
    "collapsed": false
   },
   "outputs": [
    {
     "name": "stdout",
     "output_type": "stream",
     "text": [
      "Testing C = 0.0001\n",
      "  l1: "
     ]
    },
    {
     "name": "stderr",
     "output_type": "stream",
     "text": [
      "/usr/local/lib/python3.6/site-packages/sklearn/linear_model/logistic.py:1232: UserWarning: 'n_jobs' > 1 does not have any effect when 'solver' is set to 'liblinear'. Got 'n_jobs' = -1.\n",
      "  \" = {}.\".format(self.n_jobs))\n"
     ]
    },
    {
     "name": "stdout",
     "output_type": "stream",
     "text": [
      "0.9505\n",
      "Elapsed time: 0.10 minutes\n",
      "  l2: 0.9512\n",
      "Elapsed time: 0.28 minutes\n",
      "Testing C = 0.001\n",
      "  l1: 0.9515\n",
      "Elapsed time: 0.50 minutes\n",
      "  l2: 0.9515\n",
      "Elapsed time: 0.79 minutes\n",
      "Testing C = 0.01\n",
      "  l1: 0.9515\n",
      "Elapsed time: 4.24 minutes\n",
      "  l2: 0.9516\n",
      "Elapsed time: 4.83 minutes\n",
      "Testing C = 0.1\n",
      "  l1: 0.9512\n",
      "Elapsed time: 21.71 minutes\n",
      "  l2: 0.9512\n",
      "Elapsed time: 22.99 minutes\n",
      "Testing C = 1.0\n",
      "  l1: 0.9509\n",
      "Elapsed time: 51.13 minutes\n",
      "  l2: 0.9509\n",
      "Elapsed time: 53.38 minutes\n"
     ]
    }
   ],
   "source": [
    "# Find optimal regularization via best validation-set accuracy\n",
    "l1_mods = []\n",
    "l2_mods = []\n",
    "Cs = np.logspace(-4, 0, 5)\n",
    "\n",
    "t0 = time.time()\n",
    "for C in Cs:\n",
    "    print('Testing C =', C)\n",
    "    for penalty in ['l1','l2']: #['l1', 'l2']:\n",
    "        print('  %s:' % penalty, end=' ')\n",
    "        logistic_clf = LogisticRegression(C=C, penalty=penalty, n_jobs=-1)\n",
    "        logistic_clf.fit(X_train, y_train)\n",
    "        preds = logistic_clf.predict(X_valid)\n",
    "        accuracy = sum(y_valid == preds) / len(preds)\n",
    "        print(round(accuracy, 4))\n",
    "        if penalty == 'l1':\n",
    "            l1_mods.append(accuracy)\n",
    "        else:\n",
    "            l2_mods.append(accuracy)\n",
    "        print('Elapsed time: %.2f minutes' % ((time.time() - t0) / 60))"
   ]
  },
  {
   "cell_type": "code",
   "execution_count": 24,
   "metadata": {
    "collapsed": false
   },
   "outputs": [
    {
     "data": {
      "image/png": "[encoded data removed]",
      "text/plain": [
       "<Figure size 432x288 with 1 Axes>"
      ]
     },
     "metadata": {},
     "output_type": "display_data"
    }
   ],
   "source": [
    "plt.plot(Cs, l1_mods, label='L1 Reg.');\n",
    "plt.plot(Cs, l2_mods, label='L2 Reg.');\n",
    "plt.xscale('log');\n",
    "plt.xlabel('C');\n",
    "plt.ylabel('Accuracy');\n",
    "plt.legend(loc='best');"
   ]
  },
  {
   "cell_type": "code",
   "execution_count": 26,
   "metadata": {
    "collapsed": false
   },
   "outputs": [
    {
     "name": "stdout",
     "output_type": "stream",
     "text": [
      "Testing C = 0.0031622776601683794\n",
      "  l1: "
     ]
    },
    {
     "name": "stderr",
     "output_type": "stream",
     "text": [
      "/usr/local/lib/python3.6/site-packages/sklearn/linear_model/logistic.py:1232: UserWarning: 'n_jobs' > 1 does not have any effect when 'solver' is set to 'liblinear'. Got 'n_jobs' = -1.\n",
      "  \" = {}.\".format(self.n_jobs))\n"
     ]
    },
    {
     "name": "stdout",
     "output_type": "stream",
     "text": [
      "0.9515\n",
      "Elapsed time: 0.65 minutes\n",
      "  l2: 0.9516\n",
      "Elapsed time: 1.08 minutes\n",
      "Testing C = 0.004084238652674522\n",
      "  l1: 0.9515\n",
      "Elapsed time: 1.66 minutes\n",
      "  l2: 0.9516\n",
      "Elapsed time: 2.15 minutes\n",
      "Testing C = 0.00527499706370262\n",
      "  l1: 0.9514\n",
      "Elapsed time: 2.86 minutes\n",
      "  l2: 0.9516\n",
      "Elapsed time: 3.34 minutes\n",
      "Testing C = 0.006812920690579615\n",
      "  l1: 0.9514\n",
      "Elapsed time: 4.16 minutes\n",
      "  l2: 0.9517\n",
      "Elapsed time: 4.68 minutes\n",
      "Testing C = 0.008799225435691074\n",
      "  l1: 0.9515\n",
      "Elapsed time: 6.20 minutes\n",
      "  l2: 0.9516\n",
      "Elapsed time: 6.73 minutes\n",
      "Testing C = 0.011364636663857248\n",
      "  l1: 0.9516\n",
      "Elapsed time: 10.09 minutes\n",
      "  l2: 0.9517\n",
      "Elapsed time: 10.62 minutes\n",
      "Testing C = 0.01467799267622069\n",
      "  l1: 0.9516\n",
      "Elapsed time: 15.61 minutes\n",
      "  l2: 0.9517\n",
      "Elapsed time: 16.22 minutes\n",
      "Testing C = 0.018957356524063752\n",
      "  l1: 0.9516\n",
      "Elapsed time: 22.50 minutes\n",
      "  l2: 0.9517\n",
      "Elapsed time: 23.08 minutes\n",
      "Testing C = 0.024484367468222266\n",
      "  l1: 0.9516\n",
      "Elapsed time: 30.21 minutes\n",
      "  l2: 0.9515\n",
      "Elapsed time: 30.98 minutes\n",
      "Testing C = 0.03162277660168379\n",
      "  l1: 0.9516\n",
      "Elapsed time: 38.58 minutes\n",
      "  l2: 0.9515\n",
      "Elapsed time: 39.38 minutes\n"
     ]
    }
   ],
   "source": [
    "l1_mods = []\n",
    "l2_mods = []\n",
    "Cs = np.logspace(-2.5, -1.5, 10)\n",
    "\n",
    "t0 = time.time()\n",
    "for C in Cs:\n",
    "    print('Testing C =', C)\n",
    "    for penalty in ['l1', 'l2']:\n",
    "        print('  %s:' % penalty, end=' ')\n",
    "        logistic_clf = LogisticRegression(C=C, penalty=penalty, n_jobs=-1)\n",
    "        logistic_clf.fit(X_train, y_train)\n",
    "        preds = logistic_clf.predict(X_valid)\n",
    "        accuracy = sum(y_valid == preds) / len(preds)\n",
    "        print(round(accuracy, 4))\n",
    "        if penalty == 'l1':\n",
    "            l1_mods.append(accuracy)\n",
    "        else:\n",
    "            l2_mods.append(accuracy)\n",
    "        print('Elapsed time: %.2f minutes' % ((time.time() - t0) / 60))"
   ]
  },
  {
   "cell_type": "code",
   "execution_count": 27,
   "metadata": {
    "collapsed": true
   },
   "outputs": [],
   "source": [
    "!say \"I'm done\""
   ]
  },
  {
   "cell_type": "code",
   "execution_count": 28,
   "metadata": {
    "collapsed": false
   },
   "outputs": [
    {
     "data": {
      "image/png": "[encoded data removed]",
      "text/plain": [
       "<Figure size 432x288 with 1 Axes>"
      ]
     },
     "metadata": {},
     "output_type": "display_data"
    }
   ],
   "source": [
    "plt.plot(Cs, l1_mods, label='L1 Reg.');\n",
    "plt.plot(Cs, l2_mods, label='L2 Reg.');\n",
    "plt.xscale('log');\n",
    "plt.xlabel('C');\n",
    "plt.ylabel('Accuracy');\n",
    "plt.legend(loc='best');"
   ]
  },
  {
   "cell_type": "code",
   "execution_count": 29,
   "metadata": {
    "collapsed": false
   },
   "outputs": [
    {
     "data": {
      "text/plain": [
       "[(0.0031622776601683794, 0.9515993265993266),\n",
       " (0.004084238652674522, 0.9515993265993266),\n",
       " (0.00527499706370262, 0.9516463981924508),\n",
       " (0.006812920690579615, 0.9516630116959064),\n",
       " (0.008799225435691074, 0.951638091440723),\n",
       " (0.011364636663857248, 0.9516630116959064),\n",
       " (0.01467799267622069, 0.9516685495303916),\n",
       " (0.018957356524063752, 0.9516547049441786),\n",
       " (0.024484367468222266, 0.9515356415027467),\n",
       " (0.03162277660168379, 0.9515162590820485)]"
      ]
     },
     "execution_count": 29,
     "metadata": {},
     "output_type": "execute_result"
    }
   ],
   "source": [
    "[(c, acc) for c, acc in zip(Cs, l2_mods)]"
   ]
  },
  {
   "cell_type": "code",
   "execution_count": 30,
   "metadata": {
    "collapsed": true
   },
   "outputs": [],
   "source": [
    "best_C = 0.01467799267622069"
   ]
  },
  {
   "cell_type": "code",
   "execution_count": 31,
   "metadata": {
    "collapsed": false
   },
   "outputs": [
    {
     "data": {
      "text/plain": [
       "0.988190461326362"
      ]
     },
     "execution_count": 31,
     "metadata": {},
     "output_type": "execute_result"
    }
   ],
   "source": [
    "logistic_clf = LogisticRegression(C=best_C, penalty='l2')\n",
    "logistic_clf.fit(X_train, y_train)\n",
    "preds = logistic_clf.predict(X_test)\n",
    "probs = logistic_clf.predict_proba(X_test)\n",
    "accuracy = sum(y_test == preds) / len(preds)\n",
    "accuracy"
   ]
  },
  {
   "cell_type": "code",
   "execution_count": 32,
   "metadata": {
    "collapsed": true
   },
   "outputs": [],
   "source": [
    "def get_predictions_at_threshold(pred_ps, threshold):\n",
    "    return 1 * (pred_ps >= threshold)\n",
    "\n",
    "def threshold_plot(pred_ps, targets):\n",
    "    thresholds = np.linspace(0, 1, 500)\n",
    "    accuracies = []\n",
    "    n = len(pred_ps)\n",
    "\n",
    "    for threshold in thresholds:\n",
    "        preds = get_predictions_at_threshold(pred_ps, threshold)\n",
    "        accuracies.append((preds == targets).sum() / n)\n",
    "        \n",
    "    plt.plot(thresholds, accuracies);\n",
    "    optimal_threshold = thresholds[np.argmax(accuracies)]\n",
    "    optimal_accuracy = max(accuracies)\n",
    "    plt.plot([optimal_threshold, optimal_threshold], \n",
    "             [min(accuracies), max(accuracies)], \n",
    "             'r')\n",
    "    plt.plot([0, 1], [optimal_accuracy, optimal_accuracy], 'r')\n",
    "    plt.xlabel('Threshold for predicting \"Renewal\"')\n",
    "    plt.ylabel('Accuracy')\n",
    "    plt.show()\n",
    "    return {'threshold': optimal_threshold, 'accuracy': optimal_accuracy}"
   ]
  },
  {
   "cell_type": "code",
   "execution_count": 33,
   "metadata": {
    "collapsed": false
   },
   "outputs": [
    {
     "name": "stdout",
     "output_type": "stream",
     "text": [
      "[[9.99905080e-01 9.49199506e-05]\n",
      " [9.99891270e-01 1.08730140e-04]\n",
      " [9.99891722e-01 1.08277507e-04]\n",
      " [9.99874925e-01 1.25074872e-04]\n",
      " [9.99875281e-01 1.24718522e-04]]\n"
     ]
    },
    {
     "data": {
      "image/png": "[encoded data removed]",
      "text/plain": [
       "<Figure size 432x288 with 1 Axes>"
      ]
     },
     "metadata": {},
     "output_type": "display_data"
    },
    {
     "name": "stdout",
     "output_type": "stream",
     "text": [
      "{'threshold': 0.4488977955911823, 'accuracy': 0.98831401927504}\n"
     ]
    }
   ],
   "source": [
    "pred_ps = logistic_clf.predict_proba(X_test)\n",
    "print(pred_ps[:5])\n",
    "pred_ps = np.array([p[1] for p in pred_ps])\n",
    "pred_ps[:5]\n",
    "\n",
    "THRESHOLD = 0.5\n",
    "preds = get_predictions_at_threshold(pred_ps, THRESHOLD)\n",
    "preds[:5]\n",
    "\n",
    "best_threshold = threshold_plot(pred_ps, y_test);\n",
    "print(best_threshold)"
   ]
  },
  {
   "cell_type": "code",
   "execution_count": 34,
   "metadata": {
    "collapsed": false
   },
   "outputs": [
    {
     "name": "stdout",
     "output_type": "stream",
     "text": [
      "Confusion Matrix:\n",
      "         Predicted:\n",
      "         \t1\t\t0\n",
      "Actual: 1\t1586\t\t1440\n",
      "        0\t376\t\t150372\n",
      "Accuracy:  0.988190461326362\n",
      "Precision: 0.8083588175331294\n",
      "Recall:    0.5241242564441507\n",
      "F1:        0.6359262229350442\n"
     ]
    }
   ],
   "source": [
    "cm = util.make_confusion_matrix(y_test, pred_ps, 0.5)\n",
    "metrics = util.get_metrics(cm)"
   ]
  },
  {
   "cell_type": "code",
   "execution_count": 35,
   "metadata": {
    "collapsed": false
   },
   "outputs": [
    {
     "name": "stdout",
     "output_type": "stream",
     "text": [
      "Confusion Matrix:\n",
      "         Predicted:\n",
      "         \t1\t\t0\n",
      "Actual: 1\t1686\t\t1340\n",
      "        0\t457\t\t150291\n",
      "Accuracy:  0.98831401927504\n",
      "Precision: 0.7867475501633224\n",
      "Recall:    0.5571711830799736\n",
      "F1:        0.6523505513639002\n"
     ]
    }
   ],
   "source": [
    "cm = util.make_confusion_matrix(\n",
    "    y_test, pred_ps, best_threshold['threshold'])\n",
    "metrics = util.get_metrics(cm)"
   ]
  },
  {
   "cell_type": "code",
   "execution_count": 36,
   "metadata": {
    "collapsed": false
   },
   "outputs": [
    {
     "name": "stdout",
     "output_type": "stream",
     "text": [
      "AUC:       0.9751050724257065\n"
     ]
    }
   ],
   "source": [
    "auc_metrics = util.get_auc(y_test, pred_ps)"
   ]
  },
  {
   "cell_type": "code",
   "execution_count": 37,
   "metadata": {
    "collapsed": false
   },
   "outputs": [
    {
     "data": {
      "image/png": "[encoded data removed]",
      "text/plain": [
       "<Figure size 432x288 with 1 Axes>"
      ]
     },
     "metadata": {},
     "output_type": "display_data"
    }
   ],
   "source": [
    "util.plot_roc(auc_metrics['fpr'], auc_metrics['tpr'])"
   ]
  },
  {
   "cell_type": "code",
   "execution_count": 38,
   "metadata": {
    "collapsed": false
   },
   "outputs": [
    {
     "data": {
      "text/html": [
       "<div>\n",
       "<style scoped>\n",
       "    .dataframe tbody tr th:only-of-type {\n",
       "        vertical-align: middle;\n",
       "    }\n",
       "\n",
       "    .dataframe tbody tr th {\n",
       "        vertical-align: top;\n",
       "    }\n",
       "\n",
       "    .dataframe thead th {\n",
       "        text-align: right;\n",
       "    }\n",
       "</style>\n",
       "<table border=\"1\" class=\"dataframe\">\n",
       "  <thead>\n",
       "    <tr style=\"text-align: right;\">\n",
       "      <th></th>\n",
       "      <th>predictor</th>\n",
       "      <th>coef</th>\n",
       "    </tr>\n",
       "  </thead>\n",
       "  <tbody>\n",
       "    <tr>\n",
       "      <th>5</th>\n",
       "      <td>vgt</td>\n",
       "      <td>2.137230</td>\n",
       "    </tr>\n",
       "    <tr>\n",
       "      <th>22</th>\n",
       "      <td>Tmean</td>\n",
       "      <td>-1.218738</td>\n",
       "    </tr>\n",
       "    <tr>\n",
       "      <th>12</th>\n",
       "      <td>TMarAug</td>\n",
       "      <td>1.064709</td>\n",
       "    </tr>\n",
       "    <tr>\n",
       "      <th>21</th>\n",
       "      <td>Tmin</td>\n",
       "      <td>1.026939</td>\n",
       "    </tr>\n",
       "    <tr>\n",
       "      <th>8</th>\n",
       "      <td>sum9_t1</td>\n",
       "      <td>0.941603</td>\n",
       "    </tr>\n",
       "    <tr>\n",
       "      <th>11</th>\n",
       "      <td>MarTmin</td>\n",
       "      <td>-0.916357</td>\n",
       "    </tr>\n",
       "    <tr>\n",
       "      <th>87</th>\n",
       "      <td>OctTmin_sq</td>\n",
       "      <td>-0.764880</td>\n",
       "    </tr>\n",
       "    <tr>\n",
       "      <th>25</th>\n",
       "      <td>summerP1</td>\n",
       "      <td>-0.722622</td>\n",
       "    </tr>\n",
       "    <tr>\n",
       "      <th>14</th>\n",
       "      <td>AugTmean</td>\n",
       "      <td>-0.678192</td>\n",
       "    </tr>\n",
       "    <tr>\n",
       "      <th>23</th>\n",
       "      <td>Tvar</td>\n",
       "      <td>0.677963</td>\n",
       "    </tr>\n",
       "    <tr>\n",
       "      <th>88</th>\n",
       "      <td>Tvar_sq</td>\n",
       "      <td>-0.625415</td>\n",
       "    </tr>\n",
       "    <tr>\n",
       "      <th>72</th>\n",
       "      <td>lon_sq</td>\n",
       "      <td>-0.559615</td>\n",
       "    </tr>\n",
       "    <tr>\n",
       "      <th>36</th>\n",
       "      <td>maxT</td>\n",
       "      <td>0.534215</td>\n",
       "    </tr>\n",
       "    <tr>\n",
       "      <th>13</th>\n",
       "      <td>summerTmean</td>\n",
       "      <td>0.451774</td>\n",
       "    </tr>\n",
       "    <tr>\n",
       "      <th>63</th>\n",
       "      <td>MarMin</td>\n",
       "      <td>0.418158</td>\n",
       "    </tr>\n",
       "    <tr>\n",
       "      <th>67</th>\n",
       "      <td>wd</td>\n",
       "      <td>-0.414431</td>\n",
       "    </tr>\n",
       "    <tr>\n",
       "      <th>78</th>\n",
       "      <td>MarTmin_sq</td>\n",
       "      <td>-0.405764</td>\n",
       "    </tr>\n",
       "    <tr>\n",
       "      <th>9</th>\n",
       "      <td>sum9_t2</td>\n",
       "      <td>0.393308</td>\n",
       "    </tr>\n",
       "    <tr>\n",
       "      <th>48</th>\n",
       "      <td>ddAugJun</td>\n",
       "      <td>-0.391587</td>\n",
       "    </tr>\n",
       "    <tr>\n",
       "      <th>84</th>\n",
       "      <td>Tmin_sq</td>\n",
       "      <td>0.376996</td>\n",
       "    </tr>\n",
       "    <tr>\n",
       "      <th>85</th>\n",
       "      <td>summerP2_sq</td>\n",
       "      <td>0.357307</td>\n",
       "    </tr>\n",
       "    <tr>\n",
       "      <th>20</th>\n",
       "      <td>fallTmean</td>\n",
       "      <td>-0.343982</td>\n",
       "    </tr>\n",
       "    <tr>\n",
       "      <th>62</th>\n",
       "      <td>JanMin</td>\n",
       "      <td>-0.342996</td>\n",
       "    </tr>\n",
       "    <tr>\n",
       "      <th>26</th>\n",
       "      <td>summerP2</td>\n",
       "      <td>-0.337273</td>\n",
       "    </tr>\n",
       "    <tr>\n",
       "      <th>65</th>\n",
       "      <td>minT</td>\n",
       "      <td>0.322549</td>\n",
       "    </tr>\n",
       "    <tr>\n",
       "      <th>76</th>\n",
       "      <td>density_sq</td>\n",
       "      <td>-0.321640</td>\n",
       "    </tr>\n",
       "    <tr>\n",
       "      <th>100</th>\n",
       "      <td>TMarAug_cub</td>\n",
       "      <td>0.303898</td>\n",
       "    </tr>\n",
       "    <tr>\n",
       "      <th>7</th>\n",
       "      <td>density</td>\n",
       "      <td>0.294639</td>\n",
       "    </tr>\n",
       "    <tr>\n",
       "      <th>71</th>\n",
       "      <td>pt.coef</td>\n",
       "      <td>0.291068</td>\n",
       "    </tr>\n",
       "    <tr>\n",
       "      <th>82</th>\n",
       "      <td>AugTmean_sq</td>\n",
       "      <td>-0.287923</td>\n",
       "    </tr>\n",
       "    <tr>\n",
       "      <th>...</th>\n",
       "      <td>...</td>\n",
       "      <td>...</td>\n",
       "    </tr>\n",
       "    <tr>\n",
       "      <th>91</th>\n",
       "      <td>Pmean_sq</td>\n",
       "      <td>-0.054575</td>\n",
       "    </tr>\n",
       "    <tr>\n",
       "      <th>54</th>\n",
       "      <td>Jan40</td>\n",
       "      <td>0.053156</td>\n",
       "    </tr>\n",
       "    <tr>\n",
       "      <th>29</th>\n",
       "      <td>PcumOctSep</td>\n",
       "      <td>0.052574</td>\n",
       "    </tr>\n",
       "    <tr>\n",
       "      <th>55</th>\n",
       "      <td>Mar20</td>\n",
       "      <td>0.049818</td>\n",
       "    </tr>\n",
       "    <tr>\n",
       "      <th>103</th>\n",
       "      <td>vpd_cub</td>\n",
       "      <td>0.047693</td>\n",
       "    </tr>\n",
       "    <tr>\n",
       "      <th>74</th>\n",
       "      <td>etopo1_sq</td>\n",
       "      <td>-0.040880</td>\n",
       "    </tr>\n",
       "    <tr>\n",
       "      <th>113</th>\n",
       "      <td>density:wd</td>\n",
       "      <td>-0.040316</td>\n",
       "    </tr>\n",
       "    <tr>\n",
       "      <th>90</th>\n",
       "      <td>summerP0_sq</td>\n",
       "      <td>0.038891</td>\n",
       "    </tr>\n",
       "    <tr>\n",
       "      <th>111</th>\n",
       "      <td>density:Tmean</td>\n",
       "      <td>-0.037925</td>\n",
       "    </tr>\n",
       "    <tr>\n",
       "      <th>75</th>\n",
       "      <td>age_sq</td>\n",
       "      <td>-0.036264</td>\n",
       "    </tr>\n",
       "    <tr>\n",
       "      <th>94</th>\n",
       "      <td>PcumOctSep_sq</td>\n",
       "      <td>-0.036207</td>\n",
       "    </tr>\n",
       "    <tr>\n",
       "      <th>34</th>\n",
       "      <td>OptTsum</td>\n",
       "      <td>0.030069</td>\n",
       "    </tr>\n",
       "    <tr>\n",
       "      <th>86</th>\n",
       "      <td>summerP1_sq</td>\n",
       "      <td>0.028451</td>\n",
       "    </tr>\n",
       "    <tr>\n",
       "      <th>42</th>\n",
       "      <td>drop10</td>\n",
       "      <td>0.028439</td>\n",
       "    </tr>\n",
       "    <tr>\n",
       "      <th>49</th>\n",
       "      <td>Oct20</td>\n",
       "      <td>-0.028099</td>\n",
       "    </tr>\n",
       "    <tr>\n",
       "      <th>112</th>\n",
       "      <td>density:OptTsum</td>\n",
       "      <td>-0.025020</td>\n",
       "    </tr>\n",
       "    <tr>\n",
       "      <th>45</th>\n",
       "      <td>drop20plus</td>\n",
       "      <td>-0.024362</td>\n",
       "    </tr>\n",
       "    <tr>\n",
       "      <th>6</th>\n",
       "      <td>age</td>\n",
       "      <td>-0.020328</td>\n",
       "    </tr>\n",
       "    <tr>\n",
       "      <th>83</th>\n",
       "      <td>PMarAug_sq</td>\n",
       "      <td>-0.018304</td>\n",
       "    </tr>\n",
       "    <tr>\n",
       "      <th>40</th>\n",
       "      <td>drop0</td>\n",
       "      <td>-0.016249</td>\n",
       "    </tr>\n",
       "    <tr>\n",
       "      <th>28</th>\n",
       "      <td>POctSep</td>\n",
       "      <td>0.013975</td>\n",
       "    </tr>\n",
       "    <tr>\n",
       "      <th>41</th>\n",
       "      <td>drop5</td>\n",
       "      <td>-0.009809</td>\n",
       "    </tr>\n",
       "    <tr>\n",
       "      <th>60</th>\n",
       "      <td>winter40</td>\n",
       "      <td>-0.009033</td>\n",
       "    </tr>\n",
       "    <tr>\n",
       "      <th>35</th>\n",
       "      <td>AugMaxT</td>\n",
       "      <td>0.007930</td>\n",
       "    </tr>\n",
       "    <tr>\n",
       "      <th>50</th>\n",
       "      <td>Oct30</td>\n",
       "      <td>-0.007248</td>\n",
       "    </tr>\n",
       "    <tr>\n",
       "      <th>44</th>\n",
       "      <td>drop20</td>\n",
       "      <td>0.004641</td>\n",
       "    </tr>\n",
       "    <tr>\n",
       "      <th>43</th>\n",
       "      <td>drop15</td>\n",
       "      <td>-0.001334</td>\n",
       "    </tr>\n",
       "    <tr>\n",
       "      <th>57</th>\n",
       "      <td>Mar40</td>\n",
       "      <td>0.000488</td>\n",
       "    </tr>\n",
       "    <tr>\n",
       "      <th>69</th>\n",
       "      <td>mi</td>\n",
       "      <td>0.000201</td>\n",
       "    </tr>\n",
       "    <tr>\n",
       "      <th>51</th>\n",
       "      <td>Oct40</td>\n",
       "      <td>0.000000</td>\n",
       "    </tr>\n",
       "  </tbody>\n",
       "</table>\n",
       "<p>115 rows × 2 columns</p>\n",
       "</div>"
      ],
      "text/plain": [
       "           predictor      coef\n",
       "5                vgt  2.137230\n",
       "22             Tmean -1.218738\n",
       "12           TMarAug  1.064709\n",
       "21              Tmin  1.026939\n",
       "8            sum9_t1  0.941603\n",
       "11           MarTmin -0.916357\n",
       "87        OctTmin_sq -0.764880\n",
       "25          summerP1 -0.722622\n",
       "14          AugTmean -0.678192\n",
       "23              Tvar  0.677963\n",
       "88           Tvar_sq -0.625415\n",
       "72            lon_sq -0.559615\n",
       "36              maxT  0.534215\n",
       "13       summerTmean  0.451774\n",
       "63            MarMin  0.418158\n",
       "67                wd -0.414431\n",
       "78        MarTmin_sq -0.405764\n",
       "9            sum9_t2  0.393308\n",
       "48          ddAugJun -0.391587\n",
       "84           Tmin_sq  0.376996\n",
       "85       summerP2_sq  0.357307\n",
       "20         fallTmean -0.343982\n",
       "62            JanMin -0.342996\n",
       "26          summerP2 -0.337273\n",
       "65              minT  0.322549\n",
       "76        density_sq -0.321640\n",
       "100      TMarAug_cub  0.303898\n",
       "7            density  0.294639\n",
       "71           pt.coef  0.291068\n",
       "82       AugTmean_sq -0.287923\n",
       "..               ...       ...\n",
       "91          Pmean_sq -0.054575\n",
       "54             Jan40  0.053156\n",
       "29        PcumOctSep  0.052574\n",
       "55             Mar20  0.049818\n",
       "103          vpd_cub  0.047693\n",
       "74         etopo1_sq -0.040880\n",
       "113       density:wd -0.040316\n",
       "90       summerP0_sq  0.038891\n",
       "111    density:Tmean -0.037925\n",
       "75            age_sq -0.036264\n",
       "94     PcumOctSep_sq -0.036207\n",
       "34           OptTsum  0.030069\n",
       "86       summerP1_sq  0.028451\n",
       "42            drop10  0.028439\n",
       "49             Oct20 -0.028099\n",
       "112  density:OptTsum -0.025020\n",
       "45        drop20plus -0.024362\n",
       "6                age -0.020328\n",
       "83        PMarAug_sq -0.018304\n",
       "40             drop0 -0.016249\n",
       "28           POctSep  0.013975\n",
       "41             drop5 -0.009809\n",
       "60          winter40 -0.009033\n",
       "35           AugMaxT  0.007930\n",
       "50             Oct30 -0.007248\n",
       "44            drop20  0.004641\n",
       "43            drop15 -0.001334\n",
       "57             Mar40  0.000488\n",
       "69                mi  0.000201\n",
       "51             Oct40  0.000000\n",
       "\n",
       "[115 rows x 2 columns]"
      ]
     },
     "execution_count": 38,
     "metadata": {},
     "output_type": "execute_result"
    }
   ],
   "source": [
    "coefs = pd.DataFrame(\n",
    "    [[pred, coef] \n",
    "     for pred, coef in zip(predictors, logistic_clf.coef_[0])], \n",
    "    columns=['predictor', 'coef'])\n",
    "coefs['abs'] = np.abs(coefs.coef)\n",
    "coefs = coefs.sort_values('abs', ascending=False)\n",
    "coefs = coefs.drop(['abs'], axis=1)\n",
    "coefs"
   ]
  },
  {
   "cell_type": "code",
   "execution_count": 39,
   "metadata": {
    "collapsed": false
   },
   "outputs": [
    {
     "name": "stdout",
     "output_type": "stream",
     "text": [
      "(476082, 120)\n"
     ]
    }
   ],
   "source": [
    "print(full_train.shape)"
   ]
  },
  {
   "cell_type": "code",
   "execution_count": 40,
   "metadata": {
    "collapsed": false
   },
   "outputs": [
    {
     "data": {
      "text/plain": [
       "array([[9.99878630e-01, 1.21370183e-04],\n",
       "       [9.87520243e-01, 1.24797570e-02],\n",
       "       [9.75386058e-01, 2.46139419e-02],\n",
       "       ...,\n",
       "       [9.98876574e-01, 1.12342646e-03],\n",
       "       [9.99293613e-01, 7.06387168e-04],\n",
       "       [9.98971201e-01, 1.02879861e-03]])"
      ]
     },
     "execution_count": 40,
     "metadata": {},
     "output_type": "execute_result"
    }
   ],
   "source": [
    "logistic_clf.predict_proba(X_train)"
   ]
  },
  {
   "cell_type": "code",
   "execution_count": 41,
   "metadata": {
    "collapsed": true
   },
   "outputs": [],
   "source": [
    "pred_ps_train = logistic_clf.predict_proba(X_train)\n",
    "pred_ps_train = np.array([p[1] for p in pred_ps_train])\n",
    "\n",
    "pred_ps_valid = logistic_clf.predict_proba(X_valid)\n",
    "pred_ps_valid = np.array([p[1] for p in pred_ps_valid])\n",
    "\n",
    "full_train['probs'] = pred_ps_train\n",
    "full_train['preds'] = get_predictions_at_threshold(\n",
    "    pred_ps_train, best_threshold['threshold'])\n",
    "\n",
    "\n",
    "full_valid['probs'] = pred_ps_valid\n",
    "full_valid['preds'] = get_predictions_at_threshold(\n",
    "    pred_ps_valid, best_threshold['threshold'])"
   ]
  },
  {
   "cell_type": "code",
   "execution_count": 42,
   "metadata": {
    "collapsed": false
   },
   "outputs": [
    {
     "data": {
      "text/html": [
       "<div>\n",
       "<style scoped>\n",
       "    .dataframe tbody tr th:only-of-type {\n",
       "        vertical-align: middle;\n",
       "    }\n",
       "\n",
       "    .dataframe tbody tr th {\n",
       "        vertical-align: top;\n",
       "    }\n",
       "\n",
       "    .dataframe thead th {\n",
       "        text-align: right;\n",
       "    }\n",
       "</style>\n",
       "<table border=\"1\" class=\"dataframe\">\n",
       "  <thead>\n",
       "    <tr style=\"text-align: right;\">\n",
       "      <th></th>\n",
       "      <th>x</th>\n",
       "      <th>y</th>\n",
       "      <th>lon</th>\n",
       "      <th>lat</th>\n",
       "      <th>etopo1</th>\n",
       "      <th>btl_t1</th>\n",
       "      <th>btl_t2</th>\n",
       "      <th>vgt</th>\n",
       "      <th>age</th>\n",
       "      <th>density</th>\n",
       "      <th>...</th>\n",
       "      <th>age:ddAugJul</th>\n",
       "      <th>density:JanTmin</th>\n",
       "      <th>density:Tmean</th>\n",
       "      <th>density:OptTsum</th>\n",
       "      <th>density:wd</th>\n",
       "      <th>density:mi</th>\n",
       "      <th>density:ddAugJul</th>\n",
       "      <th>btl_t</th>\n",
       "      <th>probs</th>\n",
       "      <th>preds</th>\n",
       "    </tr>\n",
       "  </thead>\n",
       "  <tbody>\n",
       "    <tr>\n",
       "      <th>0</th>\n",
       "      <td>164</td>\n",
       "      <td>0</td>\n",
       "      <td>-104.671034</td>\n",
       "      <td>31.343318</td>\n",
       "      <td>1182</td>\n",
       "      <td>0</td>\n",
       "      <td>0</td>\n",
       "      <td>0</td>\n",
       "      <td>0.0</td>\n",
       "      <td>1513.529907</td>\n",
       "      <td>...</td>\n",
       "      <td>0.0</td>\n",
       "      <td>-760.844765</td>\n",
       "      <td>26918.478188</td>\n",
       "      <td>137731.221558</td>\n",
       "      <td>-6308.276593</td>\n",
       "      <td>801.381579</td>\n",
       "      <td>1.369139e+07</td>\n",
       "      <td>0</td>\n",
       "      <td>0.000095</td>\n",
       "      <td>0</td>\n",
       "    </tr>\n",
       "    <tr>\n",
       "      <th>1</th>\n",
       "      <td>165</td>\n",
       "      <td>0</td>\n",
       "      <td>-104.567392</td>\n",
       "      <td>31.348555</td>\n",
       "      <td>1348</td>\n",
       "      <td>0</td>\n",
       "      <td>0</td>\n",
       "      <td>0</td>\n",
       "      <td>0.0</td>\n",
       "      <td>3529.294678</td>\n",
       "      <td>...</td>\n",
       "      <td>0.0</td>\n",
       "      <td>-4411.521580</td>\n",
       "      <td>59108.698807</td>\n",
       "      <td>324695.110351</td>\n",
       "      <td>100832.809236</td>\n",
       "      <td>1973.024042</td>\n",
       "      <td>3.023194e+07</td>\n",
       "      <td>0</td>\n",
       "      <td>0.000109</td>\n",
       "      <td>0</td>\n",
       "    </tr>\n",
       "    <tr>\n",
       "      <th>2</th>\n",
       "      <td>166</td>\n",
       "      <td>0</td>\n",
       "      <td>-104.463740</td>\n",
       "      <td>31.353674</td>\n",
       "      <td>1373</td>\n",
       "      <td>0</td>\n",
       "      <td>0</td>\n",
       "      <td>0</td>\n",
       "      <td>0.0</td>\n",
       "      <td>0.000000</td>\n",
       "      <td>...</td>\n",
       "      <td>0.0</td>\n",
       "      <td>-0.000000</td>\n",
       "      <td>0.000000</td>\n",
       "      <td>0.000000</td>\n",
       "      <td>0.000000</td>\n",
       "      <td>0.000000</td>\n",
       "      <td>0.000000e+00</td>\n",
       "      <td>0</td>\n",
       "      <td>0.000108</td>\n",
       "      <td>0</td>\n",
       "    </tr>\n",
       "    <tr>\n",
       "      <th>3</th>\n",
       "      <td>167</td>\n",
       "      <td>0</td>\n",
       "      <td>-104.360077</td>\n",
       "      <td>31.358676</td>\n",
       "      <td>1338</td>\n",
       "      <td>0</td>\n",
       "      <td>0</td>\n",
       "      <td>0</td>\n",
       "      <td>0.0</td>\n",
       "      <td>5712.242188</td>\n",
       "      <td>...</td>\n",
       "      <td>0.0</td>\n",
       "      <td>-8516.461094</td>\n",
       "      <td>95531.168268</td>\n",
       "      <td>525526.281250</td>\n",
       "      <td>179530.385151</td>\n",
       "      <td>3334.789494</td>\n",
       "      <td>4.951372e+07</td>\n",
       "      <td>0</td>\n",
       "      <td>0.000125</td>\n",
       "      <td>0</td>\n",
       "    </tr>\n",
       "    <tr>\n",
       "      <th>4</th>\n",
       "      <td>168</td>\n",
       "      <td>0</td>\n",
       "      <td>-104.256404</td>\n",
       "      <td>31.363561</td>\n",
       "      <td>1154</td>\n",
       "      <td>0</td>\n",
       "      <td>0</td>\n",
       "      <td>0</td>\n",
       "      <td>0.0</td>\n",
       "      <td>509.230774</td>\n",
       "      <td>...</td>\n",
       "      <td>0.0</td>\n",
       "      <td>-501.420039</td>\n",
       "      <td>8921.919930</td>\n",
       "      <td>45830.769653</td>\n",
       "      <td>20836.929313</td>\n",
       "      <td>302.560471</td>\n",
       "      <td>4.582568e+06</td>\n",
       "      <td>0</td>\n",
       "      <td>0.000125</td>\n",
       "      <td>0</td>\n",
       "    </tr>\n",
       "  </tbody>\n",
       "</table>\n",
       "<p>5 rows × 122 columns</p>\n",
       "</div>"
      ],
      "text/plain": [
       "     x  y         lon        lat  etopo1  btl_t1  btl_t2  vgt  age  \\\n",
       "0  164  0 -104.671034  31.343318    1182       0       0    0  0.0   \n",
       "1  165  0 -104.567392  31.348555    1348       0       0    0  0.0   \n",
       "2  166  0 -104.463740  31.353674    1373       0       0    0  0.0   \n",
       "3  167  0 -104.360077  31.358676    1338       0       0    0  0.0   \n",
       "4  168  0 -104.256404  31.363561    1154       0       0    0  0.0   \n",
       "\n",
       "       density  ...    age:ddAugJul  density:JanTmin  density:Tmean  \\\n",
       "0  1513.529907  ...             0.0      -760.844765   26918.478188   \n",
       "1  3529.294678  ...             0.0     -4411.521580   59108.698807   \n",
       "2     0.000000  ...             0.0        -0.000000       0.000000   \n",
       "3  5712.242188  ...             0.0     -8516.461094   95531.168268   \n",
       "4   509.230774  ...             0.0      -501.420039    8921.919930   \n",
       "\n",
       "   density:OptTsum     density:wd   density:mi  density:ddAugJul  btl_t  \\\n",
       "0    137731.221558   -6308.276593   801.381579      1.369139e+07      0   \n",
       "1    324695.110351  100832.809236  1973.024042      3.023194e+07      0   \n",
       "2         0.000000       0.000000     0.000000      0.000000e+00      0   \n",
       "3    525526.281250  179530.385151  3334.789494      4.951372e+07      0   \n",
       "4     45830.769653   20836.929313   302.560471      4.582568e+06      0   \n",
       "\n",
       "      probs  preds  \n",
       "0  0.000095      0  \n",
       "1  0.000109      0  \n",
       "2  0.000108      0  \n",
       "3  0.000125      0  \n",
       "4  0.000125      0  \n",
       "\n",
       "[5 rows x 122 columns]"
      ]
     },
     "execution_count": 42,
     "metadata": {},
     "output_type": "execute_result"
    }
   ],
   "source": [
    "full_test['probs'] = pred_ps\n",
    "full_test['preds'] = get_predictions_at_threshold(\n",
    "    pred_ps, best_threshold['threshold'])\n",
    "full_test.head()"
   ]
  },
  {
   "cell_type": "code",
   "execution_count": 43,
   "metadata": {
    "collapsed": true
   },
   "outputs": [],
   "source": [
    "def pred_plot(actual_matrix, pred_matrix, error_matrix, year):\n",
    "    plt.subplot(131)\n",
    "    imshow(np.rot90(actual_matrix));\n",
    "    plt.title('%d Actual' % year);\n",
    "    plt.subplot(132)\n",
    "    imshow(np.rot90(pred_matrix));\n",
    "    plt.title('%d Predicted' % year);\n",
    "    plt.subplot(133)\n",
    "    imshow(np.rot90(error_matrix));\n",
    "    plt.title('%d Error' % year);"
   ]
  },
  {
   "cell_type": "code",
   "execution_count": 44,
   "metadata": {
    "collapsed": true
   },
   "outputs": [],
   "source": [
    "def make_actual_pred_and_error_matrices(\n",
    "    data, year, pred_type='preds', plot=False):\n",
    "    data_year = data.loc[data.year == year, :]\n",
    "    actual_matrix = util.column2matrix(data_year, 'btl_t', cell_dim=1)\n",
    "    pred_matrix   = util.column2matrix(data_year, pred_type, cell_dim=1)\n",
    "    error_matrix  = pred_matrix - actual_matrix\n",
    "    if plot:\n",
    "        pred_plot(actual_matrix, pred_matrix, error_matrix, year)        \n",
    "    return actual_matrix, pred_matrix, error_matrix"
   ]
  },
  {
   "cell_type": "code",
   "execution_count": 45,
   "metadata": {
    "collapsed": false
   },
   "outputs": [
    {
     "data": {
      "image/png": "[encoded data removed]",
      "text/plain": [
       "<Figure size 432x288 with 3 Axes>"
      ]
     },
     "metadata": {},
     "output_type": "display_data"
    },
    {
     "data": {
      "image/png": "[encoded data removed]",
      "text/plain": [
       "<Figure size 432x288 with 3 Axes>"
      ]
     },
     "metadata": {},
     "output_type": "display_data"
    }
   ],
   "source": [
    "years = [2003, 2009]\n",
    "for year in years:\n",
    "    plt.figure();\n",
    "    make_actual_pred_and_error_matrices(full_train, year, plot=True)"
   ]
  },
  {
   "cell_type": "code",
   "execution_count": 46,
   "metadata": {
    "collapsed": false
   },
   "outputs": [
    {
     "data": {
      "image/png": "[encoded data removed]",
      "text/plain": [
       "<Figure size 432x288 with 3 Axes>"
      ]
     },
     "metadata": {},
     "output_type": "display_data"
    },
    {
     "data": {
      "image/png": "[encoded data removed]",
      "text/plain": [
       "<Figure size 432x288 with 3 Axes>"
      ]
     },
     "metadata": {},
     "output_type": "display_data"
    }
   ],
   "source": [
    "for year in years:\n",
    "    plt.figure();\n",
    "    make_actual_pred_and_error_matrices(full_valid, year, plot=True)"
   ]
  },
  {
   "cell_type": "code",
   "execution_count": 47,
   "metadata": {
    "collapsed": false
   },
   "outputs": [
    {
     "data": {
      "image/png": "[encoded data removed]",
      "text/plain": [
       "<Figure size 432x288 with 3 Axes>"
      ]
     },
     "metadata": {},
     "output_type": "display_data"
    },
    {
     "data": {
      "image/png": "[encoded data removed]",
      "text/plain": [
       "<Figure size 432x288 with 3 Axes>"
      ]
     },
     "metadata": {},
     "output_type": "display_data"
    }
   ],
   "source": [
    "for year in years:\n",
    "    plt.figure();\n",
    "    make_actual_pred_and_error_matrices(full_test, year, plot=True)"
   ]
  },
  {
   "cell_type": "code",
   "execution_count": 48,
   "metadata": {
    "collapsed": true
   },
   "outputs": [],
   "source": [
    "all_data = full_train.append(full_valid).append(full_test)\n",
    "all_data.index = range(all_data.shape[0])"
   ]
  },
  {
   "cell_type": "code",
   "execution_count": null,
   "metadata": {
    "collapsed": true
   },
   "outputs": [],
   "source": [
    "for year in years:\n",
    "    plt.figure();\n",
    "    make_actual_pred_and_error_matrices(\n",
    "        all_data, year, pred_type='probs', plot=True)"
   ]
  },
  {
   "cell_type": "code",
   "execution_count": null,
   "metadata": {
    "collapsed": true
   },
   "outputs": [],
   "source": []
  }
 ],
 "metadata": {
  "kernelspec": {
   "display_name": "Python 3",
   "language": "python",
   "name": "python3"
  },
  "language_info": {
   "codemirror_mode": {
    "name": "ipython",
    "version": 3
   },
   "file_extension": ".py",
   "mimetype": "text/x-python",
   "name": "python",
   "nbconvert_exporter": "python",
   "pygments_lexer": "ipython3",
   "version": "3.6.2"
  }
 },
 "nbformat": 4,
 "nbformat_minor": 2
}
