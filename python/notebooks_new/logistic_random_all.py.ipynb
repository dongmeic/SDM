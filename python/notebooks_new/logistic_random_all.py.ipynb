{
 "cells": [
  {
   "cell_type": "code",
   "execution_count": 1,
   "metadata": {
    "collapsed": false
   },
   "outputs": [
    {
     "name": "stderr",
     "output_type": "stream",
     "text": [
      "/usr/local/Cellar/python3/3.6.2/Frameworks/Python.framework/Versions/3.6/lib/python3.6/importlib/_bootstrap.py:205: RuntimeWarning: numpy.dtype size changed, may indicate binary incompatibility. Expected 96, got 88\n",
      "  return f(*args, **kwds)\n"
     ]
    }
   ],
   "source": [
    "import sys\n",
    "import time\n",
    "\n",
    "import matplotlib.pyplot as plt\n",
    "import numpy as np\n",
    "import pandas as pd\n",
    "from pylab import *\n",
    "from sklearn.linear_model import LogisticRegression, Ridge\n",
    "from sklearn.pipeline import Pipeline\n",
    "from sklearn.model_selection import GridSearchCV\n",
    "from sklearn.preprocessing import StandardScaler\n",
    "\n",
    "sys.path.append('../models_new')\n",
    "import model_utils_new as util\n",
    "from construct_model_matrices_random  import ModelMatrixConstructor\n",
    "\n",
    "%matplotlib inline\n",
    "plt.rcParams['figure.figsize'] = 10, 8"
   ]
  },
  {
   "cell_type": "code",
   "execution_count": 2,
   "metadata": {
    "collapsed": true
   },
   "outputs": [],
   "source": [
    "DATA_DIR = '../../data/Xy_random_split_data'\n",
    "TEST = False"
   ]
  },
  {
   "cell_type": "code",
   "execution_count": 3,
   "metadata": {
    "collapsed": false
   },
   "outputs": [
    {
     "name": "stdout",
     "output_type": "stream",
     "text": [
      "Loading data from ['X_train_1998.csv', 'X_train_1999.csv', 'X_train_2000.csv', 'X_train_2001.csv', 'X_train_2002.csv', 'X_train_2003.csv', 'X_train_2004.csv', 'X_train_2005.csv', 'X_train_2006.csv', 'X_train_2007.csv', 'X_train_2008.csv', 'X_train_2009.csv', 'X_train_2010.csv', 'X_train_2011.csv', 'X_train_2012.csv', 'X_train_2013.csv', 'X_train_2014.csv', 'X_train_2015.csv']...\n",
      "Loading data from ['X_valid_1998.csv', 'X_valid_1999.csv', 'X_valid_2000.csv', 'X_valid_2001.csv', 'X_valid_2002.csv', 'X_valid_2003.csv', 'X_valid_2004.csv', 'X_valid_2005.csv', 'X_valid_2006.csv', 'X_valid_2007.csv', 'X_valid_2008.csv', 'X_valid_2009.csv', 'X_valid_2010.csv', 'X_valid_2011.csv', 'X_valid_2012.csv', 'X_valid_2013.csv', 'X_valid_2014.csv', 'X_valid_2015.csv']...\n",
      "Loading data from ['X_test_1998.csv', 'X_test_1999.csv', 'X_test_2000.csv', 'X_test_2001.csv', 'X_test_2002.csv', 'X_test_2003.csv', 'X_test_2004.csv', 'X_test_2005.csv', 'X_test_2006.csv', 'X_test_2007.csv', 'X_test_2008.csv', 'X_test_2009.csv', 'X_test_2010.csv', 'X_test_2011.csv', 'X_test_2012.csv', 'X_test_2013.csv', 'X_test_2014.csv', 'X_test_2015.csv']...\n",
      "Loading data from ['y_train_1998.csv', 'y_train_1999.csv', 'y_train_2000.csv', 'y_train_2001.csv', 'y_train_2002.csv', 'y_train_2003.csv', 'y_train_2004.csv', 'y_train_2005.csv', 'y_train_2006.csv', 'y_train_2007.csv', 'y_train_2008.csv', 'y_train_2009.csv', 'y_train_2010.csv', 'y_train_2011.csv', 'y_train_2012.csv', 'y_train_2013.csv', 'y_train_2014.csv', 'y_train_2015.csv']...\n",
      "Loading data from ['y_valid_1998.csv', 'y_valid_1999.csv', 'y_valid_2000.csv', 'y_valid_2001.csv', 'y_valid_2002.csv', 'y_valid_2003.csv', 'y_valid_2004.csv', 'y_valid_2005.csv', 'y_valid_2006.csv', 'y_valid_2007.csv', 'y_valid_2008.csv', 'y_valid_2009.csv', 'y_valid_2010.csv', 'y_valid_2011.csv', 'y_valid_2012.csv', 'y_valid_2013.csv', 'y_valid_2014.csv', 'y_valid_2015.csv']...\n",
      "Loading data from ['y_test_1998.csv', 'y_test_1999.csv', 'y_test_2000.csv', 'y_test_2001.csv', 'y_test_2002.csv', 'y_test_2003.csv', 'y_test_2004.csv', 'y_test_2005.csv', 'y_test_2006.csv', 'y_test_2007.csv', 'y_test_2008.csv', 'y_test_2009.csv', 'y_test_2010.csv', 'y_test_2011.csv', 'y_test_2012.csv', 'y_test_2013.csv', 'y_test_2014.csv', 'y_test_2015.csv']...\n",
      "Attempting to fill NAs with average of neighboring cells.\n",
      "Could not fill density for 13121 rows.\n",
      "Adding quadratic terms...\n",
      "Adding cubic terms...\n",
      "Adding interactions...\n",
      "Attempting to fill NAs with average of neighboring cells.\n",
      "Could not fill density for 1687 rows.\n",
      "Adding quadratic terms...\n",
      "Adding cubic terms...\n",
      "Adding interactions...\n",
      "Attempting to fill NAs with average of neighboring cells.\n",
      "Could not fill density for 1518 rows.\n",
      "Adding quadratic terms...\n",
      "Adding cubic terms...\n",
      "Adding interactions...\n"
     ]
    }
   ],
   "source": [
    "matrix_constructor = ModelMatrixConstructor(DATA_DIR, TEST)\n",
    "matrix_constructor.construct_model_matrices()"
   ]
  },
  {
   "cell_type": "code",
   "execution_count": 4,
   "metadata": {
    "collapsed": false
   },
   "outputs": [
    {
     "name": "stdout",
     "output_type": "stream",
     "text": [
      "fixed: ['lon:sum9_diff', 'sum9_t1:sum9_t2', 'vgt', 'sum9_diff_cub', 'lat_cub', 'etopo1:sum9_diff', 'lat:sum9_diff', 'lon:lat:etopo1', 'density', 'density_cub', 'btl_t1', 'lon', 'lon_cub', 'age_sq', 'etopo1_sq', 'sum9_diff_sq', 'sum9_diff', 'btl_t1:btl_t2', 'sum9_t2', 'etopo1', 'btl_t2', 'age_cub', 'lat', 'sum9_t1', 'lat_sq', 'age']\n",
      "variables: ['summerP1', 'AugTmax', 'PcumOctSep', 'Tmean', 'Jan20', 'AugMaxT', 'mi', 'Tvar', 'summerTmean', 'Acs', 'wd', 'winterMin', 'OctMin', 'OptTsum', 'AugTmean', 'JanTmin', 'maxT', 'vpd', 'PMarAug', 'cwd', 'MarMin', 'fallTmean', 'JanMin', 'MarTmin', 'Tmin', 'minT', 'PPT', 'ddAugJun', 'max.drop', 'summerP0', 'TMarAug', 'ddAugJul', 'Pmean', 'POctSep', 'TOctSep', 'OctTmin', 'Mar20', 'summerP2']\n"
     ]
    },
    {
     "data": {
      "text/plain": [
       "['Acs',\n",
       " 'AugMaxT',\n",
       " 'AugTmax',\n",
       " 'AugTmean',\n",
       " 'Jan20',\n",
       " 'JanMin',\n",
       " 'JanTmin',\n",
       " 'Mar20',\n",
       " 'MarMin',\n",
       " 'MarTmin',\n",
       " 'OctMin',\n",
       " 'OctTmin',\n",
       " 'OptTsum',\n",
       " 'PMarAug',\n",
       " 'POctSep',\n",
       " 'PPT',\n",
       " 'PcumOctSep',\n",
       " 'Pmean',\n",
       " 'TMarAug',\n",
       " 'TOctSep',\n",
       " 'Tmean',\n",
       " 'Tmin',\n",
       " 'Tvar',\n",
       " 'age',\n",
       " 'age_cub',\n",
       " 'age_sq',\n",
       " 'btl_t1',\n",
       " 'btl_t1:btl_t2',\n",
       " 'btl_t2',\n",
       " 'cwd',\n",
       " 'ddAugJul',\n",
       " 'ddAugJun',\n",
       " 'density',\n",
       " 'density:Acs',\n",
       " 'density:AugMaxT',\n",
       " 'density:AugTmax',\n",
       " 'density:AugTmean',\n",
       " 'density:Jan20',\n",
       " 'density:JanMin',\n",
       " 'density:JanTmin',\n",
       " 'density:Mar20',\n",
       " 'density:MarMin',\n",
       " 'density:MarTmin',\n",
       " 'density:OctMin',\n",
       " 'density:OctTmin',\n",
       " 'density:OptTsum',\n",
       " 'density:PMarAug',\n",
       " 'density:POctSep',\n",
       " 'density:PPT',\n",
       " 'density:PcumOctSep',\n",
       " 'density:Pmean',\n",
       " 'density:TMarAug',\n",
       " 'density:TOctSep',\n",
       " 'density:Tmean',\n",
       " 'density:Tmin',\n",
       " 'density:Tvar',\n",
       " 'density:cwd',\n",
       " 'density:ddAugJul',\n",
       " 'density:ddAugJun',\n",
       " 'density:fallTmean',\n",
       " 'density:max.drop',\n",
       " 'density:maxT',\n",
       " 'density:mi',\n",
       " 'density:minT',\n",
       " 'density:summerP0',\n",
       " 'density:summerP1',\n",
       " 'density:summerP2',\n",
       " 'density:summerTmean',\n",
       " 'density:vpd',\n",
       " 'density:wd',\n",
       " 'density:winterMin',\n",
       " 'density_cub',\n",
       " 'etopo1',\n",
       " 'etopo1:Acs',\n",
       " 'etopo1:AugMaxT',\n",
       " 'etopo1:AugTmax',\n",
       " 'etopo1:AugTmean',\n",
       " 'etopo1:Jan20',\n",
       " 'etopo1:JanMin',\n",
       " 'etopo1:JanTmin',\n",
       " 'etopo1:Mar20',\n",
       " 'etopo1:MarMin',\n",
       " 'etopo1:MarTmin',\n",
       " 'etopo1:OctMin',\n",
       " 'etopo1:OctTmin',\n",
       " 'etopo1:OptTsum',\n",
       " 'etopo1:PMarAug',\n",
       " 'etopo1:POctSep',\n",
       " 'etopo1:PPT',\n",
       " 'etopo1:PcumOctSep',\n",
       " 'etopo1:Pmean',\n",
       " 'etopo1:TMarAug',\n",
       " 'etopo1:TOctSep',\n",
       " 'etopo1:Tmean',\n",
       " 'etopo1:Tmin',\n",
       " 'etopo1:Tvar',\n",
       " 'etopo1:cwd',\n",
       " 'etopo1:ddAugJul',\n",
       " 'etopo1:ddAugJun',\n",
       " 'etopo1:fallTmean',\n",
       " 'etopo1:max.drop',\n",
       " 'etopo1:maxT',\n",
       " 'etopo1:mi',\n",
       " 'etopo1:minT',\n",
       " 'etopo1:sum9_diff',\n",
       " 'etopo1:summerP0',\n",
       " 'etopo1:summerP1',\n",
       " 'etopo1:summerP2',\n",
       " 'etopo1:summerTmean',\n",
       " 'etopo1:vpd',\n",
       " 'etopo1:wd',\n",
       " 'etopo1:winterMin',\n",
       " 'etopo1_sq',\n",
       " 'fallTmean',\n",
       " 'lat',\n",
       " 'lat:Acs',\n",
       " 'lat:AugMaxT',\n",
       " 'lat:AugTmax',\n",
       " 'lat:AugTmean',\n",
       " 'lat:Jan20',\n",
       " 'lat:JanMin',\n",
       " 'lat:JanTmin',\n",
       " 'lat:Mar20',\n",
       " 'lat:MarMin',\n",
       " 'lat:MarTmin',\n",
       " 'lat:OctMin',\n",
       " 'lat:OctTmin',\n",
       " 'lat:OptTsum',\n",
       " 'lat:PMarAug',\n",
       " 'lat:POctSep',\n",
       " 'lat:PPT',\n",
       " 'lat:PcumOctSep',\n",
       " 'lat:Pmean',\n",
       " 'lat:TMarAug',\n",
       " 'lat:TOctSep',\n",
       " 'lat:Tmean',\n",
       " 'lat:Tmin',\n",
       " 'lat:Tvar',\n",
       " 'lat:cwd',\n",
       " 'lat:ddAugJul',\n",
       " 'lat:ddAugJun',\n",
       " 'lat:fallTmean',\n",
       " 'lat:max.drop',\n",
       " 'lat:maxT',\n",
       " 'lat:mi',\n",
       " 'lat:minT',\n",
       " 'lat:sum9_diff',\n",
       " 'lat:summerP0',\n",
       " 'lat:summerP1',\n",
       " 'lat:summerP2',\n",
       " 'lat:summerTmean',\n",
       " 'lat:vpd',\n",
       " 'lat:wd',\n",
       " 'lat:winterMin',\n",
       " 'lat_cub',\n",
       " 'lat_sq',\n",
       " 'lon',\n",
       " 'lon:Acs',\n",
       " 'lon:AugMaxT',\n",
       " 'lon:AugTmax',\n",
       " 'lon:AugTmean',\n",
       " 'lon:Jan20',\n",
       " 'lon:JanMin',\n",
       " 'lon:JanTmin',\n",
       " 'lon:Mar20',\n",
       " 'lon:MarMin',\n",
       " 'lon:MarTmin',\n",
       " 'lon:OctMin',\n",
       " 'lon:OctTmin',\n",
       " 'lon:OptTsum',\n",
       " 'lon:PMarAug',\n",
       " 'lon:POctSep',\n",
       " 'lon:PPT',\n",
       " 'lon:PcumOctSep',\n",
       " 'lon:Pmean',\n",
       " 'lon:TMarAug',\n",
       " 'lon:TOctSep',\n",
       " 'lon:Tmean',\n",
       " 'lon:Tmin',\n",
       " 'lon:Tvar',\n",
       " 'lon:cwd',\n",
       " 'lon:ddAugJul',\n",
       " 'lon:ddAugJun',\n",
       " 'lon:fallTmean',\n",
       " 'lon:lat:etopo1',\n",
       " 'lon:max.drop',\n",
       " 'lon:maxT',\n",
       " 'lon:mi',\n",
       " 'lon:minT',\n",
       " 'lon:sum9_diff',\n",
       " 'lon:summerP0',\n",
       " 'lon:summerP1',\n",
       " 'lon:summerP2',\n",
       " 'lon:summerTmean',\n",
       " 'lon:vpd',\n",
       " 'lon:wd',\n",
       " 'lon:winterMin',\n",
       " 'lon_cub',\n",
       " 'max.drop',\n",
       " 'maxT',\n",
       " 'mi',\n",
       " 'minT',\n",
       " 'sum9_diff',\n",
       " 'sum9_diff_cub',\n",
       " 'sum9_diff_sq',\n",
       " 'sum9_t1',\n",
       " 'sum9_t1:sum9_t2',\n",
       " 'sum9_t2',\n",
       " 'summerP0',\n",
       " 'summerP1',\n",
       " 'summerP2',\n",
       " 'summerTmean',\n",
       " 'vgt',\n",
       " 'vpd',\n",
       " 'wd',\n",
       " 'winterMin']"
      ]
     },
     "execution_count": 4,
     "metadata": {},
     "output_type": "execute_result"
    }
   ],
   "source": [
    "test_vars = matrix_constructor.get_variables()\n",
    "test_vars = sorted(test_vars)\n",
    "test_vars"
   ]
  },
  {
   "cell_type": "code",
   "execution_count": 5,
   "metadata": {
    "collapsed": true
   },
   "outputs": [],
   "source": [
    "def print_dims(data_set, name):\n",
    "    print('%s:\\n X: %r\\n y: %r' \n",
    "          % (name, data_set[0].shape, data_set[1].shape))"
   ]
  },
  {
   "cell_type": "code",
   "execution_count": 6,
   "metadata": {
    "collapsed": false
   },
   "outputs": [
    {
     "data": {
      "text/plain": [
       "['Acs',\n",
       " 'AugMaxT',\n",
       " 'AugTmax',\n",
       " 'AugTmean',\n",
       " 'Jan20',\n",
       " 'JanMin',\n",
       " 'JanTmin',\n",
       " 'Mar20',\n",
       " 'MarMin',\n",
       " 'MarTmin',\n",
       " 'OctMin',\n",
       " 'OctTmin',\n",
       " 'OptTsum',\n",
       " 'PMarAug',\n",
       " 'POctSep',\n",
       " 'PPT',\n",
       " 'PcumOctSep',\n",
       " 'Pmean',\n",
       " 'TMarAug',\n",
       " 'TOctSep',\n",
       " 'Tmean',\n",
       " 'Tmin',\n",
       " 'Tvar',\n",
       " 'age',\n",
       " 'age_cub',\n",
       " 'age_sq',\n",
       " 'btl_t1',\n",
       " 'btl_t1:btl_t2',\n",
       " 'btl_t2',\n",
       " 'cwd',\n",
       " 'ddAugJul',\n",
       " 'ddAugJun',\n",
       " 'density',\n",
       " 'density:Acs',\n",
       " 'density:AugMaxT',\n",
       " 'density:AugTmax',\n",
       " 'density:AugTmean',\n",
       " 'density:Jan20',\n",
       " 'density:JanMin',\n",
       " 'density:JanTmin',\n",
       " 'density:Mar20',\n",
       " 'density:MarMin',\n",
       " 'density:MarTmin',\n",
       " 'density:OctMin',\n",
       " 'density:OctTmin',\n",
       " 'density:OptTsum',\n",
       " 'density:PMarAug',\n",
       " 'density:POctSep',\n",
       " 'density:PPT',\n",
       " 'density:PcumOctSep',\n",
       " 'density:Pmean',\n",
       " 'density:TMarAug',\n",
       " 'density:TOctSep',\n",
       " 'density:Tmean',\n",
       " 'density:Tmin',\n",
       " 'density:Tvar',\n",
       " 'density:cwd',\n",
       " 'density:ddAugJul',\n",
       " 'density:ddAugJun',\n",
       " 'density:fallTmean',\n",
       " 'density:max.drop',\n",
       " 'density:maxT',\n",
       " 'density:mi',\n",
       " 'density:minT',\n",
       " 'density:summerP0',\n",
       " 'density:summerP1',\n",
       " 'density:summerP2',\n",
       " 'density:summerTmean',\n",
       " 'density:vpd',\n",
       " 'density:wd',\n",
       " 'density:winterMin',\n",
       " 'density_cub',\n",
       " 'etopo1',\n",
       " 'etopo1:Acs',\n",
       " 'etopo1:AugMaxT',\n",
       " 'etopo1:AugTmax',\n",
       " 'etopo1:AugTmean',\n",
       " 'etopo1:Jan20',\n",
       " 'etopo1:JanMin',\n",
       " 'etopo1:JanTmin',\n",
       " 'etopo1:Mar20',\n",
       " 'etopo1:MarMin',\n",
       " 'etopo1:MarTmin',\n",
       " 'etopo1:OctMin',\n",
       " 'etopo1:OctTmin',\n",
       " 'etopo1:OptTsum',\n",
       " 'etopo1:PMarAug',\n",
       " 'etopo1:POctSep',\n",
       " 'etopo1:PPT',\n",
       " 'etopo1:PcumOctSep',\n",
       " 'etopo1:Pmean',\n",
       " 'etopo1:TMarAug',\n",
       " 'etopo1:TOctSep',\n",
       " 'etopo1:Tmean',\n",
       " 'etopo1:Tmin',\n",
       " 'etopo1:Tvar',\n",
       " 'etopo1:cwd',\n",
       " 'etopo1:ddAugJul',\n",
       " 'etopo1:ddAugJun',\n",
       " 'etopo1:fallTmean',\n",
       " 'etopo1:max.drop',\n",
       " 'etopo1:maxT',\n",
       " 'etopo1:mi',\n",
       " 'etopo1:minT',\n",
       " 'etopo1:sum9_diff',\n",
       " 'etopo1:summerP0',\n",
       " 'etopo1:summerP1',\n",
       " 'etopo1:summerP2',\n",
       " 'etopo1:summerTmean',\n",
       " 'etopo1:vpd',\n",
       " 'etopo1:wd',\n",
       " 'etopo1:winterMin',\n",
       " 'etopo1_sq',\n",
       " 'fallTmean',\n",
       " 'lat',\n",
       " 'lat:Acs',\n",
       " 'lat:AugMaxT',\n",
       " 'lat:AugTmax',\n",
       " 'lat:AugTmean',\n",
       " 'lat:Jan20',\n",
       " 'lat:JanMin',\n",
       " 'lat:JanTmin',\n",
       " 'lat:Mar20',\n",
       " 'lat:MarMin',\n",
       " 'lat:MarTmin',\n",
       " 'lat:OctMin',\n",
       " 'lat:OctTmin',\n",
       " 'lat:OptTsum',\n",
       " 'lat:PMarAug',\n",
       " 'lat:POctSep',\n",
       " 'lat:PPT',\n",
       " 'lat:PcumOctSep',\n",
       " 'lat:Pmean',\n",
       " 'lat:TMarAug',\n",
       " 'lat:TOctSep',\n",
       " 'lat:Tmean',\n",
       " 'lat:Tmin',\n",
       " 'lat:Tvar',\n",
       " 'lat:cwd',\n",
       " 'lat:ddAugJul',\n",
       " 'lat:ddAugJun',\n",
       " 'lat:fallTmean',\n",
       " 'lat:max.drop',\n",
       " 'lat:maxT',\n",
       " 'lat:mi',\n",
       " 'lat:minT',\n",
       " 'lat:sum9_diff',\n",
       " 'lat:summerP0',\n",
       " 'lat:summerP1',\n",
       " 'lat:summerP2',\n",
       " 'lat:summerTmean',\n",
       " 'lat:vpd',\n",
       " 'lat:wd',\n",
       " 'lat:winterMin',\n",
       " 'lat_cub',\n",
       " 'lat_sq',\n",
       " 'lon',\n",
       " 'lon:Acs',\n",
       " 'lon:AugMaxT',\n",
       " 'lon:AugTmax',\n",
       " 'lon:AugTmean',\n",
       " 'lon:Jan20',\n",
       " 'lon:JanMin',\n",
       " 'lon:JanTmin',\n",
       " 'lon:Mar20',\n",
       " 'lon:MarMin',\n",
       " 'lon:MarTmin',\n",
       " 'lon:OctMin',\n",
       " 'lon:OctTmin',\n",
       " 'lon:OptTsum',\n",
       " 'lon:PMarAug',\n",
       " 'lon:POctSep',\n",
       " 'lon:PPT',\n",
       " 'lon:PcumOctSep',\n",
       " 'lon:Pmean',\n",
       " 'lon:TMarAug',\n",
       " 'lon:TOctSep',\n",
       " 'lon:Tmean',\n",
       " 'lon:Tmin',\n",
       " 'lon:Tvar',\n",
       " 'lon:cwd',\n",
       " 'lon:ddAugJul',\n",
       " 'lon:ddAugJun',\n",
       " 'lon:fallTmean',\n",
       " 'lon:lat:etopo1',\n",
       " 'lon:max.drop',\n",
       " 'lon:maxT',\n",
       " 'lon:mi',\n",
       " 'lon:minT',\n",
       " 'lon:sum9_diff',\n",
       " 'lon:summerP0',\n",
       " 'lon:summerP1',\n",
       " 'lon:summerP2',\n",
       " 'lon:summerTmean',\n",
       " 'lon:vpd',\n",
       " 'lon:wd',\n",
       " 'lon:winterMin',\n",
       " 'lon_cub',\n",
       " 'max.drop',\n",
       " 'maxT',\n",
       " 'mi',\n",
       " 'minT',\n",
       " 'sum9_diff',\n",
       " 'sum9_diff_cub',\n",
       " 'sum9_diff_sq',\n",
       " 'sum9_t1',\n",
       " 'sum9_t1:sum9_t2',\n",
       " 'sum9_t2',\n",
       " 'summerP0',\n",
       " 'summerP1',\n",
       " 'summerP2',\n",
       " 'summerTmean',\n",
       " 'vgt',\n",
       " 'vpd',\n",
       " 'wd',\n",
       " 'winterMin',\n",
       " 'x',\n",
       " 'y',\n",
       " 'year']"
      ]
     },
     "execution_count": 6,
     "metadata": {},
     "output_type": "execute_result"
    }
   ],
   "source": [
    "for var in ['x', 'y', 'year']:\n",
    "    test_vars.append(var)\n",
    "test_vars"
   ]
  },
  {
   "cell_type": "code",
   "execution_count": 8,
   "metadata": {
    "collapsed": false
   },
   "outputs": [
    {
     "name": "stdout",
     "output_type": "stream",
     "text": [
      "Train:\n",
      " X: (776354, 219)\n",
      " y: (776354, 1)\n",
      "Valid:\n",
      " X: (97189, 219)\n",
      " y: (97189, 1)\n",
      "Test:\n",
      " X: (97665, 219)\n",
      " y: (97665, 1)\n"
     ]
    },
    {
     "data": {
      "text/html": [
       "<div>\n",
       "<style scoped>\n",
       "    .dataframe tbody tr th:only-of-type {\n",
       "        vertical-align: middle;\n",
       "    }\n",
       "\n",
       "    .dataframe tbody tr th {\n",
       "        vertical-align: top;\n",
       "    }\n",
       "\n",
       "    .dataframe thead th {\n",
       "        text-align: right;\n",
       "    }\n",
       "</style>\n",
       "<table border=\"1\" class=\"dataframe\">\n",
       "  <thead>\n",
       "    <tr style=\"text-align: right;\">\n",
       "      <th></th>\n",
       "      <th>Acs</th>\n",
       "      <th>AugMaxT</th>\n",
       "      <th>AugTmax</th>\n",
       "      <th>AugTmean</th>\n",
       "      <th>Jan20</th>\n",
       "      <th>JanMin</th>\n",
       "      <th>JanTmin</th>\n",
       "      <th>Mar20</th>\n",
       "      <th>MarMin</th>\n",
       "      <th>MarTmin</th>\n",
       "      <th>...</th>\n",
       "      <th>summerP1</th>\n",
       "      <th>summerP2</th>\n",
       "      <th>summerTmean</th>\n",
       "      <th>vgt</th>\n",
       "      <th>vpd</th>\n",
       "      <th>wd</th>\n",
       "      <th>winterMin</th>\n",
       "      <th>x</th>\n",
       "      <th>y</th>\n",
       "      <th>year</th>\n",
       "    </tr>\n",
       "  </thead>\n",
       "  <tbody>\n",
       "    <tr>\n",
       "      <th>0</th>\n",
       "      <td>0.0</td>\n",
       "      <td>38.752094</td>\n",
       "      <td>36.091501</td>\n",
       "      <td>27.502499</td>\n",
       "      <td>0</td>\n",
       "      <td>-7.478265</td>\n",
       "      <td>-0.805385</td>\n",
       "      <td>0</td>\n",
       "      <td>-5.356053</td>\n",
       "      <td>4.376215</td>\n",
       "      <td>...</td>\n",
       "      <td>117.425140</td>\n",
       "      <td>260.620229</td>\n",
       "      <td>26.963603</td>\n",
       "      <td>0</td>\n",
       "      <td>366937.690852</td>\n",
       "      <td>11.790140</td>\n",
       "      <td>-8.064639</td>\n",
       "      <td>-450000.0</td>\n",
       "      <td>-2040000.0</td>\n",
       "      <td>2015</td>\n",
       "    </tr>\n",
       "    <tr>\n",
       "      <th>1</th>\n",
       "      <td>0.0</td>\n",
       "      <td>36.743772</td>\n",
       "      <td>33.994497</td>\n",
       "      <td>25.295415</td>\n",
       "      <td>0</td>\n",
       "      <td>-7.273205</td>\n",
       "      <td>-2.191895</td>\n",
       "      <td>0</td>\n",
       "      <td>-5.843041</td>\n",
       "      <td>2.200347</td>\n",
       "      <td>...</td>\n",
       "      <td>145.925704</td>\n",
       "      <td>318.327508</td>\n",
       "      <td>24.755350</td>\n",
       "      <td>0</td>\n",
       "      <td>320657.267566</td>\n",
       "      <td>48.674129</td>\n",
       "      <td>-8.693665</td>\n",
       "      <td>-440000.0</td>\n",
       "      <td>-2040000.0</td>\n",
       "      <td>2015</td>\n",
       "    </tr>\n",
       "    <tr>\n",
       "      <th>2</th>\n",
       "      <td>0.0</td>\n",
       "      <td>37.632520</td>\n",
       "      <td>35.397027</td>\n",
       "      <td>26.787834</td>\n",
       "      <td>0</td>\n",
       "      <td>-7.500000</td>\n",
       "      <td>-1.377182</td>\n",
       "      <td>0</td>\n",
       "      <td>-5.443481</td>\n",
       "      <td>3.525477</td>\n",
       "      <td>...</td>\n",
       "      <td>126.445372</td>\n",
       "      <td>280.075993</td>\n",
       "      <td>26.213616</td>\n",
       "      <td>0</td>\n",
       "      <td>334804.068208</td>\n",
       "      <td>60.135742</td>\n",
       "      <td>-8.585368</td>\n",
       "      <td>-430000.0</td>\n",
       "      <td>-2040000.0</td>\n",
       "      <td>2015</td>\n",
       "    </tr>\n",
       "    <tr>\n",
       "      <th>3</th>\n",
       "      <td>0.0</td>\n",
       "      <td>38.558851</td>\n",
       "      <td>35.949109</td>\n",
       "      <td>27.379772</td>\n",
       "      <td>0</td>\n",
       "      <td>-7.500000</td>\n",
       "      <td>-1.161289</td>\n",
       "      <td>0</td>\n",
       "      <td>-5.006946</td>\n",
       "      <td>4.101569</td>\n",
       "      <td>...</td>\n",
       "      <td>115.983417</td>\n",
       "      <td>259.864216</td>\n",
       "      <td>26.805074</td>\n",
       "      <td>0</td>\n",
       "      <td>350649.461883</td>\n",
       "      <td>57.758161</td>\n",
       "      <td>-8.490052</td>\n",
       "      <td>-420000.0</td>\n",
       "      <td>-2040000.0</td>\n",
       "      <td>2015</td>\n",
       "    </tr>\n",
       "    <tr>\n",
       "      <th>4</th>\n",
       "      <td>0.0</td>\n",
       "      <td>39.136888</td>\n",
       "      <td>36.350756</td>\n",
       "      <td>27.771246</td>\n",
       "      <td>0</td>\n",
       "      <td>-7.501845</td>\n",
       "      <td>-0.944256</td>\n",
       "      <td>0</td>\n",
       "      <td>-5.000000</td>\n",
       "      <td>4.428590</td>\n",
       "      <td>...</td>\n",
       "      <td>107.539114</td>\n",
       "      <td>243.690708</td>\n",
       "      <td>27.196394</td>\n",
       "      <td>0</td>\n",
       "      <td>360183.639481</td>\n",
       "      <td>63.650985</td>\n",
       "      <td>-8.365362</td>\n",
       "      <td>-410000.0</td>\n",
       "      <td>-2040000.0</td>\n",
       "      <td>2015</td>\n",
       "    </tr>\n",
       "  </tbody>\n",
       "</table>\n",
       "<p>5 rows × 219 columns</p>\n",
       "</div>"
      ],
      "text/plain": [
       "   Acs    AugMaxT    AugTmax   AugTmean  Jan20    JanMin   JanTmin  Mar20  \\\n",
       "0  0.0  38.752094  36.091501  27.502499      0 -7.478265 -0.805385      0   \n",
       "1  0.0  36.743772  33.994497  25.295415      0 -7.273205 -2.191895      0   \n",
       "2  0.0  37.632520  35.397027  26.787834      0 -7.500000 -1.377182      0   \n",
       "3  0.0  38.558851  35.949109  27.379772      0 -7.500000 -1.161289      0   \n",
       "4  0.0  39.136888  36.350756  27.771246      0 -7.501845 -0.944256      0   \n",
       "\n",
       "     MarMin   MarTmin  ...     summerP1    summerP2  summerTmean  vgt  \\\n",
       "0 -5.356053  4.376215  ...   117.425140  260.620229    26.963603    0   \n",
       "1 -5.843041  2.200347  ...   145.925704  318.327508    24.755350    0   \n",
       "2 -5.443481  3.525477  ...   126.445372  280.075993    26.213616    0   \n",
       "3 -5.006946  4.101569  ...   115.983417  259.864216    26.805074    0   \n",
       "4 -5.000000  4.428590  ...   107.539114  243.690708    27.196394    0   \n",
       "\n",
       "             vpd         wd  winterMin         x          y  year  \n",
       "0  366937.690852  11.790140  -8.064639 -450000.0 -2040000.0  2015  \n",
       "1  320657.267566  48.674129  -8.693665 -440000.0 -2040000.0  2015  \n",
       "2  334804.068208  60.135742  -8.585368 -430000.0 -2040000.0  2015  \n",
       "3  350649.461883  57.758161  -8.490052 -420000.0 -2040000.0  2015  \n",
       "4  360183.639481  63.650985  -8.365362 -410000.0 -2040000.0  2015  \n",
       "\n",
       "[5 rows x 219 columns]"
      ]
     },
     "execution_count": 8,
     "metadata": {},
     "output_type": "execute_result"
    }
   ],
   "source": [
    "data_sets = matrix_constructor.select_variables(test_vars)\n",
    "[[X_train, y_train], [X_valid, y_valid], [X_test, y_test]] = data_sets\n",
    "for (data_set, name) in zip(data_sets, ['Train', 'Valid', 'Test']):\n",
    "    print_dims(data_set, name)\n",
    "    \n",
    "X_train.head()"
   ]
  },
  {
   "cell_type": "code",
   "execution_count": 9,
   "metadata": {
    "collapsed": false
   },
   "outputs": [
    {
     "data": {
      "text/plain": [
       "(-140000.0, 1540000.0)"
      ]
     },
     "execution_count": 9,
     "metadata": {},
     "output_type": "execute_result"
    }
   ],
   "source": [
    "max(X_test.x), max(X_test.y)"
   ]
  },
  {
   "cell_type": "code",
   "execution_count": 10,
   "metadata": {
    "collapsed": false
   },
   "outputs": [
    {
     "name": "stdout",
     "output_type": "stream",
     "text": [
      "matrix shape: (195, 357)\n"
     ]
    }
   ],
   "source": [
    "density_matrix_train = util.column2matrix(\n",
    "    X_train.loc[X_train.year == 2009, :], 'density')"
   ]
  },
  {
   "cell_type": "code",
   "execution_count": 11,
   "metadata": {
    "collapsed": false
   },
   "outputs": [
    {
     "name": "stdout",
     "output_type": "stream",
     "text": [
      "matrix shape: (192, 355)\n"
     ]
    }
   ],
   "source": [
    "density_matrix_valid = util.column2matrix(\n",
    "    X_valid.loc[X_valid.year == 2009, :], 'density')"
   ]
  },
  {
   "cell_type": "code",
   "execution_count": 12,
   "metadata": {
    "collapsed": false
   },
   "outputs": [
    {
     "name": "stdout",
     "output_type": "stream",
     "text": [
      "matrix shape: (196, 350)\n"
     ]
    }
   ],
   "source": [
    "density_matrix_test  = util.column2matrix(\n",
    "    X_test.loc[X_test.year   == 2009, :], 'density')"
   ]
  },
  {
   "cell_type": "code",
   "execution_count": 13,
   "metadata": {
    "collapsed": false
   },
   "outputs": [
    {
     "data": {
      "image/png": "[encoded data removed]",
      "text/plain": [
       "<Figure size 720x576 with 3 Axes>"
      ]
     },
     "metadata": {},
     "output_type": "display_data"
    }
   ],
   "source": [
    "plt.figure(figsize=(10,8))\n",
    "plt.subplot(1, 3, 1);\n",
    "imshow(np.rot90(density_matrix_train));\n",
    "plt.subplot(1, 3, 2);\n",
    "imshow(np.rot90(density_matrix_valid));\n",
    "plt.subplot(1, 3, 3);\n",
    "imshow(np.rot90(density_matrix_test));"
   ]
  },
  {
   "cell_type": "code",
   "execution_count": 14,
   "metadata": {
    "collapsed": false
   },
   "outputs": [
    {
     "name": "stdout",
     "output_type": "stream",
     "text": [
      "matrix shape: (195, 357)\n",
      "matrix shape: (192, 355)\n",
      "matrix shape: (196, 350)\n"
     ]
    }
   ],
   "source": [
    "btl_matrix_train = util.column2matrix(\n",
    "    X_train.loc[X_train.year == 2009, :], 'btl_t1')\n",
    "btl_matrix_valid = util.column2matrix(\n",
    "    X_valid.loc[X_valid.year == 2009, :], 'btl_t1')\n",
    "btl_matrix_test  = util.column2matrix(\n",
    "    X_test.loc[X_test.year   == 2009, :], 'btl_t1')"
   ]
  },
  {
   "cell_type": "code",
   "execution_count": 15,
   "metadata": {
    "collapsed": false
   },
   "outputs": [
    {
     "data": {
      "image/png": "[encoded data removed]",
      "text/plain": [
       "<Figure size 432x288 with 3 Axes>"
      ]
     },
     "metadata": {},
     "output_type": "display_data"
    }
   ],
   "source": [
    "plt.subplot(1, 3, 1);\n",
    "imshow(np.rot90(btl_matrix_train));\n",
    "plt.title('Training Set');\n",
    "plt.subplot(1, 3, 2);\n",
    "imshow(np.rot90(btl_matrix_valid));\n",
    "plt.title('Validation Set');\n",
    "plt.subplot(1, 3, 3);\n",
    "imshow(np.rot90(btl_matrix_test));\n",
    "plt.title('Test Set');"
   ]
  },
  {
   "cell_type": "code",
   "execution_count": 16,
   "metadata": {
    "collapsed": false
   },
   "outputs": [
    {
     "name": "stdout",
     "output_type": "stream",
     "text": [
      "Percent presence in y_train: 12.99%\n",
      "Percent presence in y_valid: 13.99%\n",
      "Percent presence in y_test: 12.65%\n"
     ]
    }
   ],
   "source": [
    "util.print_percent_presence(y_train, 'y_train')\n",
    "util.print_percent_presence(y_valid, 'y_valid')\n",
    "util.print_percent_presence(y_test, 'y_test')"
   ]
  },
  {
   "cell_type": "code",
   "execution_count": 17,
   "metadata": {
    "collapsed": false
   },
   "outputs": [
    {
     "name": "stdout",
     "output_type": "stream",
     "text": [
      "Baseline accuracy if predicting \"absent\" for all cells:\n",
      "  train: 87.01\n",
      "  valid: 86.01\n",
      "  test:  87.35\n"
     ]
    }
   ],
   "source": [
    "print('Baseline accuracy if predicting \"absent\" for all cells:')\n",
    "print('  train:', 100 - 12.99)\n",
    "print('  valid:', 100 - 13.99)\n",
    "print('  test: ', 100 - 12.65)"
   ]
  },
  {
   "cell_type": "code",
   "execution_count": 18,
   "metadata": {
    "collapsed": false
   },
   "outputs": [],
   "source": [
    "y_train.columns=['btl_t']\n",
    "y_valid.columns=['btl_t']\n",
    "y_test.columns=['btl_t']"
   ]
  },
  {
   "cell_type": "code",
   "execution_count": 19,
   "metadata": {
    "collapsed": false
   },
   "outputs": [],
   "source": [
    "full_train = X_train.copy()\n",
    "full_valid = X_valid.copy()\n",
    "full_test = X_test.copy()\n",
    "\n",
    "full_train['btl_t'] = y_train['btl_t']\n",
    "full_valid['btl_t'] = y_valid['btl_t']\n",
    "full_test['btl_t'] = y_test['btl_t']"
   ]
  },
  {
   "cell_type": "code",
   "execution_count": 20,
   "metadata": {
    "collapsed": false
   },
   "outputs": [],
   "source": [
    "drop = ['x', 'y', 'year']\n",
    "X_train = X_train.drop(drop, axis=1)\n",
    "X_valid = X_valid.drop(drop, axis=1)\n",
    "X_test  = X_test.drop(drop, axis=1)"
   ]
  },
  {
   "cell_type": "code",
   "execution_count": 21,
   "metadata": {
    "collapsed": true
   },
   "outputs": [],
   "source": [
    "predictors = list(X_train)"
   ]
  },
  {
   "cell_type": "code",
   "execution_count": 22,
   "metadata": {
    "collapsed": false
   },
   "outputs": [
    {
     "data": {
      "text/plain": [
       "['Acs',\n",
       " 'AugMaxT',\n",
       " 'AugTmax',\n",
       " 'AugTmean',\n",
       " 'Jan20',\n",
       " 'JanMin',\n",
       " 'JanTmin',\n",
       " 'Mar20',\n",
       " 'MarMin',\n",
       " 'MarTmin',\n",
       " 'OctMin',\n",
       " 'OctTmin',\n",
       " 'OptTsum',\n",
       " 'PMarAug',\n",
       " 'POctSep',\n",
       " 'PPT',\n",
       " 'PcumOctSep',\n",
       " 'Pmean',\n",
       " 'TMarAug',\n",
       " 'TOctSep',\n",
       " 'Tmean',\n",
       " 'Tmin',\n",
       " 'Tvar',\n",
       " 'age',\n",
       " 'age_cub',\n",
       " 'age_sq',\n",
       " 'btl_t1',\n",
       " 'btl_t1:btl_t2',\n",
       " 'btl_t2',\n",
       " 'cwd',\n",
       " 'ddAugJul',\n",
       " 'ddAugJun',\n",
       " 'density',\n",
       " 'density:Acs',\n",
       " 'density:AugMaxT',\n",
       " 'density:AugTmax',\n",
       " 'density:AugTmean',\n",
       " 'density:Jan20',\n",
       " 'density:JanMin',\n",
       " 'density:JanTmin',\n",
       " 'density:Mar20',\n",
       " 'density:MarMin',\n",
       " 'density:MarTmin',\n",
       " 'density:OctMin',\n",
       " 'density:OctTmin',\n",
       " 'density:OptTsum',\n",
       " 'density:PMarAug',\n",
       " 'density:POctSep',\n",
       " 'density:PPT',\n",
       " 'density:PcumOctSep',\n",
       " 'density:Pmean',\n",
       " 'density:TMarAug',\n",
       " 'density:TOctSep',\n",
       " 'density:Tmean',\n",
       " 'density:Tmin',\n",
       " 'density:Tvar',\n",
       " 'density:cwd',\n",
       " 'density:ddAugJul',\n",
       " 'density:ddAugJun',\n",
       " 'density:fallTmean',\n",
       " 'density:max.drop',\n",
       " 'density:maxT',\n",
       " 'density:mi',\n",
       " 'density:minT',\n",
       " 'density:summerP0',\n",
       " 'density:summerP1',\n",
       " 'density:summerP2',\n",
       " 'density:summerTmean',\n",
       " 'density:vpd',\n",
       " 'density:wd',\n",
       " 'density:winterMin',\n",
       " 'density_cub',\n",
       " 'etopo1',\n",
       " 'etopo1:Acs',\n",
       " 'etopo1:AugMaxT',\n",
       " 'etopo1:AugTmax',\n",
       " 'etopo1:AugTmean',\n",
       " 'etopo1:Jan20',\n",
       " 'etopo1:JanMin',\n",
       " 'etopo1:JanTmin',\n",
       " 'etopo1:Mar20',\n",
       " 'etopo1:MarMin',\n",
       " 'etopo1:MarTmin',\n",
       " 'etopo1:OctMin',\n",
       " 'etopo1:OctTmin',\n",
       " 'etopo1:OptTsum',\n",
       " 'etopo1:PMarAug',\n",
       " 'etopo1:POctSep',\n",
       " 'etopo1:PPT',\n",
       " 'etopo1:PcumOctSep',\n",
       " 'etopo1:Pmean',\n",
       " 'etopo1:TMarAug',\n",
       " 'etopo1:TOctSep',\n",
       " 'etopo1:Tmean',\n",
       " 'etopo1:Tmin',\n",
       " 'etopo1:Tvar',\n",
       " 'etopo1:cwd',\n",
       " 'etopo1:ddAugJul',\n",
       " 'etopo1:ddAugJun',\n",
       " 'etopo1:fallTmean',\n",
       " 'etopo1:max.drop',\n",
       " 'etopo1:maxT',\n",
       " 'etopo1:mi',\n",
       " 'etopo1:minT',\n",
       " 'etopo1:sum9_diff',\n",
       " 'etopo1:summerP0',\n",
       " 'etopo1:summerP1',\n",
       " 'etopo1:summerP2',\n",
       " 'etopo1:summerTmean',\n",
       " 'etopo1:vpd',\n",
       " 'etopo1:wd',\n",
       " 'etopo1:winterMin',\n",
       " 'etopo1_sq',\n",
       " 'fallTmean',\n",
       " 'lat',\n",
       " 'lat:Acs',\n",
       " 'lat:AugMaxT',\n",
       " 'lat:AugTmax',\n",
       " 'lat:AugTmean',\n",
       " 'lat:Jan20',\n",
       " 'lat:JanMin',\n",
       " 'lat:JanTmin',\n",
       " 'lat:Mar20',\n",
       " 'lat:MarMin',\n",
       " 'lat:MarTmin',\n",
       " 'lat:OctMin',\n",
       " 'lat:OctTmin',\n",
       " 'lat:OptTsum',\n",
       " 'lat:PMarAug',\n",
       " 'lat:POctSep',\n",
       " 'lat:PPT',\n",
       " 'lat:PcumOctSep',\n",
       " 'lat:Pmean',\n",
       " 'lat:TMarAug',\n",
       " 'lat:TOctSep',\n",
       " 'lat:Tmean',\n",
       " 'lat:Tmin',\n",
       " 'lat:Tvar',\n",
       " 'lat:cwd',\n",
       " 'lat:ddAugJul',\n",
       " 'lat:ddAugJun',\n",
       " 'lat:fallTmean',\n",
       " 'lat:max.drop',\n",
       " 'lat:maxT',\n",
       " 'lat:mi',\n",
       " 'lat:minT',\n",
       " 'lat:sum9_diff',\n",
       " 'lat:summerP0',\n",
       " 'lat:summerP1',\n",
       " 'lat:summerP2',\n",
       " 'lat:summerTmean',\n",
       " 'lat:vpd',\n",
       " 'lat:wd',\n",
       " 'lat:winterMin',\n",
       " 'lat_cub',\n",
       " 'lat_sq',\n",
       " 'lon',\n",
       " 'lon:Acs',\n",
       " 'lon:AugMaxT',\n",
       " 'lon:AugTmax',\n",
       " 'lon:AugTmean',\n",
       " 'lon:Jan20',\n",
       " 'lon:JanMin',\n",
       " 'lon:JanTmin',\n",
       " 'lon:Mar20',\n",
       " 'lon:MarMin',\n",
       " 'lon:MarTmin',\n",
       " 'lon:OctMin',\n",
       " 'lon:OctTmin',\n",
       " 'lon:OptTsum',\n",
       " 'lon:PMarAug',\n",
       " 'lon:POctSep',\n",
       " 'lon:PPT',\n",
       " 'lon:PcumOctSep',\n",
       " 'lon:Pmean',\n",
       " 'lon:TMarAug',\n",
       " 'lon:TOctSep',\n",
       " 'lon:Tmean',\n",
       " 'lon:Tmin',\n",
       " 'lon:Tvar',\n",
       " 'lon:cwd',\n",
       " 'lon:ddAugJul',\n",
       " 'lon:ddAugJun',\n",
       " 'lon:fallTmean',\n",
       " 'lon:lat:etopo1',\n",
       " 'lon:max.drop',\n",
       " 'lon:maxT',\n",
       " 'lon:mi',\n",
       " 'lon:minT',\n",
       " 'lon:sum9_diff',\n",
       " 'lon:summerP0',\n",
       " 'lon:summerP1',\n",
       " 'lon:summerP2',\n",
       " 'lon:summerTmean',\n",
       " 'lon:vpd',\n",
       " 'lon:wd',\n",
       " 'lon:winterMin',\n",
       " 'lon_cub',\n",
       " 'max.drop',\n",
       " 'maxT',\n",
       " 'mi',\n",
       " 'minT',\n",
       " 'sum9_diff',\n",
       " 'sum9_diff_cub',\n",
       " 'sum9_diff_sq',\n",
       " 'sum9_t1',\n",
       " 'sum9_t1:sum9_t2',\n",
       " 'sum9_t2',\n",
       " 'summerP0',\n",
       " 'summerP1',\n",
       " 'summerP2',\n",
       " 'summerTmean',\n",
       " 'vgt',\n",
       " 'vpd',\n",
       " 'wd',\n",
       " 'winterMin']"
      ]
     },
     "execution_count": 22,
     "metadata": {},
     "output_type": "execute_result"
    }
   ],
   "source": [
    "predictors"
   ]
  },
  {
   "cell_type": "code",
   "execution_count": 23,
   "metadata": {
    "collapsed": true
   },
   "outputs": [],
   "source": [
    "def scale_data(X_train, X_valid, X_test):\n",
    "    scaler = StandardScaler()\n",
    "    X_train = scaler.fit_transform(X_train)\n",
    "    X_valid = scaler.transform(X_valid)\n",
    "    X_test  = scaler.transform(X_test)\n",
    "    return X_train, X_valid, X_test"
   ]
  },
  {
   "cell_type": "code",
   "execution_count": 24,
   "metadata": {
    "collapsed": true
   },
   "outputs": [],
   "source": [
    "X_train, X_valid, X_test = scale_data(X_train, X_valid, X_test) "
   ]
  },
  {
   "cell_type": "code",
   "execution_count": 25,
   "metadata": {
    "collapsed": false
   },
   "outputs": [],
   "source": [
    "y_train = y_train['btl_t'].values.reshape(-1)\n",
    "y_valid = y_valid['btl_t'].values.reshape(-1)\n",
    "y_test  = y_test['btl_t'].values.reshape(-1)"
   ]
  },
  {
   "cell_type": "code",
   "execution_count": 26,
   "metadata": {
    "collapsed": false
   },
   "outputs": [
    {
     "name": "stdout",
     "output_type": "stream",
     "text": [
      "Testing C = 0.0001\n",
      "  l1: ['age', 'btl_t1', 'btl_t2', 'density:cwd', 'etopo1:PPT', 'lon:lat:etopo1', 'sum9_diff_sq', 'sum9_t1', 'sum9_t2', 'vgt']\n",
      " Accuracy: 0.9326\n",
      "Elapsed time: 0.53 minutes\n",
      "\n",
      "Testing C = 0.001\n",
      "  l1: ['OctTmin', 'Tvar', 'age', 'age_cub', 'btl_t1', 'btl_t1:btl_t2', 'btl_t2', 'ddAugJul', 'ddAugJun', 'density:OctTmin', 'density:TOctSep', 'density:maxT', 'etopo1:JanMin', 'etopo1:OctMin', 'etopo1:PPT', 'etopo1:summerP1', 'lat:Acs', 'lat:AugMaxT', 'lat:AugTmax', 'lat:Mar20', 'lat:MarMin', 'lat:maxT', 'lat:sum9_diff', 'lat:wd', 'lon', 'lon:lat:etopo1', 'sum9_diff_cub', 'sum9_diff_sq', 'sum9_t1', 'sum9_t1:sum9_t2', 'sum9_t2', 'summerP0', 'summerP2', 'vgt', 'vpd']\n",
      " Accuracy: 0.9348\n",
      "Elapsed time: 3.40 minutes\n",
      "\n",
      "Testing C = 0.01\n",
      "  l1: "
     ]
    },
    {
     "name": "stderr",
     "output_type": "stream",
     "text": [
      "/usr/local/lib/python3.6/site-packages/sklearn/linear_model/sag.py:326: ConvergenceWarning: The max_iter was reached which means the coef_ did not converge\n",
      "  \"the coef_ did not converge\", ConvergenceWarning)\n"
     ]
    },
    {
     "name": "stdout",
     "output_type": "stream",
     "text": [
      "['AugTmax', 'AugTmean', 'MarMin', 'OctMin', 'OctTmin', 'OptTsum', 'Tmean', 'Tvar', 'age', 'age_cub', 'age_sq', 'btl_t1', 'btl_t1:btl_t2', 'btl_t2', 'ddAugJun', 'density:Acs', 'density:AugTmean', 'density:Jan20', 'density:Mar20', 'density:OctMin', 'density:OptTsum', 'density:PPT', 'density:cwd', 'density:max.drop', 'density:summerP1', 'density:vpd', 'density_cub', 'etopo1:Acs', 'etopo1:AugMaxT', 'etopo1:AugTmean', 'etopo1:Jan20', 'etopo1:MarMin', 'etopo1:MarTmin', 'etopo1:OctMin', 'etopo1:OctTmin', 'etopo1:PMarAug', 'etopo1:POctSep', 'etopo1:Pmean', 'etopo1:Tmin', 'etopo1:Tvar', 'etopo1:fallTmean', 'etopo1:max.drop', 'etopo1:maxT', 'etopo1:mi', 'etopo1:minT', 'etopo1:sum9_diff', 'etopo1:summerP0', 'etopo1:summerP1', 'etopo1:summerP2', 'etopo1_sq', 'fallTmean', 'lat:Acs', 'lat:AugMaxT', 'lat:AugTmean', 'lat:Jan20', 'lat:Mar20', 'lat:MarMin', 'lat:OctMin', 'lat:PPT', 'lat:TMarAug', 'lat:TOctSep', 'lat:Tmin', 'lat:mi', 'lat:sum9_diff', 'lat:summerTmean', 'lat:vpd', 'lat:wd', 'lat_cub', 'lon', 'lon:JanMin', 'lon:JanTmin', 'lon:MarTmin', 'lon:PMarAug', 'lon:PPT', 'lon:PcumOctSep', 'lon:Tmean', 'lon:sum9_diff', 'lon:summerP1', 'lon:summerP2', 'lon_cub', 'sum9_diff', 'sum9_diff_cub', 'sum9_diff_sq', 'sum9_t1:sum9_t2', 'sum9_t2', 'summerP1', 'vgt', 'vpd']\n",
      " Accuracy: 0.9358\n",
      "Elapsed time: 8.09 minutes\n",
      "\n",
      "Testing C = 0.1\n",
      "  l1: ['Acs', 'AugMaxT', 'AugTmax', 'AugTmean', 'Jan20', 'JanMin', 'JanTmin', 'Mar20', 'MarMin', 'MarTmin', 'OctMin', 'OctTmin', 'OptTsum', 'PMarAug', 'POctSep', 'PPT', 'PcumOctSep', 'Pmean', 'TMarAug', 'TOctSep', 'Tmean', 'Tmin', 'Tvar', 'age', 'age_cub', 'age_sq', 'btl_t1', 'btl_t1:btl_t2', 'btl_t2', 'cwd', 'ddAugJul', 'ddAugJun', 'density', 'density:Acs', 'density:AugMaxT', 'density:AugTmax', 'density:AugTmean', 'density:Jan20', 'density:JanMin', 'density:JanTmin', 'density:Mar20', 'density:MarMin', 'density:MarTmin', 'density:OctMin', 'density:OctTmin', 'density:OptTsum', 'density:PMarAug', 'density:POctSep', 'density:PPT', 'density:Pmean', 'density:TMarAug', 'density:TOctSep', 'density:Tmean', 'density:Tmin', 'density:Tvar', 'density:cwd', 'density:ddAugJul', 'density:ddAugJun', 'density:fallTmean', 'density:max.drop', 'density:maxT', 'density:mi', 'density:minT', 'density:summerP0', 'density:summerP1', 'density:summerP2', 'density:vpd', 'density:wd', 'density:winterMin', 'density_cub', 'etopo1', 'etopo1:Acs', 'etopo1:AugMaxT', 'etopo1:AugTmax', 'etopo1:AugTmean', 'etopo1:Jan20', 'etopo1:JanMin', 'etopo1:JanTmin', 'etopo1:Mar20', 'etopo1:MarMin', 'etopo1:MarTmin', 'etopo1:OctMin', 'etopo1:OctTmin', 'etopo1:OptTsum', 'etopo1:PMarAug', 'etopo1:POctSep', 'etopo1:PPT', 'etopo1:PcumOctSep', 'etopo1:Pmean', 'etopo1:TMarAug', 'etopo1:TOctSep', 'etopo1:Tmean', 'etopo1:Tmin', 'etopo1:Tvar', 'etopo1:cwd', 'etopo1:ddAugJul', 'etopo1:ddAugJun', 'etopo1:fallTmean', 'etopo1:max.drop', 'etopo1:maxT', 'etopo1:mi', 'etopo1:minT', 'etopo1:sum9_diff', 'etopo1:summerP0', 'etopo1:summerP1', 'etopo1:summerP2', 'etopo1:summerTmean', 'etopo1:vpd', 'etopo1:wd', 'etopo1:winterMin', 'etopo1_sq', 'fallTmean', 'lat', 'lat:Acs', 'lat:AugMaxT', 'lat:AugTmax', 'lat:AugTmean', 'lat:Jan20', 'lat:JanMin', 'lat:JanTmin', 'lat:Mar20', 'lat:MarMin', 'lat:MarTmin', 'lat:OctMin', 'lat:OctTmin', 'lat:OptTsum', 'lat:PMarAug', 'lat:POctSep', 'lat:PPT', 'lat:PcumOctSep', 'lat:Pmean', 'lat:TMarAug', 'lat:TOctSep', 'lat:Tmean', 'lat:Tmin', 'lat:Tvar', 'lat:cwd', 'lat:ddAugJul', 'lat:ddAugJun', 'lat:fallTmean', 'lat:max.drop', 'lat:maxT', 'lat:mi', 'lat:minT', 'lat:sum9_diff', 'lat:summerP0', 'lat:summerP1', 'lat:summerP2', 'lat:summerTmean', 'lat:vpd', 'lat:wd', 'lat:winterMin', 'lat_cub', 'lat_sq', 'lon', 'lon:Acs', 'lon:AugMaxT', 'lon:AugTmax', 'lon:AugTmean', 'lon:Jan20', 'lon:JanMin', 'lon:JanTmin', 'lon:Mar20', 'lon:MarMin', 'lon:MarTmin', 'lon:OctMin', 'lon:OctTmin', 'lon:OptTsum', 'lon:PMarAug', 'lon:POctSep', 'lon:PPT', 'lon:PcumOctSep', 'lon:Pmean', 'lon:TMarAug', 'lon:TOctSep', 'lon:Tmean', 'lon:Tmin', 'lon:Tvar', 'lon:cwd', 'lon:ddAugJul', 'lon:ddAugJun', 'lon:fallTmean', 'lon:lat:etopo1', 'lon:max.drop', 'lon:maxT', 'lon:mi', 'lon:minT', 'lon:sum9_diff', 'lon:summerP0', 'lon:summerP1', 'lon:summerP2', 'lon:summerTmean', 'lon:vpd', 'lon:wd', 'lon:winterMin', 'lon_cub', 'max.drop', 'maxT', 'mi', 'minT', 'sum9_diff', 'sum9_diff_cub', 'sum9_diff_sq', 'sum9_t1', 'sum9_t1:sum9_t2', 'sum9_t2', 'summerP0', 'summerP1', 'summerP2', 'summerTmean', 'vgt', 'vpd', 'wd', 'winterMin']\n",
      " Accuracy: 0.9362\n",
      "Elapsed time: 13.19 minutes\n",
      "\n",
      "Testing C = 1.0\n",
      "  l1: ['Acs', 'AugMaxT', 'AugTmax', 'AugTmean', 'Jan20', 'JanMin', 'JanTmin', 'Mar20', 'MarMin', 'MarTmin', 'OctMin', 'OctTmin', 'OptTsum', 'PMarAug', 'POctSep', 'PPT', 'PcumOctSep', 'Pmean', 'TMarAug', 'TOctSep', 'Tmean', 'Tmin', 'Tvar', 'age', 'age_cub', 'age_sq', 'btl_t1', 'btl_t1:btl_t2', 'btl_t2', 'cwd', 'ddAugJul', 'ddAugJun', 'density', 'density:Acs', 'density:AugMaxT', 'density:AugTmax', 'density:AugTmean', 'density:Jan20', 'density:JanMin', 'density:JanTmin', 'density:Mar20', 'density:MarMin', 'density:MarTmin', 'density:OctMin', 'density:OctTmin', 'density:OptTsum', 'density:PMarAug', 'density:POctSep', 'density:PPT', 'density:PcumOctSep', 'density:Pmean', 'density:TMarAug', 'density:TOctSep', 'density:Tmean', 'density:Tmin', 'density:Tvar', 'density:cwd', 'density:ddAugJul', 'density:ddAugJun', 'density:fallTmean', 'density:max.drop', 'density:maxT', 'density:mi', 'density:minT', 'density:summerP0', 'density:summerP1', 'density:summerP2', 'density:summerTmean', 'density:vpd', 'density:wd', 'density:winterMin', 'density_cub', 'etopo1', 'etopo1:Acs', 'etopo1:AugMaxT', 'etopo1:AugTmax', 'etopo1:AugTmean', 'etopo1:Jan20', 'etopo1:JanMin', 'etopo1:JanTmin', 'etopo1:Mar20', 'etopo1:MarMin', 'etopo1:MarTmin', 'etopo1:OctMin', 'etopo1:OctTmin', 'etopo1:OptTsum', 'etopo1:PMarAug', 'etopo1:POctSep', 'etopo1:PPT', 'etopo1:PcumOctSep', 'etopo1:Pmean', 'etopo1:TMarAug', 'etopo1:TOctSep', 'etopo1:Tmean', 'etopo1:Tmin', 'etopo1:Tvar', 'etopo1:cwd', 'etopo1:ddAugJul', 'etopo1:ddAugJun', 'etopo1:fallTmean', 'etopo1:max.drop', 'etopo1:maxT', 'etopo1:mi', 'etopo1:minT', 'etopo1:sum9_diff', 'etopo1:summerP0', 'etopo1:summerP1', 'etopo1:summerP2', 'etopo1:summerTmean', 'etopo1:vpd', 'etopo1:wd', 'etopo1:winterMin', 'etopo1_sq', 'fallTmean', 'lat', 'lat:Acs', 'lat:AugMaxT', 'lat:AugTmax', 'lat:AugTmean', 'lat:Jan20', 'lat:JanMin', 'lat:JanTmin', 'lat:Mar20', 'lat:MarMin', 'lat:MarTmin', 'lat:OctMin', 'lat:OctTmin', 'lat:OptTsum', 'lat:PMarAug', 'lat:POctSep', 'lat:PPT', 'lat:PcumOctSep', 'lat:Pmean', 'lat:TMarAug', 'lat:TOctSep', 'lat:Tmean', 'lat:Tmin', 'lat:Tvar', 'lat:cwd', 'lat:ddAugJul', 'lat:ddAugJun', 'lat:fallTmean', 'lat:max.drop', 'lat:maxT', 'lat:mi', 'lat:minT', 'lat:sum9_diff', 'lat:summerP0', 'lat:summerP1', 'lat:summerP2', 'lat:summerTmean', 'lat:vpd', 'lat:wd', 'lat:winterMin', 'lat_cub', 'lat_sq', 'lon', 'lon:Acs', 'lon:AugMaxT', 'lon:AugTmax', 'lon:AugTmean', 'lon:Jan20', 'lon:JanMin', 'lon:JanTmin', 'lon:Mar20', 'lon:MarMin', 'lon:MarTmin', 'lon:OctMin', 'lon:OctTmin', 'lon:OptTsum', 'lon:PMarAug', 'lon:POctSep', 'lon:PPT', 'lon:PcumOctSep', 'lon:Pmean', 'lon:TMarAug', 'lon:TOctSep', 'lon:Tmean', 'lon:Tmin', 'lon:Tvar', 'lon:cwd', 'lon:ddAugJul', 'lon:ddAugJun', 'lon:fallTmean', 'lon:lat:etopo1', 'lon:max.drop', 'lon:maxT', 'lon:mi', 'lon:minT', 'lon:sum9_diff', 'lon:summerP0', 'lon:summerP1', 'lon:summerP2', 'lon:summerTmean', 'lon:vpd', 'lon:wd', 'lon:winterMin', 'lon_cub', 'max.drop', 'maxT', 'mi', 'minT', 'sum9_diff', 'sum9_diff_cub', 'sum9_diff_sq', 'sum9_t1', 'sum9_t1:sum9_t2', 'sum9_t2', 'summerP0', 'summerP1', 'summerP2', 'summerTmean', 'vgt', 'vpd', 'wd', 'winterMin']\n",
      " Accuracy: 0.9365\n",
      "Elapsed time: 19.03 minutes\n",
      "\n"
     ]
    }
   ],
   "source": [
    "# Find optimal regularization via best validation-set accuracy\n",
    "l1_mods = []\n",
    "#l2_mods = []\n",
    "Cs = np.logspace(-4, 0, 5)\n",
    "best_C = np.nan\n",
    "best_accuracy = 0\n",
    "t0 = time.time()\n",
    "best_penalty = None\n",
    "\n",
    "for C in Cs:\n",
    "    print('Testing C =', C)\n",
    "    #for penalty in ['l1', 'l2']: #['l1', 'l2']:\n",
    "    penalty='l1'\n",
    "    print('  %s:' % penalty, end=' ')\n",
    "    logistic_clf = LogisticRegression(\n",
    "        C=C, penalty=penalty, solver='saga', n_jobs=-1)\n",
    "    logistic_clf.fit(X_train, y_train)\n",
    "    preds = logistic_clf.predict(X_valid)\n",
    "    accuracy = sum(y_valid == preds) / len(preds)\n",
    "    a = [[pred, coef] for pred, coef in zip(predictors, logistic_clf.coef_[0])]\n",
    "    sig_preds = []\n",
    "    for pred, coef in a:\n",
    "        if abs(coef) > 0:\n",
    "            sig_preds.append(pred)\n",
    "    print(sig_preds)\n",
    "    if (accuracy > best_accuracy):\n",
    "        best_C = C\n",
    "        best_accuaracy = accuracy\n",
    "        best_penalty = penalty\n",
    "    print(' Accuracy:', round(accuracy, 4))\n",
    "    if penalty == 'l1':\n",
    "        l1_mods.append(accuracy)\n",
    "    else:\n",
    "        l2_mods.append(accuracy)\n",
    "    print('Elapsed time: %.2f minutes\\n' % ((time.time() - t0) / 60))"
   ]
  },
  {
   "cell_type": "code",
   "execution_count": 27,
   "metadata": {
    "collapsed": true
   },
   "outputs": [],
   "source": [
    "!say \"I'm done\""
   ]
  },
  {
   "cell_type": "code",
   "execution_count": 28,
   "metadata": {
    "collapsed": false
   },
   "outputs": [
    {
     "data": {
      "image/png": "[encoded data removed]",
      "text/plain": [
       "<Figure size 432x288 with 1 Axes>"
      ]
     },
     "metadata": {},
     "output_type": "display_data"
    }
   ],
   "source": [
    "plt.plot(Cs, l1_mods, label='L1 Reg.');\n",
    "#plt.plot(Cs, l2_mods, label='L2 Reg.');\n",
    "plt.xscale('log');\n",
    "plt.xlabel('C');\n",
    "plt.ylabel('Accuracy');\n",
    "plt.legend(loc='best');"
   ]
  },
  {
   "cell_type": "code",
   "execution_count": 29,
   "metadata": {
    "collapsed": false
   },
   "outputs": [
    {
     "name": "stdout",
     "output_type": "stream",
     "text": [
      "Testing C = 0.03162277660168379\n",
      "  l1: "
     ]
    },
    {
     "name": "stderr",
     "output_type": "stream",
     "text": [
      "/usr/local/lib/python3.6/site-packages/sklearn/linear_model/sag.py:326: ConvergenceWarning: The max_iter was reached which means the coef_ did not converge\n",
      "  \"the coef_ did not converge\", ConvergenceWarning)\n"
     ]
    },
    {
     "name": "stdout",
     "output_type": "stream",
     "text": [
      "0.936\n",
      "Elapsed time: 4.83 minutes\n",
      "  l2: 0.9362\n",
      "Elapsed time: 8.06 minutes\n",
      "Testing C = 0.1\n",
      "  l1: 0.9362\n",
      "Elapsed time: 13.33 minutes\n",
      "  l2: 0.9362\n",
      "Elapsed time: 17.12 minutes\n",
      "Testing C = 0.31622776601683794\n",
      "  l1: 0.9364\n",
      "Elapsed time: 23.29 minutes\n",
      "  l2: 0.9361\n",
      "Elapsed time: 26.68 minutes\n",
      "Testing C = 1.0\n",
      "  l1: 0.9365\n",
      "Elapsed time: 32.18 minutes\n",
      "  l2: 0.9362\n",
      "Elapsed time: 35.67 minutes\n"
     ]
    }
   ],
   "source": [
    "l1_mods = []\n",
    "l2_mods = []\n",
    "Cs = np.logspace(-1.5, 0, 4)\n",
    "\n",
    "t0 = time.time()\n",
    "for C in Cs:\n",
    "    print('Testing C =', C)\n",
    "    for penalty in ['l1', 'l2']:\n",
    "        print('  %s:' % penalty, end=' ')\n",
    "        logistic_clf = LogisticRegression(C=C, penalty=penalty, solver='saga', n_jobs=-1)\n",
    "        logistic_clf.fit(X_train, y_train)\n",
    "        preds = logistic_clf.predict(X_valid)\n",
    "        accuracy = sum(y_valid == preds) / len(preds)\n",
    "        print(round(accuracy, 4))\n",
    "        if penalty == 'l1':\n",
    "            l1_mods.append(accuracy)\n",
    "        else:\n",
    "            l2_mods.append(accuracy)\n",
    "        print('Elapsed time: %.2f minutes' % ((time.time() - t0) / 60))"
   ]
  },
  {
   "cell_type": "code",
   "execution_count": 30,
   "metadata": {
    "collapsed": true
   },
   "outputs": [],
   "source": [
    "!say \"I'm done\""
   ]
  },
  {
   "cell_type": "code",
   "execution_count": 31,
   "metadata": {
    "collapsed": false
   },
   "outputs": [
    {
     "data": {
      "image/png": "[encoded data removed]",
      "text/plain": [
       "<Figure size 432x288 with 1 Axes>"
      ]
     },
     "metadata": {},
     "output_type": "display_data"
    }
   ],
   "source": [
    "plt.plot(Cs, l1_mods, label='L1 Reg.');\n",
    "plt.plot(Cs, l2_mods, label='L2 Reg.');\n",
    "plt.xscale('log');\n",
    "plt.xlabel('C');\n",
    "plt.ylabel('Accuracy');\n",
    "plt.legend(loc='best');"
   ]
  },
  {
   "cell_type": "code",
   "execution_count": 32,
   "metadata": {
    "collapsed": false
   },
   "outputs": [
    {
     "data": {
      "text/plain": [
       "[(0.03162277660168379, 0.9361553262200455),\n",
       " (0.1, 0.9361964831410963),\n",
       " (0.31622776601683794, 0.9361347477595201),\n",
       " (1.0, 0.9361759046805709)]"
      ]
     },
     "execution_count": 32,
     "metadata": {},
     "output_type": "execute_result"
    }
   ],
   "source": [
    "[(c, acc) for c, acc in zip(Cs, l2_mods)]"
   ]
  },
  {
   "cell_type": "code",
   "execution_count": 33,
   "metadata": {
    "collapsed": false
   },
   "outputs": [],
   "source": [
    "best_C = 1"
   ]
  },
  {
   "cell_type": "code",
   "execution_count": 34,
   "metadata": {
    "collapsed": false
   },
   "outputs": [
    {
     "name": "stderr",
     "output_type": "stream",
     "text": [
      "/usr/local/lib/python3.6/site-packages/sklearn/linear_model/sag.py:326: ConvergenceWarning: The max_iter was reached which means the coef_ did not converge\n",
      "  \"the coef_ did not converge\", ConvergenceWarning)\n"
     ]
    },
    {
     "name": "stdout",
     "output_type": "stream",
     "text": [
      "Elapsed time: 5.95 minutes\n",
      "\n",
      "Accuracy: 0.9408692981108893\n"
     ]
    }
   ],
   "source": [
    "t0 = time.time()\n",
    "logistic_clf = LogisticRegression(C=best_C, penalty='l1', solver='saga', n_jobs=-1)\n",
    "logistic_clf.fit(X_train, y_train)\n",
    "preds = logistic_clf.predict(X_test)\n",
    "probs = logistic_clf.predict_proba(X_test)\n",
    "accuracy = sum(y_test == preds) / len(preds)\n",
    "print('Elapsed time: %.2f minutes\\n' % ((time.time() - t0) / 60))\n",
    "print('Accuracy:', accuracy)"
   ]
  },
  {
   "cell_type": "code",
   "execution_count": 36,
   "metadata": {
    "collapsed": true
   },
   "outputs": [],
   "source": [
    "def get_predictions_at_threshold(pred_ps, threshold):\n",
    "    return 1 * (pred_ps >= threshold)\n",
    "\n",
    "def threshold_plot(pred_ps, targets):\n",
    "    thresholds = np.linspace(0, 1, 500)\n",
    "    accuracies = []\n",
    "    n = len(pred_ps)\n",
    "\n",
    "    for threshold in thresholds:\n",
    "        preds = get_predictions_at_threshold(pred_ps, threshold)\n",
    "        accuracies.append((preds == targets).sum() / n)\n",
    "        \n",
    "    plt.plot(thresholds, accuracies);\n",
    "    optimal_threshold = thresholds[np.argmax(accuracies)]\n",
    "    optimal_accuracy = max(accuracies)\n",
    "    plt.plot([optimal_threshold, optimal_threshold], \n",
    "             [min(accuracies), max(accuracies)], \n",
    "             'r')\n",
    "    plt.plot([0, 1], [optimal_accuracy, optimal_accuracy], 'r')\n",
    "    plt.xlabel('Threshold for predicting \"Renewal\"')\n",
    "    plt.ylabel('Accuracy')\n",
    "    plt.show()\n",
    "    return {'threshold': optimal_threshold, 'accuracy': optimal_accuracy}"
   ]
  },
  {
   "cell_type": "code",
   "execution_count": 37,
   "metadata": {
    "collapsed": false
   },
   "outputs": [
    {
     "name": "stdout",
     "output_type": "stream",
     "text": [
      "[[9.99999555e-01 4.45421365e-07]\n",
      " [9.99999640e-01 3.60211364e-07]\n",
      " [9.99999575e-01 4.24554067e-07]\n",
      " [9.99999649e-01 3.50738079e-07]\n",
      " [9.99999604e-01 3.95570718e-07]]\n"
     ]
    },
    {
     "data": {
      "image/png": "[encoded data removed]",
      "text/plain": [
       "<Figure size 432x288 with 1 Axes>"
      ]
     },
     "metadata": {},
     "output_type": "display_data"
    },
    {
     "name": "stdout",
     "output_type": "stream",
     "text": [
      "{'threshold': 0.5911823647294588, 'accuracy': 0.9414119694875339}\n"
     ]
    }
   ],
   "source": [
    "pred_ps = logistic_clf.predict_proba(X_test)\n",
    "print(pred_ps[:5])\n",
    "pred_ps = np.array([p[1] for p in pred_ps])\n",
    "pred_ps[:5]\n",
    "\n",
    "THRESHOLD = 0.5\n",
    "preds = get_predictions_at_threshold(pred_ps, THRESHOLD)\n",
    "preds[:5]\n",
    "\n",
    "best_threshold = threshold_plot(pred_ps, y_test);\n",
    "print(best_threshold)"
   ]
  },
  {
   "cell_type": "code",
   "execution_count": 38,
   "metadata": {
    "collapsed": false
   },
   "outputs": [
    {
     "name": "stdout",
     "output_type": "stream",
     "text": [
      "Confusion Matrix:\n",
      "         Predicted:\n",
      "         \t1\t\t0\n",
      "Actual: 1\t9452\t\t2904\n",
      "        0\t2871\t\t82438\n",
      "Accuracy:  0.9408692981108893\n",
      "Precision: 0.7670210176093484\n",
      "Recall:    0.7649724830042085\n",
      "F1:        0.7659953806880344\n"
     ]
    }
   ],
   "source": [
    "cm = util.make_confusion_matrix(y_test, pred_ps, 0.5)\n",
    "metrics = util.get_metrics(cm)"
   ]
  },
  {
   "cell_type": "code",
   "execution_count": 55,
   "metadata": {
    "collapsed": false
   },
   "outputs": [
    {
     "name": "stdout",
     "output_type": "stream",
     "text": [
      "Confusion Matrix:\n",
      "         Predicted:\n",
      "         \t1\t\t0\n",
      "Actual: 1\t8910\t\t3446\n",
      "        0\t2276\t\t83033\n",
      "Accuracy:  0.9414119694875339\n",
      "Precision: 0.7965313785088504\n",
      "Recall:    0.7211071544189058\n",
      "F1:        0.7569450344065924\n"
     ]
    }
   ],
   "source": [
    "cm = util.make_confusion_matrix(\n",
    "    y_test, pred_ps, best_threshold['threshold'])\n",
    "metrics = util.get_metrics(cm)"
   ]
  },
  {
   "cell_type": "code",
   "execution_count": 40,
   "metadata": {
    "collapsed": false
   },
   "outputs": [
    {
     "name": "stdout",
     "output_type": "stream",
     "text": [
      "AUC:       0.971828644666415\n"
     ]
    }
   ],
   "source": [
    "auc_metrics = util.get_auc(y_test, pred_ps)"
   ]
  },
  {
   "cell_type": "code",
   "execution_count": 41,
   "metadata": {
    "collapsed": false
   },
   "outputs": [
    {
     "data": {
      "image/png": "[encoded data removed]",
      "text/plain": [
       "<Figure size 432x288 with 1 Axes>"
      ]
     },
     "metadata": {},
     "output_type": "display_data"
    }
   ],
   "source": [
    "util.plot_roc(auc_metrics['fpr'], auc_metrics['tpr'])"
   ]
  },
  {
   "cell_type": "code",
   "execution_count": 42,
   "metadata": {
    "collapsed": false
   },
   "outputs": [
    {
     "data": {
      "text/html": [
       "<div>\n",
       "<style scoped>\n",
       "    .dataframe tbody tr th:only-of-type {\n",
       "        vertical-align: middle;\n",
       "    }\n",
       "\n",
       "    .dataframe tbody tr th {\n",
       "        vertical-align: top;\n",
       "    }\n",
       "\n",
       "    .dataframe thead th {\n",
       "        text-align: right;\n",
       "    }\n",
       "</style>\n",
       "<table border=\"1\" class=\"dataframe\">\n",
       "  <thead>\n",
       "    <tr style=\"text-align: right;\">\n",
       "      <th></th>\n",
       "      <th>predictor</th>\n",
       "      <th>coef</th>\n",
       "    </tr>\n",
       "  </thead>\n",
       "  <tbody>\n",
       "    <tr>\n",
       "      <th>212</th>\n",
       "      <td>vgt</td>\n",
       "      <td>3.186026e+00</td>\n",
       "    </tr>\n",
       "    <tr>\n",
       "      <th>53</th>\n",
       "      <td>density:Tmean</td>\n",
       "      <td>-2.133160e+00</td>\n",
       "    </tr>\n",
       "    <tr>\n",
       "      <th>161</th>\n",
       "      <td>lon:Jan20</td>\n",
       "      <td>-1.782529e+00</td>\n",
       "    </tr>\n",
       "    <tr>\n",
       "      <th>154</th>\n",
       "      <td>lat_cub</td>\n",
       "      <td>-1.633743e+00</td>\n",
       "    </tr>\n",
       "    <tr>\n",
       "      <th>202</th>\n",
       "      <td>sum9_diff</td>\n",
       "      <td>-1.624695e+00</td>\n",
       "    </tr>\n",
       "    <tr>\n",
       "      <th>133</th>\n",
       "      <td>lat:TMarAug</td>\n",
       "      <td>1.615265e+00</td>\n",
       "    </tr>\n",
       "    <tr>\n",
       "      <th>10</th>\n",
       "      <td>OctMin</td>\n",
       "      <td>-1.602223e+00</td>\n",
       "    </tr>\n",
       "    <tr>\n",
       "      <th>119</th>\n",
       "      <td>lat:Jan20</td>\n",
       "      <td>-1.454787e+00</td>\n",
       "    </tr>\n",
       "    <tr>\n",
       "      <th>109</th>\n",
       "      <td>etopo1:vpd</td>\n",
       "      <td>-1.431968e+00</td>\n",
       "    </tr>\n",
       "    <tr>\n",
       "      <th>148</th>\n",
       "      <td>lat:summerP1</td>\n",
       "      <td>1.382861e+00</td>\n",
       "    </tr>\n",
       "    <tr>\n",
       "      <th>52</th>\n",
       "      <td>density:TOctSep</td>\n",
       "      <td>1.369693e+00</td>\n",
       "    </tr>\n",
       "    <tr>\n",
       "      <th>122</th>\n",
       "      <td>lat:Mar20</td>\n",
       "      <td>-1.357070e+00</td>\n",
       "    </tr>\n",
       "    <tr>\n",
       "      <th>189</th>\n",
       "      <td>lon:sum9_diff</td>\n",
       "      <td>-1.286806e+00</td>\n",
       "    </tr>\n",
       "    <tr>\n",
       "      <th>157</th>\n",
       "      <td>lon:Acs</td>\n",
       "      <td>-1.235214e+00</td>\n",
       "    </tr>\n",
       "    <tr>\n",
       "      <th>164</th>\n",
       "      <td>lon:Mar20</td>\n",
       "      <td>-1.156709e+00</td>\n",
       "    </tr>\n",
       "    <tr>\n",
       "      <th>207</th>\n",
       "      <td>sum9_t2</td>\n",
       "      <td>1.135412e+00</td>\n",
       "    </tr>\n",
       "    <tr>\n",
       "      <th>149</th>\n",
       "      <td>lat:summerP2</td>\n",
       "      <td>1.134776e+00</td>\n",
       "    </tr>\n",
       "    <tr>\n",
       "      <th>72</th>\n",
       "      <td>etopo1</td>\n",
       "      <td>1.095015e+00</td>\n",
       "    </tr>\n",
       "    <tr>\n",
       "      <th>134</th>\n",
       "      <td>lat:TOctSep</td>\n",
       "      <td>1.086249e+00</td>\n",
       "    </tr>\n",
       "    <tr>\n",
       "      <th>0</th>\n",
       "      <td>Acs</td>\n",
       "      <td>-1.048604e+00</td>\n",
       "    </tr>\n",
       "    <tr>\n",
       "      <th>125</th>\n",
       "      <td>lat:OctMin</td>\n",
       "      <td>1.039448e+00</td>\n",
       "    </tr>\n",
       "    <tr>\n",
       "      <th>51</th>\n",
       "      <td>density:TMarAug</td>\n",
       "      <td>1.017434e+00</td>\n",
       "    </tr>\n",
       "    <tr>\n",
       "      <th>68</th>\n",
       "      <td>density:vpd</td>\n",
       "      <td>1.015779e+00</td>\n",
       "    </tr>\n",
       "    <tr>\n",
       "      <th>191</th>\n",
       "      <td>lon:summerP1</td>\n",
       "      <td>9.755448e-01</td>\n",
       "    </tr>\n",
       "    <tr>\n",
       "      <th>192</th>\n",
       "      <td>lon:summerP2</td>\n",
       "      <td>9.604279e-01</td>\n",
       "    </tr>\n",
       "    <tr>\n",
       "      <th>20</th>\n",
       "      <td>Tmean</td>\n",
       "      <td>-9.572970e-01</td>\n",
       "    </tr>\n",
       "    <tr>\n",
       "      <th>177</th>\n",
       "      <td>lon:Tmean</td>\n",
       "      <td>9.482652e-01</td>\n",
       "    </tr>\n",
       "    <tr>\n",
       "      <th>150</th>\n",
       "      <td>lat:summerTmean</td>\n",
       "      <td>9.019956e-01</td>\n",
       "    </tr>\n",
       "    <tr>\n",
       "      <th>96</th>\n",
       "      <td>etopo1:cwd</td>\n",
       "      <td>9.007504e-01</td>\n",
       "    </tr>\n",
       "    <tr>\n",
       "      <th>92</th>\n",
       "      <td>etopo1:TOctSep</td>\n",
       "      <td>-8.873620e-01</td>\n",
       "    </tr>\n",
       "    <tr>\n",
       "      <th>...</th>\n",
       "      <td>...</td>\n",
       "      <td>...</td>\n",
       "    </tr>\n",
       "    <tr>\n",
       "      <th>121</th>\n",
       "      <td>lat:JanTmin</td>\n",
       "      <td>-7.925664e-02</td>\n",
       "    </tr>\n",
       "    <tr>\n",
       "      <th>213</th>\n",
       "      <td>vpd</td>\n",
       "      <td>-7.292848e-02</td>\n",
       "    </tr>\n",
       "    <tr>\n",
       "      <th>81</th>\n",
       "      <td>etopo1:MarMin</td>\n",
       "      <td>-6.663299e-02</td>\n",
       "    </tr>\n",
       "    <tr>\n",
       "      <th>79</th>\n",
       "      <td>etopo1:JanTmin</td>\n",
       "      <td>6.308628e-02</td>\n",
       "    </tr>\n",
       "    <tr>\n",
       "      <th>61</th>\n",
       "      <td>density:maxT</td>\n",
       "      <td>5.835206e-02</td>\n",
       "    </tr>\n",
       "    <tr>\n",
       "      <th>29</th>\n",
       "      <td>cwd</td>\n",
       "      <td>-5.595089e-02</td>\n",
       "    </tr>\n",
       "    <tr>\n",
       "      <th>44</th>\n",
       "      <td>density:OctTmin</td>\n",
       "      <td>-5.347145e-02</td>\n",
       "    </tr>\n",
       "    <tr>\n",
       "      <th>27</th>\n",
       "      <td>btl_t1:btl_t2</td>\n",
       "      <td>-5.038840e-02</td>\n",
       "    </tr>\n",
       "    <tr>\n",
       "      <th>77</th>\n",
       "      <td>etopo1:Jan20</td>\n",
       "      <td>4.792169e-02</td>\n",
       "    </tr>\n",
       "    <tr>\n",
       "      <th>106</th>\n",
       "      <td>etopo1:summerP1</td>\n",
       "      <td>4.329772e-02</td>\n",
       "    </tr>\n",
       "    <tr>\n",
       "      <th>180</th>\n",
       "      <td>lon:cwd</td>\n",
       "      <td>-4.294203e-02</td>\n",
       "    </tr>\n",
       "    <tr>\n",
       "      <th>111</th>\n",
       "      <td>etopo1:winterMin</td>\n",
       "      <td>4.274759e-02</td>\n",
       "    </tr>\n",
       "    <tr>\n",
       "      <th>107</th>\n",
       "      <td>etopo1:summerP2</td>\n",
       "      <td>-3.875632e-02</td>\n",
       "    </tr>\n",
       "    <tr>\n",
       "      <th>67</th>\n",
       "      <td>density:summerTmean</td>\n",
       "      <td>-3.649640e-02</td>\n",
       "    </tr>\n",
       "    <tr>\n",
       "      <th>204</th>\n",
       "      <td>sum9_diff_sq</td>\n",
       "      <td>-3.644734e-02</td>\n",
       "    </tr>\n",
       "    <tr>\n",
       "      <th>43</th>\n",
       "      <td>density:OctMin</td>\n",
       "      <td>3.618611e-02</td>\n",
       "    </tr>\n",
       "    <tr>\n",
       "      <th>46</th>\n",
       "      <td>density:PMarAug</td>\n",
       "      <td>-2.936301e-02</td>\n",
       "    </tr>\n",
       "    <tr>\n",
       "      <th>135</th>\n",
       "      <td>lat:Tmean</td>\n",
       "      <td>-2.499352e-02</td>\n",
       "    </tr>\n",
       "    <tr>\n",
       "      <th>11</th>\n",
       "      <td>OctTmin</td>\n",
       "      <td>-2.420701e-02</td>\n",
       "    </tr>\n",
       "    <tr>\n",
       "      <th>71</th>\n",
       "      <td>density_cub</td>\n",
       "      <td>-2.320278e-02</td>\n",
       "    </tr>\n",
       "    <tr>\n",
       "      <th>66</th>\n",
       "      <td>density:summerP2</td>\n",
       "      <td>-2.267790e-02</td>\n",
       "    </tr>\n",
       "    <tr>\n",
       "      <th>90</th>\n",
       "      <td>etopo1:Pmean</td>\n",
       "      <td>-2.220388e-02</td>\n",
       "    </tr>\n",
       "    <tr>\n",
       "      <th>116</th>\n",
       "      <td>lat:AugMaxT</td>\n",
       "      <td>-1.694907e-02</td>\n",
       "    </tr>\n",
       "    <tr>\n",
       "      <th>45</th>\n",
       "      <td>density:OptTsum</td>\n",
       "      <td>-1.591132e-02</td>\n",
       "    </tr>\n",
       "    <tr>\n",
       "      <th>65</th>\n",
       "      <td>density:summerP1</td>\n",
       "      <td>1.230187e-02</td>\n",
       "    </tr>\n",
       "    <tr>\n",
       "      <th>33</th>\n",
       "      <td>density:Acs</td>\n",
       "      <td>1.160789e-02</td>\n",
       "    </tr>\n",
       "    <tr>\n",
       "      <th>16</th>\n",
       "      <td>PcumOctSep</td>\n",
       "      <td>-5.790328e-03</td>\n",
       "    </tr>\n",
       "    <tr>\n",
       "      <th>57</th>\n",
       "      <td>density:ddAugJul</td>\n",
       "      <td>8.624591e-06</td>\n",
       "    </tr>\n",
       "    <tr>\n",
       "      <th>41</th>\n",
       "      <td>density:MarMin</td>\n",
       "      <td>2.587264e-06</td>\n",
       "    </tr>\n",
       "    <tr>\n",
       "      <th>172</th>\n",
       "      <td>lon:PPT</td>\n",
       "      <td>-8.730773e-07</td>\n",
       "    </tr>\n",
       "  </tbody>\n",
       "</table>\n",
       "<p>216 rows × 2 columns</p>\n",
       "</div>"
      ],
      "text/plain": [
       "               predictor          coef\n",
       "212                  vgt  3.186026e+00\n",
       "53         density:Tmean -2.133160e+00\n",
       "161            lon:Jan20 -1.782529e+00\n",
       "154              lat_cub -1.633743e+00\n",
       "202            sum9_diff -1.624695e+00\n",
       "133          lat:TMarAug  1.615265e+00\n",
       "10                OctMin -1.602223e+00\n",
       "119            lat:Jan20 -1.454787e+00\n",
       "109           etopo1:vpd -1.431968e+00\n",
       "148         lat:summerP1  1.382861e+00\n",
       "52       density:TOctSep  1.369693e+00\n",
       "122            lat:Mar20 -1.357070e+00\n",
       "189        lon:sum9_diff -1.286806e+00\n",
       "157              lon:Acs -1.235214e+00\n",
       "164            lon:Mar20 -1.156709e+00\n",
       "207              sum9_t2  1.135412e+00\n",
       "149         lat:summerP2  1.134776e+00\n",
       "72                etopo1  1.095015e+00\n",
       "134          lat:TOctSep  1.086249e+00\n",
       "0                    Acs -1.048604e+00\n",
       "125           lat:OctMin  1.039448e+00\n",
       "51       density:TMarAug  1.017434e+00\n",
       "68           density:vpd  1.015779e+00\n",
       "191         lon:summerP1  9.755448e-01\n",
       "192         lon:summerP2  9.604279e-01\n",
       "20                 Tmean -9.572970e-01\n",
       "177            lon:Tmean  9.482652e-01\n",
       "150      lat:summerTmean  9.019956e-01\n",
       "96            etopo1:cwd  9.007504e-01\n",
       "92        etopo1:TOctSep -8.873620e-01\n",
       "..                   ...           ...\n",
       "121          lat:JanTmin -7.925664e-02\n",
       "213                  vpd -7.292848e-02\n",
       "81         etopo1:MarMin -6.663299e-02\n",
       "79        etopo1:JanTmin  6.308628e-02\n",
       "61          density:maxT  5.835206e-02\n",
       "29                   cwd -5.595089e-02\n",
       "44       density:OctTmin -5.347145e-02\n",
       "27         btl_t1:btl_t2 -5.038840e-02\n",
       "77          etopo1:Jan20  4.792169e-02\n",
       "106      etopo1:summerP1  4.329772e-02\n",
       "180              lon:cwd -4.294203e-02\n",
       "111     etopo1:winterMin  4.274759e-02\n",
       "107      etopo1:summerP2 -3.875632e-02\n",
       "67   density:summerTmean -3.649640e-02\n",
       "204         sum9_diff_sq -3.644734e-02\n",
       "43        density:OctMin  3.618611e-02\n",
       "46       density:PMarAug -2.936301e-02\n",
       "135            lat:Tmean -2.499352e-02\n",
       "11               OctTmin -2.420701e-02\n",
       "71           density_cub -2.320278e-02\n",
       "66      density:summerP2 -2.267790e-02\n",
       "90          etopo1:Pmean -2.220388e-02\n",
       "116          lat:AugMaxT -1.694907e-02\n",
       "45       density:OptTsum -1.591132e-02\n",
       "65      density:summerP1  1.230187e-02\n",
       "33           density:Acs  1.160789e-02\n",
       "16            PcumOctSep -5.790328e-03\n",
       "57      density:ddAugJul  8.624591e-06\n",
       "41        density:MarMin  2.587264e-06\n",
       "172              lon:PPT -8.730773e-07\n",
       "\n",
       "[216 rows x 2 columns]"
      ]
     },
     "execution_count": 42,
     "metadata": {},
     "output_type": "execute_result"
    }
   ],
   "source": [
    "coefs = pd.DataFrame(\n",
    "    [[pred, coef] \n",
    "     for pred, coef in zip(predictors, logistic_clf.coef_[0])], \n",
    "    columns=['predictor', 'coef'])\n",
    "coefs['abs'] = np.abs(coefs.coef)\n",
    "coefs = coefs.sort_values('abs', ascending=False)\n",
    "coefs = coefs.drop(['abs'], axis=1)\n",
    "coefs"
   ]
  },
  {
   "cell_type": "code",
   "execution_count": 43,
   "metadata": {
    "collapsed": false
   },
   "outputs": [
    {
     "name": "stdout",
     "output_type": "stream",
     "text": [
      "(776354, 220)\n"
     ]
    }
   ],
   "source": [
    "print(full_train.shape)\n",
    "#type(pred_ps_train)"
   ]
  },
  {
   "cell_type": "code",
   "execution_count": 44,
   "metadata": {
    "collapsed": false
   },
   "outputs": [
    {
     "data": {
      "text/plain": [
       "array([[9.99999468e-01, 5.31543587e-07],\n",
       "       [9.99998882e-01, 1.11810202e-06],\n",
       "       [9.99999084e-01, 9.15922628e-07],\n",
       "       ...,\n",
       "       [9.99939390e-01, 6.06098057e-05],\n",
       "       [9.99958524e-01, 4.14764700e-05],\n",
       "       [9.99958046e-01, 4.19537717e-05]])"
      ]
     },
     "execution_count": 44,
     "metadata": {},
     "output_type": "execute_result"
    }
   ],
   "source": [
    "logistic_clf.predict_proba(X_train)"
   ]
  },
  {
   "cell_type": "code",
   "execution_count": 45,
   "metadata": {
    "collapsed": false
   },
   "outputs": [],
   "source": [
    "pred_ps_train = logistic_clf.predict_proba(X_train)\n",
    "pred_ps_train = np.array([p[1] for p in pred_ps_train])\n",
    "\n",
    "pred_ps_valid = logistic_clf.predict_proba(X_valid)\n",
    "pred_ps_valid = np.array([p[1] for p in pred_ps_valid])\n",
    "\n",
    "full_train['probs'] = pred_ps_train\n",
    "full_train['preds'] = get_predictions_at_threshold(\n",
    "    pred_ps_train, best_threshold['threshold'])\n",
    "\n",
    "\n",
    "full_valid['probs'] = pred_ps_valid\n",
    "full_valid['preds'] = get_predictions_at_threshold(\n",
    "    pred_ps_valid, best_threshold['threshold'])"
   ]
  },
  {
   "cell_type": "code",
   "execution_count": 46,
   "metadata": {
    "collapsed": false
   },
   "outputs": [
    {
     "data": {
      "text/html": [
       "<div>\n",
       "<style scoped>\n",
       "    .dataframe tbody tr th:only-of-type {\n",
       "        vertical-align: middle;\n",
       "    }\n",
       "\n",
       "    .dataframe tbody tr th {\n",
       "        vertical-align: top;\n",
       "    }\n",
       "\n",
       "    .dataframe thead th {\n",
       "        text-align: right;\n",
       "    }\n",
       "</style>\n",
       "<table border=\"1\" class=\"dataframe\">\n",
       "  <thead>\n",
       "    <tr style=\"text-align: right;\">\n",
       "      <th></th>\n",
       "      <th>Acs</th>\n",
       "      <th>AugMaxT</th>\n",
       "      <th>AugTmax</th>\n",
       "      <th>AugTmean</th>\n",
       "      <th>Jan20</th>\n",
       "      <th>JanMin</th>\n",
       "      <th>JanTmin</th>\n",
       "      <th>Mar20</th>\n",
       "      <th>MarMin</th>\n",
       "      <th>MarTmin</th>\n",
       "      <th>...</th>\n",
       "      <th>vgt</th>\n",
       "      <th>vpd</th>\n",
       "      <th>wd</th>\n",
       "      <th>winterMin</th>\n",
       "      <th>x</th>\n",
       "      <th>y</th>\n",
       "      <th>year</th>\n",
       "      <th>btl_t</th>\n",
       "      <th>probs</th>\n",
       "      <th>preds</th>\n",
       "    </tr>\n",
       "  </thead>\n",
       "  <tbody>\n",
       "    <tr>\n",
       "      <th>0</th>\n",
       "      <td>0.0</td>\n",
       "      <td>40.320885</td>\n",
       "      <td>37.172668</td>\n",
       "      <td>28.542564</td>\n",
       "      <td>0</td>\n",
       "      <td>-7.754573</td>\n",
       "      <td>-0.617069</td>\n",
       "      <td>0</td>\n",
       "      <td>-4.906324</td>\n",
       "      <td>4.892391</td>\n",
       "      <td>...</td>\n",
       "      <td>0</td>\n",
       "      <td>387627.763293</td>\n",
       "      <td>-7.549322</td>\n",
       "      <td>-8.055787</td>\n",
       "      <td>-390000.0</td>\n",
       "      <td>-2040000.0</td>\n",
       "      <td>2015</td>\n",
       "      <td>0</td>\n",
       "      <td>4.454214e-07</td>\n",
       "      <td>0</td>\n",
       "    </tr>\n",
       "    <tr>\n",
       "      <th>1</th>\n",
       "      <td>0.0</td>\n",
       "      <td>40.502707</td>\n",
       "      <td>37.358329</td>\n",
       "      <td>28.728538</td>\n",
       "      <td>0</td>\n",
       "      <td>-7.831432</td>\n",
       "      <td>-0.501957</td>\n",
       "      <td>0</td>\n",
       "      <td>-4.817822</td>\n",
       "      <td>5.149851</td>\n",
       "      <td>...</td>\n",
       "      <td>0</td>\n",
       "      <td>403269.338114</td>\n",
       "      <td>-43.963725</td>\n",
       "      <td>-7.897553</td>\n",
       "      <td>-380000.0</td>\n",
       "      <td>-2040000.0</td>\n",
       "      <td>2015</td>\n",
       "      <td>0</td>\n",
       "      <td>3.602114e-07</td>\n",
       "      <td>0</td>\n",
       "    </tr>\n",
       "    <tr>\n",
       "      <th>2</th>\n",
       "      <td>0.0</td>\n",
       "      <td>40.605501</td>\n",
       "      <td>37.344373</td>\n",
       "      <td>28.714929</td>\n",
       "      <td>0</td>\n",
       "      <td>-7.490612</td>\n",
       "      <td>-0.537551</td>\n",
       "      <td>0</td>\n",
       "      <td>-4.754256</td>\n",
       "      <td>5.106586</td>\n",
       "      <td>...</td>\n",
       "      <td>0</td>\n",
       "      <td>404661.530622</td>\n",
       "      <td>-36.603203</td>\n",
       "      <td>-7.796747</td>\n",
       "      <td>-370000.0</td>\n",
       "      <td>-2040000.0</td>\n",
       "      <td>2015</td>\n",
       "      <td>0</td>\n",
       "      <td>4.245541e-07</td>\n",
       "      <td>0</td>\n",
       "    </tr>\n",
       "    <tr>\n",
       "      <th>3</th>\n",
       "      <td>0.0</td>\n",
       "      <td>40.957636</td>\n",
       "      <td>37.679187</td>\n",
       "      <td>29.100471</td>\n",
       "      <td>0</td>\n",
       "      <td>-7.406106</td>\n",
       "      <td>-0.424526</td>\n",
       "      <td>0</td>\n",
       "      <td>-4.492903</td>\n",
       "      <td>5.414470</td>\n",
       "      <td>...</td>\n",
       "      <td>0</td>\n",
       "      <td>411001.699888</td>\n",
       "      <td>-48.166563</td>\n",
       "      <td>-7.568926</td>\n",
       "      <td>-360000.0</td>\n",
       "      <td>-2040000.0</td>\n",
       "      <td>2015</td>\n",
       "      <td>0</td>\n",
       "      <td>3.507381e-07</td>\n",
       "      <td>0</td>\n",
       "    </tr>\n",
       "    <tr>\n",
       "      <th>4</th>\n",
       "      <td>0.0</td>\n",
       "      <td>41.064250</td>\n",
       "      <td>37.894372</td>\n",
       "      <td>29.370663</td>\n",
       "      <td>0</td>\n",
       "      <td>-7.449937</td>\n",
       "      <td>-0.320193</td>\n",
       "      <td>0</td>\n",
       "      <td>-4.192837</td>\n",
       "      <td>5.694320</td>\n",
       "      <td>...</td>\n",
       "      <td>0</td>\n",
       "      <td>419928.640474</td>\n",
       "      <td>-80.172106</td>\n",
       "      <td>-7.449937</td>\n",
       "      <td>-350000.0</td>\n",
       "      <td>-2040000.0</td>\n",
       "      <td>2015</td>\n",
       "      <td>0</td>\n",
       "      <td>3.955707e-07</td>\n",
       "      <td>0</td>\n",
       "    </tr>\n",
       "  </tbody>\n",
       "</table>\n",
       "<p>5 rows × 222 columns</p>\n",
       "</div>"
      ],
      "text/plain": [
       "   Acs    AugMaxT    AugTmax   AugTmean  Jan20    JanMin   JanTmin  Mar20  \\\n",
       "0  0.0  40.320885  37.172668  28.542564      0 -7.754573 -0.617069      0   \n",
       "1  0.0  40.502707  37.358329  28.728538      0 -7.831432 -0.501957      0   \n",
       "2  0.0  40.605501  37.344373  28.714929      0 -7.490612 -0.537551      0   \n",
       "3  0.0  40.957636  37.679187  29.100471      0 -7.406106 -0.424526      0   \n",
       "4  0.0  41.064250  37.894372  29.370663      0 -7.449937 -0.320193      0   \n",
       "\n",
       "     MarMin   MarTmin  ...    vgt            vpd         wd  winterMin  \\\n",
       "0 -4.906324  4.892391  ...      0  387627.763293  -7.549322  -8.055787   \n",
       "1 -4.817822  5.149851  ...      0  403269.338114 -43.963725  -7.897553   \n",
       "2 -4.754256  5.106586  ...      0  404661.530622 -36.603203  -7.796747   \n",
       "3 -4.492903  5.414470  ...      0  411001.699888 -48.166563  -7.568926   \n",
       "4 -4.192837  5.694320  ...      0  419928.640474 -80.172106  -7.449937   \n",
       "\n",
       "          x          y  year  btl_t         probs  preds  \n",
       "0 -390000.0 -2040000.0  2015      0  4.454214e-07      0  \n",
       "1 -380000.0 -2040000.0  2015      0  3.602114e-07      0  \n",
       "2 -370000.0 -2040000.0  2015      0  4.245541e-07      0  \n",
       "3 -360000.0 -2040000.0  2015      0  3.507381e-07      0  \n",
       "4 -350000.0 -2040000.0  2015      0  3.955707e-07      0  \n",
       "\n",
       "[5 rows x 222 columns]"
      ]
     },
     "execution_count": 46,
     "metadata": {},
     "output_type": "execute_result"
    }
   ],
   "source": [
    "full_test['probs'] = pred_ps\n",
    "full_test['preds'] = get_predictions_at_threshold(\n",
    "    pred_ps, best_threshold['threshold'])\n",
    "full_test.head()"
   ]
  },
  {
   "cell_type": "code",
   "execution_count": 47,
   "metadata": {
    "collapsed": true
   },
   "outputs": [],
   "source": [
    "def pred_plot(actual_matrix, pred_matrix, error_matrix, year):\n",
    "    plt.subplot(131)\n",
    "    imshow(np.rot90(actual_matrix));\n",
    "    plt.title('%d Actual' % year);\n",
    "    plt.subplot(132)\n",
    "    imshow(np.rot90(pred_matrix));\n",
    "    plt.title('%d Predicted' % year);\n",
    "    plt.subplot(133)\n",
    "    imshow(np.rot90(error_matrix));\n",
    "    plt.title('%d Error' % year);"
   ]
  },
  {
   "cell_type": "code",
   "execution_count": 48,
   "metadata": {
    "collapsed": true
   },
   "outputs": [],
   "source": [
    "def make_actual_pred_and_error_matrices(\n",
    "    data, year, pred_type='preds', plot=False):\n",
    "    data_year = data.loc[data.year == year, :]\n",
    "    actual_matrix = util.column2matrix(data_year, 'btl_t')\n",
    "    pred_matrix   = util.column2matrix(data_year, pred_type)\n",
    "    error_matrix  = pred_matrix - actual_matrix\n",
    "    if plot:\n",
    "        pred_plot(actual_matrix, pred_matrix, error_matrix, year)        \n",
    "    return actual_matrix, pred_matrix, error_matrix"
   ]
  },
  {
   "cell_type": "code",
   "execution_count": 49,
   "metadata": {
    "collapsed": false
   },
   "outputs": [
    {
     "name": "stdout",
     "output_type": "stream",
     "text": [
      "matrix shape: (196, 359)\n",
      "matrix shape: (196, 359)\n",
      "matrix shape: (195, 357)\n",
      "matrix shape: (195, 357)\n"
     ]
    },
    {
     "data": {
      "image/png": "[encoded data removed]",
      "text/plain": [
       "<Figure size 432x288 with 3 Axes>"
      ]
     },
     "metadata": {},
     "output_type": "display_data"
    },
    {
     "data": {
      "image/png": "[encoded data removed]",
      "text/plain": [
       "<Figure size 432x288 with 3 Axes>"
      ]
     },
     "metadata": {},
     "output_type": "display_data"
    }
   ],
   "source": [
    "years = [2003, 2009]\n",
    "for year in years:\n",
    "    plt.figure();\n",
    "    make_actual_pred_and_error_matrices(full_train, year, plot=True)"
   ]
  },
  {
   "cell_type": "code",
   "execution_count": 50,
   "metadata": {
    "collapsed": false
   },
   "outputs": [
    {
     "name": "stdout",
     "output_type": "stream",
     "text": [
      "matrix shape: (196, 351)\n",
      "matrix shape: (196, 351)\n",
      "matrix shape: (192, 355)\n",
      "matrix shape: (192, 355)\n"
     ]
    },
    {
     "data": {
      "image/png": "[encoded data removed]",
      "text/plain": [
       "<Figure size 432x288 with 3 Axes>"
      ]
     },
     "metadata": {},
     "output_type": "display_data"
    },
    {
     "data": {
      "image/png": "[encoded data removed]",
      "text/plain": [
       "<Figure size 432x288 with 3 Axes>"
      ]
     },
     "metadata": {},
     "output_type": "display_data"
    }
   ],
   "source": [
    "for year in years:\n",
    "    plt.figure();\n",
    "    make_actual_pred_and_error_matrices(full_valid, year, plot=True)"
   ]
  },
  {
   "cell_type": "code",
   "execution_count": 51,
   "metadata": {
    "collapsed": false
   },
   "outputs": [
    {
     "name": "stdout",
     "output_type": "stream",
     "text": [
      "matrix shape: (184, 346)\n",
      "matrix shape: (184, 346)\n",
      "matrix shape: (196, 350)\n",
      "matrix shape: (196, 350)\n"
     ]
    },
    {
     "data": {
      "image/png": "[encoded data removed]",
      "text/plain": [
       "<Figure size 432x288 with 3 Axes>"
      ]
     },
     "metadata": {},
     "output_type": "display_data"
    },
    {
     "data": {
      "image/png": "[encoded data removed]",
      "text/plain": [
       "<Figure size 432x288 with 3 Axes>"
      ]
     },
     "metadata": {},
     "output_type": "display_data"
    }
   ],
   "source": [
    "for year in years:\n",
    "    plt.figure();\n",
    "    make_actual_pred_and_error_matrices(full_test, year, plot=True)"
   ]
  },
  {
   "cell_type": "code",
   "execution_count": 52,
   "metadata": {
    "collapsed": true
   },
   "outputs": [],
   "source": [
    "all_data = full_train.append(full_valid).append(full_test)\n",
    "all_data.index = range(all_data.shape[0])"
   ]
  },
  {
   "cell_type": "code",
   "execution_count": 53,
   "metadata": {
    "collapsed": false
   },
   "outputs": [
    {
     "name": "stdout",
     "output_type": "stream",
     "text": [
      "matrix shape: (196, 359)\n",
      "matrix shape: (196, 359)\n",
      "matrix shape: (196, 359)\n",
      "matrix shape: (196, 359)\n"
     ]
    },
    {
     "data": {
      "image/png": "[encoded data removed]",
      "text/plain": [
       "<Figure size 432x288 with 3 Axes>"
      ]
     },
     "metadata": {},
     "output_type": "display_data"
    },
    {
     "data": {
      "image/png": "[encoded data removed]",
      "text/plain": [
       "<Figure size 432x288 with 3 Axes>"
      ]
     },
     "metadata": {},
     "output_type": "display_data"
    }
   ],
   "source": [
    "for year in years:\n",
    "    plt.figure();\n",
    "    make_actual_pred_and_error_matrices(\n",
    "        all_data, year, pred_type='probs', plot=True)"
   ]
  },
  {
   "cell_type": "code",
   "execution_count": 54,
   "metadata": {
    "collapsed": true
   },
   "outputs": [],
   "source": [
    "!say \"I'm done\""
   ]
  },
  {
   "cell_type": "code",
   "execution_count": null,
   "metadata": {
    "collapsed": true
   },
   "outputs": [],
   "source": []
  }
 ],
 "metadata": {
  "kernelspec": {
   "display_name": "Python 3",
   "language": "python",
   "name": "python3"
  },
  "language_info": {
   "codemirror_mode": {
    "name": "ipython",
    "version": 3
   },
   "file_extension": ".py",
   "mimetype": "text/x-python",
   "name": "python",
   "nbconvert_exporter": "python",
   "pygments_lexer": "ipython3",
   "version": "3.6.2"
  }
 },
 "nbformat": 4,
 "nbformat_minor": 0
}
