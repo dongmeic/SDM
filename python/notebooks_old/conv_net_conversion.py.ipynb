{
 "cells": [
  {
   "cell_type": "code",
   "execution_count": 10,
   "metadata": {
    "collapsed": true
   },
   "outputs": [],
   "source": [
    "import bz2\n",
    "import matplotlib.pyplot as plt\n",
    "import numpy as np\n",
    "import pandas as pd\n",
    "import sys\n",
    "import pickle\n",
    "from pylab import *\n",
    "from sklearn.preprocessing import StandardScaler\n",
    "\n",
    "sys.path.append('../models')\n",
    "import model_utils as util\n",
    "\n",
    "%matplotlib inline\n",
    "plt.rcParams['figure.figsize'] = 10, 8\n",
    "plt.style.use('ggplot')"
   ]
  },
  {
   "cell_type": "code",
   "execution_count": 2,
   "metadata": {
    "collapsed": true
   },
   "outputs": [],
   "source": [
    "DATA_PATH = '../../data/cluster/year/'"
   ]
  },
  {
   "cell_type": "code",
   "execution_count": 3,
   "metadata": {
    "collapsed": false
   },
   "outputs": [
    {
     "name": "stdout",
     "output_type": "stream",
     "text": [
      "X_train: (529623, 24)\n",
      "X_valid: (176541, 24)\n",
      "X_test: (176541, 24)\n",
      "y_train: (529623, 1)\n",
      "y_valid: (176541, 1)\n",
      "y_test: (176541, 1)\n"
     ]
    }
   ],
   "source": [
    "[[X_train, y_train], \n",
    " [X_valid, y_valid], \n",
    " [X_test, y_test]] = util.load_data(DATA_PATH)"
   ]
  },
  {
   "cell_type": "code",
   "execution_count": 4,
   "metadata": {
    "collapsed": true
   },
   "outputs": [],
   "source": [
    "def column2matrix(dataframe, column, year, cell_dim=10000):\n",
    "    '''                                                                          \n",
    "    Convert a column from DataFrame df into a matrix representation with the     \n",
    "    upper-left cell indexing beginning at [0, 0].                                \n",
    "    It is expected that the DataFrame has columns x and y.                       \n",
    "                                                                                 \n",
    "    Args:                                                                        \n",
    "    df: DataFrame: the source data                                               \n",
    "    column: string: the column name to extract                                   \n",
    "    cel_dim: numeric: the dimensions of each grid cell                           \n",
    "                                                                                 \n",
    "    Returns: np.ndarray (a 2D list; matrix)                                      \n",
    "    '''\n",
    "    df = dataframe.copy()\n",
    "    df = df.loc[df.year == year, :]\n",
    "    x_min = df.x.min()\n",
    "    y_min = df.y.min()\n",
    "    df.x -= x_min\n",
    "    df.y -= y_min\n",
    "    xs = sorted(df.x.unique())\n",
    "    ys = sorted(df.y.unique())\n",
    "    matrix = np.array([[np.nan for y in range(len(ys))]\n",
    "                       for x in range(len(xs))])\n",
    "\n",
    "    for row in df.index:\n",
    "        x, y, value = df.loc[row, ['x', 'y', column]]\n",
    "        i = int((x - xs[0]) / cell_dim)\n",
    "        j = int((y - ys[0]) / cell_dim)\n",
    "        matrix[i, j] = value\n",
    "\n",
    "    return matrix"
   ]
  },
  {
   "cell_type": "code",
   "execution_count": 18,
   "metadata": {
    "collapsed": true
   },
   "outputs": [],
   "source": [
    "def df2tensor(dataframe, columns, year, cell_dim=10000, verbose=True):\n",
    "    matrices = []\n",
    "    for col in columns:\n",
    "        if verbose: print('Getting matrix for %s...' % col, end='\\r')\n",
    "        matrices.append(column2matrix(dataframe, col, year, cell_dim))\n",
    "    \n",
    "    tensor = np.stack(matrices, axis=2)\n",
    "    if verbose: print('Data returned as tensor of shape:', tensor.shape)\n",
    "    return tensor"
   ]
  },
  {
   "cell_type": "code",
   "execution_count": 6,
   "metadata": {
    "collapsed": false
   },
   "outputs": [
    {
     "data": {
      "text/plain": [
       "array([2006, 2007, 2008, 2009, 2010, 2011, 2012, 2013, 2014])"
      ]
     },
     "execution_count": 6,
     "metadata": {},
     "output_type": "execute_result"
    }
   ],
   "source": [
    "X_train.year.unique()"
   ]
  },
  {
   "cell_type": "code",
   "execution_count": 22,
   "metadata": {
    "collapsed": false
   },
   "outputs": [
    {
     "data": {
      "text/plain": [
       "array([2000, 2001, 2002])"
      ]
     },
     "execution_count": 22,
     "metadata": {},
     "output_type": "execute_result"
    }
   ],
   "source": [
    "X_test.year.unique()"
   ]
  },
  {
   "cell_type": "code",
   "execution_count": 7,
   "metadata": {
    "collapsed": false
   },
   "outputs": [
    {
     "name": "stdout",
     "output_type": "stream",
     "text": [
      "(526849, 24) (526849, 1)\n",
      "(176146, 24) (176146, 1)\n",
      "(175416, 24) (175416, 1)\n"
     ]
    }
   ],
   "source": [
    "X_train, y_train = util.drop_nans(\n",
    "    X_train, y_train, 'varPrecip_growingSeason')\n",
    "X_valid, y_valid = util.drop_nans(\n",
    "    X_valid, y_valid, 'varPrecip_growingSeason')\n",
    "X_test,  y_test  = util.drop_nans(\n",
    "    X_test,  y_test,  'varPrecip_growingSeason')"
   ]
  },
  {
   "cell_type": "code",
   "execution_count": 8,
   "metadata": {
    "collapsed": false
   },
   "outputs": [
    {
     "data": {
      "text/plain": [
       "['meanTemp_Annual',\n",
       " 'meanTemp_AprAug',\n",
       " 'meanTemp_Aug',\n",
       " 'meanMinTemp_DecFeb',\n",
       " 'meanMinTemp_Oct',\n",
       " 'meanMinTemp_Jan',\n",
       " 'meanMinTemp_Mar',\n",
       " 'meanMaxTemp_Aug',\n",
       " 'precip_meanAnnual',\n",
       " 'precip_JunAug',\n",
       " 'vegetation',\n",
       " 'precipPrevious_JunAug',\n",
       " 'precip_OctSep',\n",
       " 'precipPrevious_OctSep',\n",
       " 'precip_growingSeason',\n",
       " 'varPrecip_growingSeason',\n",
       " 'elev_etopo1',\n",
       " 'lat',\n",
       " 'lon']"
      ]
     },
     "execution_count": 8,
     "metadata": {},
     "output_type": "execute_result"
    }
   ],
   "source": [
    "ignore = ['year', 'studyArea', 'elev_srtm30', 'x', 'y']\n",
    "fields = [col for col in list(X_test) if col not in ignore]\n",
    "fields"
   ]
  },
  {
   "cell_type": "code",
   "execution_count": 9,
   "metadata": {
    "collapsed": false
   },
   "outputs": [
    {
     "name": "stdout",
     "output_type": "stream",
     "text": [
      "Getting matrix for meanTemp_Annual...\n",
      "Getting matrix for meanTemp_AprAug...\n",
      "Getting matrix for meanTemp_Aug...\n",
      "Getting matrix for meanMinTemp_DecFeb...\n",
      "Getting matrix for meanMinTemp_Oct...\n",
      "Getting matrix for meanMinTemp_Jan...\n",
      "Getting matrix for meanMinTemp_Mar...\n",
      "Getting matrix for meanMaxTemp_Aug...\n",
      "Getting matrix for precip_meanAnnual...\n",
      "Getting matrix for precip_JunAug...\n",
      "Getting matrix for vegetation...\n",
      "Getting matrix for precipPrevious_JunAug...\n",
      "Getting matrix for precip_OctSep...\n",
      "Getting matrix for precipPrevious_OctSep...\n",
      "Getting matrix for precip_growingSeason...\n",
      "Getting matrix for varPrecip_growingSeason...\n",
      "Getting matrix for elev_etopo1...\n",
      "Getting matrix for lat...\n",
      "Getting matrix for lon...\n",
      "Data returned as tensor of shape: (188, 353, 19)\n"
     ]
    }
   ],
   "source": [
    "tensor2006 = df2tensor(X_train, fields, 2006)"
   ]
  },
  {
   "cell_type": "code",
   "execution_count": 11,
   "metadata": {
    "collapsed": true
   },
   "outputs": [],
   "source": [
    "pickle.dump(tensor2006, bz2.open(DATA_PATH + 'tensor2006.pkl.bz2',  'wb'))"
   ]
  },
  {
   "cell_type": "code",
   "execution_count": 21,
   "metadata": {
    "collapsed": true
   },
   "outputs": [],
   "source": [
    "def make_and_save_tensor(X, columns, year):\n",
    "    print('\\nMaking tensor for %d' % year)\n",
    "    tensor = df2tensor(X, columns, year)\n",
    "    path = DATA_PATH + 'tensor%d.pkl.bz2' % year\n",
    "    print('Saving tensor to %s...' % path)\n",
    "    pickle.dump(tensor, bz2.open(path, 'wb'))"
   ]
  },
  {
   "cell_type": "code",
   "execution_count": 20,
   "metadata": {
    "collapsed": false
   },
   "outputs": [
    {
     "name": "stdout",
     "output_type": "stream",
     "text": [
      "Making tensor for 2007\n",
      "Data returned as tensor of shape: (188, 353, 19)\n",
      "Saving tensor to ../../data/cluster/year/tensor2007.pkl.bz2...\n",
      "Making tensor for 2008\n",
      "Data returned as tensor of shape: (188, 353, 19)\n",
      "Saving tensor to ../../data/cluster/year/tensor2008.pkl.bz2...\n",
      "Making tensor for 2009\n",
      "Data returned as tensor of shape: (188, 353, 19)\n",
      "Saving tensor to ../../data/cluster/year/tensor2009.pkl.bz2...\n",
      "Making tensor for 2010\n",
      "Data returned as tensor of shape: (188, 353, 19)\n",
      "Saving tensor to ../../data/cluster/year/tensor2010.pkl.bz2...\n",
      "Making tensor for 2011\n",
      "Data returned as tensor of shape: (188, 353, 19)\n",
      "Saving tensor to ../../data/cluster/year/tensor2011.pkl.bz2...\n",
      "Making tensor for 2012\n",
      "Data returned as tensor of shape: (188, 353, 19)\n",
      "Saving tensor to ../../data/cluster/year/tensor2012.pkl.bz2...\n",
      "Making tensor for 2013\n",
      "Data returned as tensor of shape: (188, 353, 19)\n",
      "Saving tensor to ../../data/cluster/year/tensor2013.pkl.bz2...\n",
      "Making tensor for 2014\n",
      "Data returned as tensor of shape: (188, 353, 19)\n",
      "Saving tensor to ../../data/cluster/year/tensor2014.pkl.bz2...\n"
     ]
    }
   ],
   "source": [
    "for i in range(2007, 2015):\n",
    "    make_and_save_tensor(X_train, fields, i)"
   ]
  },
  {
   "cell_type": "code",
   "execution_count": 23,
   "metadata": {
    "collapsed": false
   },
   "outputs": [
    {
     "name": "stdout",
     "output_type": "stream",
     "text": [
      "\n",
      "Making tensor for 2000\n",
      "Data returned as tensor of shape: (188, 353, 19)\n",
      "Saving tensor to ../../data/cluster/year/tensor2000.pkl.bz2...\n",
      "\n",
      "Making tensor for 2001\n",
      "Data returned as tensor of shape: (188, 353, 19)\n",
      "Saving tensor to ../../data/cluster/year/tensor2001.pkl.bz2...\n",
      "\n",
      "Making tensor for 2002\n",
      "Data returned as tensor of shape: (188, 353, 19)\n",
      "Saving tensor to ../../data/cluster/year/tensor2002.pkl.bz2...\n"
     ]
    }
   ],
   "source": [
    "for i in range(2000, 2003):\n",
    "    make_and_save_tensor(X_test, fields, i)"
   ]
  },
  {
   "cell_type": "code",
   "execution_count": 25,
   "metadata": {
    "collapsed": false
   },
   "outputs": [
    {
     "name": "stdout",
     "output_type": "stream",
     "text": [
      "\n",
      "Making tensor for 2003\n",
      "Data returned as tensor of shape: (188, 353, 19)\n",
      "Saving tensor to ../../data/cluster/year/tensor2003.pkl.bz2...\n",
      "\n",
      "Making tensor for 2004\n",
      "Data returned as tensor of shape: (188, 353, 19)\n",
      "Saving tensor to ../../data/cluster/year/tensor2004.pkl.bz2...\n",
      "\n",
      "Making tensor for 2005\n",
      "Data returned as tensor of shape: (188, 353, 19)\n",
      "Saving tensor to ../../data/cluster/year/tensor2005.pkl.bz2...\n"
     ]
    }
   ],
   "source": [
    "for i in range(2003, 2006):\n",
    "    make_and_save_tensor(X_valid, fields, i)"
   ]
  },
  {
   "cell_type": "code",
   "execution_count": 27,
   "metadata": {
    "collapsed": false
   },
   "outputs": [
    {
     "data": {
      "text/html": [
       "<div>\n",
       "<style>\n",
       "    .dataframe thead tr:only-child th {\n",
       "        text-align: right;\n",
       "    }\n",
       "\n",
       "    .dataframe thead th {\n",
       "        text-align: left;\n",
       "    }\n",
       "\n",
       "    .dataframe tbody tr th {\n",
       "        vertical-align: top;\n",
       "    }\n",
       "</style>\n",
       "<table border=\"1\" class=\"dataframe\">\n",
       "  <thead>\n",
       "    <tr style=\"text-align: right;\">\n",
       "      <th></th>\n",
       "      <th>year</th>\n",
       "      <th>meanTemp_Annual</th>\n",
       "      <th>meanTemp_AprAug</th>\n",
       "      <th>meanTemp_Aug</th>\n",
       "      <th>meanMinTemp_DecFeb</th>\n",
       "      <th>meanMinTemp_Oct</th>\n",
       "      <th>meanMinTemp_Jan</th>\n",
       "      <th>meanMinTemp_Mar</th>\n",
       "      <th>meanMaxTemp_Aug</th>\n",
       "      <th>precip_meanAnnual</th>\n",
       "      <th>...</th>\n",
       "      <th>precipPrevious_OctSep</th>\n",
       "      <th>precip_growingSeason</th>\n",
       "      <th>varPrecip_growingSeason</th>\n",
       "      <th>elev_etopo1</th>\n",
       "      <th>lat</th>\n",
       "      <th>lon</th>\n",
       "      <th>studyArea</th>\n",
       "      <th>elev_srtm30</th>\n",
       "      <th>x</th>\n",
       "      <th>y</th>\n",
       "    </tr>\n",
       "  </thead>\n",
       "  <tbody>\n",
       "    <tr>\n",
       "      <th>0</th>\n",
       "      <td>2006</td>\n",
       "      <td>17.251705</td>\n",
       "      <td>19.647845</td>\n",
       "      <td>21.807999</td>\n",
       "      <td>4.604394</td>\n",
       "      <td>11.127329</td>\n",
       "      <td>4.604394</td>\n",
       "      <td>8.358201</td>\n",
       "      <td>27.275771</td>\n",
       "      <td>4.635004</td>\n",
       "      <td>...</td>\n",
       "      <td>290.426157</td>\n",
       "      <td>11.500203</td>\n",
       "      <td>1.249081</td>\n",
       "      <td>52</td>\n",
       "      <td>30.505152</td>\n",
       "      <td>-116.039726</td>\n",
       "      <td>1</td>\n",
       "      <td>-2</td>\n",
       "      <td>-1550000.0</td>\n",
       "      <td>-2000000.0</td>\n",
       "    </tr>\n",
       "    <tr>\n",
       "      <th>1</th>\n",
       "      <td>2006</td>\n",
       "      <td>17.446967</td>\n",
       "      <td>19.862450</td>\n",
       "      <td>22.002983</td>\n",
       "      <td>4.718982</td>\n",
       "      <td>11.336773</td>\n",
       "      <td>4.718982</td>\n",
       "      <td>8.567711</td>\n",
       "      <td>27.460011</td>\n",
       "      <td>3.939659</td>\n",
       "      <td>...</td>\n",
       "      <td>283.217356</td>\n",
       "      <td>10.452660</td>\n",
       "      <td>1.184982</td>\n",
       "      <td>17</td>\n",
       "      <td>30.523203</td>\n",
       "      <td>-115.938118</td>\n",
       "      <td>1</td>\n",
       "      <td>17</td>\n",
       "      <td>-1540000.0</td>\n",
       "      <td>-2000000.0</td>\n",
       "    </tr>\n",
       "    <tr>\n",
       "      <th>2</th>\n",
       "      <td>2006</td>\n",
       "      <td>17.867521</td>\n",
       "      <td>20.496888</td>\n",
       "      <td>22.795315</td>\n",
       "      <td>4.534699</td>\n",
       "      <td>11.345691</td>\n",
       "      <td>4.534699</td>\n",
       "      <td>8.526669</td>\n",
       "      <td>28.691884</td>\n",
       "      <td>3.512120</td>\n",
       "      <td>...</td>\n",
       "      <td>277.213012</td>\n",
       "      <td>9.418130</td>\n",
       "      <td>1.108097</td>\n",
       "      <td>151</td>\n",
       "      <td>30.541141</td>\n",
       "      <td>-115.836475</td>\n",
       "      <td>1</td>\n",
       "      <td>74</td>\n",
       "      <td>-1530000.0</td>\n",
       "      <td>-2000000.0</td>\n",
       "    </tr>\n",
       "    <tr>\n",
       "      <th>3</th>\n",
       "      <td>2006</td>\n",
       "      <td>16.746943</td>\n",
       "      <td>19.610817</td>\n",
       "      <td>22.287428</td>\n",
       "      <td>3.149939</td>\n",
       "      <td>9.802370</td>\n",
       "      <td>3.149939</td>\n",
       "      <td>6.784473</td>\n",
       "      <td>28.823934</td>\n",
       "      <td>6.970161</td>\n",
       "      <td>...</td>\n",
       "      <td>336.306701</td>\n",
       "      <td>19.425486</td>\n",
       "      <td>0.755323</td>\n",
       "      <td>500</td>\n",
       "      <td>30.558965</td>\n",
       "      <td>-115.734797</td>\n",
       "      <td>1</td>\n",
       "      <td>466</td>\n",
       "      <td>-1520000.0</td>\n",
       "      <td>-2000000.0</td>\n",
       "    </tr>\n",
       "    <tr>\n",
       "      <th>4</th>\n",
       "      <td>2006</td>\n",
       "      <td>16.961347</td>\n",
       "      <td>20.062736</td>\n",
       "      <td>22.893044</td>\n",
       "      <td>2.756497</td>\n",
       "      <td>9.699859</td>\n",
       "      <td>2.756497</td>\n",
       "      <td>6.589031</td>\n",
       "      <td>29.870252</td>\n",
       "      <td>6.902797</td>\n",
       "      <td>...</td>\n",
       "      <td>331.925355</td>\n",
       "      <td>18.605662</td>\n",
       "      <td>0.681859</td>\n",
       "      <td>564</td>\n",
       "      <td>30.576676</td>\n",
       "      <td>-115.633085</td>\n",
       "      <td>1</td>\n",
       "      <td>568</td>\n",
       "      <td>-1510000.0</td>\n",
       "      <td>-2000000.0</td>\n",
       "    </tr>\n",
       "  </tbody>\n",
       "</table>\n",
       "<p>5 rows × 24 columns</p>\n",
       "</div>"
      ],
      "text/plain": [
       "   year  meanTemp_Annual  meanTemp_AprAug  meanTemp_Aug  meanMinTemp_DecFeb  \\\n",
       "0  2006        17.251705        19.647845     21.807999            4.604394   \n",
       "1  2006        17.446967        19.862450     22.002983            4.718982   \n",
       "2  2006        17.867521        20.496888     22.795315            4.534699   \n",
       "3  2006        16.746943        19.610817     22.287428            3.149939   \n",
       "4  2006        16.961347        20.062736     22.893044            2.756497   \n",
       "\n",
       "   meanMinTemp_Oct  meanMinTemp_Jan  meanMinTemp_Mar  meanMaxTemp_Aug  \\\n",
       "0        11.127329         4.604394         8.358201        27.275771   \n",
       "1        11.336773         4.718982         8.567711        27.460011   \n",
       "2        11.345691         4.534699         8.526669        28.691884   \n",
       "3         9.802370         3.149939         6.784473        28.823934   \n",
       "4         9.699859         2.756497         6.589031        29.870252   \n",
       "\n",
       "   precip_meanAnnual    ...      precipPrevious_OctSep  precip_growingSeason  \\\n",
       "0           4.635004    ...                 290.426157             11.500203   \n",
       "1           3.939659    ...                 283.217356             10.452660   \n",
       "2           3.512120    ...                 277.213012              9.418130   \n",
       "3           6.970161    ...                 336.306701             19.425486   \n",
       "4           6.902797    ...                 331.925355             18.605662   \n",
       "\n",
       "   varPrecip_growingSeason  elev_etopo1        lat         lon  studyArea  \\\n",
       "0                 1.249081           52  30.505152 -116.039726          1   \n",
       "1                 1.184982           17  30.523203 -115.938118          1   \n",
       "2                 1.108097          151  30.541141 -115.836475          1   \n",
       "3                 0.755323          500  30.558965 -115.734797          1   \n",
       "4                 0.681859          564  30.576676 -115.633085          1   \n",
       "\n",
       "   elev_srtm30          x          y  \n",
       "0           -2 -1550000.0 -2000000.0  \n",
       "1           17 -1540000.0 -2000000.0  \n",
       "2           74 -1530000.0 -2000000.0  \n",
       "3          466 -1520000.0 -2000000.0  \n",
       "4          568 -1510000.0 -2000000.0  \n",
       "\n",
       "[5 rows x 24 columns]"
      ]
     },
     "execution_count": 27,
     "metadata": {},
     "output_type": "execute_result"
    }
   ],
   "source": [
    "X_train.head()"
   ]
  },
  {
   "cell_type": "code",
   "execution_count": 28,
   "metadata": {
    "collapsed": true
   },
   "outputs": [],
   "source": [
    "def y2matrix(y_dataframe, X_dataframe, year, cell_dim=10000):\n",
    "    '''                                                                          \n",
    "    Convert a column from DataFrame df into a matrix representation with the     \n",
    "    upper-left cell indexing beginning at [0, 0].                                \n",
    "    It is expected that the DataFrame has columns x and y.                       \n",
    "                                                                                 \n",
    "    Args:                                                                        \n",
    "    df: DataFrame: the source data                                               \n",
    "    column: string: the column name to extract                                   \n",
    "    cel_dim: numeric: the dimensions of each grid cell                           \n",
    "                                                                                 \n",
    "    Returns: np.ndarray (a 2D list; matrix)                                      \n",
    "    '''\n",
    "    df = X_dataframe.copy()\n",
    "    df = df.loc[df.year == year, :]\n",
    "    x_min = df.x.min()\n",
    "    y_min = df.y.min()\n",
    "    df.x -= x_min\n",
    "    df.y -= y_min\n",
    "    xs = sorted(df.x.unique())\n",
    "    ys = sorted(df.y.unique())\n",
    "    matrix = np.array([[np.nan for y in range(len(ys))]\n",
    "                       for x in range(len(xs))])\n",
    "\n",
    "    for row in df.index:\n",
    "        x, y = df.loc[row, ['x', 'y']]\n",
    "        value = y_dataframe.loc[row, 'beetle']\n",
    "        i = int((x - xs[0]) / cell_dim)\n",
    "        j = int((y - ys[0]) / cell_dim)\n",
    "        matrix[i, j] = value\n",
    "\n",
    "    return matrix"
   ]
  },
  {
   "cell_type": "code",
   "execution_count": 31,
   "metadata": {
    "collapsed": true
   },
   "outputs": [],
   "source": [
    "def make_and_save_y_matrix(y, X, year):\n",
    "    print('\\nMaking y matrix for %d' % year)\n",
    "    tensor = y2matrix(y, X, year)\n",
    "    path = DATA_PATH + 'y_matrix%d.pkl.bz2' % year\n",
    "    print('Saving matrix to %s...' % path)\n",
    "    pickle.dump(tensor, bz2.open(path, 'wb'))"
   ]
  },
  {
   "cell_type": "code",
   "execution_count": 32,
   "metadata": {
    "collapsed": false
   },
   "outputs": [
    {
     "name": "stdout",
     "output_type": "stream",
     "text": [
      "\n",
      "Making y matrix for 2000\n",
      "Saving matrix to ../../data/cluster/year/y_matrix2000.pkl.bz2...\n",
      "\n",
      "Making y matrix for 2001\n",
      "Saving matrix to ../../data/cluster/year/y_matrix2001.pkl.bz2...\n",
      "\n",
      "Making y matrix for 2002\n",
      "Saving matrix to ../../data/cluster/year/y_matrix2002.pkl.bz2...\n"
     ]
    }
   ],
   "source": [
    "for i in range(2000, 2003):\n",
    "    make_and_save_y_matrix(y_test, X_test, i)"
   ]
  },
  {
   "cell_type": "code",
   "execution_count": 33,
   "metadata": {
    "collapsed": false
   },
   "outputs": [
    {
     "name": "stdout",
     "output_type": "stream",
     "text": [
      "\n",
      "Making y matrix for 2003\n",
      "Saving matrix to ../../data/cluster/year/y_matrix2003.pkl.bz2...\n",
      "\n",
      "Making y matrix for 2004\n",
      "Saving matrix to ../../data/cluster/year/y_matrix2004.pkl.bz2...\n",
      "\n",
      "Making y matrix for 2005\n",
      "Saving matrix to ../../data/cluster/year/y_matrix2005.pkl.bz2...\n"
     ]
    }
   ],
   "source": [
    "for i in range(2003, 2006):\n",
    "    make_and_save_y_matrix(y_valid, X_valid, i)"
   ]
  },
  {
   "cell_type": "code",
   "execution_count": 34,
   "metadata": {
    "collapsed": false
   },
   "outputs": [
    {
     "name": "stdout",
     "output_type": "stream",
     "text": [
      "\n",
      "Making y matrix for 2006\n",
      "Saving matrix to ../../data/cluster/year/y_matrix2006.pkl.bz2...\n",
      "\n",
      "Making y matrix for 2007\n",
      "Saving matrix to ../../data/cluster/year/y_matrix2007.pkl.bz2...\n",
      "\n",
      "Making y matrix for 2008\n",
      "Saving matrix to ../../data/cluster/year/y_matrix2008.pkl.bz2...\n",
      "\n",
      "Making y matrix for 2009\n",
      "Saving matrix to ../../data/cluster/year/y_matrix2009.pkl.bz2...\n",
      "\n",
      "Making y matrix for 2010\n",
      "Saving matrix to ../../data/cluster/year/y_matrix2010.pkl.bz2...\n",
      "\n",
      "Making y matrix for 2011\n",
      "Saving matrix to ../../data/cluster/year/y_matrix2011.pkl.bz2...\n",
      "\n",
      "Making y matrix for 2012\n",
      "Saving matrix to ../../data/cluster/year/y_matrix2012.pkl.bz2...\n",
      "\n",
      "Making y matrix for 2013\n",
      "Saving matrix to ../../data/cluster/year/y_matrix2013.pkl.bz2...\n",
      "\n",
      "Making y matrix for 2014\n",
      "Saving matrix to ../../data/cluster/year/y_matrix2014.pkl.bz2...\n"
     ]
    }
   ],
   "source": [
    "for i in range(2006, 2015):\n",
    "    make_and_save_y_matrix(y_train, X_train, i)"
   ]
  },
  {
   "cell_type": "code",
   "execution_count": 37,
   "metadata": {
    "collapsed": false
   },
   "outputs": [],
   "source": [
    "y_train_2006 = pickle.load(bz2.open(DATA_PATH + 'y_matrix2006.pkl.bz2',  'rb'))"
   ]
  },
  {
   "cell_type": "code",
   "execution_count": 38,
   "metadata": {
    "collapsed": false
   },
   "outputs": [
    {
     "data": {
      "image/png": "[encoded data removed]",
      "text/plain": [
       "<matplotlib.figure.Figure at 0x106b4bbe0>"
      ]
     },
     "metadata": {},
     "output_type": "display_data"
    }
   ],
   "source": [
    "imshow(np.rot90(y_train_2006));"
   ]
  },
  {
   "cell_type": "markdown",
   "metadata": {},
   "source": [
    "For the _convolutional neural network_ model, the response is still presence/absence of beetles in each grid cell, but the predictors come not just from the grid cell in question but also from the grid cells in the surrounding _n_ rows and columns around the cell in question.  For example, if _n_ = 3, then the cell and the cells within a 3-row/column buffer will all be used as predictors.<br/>\n",
    "\n",
    "Specifically if the reponse cell is at matrix location [i, j], the the included predictors will come from all cells in the bounding box `[(i - n, j - n), (i + n, j + n)]`, or in numpy notation:<br/>\n",
    "```\n",
    "tensor[range(i - n, i + n + 1), range(j - n, j + n + 1), :]\n",
    "```"
   ]
  },
  {
   "cell_type": "code",
   "execution_count": 40,
   "metadata": {
    "collapsed": false
   },
   "outputs": [
    {
     "name": "stdout",
     "output_type": "stream",
     "text": [
      "(7, 7, 19)\n"
     ]
    },
    {
     "data": {
      "image/png": "[encoded data removed]",
      "text/plain": [
       "<matplotlib.figure.Figure at 0x1078c74a8>"
      ]
     },
     "metadata": {},
     "output_type": "display_data"
    },
    {
     "data": {
      "image/png": "[encoded data removed]",
      "text/plain": [
       "<matplotlib.figure.Figure at 0x1078ed5c0>"
      ]
     },
     "metadata": {},
     "output_type": "display_data"
    },
    {
     "data": {
      "image/png": "[encoded data removed]",
      "text/plain": [
       "<matplotlib.figure.Figure at 0x10cdbf400>"
      ]
     },
     "metadata": {},
     "output_type": "display_data"
    }
   ],
   "source": [
    "# Example:\n",
    "# Cell = (90, 150)\n",
    "# n = 3\n",
    "# Should return tensor for cells [(87, 147), (93, 153)]\n",
    "x = 90\n",
    "y = 150\n",
    "n = 3\n",
    "sample = tensor2006[(x-n):(x+n+1), (y-n):(y+n+1), :]\n",
    "print(sample.shape)\n",
    "plt.figure();\n",
    "imshow(np.rot90(sample[:, :, 0]));  # meanTemp_Annual\n",
    "plt.figure();\n",
    "imshow(np.rot90(sample[:, :, 8]));  # precip_meanAnnual\n",
    "plt.figure();\n",
    "imshow(np.rot90(sample[:, :, 10])); # vegetation"
   ]
  },
  {
   "cell_type": "code",
   "execution_count": null,
   "metadata": {
    "collapsed": true
   },
   "outputs": [],
   "source": [
    "# Don't forget to normalize data"
   ]
  }
 ],
 "metadata": {
  "kernelspec": {
   "display_name": "Python 3",
   "language": "python",
   "name": "python3"
  },
  "language_info": {
   "codemirror_mode": {
    "name": "ipython",
    "version": 3
   },
   "file_extension": ".py",
   "mimetype": "text/x-python",
   "name": "python",
   "nbconvert_exporter": "python",
   "pygments_lexer": "ipython3",
   "version": "3.6.1"
  }
 },
 "nbformat": 4,
 "nbformat_minor": 0
}
