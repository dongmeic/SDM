{
 "cells": [
  {
   "cell_type": "code",
   "execution_count": 1,
   "metadata": {
    "collapsed": true
   },
   "outputs": [],
   "source": [
    "import os\n",
    "import sys\n",
    "import time\n",
    "\n",
    "import matplotlib.pyplot as plt\n",
    "import numpy as np\n",
    "import pandas as pd\n",
    "from pylab import *\n",
    "from sklearn.ensemble import RandomForestClassifier\n",
    "from sklearn.pipeline import Pipeline\n",
    "from sklearn.model_selection import GridSearchCV\n",
    "from sklearn.preprocessing import StandardScaler\n",
    "from sklearn.tree import DecisionTreeClassifier\n",
    "\n",
    "sys.path.append('..')\n",
    "import model_utils as util\n",
    "\n",
    "%matplotlib inline\n",
    "plt.rcParams['figure.figsize'] = 10, 8"
   ]
  },
  {
   "cell_type": "code",
   "execution_count": 2,
   "metadata": {
    "collapsed": true
   },
   "outputs": [],
   "source": [
    "DATA_PATH =  '../../../data/cluster/year/'"
   ]
  },
  {
   "cell_type": "code",
   "execution_count": 80,
   "metadata": {
    "collapsed": false
   },
   "outputs": [
    {
     "name": "stdout",
     "output_type": "stream",
     "text": [
      "X_train: (529623, 24)\n",
      "X_valid: (176541, 24)\n",
      "X_test: (176541, 24)\n",
      "y_train: (529623, 1)\n",
      "y_valid: (176541, 1)\n",
      "y_test: (176541, 1)\n"
     ]
    }
   ],
   "source": [
    "[[X_train, y_train], \n",
    " [X_valid, y_valid], \n",
    " [X_test, y_test]] = util.load_data(DATA_PATH)"
   ]
  },
  {
   "cell_type": "code",
   "execution_count": 81,
   "metadata": {
    "collapsed": true
   },
   "outputs": [],
   "source": [
    "interactions = [\n",
    "    'meanMinTemp_Oct:precip_OctSep', 'precip_meanAnnual:precip_OctSep',\n",
    "    'precip_OctSep:precipPrevious_OctSep', 'meanTemp_Aug:meanMinTemp_Oct',\n",
    "    'precip_OctSep:lon', 'precip_OctSep:precip_growingSeason',\n",
    "    'precip_OctSep:meanMaxTemp_Aug', 'meanMinTemp_Oct:precip_meanAnnual',\n",
    "    'precip_OctSep:meanTemp_Aug', 'precip_OctSep:meanMinTemp_Oct',\n",
    "    'precip_OctSep:elev_etopo1', 'precip_OctSep:elev_etopo1',\n",
    "    'precip_OctSep:lat', 'precip_OctSep:precip_growingSeason',\n",
    "    'precip_OctSep:precipPrevious_OctSep',\n",
    "    'precip_OctSep:precip_meanAnnual', 'precip_OctSep:precip_OctSep',\n",
    "    'meanMaxTemp_Aug:precip_OctSep', 'meanTemp_AprAug:precip_OctSep',\n",
    "    'precip_OctSep:varPrecip_growingSeason', 'meanTemp_Aug:precip_OctSep',\n",
    "    'lat:lon', 'lat:elev_etopo1']"
   ]
  },
  {
   "cell_type": "code",
   "execution_count": 82,
   "metadata": {
    "collapsed": false
   },
   "outputs": [],
   "source": [
    "X_train = util.make_interactions(X_train, interactions)\n",
    "X_valid = util.make_interactions(X_valid, interactions)\n",
    "X_test  = util.make_interactions(X_test, interactions)"
   ]
  },
  {
   "cell_type": "code",
   "execution_count": 83,
   "metadata": {
    "collapsed": true
   },
   "outputs": [],
   "source": [
    "X_test_full = X_test.copy()"
   ]
  },
  {
   "cell_type": "code",
   "execution_count": 84,
   "metadata": {
    "collapsed": true
   },
   "outputs": [],
   "source": [
    "X_train = X_train.drop(\n",
    "    ['studyArea', 'x', 'y', 'elev_srtm30', 'year', \n",
    "     'varPrecip_growingSeason', 'precip_OctSep:varPrecip_growingSeason'], \n",
    "    axis=1)\n",
    "X_valid = X_valid.drop(\n",
    "    ['studyArea', 'x', 'y', 'elev_srtm30', 'year', \n",
    "     'varPrecip_growingSeason', 'precip_OctSep:varPrecip_growingSeason'], \n",
    "    axis=1)\n",
    "X_test  = X_test.drop(\n",
    "    ['studyArea', 'x', 'y', 'elev_srtm30', 'year', \n",
    "     'varPrecip_growingSeason', 'precip_OctSep:varPrecip_growingSeason'], \n",
    "    axis=1)"
   ]
  },
  {
   "cell_type": "code",
   "execution_count": 85,
   "metadata": {
    "collapsed": false
   },
   "outputs": [
    {
     "name": "stdout",
     "output_type": "stream",
     "text": [
      "['meanTemp_Annual', 'meanTemp_AprAug', 'meanTemp_Aug', 'meanMinTemp_DecFeb', 'meanMinTemp_Oct', 'meanMinTemp_Jan', 'meanMinTemp_Mar', 'meanMaxTemp_Aug', 'precip_meanAnnual', 'precip_JunAug', 'vegetation', 'precipPrevious_JunAug', 'precip_OctSep', 'precipPrevious_OctSep', 'precip_growingSeason', 'elev_etopo1', 'lat', 'lon', 'meanMinTemp_Oct:precip_OctSep', 'precip_meanAnnual:precip_OctSep', 'precip_OctSep:precipPrevious_OctSep', 'meanTemp_Aug:meanMinTemp_Oct', 'precip_OctSep:lon', 'precip_OctSep:precip_growingSeason', 'precip_OctSep:meanMaxTemp_Aug', 'meanMinTemp_Oct:precip_meanAnnual', 'precip_OctSep:meanTemp_Aug', 'precip_OctSep:meanMinTemp_Oct', 'precip_OctSep:elev_etopo1', 'precip_OctSep:lat', 'precip_OctSep:precip_meanAnnual', 'precip_OctSep:precip_OctSep', 'meanMaxTemp_Aug:precip_OctSep', 'meanTemp_AprAug:precip_OctSep', 'meanTemp_Aug:precip_OctSep', 'lat:lon', 'lat:elev_etopo1']\n"
     ]
    }
   ],
   "source": [
    "predictors = list(X_train)\n",
    "print(predictors)"
   ]
  },
  {
   "cell_type": "code",
   "execution_count": 86,
   "metadata": {
    "collapsed": false
   },
   "outputs": [],
   "source": [
    "X_tv = X_train.append(X_valid)\n",
    "y_tv = y_train.append(y_valid)"
   ]
  },
  {
   "cell_type": "code",
   "execution_count": 87,
   "metadata": {
    "collapsed": true
   },
   "outputs": [],
   "source": [
    "#y_tv = y_tv['beetle'].values.reshape(-1)\n",
    "#y_test  = y_test['beetle'].values.reshape(-1)"
   ]
  },
  {
   "cell_type": "code",
   "execution_count": 88,
   "metadata": {
    "collapsed": false
   },
   "outputs": [],
   "source": [
    "X_tv = X_tv.as_matrix()\n",
    "y_tv = y_tv.as_matrix().reshape(-1)\n",
    "\n",
    "X_test = X_test.as_matrix()\n",
    "y_test = y_test.as_matrix().reshape(-1)"
   ]
  },
  {
   "cell_type": "markdown",
   "metadata": {},
   "source": [
    "# Find Best Classification Tree"
   ]
  },
  {
   "cell_type": "code",
   "execution_count": 25,
   "metadata": {
    "collapsed": true
   },
   "outputs": [],
   "source": [
    "grid = GridSearchCV(\n",
    "    estimator = DecisionTreeClassifier(random_state=1103),\n",
    "    param_grid = [{'max_depth': [12, 16, 24, None],\n",
    "                   'min_samples_split': [2, 5, 10],\n",
    "                   'min_samples_leaf': [500, 750, 1000]}],\n",
    "    cv=3,\n",
    "    n_jobs=-1) "
   ]
  },
  {
   "cell_type": "code",
   "execution_count": 27,
   "metadata": {
    "collapsed": false
   },
   "outputs": [
    {
     "name": "stdout",
     "output_type": "stream",
     "text": [
      "18.463197815418244\n"
     ]
    }
   ],
   "source": [
    "t0 = time.time()\n",
    "grid.fit(X_tv, y_tv)\n",
    "print((time.time() - t0) / 60)"
   ]
  },
  {
   "cell_type": "code",
   "execution_count": 28,
   "metadata": {
    "collapsed": false
   },
   "outputs": [
    {
     "name": "stdout",
     "output_type": "stream",
     "text": [
      "{'max_depth': 16, 'min_samples_leaf': 750, 'min_samples_split': 2}\n"
     ]
    }
   ],
   "source": [
    "print(grid.best_params_)"
   ]
  },
  {
   "cell_type": "code",
   "execution_count": 29,
   "metadata": {
    "collapsed": false
   },
   "outputs": [],
   "source": [
    "!say \"my work here is done.  all done.\""
   ]
  },
  {
   "cell_type": "code",
   "execution_count": 30,
   "metadata": {
    "collapsed": false
   },
   "outputs": [
    {
     "data": {
      "text/plain": [
       "DecisionTreeClassifier(class_weight=None, criterion='gini', max_depth=16,\n",
       "            max_features=None, max_leaf_nodes=None,\n",
       "            min_impurity_split=1e-07, min_samples_leaf=750,\n",
       "            min_samples_split=2, min_weight_fraction_leaf=0.0,\n",
       "            presort=False, random_state=1103, splitter='best')"
      ]
     },
     "execution_count": 30,
     "metadata": {},
     "output_type": "execute_result"
    }
   ],
   "source": [
    "tree = grid.best_estimator_\n",
    "tree.fit(X_tv, y_tv)"
   ]
  },
  {
   "cell_type": "code",
   "execution_count": 31,
   "metadata": {
    "collapsed": true
   },
   "outputs": [],
   "source": [
    "preds = tree.predict(X_test)"
   ]
  },
  {
   "cell_type": "code",
   "execution_count": 32,
   "metadata": {
    "collapsed": false
   },
   "outputs": [
    {
     "data": {
      "text/html": [
       "<div>\n",
       "<style>\n",
       "    .dataframe thead tr:only-child th {\n",
       "        text-align: right;\n",
       "    }\n",
       "\n",
       "    .dataframe thead th {\n",
       "        text-align: left;\n",
       "    }\n",
       "\n",
       "    .dataframe tbody tr th {\n",
       "        vertical-align: top;\n",
       "    }\n",
       "</style>\n",
       "<table border=\"1\" class=\"dataframe\">\n",
       "  <thead>\n",
       "    <tr style=\"text-align: right;\">\n",
       "      <th></th>\n",
       "      <th>actual</th>\n",
       "      <th>preds</th>\n",
       "    </tr>\n",
       "  </thead>\n",
       "  <tbody>\n",
       "    <tr>\n",
       "      <th>0</th>\n",
       "      <td>0</td>\n",
       "      <td>0</td>\n",
       "    </tr>\n",
       "    <tr>\n",
       "      <th>1</th>\n",
       "      <td>0</td>\n",
       "      <td>0</td>\n",
       "    </tr>\n",
       "    <tr>\n",
       "      <th>2</th>\n",
       "      <td>0</td>\n",
       "      <td>0</td>\n",
       "    </tr>\n",
       "    <tr>\n",
       "      <th>3</th>\n",
       "      <td>0</td>\n",
       "      <td>0</td>\n",
       "    </tr>\n",
       "    <tr>\n",
       "      <th>4</th>\n",
       "      <td>0</td>\n",
       "      <td>0</td>\n",
       "    </tr>\n",
       "  </tbody>\n",
       "</table>\n",
       "</div>"
      ],
      "text/plain": [
       "   actual  preds\n",
       "0       0      0\n",
       "1       0      0\n",
       "2       0      0\n",
       "3       0      0\n",
       "4       0      0"
      ]
     },
     "execution_count": 32,
     "metadata": {},
     "output_type": "execute_result"
    }
   ],
   "source": [
    "preds_actual = pd.DataFrame({'preds': preds, 'actual': y_test})\n",
    "preds_actual.head()"
   ]
  },
  {
   "cell_type": "code",
   "execution_count": 33,
   "metadata": {
    "collapsed": true
   },
   "outputs": [],
   "source": [
    "def get_se_for_proportion(num, denom):\n",
    "    p = num / denom\n",
    "    if p == 0 or p == 1:\n",
    "        return np.nan\n",
    "    return np.sqrt((p*(1 - p)) / denom)"
   ]
  },
  {
   "cell_type": "code",
   "execution_count": 34,
   "metadata": {
    "collapsed": true
   },
   "outputs": [],
   "source": [
    "def get_metrics(cm):\n",
    "    tp, tn, fp, fn = cm\n",
    "    try:\n",
    "        accuracy = (tp + tn) / (tp + tn + fp + fn)\n",
    "        accuracy_se = get_se_for_proportion(tp + tn, tp + tn + fp + fn)\n",
    "    except ZeroDivisionError:\n",
    "        accuracy = np.nan\n",
    "        accuracy_se = np.nan\n",
    "        \n",
    "    try:    \n",
    "        recall = tp / (tp + fn)\n",
    "        recall_se = get_se_for_proportion(tp, tp + fn)\n",
    "    except ZeroDivisionError:\n",
    "        recall = np.nan\n",
    "        recall_se = np.nan\n",
    "        \n",
    "    try:   \n",
    "        precision = tp / (tp + fp)\n",
    "        precision_se = get_se_for_proportion(tp, tp + fp)\n",
    "    except ZeroDivisionError:\n",
    "        precision = np.nan\n",
    "        precision_se = np.nan\n",
    "        \n",
    "    f1 = 2 / (1/recall + 1/precision)\n",
    "    f1_se = 2 /  (1/recall_se + 1/precision_se)\n",
    "    return ([accuracy, recall, precision, f1], \n",
    "            [accuracy_se, recall_se, precision_se, f1_se])\n"
   ]
  },
  {
   "cell_type": "code",
   "execution_count": 35,
   "metadata": {
    "collapsed": true
   },
   "outputs": [],
   "source": [
    "def print_metrics(metrics):\n",
    "    accuracy, recall, precision, f1 = metrics[0]\n",
    "    accuracy_se, recall_se, precision_se, f1_se = metrics[1]\n",
    "    print(\n",
    "        'Accuracy:  %.4f ± %.4f\\n'\n",
    "        'Recall:    %.4f ± %.4f\\n'\n",
    "        'Precision: %.4f ± %.4f\\n'\n",
    "        'F1:        %.4f ± %.4f' \n",
    "        % (accuracy, accuracy_se, recall, recall_se, \n",
    "           precision, precision_se, f1, f1_se))"
   ]
  },
  {
   "cell_type": "code",
   "execution_count": 36,
   "metadata": {
    "collapsed": true
   },
   "outputs": [],
   "source": [
    "def print_confusion_matrix(cm):\n",
    "    tp, tn, fp, fn = cm\n",
    "    \n",
    "    print(\n",
    "      '            Actual\\n'\n",
    "      '                  1|    0\\n'\n",
    "      '             ------------\\n'\n",
    "      'Predicted 1 | %5d|%5d\\n'\n",
    "      '          ---------------\\n'\n",
    "      '          0 | %5d|%5d\\n' % (tp, fp, fn, tn))"
   ]
  },
  {
   "cell_type": "code",
   "execution_count": 37,
   "metadata": {
    "collapsed": true
   },
   "outputs": [],
   "source": [
    "def get_confusion_matrix(preds, actual, verbose=False):\n",
    "    tp = ((actual == 1) & (preds == 1)).sum()\n",
    "    tn = ((actual == 0) & (preds == 0)).sum()\n",
    "    fp = ((actual == 0) & (preds == 1)).sum()\n",
    "    fn = ((actual == 1) & (preds == 0)).sum()\n",
    "    cm = tp, tn, fp, fn\n",
    "    metrics = get_metrics(cm)\n",
    "    if verbose:\n",
    "        print_confusion_matrix(cm)\n",
    "        print_metrics(metrics)\n",
    "    return {'matrix': cm, 'metrics': metrics}"
   ]
  },
  {
   "cell_type": "code",
   "execution_count": 38,
   "metadata": {
    "collapsed": false
   },
   "outputs": [
    {
     "name": "stdout",
     "output_type": "stream",
     "text": [
      "            Actual\n",
      "                  1|    0\n",
      "             ------------\n",
      "Predicted 1 | 14063|12694\n",
      "          ---------------\n",
      "          0 |  8252|141532\n",
      "\n",
      "Accuracy:  0.8814 ± 0.0008\n",
      "Recall:    0.6302 ± 0.0032\n",
      "Precision: 0.5256 ± 0.0031\n",
      "F1:        0.5732 ± 0.0031\n"
     ]
    }
   ],
   "source": [
    "cm = get_confusion_matrix(preds_actual.preds, preds_actual.actual, True)"
   ]
  },
  {
   "cell_type": "code",
   "execution_count": 50,
   "metadata": {
    "collapsed": false
   },
   "outputs": [
    {
     "data": {
      "text/html": [
       "<div>\n",
       "<style>\n",
       "    .dataframe thead tr:only-child th {\n",
       "        text-align: right;\n",
       "    }\n",
       "\n",
       "    .dataframe thead th {\n",
       "        text-align: left;\n",
       "    }\n",
       "\n",
       "    .dataframe tbody tr th {\n",
       "        vertical-align: top;\n",
       "    }\n",
       "</style>\n",
       "<table border=\"1\" class=\"dataframe\">\n",
       "  <thead>\n",
       "    <tr style=\"text-align: right;\">\n",
       "      <th></th>\n",
       "      <th>year</th>\n",
       "      <th>meanTemp_Annual</th>\n",
       "      <th>meanTemp_AprAug</th>\n",
       "      <th>meanTemp_Aug</th>\n",
       "      <th>meanMinTemp_DecFeb</th>\n",
       "      <th>meanMinTemp_Oct</th>\n",
       "      <th>meanMinTemp_Jan</th>\n",
       "      <th>meanMinTemp_Mar</th>\n",
       "      <th>meanMaxTemp_Aug</th>\n",
       "      <th>precip_meanAnnual</th>\n",
       "      <th>...</th>\n",
       "      <th>precip_OctSep:precip_meanAnnual</th>\n",
       "      <th>precip_OctSep:precip_OctSep</th>\n",
       "      <th>meanMaxTemp_Aug:precip_OctSep</th>\n",
       "      <th>meanTemp_AprAug:precip_OctSep</th>\n",
       "      <th>precip_OctSep:varPrecip_growingSeason</th>\n",
       "      <th>meanTemp_Aug:precip_OctSep</th>\n",
       "      <th>lat:lon</th>\n",
       "      <th>lat:elev_etopo1</th>\n",
       "      <th>preds</th>\n",
       "      <th>beetle</th>\n",
       "    </tr>\n",
       "  </thead>\n",
       "  <tbody>\n",
       "    <tr>\n",
       "      <th>0</th>\n",
       "      <td>2000</td>\n",
       "      <td>17.057845</td>\n",
       "      <td>18.892138</td>\n",
       "      <td>21.608865</td>\n",
       "      <td>4.831345</td>\n",
       "      <td>10.825336</td>\n",
       "      <td>6.119776</td>\n",
       "      <td>7.627907</td>\n",
       "      <td>27.147665</td>\n",
       "      <td>7.199924</td>\n",
       "      <td>...</td>\n",
       "      <td>930.493385</td>\n",
       "      <td>16702.086497</td>\n",
       "      <td>3508.470629</td>\n",
       "      <td>2441.554720</td>\n",
       "      <td>87.162470</td>\n",
       "      <td>2792.655201</td>\n",
       "      <td>-3539.809426</td>\n",
       "      <td>1586.267885</td>\n",
       "      <td>0</td>\n",
       "      <td>0</td>\n",
       "    </tr>\n",
       "    <tr>\n",
       "      <th>1</th>\n",
       "      <td>2000</td>\n",
       "      <td>17.254652</td>\n",
       "      <td>19.109267</td>\n",
       "      <td>21.808772</td>\n",
       "      <td>5.056313</td>\n",
       "      <td>11.052817</td>\n",
       "      <td>6.231007</td>\n",
       "      <td>7.827016</td>\n",
       "      <td>27.346988</td>\n",
       "      <td>6.621443</td>\n",
       "      <td>...</td>\n",
       "      <td>734.347107</td>\n",
       "      <td>12299.783937</td>\n",
       "      <td>3032.901079</td>\n",
       "      <td>2119.301565</td>\n",
       "      <td>87.706257</td>\n",
       "      <td>2418.688598</td>\n",
       "      <td>-3538.802691</td>\n",
       "      <td>518.894449</td>\n",
       "      <td>0</td>\n",
       "      <td>0</td>\n",
       "    </tr>\n",
       "    <tr>\n",
       "      <th>2</th>\n",
       "      <td>2000</td>\n",
       "      <td>17.676624</td>\n",
       "      <td>19.746520</td>\n",
       "      <td>22.608925</td>\n",
       "      <td>4.883052</td>\n",
       "      <td>11.081191</td>\n",
       "      <td>6.041158</td>\n",
       "      <td>7.776271</td>\n",
       "      <td>28.596847</td>\n",
       "      <td>6.506222</td>\n",
       "      <td>...</td>\n",
       "      <td>676.543063</td>\n",
       "      <td>10812.676193</td>\n",
       "      <td>2973.615041</td>\n",
       "      <td>2053.322479</td>\n",
       "      <td>180.105604</td>\n",
       "      <td>2350.966874</td>\n",
       "      <td>-3537.778080</td>\n",
       "      <td>4611.712249</td>\n",
       "      <td>0</td>\n",
       "      <td>0</td>\n",
       "    </tr>\n",
       "    <tr>\n",
       "      <th>3</th>\n",
       "      <td>2000</td>\n",
       "      <td>16.558509</td>\n",
       "      <td>18.864768</td>\n",
       "      <td>22.112176</td>\n",
       "      <td>3.356400</td>\n",
       "      <td>9.556494</td>\n",
       "      <td>4.649940</td>\n",
       "      <td>6.029264</td>\n",
       "      <td>28.749263</td>\n",
       "      <td>9.937936</td>\n",
       "      <td>...</td>\n",
       "      <td>1962.119381</td>\n",
       "      <td>38981.490270</td>\n",
       "      <td>5676.177043</td>\n",
       "      <td>3724.608934</td>\n",
       "      <td>33.989244</td>\n",
       "      <td>4365.768436</td>\n",
       "      <td>-3536.735625</td>\n",
       "      <td>15279.482513</td>\n",
       "      <td>0</td>\n",
       "      <td>0</td>\n",
       "    </tr>\n",
       "    <tr>\n",
       "      <th>4</th>\n",
       "      <td>2000</td>\n",
       "      <td>16.781979</td>\n",
       "      <td>19.328211</td>\n",
       "      <td>22.731819</td>\n",
       "      <td>3.201135</td>\n",
       "      <td>9.459611</td>\n",
       "      <td>4.256498</td>\n",
       "      <td>5.852778</td>\n",
       "      <td>29.813080</td>\n",
       "      <td>9.939182</td>\n",
       "      <td>...</td>\n",
       "      <td>1937.963301</td>\n",
       "      <td>38018.045803</td>\n",
       "      <td>5813.019043</td>\n",
       "      <td>3768.656495</td>\n",
       "      <td>71.096740</td>\n",
       "      <td>4432.299443</td>\n",
       "      <td>-3535.675357</td>\n",
       "      <td>17245.245125</td>\n",
       "      <td>0</td>\n",
       "      <td>0</td>\n",
       "    </tr>\n",
       "  </tbody>\n",
       "</table>\n",
       "<p>5 rows × 46 columns</p>\n",
       "</div>"
      ],
      "text/plain": [
       "   year  meanTemp_Annual  meanTemp_AprAug  meanTemp_Aug  meanMinTemp_DecFeb  \\\n",
       "0  2000        17.057845        18.892138     21.608865            4.831345   \n",
       "1  2000        17.254652        19.109267     21.808772            5.056313   \n",
       "2  2000        17.676624        19.746520     22.608925            4.883052   \n",
       "3  2000        16.558509        18.864768     22.112176            3.356400   \n",
       "4  2000        16.781979        19.328211     22.731819            3.201135   \n",
       "\n",
       "   meanMinTemp_Oct  meanMinTemp_Jan  meanMinTemp_Mar  meanMaxTemp_Aug  \\\n",
       "0        10.825336         6.119776         7.627907        27.147665   \n",
       "1        11.052817         6.231007         7.827016        27.346988   \n",
       "2        11.081191         6.041158         7.776271        28.596847   \n",
       "3         9.556494         4.649940         6.029264        28.749263   \n",
       "4         9.459611         4.256498         5.852778        29.813080   \n",
       "\n",
       "   precip_meanAnnual   ...    precip_OctSep:precip_meanAnnual  \\\n",
       "0           7.199924   ...                         930.493385   \n",
       "1           6.621443   ...                         734.347107   \n",
       "2           6.506222   ...                         676.543063   \n",
       "3           9.937936   ...                        1962.119381   \n",
       "4           9.939182   ...                        1937.963301   \n",
       "\n",
       "   precip_OctSep:precip_OctSep  meanMaxTemp_Aug:precip_OctSep  \\\n",
       "0                 16702.086497                    3508.470629   \n",
       "1                 12299.783937                    3032.901079   \n",
       "2                 10812.676193                    2973.615041   \n",
       "3                 38981.490270                    5676.177043   \n",
       "4                 38018.045803                    5813.019043   \n",
       "\n",
       "   meanTemp_AprAug:precip_OctSep  precip_OctSep:varPrecip_growingSeason  \\\n",
       "0                    2441.554720                              87.162470   \n",
       "1                    2119.301565                              87.706257   \n",
       "2                    2053.322479                             180.105604   \n",
       "3                    3724.608934                              33.989244   \n",
       "4                    3768.656495                              71.096740   \n",
       "\n",
       "   meanTemp_Aug:precip_OctSep      lat:lon  lat:elev_etopo1  preds  beetle  \n",
       "0                 2792.655201 -3539.809426      1586.267885      0       0  \n",
       "1                 2418.688598 -3538.802691       518.894449      0       0  \n",
       "2                 2350.966874 -3537.778080      4611.712249      0       0  \n",
       "3                 4365.768436 -3536.735625     15279.482513      0       0  \n",
       "4                 4432.299443 -3535.675357     17245.245125      0       0  \n",
       "\n",
       "[5 rows x 46 columns]"
      ]
     },
     "execution_count": 50,
     "metadata": {},
     "output_type": "execute_result"
    }
   ],
   "source": [
    "X_test_full['preds'] = preds\n",
    "X_test_full['beetle'] = y_test\n",
    "X_test_full.head()"
   ]
  },
  {
   "cell_type": "code",
   "execution_count": 67,
   "metadata": {
    "collapsed": false
   },
   "outputs": [],
   "source": [
    "def get_pred_actual_error_matrices(year):\n",
    "    preds  = X_test_full.loc[X_test_full.year == year, ['x', 'y', 'preds']]\n",
    "    actual = X_test_full.loc[X_test_full.year == year, ['x', 'y', 'beetle']] \n",
    "    preds_m  = util.column2matrix(preds, 'preds')\n",
    "    actual_m = util.column2matrix(actual, 'beetle')\n",
    "    error_m = actual_m - preds_m\n",
    "    return preds_m, actual_m, error_m"
   ]
  },
  {
   "cell_type": "code",
   "execution_count": 68,
   "metadata": {
    "collapsed": false
   },
   "outputs": [],
   "source": [
    "def pred_plots(ms, year):\n",
    "    preds_m, actual_m, error_m = ms\n",
    "    plt.subplot(131);\n",
    "    imshow(np.rot90(preds_m));\n",
    "    plt.title('%d: predictions' % year);\n",
    "    plt.subplot(132);\n",
    "    imshow(np.rot90(actual_m));\n",
    "    plt.title('%d: actual'% year);\n",
    "    plt.subplot(133);\n",
    "    imshow(np.rot90(error_m));\n",
    "    plt.title('%d: error'% year);"
   ]
  },
  {
   "cell_type": "code",
   "execution_count": 69,
   "metadata": {
    "collapsed": false
   },
   "outputs": [
    {
     "data": {
      "image/png": "[encoded data removed]",
      "text/plain": [
       "<matplotlib.figure.Figure at 0x11d12c0f0>"
      ]
     },
     "metadata": {},
     "output_type": "display_data"
    },
    {
     "data": {
      "image/png": "[encoded data removed]",
      "text/plain": [
       "<matplotlib.figure.Figure at 0x11d178208>"
      ]
     },
     "metadata": {},
     "output_type": "display_data"
    },
    {
     "data": {
      "image/png": "[encoded data removed]",
      "text/plain": [
       "<matplotlib.figure.Figure at 0x10b6c6160>"
      ]
     },
     "metadata": {},
     "output_type": "display_data"
    }
   ],
   "source": [
    "for year in X_test_full.year.unique():\n",
    "    ms = get_pred_actual_error_matrices(year)\n",
    "    plt.figure();\n",
    "    pred_plots(ms, year)"
   ]
  },
  {
   "cell_type": "markdown",
   "metadata": {},
   "source": [
    "# Random Forest"
   ]
  },
  {
   "cell_type": "code",
   "execution_count": 59,
   "metadata": {
    "collapsed": true
   },
   "outputs": [],
   "source": [
    "grid = GridSearchCV(\n",
    "    estimator = RandomForestClassifier(random_state=1103),\n",
    "    param_grid = [{'n_estimators': [16, 32, 64],\n",
    "                   'max_depth': [16, 32, 64],\n",
    "                   'min_samples_split': [2, 5, 10],\n",
    "                   'min_samples_leaf': [2, 4, 8]}],\n",
    "    cv=3,\n",
    "    n_jobs=-1)"
   ]
  },
  {
   "cell_type": "code",
   "execution_count": 63,
   "metadata": {
    "collapsed": false
   },
   "outputs": [
    {
     "name": "stdout",
     "output_type": "stream",
     "text": [
      "221.1790558854739\n"
     ]
    }
   ],
   "source": [
    "t0 = time.time()\n",
    "grid.fit(X_tv, y_tv)\n",
    "print((time.time() - t0) / 60)"
   ]
  },
  {
   "cell_type": "code",
   "execution_count": 61,
   "metadata": {
    "collapsed": false
   },
   "outputs": [
    {
     "name": "stdout",
     "output_type": "stream",
     "text": [
      "{'max_depth': 16, 'min_samples_leaf': 4, 'min_samples_split': 10, 'n_estimators': 64}\n"
     ]
    }
   ],
   "source": [
    "print(grid.best_params_)"
   ]
  },
  {
   "cell_type": "code",
   "execution_count": 62,
   "metadata": {
    "collapsed": true
   },
   "outputs": [],
   "source": [
    "!say \"at last, my work is done!\""
   ]
  },
  {
   "cell_type": "code",
   "execution_count": 65,
   "metadata": {
    "collapsed": false
   },
   "outputs": [
    {
     "data": {
      "text/plain": [
       "RandomForestClassifier(bootstrap=True, class_weight=None, criterion='gini',\n",
       "            max_depth=16, max_features='auto', max_leaf_nodes=None,\n",
       "            min_impurity_split=1e-07, min_samples_leaf=4,\n",
       "            min_samples_split=10, min_weight_fraction_leaf=0.0,\n",
       "            n_estimators=64, n_jobs=1, oob_score=False, random_state=1103,\n",
       "            verbose=0, warm_start=False)"
      ]
     },
     "execution_count": 65,
     "metadata": {},
     "output_type": "execute_result"
    }
   ],
   "source": [
    "tree = grid.best_estimator_\n",
    "tree.fit(X_tv, y_tv)"
   ]
  },
  {
   "cell_type": "code",
   "execution_count": 89,
   "metadata": {
    "collapsed": false
   },
   "outputs": [
    {
     "data": {
      "text/html": [
       "<div>\n",
       "<style>\n",
       "    .dataframe thead tr:only-child th {\n",
       "        text-align: right;\n",
       "    }\n",
       "\n",
       "    .dataframe thead th {\n",
       "        text-align: left;\n",
       "    }\n",
       "\n",
       "    .dataframe tbody tr th {\n",
       "        vertical-align: top;\n",
       "    }\n",
       "</style>\n",
       "<table border=\"1\" class=\"dataframe\">\n",
       "  <thead>\n",
       "    <tr style=\"text-align: right;\">\n",
       "      <th></th>\n",
       "      <th>actual</th>\n",
       "      <th>preds</th>\n",
       "    </tr>\n",
       "  </thead>\n",
       "  <tbody>\n",
       "    <tr>\n",
       "      <th>0</th>\n",
       "      <td>0</td>\n",
       "      <td>0</td>\n",
       "    </tr>\n",
       "    <tr>\n",
       "      <th>1</th>\n",
       "      <td>0</td>\n",
       "      <td>0</td>\n",
       "    </tr>\n",
       "    <tr>\n",
       "      <th>2</th>\n",
       "      <td>0</td>\n",
       "      <td>0</td>\n",
       "    </tr>\n",
       "    <tr>\n",
       "      <th>3</th>\n",
       "      <td>0</td>\n",
       "      <td>0</td>\n",
       "    </tr>\n",
       "    <tr>\n",
       "      <th>4</th>\n",
       "      <td>0</td>\n",
       "      <td>0</td>\n",
       "    </tr>\n",
       "  </tbody>\n",
       "</table>\n",
       "</div>"
      ],
      "text/plain": [
       "   actual  preds\n",
       "0       0      0\n",
       "1       0      0\n",
       "2       0      0\n",
       "3       0      0\n",
       "4       0      0"
      ]
     },
     "execution_count": 89,
     "metadata": {},
     "output_type": "execute_result"
    }
   ],
   "source": [
    "preds = tree.predict(X_test)\n",
    "preds_actual = pd.DataFrame({'preds': preds, 'actual': y_test})\n",
    "preds_actual.head()"
   ]
  },
  {
   "cell_type": "code",
   "execution_count": 90,
   "metadata": {
    "collapsed": false
   },
   "outputs": [
    {
     "data": {
      "text/html": [
       "<div>\n",
       "<style>\n",
       "    .dataframe thead tr:only-child th {\n",
       "        text-align: right;\n",
       "    }\n",
       "\n",
       "    .dataframe thead th {\n",
       "        text-align: left;\n",
       "    }\n",
       "\n",
       "    .dataframe tbody tr th {\n",
       "        vertical-align: top;\n",
       "    }\n",
       "</style>\n",
       "<table border=\"1\" class=\"dataframe\">\n",
       "  <thead>\n",
       "    <tr style=\"text-align: right;\">\n",
       "      <th></th>\n",
       "      <th>actual</th>\n",
       "      <th>preds</th>\n",
       "    </tr>\n",
       "  </thead>\n",
       "  <tbody>\n",
       "    <tr>\n",
       "      <th>0</th>\n",
       "      <td>0</td>\n",
       "      <td>0</td>\n",
       "    </tr>\n",
       "    <tr>\n",
       "      <th>1</th>\n",
       "      <td>0</td>\n",
       "      <td>0</td>\n",
       "    </tr>\n",
       "    <tr>\n",
       "      <th>2</th>\n",
       "      <td>0</td>\n",
       "      <td>0</td>\n",
       "    </tr>\n",
       "    <tr>\n",
       "      <th>3</th>\n",
       "      <td>0</td>\n",
       "      <td>0</td>\n",
       "    </tr>\n",
       "    <tr>\n",
       "      <th>4</th>\n",
       "      <td>0</td>\n",
       "      <td>0</td>\n",
       "    </tr>\n",
       "  </tbody>\n",
       "</table>\n",
       "</div>"
      ],
      "text/plain": [
       "   actual  preds\n",
       "0       0      0\n",
       "1       0      0\n",
       "2       0      0\n",
       "3       0      0\n",
       "4       0      0"
      ]
     },
     "execution_count": 90,
     "metadata": {},
     "output_type": "execute_result"
    }
   ],
   "source": [
    "preds = tree.predict(X_test)\n",
    "preds_actual = pd.DataFrame({'preds': preds, 'actual': y_test})\n",
    "preds_actual.head()"
   ]
  },
  {
   "cell_type": "code",
   "execution_count": 91,
   "metadata": {
    "collapsed": false
   },
   "outputs": [
    {
     "name": "stdout",
     "output_type": "stream",
     "text": [
      "            Actual\n",
      "                  1|    0\n",
      "             ------------\n",
      "Predicted 1 | 14131|10809\n",
      "          ---------------\n",
      "          0 |  8184|143417\n",
      "\n",
      "Accuracy:  0.8924 ± 0.0007\n",
      "Recall:    0.6333 ± 0.0032\n",
      "Precision: 0.5666 ± 0.0031\n",
      "F1:        0.5981 ± 0.0032\n"
     ]
    }
   ],
   "source": [
    "cm = get_confusion_matrix(preds_actual.preds, preds_actual.actual, True)"
   ]
  },
  {
   "cell_type": "code",
   "execution_count": 92,
   "metadata": {
    "collapsed": false
   },
   "outputs": [
    {
     "data": {
      "text/html": [
       "<div>\n",
       "<style>\n",
       "    .dataframe thead tr:only-child th {\n",
       "        text-align: right;\n",
       "    }\n",
       "\n",
       "    .dataframe thead th {\n",
       "        text-align: left;\n",
       "    }\n",
       "\n",
       "    .dataframe tbody tr th {\n",
       "        vertical-align: top;\n",
       "    }\n",
       "</style>\n",
       "<table border=\"1\" class=\"dataframe\">\n",
       "  <thead>\n",
       "    <tr style=\"text-align: right;\">\n",
       "      <th></th>\n",
       "      <th>importance</th>\n",
       "      <th>predictor</th>\n",
       "    </tr>\n",
       "  </thead>\n",
       "  <tbody>\n",
       "    <tr>\n",
       "      <th>16</th>\n",
       "      <td>0.095314</td>\n",
       "      <td>lat</td>\n",
       "    </tr>\n",
       "    <tr>\n",
       "      <th>35</th>\n",
       "      <td>0.080464</td>\n",
       "      <td>lat:lon</td>\n",
       "    </tr>\n",
       "    <tr>\n",
       "      <th>28</th>\n",
       "      <td>0.072252</td>\n",
       "      <td>precip_OctSep:elev_etopo1</td>\n",
       "    </tr>\n",
       "    <tr>\n",
       "      <th>17</th>\n",
       "      <td>0.072166</td>\n",
       "      <td>lon</td>\n",
       "    </tr>\n",
       "    <tr>\n",
       "      <th>10</th>\n",
       "      <td>0.066915</td>\n",
       "      <td>vegetation</td>\n",
       "    </tr>\n",
       "    <tr>\n",
       "      <th>36</th>\n",
       "      <td>0.054233</td>\n",
       "      <td>lat:elev_etopo1</td>\n",
       "    </tr>\n",
       "    <tr>\n",
       "      <th>9</th>\n",
       "      <td>0.051589</td>\n",
       "      <td>precip_JunAug</td>\n",
       "    </tr>\n",
       "    <tr>\n",
       "      <th>15</th>\n",
       "      <td>0.038730</td>\n",
       "      <td>elev_etopo1</td>\n",
       "    </tr>\n",
       "    <tr>\n",
       "      <th>22</th>\n",
       "      <td>0.033956</td>\n",
       "      <td>precip_OctSep:lon</td>\n",
       "    </tr>\n",
       "    <tr>\n",
       "      <th>11</th>\n",
       "      <td>0.025489</td>\n",
       "      <td>precipPrevious_JunAug</td>\n",
       "    </tr>\n",
       "    <tr>\n",
       "      <th>0</th>\n",
       "      <td>0.024341</td>\n",
       "      <td>meanTemp_Annual</td>\n",
       "    </tr>\n",
       "    <tr>\n",
       "      <th>3</th>\n",
       "      <td>0.023119</td>\n",
       "      <td>meanMinTemp_DecFeb</td>\n",
       "    </tr>\n",
       "    <tr>\n",
       "      <th>1</th>\n",
       "      <td>0.022275</td>\n",
       "      <td>meanTemp_AprAug</td>\n",
       "    </tr>\n",
       "    <tr>\n",
       "      <th>5</th>\n",
       "      <td>0.021243</td>\n",
       "      <td>meanMinTemp_Jan</td>\n",
       "    </tr>\n",
       "    <tr>\n",
       "      <th>7</th>\n",
       "      <td>0.020805</td>\n",
       "      <td>meanMaxTemp_Aug</td>\n",
       "    </tr>\n",
       "    <tr>\n",
       "      <th>29</th>\n",
       "      <td>0.019715</td>\n",
       "      <td>precip_OctSep:lat</td>\n",
       "    </tr>\n",
       "    <tr>\n",
       "      <th>2</th>\n",
       "      <td>0.019324</td>\n",
       "      <td>meanTemp_Aug</td>\n",
       "    </tr>\n",
       "    <tr>\n",
       "      <th>31</th>\n",
       "      <td>0.018885</td>\n",
       "      <td>precip_OctSep:precip_OctSep</td>\n",
       "    </tr>\n",
       "    <tr>\n",
       "      <th>23</th>\n",
       "      <td>0.018067</td>\n",
       "      <td>precip_OctSep:precip_growingSeason</td>\n",
       "    </tr>\n",
       "    <tr>\n",
       "      <th>6</th>\n",
       "      <td>0.017779</td>\n",
       "      <td>meanMinTemp_Mar</td>\n",
       "    </tr>\n",
       "    <tr>\n",
       "      <th>20</th>\n",
       "      <td>0.017739</td>\n",
       "      <td>precip_OctSep:precipPrevious_OctSep</td>\n",
       "    </tr>\n",
       "    <tr>\n",
       "      <th>14</th>\n",
       "      <td>0.016213</td>\n",
       "      <td>precip_growingSeason</td>\n",
       "    </tr>\n",
       "    <tr>\n",
       "      <th>32</th>\n",
       "      <td>0.015806</td>\n",
       "      <td>meanMaxTemp_Aug:precip_OctSep</td>\n",
       "    </tr>\n",
       "    <tr>\n",
       "      <th>12</th>\n",
       "      <td>0.013529</td>\n",
       "      <td>precip_OctSep</td>\n",
       "    </tr>\n",
       "    <tr>\n",
       "      <th>30</th>\n",
       "      <td>0.013066</td>\n",
       "      <td>precip_OctSep:precip_meanAnnual</td>\n",
       "    </tr>\n",
       "    <tr>\n",
       "      <th>8</th>\n",
       "      <td>0.012825</td>\n",
       "      <td>precip_meanAnnual</td>\n",
       "    </tr>\n",
       "    <tr>\n",
       "      <th>21</th>\n",
       "      <td>0.012233</td>\n",
       "      <td>meanTemp_Aug:meanMinTemp_Oct</td>\n",
       "    </tr>\n",
       "    <tr>\n",
       "      <th>19</th>\n",
       "      <td>0.012049</td>\n",
       "      <td>precip_meanAnnual:precip_OctSep</td>\n",
       "    </tr>\n",
       "    <tr>\n",
       "      <th>13</th>\n",
       "      <td>0.011654</td>\n",
       "      <td>precipPrevious_OctSep</td>\n",
       "    </tr>\n",
       "    <tr>\n",
       "      <th>4</th>\n",
       "      <td>0.011126</td>\n",
       "      <td>meanMinTemp_Oct</td>\n",
       "    </tr>\n",
       "    <tr>\n",
       "      <th>18</th>\n",
       "      <td>0.011114</td>\n",
       "      <td>meanMinTemp_Oct:precip_OctSep</td>\n",
       "    </tr>\n",
       "    <tr>\n",
       "      <th>33</th>\n",
       "      <td>0.010698</td>\n",
       "      <td>meanTemp_AprAug:precip_OctSep</td>\n",
       "    </tr>\n",
       "    <tr>\n",
       "      <th>24</th>\n",
       "      <td>0.010184</td>\n",
       "      <td>precip_OctSep:meanMaxTemp_Aug</td>\n",
       "    </tr>\n",
       "    <tr>\n",
       "      <th>27</th>\n",
       "      <td>0.010172</td>\n",
       "      <td>precip_OctSep:meanMinTemp_Oct</td>\n",
       "    </tr>\n",
       "    <tr>\n",
       "      <th>25</th>\n",
       "      <td>0.009534</td>\n",
       "      <td>meanMinTemp_Oct:precip_meanAnnual</td>\n",
       "    </tr>\n",
       "    <tr>\n",
       "      <th>34</th>\n",
       "      <td>0.008053</td>\n",
       "      <td>meanTemp_Aug:precip_OctSep</td>\n",
       "    </tr>\n",
       "    <tr>\n",
       "      <th>26</th>\n",
       "      <td>0.007342</td>\n",
       "      <td>precip_OctSep:meanTemp_Aug</td>\n",
       "    </tr>\n",
       "  </tbody>\n",
       "</table>\n",
       "</div>"
      ],
      "text/plain": [
       "    importance                            predictor\n",
       "16    0.095314                                  lat\n",
       "35    0.080464                              lat:lon\n",
       "28    0.072252            precip_OctSep:elev_etopo1\n",
       "17    0.072166                                  lon\n",
       "10    0.066915                           vegetation\n",
       "36    0.054233                      lat:elev_etopo1\n",
       "9     0.051589                        precip_JunAug\n",
       "15    0.038730                          elev_etopo1\n",
       "22    0.033956                    precip_OctSep:lon\n",
       "11    0.025489                precipPrevious_JunAug\n",
       "0     0.024341                      meanTemp_Annual\n",
       "3     0.023119                   meanMinTemp_DecFeb\n",
       "1     0.022275                      meanTemp_AprAug\n",
       "5     0.021243                      meanMinTemp_Jan\n",
       "7     0.020805                      meanMaxTemp_Aug\n",
       "29    0.019715                    precip_OctSep:lat\n",
       "2     0.019324                         meanTemp_Aug\n",
       "31    0.018885          precip_OctSep:precip_OctSep\n",
       "23    0.018067   precip_OctSep:precip_growingSeason\n",
       "6     0.017779                      meanMinTemp_Mar\n",
       "20    0.017739  precip_OctSep:precipPrevious_OctSep\n",
       "14    0.016213                 precip_growingSeason\n",
       "32    0.015806        meanMaxTemp_Aug:precip_OctSep\n",
       "12    0.013529                        precip_OctSep\n",
       "30    0.013066      precip_OctSep:precip_meanAnnual\n",
       "8     0.012825                    precip_meanAnnual\n",
       "21    0.012233         meanTemp_Aug:meanMinTemp_Oct\n",
       "19    0.012049      precip_meanAnnual:precip_OctSep\n",
       "13    0.011654                precipPrevious_OctSep\n",
       "4     0.011126                      meanMinTemp_Oct\n",
       "18    0.011114        meanMinTemp_Oct:precip_OctSep\n",
       "33    0.010698        meanTemp_AprAug:precip_OctSep\n",
       "24    0.010184        precip_OctSep:meanMaxTemp_Aug\n",
       "27    0.010172        precip_OctSep:meanMinTemp_Oct\n",
       "25    0.009534    meanMinTemp_Oct:precip_meanAnnual\n",
       "34    0.008053           meanTemp_Aug:precip_OctSep\n",
       "26    0.007342           precip_OctSep:meanTemp_Aug"
      ]
     },
     "execution_count": 92,
     "metadata": {},
     "output_type": "execute_result"
    }
   ],
   "source": [
    "feat_importance = pd.DataFrame({'predictor': predictors, \n",
    "                                'importance': tree.feature_importances_})\n",
    "feat_importance = feat_importance.sort_values('importance', \n",
    "                                              ascending=False)\n",
    "feat_importance"
   ]
  },
  {
   "cell_type": "code",
   "execution_count": null,
   "metadata": {
    "collapsed": true
   },
   "outputs": [],
   "source": []
  }
 ],
 "metadata": {
  "kernelspec": {
   "display_name": "Python 3",
   "language": "python",
   "name": "python3"
  },
  "language_info": {
   "codemirror_mode": {
    "name": "ipython",
    "version": 3
   },
   "file_extension": ".py",
   "mimetype": "text/x-python",
   "name": "python",
   "nbconvert_exporter": "python",
   "pygments_lexer": "ipython3",
   "version": "3.6.1"
  }
 },
 "nbformat": 4,
 "nbformat_minor": 0
}
