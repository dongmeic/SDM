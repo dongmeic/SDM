{
 "cells": [
  {
   "cell_type": "code",
   "execution_count": 1,
   "metadata": {
    "collapsed": false
   },
   "outputs": [],
   "source": [
    "import os\n",
    "import sys\n",
    "import time\n",
    "\n",
    "import matplotlib.pyplot as plt\n",
    "import numpy as np\n",
    "import pandas as pd\n",
    "from pylab import *\n",
    "from sklearn.linear_model import LogisticRegression, Ridge\n",
    "from sklearn.pipeline import Pipeline\n",
    "from sklearn.model_selection import GridSearchCV\n",
    "from sklearn.preprocessing import StandardScaler\n",
    "\n",
    "sys.path.append('..')\n",
    "import model_utils as util\n",
    "\n",
    "%matplotlib inline\n",
    "plt.rcParams['figure.figsize'] = 10, 8"
   ]
  },
  {
   "cell_type": "code",
   "execution_count": 2,
   "metadata": {
    "collapsed": false
   },
   "outputs": [],
   "source": [
    "DATA_PATH =  '../../../data/cluster/year/'\n",
    "#os.listdir(DATA_PATH)"
   ]
  },
  {
   "cell_type": "code",
   "execution_count": 3,
   "metadata": {
    "collapsed": false
   },
   "outputs": [
    {
     "name": "stdout",
     "output_type": "stream",
     "text": [
      "X_train: (529623, 24)\n",
      "X_valid: (176541, 24)\n",
      "X_test: (176541, 24)\n",
      "y_train: (529623, 1)\n",
      "y_valid: (176541, 1)\n",
      "y_test: (176541, 1)\n"
     ]
    }
   ],
   "source": [
    "[[X_train, y_train], \n",
    " [X_valid, y_valid], \n",
    " [X_test, y_test]] = util.load_data(DATA_PATH)"
   ]
  },
  {
   "cell_type": "code",
   "execution_count": 4,
   "metadata": {
    "collapsed": false
   },
   "outputs": [],
   "source": [
    "# See sdm/R/models/logisticModEDA.R.ipynb for details\n",
    "def transform(field, field_name, transform_map):\n",
    "    field_min = field.min()\n",
    "    field = (field + np.abs(field_min) + 1) ** transform_map[field_name]\n",
    "    return field"
   ]
  },
  {
   "cell_type": "code",
   "execution_count": 5,
   "metadata": {
    "collapsed": false
   },
   "outputs": [],
   "source": [
    "def transform_data_set(dataframe):\n",
    "    data = dataframe.copy()\n",
    "    transform_map = {\n",
    "        'meanTemp_Annual': 0.4897778,\n",
    "        'meanTemp_AprAug': 0.3060202,\n",
    "        'meanTemp_Aug': 0.137697,\n",
    "        'meanMinTemp_DecFeb': 0.9713939,\n",
    "        'meanMinTemp_Oct': -0.1194343,\n",
    "        'meanMinTemp_Jan': 1.064485,\n",
    "        'meanMinTemp_Mar': 1.355394,\n",
    "        'meanMaxTemp_Aug': 0.5649293,\n",
    "        'precip_meanAnnual': 0.05793939,\n",
    "        'precip_JunAug': 0.6671515,\n",
    "        'precipPrevious_JunAug': 0.6300606,\n",
    "        'precip_OctSep': 0.004686869,\n",
    "        'precipPrevious_OctSep': 0.06690909,\n",
    "        'precip_growingSeason': 0.4829899,\n",
    "        'varPrecip_growingSeason': 0.349899,\n",
    "        'elev_etopo1': 0.4753939}\n",
    "    for field in transform_map:\n",
    "        data[field] = transform(data[field], field, transform_map)\n",
    "    return data"
   ]
  },
  {
   "cell_type": "code",
   "execution_count": 6,
   "metadata": {
    "collapsed": false
   },
   "outputs": [],
   "source": [
    "def make_squared(dataframe, fields):\n",
    "    df = dataframe.copy()\n",
    "    for field in fields:\n",
    "        df['%s_sq' % field] = df[field] ** 2\n",
    "    return df"
   ]
  },
  {
   "cell_type": "code",
   "execution_count": 7,
   "metadata": {
    "collapsed": true
   },
   "outputs": [],
   "source": [
    "def make_interactions(dataframe, interactions):\n",
    "    df = dataframe.copy()\n",
    "    for interaction in interactions:\n",
    "        main_effects = interaction.split(':')\n",
    "        df[interaction] = df[main_effects[0]] * df[main_effects[1]]\n",
    "    return df"
   ]
  },
  {
   "cell_type": "code",
   "execution_count": 8,
   "metadata": {
    "collapsed": false
   },
   "outputs": [],
   "source": [
    "sq_fields = [\n",
    "    'meanTemp_Annual', 'meanTemp_AprAug', 'meanTemp_Aug',\n",
    "    'meanMinTemp_DecFeb', 'meanMinTemp_Oct', 'meanMinTemp_Jan',\n",
    "    'meanMinTemp_Mar', 'meanMaxTemp_Aug', 'precip_meanAnnual',\n",
    "    'precip_JunAug', 'precipPrevious_JunAug', 'precip_OctSep',\n",
    "    'precipPrevious_OctSep', 'precip_growingSeason',\n",
    "    'elev_etopo1', 'lat', 'lon']\n",
    "interactions = [\n",
    "    'meanMinTemp_Oct:precip_OctSep', 'precip_meanAnnual:precip_OctSep',\n",
    "    'precip_OctSep:precipPrevious_OctSep', 'meanTemp_Aug:meanMinTemp_Oct',\n",
    "    'precip_OctSep:lon', 'precip_OctSep:precip_growingSeason',\n",
    "    'precip_OctSep:meanMaxTemp_Aug', 'meanMinTemp_Oct:precip_meanAnnual',\n",
    "    'precip_OctSep:meanTemp_Aug', 'precip_OctSep:meanMinTemp_Oct',\n",
    "    'precip_OctSep:elev_etopo1', 'precip_OctSep:elev_etopo1',\n",
    "    'precip_OctSep:lat', 'precip_OctSep:precip_growingSeason',\n",
    "    'precip_OctSep:precipPrevious_OctSep',\n",
    "    'precip_OctSep:precip_meanAnnual', 'precip_OctSep:precip_OctSep',\n",
    "    'meanMaxTemp_Aug:precip_OctSep', 'meanTemp_AprAug:precip_OctSep',\n",
    "    'precip_OctSep:varPrecip_growingSeason', 'meanTemp_Aug:precip_OctSep']"
   ]
  },
  {
   "cell_type": "code",
   "execution_count": 9,
   "metadata": {
    "collapsed": false
   },
   "outputs": [],
   "source": [
    "#X_train = transform_data_set(X_train)\n",
    "#X_valid = transform_data_set(X_valid)\n",
    "#X_test  = transform_data_set(X_test)"
   ]
  },
  {
   "cell_type": "code",
   "execution_count": 10,
   "metadata": {
    "collapsed": false
   },
   "outputs": [],
   "source": [
    "X_train = make_squared(X_train, sq_fields)\n",
    "X_valid = make_squared(X_valid, sq_fields)\n",
    "X_test  = make_squared(X_test, sq_fields)"
   ]
  },
  {
   "cell_type": "code",
   "execution_count": 11,
   "metadata": {
    "collapsed": true
   },
   "outputs": [],
   "source": [
    "X_train = make_interactions(X_train, interactions)\n",
    "X_valid = make_interactions(X_valid, interactions)\n",
    "X_test  = make_interactions(X_test, interactions)"
   ]
  },
  {
   "cell_type": "code",
   "execution_count": 12,
   "metadata": {
    "collapsed": false
   },
   "outputs": [],
   "source": [
    "#list(X_train)"
   ]
  },
  {
   "cell_type": "code",
   "execution_count": 13,
   "metadata": {
    "collapsed": false
   },
   "outputs": [
    {
     "name": "stdout",
     "output_type": "stream",
     "text": [
      "Percent presence in y_train: 17.26%\n",
      "Percent presence in y_valid: 13.92%\n",
      "Percent presence in y_test: 12.64%\n"
     ]
    }
   ],
   "source": [
    "util.print_percent_presence(y_train, 'y_train')\n",
    "util.print_percent_presence(y_valid, 'y_valid')\n",
    "util.print_percent_presence(y_test,  'y_test')"
   ]
  },
  {
   "cell_type": "code",
   "execution_count": 14,
   "metadata": {
    "collapsed": false
   },
   "outputs": [
    {
     "name": "stdout",
     "output_type": "stream",
     "text": [
      "Baseline accuracy if predicting \"absent\" for all cells:\n",
      "  train: 82.74\n",
      "  valid: 86.08\n",
      "  test:  87.36\n"
     ]
    }
   ],
   "source": [
    "print('Baseline accuracy if predicting \"absent\" for all cells:')\n",
    "print('  train:', 100 - 17.26)\n",
    "print('  valid:', 100 - 13.92)\n",
    "print('  test: ', 100 - 12.64)"
   ]
  },
  {
   "cell_type": "code",
   "execution_count": 15,
   "metadata": {
    "collapsed": false
   },
   "outputs": [],
   "source": [
    "#np.isfinite(X_valid).all()"
   ]
  },
  {
   "cell_type": "code",
   "execution_count": 16,
   "metadata": {
    "collapsed": false
   },
   "outputs": [],
   "source": [
    "#X_train, y_train = util.drop_nans(\n",
    "#    X_train, y_train, 'varPrecip_growingSeason')\n",
    "#X_valid, y_valid = util.drop_nans(\n",
    "#    X_valid, y_valid, 'varPrecip_growingSeason')\n",
    "#X_test,  y_test  = util.drop_nans(\n",
    "#    X_test,  y_test,  'varPrecip_growingSeason')\n",
    "\n",
    "#X_train, y_train = util.drop_nans(\n",
    "#    X_train, y_train, 'precip_OctSep:varPrecip_growingSeason')\n",
    "#X_valid, y_valid = util.drop_nans(\n",
    "#    X_valid, y_valid, 'precip_OctSep:varPrecip_growingSeason')\n",
    "#X_test,  y_test  = util.drop_nans(\n",
    "#    X_test,  y_test,  'precip_OctSep:varPrecip_growingSeason')"
   ]
  },
  {
   "cell_type": "code",
   "execution_count": 17,
   "metadata": {
    "collapsed": false
   },
   "outputs": [],
   "source": [
    "full_test = X_test.copy()\n",
    "full_test['beetle'] = y_test['beetle']"
   ]
  },
  {
   "cell_type": "code",
   "execution_count": 18,
   "metadata": {
    "collapsed": false
   },
   "outputs": [],
   "source": [
    "# Drop 'studyArea' from predictors (all 1 in the reduced data) and 'x' and\n",
    "# 'y' (perfectly correlated with 'lon' and 'lat')\n",
    "X_train = X_train.drop(\n",
    "    ['studyArea', 'x', 'y', 'elev_srtm30', 'year', \n",
    "     'varPrecip_growingSeason', 'precip_OctSep:varPrecip_growingSeason'], \n",
    "    axis=1)\n",
    "X_valid = X_valid.drop(\n",
    "    ['studyArea', 'x', 'y', 'elev_srtm30', 'year', \n",
    "     'varPrecip_growingSeason', 'precip_OctSep:varPrecip_growingSeason'], \n",
    "    axis=1)\n",
    "X_test  = X_test.drop(\n",
    "    ['studyArea', 'x', 'y', 'elev_srtm30', 'year', \n",
    "     'varPrecip_growingSeason', 'precip_OctSep:varPrecip_growingSeason'], \n",
    "    axis=1)"
   ]
  },
  {
   "cell_type": "code",
   "execution_count": 19,
   "metadata": {
    "collapsed": false
   },
   "outputs": [
    {
     "name": "stdout",
     "output_type": "stream",
     "text": [
      "['meanTemp_Annual', 'meanTemp_AprAug', 'meanTemp_Aug', 'meanMinTemp_DecFeb', 'meanMinTemp_Oct', 'meanMinTemp_Jan', 'meanMinTemp_Mar', 'meanMaxTemp_Aug', 'precip_meanAnnual', 'precip_JunAug', 'vegetation', 'precipPrevious_JunAug', 'precip_OctSep', 'precipPrevious_OctSep', 'precip_growingSeason', 'elev_etopo1', 'lat', 'lon', 'meanTemp_Annual_sq', 'meanTemp_AprAug_sq', 'meanTemp_Aug_sq', 'meanMinTemp_DecFeb_sq', 'meanMinTemp_Oct_sq', 'meanMinTemp_Jan_sq', 'meanMinTemp_Mar_sq', 'meanMaxTemp_Aug_sq', 'precip_meanAnnual_sq', 'precip_JunAug_sq', 'precipPrevious_JunAug_sq', 'precip_OctSep_sq', 'precipPrevious_OctSep_sq', 'precip_growingSeason_sq', 'elev_etopo1_sq', 'lat_sq', 'lon_sq', 'meanMinTemp_Oct:precip_OctSep', 'precip_meanAnnual:precip_OctSep', 'precip_OctSep:precipPrevious_OctSep', 'meanTemp_Aug:meanMinTemp_Oct', 'precip_OctSep:lon', 'precip_OctSep:precip_growingSeason', 'precip_OctSep:meanMaxTemp_Aug', 'meanMinTemp_Oct:precip_meanAnnual', 'precip_OctSep:meanTemp_Aug', 'precip_OctSep:meanMinTemp_Oct', 'precip_OctSep:elev_etopo1', 'precip_OctSep:lat', 'precip_OctSep:precip_meanAnnual', 'precip_OctSep:precip_OctSep', 'meanMaxTemp_Aug:precip_OctSep', 'meanTemp_AprAug:precip_OctSep', 'meanTemp_Aug:precip_OctSep']\n"
     ]
    }
   ],
   "source": [
    "predictors = list(X_train)\n",
    "print(predictors)"
   ]
  },
  {
   "cell_type": "code",
   "execution_count": 20,
   "metadata": {
    "collapsed": false
   },
   "outputs": [],
   "source": [
    "# Normalize data to make gradient descent more efficient\n",
    "scaler = StandardScaler()\n",
    "X_train = scaler.fit_transform(X_train)\n",
    "X_valid = scaler.transform(X_valid)\n",
    "X_test  = scaler.transform(X_test)"
   ]
  },
  {
   "cell_type": "code",
   "execution_count": 21,
   "metadata": {
    "collapsed": false
   },
   "outputs": [],
   "source": [
    "y_train = y_train['beetle'].values.reshape(-1)\n",
    "y_valid = y_valid['beetle'].values.reshape(-1)\n",
    "y_test  = y_test['beetle'].values.reshape(-1)"
   ]
  },
  {
   "cell_type": "markdown",
   "metadata": {},
   "source": [
    "# Baseline Logistic Regression \n",
    "#### With L1 (_Lasso Regression_) or L2 (_Ridge Regression_ ) Regularization\n",
    "This model will be considered the baseline for logistic regression models as it uses just the raw predictors.  After some EDA, various transformations and interaction terms will also be considered in order to improve the model."
   ]
  },
  {
   "cell_type": "code",
   "execution_count": null,
   "metadata": {
    "collapsed": false
   },
   "outputs": [
    {
     "name": "stdout",
     "output_type": "stream",
     "text": [
      "Testing C = 0.0001\n",
      "  l1: 0.865147472825\n",
      "  l2: 0.887306631321\n",
      "Testing C = 0.001\n",
      "  l1: 0.892886071791\n",
      "  l2: 0.893820698874\n",
      "Testing C = 0.01\n",
      "  l1: 0.890648631196\n",
      "  l2: 0.890620309163\n",
      "Testing C = 0.1\n",
      "  l1: "
     ]
    }
   ],
   "source": [
    "# Find optimal regularization via best validation-set accuracy\n",
    "l1_mods = []\n",
    "l2_mods = []\n",
    "Cs = np.logspace(-4, 0, 5)\n",
    "\n",
    "t0 = time.time()\n",
    "for C in Cs:\n",
    "    print('Testing C =', C)\n",
    "    for penalty in ['l1', 'l2']:\n",
    "        print('  %s:' % penalty, end=' ')\n",
    "        logistic_clf = LogisticRegression(C=C, penalty=penalty)\n",
    "        logistic_clf.fit(X_train, y_train)\n",
    "        preds = logistic_clf.predict(X_valid)\n",
    "        accuracy = sum(y_valid == preds) / len(preds)\n",
    "        print(accuracy)\n",
    "        if penalty == 'l1':\n",
    "            l1_mods.append(accuracy)\n",
    "        else:\n",
    "            l2_mods.append(accuracy)\n",
    "        #print('Elapsed time: %.2f minutes' % ((time.time() - t0) / 60))"
   ]
  },
  {
   "cell_type": "code",
   "execution_count": null,
   "metadata": {
    "collapsed": false
   },
   "outputs": [],
   "source": [
    "plt.plot(Cs, l1_mods, label='L1 Reg.');\n",
    "plt.plot(Cs, l2_mods, label='L2 Reg.');\n",
    "plt.xscale('log');\n",
    "plt.xlabel('C');\n",
    "plt.ylabel('Accuracy');\n",
    "plt.legend(loc='best');"
   ]
  },
  {
   "cell_type": "code",
   "execution_count": 22,
   "metadata": {
    "collapsed": false
   },
   "outputs": [
    {
     "name": "stdout",
     "output_type": "stream",
     "text": [
      "Testing C = 0.000316227766017\n",
      "  l1: 0.887148027937\n",
      "  l2: 0.892812434505\n",
      "Testing C = 0.00056234132519\n",
      "  l1: 0.891441648116\n",
      "  l2: 0.893429854821\n",
      "Testing C = 0.001\n",
      "  l1: 0.892874742978\n",
      "  l2: 0.893820698874\n",
      "Testing C = 0.00177827941004\n",
      "  l1: 0.893044675175\n",
      "  l2: 0.893520485326\n",
      "Testing C = 0.00316227766017\n",
      "  l1: 0.892472570111\n",
      "  l2: 0.893254258218\n"
     ]
    }
   ],
   "source": [
    "# Find optimal regularization via best validation-set accuracy\n",
    "l1_mods = []\n",
    "l2_mods = []\n",
    "Cs = np.logspace(-3.5, -2.5, 5)\n",
    "\n",
    "t0 = time.time()\n",
    "for C in Cs:\n",
    "    print('Testing C =', C)\n",
    "    for penalty in ['l1', 'l2']:\n",
    "        print('  %s:' % penalty, end=' ')\n",
    "        logistic_clf = LogisticRegression(C=C, penalty=penalty)\n",
    "        logistic_clf.fit(X_train, y_train)\n",
    "        preds = logistic_clf.predict(X_valid)\n",
    "        accuracy = sum(y_valid == preds) / len(preds)\n",
    "        print(accuracy)\n",
    "        if penalty == 'l1':\n",
    "            l1_mods.append(accuracy)\n",
    "        else:\n",
    "            l2_mods.append(accuracy)\n",
    "        #print('Elapsed time: %.2f minutes' % ((time.time() - t0) / 60))"
   ]
  },
  {
   "cell_type": "code",
   "execution_count": 23,
   "metadata": {
    "collapsed": false
   },
   "outputs": [
    {
     "data": {
      "image/png": "[encoded data removed]",
      "text/plain": [
       "<matplotlib.figure.Figure at 0x10223d048>"
      ]
     },
     "metadata": {},
     "output_type": "display_data"
    }
   ],
   "source": [
    "plt.plot(Cs, l1_mods, label='L1 Reg.');\n",
    "plt.plot(Cs, l2_mods, label='L2 Reg.');\n",
    "plt.xscale('log');\n",
    "plt.xlabel('C');\n",
    "plt.ylabel('Accuracy');\n",
    "plt.legend(loc='best');"
   ]
  },
  {
   "cell_type": "code",
   "execution_count": 22,
   "metadata": {
    "collapsed": false
   },
   "outputs": [
    {
     "data": {
      "text/plain": [
       "0.88458205176134719"
      ]
     },
     "execution_count": 22,
     "metadata": {},
     "output_type": "execute_result"
    }
   ],
   "source": [
    "logistic_clf = LogisticRegression(C=0.001, penalty='l2')\n",
    "logistic_clf.fit(X_train, y_train)\n",
    "preds = logistic_clf.predict(X_test)\n",
    "accuracy = sum(y_test == preds) / len(preds)\n",
    "accuracy"
   ]
  },
  {
   "cell_type": "code",
   "execution_count": 23,
   "metadata": {
    "collapsed": true
   },
   "outputs": [],
   "source": [
    "def get_predictions_at_threshold(pred_ps, threshold):\n",
    "    return 1 * (pred_ps >= threshold)\n",
    "\n",
    "def threshold_plot(pred_ps, targets):\n",
    "    thresholds = np.linspace(0, 1, 500)\n",
    "    accuracies = []\n",
    "    n = len(pred_ps)\n",
    "\n",
    "    for threshold in thresholds:\n",
    "        preds = get_predictions_at_threshold(pred_ps, threshold)\n",
    "        accuracies.append((preds == targets).sum() / n)\n",
    "        \n",
    "    plt.plot(thresholds, accuracies);\n",
    "    optimal_threshold = thresholds[np.argmax(accuracies)]\n",
    "    optimal_accuracy = max(accuracies)\n",
    "    plt.plot([optimal_threshold, optimal_threshold], \n",
    "             [min(accuracies), max(accuracies)], \n",
    "             'r')\n",
    "    plt.plot([0, 1], [optimal_accuracy, optimal_accuracy], 'r')\n",
    "    plt.xlabel('Threshold for predicting \"Renewal\"')\n",
    "    plt.ylabel('Accuracy')\n",
    "    plt.show()\n",
    "    return {'threshold': optimal_threshold, 'accuracy': optimal_accuracy}"
   ]
  },
  {
   "cell_type": "code",
   "execution_count": 24,
   "metadata": {
    "collapsed": false
   },
   "outputs": [
    {
     "name": "stdout",
     "output_type": "stream",
     "text": [
      "[[  9.99298994e-01   7.01005806e-04]\n",
      " [  9.99385156e-01   6.14844005e-04]\n",
      " [  9.99500304e-01   4.99695979e-04]\n",
      " [  9.98990712e-01   1.00928773e-03]\n",
      " [  9.99125519e-01   8.74480872e-04]]\n"
     ]
    },
    {
     "data": {
      "image/png": "[encoded data removed]",
      "text/plain": [
       "<matplotlib.figure.Figure at 0x11db90a58>"
      ]
     },
     "metadata": {},
     "output_type": "display_data"
    },
    {
     "name": "stdout",
     "output_type": "stream",
     "text": [
      "{'threshold': 0.60521042084168331, 'accuracy': 0.8884621702607326}\n"
     ]
    }
   ],
   "source": [
    "pred_ps = logistic_clf.predict_proba(X_test)\n",
    "print(pred_ps[:5])\n",
    "pred_ps = np.array([p[1] for p in pred_ps])\n",
    "pred_ps[:5]\n",
    "\n",
    "THRESHOLD = 0.5\n",
    "preds = get_predictions_at_threshold(pred_ps, THRESHOLD)\n",
    "preds[:5]\n",
    "\n",
    "best_threshold = threshold_plot(pred_ps, y_test);\n",
    "print(best_threshold)"
   ]
  },
  {
   "cell_type": "code",
   "execution_count": 25,
   "metadata": {
    "collapsed": false
   },
   "outputs": [],
   "source": [
    "preds = logistic_clf.predict(X_test)"
   ]
  },
  {
   "cell_type": "code",
   "execution_count": 26,
   "metadata": {
    "collapsed": false
   },
   "outputs": [
    {
     "name": "stdout",
     "output_type": "stream",
     "text": [
      "Confusion Matrix:\n",
      "         Predicted:\n",
      "         \t1\t\t0\n",
      "Actual: 1\t13090\t\t9225\n",
      "        0\t11151\t\t143075\n",
      "Accuracy:  0.884582051761\n",
      "Precision: 0.539994224661\n",
      "Recall:    0.586600941071\n",
      "F1:        0.562333533809\n"
     ]
    }
   ],
   "source": [
    "cm = util.make_confusion_matrix(y_test, pred_ps, 0.5)\n",
    "metrics = util.get_metrics(cm)"
   ]
  },
  {
   "cell_type": "code",
   "execution_count": 27,
   "metadata": {
    "collapsed": false
   },
   "outputs": [
    {
     "name": "stdout",
     "output_type": "stream",
     "text": [
      "Confusion Matrix:\n",
      "         Predicted:\n",
      "         \t1\t\t0\n",
      "Actual: 1\t9183\t\t13132\n",
      "        0\t6559\t\t147667\n",
      "Accuracy:  0.888462170261\n",
      "Precision: 0.583343920722\n",
      "Recall:    0.411516916872\n",
      "F1:        0.482591901621\n"
     ]
    }
   ],
   "source": [
    "cm = util.make_confusion_matrix(y_test, pred_ps, 0.60521042084168331)\n",
    "metrics = util.get_metrics(cm)"
   ]
  },
  {
   "cell_type": "code",
   "execution_count": 28,
   "metadata": {
    "collapsed": false
   },
   "outputs": [
    {
     "name": "stdout",
     "output_type": "stream",
     "text": [
      "AUC:       0.918877659712\n"
     ]
    }
   ],
   "source": [
    "auc_metrics = util.get_auc(y_test, pred_ps)"
   ]
  },
  {
   "cell_type": "code",
   "execution_count": 29,
   "metadata": {
    "collapsed": false
   },
   "outputs": [
    {
     "data": {
      "image/png": "[encoded data removed]",
      "text/plain": [
       "<matplotlib.figure.Figure at 0x11db90ef0>"
      ]
     },
     "metadata": {},
     "output_type": "display_data"
    }
   ],
   "source": [
    "util.plot_roc(auc_metrics['fpr'], auc_metrics['tpr'])"
   ]
  },
  {
   "cell_type": "code",
   "execution_count": 30,
   "metadata": {
    "collapsed": false
   },
   "outputs": [
    {
     "data": {
      "text/html": [
       "<div>\n",
       "<style>\n",
       "    .dataframe thead tr:only-child th {\n",
       "        text-align: right;\n",
       "    }\n",
       "\n",
       "    .dataframe thead th {\n",
       "        text-align: left;\n",
       "    }\n",
       "\n",
       "    .dataframe tbody tr th {\n",
       "        vertical-align: top;\n",
       "    }\n",
       "</style>\n",
       "<table border=\"1\" class=\"dataframe\">\n",
       "  <thead>\n",
       "    <tr style=\"text-align: right;\">\n",
       "      <th></th>\n",
       "      <th>predictor</th>\n",
       "      <th>coef</th>\n",
       "    </tr>\n",
       "  </thead>\n",
       "  <tbody>\n",
       "    <tr>\n",
       "      <th>10</th>\n",
       "      <td>vegetation</td>\n",
       "      <td>1.184105</td>\n",
       "    </tr>\n",
       "    <tr>\n",
       "      <th>18</th>\n",
       "      <td>meanTemp_Annual_sq</td>\n",
       "      <td>-0.783037</td>\n",
       "    </tr>\n",
       "    <tr>\n",
       "      <th>16</th>\n",
       "      <td>lat</td>\n",
       "      <td>0.753304</td>\n",
       "    </tr>\n",
       "    <tr>\n",
       "      <th>20</th>\n",
       "      <td>meanTemp_Aug_sq</td>\n",
       "      <td>-0.705896</td>\n",
       "    </tr>\n",
       "    <tr>\n",
       "      <th>9</th>\n",
       "      <td>precip_JunAug</td>\n",
       "      <td>-0.685679</td>\n",
       "    </tr>\n",
       "    <tr>\n",
       "      <th>19</th>\n",
       "      <td>meanTemp_AprAug_sq</td>\n",
       "      <td>-0.592755</td>\n",
       "    </tr>\n",
       "    <tr>\n",
       "      <th>21</th>\n",
       "      <td>meanMinTemp_DecFeb_sq</td>\n",
       "      <td>-0.532453</td>\n",
       "    </tr>\n",
       "    <tr>\n",
       "      <th>23</th>\n",
       "      <td>meanMinTemp_Jan_sq</td>\n",
       "      <td>-0.528310</td>\n",
       "    </tr>\n",
       "    <tr>\n",
       "      <th>39</th>\n",
       "      <td>precip_OctSep:lon</td>\n",
       "      <td>0.507067</td>\n",
       "    </tr>\n",
       "    <tr>\n",
       "      <th>7</th>\n",
       "      <td>meanMaxTemp_Aug</td>\n",
       "      <td>0.470431</td>\n",
       "    </tr>\n",
       "    <tr>\n",
       "      <th>14</th>\n",
       "      <td>precip_growingSeason</td>\n",
       "      <td>0.451489</td>\n",
       "    </tr>\n",
       "    <tr>\n",
       "      <th>0</th>\n",
       "      <td>meanTemp_Annual</td>\n",
       "      <td>0.446291</td>\n",
       "    </tr>\n",
       "    <tr>\n",
       "      <th>41</th>\n",
       "      <td>precip_OctSep:meanMaxTemp_Aug</td>\n",
       "      <td>0.437701</td>\n",
       "    </tr>\n",
       "    <tr>\n",
       "      <th>49</th>\n",
       "      <td>meanMaxTemp_Aug:precip_OctSep</td>\n",
       "      <td>0.437701</td>\n",
       "    </tr>\n",
       "    <tr>\n",
       "      <th>46</th>\n",
       "      <td>precip_OctSep:lat</td>\n",
       "      <td>-0.406316</td>\n",
       "    </tr>\n",
       "    <tr>\n",
       "      <th>45</th>\n",
       "      <td>precip_OctSep:elev_etopo1</td>\n",
       "      <td>0.378316</td>\n",
       "    </tr>\n",
       "    <tr>\n",
       "      <th>6</th>\n",
       "      <td>meanMinTemp_Mar</td>\n",
       "      <td>-0.375397</td>\n",
       "    </tr>\n",
       "    <tr>\n",
       "      <th>8</th>\n",
       "      <td>precip_meanAnnual</td>\n",
       "      <td>-0.346566</td>\n",
       "    </tr>\n",
       "    <tr>\n",
       "      <th>11</th>\n",
       "      <td>precipPrevious_JunAug</td>\n",
       "      <td>-0.340829</td>\n",
       "    </tr>\n",
       "    <tr>\n",
       "      <th>43</th>\n",
       "      <td>precip_OctSep:meanTemp_Aug</td>\n",
       "      <td>0.320060</td>\n",
       "    </tr>\n",
       "    <tr>\n",
       "      <th>51</th>\n",
       "      <td>meanTemp_Aug:precip_OctSep</td>\n",
       "      <td>0.320060</td>\n",
       "    </tr>\n",
       "    <tr>\n",
       "      <th>24</th>\n",
       "      <td>meanMinTemp_Mar_sq</td>\n",
       "      <td>-0.300448</td>\n",
       "    </tr>\n",
       "    <tr>\n",
       "      <th>34</th>\n",
       "      <td>lon_sq</td>\n",
       "      <td>-0.279652</td>\n",
       "    </tr>\n",
       "    <tr>\n",
       "      <th>15</th>\n",
       "      <td>elev_etopo1</td>\n",
       "      <td>0.265752</td>\n",
       "    </tr>\n",
       "    <tr>\n",
       "      <th>30</th>\n",
       "      <td>precipPrevious_OctSep_sq</td>\n",
       "      <td>-0.254187</td>\n",
       "    </tr>\n",
       "    <tr>\n",
       "      <th>50</th>\n",
       "      <td>meanTemp_AprAug:precip_OctSep</td>\n",
       "      <td>0.249934</td>\n",
       "    </tr>\n",
       "    <tr>\n",
       "      <th>12</th>\n",
       "      <td>precip_OctSep</td>\n",
       "      <td>-0.223079</td>\n",
       "    </tr>\n",
       "    <tr>\n",
       "      <th>27</th>\n",
       "      <td>precip_JunAug_sq</td>\n",
       "      <td>0.217388</td>\n",
       "    </tr>\n",
       "    <tr>\n",
       "      <th>40</th>\n",
       "      <td>precip_OctSep:precip_growingSeason</td>\n",
       "      <td>-0.214860</td>\n",
       "    </tr>\n",
       "    <tr>\n",
       "      <th>33</th>\n",
       "      <td>lat_sq</td>\n",
       "      <td>0.211071</td>\n",
       "    </tr>\n",
       "    <tr>\n",
       "      <th>2</th>\n",
       "      <td>meanTemp_Aug</td>\n",
       "      <td>-0.199086</td>\n",
       "    </tr>\n",
       "    <tr>\n",
       "      <th>17</th>\n",
       "      <td>lon</td>\n",
       "      <td>-0.194310</td>\n",
       "    </tr>\n",
       "    <tr>\n",
       "      <th>31</th>\n",
       "      <td>precip_growingSeason_sq</td>\n",
       "      <td>-0.184777</td>\n",
       "    </tr>\n",
       "    <tr>\n",
       "      <th>37</th>\n",
       "      <td>precip_OctSep:precipPrevious_OctSep</td>\n",
       "      <td>-0.177472</td>\n",
       "    </tr>\n",
       "    <tr>\n",
       "      <th>5</th>\n",
       "      <td>meanMinTemp_Jan</td>\n",
       "      <td>0.171662</td>\n",
       "    </tr>\n",
       "    <tr>\n",
       "      <th>28</th>\n",
       "      <td>precipPrevious_JunAug_sq</td>\n",
       "      <td>0.167043</td>\n",
       "    </tr>\n",
       "    <tr>\n",
       "      <th>29</th>\n",
       "      <td>precip_OctSep_sq</td>\n",
       "      <td>-0.136439</td>\n",
       "    </tr>\n",
       "    <tr>\n",
       "      <th>48</th>\n",
       "      <td>precip_OctSep:precip_OctSep</td>\n",
       "      <td>-0.136439</td>\n",
       "    </tr>\n",
       "    <tr>\n",
       "      <th>44</th>\n",
       "      <td>precip_OctSep:meanMinTemp_Oct</td>\n",
       "      <td>-0.128094</td>\n",
       "    </tr>\n",
       "    <tr>\n",
       "      <th>35</th>\n",
       "      <td>meanMinTemp_Oct:precip_OctSep</td>\n",
       "      <td>-0.128094</td>\n",
       "    </tr>\n",
       "    <tr>\n",
       "      <th>25</th>\n",
       "      <td>meanMaxTemp_Aug_sq</td>\n",
       "      <td>-0.119633</td>\n",
       "    </tr>\n",
       "    <tr>\n",
       "      <th>38</th>\n",
       "      <td>meanTemp_Aug:meanMinTemp_Oct</td>\n",
       "      <td>-0.103976</td>\n",
       "    </tr>\n",
       "    <tr>\n",
       "      <th>13</th>\n",
       "      <td>precipPrevious_OctSep</td>\n",
       "      <td>-0.096371</td>\n",
       "    </tr>\n",
       "    <tr>\n",
       "      <th>47</th>\n",
       "      <td>precip_OctSep:precip_meanAnnual</td>\n",
       "      <td>-0.094174</td>\n",
       "    </tr>\n",
       "    <tr>\n",
       "      <th>36</th>\n",
       "      <td>precip_meanAnnual:precip_OctSep</td>\n",
       "      <td>-0.094174</td>\n",
       "    </tr>\n",
       "    <tr>\n",
       "      <th>26</th>\n",
       "      <td>precip_meanAnnual_sq</td>\n",
       "      <td>-0.090549</td>\n",
       "    </tr>\n",
       "    <tr>\n",
       "      <th>4</th>\n",
       "      <td>meanMinTemp_Oct</td>\n",
       "      <td>0.079619</td>\n",
       "    </tr>\n",
       "    <tr>\n",
       "      <th>42</th>\n",
       "      <td>meanMinTemp_Oct:precip_meanAnnual</td>\n",
       "      <td>-0.075478</td>\n",
       "    </tr>\n",
       "    <tr>\n",
       "      <th>22</th>\n",
       "      <td>meanMinTemp_Oct_sq</td>\n",
       "      <td>0.067976</td>\n",
       "    </tr>\n",
       "    <tr>\n",
       "      <th>3</th>\n",
       "      <td>meanMinTemp_DecFeb</td>\n",
       "      <td>0.057522</td>\n",
       "    </tr>\n",
       "    <tr>\n",
       "      <th>1</th>\n",
       "      <td>meanTemp_AprAug</td>\n",
       "      <td>-0.032208</td>\n",
       "    </tr>\n",
       "    <tr>\n",
       "      <th>32</th>\n",
       "      <td>elev_etopo1_sq</td>\n",
       "      <td>-0.019471</td>\n",
       "    </tr>\n",
       "  </tbody>\n",
       "</table>\n",
       "</div>"
      ],
      "text/plain": [
       "                              predictor      coef\n",
       "10                           vegetation  1.184105\n",
       "18                   meanTemp_Annual_sq -0.783037\n",
       "16                                  lat  0.753304\n",
       "20                      meanTemp_Aug_sq -0.705896\n",
       "9                         precip_JunAug -0.685679\n",
       "19                   meanTemp_AprAug_sq -0.592755\n",
       "21                meanMinTemp_DecFeb_sq -0.532453\n",
       "23                   meanMinTemp_Jan_sq -0.528310\n",
       "39                    precip_OctSep:lon  0.507067\n",
       "7                       meanMaxTemp_Aug  0.470431\n",
       "14                 precip_growingSeason  0.451489\n",
       "0                       meanTemp_Annual  0.446291\n",
       "41        precip_OctSep:meanMaxTemp_Aug  0.437701\n",
       "49        meanMaxTemp_Aug:precip_OctSep  0.437701\n",
       "46                    precip_OctSep:lat -0.406316\n",
       "45            precip_OctSep:elev_etopo1  0.378316\n",
       "6                       meanMinTemp_Mar -0.375397\n",
       "8                     precip_meanAnnual -0.346566\n",
       "11                precipPrevious_JunAug -0.340829\n",
       "43           precip_OctSep:meanTemp_Aug  0.320060\n",
       "51           meanTemp_Aug:precip_OctSep  0.320060\n",
       "24                   meanMinTemp_Mar_sq -0.300448\n",
       "34                               lon_sq -0.279652\n",
       "15                          elev_etopo1  0.265752\n",
       "30             precipPrevious_OctSep_sq -0.254187\n",
       "50        meanTemp_AprAug:precip_OctSep  0.249934\n",
       "12                        precip_OctSep -0.223079\n",
       "27                     precip_JunAug_sq  0.217388\n",
       "40   precip_OctSep:precip_growingSeason -0.214860\n",
       "33                               lat_sq  0.211071\n",
       "2                          meanTemp_Aug -0.199086\n",
       "17                                  lon -0.194310\n",
       "31              precip_growingSeason_sq -0.184777\n",
       "37  precip_OctSep:precipPrevious_OctSep -0.177472\n",
       "5                       meanMinTemp_Jan  0.171662\n",
       "28             precipPrevious_JunAug_sq  0.167043\n",
       "29                     precip_OctSep_sq -0.136439\n",
       "48          precip_OctSep:precip_OctSep -0.136439\n",
       "44        precip_OctSep:meanMinTemp_Oct -0.128094\n",
       "35        meanMinTemp_Oct:precip_OctSep -0.128094\n",
       "25                   meanMaxTemp_Aug_sq -0.119633\n",
       "38         meanTemp_Aug:meanMinTemp_Oct -0.103976\n",
       "13                precipPrevious_OctSep -0.096371\n",
       "47      precip_OctSep:precip_meanAnnual -0.094174\n",
       "36      precip_meanAnnual:precip_OctSep -0.094174\n",
       "26                 precip_meanAnnual_sq -0.090549\n",
       "4                       meanMinTemp_Oct  0.079619\n",
       "42    meanMinTemp_Oct:precip_meanAnnual -0.075478\n",
       "22                   meanMinTemp_Oct_sq  0.067976\n",
       "3                    meanMinTemp_DecFeb  0.057522\n",
       "1                       meanTemp_AprAug -0.032208\n",
       "32                       elev_etopo1_sq -0.019471"
      ]
     },
     "execution_count": 30,
     "metadata": {},
     "output_type": "execute_result"
    }
   ],
   "source": [
    "coefs = pd.DataFrame(\n",
    "    [[pred, coef] \n",
    "     for pred, coef in zip(predictors, logistic_clf.coef_[0])], \n",
    "    columns=['predictor', 'coef'])\n",
    "coefs['abs'] = np.abs(coefs.coef)\n",
    "coefs = coefs.sort_values('abs', ascending=False)\n",
    "coefs = coefs.drop(['abs'], axis=1)\n",
    "coefs"
   ]
  },
  {
   "cell_type": "code",
   "execution_count": 34,
   "metadata": {
    "collapsed": false
   },
   "outputs": [
    {
     "data": {
      "text/html": [
       "<div>\n",
       "<style>\n",
       "    .dataframe thead tr:only-child th {\n",
       "        text-align: right;\n",
       "    }\n",
       "\n",
       "    .dataframe thead th {\n",
       "        text-align: left;\n",
       "    }\n",
       "\n",
       "    .dataframe tbody tr th {\n",
       "        vertical-align: top;\n",
       "    }\n",
       "</style>\n",
       "<table border=\"1\" class=\"dataframe\">\n",
       "  <thead>\n",
       "    <tr style=\"text-align: right;\">\n",
       "      <th></th>\n",
       "      <th>year</th>\n",
       "      <th>meanTemp_Annual</th>\n",
       "      <th>meanTemp_AprAug</th>\n",
       "      <th>meanTemp_Aug</th>\n",
       "      <th>meanMinTemp_DecFeb</th>\n",
       "      <th>meanMinTemp_Oct</th>\n",
       "      <th>meanMinTemp_Jan</th>\n",
       "      <th>meanMinTemp_Mar</th>\n",
       "      <th>meanMaxTemp_Aug</th>\n",
       "      <th>precip_meanAnnual</th>\n",
       "      <th>...</th>\n",
       "      <th>precip_OctSep:lat</th>\n",
       "      <th>precip_OctSep:precip_meanAnnual</th>\n",
       "      <th>precip_OctSep:precip_OctSep</th>\n",
       "      <th>meanMaxTemp_Aug:precip_OctSep</th>\n",
       "      <th>meanTemp_AprAug:precip_OctSep</th>\n",
       "      <th>precip_OctSep:varPrecip_growingSeason</th>\n",
       "      <th>meanTemp_Aug:precip_OctSep</th>\n",
       "      <th>beetle</th>\n",
       "      <th>preds</th>\n",
       "      <th>probs</th>\n",
       "    </tr>\n",
       "  </thead>\n",
       "  <tbody>\n",
       "    <tr>\n",
       "      <th>0</th>\n",
       "      <td>2000</td>\n",
       "      <td>17.057845</td>\n",
       "      <td>18.892138</td>\n",
       "      <td>21.608865</td>\n",
       "      <td>4.831345</td>\n",
       "      <td>10.825336</td>\n",
       "      <td>6.119776</td>\n",
       "      <td>7.627907</td>\n",
       "      <td>27.147665</td>\n",
       "      <td>7.199924</td>\n",
       "      <td>...</td>\n",
       "      <td>3942.380630</td>\n",
       "      <td>930.493385</td>\n",
       "      <td>16702.086497</td>\n",
       "      <td>3508.470629</td>\n",
       "      <td>2441.554720</td>\n",
       "      <td>87.162470</td>\n",
       "      <td>2792.655201</td>\n",
       "      <td>0</td>\n",
       "      <td>0</td>\n",
       "      <td>0.000701</td>\n",
       "    </tr>\n",
       "    <tr>\n",
       "      <th>1</th>\n",
       "      <td>2000</td>\n",
       "      <td>17.254652</td>\n",
       "      <td>19.109267</td>\n",
       "      <td>21.808772</td>\n",
       "      <td>5.056313</td>\n",
       "      <td>11.052817</td>\n",
       "      <td>6.231007</td>\n",
       "      <td>7.827016</td>\n",
       "      <td>27.346988</td>\n",
       "      <td>6.621443</td>\n",
       "      <td>...</td>\n",
       "      <td>3385.157228</td>\n",
       "      <td>734.347107</td>\n",
       "      <td>12299.783937</td>\n",
       "      <td>3032.901079</td>\n",
       "      <td>2119.301565</td>\n",
       "      <td>87.706257</td>\n",
       "      <td>2418.688598</td>\n",
       "      <td>0</td>\n",
       "      <td>0</td>\n",
       "      <td>0.000615</td>\n",
       "    </tr>\n",
       "    <tr>\n",
       "      <th>2</th>\n",
       "      <td>2000</td>\n",
       "      <td>17.676624</td>\n",
       "      <td>19.746520</td>\n",
       "      <td>22.608925</td>\n",
       "      <td>4.883052</td>\n",
       "      <td>11.081191</td>\n",
       "      <td>6.041158</td>\n",
       "      <td>7.776271</td>\n",
       "      <td>28.596847</td>\n",
       "      <td>6.506222</td>\n",
       "      <td>...</td>\n",
       "      <td>3175.790555</td>\n",
       "      <td>676.543063</td>\n",
       "      <td>10812.676193</td>\n",
       "      <td>2973.615041</td>\n",
       "      <td>2053.322479</td>\n",
       "      <td>180.105604</td>\n",
       "      <td>2350.966874</td>\n",
       "      <td>0</td>\n",
       "      <td>0</td>\n",
       "      <td>0.000500</td>\n",
       "    </tr>\n",
       "    <tr>\n",
       "      <th>3</th>\n",
       "      <td>2000</td>\n",
       "      <td>16.558509</td>\n",
       "      <td>18.864768</td>\n",
       "      <td>22.112176</td>\n",
       "      <td>3.356400</td>\n",
       "      <td>9.556494</td>\n",
       "      <td>4.649940</td>\n",
       "      <td>6.029264</td>\n",
       "      <td>28.749263</td>\n",
       "      <td>9.937936</td>\n",
       "      <td>...</td>\n",
       "      <td>6033.479765</td>\n",
       "      <td>1962.119381</td>\n",
       "      <td>38981.490270</td>\n",
       "      <td>5676.177043</td>\n",
       "      <td>3724.608934</td>\n",
       "      <td>33.989244</td>\n",
       "      <td>4365.768436</td>\n",
       "      <td>0</td>\n",
       "      <td>0</td>\n",
       "      <td>0.001009</td>\n",
       "    </tr>\n",
       "    <tr>\n",
       "      <th>4</th>\n",
       "      <td>2000</td>\n",
       "      <td>16.781979</td>\n",
       "      <td>19.328211</td>\n",
       "      <td>22.731819</td>\n",
       "      <td>3.201135</td>\n",
       "      <td>9.459611</td>\n",
       "      <td>4.256498</td>\n",
       "      <td>5.852778</td>\n",
       "      <td>29.813080</td>\n",
       "      <td>9.939182</td>\n",
       "      <td>...</td>\n",
       "      <td>5961.906526</td>\n",
       "      <td>1937.963301</td>\n",
       "      <td>38018.045803</td>\n",
       "      <td>5813.019043</td>\n",
       "      <td>3768.656495</td>\n",
       "      <td>71.096740</td>\n",
       "      <td>4432.299443</td>\n",
       "      <td>0</td>\n",
       "      <td>0</td>\n",
       "      <td>0.000874</td>\n",
       "    </tr>\n",
       "  </tbody>\n",
       "</table>\n",
       "<p>5 rows × 62 columns</p>\n",
       "</div>"
      ],
      "text/plain": [
       "   year  meanTemp_Annual  meanTemp_AprAug  meanTemp_Aug  meanMinTemp_DecFeb  \\\n",
       "0  2000        17.057845        18.892138     21.608865            4.831345   \n",
       "1  2000        17.254652        19.109267     21.808772            5.056313   \n",
       "2  2000        17.676624        19.746520     22.608925            4.883052   \n",
       "3  2000        16.558509        18.864768     22.112176            3.356400   \n",
       "4  2000        16.781979        19.328211     22.731819            3.201135   \n",
       "\n",
       "   meanMinTemp_Oct  meanMinTemp_Jan  meanMinTemp_Mar  meanMaxTemp_Aug  \\\n",
       "0        10.825336         6.119776         7.627907        27.147665   \n",
       "1        11.052817         6.231007         7.827016        27.346988   \n",
       "2        11.081191         6.041158         7.776271        28.596847   \n",
       "3         9.556494         4.649940         6.029264        28.749263   \n",
       "4         9.459611         4.256498         5.852778        29.813080   \n",
       "\n",
       "   precip_meanAnnual    ...     precip_OctSep:lat  \\\n",
       "0           7.199924    ...           3942.380630   \n",
       "1           6.621443    ...           3385.157228   \n",
       "2           6.506222    ...           3175.790555   \n",
       "3           9.937936    ...           6033.479765   \n",
       "4           9.939182    ...           5961.906526   \n",
       "\n",
       "   precip_OctSep:precip_meanAnnual  precip_OctSep:precip_OctSep  \\\n",
       "0                       930.493385                 16702.086497   \n",
       "1                       734.347107                 12299.783937   \n",
       "2                       676.543063                 10812.676193   \n",
       "3                      1962.119381                 38981.490270   \n",
       "4                      1937.963301                 38018.045803   \n",
       "\n",
       "   meanMaxTemp_Aug:precip_OctSep  meanTemp_AprAug:precip_OctSep  \\\n",
       "0                    3508.470629                    2441.554720   \n",
       "1                    3032.901079                    2119.301565   \n",
       "2                    2973.615041                    2053.322479   \n",
       "3                    5676.177043                    3724.608934   \n",
       "4                    5813.019043                    3768.656495   \n",
       "\n",
       "   precip_OctSep:varPrecip_growingSeason  meanTemp_Aug:precip_OctSep  beetle  \\\n",
       "0                              87.162470                 2792.655201       0   \n",
       "1                              87.706257                 2418.688598       0   \n",
       "2                             180.105604                 2350.966874       0   \n",
       "3                              33.989244                 4365.768436       0   \n",
       "4                              71.096740                 4432.299443       0   \n",
       "\n",
       "   preds     probs  \n",
       "0      0  0.000701  \n",
       "1      0  0.000615  \n",
       "2      0  0.000500  \n",
       "3      0  0.001009  \n",
       "4      0  0.000874  \n",
       "\n",
       "[5 rows x 62 columns]"
      ]
     },
     "execution_count": 34,
     "metadata": {},
     "output_type": "execute_result"
    }
   ],
   "source": [
    "full_test['probs'] = pred_ps\n",
    "full_test['preds'] = get_predictions_at_threshold(pred_ps, \n",
    "                                                  0.60521042084168331)\n",
    "full_test.head()"
   ]
  },
  {
   "cell_type": "code",
   "execution_count": 35,
   "metadata": {
    "collapsed": true
   },
   "outputs": [],
   "source": [
    "def pred_plot(actual_matrix, pred_matrix, error_matrix, year):\n",
    "    plt.subplot(131)\n",
    "    imshow(np.rot90(actual_matrix));\n",
    "    plt.title('%d Actual' % year);\n",
    "    plt.subplot(132)\n",
    "    imshow(np.rot90(pred_matrix));\n",
    "    plt.title('%d Predicted' % year);\n",
    "    plt.subplot(133)\n",
    "    imshow(np.rot90(error_matrix));\n",
    "    plt.title('%d Error' % year);"
   ]
  },
  {
   "cell_type": "code",
   "execution_count": 36,
   "metadata": {
    "collapsed": true
   },
   "outputs": [],
   "source": [
    "def make_actual_pred_and_error_matrices(data, year, plot=False):\n",
    "    data_year = data.loc[data.year == year, :]\n",
    "    actual_matrix = util.column2matrix(data_year, 'beetle')\n",
    "    pred_matrix   = util.column2matrix(data_year, 'preds')\n",
    "    error_matrix  = pred_matrix - actual_matrix\n",
    "    \n",
    "    if plot:\n",
    "        pred_plot(actual_matrix, pred_matrix, error_matrix, year)\n",
    "        \n",
    "    return actual_matrix, pred_matrix, error_matrix"
   ]
  },
  {
   "cell_type": "code",
   "execution_count": 37,
   "metadata": {
    "collapsed": false
   },
   "outputs": [
    {
     "data": {
      "image/png": "[encoded data removed]",
      "text/plain": [
       "<matplotlib.figure.Figure at 0x11634c1d0>"
      ]
     },
     "metadata": {},
     "output_type": "display_data"
    },
    {
     "data": {
      "image/png": "[encoded data removed]",
      "text/plain": [
       "<matplotlib.figure.Figure at 0x11638fd30>"
      ]
     },
     "metadata": {},
     "output_type": "display_data"
    },
    {
     "data": {
      "image/png": "[encoded data removed]",
      "text/plain": [
       "<matplotlib.figure.Figure at 0x10f9b6550>"
      ]
     },
     "metadata": {},
     "output_type": "display_data"
    }
   ],
   "source": [
    "pred_years = [2000, 2001, 2002]\n",
    "for year in pred_years:\n",
    "    plt.figure();\n",
    "    make_actual_pred_and_error_matrices(full_test, year, plot=True)"
   ]
  },
  {
   "cell_type": "markdown",
   "metadata": {
    "collapsed": true
   },
   "source": [
    "Using squared and interaction terms:\n",
    "```\n",
    "Acc: 0.884587716168\n",
    "Adj: 0.888416855008\n",
    "```\n",
    "\n",
    "Using norm-transformations and interaction terms\n",
    "```\n",
    "worse\n",
    "```\n",
    "\n",
    "\n",
    "Using raw and interaction terms\n",
    "```\n",
    "worse\n",
    "```\n",
    "\n",
    "\n",
    "Using raw only\n",
    "```\n",
    "Acc: 0.87328156065729778\n",
    "Adj: 0.888416855008\n",
    "```"
   ]
  },
  {
   "cell_type": "code",
   "execution_count": null,
   "metadata": {
    "collapsed": true
   },
   "outputs": [],
   "source": []
  }
 ],
 "metadata": {
  "kernelspec": {
   "display_name": "Python 3",
   "language": "python",
   "name": "python3"
  },
  "language_info": {
   "codemirror_mode": {
    "name": "ipython",
    "version": 3
   },
   "file_extension": ".py",
   "mimetype": "text/x-python",
   "name": "python",
   "nbconvert_exporter": "python",
   "pygments_lexer": "ipython3",
   "version": "3.6.1"
  }
 },
 "nbformat": 4,
 "nbformat_minor": 0
}
