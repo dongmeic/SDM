{
 "cells": [
  {
   "cell_type": "code",
   "execution_count": 1,
   "metadata": {
    "collapsed": false
   },
   "outputs": [],
   "source": [
    "import matplotlib.pyplot as plt # python graphing library\n",
    "import numpy as np              # python library for vector/array manipulations\n",
    "import pandas as pd             # DataFrame programming in python\n",
    "from pylab import *             # imaging \n",
    "\n",
    "# allow plots to appear in this notebook\n",
    "%matplotlib inline              \n",
    "plt.rcParams['figure.figsize'] = 10, 8 # size of plots"
   ]
  },
  {
   "cell_type": "code",
   "execution_count": 2,
   "metadata": {
    "collapsed": false
   },
   "outputs": [
    {
     "name": "stdout",
     "output_type": "stream",
     "text": [
      "\u001b[34mR\u001b[m\u001b[m         README.md \u001b[34mdata\u001b[m\u001b[m      \u001b[34mpython\u001b[m\u001b[m\r\n"
     ]
    }
   ],
   "source": [
    "!ls ../.."
   ]
  },
  {
   "cell_type": "code",
   "execution_count": 3,
   "metadata": {
    "collapsed": true
   },
   "outputs": [],
   "source": [
    "DATA_PATH = '../../data/dev/'"
   ]
  },
  {
   "cell_type": "code",
   "execution_count": 4,
   "metadata": {
    "collapsed": false
   },
   "outputs": [
    {
     "name": "stdout",
     "output_type": "stream",
     "text": [
      "climatic_variables_longlat_var1000.csv\r\n"
     ]
    }
   ],
   "source": [
    "!ls $DATA_PATH"
   ]
  },
  {
   "cell_type": "code",
   "execution_count": 5,
   "metadata": {
    "collapsed": true
   },
   "outputs": [],
   "source": [
    "clim = pd.read_csv(DATA_PATH + 'climatic_variables_longlat_var1000.csv')\n",
    "clim = clim.iloc[:, 1:]"
   ]
  },
  {
   "cell_type": "code",
   "execution_count": 6,
   "metadata": {
    "collapsed": false
   },
   "outputs": [
    {
     "name": "stdout",
     "output_type": "stream",
     "text": [
      "(999, 682)\n"
     ]
    },
    {
     "data": {
      "text/html": [
       "<div>\n",
       "<style>\n",
       "    .dataframe thead tr:only-child th {\n",
       "        text-align: right;\n",
       "    }\n",
       "\n",
       "    .dataframe thead th {\n",
       "        text-align: left;\n",
       "    }\n",
       "\n",
       "    .dataframe tbody tr th {\n",
       "        vertical-align: top;\n",
       "    }\n",
       "</style>\n",
       "<table border=\"1\" class=\"dataframe\">\n",
       "  <thead>\n",
       "    <tr style=\"text-align: right;\">\n",
       "      <th></th>\n",
       "      <th>x</th>\n",
       "      <th>y</th>\n",
       "      <th>lon</th>\n",
       "      <th>lat</th>\n",
       "      <th>mask</th>\n",
       "      <th>etopo1</th>\n",
       "      <th>srtm30</th>\n",
       "      <th>mat_slice_msk</th>\n",
       "      <th>vgt_mat_msk</th>\n",
       "      <th>btl_mat_msk</th>\n",
       "      <th>...</th>\n",
       "      <th>btl_vgp_msk.11</th>\n",
       "      <th>vgp_slice_msk.12</th>\n",
       "      <th>vgt_vgp_msk.12</th>\n",
       "      <th>btl_vgp_msk.12</th>\n",
       "      <th>vgp_slice_msk.13</th>\n",
       "      <th>vgt_vgp_msk.13</th>\n",
       "      <th>btl_vgp_msk.13</th>\n",
       "      <th>vgp_slice_msk.14</th>\n",
       "      <th>vgt_vgp_msk.14</th>\n",
       "      <th>btl_vgp_msk.14</th>\n",
       "    </tr>\n",
       "  </thead>\n",
       "  <tbody>\n",
       "    <tr>\n",
       "      <th>0</th>\n",
       "      <td>2690000.0</td>\n",
       "      <td>-4510000</td>\n",
       "      <td>-77.292019</td>\n",
       "      <td>5.124395</td>\n",
       "      <td>1</td>\n",
       "      <td>67</td>\n",
       "      <td>78</td>\n",
       "      <td>25.471111</td>\n",
       "      <td>NaN</td>\n",
       "      <td>NaN</td>\n",
       "      <td>...</td>\n",
       "      <td>NaN</td>\n",
       "      <td>0.130108</td>\n",
       "      <td>NaN</td>\n",
       "      <td>NaN</td>\n",
       "      <td>0.470960</td>\n",
       "      <td>NaN</td>\n",
       "      <td>NaN</td>\n",
       "      <td>0.138894</td>\n",
       "      <td>NaN</td>\n",
       "      <td>NaN</td>\n",
       "    </tr>\n",
       "    <tr>\n",
       "      <th>1</th>\n",
       "      <td>2700000.0</td>\n",
       "      <td>-4510000</td>\n",
       "      <td>-77.208582</td>\n",
       "      <td>5.099891</td>\n",
       "      <td>1</td>\n",
       "      <td>61</td>\n",
       "      <td>39</td>\n",
       "      <td>25.745397</td>\n",
       "      <td>NaN</td>\n",
       "      <td>NaN</td>\n",
       "      <td>...</td>\n",
       "      <td>NaN</td>\n",
       "      <td>0.147560</td>\n",
       "      <td>NaN</td>\n",
       "      <td>NaN</td>\n",
       "      <td>0.493110</td>\n",
       "      <td>NaN</td>\n",
       "      <td>NaN</td>\n",
       "      <td>0.147905</td>\n",
       "      <td>NaN</td>\n",
       "      <td>NaN</td>\n",
       "    </tr>\n",
       "    <tr>\n",
       "      <th>2</th>\n",
       "      <td>2710000.0</td>\n",
       "      <td>-4510000</td>\n",
       "      <td>-77.125153</td>\n",
       "      <td>5.075297</td>\n",
       "      <td>1</td>\n",
       "      <td>67</td>\n",
       "      <td>52</td>\n",
       "      <td>25.771355</td>\n",
       "      <td>NaN</td>\n",
       "      <td>NaN</td>\n",
       "      <td>...</td>\n",
       "      <td>NaN</td>\n",
       "      <td>0.153884</td>\n",
       "      <td>NaN</td>\n",
       "      <td>NaN</td>\n",
       "      <td>0.488933</td>\n",
       "      <td>NaN</td>\n",
       "      <td>NaN</td>\n",
       "      <td>0.152029</td>\n",
       "      <td>NaN</td>\n",
       "      <td>NaN</td>\n",
       "    </tr>\n",
       "    <tr>\n",
       "      <th>3</th>\n",
       "      <td>2720000.0</td>\n",
       "      <td>-4510000</td>\n",
       "      <td>-77.041733</td>\n",
       "      <td>5.050615</td>\n",
       "      <td>1</td>\n",
       "      <td>26</td>\n",
       "      <td>22</td>\n",
       "      <td>26.047372</td>\n",
       "      <td>NaN</td>\n",
       "      <td>NaN</td>\n",
       "      <td>...</td>\n",
       "      <td>NaN</td>\n",
       "      <td>0.160750</td>\n",
       "      <td>NaN</td>\n",
       "      <td>NaN</td>\n",
       "      <td>0.485937</td>\n",
       "      <td>NaN</td>\n",
       "      <td>NaN</td>\n",
       "      <td>0.158797</td>\n",
       "      <td>NaN</td>\n",
       "      <td>NaN</td>\n",
       "    </tr>\n",
       "    <tr>\n",
       "      <th>4</th>\n",
       "      <td>2730000.0</td>\n",
       "      <td>-4510000</td>\n",
       "      <td>-76.958322</td>\n",
       "      <td>5.025843</td>\n",
       "      <td>1</td>\n",
       "      <td>43</td>\n",
       "      <td>79</td>\n",
       "      <td>25.815113</td>\n",
       "      <td>NaN</td>\n",
       "      <td>NaN</td>\n",
       "      <td>...</td>\n",
       "      <td>NaN</td>\n",
       "      <td>0.171550</td>\n",
       "      <td>NaN</td>\n",
       "      <td>NaN</td>\n",
       "      <td>0.490959</td>\n",
       "      <td>NaN</td>\n",
       "      <td>NaN</td>\n",
       "      <td>0.168400</td>\n",
       "      <td>NaN</td>\n",
       "      <td>NaN</td>\n",
       "    </tr>\n",
       "  </tbody>\n",
       "</table>\n",
       "<p>5 rows × 682 columns</p>\n",
       "</div>"
      ],
      "text/plain": [
       "           x        y        lon       lat  mask  etopo1  srtm30  \\\n",
       "0  2690000.0 -4510000 -77.292019  5.124395     1      67      78   \n",
       "1  2700000.0 -4510000 -77.208582  5.099891     1      61      39   \n",
       "2  2710000.0 -4510000 -77.125153  5.075297     1      67      52   \n",
       "3  2720000.0 -4510000 -77.041733  5.050615     1      26      22   \n",
       "4  2730000.0 -4510000 -76.958322  5.025843     1      43      79   \n",
       "\n",
       "   mat_slice_msk  vgt_mat_msk  btl_mat_msk       ...        btl_vgp_msk.11  \\\n",
       "0      25.471111          NaN          NaN       ...                   NaN   \n",
       "1      25.745397          NaN          NaN       ...                   NaN   \n",
       "2      25.771355          NaN          NaN       ...                   NaN   \n",
       "3      26.047372          NaN          NaN       ...                   NaN   \n",
       "4      25.815113          NaN          NaN       ...                   NaN   \n",
       "\n",
       "   vgp_slice_msk.12  vgt_vgp_msk.12  btl_vgp_msk.12  vgp_slice_msk.13  \\\n",
       "0          0.130108             NaN             NaN          0.470960   \n",
       "1          0.147560             NaN             NaN          0.493110   \n",
       "2          0.153884             NaN             NaN          0.488933   \n",
       "3          0.160750             NaN             NaN          0.485937   \n",
       "4          0.171550             NaN             NaN          0.490959   \n",
       "\n",
       "   vgt_vgp_msk.13  btl_vgp_msk.13  vgp_slice_msk.14  vgt_vgp_msk.14  \\\n",
       "0             NaN             NaN          0.138894             NaN   \n",
       "1             NaN             NaN          0.147905             NaN   \n",
       "2             NaN             NaN          0.152029             NaN   \n",
       "3             NaN             NaN          0.158797             NaN   \n",
       "4             NaN             NaN          0.168400             NaN   \n",
       "\n",
       "   btl_vgp_msk.14  \n",
       "0             NaN  \n",
       "1             NaN  \n",
       "2             NaN  \n",
       "3             NaN  \n",
       "4             NaN  \n",
       "\n",
       "[5 rows x 682 columns]"
      ]
     },
     "execution_count": 6,
     "metadata": {},
     "output_type": "execute_result"
    }
   ],
   "source": [
    "print(clim.shape)\n",
    "clim.head()"
   ]
  },
  {
   "cell_type": "code",
   "execution_count": 7,
   "metadata": {
    "collapsed": false
   },
   "outputs": [
    {
     "data": {
      "image/png": "[encoded data removed]",
      "text/plain": [
       "<matplotlib.figure.Figure at 0x101f387b8>"
      ]
     },
     "metadata": {},
     "output_type": "display_data"
    }
   ],
   "source": [
    "plt.plot(clim.lon, clim.lat, 'o', alpha=0.3);\n",
    "plt.title('Sample Data Points');\n",
    "plt.xlabel('lon');\n",
    "plt.ylabel('lat');"
   ]
  },
  {
   "cell_type": "code",
   "execution_count": 8,
   "metadata": {
    "collapsed": true
   },
   "outputs": [],
   "source": [
    "class Point:\n",
    "    def __init__(self, x, y):\n",
    "        self.x = x\n",
    "        self.y = y\n",
    "        \n",
    "class BoundingBox:\n",
    "    def __init__(self, lower_left, upper_right):\n",
    "        assert type(lower_left) is Point and type(upper_right) is Point\n",
    "        self.lower_left = lower_left\n",
    "        self.upper_right = upper_right"
   ]
  },
  {
   "cell_type": "code",
   "execution_count": 9,
   "metadata": {
    "collapsed": false
   },
   "outputs": [],
   "source": [
    "upper_left = Point(-75, -1)\n",
    "lower_right = Point(-60, 4)\n",
    "bounding_box = BoundingBox(upper_left, lower_right)"
   ]
  },
  {
   "cell_type": "code",
   "execution_count": 10,
   "metadata": {
    "collapsed": false
   },
   "outputs": [],
   "source": [
    "def restrict_to_bounding_box(data, bounding_box, coord_type='lon_lat'):\n",
    "    '''\n",
    "    Returns data restricted to rows enclosed in bounding box\n",
    "    \n",
    "    Args:\n",
    "    data: Dataframe with either x and y columns, or lon and lat columns \n",
    "          (or both)\n",
    "    bounding_box: BoundingBox\n",
    "    coord_type: 'lon_lat' or 'xy' - tells which fields to use to filter \n",
    "                data\n",
    "    \n",
    "    Returns: DataFrame\n",
    "    '''\n",
    "    assert coord_type in ['lon_lat', 'xy']\n",
    "    x_min = bounding_box.lower_left.x\n",
    "    y_min = bounding_box.lower_left.y\n",
    "    x_max = bounding_box.upper_right.x\n",
    "    y_max = bounding_box.upper_right.y    \n",
    "    x, y = ('x', 'y') if coord_type == 'xy' else ('lon', 'lat')\n",
    "\n",
    "    return data[(x_min <= data[x]) & (data[x] <= x_max) & \n",
    "                (y_min <= data[y]) & (data[y] <= y_max)]"
   ]
  },
  {
   "cell_type": "code",
   "execution_count": 11,
   "metadata": {
    "collapsed": true
   },
   "outputs": [],
   "source": [
    "sample = restrict_to_bounding_box(clim, bounding_box)"
   ]
  },
  {
   "cell_type": "code",
   "execution_count": 12,
   "metadata": {
    "collapsed": false
   },
   "outputs": [
    {
     "data": {
      "image/png": "[encoded data removed]",
      "text/plain": [
       "<matplotlib.figure.Figure at 0x105ba42e8>"
      ]
     },
     "metadata": {},
     "output_type": "display_data"
    }
   ],
   "source": [
    "plt.plot(clim.lon, clim.lat, 'o', alpha=0.2, label='Full data set');\n",
    "plt.plot(sample.lon, sample.lat, 'ro', alpha=0.2, label='Bounding Box');\n",
    "plt.xlabel('lon');\n",
    "plt.ylabel('lat');\n",
    "plt.legend(loc='upper right');"
   ]
  },
  {
   "cell_type": "code",
   "execution_count": 13,
   "metadata": {
    "collapsed": false
   },
   "outputs": [],
   "source": [
    "def column2matrix(df, column, cell_dim=10000):\n",
    "    '''\n",
    "    Convert a column from DataFrame df into a matrix representation with the upper-left cell \n",
    "    indexing beginning at [0, 0].\n",
    "    It is expected that the DataFrame has columns x and y.\n",
    "    \n",
    "    Args:\n",
    "    df: DataFrame: the source data\n",
    "    column: string: the column name to extract\n",
    "    cel_dim: numeric: the dimensions of each grid cell\n",
    "    \n",
    "    Returns: np.ndarray (a 2D list; matrix)\n",
    "    '''\n",
    "    \n",
    "    xs = sorted(df.x.unique())\n",
    "    ys = sorted(df.y.unique())\n",
    "    matrix = np.array([[np.nan for y in range(len(ys))] for x in range(len(xs))])\n",
    "\n",
    "    for row in range(df.shape[0]):\n",
    "        x, y, value = df.loc[row, ['x', 'y', column]]\n",
    "        i = int((x - xs[0]) / cell_dim)\n",
    "        j = int((y - ys[0]) / cell_dim)\n",
    "        matrix[i, j] = value\n",
    "        \n",
    "    return matrix"
   ]
  },
  {
   "cell_type": "code",
   "execution_count": 14,
   "metadata": {
    "collapsed": false
   },
   "outputs": [
    {
     "data": {
      "text/plain": [
       "array([[  nan,   nan,   nan,   nan,   72.],\n",
       "       [  nan,   nan,   nan,   nan,  268.],\n",
       "       [  nan,   nan,   81.,  305.,  446.],\n",
       "       ..., \n",
       "       [  71.,   94.,   85.,   67.,   nan],\n",
       "       [  13.,   40.,  101.,   80.,   nan],\n",
       "       [   8.,   54.,   81.,   20.,   nan]])"
      ]
     },
     "execution_count": 14,
     "metadata": {},
     "output_type": "execute_result"
    }
   ],
   "source": [
    "etopo_matrix = column2matrix(clim, 'etopo1')\n",
    "etopo_matrix"
   ]
  },
  {
   "cell_type": "code",
   "execution_count": 15,
   "metadata": {
    "collapsed": false
   },
   "outputs": [
    {
     "data": {
      "image/png": "[encoded data removed]",
      "text/plain": [
       "<matplotlib.figure.Figure at 0x105e01438>"
      ]
     },
     "metadata": {},
     "output_type": "display_data"
    }
   ],
   "source": [
    "imshow(etopo_matrix.T); # .T is transpose"
   ]
  },
  {
   "cell_type": "code",
   "execution_count": null,
   "metadata": {
    "collapsed": true
   },
   "outputs": [],
   "source": []
  }
 ],
 "metadata": {
  "kernelspec": {
   "display_name": "Python 3",
   "language": "python",
   "name": "python3"
  },
  "language_info": {
   "codemirror_mode": {
    "name": "ipython",
    "version": 3
   },
   "file_extension": ".py",
   "mimetype": "text/x-python",
   "name": "python",
   "nbconvert_exporter": "python",
   "pygments_lexer": "ipython3",
   "version": "3.6.1"
  }
 },
 "nbformat": 4,
 "nbformat_minor": 0
}
