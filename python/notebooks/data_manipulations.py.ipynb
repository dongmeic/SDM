{
 "cells": [
  {
   "cell_type": "code",
   "execution_count": 1,
   "metadata": {
    "collapsed": false
   },
   "outputs": [],
   "source": [
    "import matplotlib.pyplot as plt # python graphing library\n",
    "import numpy as np              # python library for vector/array manipulations\n",
    "import os                       # interact with the operating system\n",
    "import pandas as pd             # DataFrame programming in python\n",
    "from collections import Counter # Tool to track frequencies of items in arrays (lists, sets, etc.)\n",
    "from pprint import pprint       # \"pretty printing\" of arrays, dictionaries and JSON objects\n",
    "from pylab import *             # imaging \n",
    "\n",
    "# allow plots to appear in this notebook\n",
    "%matplotlib inline              \n",
    "plt.rcParams['figure.figsize'] = 10, 8 # size of plots"
   ]
  },
  {
   "cell_type": "code",
   "execution_count": 2,
   "metadata": {
    "collapsed": false
   },
   "outputs": [
    {
     "name": "stdout",
     "output_type": "stream",
     "text": [
      "\u001b[34mR\u001b[m\u001b[m         README.md TODO.txt  \u001b[34mdata\u001b[m\u001b[m      \u001b[34mpython\u001b[m\u001b[m\r\n"
     ]
    }
   ],
   "source": [
    "!ls ../.."
   ]
  },
  {
   "cell_type": "code",
   "execution_count": 3,
   "metadata": {
    "collapsed": true
   },
   "outputs": [],
   "source": [
    "DATA_PATH = '../../data/dev/'"
   ]
  },
  {
   "cell_type": "code",
   "execution_count": 4,
   "metadata": {
    "collapsed": false
   },
   "outputs": [
    {
     "data": {
      "text/plain": [
       "['climatic_variables_longlat_var.csv', 'README.rmd']"
      ]
     },
     "execution_count": 4,
     "metadata": {},
     "output_type": "execute_result"
    }
   ],
   "source": [
    "os.listdir(DATA_PATH) # Files in the DATA_PATH directory"
   ]
  },
  {
   "cell_type": "code",
   "execution_count": 5,
   "metadata": {
    "collapsed": false
   },
   "outputs": [],
   "source": [
    "clim = pd.read_csv(DATA_PATH + 'climatic_variables_longlat_var.csv')\n",
    "clim = clim.iloc[:, 1:] # Drop Unnamed: 0 (row index from R: write.csv())"
   ]
  },
  {
   "cell_type": "code",
   "execution_count": 6,
   "metadata": {
    "collapsed": false
   },
   "outputs": [
    {
     "name": "stdout",
     "output_type": "stream",
     "text": [
      "(999, 682)\n"
     ]
    },
    {
     "data": {
      "text/html": [
       "<div>\n",
       "<style>\n",
       "    .dataframe thead tr:only-child th {\n",
       "        text-align: right;\n",
       "    }\n",
       "\n",
       "    .dataframe thead th {\n",
       "        text-align: left;\n",
       "    }\n",
       "\n",
       "    .dataframe tbody tr th {\n",
       "        vertical-align: top;\n",
       "    }\n",
       "</style>\n",
       "<table border=\"1\" class=\"dataframe\">\n",
       "  <thead>\n",
       "    <tr style=\"text-align: right;\">\n",
       "      <th></th>\n",
       "      <th>x</th>\n",
       "      <th>y</th>\n",
       "      <th>lon</th>\n",
       "      <th>lat</th>\n",
       "      <th>mask</th>\n",
       "      <th>etopo1</th>\n",
       "      <th>srtm30</th>\n",
       "      <th>mat_slice_msk</th>\n",
       "      <th>vgt_mat_msk</th>\n",
       "      <th>btl_mat_msk</th>\n",
       "      <th>...</th>\n",
       "      <th>btl_vgp_msk.11</th>\n",
       "      <th>vgp_slice_msk.12</th>\n",
       "      <th>vgt_vgp_msk.12</th>\n",
       "      <th>btl_vgp_msk.12</th>\n",
       "      <th>vgp_slice_msk.13</th>\n",
       "      <th>vgt_vgp_msk.13</th>\n",
       "      <th>btl_vgp_msk.13</th>\n",
       "      <th>vgp_slice_msk.14</th>\n",
       "      <th>vgt_vgp_msk.14</th>\n",
       "      <th>btl_vgp_msk.14</th>\n",
       "    </tr>\n",
       "  </thead>\n",
       "  <tbody>\n",
       "    <tr>\n",
       "      <th>0</th>\n",
       "      <td>2690000.0</td>\n",
       "      <td>-4510000</td>\n",
       "      <td>-77.292019</td>\n",
       "      <td>5.124395</td>\n",
       "      <td>1</td>\n",
       "      <td>67</td>\n",
       "      <td>78</td>\n",
       "      <td>25.471111</td>\n",
       "      <td>NaN</td>\n",
       "      <td>NaN</td>\n",
       "      <td>...</td>\n",
       "      <td>NaN</td>\n",
       "      <td>0.130108</td>\n",
       "      <td>NaN</td>\n",
       "      <td>NaN</td>\n",
       "      <td>0.470960</td>\n",
       "      <td>NaN</td>\n",
       "      <td>NaN</td>\n",
       "      <td>0.138894</td>\n",
       "      <td>NaN</td>\n",
       "      <td>NaN</td>\n",
       "    </tr>\n",
       "    <tr>\n",
       "      <th>1</th>\n",
       "      <td>2700000.0</td>\n",
       "      <td>-4510000</td>\n",
       "      <td>-77.208582</td>\n",
       "      <td>5.099891</td>\n",
       "      <td>1</td>\n",
       "      <td>61</td>\n",
       "      <td>39</td>\n",
       "      <td>25.745397</td>\n",
       "      <td>NaN</td>\n",
       "      <td>NaN</td>\n",
       "      <td>...</td>\n",
       "      <td>NaN</td>\n",
       "      <td>0.147560</td>\n",
       "      <td>NaN</td>\n",
       "      <td>NaN</td>\n",
       "      <td>0.493110</td>\n",
       "      <td>NaN</td>\n",
       "      <td>NaN</td>\n",
       "      <td>0.147905</td>\n",
       "      <td>NaN</td>\n",
       "      <td>NaN</td>\n",
       "    </tr>\n",
       "    <tr>\n",
       "      <th>2</th>\n",
       "      <td>2710000.0</td>\n",
       "      <td>-4510000</td>\n",
       "      <td>-77.125153</td>\n",
       "      <td>5.075297</td>\n",
       "      <td>1</td>\n",
       "      <td>67</td>\n",
       "      <td>52</td>\n",
       "      <td>25.771355</td>\n",
       "      <td>NaN</td>\n",
       "      <td>NaN</td>\n",
       "      <td>...</td>\n",
       "      <td>NaN</td>\n",
       "      <td>0.153884</td>\n",
       "      <td>NaN</td>\n",
       "      <td>NaN</td>\n",
       "      <td>0.488933</td>\n",
       "      <td>NaN</td>\n",
       "      <td>NaN</td>\n",
       "      <td>0.152029</td>\n",
       "      <td>NaN</td>\n",
       "      <td>NaN</td>\n",
       "    </tr>\n",
       "    <tr>\n",
       "      <th>3</th>\n",
       "      <td>2720000.0</td>\n",
       "      <td>-4510000</td>\n",
       "      <td>-77.041733</td>\n",
       "      <td>5.050615</td>\n",
       "      <td>1</td>\n",
       "      <td>26</td>\n",
       "      <td>22</td>\n",
       "      <td>26.047372</td>\n",
       "      <td>NaN</td>\n",
       "      <td>NaN</td>\n",
       "      <td>...</td>\n",
       "      <td>NaN</td>\n",
       "      <td>0.160750</td>\n",
       "      <td>NaN</td>\n",
       "      <td>NaN</td>\n",
       "      <td>0.485937</td>\n",
       "      <td>NaN</td>\n",
       "      <td>NaN</td>\n",
       "      <td>0.158797</td>\n",
       "      <td>NaN</td>\n",
       "      <td>NaN</td>\n",
       "    </tr>\n",
       "    <tr>\n",
       "      <th>4</th>\n",
       "      <td>2730000.0</td>\n",
       "      <td>-4510000</td>\n",
       "      <td>-76.958322</td>\n",
       "      <td>5.025843</td>\n",
       "      <td>1</td>\n",
       "      <td>43</td>\n",
       "      <td>79</td>\n",
       "      <td>25.815113</td>\n",
       "      <td>NaN</td>\n",
       "      <td>NaN</td>\n",
       "      <td>...</td>\n",
       "      <td>NaN</td>\n",
       "      <td>0.171550</td>\n",
       "      <td>NaN</td>\n",
       "      <td>NaN</td>\n",
       "      <td>0.490959</td>\n",
       "      <td>NaN</td>\n",
       "      <td>NaN</td>\n",
       "      <td>0.168400</td>\n",
       "      <td>NaN</td>\n",
       "      <td>NaN</td>\n",
       "    </tr>\n",
       "  </tbody>\n",
       "</table>\n",
       "<p>5 rows × 682 columns</p>\n",
       "</div>"
      ],
      "text/plain": [
       "           x        y        lon       lat  mask  etopo1  srtm30  \\\n",
       "0  2690000.0 -4510000 -77.292019  5.124395     1      67      78   \n",
       "1  2700000.0 -4510000 -77.208582  5.099891     1      61      39   \n",
       "2  2710000.0 -4510000 -77.125153  5.075297     1      67      52   \n",
       "3  2720000.0 -4510000 -77.041733  5.050615     1      26      22   \n",
       "4  2730000.0 -4510000 -76.958322  5.025843     1      43      79   \n",
       "\n",
       "   mat_slice_msk  vgt_mat_msk  btl_mat_msk       ...        btl_vgp_msk.11  \\\n",
       "0      25.471111          NaN          NaN       ...                   NaN   \n",
       "1      25.745397          NaN          NaN       ...                   NaN   \n",
       "2      25.771355          NaN          NaN       ...                   NaN   \n",
       "3      26.047372          NaN          NaN       ...                   NaN   \n",
       "4      25.815113          NaN          NaN       ...                   NaN   \n",
       "\n",
       "   vgp_slice_msk.12  vgt_vgp_msk.12  btl_vgp_msk.12  vgp_slice_msk.13  \\\n",
       "0          0.130108             NaN             NaN          0.470960   \n",
       "1          0.147560             NaN             NaN          0.493110   \n",
       "2          0.153884             NaN             NaN          0.488933   \n",
       "3          0.160750             NaN             NaN          0.485937   \n",
       "4          0.171550             NaN             NaN          0.490959   \n",
       "\n",
       "   vgt_vgp_msk.13  btl_vgp_msk.13  vgp_slice_msk.14  vgt_vgp_msk.14  \\\n",
       "0             NaN             NaN          0.138894             NaN   \n",
       "1             NaN             NaN          0.147905             NaN   \n",
       "2             NaN             NaN          0.152029             NaN   \n",
       "3             NaN             NaN          0.158797             NaN   \n",
       "4             NaN             NaN          0.168400             NaN   \n",
       "\n",
       "   btl_vgp_msk.14  \n",
       "0             NaN  \n",
       "1             NaN  \n",
       "2             NaN  \n",
       "3             NaN  \n",
       "4             NaN  \n",
       "\n",
       "[5 rows x 682 columns]"
      ]
     },
     "execution_count": 6,
     "metadata": {},
     "output_type": "execute_result"
    }
   ],
   "source": [
    "print(clim.shape)\n",
    "clim.head()"
   ]
  },
  {
   "cell_type": "markdown",
   "metadata": {},
   "source": [
    "# Eliminate column redundancy"
   ]
  },
  {
   "cell_type": "markdown",
   "metadata": {},
   "source": [
    "**Variable key**\n",
    "* `cpja:`&nbsp;&nbsp;&nbsp;cumulative precipitation from June to August in current and previous year; use precipitation data in the previous and current year\n",
    "* `cpos:`&nbsp;&nbsp;&nbsp;cumulative precipitation from October to September in current and previous year\n",
    "* `gsp:`&nbsp;&nbsp;&nbsp;&nbsp;growing season precipitation in current year\n",
    "* `map:`&nbsp;&nbsp;&nbsp;&nbsp;mean annual precipitation; use precipitation data from January to December in the past five years\n",
    "* `mat:`&nbsp;&nbsp;&nbsp;&nbsp;annual mean monthly average of daily mean temperature in the past year\n",
    "* `mta:`&nbsp;&nbsp;&nbsp;&nbsp;monthly average of daily mean temperature in August\n",
    "* `mtaa:`&nbsp;&nbsp;&nbsp;mean of monthly average of daily mean temperature from April to August\n",
    "* `ntj:`&nbsp;&nbsp;&nbsp;&nbsp;monthly average of daily minimum temperature in January\n",
    "* `ntm:`&nbsp;&nbsp;&nbsp;&nbsp;monthly average of daily minimum temperature in March\n",
    "* `nto:`&nbsp;&nbsp;&nbsp;&nbsp;monthly average of daily minimum temperature in October\n",
    "* `ntw:`&nbsp;&nbsp;&nbsp;&nbsp;minimum of monthly average of daily minimum temperature between Dec and Feb\n",
    "* `pja:`&nbsp;&nbsp;&nbsp;&nbsp;precipitation from June to August in previous year\n",
    "* `pos:`&nbsp;&nbsp;&nbsp;&nbsp;precipitation from October to September in previous year\n",
    "* `vgp:`&nbsp;&nbsp;&nbsp;&nbsp;variability of growing season precipitation\n",
    "* `xta:`&nbsp;&nbsp;&nbsp;&nbsp;monthly average of daily maximum temperature in August"
   ]
  },
  {
   "cell_type": "code",
   "execution_count": 7,
   "metadata": {
    "collapsed": false
   },
   "outputs": [
    {
     "data": {
      "text/html": [
       "<div>\n",
       "<style>\n",
       "    .dataframe thead tr:only-child th {\n",
       "        text-align: right;\n",
       "    }\n",
       "\n",
       "    .dataframe thead th {\n",
       "        text-align: left;\n",
       "    }\n",
       "\n",
       "    .dataframe tbody tr th {\n",
       "        vertical-align: top;\n",
       "    }\n",
       "</style>\n",
       "<table border=\"1\" class=\"dataframe\">\n",
       "  <thead>\n",
       "    <tr style=\"text-align: right;\">\n",
       "      <th></th>\n",
       "      <th>btl_cpja_msk</th>\n",
       "      <th>btl_cpja_msk.1</th>\n",
       "      <th>btl_cpja_msk.10</th>\n",
       "      <th>btl_cpja_msk.11</th>\n",
       "      <th>btl_cpja_msk.12</th>\n",
       "      <th>btl_cpja_msk.13</th>\n",
       "      <th>btl_cpja_msk.14</th>\n",
       "      <th>btl_cpja_msk.2</th>\n",
       "      <th>btl_cpja_msk.3</th>\n",
       "      <th>btl_cpja_msk.4</th>\n",
       "      <th>...</th>\n",
       "      <th>xta_slice_msk.14</th>\n",
       "      <th>xta_slice_msk.2</th>\n",
       "      <th>xta_slice_msk.3</th>\n",
       "      <th>xta_slice_msk.4</th>\n",
       "      <th>xta_slice_msk.5</th>\n",
       "      <th>xta_slice_msk.6</th>\n",
       "      <th>xta_slice_msk.7</th>\n",
       "      <th>xta_slice_msk.8</th>\n",
       "      <th>xta_slice_msk.9</th>\n",
       "      <th>y</th>\n",
       "    </tr>\n",
       "  </thead>\n",
       "  <tbody>\n",
       "    <tr>\n",
       "      <th>0</th>\n",
       "      <td>NaN</td>\n",
       "      <td>NaN</td>\n",
       "      <td>NaN</td>\n",
       "      <td>NaN</td>\n",
       "      <td>NaN</td>\n",
       "      <td>NaN</td>\n",
       "      <td>NaN</td>\n",
       "      <td>NaN</td>\n",
       "      <td>NaN</td>\n",
       "      <td>NaN</td>\n",
       "      <td>...</td>\n",
       "      <td>30.876667</td>\n",
       "      <td>29.226667</td>\n",
       "      <td>29.976667</td>\n",
       "      <td>28.776666</td>\n",
       "      <td>29.426666</td>\n",
       "      <td>29.176667</td>\n",
       "      <td>28.176667</td>\n",
       "      <td>29.326667</td>\n",
       "      <td>30.876667</td>\n",
       "      <td>-4510000</td>\n",
       "    </tr>\n",
       "    <tr>\n",
       "      <th>1</th>\n",
       "      <td>NaN</td>\n",
       "      <td>NaN</td>\n",
       "      <td>NaN</td>\n",
       "      <td>NaN</td>\n",
       "      <td>NaN</td>\n",
       "      <td>NaN</td>\n",
       "      <td>NaN</td>\n",
       "      <td>NaN</td>\n",
       "      <td>NaN</td>\n",
       "      <td>NaN</td>\n",
       "      <td>...</td>\n",
       "      <td>31.199392</td>\n",
       "      <td>29.568858</td>\n",
       "      <td>30.325272</td>\n",
       "      <td>29.121031</td>\n",
       "      <td>29.820832</td>\n",
       "      <td>29.525585</td>\n",
       "      <td>28.527974</td>\n",
       "      <td>29.675272</td>\n",
       "      <td>31.221130</td>\n",
       "      <td>-4510000</td>\n",
       "    </tr>\n",
       "    <tr>\n",
       "      <th>2</th>\n",
       "      <td>NaN</td>\n",
       "      <td>NaN</td>\n",
       "      <td>NaN</td>\n",
       "      <td>NaN</td>\n",
       "      <td>NaN</td>\n",
       "      <td>NaN</td>\n",
       "      <td>NaN</td>\n",
       "      <td>NaN</td>\n",
       "      <td>NaN</td>\n",
       "      <td>NaN</td>\n",
       "      <td>...</td>\n",
       "      <td>31.303671</td>\n",
       "      <td>29.711732</td>\n",
       "      <td>30.426127</td>\n",
       "      <td>29.242350</td>\n",
       "      <td>30.013458</td>\n",
       "      <td>29.654233</td>\n",
       "      <td>28.691666</td>\n",
       "      <td>29.776126</td>\n",
       "      <td>31.313642</td>\n",
       "      <td>-4510000</td>\n",
       "    </tr>\n",
       "    <tr>\n",
       "      <th>3</th>\n",
       "      <td>NaN</td>\n",
       "      <td>NaN</td>\n",
       "      <td>NaN</td>\n",
       "      <td>NaN</td>\n",
       "      <td>NaN</td>\n",
       "      <td>NaN</td>\n",
       "      <td>NaN</td>\n",
       "      <td>NaN</td>\n",
       "      <td>NaN</td>\n",
       "      <td>NaN</td>\n",
       "      <td>...</td>\n",
       "      <td>31.707875</td>\n",
       "      <td>30.153704</td>\n",
       "      <td>30.826926</td>\n",
       "      <td>29.665251</td>\n",
       "      <td>30.506019</td>\n",
       "      <td>30.081989</td>\n",
       "      <td>29.157751</td>\n",
       "      <td>30.176926</td>\n",
       "      <td>31.706099</td>\n",
       "      <td>-4510000</td>\n",
       "    </tr>\n",
       "    <tr>\n",
       "      <th>4</th>\n",
       "      <td>NaN</td>\n",
       "      <td>NaN</td>\n",
       "      <td>NaN</td>\n",
       "      <td>NaN</td>\n",
       "      <td>NaN</td>\n",
       "      <td>NaN</td>\n",
       "      <td>NaN</td>\n",
       "      <td>NaN</td>\n",
       "      <td>NaN</td>\n",
       "      <td>NaN</td>\n",
       "      <td>...</td>\n",
       "      <td>31.612004</td>\n",
       "      <td>30.094766</td>\n",
       "      <td>30.727668</td>\n",
       "      <td>29.589740</td>\n",
       "      <td>30.498513</td>\n",
       "      <td>30.008847</td>\n",
       "      <td>29.126240</td>\n",
       "      <td>30.077667</td>\n",
       "      <td>31.598499</td>\n",
       "      <td>-4510000</td>\n",
       "    </tr>\n",
       "  </tbody>\n",
       "</table>\n",
       "<p>5 rows × 682 columns</p>\n",
       "</div>"
      ],
      "text/plain": [
       "   btl_cpja_msk  btl_cpja_msk.1  btl_cpja_msk.10  btl_cpja_msk.11  \\\n",
       "0           NaN             NaN              NaN              NaN   \n",
       "1           NaN             NaN              NaN              NaN   \n",
       "2           NaN             NaN              NaN              NaN   \n",
       "3           NaN             NaN              NaN              NaN   \n",
       "4           NaN             NaN              NaN              NaN   \n",
       "\n",
       "   btl_cpja_msk.12  btl_cpja_msk.13  btl_cpja_msk.14  btl_cpja_msk.2  \\\n",
       "0              NaN              NaN              NaN             NaN   \n",
       "1              NaN              NaN              NaN             NaN   \n",
       "2              NaN              NaN              NaN             NaN   \n",
       "3              NaN              NaN              NaN             NaN   \n",
       "4              NaN              NaN              NaN             NaN   \n",
       "\n",
       "   btl_cpja_msk.3  btl_cpja_msk.4   ...     xta_slice_msk.14  xta_slice_msk.2  \\\n",
       "0             NaN             NaN   ...            30.876667        29.226667   \n",
       "1             NaN             NaN   ...            31.199392        29.568858   \n",
       "2             NaN             NaN   ...            31.303671        29.711732   \n",
       "3             NaN             NaN   ...            31.707875        30.153704   \n",
       "4             NaN             NaN   ...            31.612004        30.094766   \n",
       "\n",
       "   xta_slice_msk.3  xta_slice_msk.4  xta_slice_msk.5  xta_slice_msk.6  \\\n",
       "0        29.976667        28.776666        29.426666        29.176667   \n",
       "1        30.325272        29.121031        29.820832        29.525585   \n",
       "2        30.426127        29.242350        30.013458        29.654233   \n",
       "3        30.826926        29.665251        30.506019        30.081989   \n",
       "4        30.727668        29.589740        30.498513        30.008847   \n",
       "\n",
       "   xta_slice_msk.7  xta_slice_msk.8  xta_slice_msk.9        y  \n",
       "0        28.176667        29.326667        30.876667 -4510000  \n",
       "1        28.527974        29.675272        31.221130 -4510000  \n",
       "2        28.691666        29.776126        31.313642 -4510000  \n",
       "3        29.157751        30.176926        31.706099 -4510000  \n",
       "4        29.126240        30.077667        31.598499 -4510000  \n",
       "\n",
       "[5 rows x 682 columns]"
      ]
     },
     "execution_count": 7,
     "metadata": {},
     "output_type": "execute_result"
    }
   ],
   "source": [
    "# Reorganize columns in alphabetic order\n",
    "sorted_cols = sorted(list(clim))\n",
    "clim = clim[sorted_cols]\n",
    "clim.head()"
   ]
  },
  {
   "cell_type": "code",
   "execution_count": 8,
   "metadata": {
    "collapsed": false
   },
   "outputs": [
    {
     "name": "stdout",
     "output_type": "stream",
     "text": [
      "Total remainders: 682\n",
      "Unique remainders: 241\n",
      "\n",
      "Prefixes:\n",
      " ['btl', 'cpja', 'cpos', 'etopo1', 'gsp', 'lat', 'lon', 'map', 'mask', 'mat', 'mta', 'mtaa', 'ntj', 'ntm', 'nto', 'ntw', 'pja', 'pos', 'srtm30', 'vgp', 'vgt', 'x', 'xta', 'y']\n",
      "\n",
      "\n",
      "btl_\n",
      "cpja_msk       cpja_msk.1     cpja_msk.10    cpja_msk.11    cpja_msk.12    cpja_msk.13    cpja_msk.14    cpja_msk.2     cpja_msk.3     cpja_msk.4     cpja_msk.5     cpja_msk.6     cpja_msk.7     cpja_msk.8     cpja_msk.9     cpos_msk       cpos_msk.1     cpos_msk.10    cpos_msk.11    cpos_msk.12    cpos_msk.13    cpos_msk.14    cpos_msk.2     cpos_msk.3     cpos_msk.4     cpos_msk.5     cpos_msk.6     cpos_msk.7     cpos_msk.8     cpos_msk.9     gsp_msk        gsp_msk.1      gsp_msk.10     gsp_msk.11     gsp_msk.12     gsp_msk.13     gsp_msk.14     gsp_msk.2      gsp_msk.3      gsp_msk.4      gsp_msk.5      gsp_msk.6      gsp_msk.7      gsp_msk.8      gsp_msk.9      map_msk        map_msk.1      map_msk.10     map_msk.11     map_msk.12     map_msk.13     map_msk.14     map_msk.2      map_msk.3      map_msk.4      map_msk.5      map_msk.6      map_msk.7      map_msk.8      map_msk.9      mat_msk        mat_msk.1      mat_msk.10     mat_msk.11     mat_msk.12     mat_msk.13     mat_msk.14     mat_msk.2      mat_msk.3      mat_msk.4      mat_msk.5      mat_msk.6      mat_msk.7      mat_msk.8      mat_msk.9      mta_msk        mta_msk.1      mta_msk.10     mta_msk.11     mta_msk.12     mta_msk.13     mta_msk.14     mta_msk.2      mta_msk.3      mta_msk.4      mta_msk.5      mta_msk.6      mta_msk.7      mta_msk.8      mta_msk.9      mtaa_msk       mtaa_msk.1     mtaa_msk.10    mtaa_msk.11    mtaa_msk.12    mtaa_msk.13    mtaa_msk.14    mtaa_msk.2     mtaa_msk.3     mtaa_msk.4     mtaa_msk.5     mtaa_msk.6     mtaa_msk.7     mtaa_msk.8     mtaa_msk.9     ntj_msk        ntj_msk.1      ntj_msk.10     ntj_msk.11     ntj_msk.12     ntj_msk.13     ntj_msk.14     ntj_msk.2      ntj_msk.3      ntj_msk.4      ntj_msk.5      ntj_msk.6      ntj_msk.7      ntj_msk.8      ntj_msk.9      ntm_msk        ntm_msk.1      ntm_msk.10     ntm_msk.11     ntm_msk.12     ntm_msk.13     ntm_msk.14     ntm_msk.2      ntm_msk.3      ntm_msk.4      ntm_msk.5      ntm_msk.6      ntm_msk.7      ntm_msk.8      ntm_msk.9      nto_msk        nto_msk.1      nto_msk.10     nto_msk.11     nto_msk.12     nto_msk.13     nto_msk.14     nto_msk.2      nto_msk.3      nto_msk.4      nto_msk.5      nto_msk.6      nto_msk.7      nto_msk.8      nto_msk.9      ntw_msk        ntw_msk.1      ntw_msk.10     ntw_msk.11     ntw_msk.12     ntw_msk.13     ntw_msk.14     ntw_msk.2      ntw_msk.3      ntw_msk.4      ntw_msk.5      ntw_msk.6      ntw_msk.7      ntw_msk.8      ntw_msk.9      pja_msk        pja_msk.1      pja_msk.10     pja_msk.11     pja_msk.12     pja_msk.13     pja_msk.14     pja_msk.2      pja_msk.3      pja_msk.4      pja_msk.5      pja_msk.6      pja_msk.7      pja_msk.8      pja_msk.9      pos_msk        pos_msk.1      pos_msk.10     pos_msk.11     pos_msk.12     pos_msk.13     pos_msk.14     pos_msk.2      pos_msk.3      pos_msk.4      pos_msk.5      pos_msk.6      pos_msk.7      pos_msk.8      pos_msk.9      vgp_msk        vgp_msk.1      vgp_msk.10     vgp_msk.11     vgp_msk.12     vgp_msk.13     vgp_msk.14     vgp_msk.2      vgp_msk.3      vgp_msk.4      vgp_msk.5      vgp_msk.6      vgp_msk.7      vgp_msk.8      vgp_msk.9      xta_msk        xta_msk.1      xta_msk.10     xta_msk.11     xta_msk.12     xta_msk.13     xta_msk.14     xta_msk.2      xta_msk.3      xta_msk.4      xta_msk.5      xta_msk.6      xta_msk.7      xta_msk.8      xta_msk.9      \n",
      "\n",
      "cpja_\n",
      "slice_msk      slice_msk.1    slice_msk.10   slice_msk.11   slice_msk.12   slice_msk.13   slice_msk.14   slice_msk.2    slice_msk.3    slice_msk.4    slice_msk.5    slice_msk.6    slice_msk.7    slice_msk.8    slice_msk.9    \n",
      "\n",
      "cpos_\n",
      "slice_msk      slice_msk.1    slice_msk.10   slice_msk.11   slice_msk.12   slice_msk.13   slice_msk.14   slice_msk.2    slice_msk.3    slice_msk.4    slice_msk.5    slice_msk.6    slice_msk.7    slice_msk.8    slice_msk.9    \n",
      "\n",
      "etopo1_\n",
      "               \n",
      "\n",
      "gsp_\n",
      "slice_msk      slice_msk.1    slice_msk.10   slice_msk.11   slice_msk.12   slice_msk.13   slice_msk.14   slice_msk.2    slice_msk.3    slice_msk.4    slice_msk.5    slice_msk.6    slice_msk.7    slice_msk.8    slice_msk.9    \n",
      "\n",
      "lat_\n",
      "               \n",
      "\n",
      "lon_\n",
      "               \n",
      "\n",
      "map_\n",
      "slice_msk      slice_msk.1    slice_msk.10   slice_msk.11   slice_msk.12   slice_msk.13   slice_msk.14   slice_msk.2    slice_msk.3    slice_msk.4    slice_msk.5    slice_msk.6    slice_msk.7    slice_msk.8    slice_msk.9    \n",
      "\n",
      "mask_\n",
      "               \n",
      "\n",
      "mat_\n",
      "slice_msk      slice_msk.1    slice_msk.10   slice_msk.11   slice_msk.12   slice_msk.13   slice_msk.14   slice_msk.2    slice_msk.3    slice_msk.4    slice_msk.5    slice_msk.6    slice_msk.7    slice_msk.8    slice_msk.9    \n",
      "\n",
      "mta_\n",
      "slice_msk      slice_msk.1    slice_msk.10   slice_msk.11   slice_msk.12   slice_msk.13   slice_msk.14   slice_msk.2    slice_msk.3    slice_msk.4    slice_msk.5    slice_msk.6    slice_msk.7    slice_msk.8    slice_msk.9    slice_msk      slice_msk.1    slice_msk.10   slice_msk.11   slice_msk.12   slice_msk.13   slice_msk.14   slice_msk.2    slice_msk.3    slice_msk.4    slice_msk.5    slice_msk.6    slice_msk.7    slice_msk.8    slice_msk.9    \n",
      "\n",
      "mtaa_\n",
      "slice_msk      slice_msk.1    slice_msk.10   slice_msk.11   slice_msk.12   slice_msk.13   slice_msk.14   slice_msk.2    slice_msk.3    slice_msk.4    slice_msk.5    slice_msk.6    slice_msk.7    slice_msk.8    slice_msk.9    \n",
      "\n",
      "ntj_\n",
      "slice_msk      slice_msk.1    slice_msk.10   slice_msk.11   slice_msk.12   slice_msk.13   slice_msk.14   slice_msk.2    slice_msk.3    slice_msk.4    slice_msk.5    slice_msk.6    slice_msk.7    slice_msk.8    slice_msk.9    \n",
      "\n",
      "ntm_\n",
      "slice_msk      slice_msk.1    slice_msk.10   slice_msk.11   slice_msk.12   slice_msk.13   slice_msk.14   slice_msk.2    slice_msk.3    slice_msk.4    slice_msk.5    slice_msk.6    slice_msk.7    slice_msk.8    slice_msk.9    \n",
      "\n",
      "nto_\n",
      "slice_msk      slice_msk.1    slice_msk.10   slice_msk.11   slice_msk.12   slice_msk.13   slice_msk.14   slice_msk.2    slice_msk.3    slice_msk.4    slice_msk.5    slice_msk.6    slice_msk.7    slice_msk.8    slice_msk.9    \n",
      "\n",
      "ntw_\n",
      "slice_msk      slice_msk.1    slice_msk.10   slice_msk.11   slice_msk.12   slice_msk.13   slice_msk.14   slice_msk.2    slice_msk.3    slice_msk.4    slice_msk.5    slice_msk.6    slice_msk.7    slice_msk.8    slice_msk.9    \n",
      "\n",
      "pja_\n",
      "slice_msk      slice_msk.1    slice_msk.10   slice_msk.11   slice_msk.12   slice_msk.13   slice_msk.14   slice_msk.2    slice_msk.3    slice_msk.4    slice_msk.5    slice_msk.6    slice_msk.7    slice_msk.8    slice_msk.9    \n",
      "\n",
      "pos_\n",
      "slice_msk      slice_msk.1    slice_msk.10   slice_msk.11   slice_msk.12   slice_msk.13   slice_msk.14   slice_msk.2    slice_msk.3    slice_msk.4    slice_msk.5    slice_msk.6    slice_msk.7    slice_msk.8    slice_msk.9    \n",
      "\n",
      "srtm30_\n",
      "               \n",
      "\n",
      "vgp_\n",
      "slice_msk      slice_msk.1    slice_msk.10   slice_msk.11   slice_msk.12   slice_msk.13   slice_msk.14   slice_msk.2    slice_msk.3    slice_msk.4    slice_msk.5    slice_msk.6    slice_msk.7    slice_msk.8    slice_msk.9    \n",
      "\n",
      "vgt_\n",
      "cpja_msk       cpja_msk.1     cpja_msk.10    cpja_msk.11    cpja_msk.12    cpja_msk.13    cpja_msk.14    cpja_msk.2     cpja_msk.3     cpja_msk.4     cpja_msk.5     cpja_msk.6     cpja_msk.7     cpja_msk.8     cpja_msk.9     cpos_msk       cpos_msk.1     cpos_msk.10    cpos_msk.11    cpos_msk.12    cpos_msk.13    cpos_msk.14    cpos_msk.2     cpos_msk.3     cpos_msk.4     cpos_msk.5     cpos_msk.6     cpos_msk.7     cpos_msk.8     cpos_msk.9     gsp_msk        gsp_msk.1      gsp_msk.10     gsp_msk.11     gsp_msk.12     gsp_msk.13     gsp_msk.14     gsp_msk.2      gsp_msk.3      gsp_msk.4      gsp_msk.5      gsp_msk.6      gsp_msk.7      gsp_msk.8      gsp_msk.9      map_msk        map_msk.1      map_msk.10     map_msk.11     map_msk.12     map_msk.13     map_msk.14     map_msk.2      map_msk.3      map_msk.4      map_msk.5      map_msk.6      map_msk.7      map_msk.8      map_msk.9      mat_msk        mat_msk.1      mat_msk.10     mat_msk.11     mat_msk.12     mat_msk.13     mat_msk.14     mat_msk.2      mat_msk.3      mat_msk.4      mat_msk.5      mat_msk.6      mat_msk.7      mat_msk.8      mat_msk.9      mta_msk        mta_msk.1      mta_msk.10     mta_msk.11     mta_msk.12     mta_msk.13     mta_msk.14     mta_msk.2      mta_msk.3      mta_msk.4      mta_msk.5      mta_msk.6      mta_msk.7      mta_msk.8      mta_msk.9      mtaa_msk       mtaa_msk.1     mtaa_msk.10    mtaa_msk.11    mtaa_msk.12    mtaa_msk.13    mtaa_msk.14    mtaa_msk.2     mtaa_msk.3     mtaa_msk.4     mtaa_msk.5     mtaa_msk.6     mtaa_msk.7     mtaa_msk.8     mtaa_msk.9     ntj_msk        ntj_msk.1      ntj_msk.10     ntj_msk.11     ntj_msk.12     ntj_msk.13     ntj_msk.14     ntj_msk.2      ntj_msk.3      ntj_msk.4      ntj_msk.5      ntj_msk.6      ntj_msk.7      ntj_msk.8      ntj_msk.9      ntm_msk        ntm_msk.1      ntm_msk.10     ntm_msk.11     ntm_msk.12     ntm_msk.13     ntm_msk.14     ntm_msk.2      ntm_msk.3      ntm_msk.4      ntm_msk.5      ntm_msk.6      ntm_msk.7      ntm_msk.8      ntm_msk.9      nto_msk        nto_msk.1      nto_msk.10     nto_msk.11     nto_msk.12     nto_msk.13     nto_msk.14     nto_msk.2      nto_msk.3      nto_msk.4      nto_msk.5      nto_msk.6      nto_msk.7      nto_msk.8      nto_msk.9      ntw_msk        ntw_msk.1      ntw_msk.10     ntw_msk.11     ntw_msk.12     ntw_msk.13     ntw_msk.14     ntw_msk.2      ntw_msk.3      ntw_msk.4      ntw_msk.5      ntw_msk.6      ntw_msk.7      ntw_msk.8      ntw_msk.9      pja_msk        pja_msk.1      pja_msk.10     pja_msk.11     pja_msk.12     pja_msk.13     pja_msk.14     pja_msk.2      pja_msk.3      pja_msk.4      pja_msk.5      pja_msk.6      pja_msk.7      pja_msk.8      pja_msk.9      pos_msk        pos_msk.1      pos_msk.10     pos_msk.11     pos_msk.12     pos_msk.13     pos_msk.14     pos_msk.2      pos_msk.3      pos_msk.4      pos_msk.5      pos_msk.6      pos_msk.7      pos_msk.8      pos_msk.9      vgp_msk        vgp_msk.1      vgp_msk.10     vgp_msk.11     vgp_msk.12     vgp_msk.13     vgp_msk.14     vgp_msk.2      vgp_msk.3      vgp_msk.4      vgp_msk.5      vgp_msk.6      vgp_msk.7      vgp_msk.8      vgp_msk.9      xta_msk        xta_msk.1      xta_msk.10     xta_msk.11     xta_msk.12     xta_msk.13     xta_msk.14     xta_msk.2      xta_msk.3      xta_msk.4      xta_msk.5      xta_msk.6      xta_msk.7      xta_msk.8      xta_msk.9      \n",
      "\n",
      "x_\n",
      "               slice_msk      slice_msk.1    slice_msk.10   slice_msk.11   slice_msk.12   slice_msk.13   slice_msk.14   slice_msk.2    slice_msk.3    slice_msk.4    slice_msk.5    slice_msk.6    slice_msk.7    slice_msk.8    slice_msk.9    \n",
      "\n",
      "xta_\n",
      "slice_msk      slice_msk.1    slice_msk.10   slice_msk.11   slice_msk.12   slice_msk.13   slice_msk.14   slice_msk.2    slice_msk.3    slice_msk.4    slice_msk.5    slice_msk.6    slice_msk.7    slice_msk.8    slice_msk.9    \n",
      "\n",
      "y_\n",
      "               "
     ]
    }
   ],
   "source": [
    "col_split = [col.split('_') for col in list(clim)]\n",
    "prefixes, remainders = ([cs[0] for cs in col_split], \n",
    "                        ['_'.join(cs[1:]) for cs in col_split])\n",
    "prefixes = set(prefixes)\n",
    "print('Total remainders:', len(remainders))\n",
    "unique_remainders = set(sorted(remainders))\n",
    "print('Unique remainders:', len(unique_remainders))\n",
    "\n",
    "prefixes = sorted(list(prefixes))    \n",
    "print('\\nPrefixes:\\n', prefixes)\n",
    "\n",
    "for pref in prefixes:\n",
    "    print('\\n\\n' + pref + '_')\n",
    "    for col in list(clim):\n",
    "        if col.startswith(pref):\n",
    "            #print('%15s' % '_'.join(col.split('_')[1:]), end='')\n",
    "            print('{:<15s}'.format('_'.join(col.split('_')[1:])), end='')"
   ]
  },
  {
   "cell_type": "code",
   "execution_count": 9,
   "metadata": {
    "collapsed": false
   },
   "outputs": [],
   "source": [
    "#list(zip(clim['vgt_ntj_msk.9'], clim['btl_ntj_msk.9']))[:50]"
   ]
  },
  {
   "cell_type": "code",
   "execution_count": 10,
   "metadata": {
    "collapsed": false
   },
   "outputs": [],
   "source": [
    "solos = ['etopo1', 'lat', 'lon', 'mask', 'srtm30', 'y']\n",
    "redundant = []\n",
    "\n",
    "for remainder in unique_remainders:\n",
    "    first_instance = None\n",
    "    first_instance_name = None\n",
    "    \n",
    "    for col in list(clim):    \n",
    "        if col not in solos and '_'.join(col.split('_')[1:]) == remainder:\n",
    "            if first_instance is None:\n",
    "                first_instance = clim[col]\n",
    "                first_instance_name = col\n",
    "            else:\n",
    "                if clim[col].all() == first_instance.all():\n",
    "                    #print('%s same as %s, adding to redundant list' \n",
    "                    #      % (col, first_instance_name))\n",
    "                    redundant.append(col)"
   ]
  },
  {
   "cell_type": "code",
   "execution_count": 11,
   "metadata": {
    "collapsed": false
   },
   "outputs": [
    {
     "name": "stdout",
     "output_type": "stream",
     "text": [
      "435\n"
     ]
    }
   ],
   "source": [
    "print(len(redundant))"
   ]
  },
  {
   "cell_type": "code",
   "execution_count": 12,
   "metadata": {
    "collapsed": false
   },
   "outputs": [
    {
     "name": "stdout",
     "output_type": "stream",
     "text": [
      "Original data set shape: (999, 682)\n",
      "Data set shape after eliminating redundancy: (999, 247)\n"
     ]
    }
   ],
   "source": [
    "print('Original data set shape:', clim.shape)\n",
    "clim = clim.drop(redundant, axis=1)\n",
    "print('Data set shape after eliminating redundancy:', clim.shape)"
   ]
  },
  {
   "cell_type": "markdown",
   "metadata": {},
   "source": [
    "# Restrict Data to Bounding Box to Eliminate Unused Data"
   ]
  },
  {
   "cell_type": "code",
   "execution_count": 13,
   "metadata": {
    "collapsed": false
   },
   "outputs": [
    {
     "data": {
      "image/png": "[encoded data removed]",
      "text/plain": [
       "<matplotlib.figure.Figure at 0x106dda390>"
      ]
     },
     "metadata": {},
     "output_type": "display_data"
    }
   ],
   "source": [
    "plt.plot(clim.lon, clim.lat, 'o', alpha=0.3);\n",
    "plt.title('Sample Data Points');\n",
    "plt.xlabel('lon');\n",
    "plt.ylabel('lat');"
   ]
  },
  {
   "cell_type": "code",
   "execution_count": 46,
   "metadata": {
    "collapsed": true
   },
   "outputs": [],
   "source": [
    "class Point:\n",
    "    def __init__(self, x, y):\n",
    "        self.x = x\n",
    "        self.y = y\n",
    "    \n",
    "    def __str__(self):\n",
    "        return '(%s, %s)' % (self.x, self.y)\n",
    "       \n",
    "        \n",
    "class BoundingBox:\n",
    "    def __init__(self, lower_left, upper_right):\n",
    "        assert type(lower_left) is Point and type(upper_right) is Point\n",
    "        self.lower_left = lower_left\n",
    "        self.upper_right = upper_right\n",
    "        \n",
    "    def __str__(self):\n",
    "        return ('Lower left: %s; Upper right: %s' \n",
    "                % (self.lower_left, self.upper_right))"
   ]
  },
  {
   "cell_type": "code",
   "execution_count": 47,
   "metadata": {
    "collapsed": false
   },
   "outputs": [],
   "source": [
    "upper_left = Point(-75, -1)\n",
    "lower_right = Point(-60, 4)\n",
    "bounding_box = BoundingBox(upper_left, lower_right)"
   ]
  },
  {
   "cell_type": "code",
   "execution_count": 48,
   "metadata": {
    "collapsed": false
   },
   "outputs": [],
   "source": [
    "def restrict_to_bounding_box(data, bounding_box, coord_type='lon_lat'):\n",
    "    '''\n",
    "    Returns data restricted to rows enclosed in bounding box\n",
    "    \n",
    "    Args:\n",
    "    data: Dataframe with either x and y columns, or lon and lat columns \n",
    "          (or both)\n",
    "    bounding_box: BoundingBox\n",
    "    coord_type: 'lon_lat' or 'xy' - tells which fields to use to filter \n",
    "                data\n",
    "    \n",
    "    Returns: DataFrame\n",
    "    '''\n",
    "    assert coord_type in ['lon_lat', 'xy']\n",
    "    x_min = bounding_box.lower_left.x\n",
    "    y_min = bounding_box.lower_left.y\n",
    "    x_max = bounding_box.upper_right.x\n",
    "    y_max = bounding_box.upper_right.y    \n",
    "    x, y = ('x', 'y') if coord_type == 'xy' else ('lon', 'lat')\n",
    "\n",
    "    return data[(x_min <= data[x]) & (data[x] <= x_max) & \n",
    "                (y_min <= data[y]) & (data[y] <= y_max)]"
   ]
  },
  {
   "cell_type": "code",
   "execution_count": 49,
   "metadata": {
    "collapsed": true
   },
   "outputs": [],
   "source": [
    "sample = restrict_to_bounding_box(clim, bounding_box)"
   ]
  },
  {
   "cell_type": "code",
   "execution_count": 50,
   "metadata": {
    "collapsed": false
   },
   "outputs": [
    {
     "data": {
      "image/png": "[encoded data removed]",
      "text/plain": [
       "<matplotlib.figure.Figure at 0x10883c400>"
      ]
     },
     "metadata": {},
     "output_type": "display_data"
    }
   ],
   "source": [
    "plt.plot(clim.lon, clim.lat, 'o', alpha=0.2, label='Full data set');\n",
    "plt.plot(sample.lon, sample.lat, 'ro', alpha=0.2, label='Bounding Box');\n",
    "plt.xlabel('lon');\n",
    "plt.ylabel('lat');\n",
    "plt.legend(loc='upper right');"
   ]
  },
  {
   "cell_type": "code",
   "execution_count": 51,
   "metadata": {
    "collapsed": false
   },
   "outputs": [],
   "source": [
    "def column2matrix(df, column, cell_dim=10000):\n",
    "    '''\n",
    "    Convert a column from DataFrame df into a matrix representation with the upper-left cell \n",
    "    indexing beginning at [0, 0].\n",
    "    It is expected that the DataFrame has columns x and y.\n",
    "    \n",
    "    Args:\n",
    "    df: DataFrame: the source data\n",
    "    column: string: the column name to extract\n",
    "    cel_dim: numeric: the dimensions of each grid cell\n",
    "    \n",
    "    Returns: np.ndarray (a 2D list; matrix)\n",
    "    '''\n",
    "    \n",
    "    xs = sorted(df.x.unique())\n",
    "    ys = sorted(df.y.unique())\n",
    "    matrix = np.array([[np.nan for y in range(len(ys))] for x in range(len(xs))])\n",
    "\n",
    "    for row in range(df.shape[0]):\n",
    "        x, y, value = df.loc[row, ['x', 'y', column]]\n",
    "        i = int((x - xs[0]) / cell_dim)\n",
    "        j = int((y - ys[0]) / cell_dim)\n",
    "        matrix[i, j] = value\n",
    "        \n",
    "    return matrix"
   ]
  },
  {
   "cell_type": "code",
   "execution_count": 52,
   "metadata": {
    "collapsed": false
   },
   "outputs": [
    {
     "data": {
      "text/plain": [
       "array([[  nan,   nan,   nan,   nan,   72.],\n",
       "       [  nan,   nan,   nan,   nan,  268.],\n",
       "       [  nan,   nan,   81.,  305.,  446.],\n",
       "       ..., \n",
       "       [  71.,   94.,   85.,   67.,   nan],\n",
       "       [  13.,   40.,  101.,   80.,   nan],\n",
       "       [   8.,   54.,   81.,   20.,   nan]])"
      ]
     },
     "execution_count": 52,
     "metadata": {},
     "output_type": "execute_result"
    }
   ],
   "source": [
    "etopo_matrix = column2matrix(clim, 'etopo1')\n",
    "etopo_matrix"
   ]
  },
  {
   "cell_type": "code",
   "execution_count": 53,
   "metadata": {
    "collapsed": false
   },
   "outputs": [
    {
     "data": {
      "image/png": "[encoded data removed]",
      "text/plain": [
       "<matplotlib.figure.Figure at 0x108914320>"
      ]
     },
     "metadata": {},
     "output_type": "display_data"
    }
   ],
   "source": [
    "imshow(etopo_matrix); "
   ]
  },
  {
   "cell_type": "code",
   "execution_count": 54,
   "metadata": {
    "collapsed": false
   },
   "outputs": [],
   "source": [
    "def get_beetle_bounding_box(df, btl_mask_column='btl_mat_msk.2'):\n",
    "    beetle_mask = np.isnan(df[btl_mask_column] == False)\n",
    "    beetle_df = df.loc[beetle_mask, :]\n",
    "    lower_left = Point(beetle_df.x.min(), beetle_df.y.min())\n",
    "    upper_right = Point(beetle_df.x.max(), beetle_df.y.max())\n",
    "    return BoundingBox(lower_left, upper_right)"
   ]
  },
  {
   "cell_type": "code",
   "execution_count": 55,
   "metadata": {
    "collapsed": false
   },
   "outputs": [
    {
     "name": "stdout",
     "output_type": "stream",
     "text": [
      "Lower left: (nan, nan); Upper right: (nan, nan)\n"
     ]
    }
   ],
   "source": [
    "bb = get_beetle_bounding_box(clim)\n",
    "print(bb)"
   ]
  },
  {
   "cell_type": "code",
   "execution_count": null,
   "metadata": {
    "collapsed": true
   },
   "outputs": [],
   "source": []
  }
 ],
 "metadata": {
  "kernelspec": {
   "display_name": "Python 3",
   "language": "python",
   "name": "python3"
  },
  "language_info": {
   "codemirror_mode": {
    "name": "ipython",
    "version": 3
   },
   "file_extension": ".py",
   "mimetype": "text/x-python",
   "name": "python",
   "nbconvert_exporter": "python",
   "pygments_lexer": "ipython3",
   "version": "3.6.1"
  }
 },
 "nbformat": 4,
 "nbformat_minor": 0
}
