{
 "cells": [
  {
   "cell_type": "code",
   "execution_count": 1,
   "metadata": {
    "collapsed": false
   },
   "outputs": [],
   "source": [
    "import matplotlib.pyplot as plt\n",
    "import numpy as np\n",
    "import os\n",
    "import pandas as pd\n",
    "import time\n",
    "from sklearn.model_selection import train_test_split\n",
    "from sklearn.preprocessing import StandardScaler\n",
    "\n",
    "%matplotlib inline"
   ]
  },
  {
   "cell_type": "markdown",
   "metadata": {},
   "source": [
    "# Training, Validation, and Test Sets\n",
    "In order to evaluate the performance of the different models, we split the data into training, validation, and test sets.  \n",
    "The model is:\n",
    "* first fit to the training data\n",
    "* hyperparameters are tuned using the validation set (some techniques include k-folds cross validation in the training, so validation set is not necessary for all models)\n",
    "* final model performance is evaluated on the test set\n",
    "\n",
    "<br/>\n",
    "### Additional Considerations for Geo-Spatial Data\n",
    "In many applications, the validation and test sets are chosen randomly from the data.  However, because of temporal and spatial autocorrelation, this may not be appropriate for geo-spatial or time-series data.  \n",
    "\n",
    "The code here will allow for 3 types of data-splitting:\n",
    "* **Random:** Test and validation sets chosen at random (each raster cell has equal probability of being in training/test/validation set).\n",
    "* **Internal Block:** The validation and test sets will be drawn from (approximately) square blocks within the raster region.\n",
    "* **Edge Block:** The test and validation set will be taken from the border region of any specified side of the raster.  (This will test how well the model can be applied to regions _outside_ of the region on which the model was trained.\n",
    "\n",
    "In all _regimes_, the data will first be split into [`training`, `validation_and_test`], according to the method chosen, and then `validation_and_test` will be further divided random into [`validation`, `test`] using the same method."
   ]
  },
  {
   "cell_type": "code",
   "execution_count": 2,
   "metadata": {
    "collapsed": false
   },
   "outputs": [
    {
     "name": "stdout",
     "output_type": "stream",
     "text": [
      "Data set: (10000 rows x 3 columns)\n"
     ]
    },
    {
     "data": {
      "text/html": [
       "<div>\n",
       "<style>\n",
       "    .dataframe thead tr:only-child th {\n",
       "        text-align: right;\n",
       "    }\n",
       "\n",
       "    .dataframe thead th {\n",
       "        text-align: left;\n",
       "    }\n",
       "\n",
       "    .dataframe tbody tr th {\n",
       "        vertical-align: top;\n",
       "    }\n",
       "</style>\n",
       "<table border=\"1\" class=\"dataframe\">\n",
       "  <thead>\n",
       "    <tr style=\"text-align: right;\">\n",
       "      <th></th>\n",
       "      <th>x</th>\n",
       "      <th>y</th>\n",
       "      <th>response</th>\n",
       "    </tr>\n",
       "  </thead>\n",
       "  <tbody>\n",
       "    <tr>\n",
       "      <th>0</th>\n",
       "      <td>10000.0</td>\n",
       "      <td>10000.0</td>\n",
       "      <td>0.698084</td>\n",
       "    </tr>\n",
       "    <tr>\n",
       "      <th>1</th>\n",
       "      <td>20000.0</td>\n",
       "      <td>10000.0</td>\n",
       "      <td>0.611901</td>\n",
       "    </tr>\n",
       "    <tr>\n",
       "      <th>2</th>\n",
       "      <td>30000.0</td>\n",
       "      <td>10000.0</td>\n",
       "      <td>0.804022</td>\n",
       "    </tr>\n",
       "    <tr>\n",
       "      <th>3</th>\n",
       "      <td>40000.0</td>\n",
       "      <td>10000.0</td>\n",
       "      <td>0.269833</td>\n",
       "    </tr>\n",
       "    <tr>\n",
       "      <th>4</th>\n",
       "      <td>50000.0</td>\n",
       "      <td>10000.0</td>\n",
       "      <td>0.941252</td>\n",
       "    </tr>\n",
       "  </tbody>\n",
       "</table>\n",
       "</div>"
      ],
      "text/plain": [
       "         x        y  response\n",
       "0  10000.0  10000.0  0.698084\n",
       "1  20000.0  10000.0  0.611901\n",
       "2  30000.0  10000.0  0.804022\n",
       "3  40000.0  10000.0  0.269833\n",
       "4  50000.0  10000.0  0.941252"
      ]
     },
     "execution_count": 2,
     "metadata": {},
     "output_type": "execute_result"
    }
   ],
   "source": [
    "# Make some fake data to test with\n",
    "cell_dim = 10000\n",
    "x_vals = cell_dim * np.linspace(1, 100, num=100)\n",
    "y_vals = cell_dim * np.linspace(1, 100, num=100)\n",
    "xy = np.transpose([np.tile(x_vals, len(y_vals)), \n",
    "                   np.repeat(y_vals, len(x_vals))])\n",
    "response = np.random.rand(xy.shape[0])\n",
    "\n",
    "data = pd.DataFrame(data=xy, index=range(xy.shape[0]), columns=['x', 'y'])\n",
    "data['response'] = response\n",
    "\n",
    "print('Data set: (%d rows x %d columns)' % (data.shape[0], data.shape[1]))\n",
    "data.head()"
   ]
  },
  {
   "cell_type": "code",
   "execution_count": 3,
   "metadata": {
    "collapsed": true
   },
   "outputs": [],
   "source": [
    "def print_ranges(data):\n",
    "    print(' x range: [%s, %s]\\ty range: [%s, %s]' \n",
    "          % (data.x.min(), data.x.max(), data.y.min(), data.y.max()))"
   ]
  },
  {
   "cell_type": "code",
   "execution_count": 4,
   "metadata": {
    "collapsed": true
   },
   "outputs": [],
   "source": [
    "def print_data_split(X_train, y_train, X_valid, y_valid, X_test, y_test):\n",
    "    '''\n",
    "    Prints dimensions of train, validation, and test data and response \n",
    "    variables, neatly formatted.\n",
    "    \n",
    "    Args: (All): DataFrame: the raw data for each of the sets\n",
    "    Returns: None\n",
    "    '''\n",
    "    print('Data split into:\\n X_train: %s  y_train: %s' \n",
    "          % (X_train.shape, y_train.shape))\n",
    "    print_ranges(X_train)\n",
    "    print('\\n X_valid: %s  y_valid: %s' % (X_valid.shape, y_valid.shape))\n",
    "    print_ranges(X_valid)\n",
    "    print('\\n X_test:  %s  y_test:  %s' % (X_test.shape, y_test.shape)) \n",
    "    print_ranges(X_test)"
   ]
  },
  {
   "cell_type": "code",
   "execution_count": 5,
   "metadata": {
    "collapsed": true
   },
   "outputs": [],
   "source": [
    "def convert_data_to_0_base(data):\n",
    "    data.x = ((data.x - min(data.x)) / cell_dim).astype(int)\n",
    "    data.y = ((data.y - min(data.y)) / cell_dim).astype(int)\n",
    "    return data"
   ]
  },
  {
   "cell_type": "code",
   "execution_count": 6,
   "metadata": {
    "collapsed": true
   },
   "outputs": [],
   "source": [
    "def split_data_random(dat, resp, proportions, cell_dim):\n",
    "    '''\n",
    "    Not intended to be called directly; will be called by split_data().\n",
    "    See split_data() for documentation.\n",
    "    '''\n",
    "    data = dat.copy()\n",
    "    response = resp.copy()\n",
    "    train, valid, test = proportions    \n",
    "    data = convert_data_to_0_base(data)\n",
    "    \n",
    "    # Split data into [train, validation_and_test]\n",
    "    X_train, X_vt, y_train, y_vt = train_test_split(\n",
    "        data, response, test_size=valid + test)\n",
    "\n",
    "    # Split validation_and_test into [validation, test]\n",
    "    X_valid, X_test, y_valid, y_test = train_test_split(\n",
    "        X_vt, y_vt, test_size=(test / (test + valid)))\n",
    "    \n",
    "    print_data_split(X_train, y_train, X_valid, y_valid, X_test, y_test)\n",
    "    return [[X_train, y_train], [X_valid, y_valid], [X_test, y_test]]"
   ]
  },
  {
   "cell_type": "code",
   "execution_count": 7,
   "metadata": {
    "collapsed": true
   },
   "outputs": [],
   "source": [
    "def get_proportional_internal_block(height, width, proportion, vis=False):\n",
    "    n = height * width\n",
    "    n_block = int(round(n * proportion))\n",
    "    scaler = np.sqrt(n_block / (height * width))\n",
    "    h_block = int(round(height * scaler))\n",
    "    w_block = int(round(width * scaler))\n",
    "    x_offset = (width - w_block) // 2\n",
    "    y_offset = (height - h_block) // 2\n",
    "    deficit = n_block - (h_block * w_block)\n",
    "    x_range = [x_offset, x_offset + w_block]\n",
    "    y_range = [y_offset, y_offset + h_block]\n",
    "    \n",
    "    if vis:\n",
    "        plt.plot(\n",
    "            [0, width, width, 0, 0], \n",
    "            [0, 0, height, height, 0], \n",
    "            label='Full Data Set');\n",
    "        plt.plot(\n",
    "            [x_offset, x_offset + w_block, x_offset + w_block, x_offset, \n",
    "             x_offset],\n",
    "            [y_offset, y_offset, y_offset + h_block, y_offset + h_block, \n",
    "             y_offset],\n",
    "            label='Subset');\n",
    "        plt.xrange = [-100, width + 100]\n",
    "        plt.yrange = [-100, height + 100]\n",
    "        plt.legend(loc='best');\n",
    "        \n",
    "    return {'x_range': x_range, 'y_range': y_range, 'deficit': deficit}"
   ]
  },
  {
   "cell_type": "code",
   "execution_count": 8,
   "metadata": {
    "collapsed": false
   },
   "outputs": [
    {
     "data": {
      "text/plain": [
       "{'deficit': 317, 'x_range': [1105, 2894], 'y_range': [276, 723]}"
      ]
     },
     "execution_count": 8,
     "metadata": {},
     "output_type": "execute_result"
    },
    {
     "data": {
      "image/png": "[encoded data removed]",
      "text/plain": [
       "<matplotlib.figure.Figure at 0x111ca6198>"
      ]
     },
     "metadata": {},
     "output_type": "display_data"
    }
   ],
   "source": [
    "get_proportional_internal_block(1000, 4000, 0.2, vis=True)"
   ]
  },
  {
   "cell_type": "code",
   "execution_count": 9,
   "metadata": {
    "collapsed": false
   },
   "outputs": [
    {
     "data": {
      "text/plain": [
       "{'deficit': 2080, 'x_range': [184, 816], 'y_range': [1470, 6530]}"
      ]
     },
     "execution_count": 9,
     "metadata": {},
     "output_type": "execute_result"
    },
    {
     "data": {
      "image/png": "[encoded data removed]",
      "text/plain": [
       "<matplotlib.figure.Figure at 0x111d68e48>"
      ]
     },
     "metadata": {},
     "output_type": "display_data"
    }
   ],
   "source": [
    "get_proportional_internal_block(8000, 1000, 0.4, vis=True)"
   ]
  },
  {
   "cell_type": "code",
   "execution_count": 10,
   "metadata": {
    "collapsed": false
   },
   "outputs": [],
   "source": [
    "def split_data_by_xy_ranges(dat, x_range, y_range):\n",
    "    data = dat.copy()\n",
    "    inner_data = data.loc[((data.x >= x_range[0]) &\n",
    "                           (data.x <  x_range[1]) &\n",
    "                           (data.y >= y_range[0]) &\n",
    "                           (data.y <  y_range[1])), :]\n",
    "    outer_data = data.loc[((data.x <  x_range[0]) |\n",
    "                           (data.x >= x_range[1]) |\n",
    "                           (data.y <  y_range[0]) |\n",
    "                           (data.y >= y_range[1])), :]\n",
    "    return inner_data, outer_data"
   ]
  },
  {
   "cell_type": "code",
   "execution_count": 11,
   "metadata": {
    "collapsed": true
   },
   "outputs": [],
   "source": [
    "def split_predictors_response(dat, response):\n",
    "    data = dat.copy()\n",
    "    y = data[response]\n",
    "    X = data.drop(response, axis=1)\n",
    "    return X, y"
   ]
  },
  {
   "cell_type": "code",
   "execution_count": 12,
   "metadata": {
    "collapsed": false
   },
   "outputs": [],
   "source": [
    "def split_data_internal(dat, response, proportions, cell_dim):\n",
    "    '''\n",
    "    Not intended to be called directly; will be called by split_data().\n",
    "    See split_data() for documentation.\n",
    "    '''\n",
    "    data = dat.copy()\n",
    "    train, valid, test = proportions\n",
    "    n = data.shape[0]\n",
    "    n_train = int(round(n * proportions[0]))\n",
    "    n_valid = int(round(n * proportions[1]))\n",
    "    n_test = n - n_train - n_valid\n",
    "    data = convert_data_to_0_base(data)    \n",
    "    test_valid_box = get_proportional_internal_block(\n",
    "        width=data.x.max(), height=data.y.max(), proportion=valid + test)\n",
    "\n",
    "    x_offset = test_valid_box['x_range'][0]\n",
    "    y_offset = test_valid_box['y_range'][0]\n",
    "    \n",
    "    test_box = get_proportional_internal_block(\n",
    "        width=test_valid_box['x_range'][1] - test_valid_box['x_range'][0],\n",
    "        height=test_valid_box['y_range'][1] - test_valid_box['y_range'][0],\n",
    "        proportion=test / (test + valid))\n",
    "    \n",
    "    test_box['x_range'] += x_offset\n",
    "    test_box['y_range'] += y_offset\n",
    "    \n",
    "    test_set, tv_set = split_data_by_xy_ranges(\n",
    "        data, test_box['x_range'], test_box['y_range'])\n",
    "    valid_set, train_set = split_data_by_xy_ranges(\n",
    "        tv_set, test_valid_box['x_range'], test_valid_box['y_range'])\n",
    "    \n",
    "    X_train, y_train = split_predictors_response(train_set, response)\n",
    "    X_valid, y_valid = split_predictors_response(valid_set, response)\n",
    "    X_test,  y_test  = split_predictors_response(test_set,  response)\n",
    "\n",
    "    print_data_split(X_train, y_train, X_valid, y_valid, X_test, y_test)\n",
    "    return [[X_train, y_train], [X_valid, y_valid], [X_test, y_test]]"
   ]
  },
  {
   "cell_type": "code",
   "execution_count": 13,
   "metadata": {
    "collapsed": true
   },
   "outputs": [],
   "source": [
    "def get_edge_data(dat, n_cells, side):\n",
    "    data = dat.copy()\n",
    "    cells_in_set = 0\n",
    "    next_row = 0\n",
    "\n",
    "    order = ['x', 'y'] if side in ['e', 'w'] else ['y', 'x']\n",
    "    ascending = [True, True] if side in ['n', 'w'] else [False, False]\n",
    "    data = data.sort_values(order, ascending=ascending)\n",
    "        \n",
    "    while cells_in_set < n_cells:\n",
    "        subset = data.iloc[:next_row, :]\n",
    "        cells_in_set = subset.shape[0]\n",
    "        next_row += 1\n",
    "\n",
    "    n_subset = subset.shape[0]\n",
    "    subset_less_one_row = data.iloc[:(next_row - 1), :]\n",
    "    n_subset_less_one = subset_less_one_row.shape[0]\n",
    "    subset_diff = np.abs(n_subset - n_cells)\n",
    "    subset_less_one_diff = np.abs(n_subset_less_one - n_cells)\n",
    "\n",
    "    return (subset if subset_diff < subset_less_one_diff \n",
    "            else subset_less_one_row)"
   ]
  },
  {
   "cell_type": "code",
   "execution_count": 14,
   "metadata": {
    "collapsed": true
   },
   "outputs": [],
   "source": [
    "def remove_subset(combined_set, subset, side):\n",
    "    ref = 'y' if side in ['n', 's'] else 'x'\n",
    "    subset_min, subset_max = subset[ref].min(), subset[ref].max()\n",
    "    other_set = combined_set.loc[((combined_set[ref] < subset_min) |\n",
    "                                  (combined_set[ref] > subset_max)), :]\n",
    "    return other_set"
   ]
  },
  {
   "cell_type": "code",
   "execution_count": 15,
   "metadata": {
    "collapsed": true
   },
   "outputs": [],
   "source": [
    "def split_data_edge(dat, response, proportions, cell_dim, side):\n",
    "    data = dat.copy()\n",
    "    train, valid, test = proportions\n",
    "    n = data.shape[0]\n",
    "    n_train = int(round(n * proportions[0]))\n",
    "    n_valid = int(round(n * proportions[1]))\n",
    "    n_test = n - n_train - n_valid\n",
    "    data = convert_data_to_0_base(data)\n",
    "    vt_set = get_edge_data(data, n_test + n_valid, side)\n",
    "    test_set = get_edge_data(vt_set, n_test, side)\n",
    "    valid_set = remove_subset(vt_set, test_set, side)\n",
    "    train_set = remove_subset(data, vt_set, side)\n",
    "                \n",
    "    X_train, y_train = split_predictors_response(train_set, response)\n",
    "    X_valid, y_valid = split_predictors_response(valid_set, response)\n",
    "    X_test,  y_test  = split_predictors_response(test_set,  response)\n",
    "\n",
    "    print_data_split(X_train, y_train, X_valid, y_valid, X_test, y_test)\n",
    "    return [[X_train, y_train], [X_valid, y_valid], [X_test, y_test]]"
   ]
  },
  {
   "cell_type": "code",
   "execution_count": 16,
   "metadata": {
    "collapsed": false
   },
   "outputs": [],
   "source": [
    "def split_data(dat, \n",
    "               response, \n",
    "               method, \n",
    "               cell_dim, \n",
    "               proportions=[0.7, 0.15, 0.15], \n",
    "               side=None):\n",
    "    '''\n",
    "    Split the data in <data> into test, validation, and test sets.\n",
    "    \n",
    "    Args:\n",
    "        data: DataFrame: the input data\n",
    "        response: string: name of column containing the response variable\n",
    "        method: string: 'random', 'internal' or 'edge'\n",
    "        cell_dim: numeric: dimension of raster cells\n",
    "        proportions: list of length 3: specifies the proportion of the\n",
    "            data to be used in each set: [training, validation, test]\n",
    "        side: string: If <method> is 'edge', specify the edge as \n",
    "            n', 's', 'e', or 'w'; for other methods side=None.\n",
    "    Returns:\n",
    "        list: [[X_train, y_train], [X_valid, y_valid], [X_test, y_test]]\n",
    "    '''\n",
    "    data = dat.copy()\n",
    "    proportions = np.array(proportions) # convert type\n",
    "    \n",
    "    assert len(proportions) == 3 and proportions.sum() == 1.\n",
    "    assert method in ['random', 'internal', 'edge']        \n",
    "                \n",
    "    if method == 'random':\n",
    "        # Split data into X and y \n",
    "        X, y = split_predictors_response(data, response)\n",
    "        return split_data_random(X, y, proportions, cell_dim)\n",
    "    if method == 'internal':\n",
    "        assert cell_dim is not None\n",
    "        # TODO: Add offset so different windows can be extracted \n",
    "        return split_data_internal(data, response, proportions, cell_dim)\n",
    "    if method == 'edge':\n",
    "        assert side in ['n', 's', 'e', 'w']\n",
    "        return split_data_edge(data, response, proportions, cell_dim, side)"
   ]
  },
  {
   "cell_type": "code",
   "execution_count": 17,
   "metadata": {
    "collapsed": false
   },
   "outputs": [
    {
     "name": "stdout",
     "output_type": "stream",
     "text": [
      "Data split into:\n",
      " X_train: (8000, 2)  y_train: (8000,)\n",
      " x range: [0, 99]\ty range: [0, 99]\n",
      "\n",
      " X_valid: (1000, 2)  y_valid: (1000,)\n",
      " x range: [0, 99]\ty range: [0, 99]\n",
      "\n",
      " X_test:  (1000, 2)  y_test:  (1000,)\n",
      " x range: [0, 99]\ty range: [0, 99]\n"
     ]
    }
   ],
   "source": [
    "# Test\n",
    "[[X_train, y_train], [X_valid, y_valid], [X_test, y_test]] = split_data(\n",
    "    data, \n",
    "    'response', \n",
    "    'random', \n",
    "    cell_dim=10000, \n",
    "    proportions=[0.8, 0.1, 0.1])"
   ]
  },
  {
   "cell_type": "code",
   "execution_count": 18,
   "metadata": {
    "collapsed": false
   },
   "outputs": [
    {
     "name": "stdout",
     "output_type": "stream",
     "text": [
      "Data split into:\n",
      " X_train: (8064, 2)  y_train: (8064,)\n",
      " x range: [0, 99]\ty range: [0, 99]\n",
      "\n",
      " X_valid: (975, 2)  y_valid: (975,)\n",
      " x range: [27, 70]\ty range: [27, 70]\n",
      "\n",
      " X_test:  (961, 2)  y_test:  (961,)\n",
      " x range: [33, 63]\ty range: [33, 63]\n"
     ]
    }
   ],
   "source": [
    "[[X_train, y_train], [X_valid, y_valid], [X_test, y_test]] = split_data(\n",
    "    data, \n",
    "    'response', \n",
    "    'internal', \n",
    "    cell_dim=10000, \n",
    "    proportions=[0.8, 0.1, 0.1])"
   ]
  },
  {
   "cell_type": "code",
   "execution_count": 19,
   "metadata": {
    "collapsed": false
   },
   "outputs": [
    {
     "name": "stdout",
     "output_type": "stream",
     "text": [
      "Data split into:\n",
      " X_train: (8000, 2)  y_train: (8000,)\n",
      " x range: [0, 79]\ty range: [0, 99]\n",
      "\n",
      " X_valid: (1000, 2)  y_valid: (1000,)\n",
      " x range: [80, 89]\ty range: [0, 99]\n",
      "\n",
      " X_test:  (1000, 2)  y_test:  (1000,)\n",
      " x range: [90, 99]\ty range: [0, 99]\n"
     ]
    }
   ],
   "source": [
    "[[X_train, y_train], [X_valid, y_valid], [X_test, y_test]] = split_data(\n",
    "    data, \n",
    "    'response', \n",
    "    'edge', \n",
    "    cell_dim=10000,\n",
    "    proportions=[0.8, 0.1, 0.1],  \n",
    "    side='e')"
   ]
  },
  {
   "cell_type": "code",
   "execution_count": null,
   "metadata": {
    "collapsed": true
   },
   "outputs": [],
   "source": []
  },
  {
   "cell_type": "code",
   "execution_count": null,
   "metadata": {
    "collapsed": true
   },
   "outputs": [],
   "source": []
  }
 ],
 "metadata": {
  "kernelspec": {
   "display_name": "Python 3",
   "language": "python",
   "name": "python3"
  },
  "language_info": {
   "codemirror_mode": {
    "name": "ipython",
    "version": 3
   },
   "file_extension": ".py",
   "mimetype": "text/x-python",
   "name": "python",
   "nbconvert_exporter": "python",
   "pygments_lexer": "ipython3",
   "version": "3.6.1"
  }
 },
 "nbformat": 4,
 "nbformat_minor": 0
}
