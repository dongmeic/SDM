{
 "cells": [
  {
   "cell_type": "code",
   "execution_count": 10,
   "metadata": {
    "collapsed": true
   },
   "outputs": [],
   "source": [
    "import bz2\n",
    "import matplotlib.pyplot as plt\n",
    "import numpy as np\n",
    "import os\n",
    "import pandas as pd\n",
    "import pickle\n",
    "from pylab import *\n",
    "\n",
    "%matplotlib inline\n",
    "plt.rcParams['figure.figsize'] = 10, 8"
   ]
  },
  {
   "cell_type": "code",
   "execution_count": 2,
   "metadata": {
    "collapsed": false
   },
   "outputs": [],
   "source": [
    "DATA_DIR = '../../data/cluster/year/'"
   ]
  },
  {
   "cell_type": "code",
   "execution_count": 11,
   "metadata": {
    "collapsed": false
   },
   "outputs": [
    {
     "data": {
      "text/plain": [
       "['tensor2000.pkl.bz2',\n",
       " 'tensor2001.pkl.bz2',\n",
       " 'tensor2002.pkl.bz2',\n",
       " 'tensor2003.pkl.bz2',\n",
       " 'tensor2004.pkl.bz2',\n",
       " 'tensor2005.pkl.bz2',\n",
       " 'tensor2006.pkl.bz2',\n",
       " 'tensor2007.pkl.bz2',\n",
       " 'tensor2008.pkl.bz2',\n",
       " 'tensor2009.pkl.bz2',\n",
       " 'tensor2010.pkl.bz2',\n",
       " 'tensor2011.pkl.bz2',\n",
       " 'tensor2012.pkl.bz2',\n",
       " 'tensor2013.pkl.bz2',\n",
       " 'tensor2014.pkl.bz2',\n",
       " 'weights.bestNN.hdf5',\n",
       " 'X_big_test.csv',\n",
       " 'X_big_train.csv',\n",
       " 'X_big_valid.csv',\n",
       " 'X_test.csv',\n",
       " 'X_train.csv',\n",
       " 'X_valid.csv',\n",
       " 'y_big_test.csv',\n",
       " 'y_big_train.csv',\n",
       " 'y_big_valid.csv',\n",
       " 'y_matrix2000.pkl.bz2',\n",
       " 'y_matrix2001.pkl.bz2',\n",
       " 'y_matrix2002.pkl.bz2',\n",
       " 'y_matrix2003.pkl.bz2',\n",
       " 'y_matrix2004.pkl.bz2',\n",
       " 'y_matrix2005.pkl.bz2',\n",
       " 'y_matrix2006.pkl.bz2',\n",
       " 'y_matrix2007.pkl.bz2',\n",
       " 'y_matrix2008.pkl.bz2',\n",
       " 'y_matrix2009.pkl.bz2',\n",
       " 'y_matrix2010.pkl.bz2',\n",
       " 'y_matrix2011.pkl.bz2',\n",
       " 'y_matrix2012.pkl.bz2',\n",
       " 'y_matrix2013.pkl.bz2',\n",
       " 'y_matrix2014.pkl.bz2',\n",
       " 'y_test.csv',\n",
       " 'y_train.csv',\n",
       " 'y_valid.csv']"
      ]
     },
     "execution_count": 11,
     "metadata": {},
     "output_type": "execute_result"
    }
   ],
   "source": [
    "os.listdir(DATA_DIR)"
   ]
  },
  {
   "cell_type": "code",
   "execution_count": 3,
   "metadata": {
    "collapsed": false
   },
   "outputs": [],
   "source": [
    "def load_x_and_following_y(data_path, year, verbose=False):\n",
    "    x_path = data_path + 'tensor%d.pkl.bz2' % year\n",
    "    y_path = data_path + 'y_matrix%d.pkl.bz2' % (year + 1)\n",
    "    if verbose: print('\\nLoading X tensor from %s' % x_path)\n",
    "    X = pickle.load(bz2.open(x_path, 'rb'))\n",
    "    if verbose: print('Loading y tensor from %s' % y_path)\n",
    "    Y = pickle.load(bz2.open(y_path, 'rb'))\n",
    "    \n",
    "    if verbose:\n",
    "        print('  X: ', X.shape, '(width, height, layers)')\n",
    "        print('  Y: ', Y.shape, '    (width, height)')\n",
    "    return X, Y"
   ]
  },
  {
   "cell_type": "code",
   "execution_count": 4,
   "metadata": {
    "collapsed": false
   },
   "outputs": [
    {
     "name": "stdout",
     "output_type": "stream",
     "text": [
      "\n",
      "Loading X tensor from ../../data/cluster/year/tensor2000.pkl.bz2\n",
      "Loading y tensor from ../../data/cluster/year/y_matrix2001.pkl.bz2\n",
      "  X:  (188, 353, 19) (width, height, layers)\n",
      "  Y:  (188, 353)     (width, height)\n"
     ]
    }
   ],
   "source": [
    "X, next_Y = load_x_and_following_y(DATA_DIR, 2000, verbose=True)"
   ]
  },
  {
   "cell_type": "code",
   "execution_count": 5,
   "metadata": {
    "collapsed": false
   },
   "outputs": [],
   "source": [
    "def add_next_year_beetle_data(X, next_Y):\n",
    "    width, height, layers = X.shape\n",
    "    X = np.concatenate([X, next_Y.reshape([width, height, 1])], axis=2)\n",
    "    return X"
   ]
  },
  {
   "cell_type": "code",
   "execution_count": 6,
   "metadata": {
    "collapsed": false
   },
   "outputs": [],
   "source": [
    "X_new = add_next_year_beetle_data(X, next_Y)"
   ]
  },
  {
   "cell_type": "code",
   "execution_count": 7,
   "metadata": {
    "collapsed": false
   },
   "outputs": [
    {
     "data": {
      "image/png": "[encoded data removed]",
      "text/plain": [
       "<matplotlib.figure.Figure at 0x10d44f048>"
      ]
     },
     "metadata": {},
     "output_type": "display_data"
    }
   ],
   "source": [
    "imshow(np.rot90(X_new[:, :, 19]));"
   ]
  },
  {
   "cell_type": "code",
   "execution_count": 9,
   "metadata": {
    "collapsed": false
   },
   "outputs": [],
   "source": [
    "def make_and_save_tensor(data_path, year, verbose=True):\n",
    "    print('\\nMaiking new tensor for %d' % year)\n",
    "    out_path = data_path + 'tensor20_%d.pkl.bz2' % year\n",
    "    X, next_Y = load_x_and_following_y(data_path, year, verbose=verbose)\n",
    "    new_X = add_next_year_beetle_data(X, next_Y)\n",
    "    print('Saving tensor to %s...' % out_path)\n",
    "    pickle.dump(new_X, bz2.open(out_path, 'wb'))"
   ]
  },
  {
   "cell_type": "code",
   "execution_count": 13,
   "metadata": {
    "collapsed": false
   },
   "outputs": [
    {
     "name": "stdout",
     "output_type": "stream",
     "text": [
      "\n",
      "Maiking new tensor for 2000\n",
      "\n",
      "Loading X tensor from ../../data/cluster/year/tensor2000.pkl.bz2\n",
      "Loading y tensor from ../../data/cluster/year/y_matrix2001.pkl.bz2\n",
      "  X:  (188, 353, 19) (width, height, layers)\n",
      "  Y:  (188, 353)     (width, height)\n",
      "Saving tensor to ../../data/cluster/year/tensor20_2000.pkl.bz2...\n",
      "\n",
      "Maiking new tensor for 2001\n",
      "\n",
      "Loading X tensor from ../../data/cluster/year/tensor2001.pkl.bz2\n",
      "Loading y tensor from ../../data/cluster/year/y_matrix2002.pkl.bz2\n",
      "  X:  (188, 353, 19) (width, height, layers)\n",
      "  Y:  (188, 353)     (width, height)\n",
      "Saving tensor to ../../data/cluster/year/tensor20_2001.pkl.bz2...\n",
      "\n",
      "Maiking new tensor for 2002\n",
      "\n",
      "Loading X tensor from ../../data/cluster/year/tensor2002.pkl.bz2\n",
      "Loading y tensor from ../../data/cluster/year/y_matrix2003.pkl.bz2\n",
      "  X:  (188, 353, 19) (width, height, layers)\n",
      "  Y:  (188, 353)     (width, height)\n",
      "Saving tensor to ../../data/cluster/year/tensor20_2002.pkl.bz2...\n",
      "\n",
      "Maiking new tensor for 2003\n",
      "\n",
      "Loading X tensor from ../../data/cluster/year/tensor2003.pkl.bz2\n",
      "Loading y tensor from ../../data/cluster/year/y_matrix2004.pkl.bz2\n",
      "  X:  (188, 353, 19) (width, height, layers)\n",
      "  Y:  (188, 353)     (width, height)\n",
      "Saving tensor to ../../data/cluster/year/tensor20_2003.pkl.bz2...\n",
      "\n",
      "Maiking new tensor for 2004\n",
      "\n",
      "Loading X tensor from ../../data/cluster/year/tensor2004.pkl.bz2\n",
      "Loading y tensor from ../../data/cluster/year/y_matrix2005.pkl.bz2\n",
      "  X:  (188, 353, 19) (width, height, layers)\n",
      "  Y:  (188, 353)     (width, height)\n",
      "Saving tensor to ../../data/cluster/year/tensor20_2004.pkl.bz2...\n",
      "\n",
      "Maiking new tensor for 2005\n",
      "\n",
      "Loading X tensor from ../../data/cluster/year/tensor2005.pkl.bz2\n",
      "Loading y tensor from ../../data/cluster/year/y_matrix2006.pkl.bz2\n",
      "  X:  (188, 353, 19) (width, height, layers)\n",
      "  Y:  (188, 353)     (width, height)\n",
      "Saving tensor to ../../data/cluster/year/tensor20_2005.pkl.bz2...\n",
      "\n",
      "Maiking new tensor for 2006\n",
      "\n",
      "Loading X tensor from ../../data/cluster/year/tensor2006.pkl.bz2\n",
      "Loading y tensor from ../../data/cluster/year/y_matrix2007.pkl.bz2\n",
      "  X:  (188, 353, 19) (width, height, layers)\n",
      "  Y:  (188, 353)     (width, height)\n",
      "Saving tensor to ../../data/cluster/year/tensor20_2006.pkl.bz2...\n",
      "\n",
      "Maiking new tensor for 2007\n",
      "\n",
      "Loading X tensor from ../../data/cluster/year/tensor2007.pkl.bz2\n",
      "Loading y tensor from ../../data/cluster/year/y_matrix2008.pkl.bz2\n",
      "  X:  (188, 353, 19) (width, height, layers)\n",
      "  Y:  (188, 353)     (width, height)\n",
      "Saving tensor to ../../data/cluster/year/tensor20_2007.pkl.bz2...\n",
      "\n",
      "Maiking new tensor for 2008\n",
      "\n",
      "Loading X tensor from ../../data/cluster/year/tensor2008.pkl.bz2\n",
      "Loading y tensor from ../../data/cluster/year/y_matrix2009.pkl.bz2\n",
      "  X:  (188, 353, 19) (width, height, layers)\n",
      "  Y:  (188, 353)     (width, height)\n",
      "Saving tensor to ../../data/cluster/year/tensor20_2008.pkl.bz2...\n",
      "\n",
      "Maiking new tensor for 2009\n",
      "\n",
      "Loading X tensor from ../../data/cluster/year/tensor2009.pkl.bz2\n",
      "Loading y tensor from ../../data/cluster/year/y_matrix2010.pkl.bz2\n",
      "  X:  (188, 353, 19) (width, height, layers)\n",
      "  Y:  (188, 353)     (width, height)\n",
      "Saving tensor to ../../data/cluster/year/tensor20_2009.pkl.bz2...\n",
      "\n",
      "Maiking new tensor for 2010\n",
      "\n",
      "Loading X tensor from ../../data/cluster/year/tensor2010.pkl.bz2\n",
      "Loading y tensor from ../../data/cluster/year/y_matrix2011.pkl.bz2\n",
      "  X:  (188, 353, 19) (width, height, layers)\n",
      "  Y:  (188, 353)     (width, height)\n",
      "Saving tensor to ../../data/cluster/year/tensor20_2010.pkl.bz2...\n",
      "\n",
      "Maiking new tensor for 2011\n",
      "\n",
      "Loading X tensor from ../../data/cluster/year/tensor2011.pkl.bz2\n",
      "Loading y tensor from ../../data/cluster/year/y_matrix2012.pkl.bz2\n",
      "  X:  (188, 353, 19) (width, height, layers)\n",
      "  Y:  (188, 353)     (width, height)\n",
      "Saving tensor to ../../data/cluster/year/tensor20_2011.pkl.bz2...\n",
      "\n",
      "Maiking new tensor for 2012\n",
      "\n",
      "Loading X tensor from ../../data/cluster/year/tensor2012.pkl.bz2\n",
      "Loading y tensor from ../../data/cluster/year/y_matrix2013.pkl.bz2\n",
      "  X:  (188, 353, 19) (width, height, layers)\n",
      "  Y:  (188, 353)     (width, height)\n",
      "Saving tensor to ../../data/cluster/year/tensor20_2012.pkl.bz2...\n",
      "\n",
      "Maiking new tensor for 2013\n",
      "\n",
      "Loading X tensor from ../../data/cluster/year/tensor2013.pkl.bz2\n",
      "Loading y tensor from ../../data/cluster/year/y_matrix2014.pkl.bz2\n",
      "  X:  (188, 353, 19) (width, height, layers)\n",
      "  Y:  (188, 353)     (width, height)\n",
      "Saving tensor to ../../data/cluster/year/tensor20_2013.pkl.bz2...\n"
     ]
    }
   ],
   "source": [
    "for year in range(2000, 2014):\n",
    "    make_and_save_tensor(DATA_DIR, year)"
   ]
  },
  {
   "cell_type": "code",
   "execution_count": null,
   "metadata": {
    "collapsed": true
   },
   "outputs": [],
   "source": []
  }
 ],
 "metadata": {
  "kernelspec": {
   "display_name": "Python 3",
   "language": "python",
   "name": "python3"
  },
  "language_info": {
   "codemirror_mode": {
    "name": "ipython",
    "version": 3
   },
   "file_extension": ".py",
   "mimetype": "text/x-python",
   "name": "python",
   "nbconvert_exporter": "python",
   "pygments_lexer": "ipython3",
   "version": "3.6.1"
  }
 },
 "nbformat": 4,
 "nbformat_minor": 0
}
