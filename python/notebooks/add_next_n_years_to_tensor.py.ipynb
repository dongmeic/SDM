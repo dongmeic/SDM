{
 "cells": [
  {
   "cell_type": "code",
   "execution_count": 1,
   "metadata": {
    "collapsed": true
   },
   "outputs": [],
   "source": [
    "import bz2\n",
    "import matplotlib.pyplot as plt\n",
    "import numpy as np\n",
    "import os\n",
    "import pandas as pd\n",
    "import pickle\n",
    "from pylab import *\n",
    "\n",
    "%matplotlib inline\n",
    "plt.rcParams['figure.figsize'] = 10, 8"
   ]
  },
  {
   "cell_type": "code",
   "execution_count": 2,
   "metadata": {
    "collapsed": false
   },
   "outputs": [],
   "source": [
    "DATA_DIR = '../../data/cluster/year/'"
   ]
  },
  {
   "cell_type": "code",
   "execution_count": 3,
   "metadata": {
    "collapsed": false
   },
   "outputs": [],
   "source": [
    "#os.listdir(DATA_DIR)"
   ]
  },
  {
   "cell_type": "code",
   "execution_count": 4,
   "metadata": {
    "collapsed": false
   },
   "outputs": [],
   "source": [
    "def load_x_and_following_n_ys(data_path, year, n=3, verbose=False):\n",
    "    x_path = data_path + 'tensor%d.pkl.bz2' % year\n",
    "    y_paths = [data_path + 'y_matrix%d.pkl.bz2' % (year + i) for i in range(1, n + 1)]\n",
    "    if verbose: \n",
    "        print('\\nLoading X tensor from %s' % x_path)\n",
    "    X = pickle.load(bz2.open(x_path, 'rb'))\n",
    "    Ys = []\n",
    "    for y_path in y_paths:\n",
    "        if verbose: \n",
    "            print('Loading y tensor from %s' % y_path)\n",
    "        Y = pickle.load(bz2.open(y_path, 'rb'))\n",
    "        Ys.append(Y)\n",
    "    \n",
    "    if verbose:\n",
    "        print('  X: ', X.shape, '(width, height, layers)')\n",
    "        for Y in Ys:\n",
    "            print('  Y: ', Y.shape, '    (width, height)')\n",
    "    return X, Ys"
   ]
  },
  {
   "cell_type": "code",
   "execution_count": 8,
   "metadata": {
    "collapsed": false
   },
   "outputs": [
    {
     "name": "stdout",
     "output_type": "stream",
     "text": [
      "\n",
      "Loading X tensor from ../../data/cluster/year/tensor2000.pkl.bz2\n",
      "Loading y tensor from ../../data/cluster/year/y_matrix2001.pkl.bz2\n",
      "Loading y tensor from ../../data/cluster/year/y_matrix2002.pkl.bz2\n",
      "Loading y tensor from ../../data/cluster/year/y_matrix2003.pkl.bz2\n",
      "  X:  (188, 353, 19) (width, height, layers)\n",
      "  Y:  (188, 353)     (width, height)\n",
      "  Y:  (188, 353)     (width, height)\n",
      "  Y:  (188, 353)     (width, height)\n"
     ]
    }
   ],
   "source": [
    "X, next_Ys = load_x_and_following_n_ys(DATA_DIR, 2000, n=3, verbose=True)"
   ]
  },
  {
   "cell_type": "code",
   "execution_count": 7,
   "metadata": {
    "collapsed": false
   },
   "outputs": [],
   "source": [
    "def add_next_n_years_beetle_data(X, next_Ys):\n",
    "    width, height, layers = X.shape\n",
    "    for next_Y in next_Ys:\n",
    "        X = np.concatenate([X, next_Y.reshape([width, height, 1])], axis=2)\n",
    "    return X"
   ]
  },
  {
   "cell_type": "code",
   "execution_count": 10,
   "metadata": {
    "collapsed": false
   },
   "outputs": [],
   "source": [
    "X_new = add_next_n_years_beetle_data(X, next_Ys)"
   ]
  },
  {
   "cell_type": "code",
   "execution_count": 11,
   "metadata": {
    "collapsed": false
   },
   "outputs": [
    {
     "data": {
      "text/plain": [
       "(188, 353, 22)"
      ]
     },
     "execution_count": 11,
     "metadata": {},
     "output_type": "execute_result"
    }
   ],
   "source": [
    "X_new.shape # H, W, L: L 0-18: climate, 19 - 21 are years +1, +2, +3"
   ]
  },
  {
   "cell_type": "code",
   "execution_count": 12,
   "metadata": {
    "collapsed": false
   },
   "outputs": [
    {
     "data": {
      "image/png": "[encoded data removed]",
      "text/plain": [
       "<matplotlib.figure.Figure at 0x10ac0a7b8>"
      ]
     },
     "metadata": {},
     "output_type": "display_data"
    }
   ],
   "source": [
    "plt.subplot(131);\n",
    "imshow(np.rot90(X_new[:, :, 19]));\n",
    "plt.title(2001);\n",
    "plt.subplot(132);\n",
    "imshow(np.rot90(X_new[:, :, 20]));\n",
    "plt.title(2002);\n",
    "plt.subplot(133);\n",
    "imshow(np.rot90(X_new[:, :, 21]));\n",
    "plt.title(2003);"
   ]
  },
  {
   "cell_type": "code",
   "execution_count": 13,
   "metadata": {
    "collapsed": false
   },
   "outputs": [],
   "source": [
    "def make_and_save_tensor(data_path, year, verbose=True):\n",
    "    print('\\nMaking new tensor for %d' % year)\n",
    "    out_path = data_path + 'tensor3y_ahead_%d.pkl.bz2' % year\n",
    "    X, next_Ys = load_x_and_following_n_ys(data_path, year, n=3, verbose=verbose)\n",
    "    new_X = add_next_n_years_beetle_data(X, next_Ys)\n",
    "    print('Saving tensor to %s...' % out_path)\n",
    "    pickle.dump(new_X, bz2.open(out_path, 'wb'))"
   ]
  },
  {
   "cell_type": "code",
   "execution_count": 14,
   "metadata": {
    "collapsed": false,
    "scrolled": true
   },
   "outputs": [
    {
     "name": "stdout",
     "output_type": "stream",
     "text": [
      "\n",
      "Making new tensor for 2000\n",
      "\n",
      "Loading X tensor from ../../data/cluster/year/tensor2000.pkl.bz2\n",
      "Loading y tensor from ../../data/cluster/year/y_matrix2001.pkl.bz2\n",
      "Loading y tensor from ../../data/cluster/year/y_matrix2002.pkl.bz2\n",
      "Loading y tensor from ../../data/cluster/year/y_matrix2003.pkl.bz2\n",
      "  X:  (188, 353, 19) (width, height, layers)\n",
      "  Y:  (188, 353)     (width, height)\n",
      "  Y:  (188, 353)     (width, height)\n",
      "  Y:  (188, 353)     (width, height)\n",
      "Saving tensor to ../../data/cluster/year/tensor3y_ahead_2000.pkl.bz2...\n",
      "\n",
      "Making new tensor for 2001\n",
      "\n",
      "Loading X tensor from ../../data/cluster/year/tensor2001.pkl.bz2\n",
      "Loading y tensor from ../../data/cluster/year/y_matrix2002.pkl.bz2\n",
      "Loading y tensor from ../../data/cluster/year/y_matrix2003.pkl.bz2\n",
      "Loading y tensor from ../../data/cluster/year/y_matrix2004.pkl.bz2\n",
      "  X:  (188, 353, 19) (width, height, layers)\n",
      "  Y:  (188, 353)     (width, height)\n",
      "  Y:  (188, 353)     (width, height)\n",
      "  Y:  (188, 353)     (width, height)\n",
      "Saving tensor to ../../data/cluster/year/tensor3y_ahead_2001.pkl.bz2...\n",
      "\n",
      "Making new tensor for 2002\n",
      "\n",
      "Loading X tensor from ../../data/cluster/year/tensor2002.pkl.bz2\n",
      "Loading y tensor from ../../data/cluster/year/y_matrix2003.pkl.bz2\n",
      "Loading y tensor from ../../data/cluster/year/y_matrix2004.pkl.bz2\n",
      "Loading y tensor from ../../data/cluster/year/y_matrix2005.pkl.bz2\n",
      "  X:  (188, 353, 19) (width, height, layers)\n",
      "  Y:  (188, 353)     (width, height)\n",
      "  Y:  (188, 353)     (width, height)\n",
      "  Y:  (188, 353)     (width, height)\n",
      "Saving tensor to ../../data/cluster/year/tensor3y_ahead_2002.pkl.bz2...\n",
      "\n",
      "Making new tensor for 2003\n",
      "\n",
      "Loading X tensor from ../../data/cluster/year/tensor2003.pkl.bz2\n",
      "Loading y tensor from ../../data/cluster/year/y_matrix2004.pkl.bz2\n",
      "Loading y tensor from ../../data/cluster/year/y_matrix2005.pkl.bz2\n",
      "Loading y tensor from ../../data/cluster/year/y_matrix2006.pkl.bz2\n",
      "  X:  (188, 353, 19) (width, height, layers)\n",
      "  Y:  (188, 353)     (width, height)\n",
      "  Y:  (188, 353)     (width, height)\n",
      "  Y:  (188, 353)     (width, height)\n",
      "Saving tensor to ../../data/cluster/year/tensor3y_ahead_2003.pkl.bz2...\n",
      "\n",
      "Making new tensor for 2004\n",
      "\n",
      "Loading X tensor from ../../data/cluster/year/tensor2004.pkl.bz2\n",
      "Loading y tensor from ../../data/cluster/year/y_matrix2005.pkl.bz2\n",
      "Loading y tensor from ../../data/cluster/year/y_matrix2006.pkl.bz2\n",
      "Loading y tensor from ../../data/cluster/year/y_matrix2007.pkl.bz2\n",
      "  X:  (188, 353, 19) (width, height, layers)\n",
      "  Y:  (188, 353)     (width, height)\n",
      "  Y:  (188, 353)     (width, height)\n",
      "  Y:  (188, 353)     (width, height)\n",
      "Saving tensor to ../../data/cluster/year/tensor3y_ahead_2004.pkl.bz2...\n",
      "\n",
      "Making new tensor for 2005\n",
      "\n",
      "Loading X tensor from ../../data/cluster/year/tensor2005.pkl.bz2\n",
      "Loading y tensor from ../../data/cluster/year/y_matrix2006.pkl.bz2\n",
      "Loading y tensor from ../../data/cluster/year/y_matrix2007.pkl.bz2\n",
      "Loading y tensor from ../../data/cluster/year/y_matrix2008.pkl.bz2\n",
      "  X:  (188, 353, 19) (width, height, layers)\n",
      "  Y:  (188, 353)     (width, height)\n",
      "  Y:  (188, 353)     (width, height)\n",
      "  Y:  (188, 353)     (width, height)\n",
      "Saving tensor to ../../data/cluster/year/tensor3y_ahead_2005.pkl.bz2...\n",
      "\n",
      "Making new tensor for 2006\n",
      "\n",
      "Loading X tensor from ../../data/cluster/year/tensor2006.pkl.bz2\n",
      "Loading y tensor from ../../data/cluster/year/y_matrix2007.pkl.bz2\n",
      "Loading y tensor from ../../data/cluster/year/y_matrix2008.pkl.bz2\n",
      "Loading y tensor from ../../data/cluster/year/y_matrix2009.pkl.bz2\n",
      "  X:  (188, 353, 19) (width, height, layers)\n",
      "  Y:  (188, 353)     (width, height)\n",
      "  Y:  (188, 353)     (width, height)\n",
      "  Y:  (188, 353)     (width, height)\n",
      "Saving tensor to ../../data/cluster/year/tensor3y_ahead_2006.pkl.bz2...\n",
      "\n",
      "Making new tensor for 2007\n",
      "\n",
      "Loading X tensor from ../../data/cluster/year/tensor2007.pkl.bz2\n",
      "Loading y tensor from ../../data/cluster/year/y_matrix2008.pkl.bz2\n",
      "Loading y tensor from ../../data/cluster/year/y_matrix2009.pkl.bz2\n",
      "Loading y tensor from ../../data/cluster/year/y_matrix2010.pkl.bz2\n",
      "  X:  (188, 353, 19) (width, height, layers)\n",
      "  Y:  (188, 353)     (width, height)\n",
      "  Y:  (188, 353)     (width, height)\n",
      "  Y:  (188, 353)     (width, height)\n",
      "Saving tensor to ../../data/cluster/year/tensor3y_ahead_2007.pkl.bz2...\n",
      "\n",
      "Making new tensor for 2008\n",
      "\n",
      "Loading X tensor from ../../data/cluster/year/tensor2008.pkl.bz2\n",
      "Loading y tensor from ../../data/cluster/year/y_matrix2009.pkl.bz2\n",
      "Loading y tensor from ../../data/cluster/year/y_matrix2010.pkl.bz2\n",
      "Loading y tensor from ../../data/cluster/year/y_matrix2011.pkl.bz2\n",
      "  X:  (188, 353, 19) (width, height, layers)\n",
      "  Y:  (188, 353)     (width, height)\n",
      "  Y:  (188, 353)     (width, height)\n",
      "  Y:  (188, 353)     (width, height)\n",
      "Saving tensor to ../../data/cluster/year/tensor3y_ahead_2008.pkl.bz2...\n",
      "\n",
      "Making new tensor for 2009\n",
      "\n",
      "Loading X tensor from ../../data/cluster/year/tensor2009.pkl.bz2\n",
      "Loading y tensor from ../../data/cluster/year/y_matrix2010.pkl.bz2\n",
      "Loading y tensor from ../../data/cluster/year/y_matrix2011.pkl.bz2\n",
      "Loading y tensor from ../../data/cluster/year/y_matrix2012.pkl.bz2\n",
      "  X:  (188, 353, 19) (width, height, layers)\n",
      "  Y:  (188, 353)     (width, height)\n",
      "  Y:  (188, 353)     (width, height)\n",
      "  Y:  (188, 353)     (width, height)\n",
      "Saving tensor to ../../data/cluster/year/tensor3y_ahead_2009.pkl.bz2...\n",
      "\n",
      "Making new tensor for 2010\n",
      "\n",
      "Loading X tensor from ../../data/cluster/year/tensor2010.pkl.bz2\n",
      "Loading y tensor from ../../data/cluster/year/y_matrix2011.pkl.bz2\n",
      "Loading y tensor from ../../data/cluster/year/y_matrix2012.pkl.bz2\n",
      "Loading y tensor from ../../data/cluster/year/y_matrix2013.pkl.bz2\n",
      "  X:  (188, 353, 19) (width, height, layers)\n",
      "  Y:  (188, 353)     (width, height)\n",
      "  Y:  (188, 353)     (width, height)\n",
      "  Y:  (188, 353)     (width, height)\n",
      "Saving tensor to ../../data/cluster/year/tensor3y_ahead_2010.pkl.bz2...\n",
      "\n",
      "Making new tensor for 2011\n",
      "\n",
      "Loading X tensor from ../../data/cluster/year/tensor2011.pkl.bz2\n",
      "Loading y tensor from ../../data/cluster/year/y_matrix2012.pkl.bz2\n",
      "Loading y tensor from ../../data/cluster/year/y_matrix2013.pkl.bz2\n",
      "Loading y tensor from ../../data/cluster/year/y_matrix2014.pkl.bz2\n",
      "  X:  (188, 353, 19) (width, height, layers)\n",
      "  Y:  (188, 353)     (width, height)\n",
      "  Y:  (188, 353)     (width, height)\n",
      "  Y:  (188, 353)     (width, height)\n",
      "Saving tensor to ../../data/cluster/year/tensor3y_ahead_2011.pkl.bz2...\n"
     ]
    }
   ],
   "source": [
    "for year in range(2000, 2012):\n",
    "    make_and_save_tensor(DATA_DIR, year)"
   ]
  }
 ],
 "metadata": {
  "kernelspec": {
   "display_name": "Python 3",
   "language": "python",
   "name": "python3"
  },
  "language_info": {
   "codemirror_mode": {
    "name": "ipython",
    "version": 3
   },
   "file_extension": ".py",
   "mimetype": "text/x-python",
   "name": "python",
   "nbconvert_exporter": "python",
   "pygments_lexer": "ipython3",
   "version": "3.6.1"
  }
 },
 "nbformat": 4,
 "nbformat_minor": 0
}
