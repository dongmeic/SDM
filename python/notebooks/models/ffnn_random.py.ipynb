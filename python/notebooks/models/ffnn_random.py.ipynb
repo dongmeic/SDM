{
 "cells": [
  {
   "cell_type": "markdown",
   "metadata": {},
   "source": [
    "# Feed-Forward Neural Network\n",
    "This notebook uses a basic (feed-forward) artificial network to predict presence/absence of beetles in raster cells."
   ]
  },
  {
   "cell_type": "code",
   "execution_count": 29,
   "metadata": {
    "collapsed": false
   },
   "outputs": [],
   "source": [
    "import keras\n",
    "import matplotlib.pyplot as plt\n",
    "import numpy as np\n",
    "import os\n",
    "import pandas as pd\n",
    "import sys\n",
    "import time\n",
    "from keras.callbacks import EarlyStopping, ModelCheckpoint \n",
    "from keras.layers import Activation, BatchNormalization, Dense, Dropout\n",
    "from keras.models import Sequential\n",
    "from keras.optimizers import Adam\n",
    "from pprint import pprint\n",
    "from pylab import *\n",
    "from sklearn.preprocessing import StandardScaler\n",
    "\n",
    "sys.path.append('../..')\n",
    "import data_manipulations as manip\n",
    "\n",
    "%matplotlib inline\n",
    "\n",
    "plt.rcParams['figure.figsize'] = 10, 8\n",
    "plt.style.use('ggplot')"
   ]
  },
  {
   "cell_type": "code",
   "execution_count": 2,
   "metadata": {
    "collapsed": false
   },
   "outputs": [
    {
     "data": {
      "text/plain": [
       "['weights.bestNN.hdf5',\n",
       " 'X_test.csv',\n",
       " 'X_train.csv',\n",
       " 'X_train.csv.zip',\n",
       " 'X_valid.csv',\n",
       " 'y_test.csv',\n",
       " 'y_train.csv',\n",
       " 'y_valid.csv']"
      ]
     },
     "execution_count": 2,
     "metadata": {},
     "output_type": "execute_result"
    }
   ],
   "source": [
    "DATA_PATH =  '../../../data/cluster/random/'\n",
    "os.listdir(DATA_PATH)"
   ]
  },
  {
   "cell_type": "code",
   "execution_count": 3,
   "metadata": {
    "collapsed": true
   },
   "outputs": [],
   "source": [
    "def load_data(data_dir):\n",
    "    X_train = pd.read_csv(data_dir + 'X_train.csv')\n",
    "    print('X_train:', X_train.shape)\n",
    "    X_valid = pd.read_csv(data_dir + 'X_valid.csv')\n",
    "    print('X_valid:', X_valid.shape)\n",
    "    X_test  = pd.read_csv(data_dir + 'X_test.csv')\n",
    "    print('X_test:',  X_test.shape)\n",
    "    y_train = pd.read_csv(data_dir + 'y_train.csv')\n",
    "    print('y_train:', y_train.shape)\n",
    "    y_valid = pd.read_csv(data_dir + 'y_valid.csv')\n",
    "    print('y_valid:', y_valid.shape)\n",
    "    y_test  = pd.read_csv(data_dir + 'y_test.csv')\n",
    "    print('y_test:',  y_test.shape)\n",
    "    \n",
    "    return [[X_train, y_train], [X_valid, y_valid], [X_test, y_test]]"
   ]
  },
  {
   "cell_type": "code",
   "execution_count": 4,
   "metadata": {
    "collapsed": false
   },
   "outputs": [
    {
     "name": "stdout",
     "output_type": "stream",
     "text": [
      "X_train: (617893, 24)\n",
      "X_valid: (132406, 24)\n",
      "X_test: (132406, 24)\n",
      "y_train: (617893, 1)\n",
      "y_valid: (132406, 1)\n",
      "y_test: (132406, 1)\n"
     ]
    }
   ],
   "source": [
    "[[X_train, y_train], [X_valid, y_valid], [X_test, y_test]] = load_data(\n",
    "    DATA_PATH)"
   ]
  },
  {
   "cell_type": "code",
   "execution_count": 5,
   "metadata": {
    "collapsed": false
   },
   "outputs": [
    {
     "data": {
      "text/plain": [
       "['year',\n",
       " 'meanTemp_Annual',\n",
       " 'meanTemp_AprAug',\n",
       " 'meanTemp_Aug',\n",
       " 'meanMinTemp_DecFeb',\n",
       " 'meanMinTemp_Oct',\n",
       " 'meanMinTemp_Jan',\n",
       " 'meanMinTemp_Mar',\n",
       " 'meanMaxTemp_Aug',\n",
       " 'precip_meanAnnual',\n",
       " 'precip_JunAug',\n",
       " 'vegetation',\n",
       " 'precipPrevious_JunAug',\n",
       " 'precip_OctSep',\n",
       " 'precipPrevious_OctSep',\n",
       " 'precip_growingSeason',\n",
       " 'varPrecip_growingSeason',\n",
       " 'elev_etopo1',\n",
       " 'lat',\n",
       " 'lon',\n",
       " 'studyArea',\n",
       " 'elev_srtm30',\n",
       " 'x',\n",
       " 'y']"
      ]
     },
     "execution_count": 5,
     "metadata": {},
     "output_type": "execute_result"
    }
   ],
   "source": [
    "list(X_train)"
   ]
  },
  {
   "cell_type": "code",
   "execution_count": 6,
   "metadata": {
    "collapsed": false
   },
   "outputs": [],
   "source": [
    "def summarize(df, field, plot=True):\n",
    "    quantiles = df.quantile(q=[0, 0.25, 0.5, 0.75, 1], axis=0)\n",
    "    means = df.mean(axis=0)\n",
    "    \n",
    "    quants = quantiles[field]\n",
    "    values = df[field]\n",
    "    values = values[np.isnan(values) == False]\n",
    "    n_nan  = values[np.isnan(values) == True].sum()\n",
    "    is_finite = np.isfinite(values).all()\n",
    "\n",
    "    print('\\n%s:\\n%10s%10s%10s%10s%10s%10s\\n'\n",
    "          '%10.2f%10.2f%10.2f%10.2f%10.2f%10.2f'\n",
    "          % (field, 'min', '25%', 'med', 'mean', '75%', 'max',\n",
    "             quants[0], quants[0.25], quants[0.5], means[field], \n",
    "             quants[0.75], quants[1]))\n",
    "    if plot:\n",
    "        plt.figure();\n",
    "        plt.hist(values);\n",
    "        plt.title(field);"
   ]
  },
  {
   "cell_type": "code",
   "execution_count": 7,
   "metadata": {
    "collapsed": false
   },
   "outputs": [],
   "source": [
    "#ignore = ['x', 'y', 'year']\n",
    "#for field in list(X_train):\n",
    "    #if field not in ignore:\n",
    "        #summarize(X_train, field, plot=False)\n",
    "        #summarize(X_valid, field, plot=False)\n",
    "        #summarize(X_test,  field, plot=False)"
   ]
  },
  {
   "cell_type": "code",
   "execution_count": 8,
   "metadata": {
    "collapsed": false
   },
   "outputs": [],
   "source": [
    "#for YEAR in range(2000, 2015):\n",
    "#    plt.figure()\n",
    "#    plt.scatter(\n",
    "#        X_train.loc[(y_train['beetle'] == 1) & (X_train['year'] == YEAR), \n",
    "#                    'lon'], \n",
    "#        X_train.loc[(y_train['beetle'] == 1) & (X_train['year'] == YEAR), \n",
    "#                    'lat'],\n",
    "#        alpha=0.1, label=YEAR);\n",
    "#    plt.legend(loc='best');"
   ]
  },
  {
   "cell_type": "code",
   "execution_count": 9,
   "metadata": {
    "collapsed": false
   },
   "outputs": [
    {
     "data": {
      "text/html": [
       "<div>\n",
       "<style>\n",
       "    .dataframe thead tr:only-child th {\n",
       "        text-align: right;\n",
       "    }\n",
       "\n",
       "    .dataframe thead th {\n",
       "        text-align: left;\n",
       "    }\n",
       "\n",
       "    .dataframe tbody tr th {\n",
       "        vertical-align: top;\n",
       "    }\n",
       "</style>\n",
       "<table border=\"1\" class=\"dataframe\">\n",
       "  <thead>\n",
       "    <tr style=\"text-align: right;\">\n",
       "      <th></th>\n",
       "      <th>beetle</th>\n",
       "    </tr>\n",
       "  </thead>\n",
       "  <tbody>\n",
       "    <tr>\n",
       "      <th>0</th>\n",
       "      <td>0</td>\n",
       "    </tr>\n",
       "    <tr>\n",
       "      <th>1</th>\n",
       "      <td>0</td>\n",
       "    </tr>\n",
       "    <tr>\n",
       "      <th>2</th>\n",
       "      <td>0</td>\n",
       "    </tr>\n",
       "    <tr>\n",
       "      <th>3</th>\n",
       "      <td>0</td>\n",
       "    </tr>\n",
       "    <tr>\n",
       "      <th>4</th>\n",
       "      <td>0</td>\n",
       "    </tr>\n",
       "  </tbody>\n",
       "</table>\n",
       "</div>"
      ],
      "text/plain": [
       "   beetle\n",
       "0       0\n",
       "1       0\n",
       "2       0\n",
       "3       0\n",
       "4       0"
      ]
     },
     "execution_count": 9,
     "metadata": {},
     "output_type": "execute_result"
    }
   ],
   "source": [
    "y_train.head()"
   ]
  },
  {
   "cell_type": "code",
   "execution_count": 10,
   "metadata": {
    "collapsed": false
   },
   "outputs": [],
   "source": [
    "# Drop 'studyArea' from predictors (all 1 in the reduced data) and 'x' and\n",
    "# 'y' (perfectly correlated with 'lon' and 'lat')\n",
    "X_train = X_train.drop(['studyArea', 'x', 'y'], axis=1)\n",
    "X_valid = X_valid.drop(['studyArea', 'x', 'y'], axis=1)\n",
    "X_test  = X_test.drop(['studyArea', 'x', 'y'],  axis=1)"
   ]
  },
  {
   "cell_type": "code",
   "execution_count": 11,
   "metadata": {
    "collapsed": false
   },
   "outputs": [
    {
     "data": {
      "text/plain": [
       "year                        True\n",
       "meanTemp_Annual             True\n",
       "meanTemp_AprAug             True\n",
       "meanTemp_Aug                True\n",
       "meanMinTemp_DecFeb          True\n",
       "meanMinTemp_Oct             True\n",
       "meanMinTemp_Jan             True\n",
       "meanMinTemp_Mar             True\n",
       "meanMaxTemp_Aug             True\n",
       "precip_meanAnnual           True\n",
       "precip_JunAug               True\n",
       "vegetation                  True\n",
       "precipPrevious_JunAug       True\n",
       "precip_OctSep               True\n",
       "precipPrevious_OctSep       True\n",
       "precip_growingSeason        True\n",
       "varPrecip_growingSeason    False\n",
       "elev_etopo1                 True\n",
       "lat                         True\n",
       "lon                         True\n",
       "elev_srtm30                 True\n",
       "dtype: bool"
      ]
     },
     "execution_count": 11,
     "metadata": {},
     "output_type": "execute_result"
    }
   ],
   "source": [
    "np.isfinite(X_train).all()"
   ]
  },
  {
   "cell_type": "code",
   "execution_count": 12,
   "metadata": {
    "collapsed": false
   },
   "outputs": [
    {
     "name": "stdout",
     "output_type": "stream",
     "text": [
      "X_train: 0.00478076301237\n",
      "X_valid: 0.00493180067369\n",
      "X_test: 0.00518858661994\n"
     ]
    }
   ],
   "source": [
    "print('X_train:', \n",
    "      np.isnan(X_train.varPrecip_growingSeason).sum() / X_train.shape[0])\n",
    "print('X_valid:', \n",
    "      np.isnan(X_valid.varPrecip_growingSeason).sum() / X_valid.shape[0])\n",
    "print('X_test:',  \n",
    "      np.isnan(X_test.varPrecip_growingSeason).sum() / X_test.shape[0])"
   ]
  },
  {
   "cell_type": "code",
   "execution_count": 13,
   "metadata": {
    "collapsed": false
   },
   "outputs": [
    {
     "name": "stdout",
     "output_type": "stream",
     "text": [
      "(614939, 21) (614939, 1)\n",
      "(131753, 21) (131753, 1)\n",
      "(131719, 21) (131719, 1)\n"
     ]
    }
   ],
   "source": [
    "# NaNs in less than 1% of the rows.... just drop\n",
    "def drop_nans(X_df, y_df, field, verbose=True):\n",
    "    X = X_df.copy()\n",
    "    y = y_df.copy()\n",
    "    X = X.loc[np.isnan(X_df[field]) == False, :]\n",
    "    y = y.loc[np.isnan(X_df[field]) == False, :]\n",
    "    \n",
    "    if verbose:\n",
    "        print(X.shape, y.shape)\n",
    "    return X, y\n",
    "\n",
    "\n",
    "X_train, y_train = drop_nans(X_train, y_train, 'varPrecip_growingSeason')\n",
    "X_valid, y_valid = drop_nans(X_valid, y_valid, 'varPrecip_growingSeason')\n",
    "X_test,  y_test  = drop_nans(X_test,  y_test,  'varPrecip_growingSeason')"
   ]
  },
  {
   "cell_type": "code",
   "execution_count": 14,
   "metadata": {
    "collapsed": false
   },
   "outputs": [],
   "source": [
    "# Normalize data to make gradient descent more efficient\n",
    "scaler = StandardScaler()\n",
    "X_train = scaler.fit_transform(X_train)\n",
    "X_valid = scaler.transform(X_valid)\n",
    "X_test  = scaler.transform(X_test)"
   ]
  },
  {
   "cell_type": "code",
   "execution_count": 15,
   "metadata": {
    "collapsed": false
   },
   "outputs": [],
   "source": [
    "def vectorize(y):\n",
    "    y = y.tolist()\n",
    "    for i in range(len(y)):\n",
    "        y[i] = [1, 0] if y[i] == [0] else [0, 1]\n",
    "        \n",
    "    return np.array(y)"
   ]
  },
  {
   "cell_type": "code",
   "execution_count": 16,
   "metadata": {
    "collapsed": false
   },
   "outputs": [],
   "source": [
    "y_train = y_train.as_matrix()\n",
    "y_valid = y_valid.as_matrix()\n",
    "y_test  = y_test.as_matrix()"
   ]
  },
  {
   "cell_type": "code",
   "execution_count": 17,
   "metadata": {
    "collapsed": false
   },
   "outputs": [],
   "source": [
    "y_train = vectorize(y_train)\n",
    "y_valid = vectorize(y_valid)\n",
    "y_test  = vectorize(y_test)"
   ]
  },
  {
   "cell_type": "markdown",
   "metadata": {},
   "source": [
    "# Neural Net Model"
   ]
  },
  {
   "cell_type": "code",
   "execution_count": 31,
   "metadata": {
    "collapsed": false
   },
   "outputs": [
    {
     "data": {
      "text/plain": [
       "(614939, 21)"
      ]
     },
     "execution_count": 31,
     "metadata": {},
     "output_type": "execute_result"
    }
   ],
   "source": [
    "best_val_loss = np.inf\n",
    "X_train.shape"
   ]
  },
  {
   "cell_type": "code",
   "execution_count": 19,
   "metadata": {
    "collapsed": false
   },
   "outputs": [
    {
     "data": {
      "text/plain": [
       "[21, 21, 21, 21, 21, 21, 21, 21, 21, 21, 2]"
      ]
     },
     "execution_count": 19,
     "metadata": {},
     "output_type": "execute_result"
    }
   ],
   "source": [
    "# Params and Hyperparams\n",
    "n_inputs = X_train.shape[1]\n",
    "n_outputs = 2\n",
    "\n",
    "# Current best\n",
    "N_LAYERS = 10\n",
    "NODES_PER_LAYER = ([n_inputs] * N_LAYERS)\n",
    "NODES_PER_LAYER.append(n_outputs)\n",
    "ETA = 0.1\n",
    "DROPOUT = 0    \n",
    "BETA_1 = 0.9\n",
    "BETA_2 = 0.999\n",
    "EPSILON = 1e-08\n",
    "DECAY = 0.01\n",
    "EPOCHS = 50\n",
    "BATCH_SIZE = 1024\n",
    "\n",
    "NODES_PER_LAYER"
   ]
  },
  {
   "cell_type": "code",
   "execution_count": 20,
   "metadata": {
    "collapsed": true
   },
   "outputs": [],
   "source": [
    "def get_params():\n",
    "    return {'NODES_PER_LAYER': NODES_PER_LAYER,\n",
    "            'ETA': ETA,\n",
    "            'DROPOUT': DROPOUT,\n",
    "            'BETA_1': BETA_1,\n",
    "            'BETA_2': BETA_2,\n",
    "            'EPSILON': EPSILON,\n",
    "            'DECAY': DECAY,\n",
    "            'EPOCHS': EPOCHS,\n",
    "            'BATCH_SIZE': BATCH_SIZE}"
   ]
  },
  {
   "cell_type": "code",
   "execution_count": 21,
   "metadata": {
    "collapsed": false
   },
   "outputs": [
    {
     "name": "stdout",
     "output_type": "stream",
     "text": [
      "_________________________________________________________________\n",
      "Layer (type)                 Output Shape              Param #   \n",
      "=================================================================\n",
      "dense_1 (Dense)              (None, 21)                462       \n",
      "_________________________________________________________________\n",
      "batch_normalization_1 (Batch (None, 21)                84        \n",
      "_________________________________________________________________\n",
      "activation_1 (Activation)    (None, 21)                0         \n",
      "_________________________________________________________________\n",
      "dropout_1 (Dropout)          (None, 21)                0         \n",
      "_________________________________________________________________\n",
      "dense_2 (Dense)              (None, 21)                462       \n",
      "_________________________________________________________________\n",
      "batch_normalization_2 (Batch (None, 21)                84        \n",
      "_________________________________________________________________\n",
      "activation_2 (Activation)    (None, 21)                0         \n",
      "_________________________________________________________________\n",
      "dropout_2 (Dropout)          (None, 21)                0         \n",
      "_________________________________________________________________\n",
      "dense_3 (Dense)              (None, 21)                462       \n",
      "_________________________________________________________________\n",
      "batch_normalization_3 (Batch (None, 21)                84        \n",
      "_________________________________________________________________\n",
      "activation_3 (Activation)    (None, 21)                0         \n",
      "_________________________________________________________________\n",
      "dropout_3 (Dropout)          (None, 21)                0         \n",
      "_________________________________________________________________\n",
      "dense_4 (Dense)              (None, 21)                462       \n",
      "_________________________________________________________________\n",
      "batch_normalization_4 (Batch (None, 21)                84        \n",
      "_________________________________________________________________\n",
      "activation_4 (Activation)    (None, 21)                0         \n",
      "_________________________________________________________________\n",
      "dropout_4 (Dropout)          (None, 21)                0         \n",
      "_________________________________________________________________\n",
      "dense_5 (Dense)              (None, 21)                462       \n",
      "_________________________________________________________________\n",
      "batch_normalization_5 (Batch (None, 21)                84        \n",
      "_________________________________________________________________\n",
      "activation_5 (Activation)    (None, 21)                0         \n",
      "_________________________________________________________________\n",
      "dropout_5 (Dropout)          (None, 21)                0         \n",
      "_________________________________________________________________\n",
      "dense_6 (Dense)              (None, 21)                462       \n",
      "_________________________________________________________________\n",
      "batch_normalization_6 (Batch (None, 21)                84        \n",
      "_________________________________________________________________\n",
      "activation_6 (Activation)    (None, 21)                0         \n",
      "_________________________________________________________________\n",
      "dropout_6 (Dropout)          (None, 21)                0         \n",
      "_________________________________________________________________\n",
      "dense_7 (Dense)              (None, 21)                462       \n",
      "_________________________________________________________________\n",
      "batch_normalization_7 (Batch (None, 21)                84        \n",
      "_________________________________________________________________\n",
      "activation_7 (Activation)    (None, 21)                0         \n",
      "_________________________________________________________________\n",
      "dropout_7 (Dropout)          (None, 21)                0         \n",
      "_________________________________________________________________\n",
      "dense_8 (Dense)              (None, 21)                462       \n",
      "_________________________________________________________________\n",
      "batch_normalization_8 (Batch (None, 21)                84        \n",
      "_________________________________________________________________\n",
      "activation_8 (Activation)    (None, 21)                0         \n",
      "_________________________________________________________________\n",
      "dropout_8 (Dropout)          (None, 21)                0         \n",
      "_________________________________________________________________\n",
      "dense_9 (Dense)              (None, 21)                462       \n",
      "_________________________________________________________________\n",
      "batch_normalization_9 (Batch (None, 21)                84        \n",
      "_________________________________________________________________\n",
      "activation_9 (Activation)    (None, 21)                0         \n",
      "_________________________________________________________________\n",
      "dropout_9 (Dropout)          (None, 21)                0         \n",
      "_________________________________________________________________\n",
      "dense_10 (Dense)             (None, 2)                 44        \n",
      "_________________________________________________________________\n",
      "batch_normalization_10 (Batc (None, 2)                 8         \n",
      "_________________________________________________________________\n",
      "activation_10 (Activation)   (None, 2)                 0         \n",
      "=================================================================\n",
      "Total params: 4,966\n",
      "Trainable params: 4,584\n",
      "Non-trainable params: 382\n",
      "_________________________________________________________________\n"
     ]
    }
   ],
   "source": [
    "model = Sequential()\n",
    "\n",
    "# NOTE: \"glorot-normal\" is the same thing as \"Xavier\" initialization\n",
    "model.add(Dense(NODES_PER_LAYER[1], \n",
    "                input_dim=NODES_PER_LAYER[0], \n",
    "                kernel_initializer='glorot_normal'))\n",
    "model.add(BatchNormalization())\n",
    "model.add(Activation('relu'))\n",
    "model.add(Dropout(DROPOUT))\n",
    "\n",
    "# additional hidden layers here\n",
    "for i in range(2, len(NODES_PER_LAYER) - 1):\n",
    "    model.add(Dense(NODES_PER_LAYER[i], \n",
    "                    kernel_initializer='glorot_normal'))\n",
    "    model.add(BatchNormalization())\n",
    "    model.add(Activation('relu'))\n",
    "    model.add(Dropout(DROPOUT))\n",
    "\n",
    "model.add(Dense(NODES_PER_LAYER[-1], kernel_initializer='glorot_normal'))\n",
    "model.add(BatchNormalization())\n",
    "model.add(Activation('softmax'))\n",
    "\n",
    "model.summary()"
   ]
  },
  {
   "cell_type": "code",
   "execution_count": 22,
   "metadata": {
    "collapsed": true
   },
   "outputs": [],
   "source": [
    "adam = Adam(\n",
    "    lr=ETA, beta_1=BETA_1, beta_2=BETA_2, epsilon=EPSILON, decay=DECAY)\n",
    "model.compile(\n",
    "    loss='binary_crossentropy', optimizer=adam, metrics=['accuracy'])"
   ]
  },
  {
   "cell_type": "code",
   "execution_count": 23,
   "metadata": {
    "collapsed": false
   },
   "outputs": [
    {
     "name": "stdout",
     "output_type": "stream",
     "text": [
      "Train on 614939 samples, validate on 131753 samples\n",
      "Epoch 1/50\n",
      "614400/614939 [============================>.] - ETA: 0s - loss: 0.2209 - acc: 0.8994Epoch 00001: val_loss improved from inf to 0.21193, saving model to ../../../data/cluster/random/weights.bestNN.hdf5\n",
      "614939/614939 [==============================] - 23s 38us/step - loss: 0.2209 - acc: 0.8994 - val_loss: 0.2119 - val_acc: 0.9024\n",
      "Epoch 2/50\n",
      "613376/614939 [============================>.] - ETA: 0s - loss: 0.1971 - acc: 0.9115Epoch 00002: val_loss improved from 0.21193 to 0.19628, saving model to ../../../data/cluster/random/weights.bestNN.hdf5\n",
      "614939/614939 [==============================] - 19s 31us/step - loss: 0.1971 - acc: 0.9116 - val_loss: 0.1963 - val_acc: 0.9136\n",
      "Epoch 3/50\n",
      "613376/614939 [============================>.] - ETA: 0s - loss: 0.1914 - acc: 0.9147Epoch 00003: val_loss improved from 0.19628 to 0.19176, saving model to ../../../data/cluster/random/weights.bestNN.hdf5\n",
      "614939/614939 [==============================] - 19s 31us/step - loss: 0.1914 - acc: 0.9147 - val_loss: 0.1918 - val_acc: 0.9152\n",
      "Epoch 4/50\n",
      "613376/614939 [============================>.] - ETA: 0s - loss: 0.1884 - acc: 0.9162Epoch 00004: val_loss improved from 0.19176 to 0.18748, saving model to ../../../data/cluster/random/weights.bestNN.hdf5\n",
      "614939/614939 [==============================] - 19s 31us/step - loss: 0.1884 - acc: 0.9162 - val_loss: 0.1875 - val_acc: 0.9172\n",
      "Epoch 5/50\n",
      "613376/614939 [============================>.] - ETA: 0s - loss: 0.1863 - acc: 0.9174Epoch 00005: val_loss improved from 0.18748 to 0.18545, saving model to ../../../data/cluster/random/weights.bestNN.hdf5\n",
      "614939/614939 [==============================] - 20s 32us/step - loss: 0.1862 - acc: 0.9174 - val_loss: 0.1854 - val_acc: 0.9177\n",
      "Epoch 6/50\n",
      "614400/614939 [============================>.] - ETA: 0s - loss: 0.1844 - acc: 0.9184Epoch 00006: val_loss improved from 0.18545 to 0.18413, saving model to ../../../data/cluster/random/weights.bestNN.hdf5\n",
      "614939/614939 [==============================] - 22s 36us/step - loss: 0.1844 - acc: 0.9184 - val_loss: 0.1841 - val_acc: 0.9183\n",
      "Epoch 7/50\n",
      "613376/614939 [============================>.] - ETA: 0s - loss: 0.1828 - acc: 0.9193Epoch 00007: val_loss improved from 0.18413 to 0.18205, saving model to ../../../data/cluster/random/weights.bestNN.hdf5\n",
      "614939/614939 [==============================] - 21s 34us/step - loss: 0.1829 - acc: 0.9193 - val_loss: 0.1821 - val_acc: 0.9196\n",
      "Epoch 8/50\n",
      "613376/614939 [============================>.] - ETA: 0s - loss: 0.1817 - acc: 0.9198Epoch 00008: val_loss improved from 0.18205 to 0.18038, saving model to ../../../data/cluster/random/weights.bestNN.hdf5\n",
      "614939/614939 [==============================] - 21s 34us/step - loss: 0.1817 - acc: 0.9197 - val_loss: 0.1804 - val_acc: 0.9206\n",
      "Epoch 9/50\n",
      "614400/614939 [============================>.] - ETA: 0s - loss: 0.1807 - acc: 0.9204Epoch 00009: val_loss improved from 0.18038 to 0.17974, saving model to ../../../data/cluster/random/weights.bestNN.hdf5\n",
      "614939/614939 [==============================] - 20s 33us/step - loss: 0.1807 - acc: 0.9204 - val_loss: 0.1797 - val_acc: 0.9207\n",
      "Epoch 10/50\n",
      "613376/614939 [============================>.] - ETA: 0s - loss: 0.1800 - acc: 0.9207Epoch 00010: val_loss did not improve\n",
      "614939/614939 [==============================] - 20s 32us/step - loss: 0.1800 - acc: 0.9207 - val_loss: 0.1816 - val_acc: 0.9201\n",
      "Epoch 11/50\n",
      "613376/614939 [============================>.] - ETA: 0s - loss: 0.1796 - acc: 0.9211Epoch 00011: val_loss improved from 0.17974 to 0.17806, saving model to ../../../data/cluster/random/weights.bestNN.hdf5\n",
      "614939/614939 [==============================] - 20s 32us/step - loss: 0.1796 - acc: 0.9211 - val_loss: 0.1781 - val_acc: 0.9214\n",
      "Epoch 12/50\n",
      "613376/614939 [============================>.] - ETA: 0s - loss: 0.1786 - acc: 0.9213Epoch 00012: val_loss improved from 0.17806 to 0.17737, saving model to ../../../data/cluster/random/weights.bestNN.hdf5\n",
      "614939/614939 [==============================] - 20s 33us/step - loss: 0.1786 - acc: 0.9213 - val_loss: 0.1774 - val_acc: 0.9218\n",
      "Epoch 13/50\n",
      "613376/614939 [============================>.] - ETA: 0s - loss: 0.1783 - acc: 0.9213Epoch 00013: val_loss did not improve\n",
      "614939/614939 [==============================] - 19s 31us/step - loss: 0.1783 - acc: 0.9213 - val_loss: 0.1778 - val_acc: 0.9216\n",
      "Epoch 14/50\n",
      "613376/614939 [============================>.] - ETA: 0s - loss: 0.1778 - acc: 0.9217Epoch 00014: val_loss improved from 0.17737 to 0.17658, saving model to ../../../data/cluster/random/weights.bestNN.hdf5\n",
      "614939/614939 [==============================] - 19s 31us/step - loss: 0.1778 - acc: 0.9217 - val_loss: 0.1766 - val_acc: 0.9226\n",
      "Epoch 15/50\n",
      "613376/614939 [============================>.] - ETA: 0s - loss: 0.1775 - acc: 0.9218Epoch 00015: val_loss improved from 0.17658 to 0.17604, saving model to ../../../data/cluster/random/weights.bestNN.hdf5\n",
      "614939/614939 [==============================] - 20s 32us/step - loss: 0.1775 - acc: 0.9218 - val_loss: 0.1760 - val_acc: 0.9227\n",
      "Epoch 16/50\n",
      "613376/614939 [============================>.] - ETA: 0s - loss: 0.1772 - acc: 0.9220Epoch 00016: val_loss improved from 0.17604 to 0.17558, saving model to ../../../data/cluster/random/weights.bestNN.hdf5\n",
      "614939/614939 [==============================] - 19s 31us/step - loss: 0.1772 - acc: 0.9220 - val_loss: 0.1756 - val_acc: 0.9223\n",
      "Epoch 17/50\n",
      "613376/614939 [============================>.] - ETA: 0s - loss: 0.1769 - acc: 0.9222Epoch 00017: val_loss improved from 0.17558 to 0.17551, saving model to ../../../data/cluster/random/weights.bestNN.hdf5\n",
      "614939/614939 [==============================] - 19s 31us/step - loss: 0.1768 - acc: 0.9222 - val_loss: 0.1755 - val_acc: 0.9230\n",
      "Epoch 18/50\n",
      "613376/614939 [============================>.] - ETA: 0s - loss: 0.1762 - acc: 0.9224Epoch 00018: val_loss did not improve\n",
      "614939/614939 [==============================] - 20s 33us/step - loss: 0.1761 - acc: 0.9224 - val_loss: 0.1756 - val_acc: 0.9230\n",
      "Epoch 19/50\n",
      "614400/614939 [============================>.] - ETA: 0s - loss: 0.1761 - acc: 0.9226Epoch 00019: val_loss improved from 0.17551 to 0.17514, saving model to ../../../data/cluster/random/weights.bestNN.hdf5\n",
      "614939/614939 [==============================] - 20s 32us/step - loss: 0.1761 - acc: 0.9227 - val_loss: 0.1751 - val_acc: 0.9234\n",
      "Epoch 20/50\n",
      "614400/614939 [============================>.] - ETA: 0s - loss: 0.1757 - acc: 0.9228Epoch 00020: val_loss improved from 0.17514 to 0.17494, saving model to ../../../data/cluster/random/weights.bestNN.hdf5\n",
      "614939/614939 [==============================] - 20s 33us/step - loss: 0.1757 - acc: 0.9228 - val_loss: 0.1749 - val_acc: 0.9232\n",
      "Epoch 21/50\n",
      "613376/614939 [============================>.] - ETA: 0s - loss: 0.1756 - acc: 0.9227Epoch 00021: val_loss improved from 0.17494 to 0.17489, saving model to ../../../data/cluster/random/weights.bestNN.hdf5\n",
      "614939/614939 [==============================] - 20s 33us/step - loss: 0.1756 - acc: 0.9227 - val_loss: 0.1749 - val_acc: 0.9233\n",
      "Epoch 22/50\n",
      "613376/614939 [============================>.] - ETA: 0s - loss: 0.1754 - acc: 0.9224Epoch 00022: val_loss improved from 0.17489 to 0.17474, saving model to ../../../data/cluster/random/weights.bestNN.hdf5\n",
      "614939/614939 [==============================] - 20s 32us/step - loss: 0.1754 - acc: 0.9224 - val_loss: 0.1747 - val_acc: 0.9227\n",
      "Epoch 23/50\n",
      "613376/614939 [============================>.] - ETA: 0s - loss: 0.1752 - acc: 0.9232Epoch 00023: val_loss improved from 0.17474 to 0.17393, saving model to ../../../data/cluster/random/weights.bestNN.hdf5\n",
      "614939/614939 [==============================] - 19s 31us/step - loss: 0.1752 - acc: 0.9232 - val_loss: 0.1739 - val_acc: 0.9238\n",
      "Epoch 24/50\n",
      "613376/614939 [============================>.] - ETA: 0s - loss: 0.1751 - acc: 0.9228Epoch 00024: val_loss did not improve\n",
      "614939/614939 [==============================] - 19s 31us/step - loss: 0.1751 - acc: 0.9229 - val_loss: 0.1750 - val_acc: 0.9229\n",
      "Epoch 25/50\n",
      "614400/614939 [============================>.] - ETA: 0s - loss: 0.1748 - acc: 0.9231Epoch 00025: val_loss did not improve\n",
      "614939/614939 [==============================] - 20s 32us/step - loss: 0.1749 - acc: 0.9231 - val_loss: 0.1741 - val_acc: 0.9240\n",
      "Epoch 26/50\n",
      "614400/614939 [============================>.] - ETA: 0s - loss: 0.1750 - acc: 0.9230Epoch 00026: val_loss improved from 0.17393 to 0.17361, saving model to ../../../data/cluster/random/weights.bestNN.hdf5\n",
      "614939/614939 [==============================] - 19s 31us/step - loss: 0.1750 - acc: 0.9230 - val_loss: 0.1736 - val_acc: 0.9235\n",
      "Epoch 27/50\n",
      "613376/614939 [============================>.] - ETA: 0s - loss: 0.1747 - acc: 0.9234Epoch 00027: val_loss did not improve\n",
      "614939/614939 [==============================] - 19s 31us/step - loss: 0.1747 - acc: 0.9234 - val_loss: 0.1740 - val_acc: 0.9237\n",
      "Epoch 28/50\n",
      "614400/614939 [============================>.] - ETA: 0s - loss: 0.1745 - acc: 0.9232Epoch 00028: val_loss improved from 0.17361 to 0.17322, saving model to ../../../data/cluster/random/weights.bestNN.hdf5\n",
      "614939/614939 [==============================] - 20s 33us/step - loss: 0.1745 - acc: 0.9232 - val_loss: 0.1732 - val_acc: 0.9242\n",
      "Epoch 29/50\n",
      "613376/614939 [============================>.] - ETA: 0s - loss: 0.1744 - acc: 0.9233Epoch 00029: val_loss did not improve\n",
      "614939/614939 [==============================] - 19s 31us/step - loss: 0.1744 - acc: 0.9233 - val_loss: 0.1736 - val_acc: 0.9234\n",
      "Epoch 30/50\n",
      "613376/614939 [============================>.] - ETA: 0s - loss: 0.1742 - acc: 0.9232Epoch 00030: val_loss improved from 0.17322 to 0.17301, saving model to ../../../data/cluster/random/weights.bestNN.hdf5\n",
      "614939/614939 [==============================] - 19s 31us/step - loss: 0.1742 - acc: 0.9232 - val_loss: 0.1730 - val_acc: 0.9243\n",
      "Epoch 31/50\n",
      "613376/614939 [============================>.] - ETA: 0s - loss: 0.1740 - acc: 0.9233Epoch 00031: val_loss improved from 0.17301 to 0.17269, saving model to ../../../data/cluster/random/weights.bestNN.hdf5\n",
      "614939/614939 [==============================] - 20s 33us/step - loss: 0.1740 - acc: 0.9233 - val_loss: 0.1727 - val_acc: 0.9243\n",
      "Epoch 32/50\n",
      "614400/614939 [============================>.] - ETA: 0s - loss: 0.1742 - acc: 0.9232Epoch 00032: val_loss improved from 0.17269 to 0.17240, saving model to ../../../data/cluster/random/weights.bestNN.hdf5\n",
      "614939/614939 [==============================] - 20s 33us/step - loss: 0.1742 - acc: 0.9232 - val_loss: 0.1724 - val_acc: 0.9245\n",
      "Epoch 33/50\n",
      "613376/614939 [============================>.] - ETA: 0s - loss: 0.1738 - acc: 0.9234Epoch 00033: val_loss did not improve\n",
      "614939/614939 [==============================] - 20s 32us/step - loss: 0.1737 - acc: 0.9234 - val_loss: 0.1727 - val_acc: 0.9240\n",
      "Epoch 34/50\n",
      "613376/614939 [============================>.] - ETA: 0s - loss: 0.1740 - acc: 0.9234Epoch 00034: val_loss improved from 0.17240 to 0.17237, saving model to ../../../data/cluster/random/weights.bestNN.hdf5\n",
      "614939/614939 [==============================] - 19s 32us/step - loss: 0.1740 - acc: 0.9234 - val_loss: 0.1724 - val_acc: 0.9243\n",
      "Epoch 35/50\n",
      "613376/614939 [============================>.] - ETA: 0s - loss: 0.1737 - acc: 0.9237Epoch 00035: val_loss did not improve\n",
      "614939/614939 [==============================] - 19s 31us/step - loss: 0.1738 - acc: 0.9237 - val_loss: 0.1724 - val_acc: 0.9242\n",
      "Epoch 36/50\n",
      "613376/614939 [============================>.] - ETA: 0s - loss: 0.1735 - acc: 0.9235Epoch 00036: val_loss improved from 0.17237 to 0.17192, saving model to ../../../data/cluster/random/weights.bestNN.hdf5\n",
      "614939/614939 [==============================] - 20s 32us/step - loss: 0.1736 - acc: 0.9234 - val_loss: 0.1719 - val_acc: 0.9247\n",
      "Epoch 37/50\n",
      "613376/614939 [============================>.] - ETA: 0s - loss: 0.1736 - acc: 0.9234Epoch 00037: val_loss did not improve\n",
      "614939/614939 [==============================] - 20s 32us/step - loss: 0.1735 - acc: 0.9234 - val_loss: 0.1720 - val_acc: 0.9250\n",
      "Epoch 38/50\n",
      "614400/614939 [============================>.] - ETA: 0s - loss: 0.1731 - acc: 0.9237Epoch 00038: val_loss improved from 0.17192 to 0.17188, saving model to ../../../data/cluster/random/weights.bestNN.hdf5\n",
      "614939/614939 [==============================] - 19s 32us/step - loss: 0.1731 - acc: 0.9237 - val_loss: 0.1719 - val_acc: 0.9249\n",
      "Epoch 39/50\n",
      "613376/614939 [============================>.] - ETA: 0s - loss: 0.1738 - acc: 0.9235Epoch 00039: val_loss did not improve\n",
      "614939/614939 [==============================] - 20s 33us/step - loss: 0.1737 - acc: 0.9235 - val_loss: 0.1721 - val_acc: 0.9245\n",
      "Epoch 40/50\n",
      "613376/614939 [============================>.] - ETA: 0s - loss: 0.1734 - acc: 0.9237Epoch 00040: val_loss improved from 0.17188 to 0.17163, saving model to ../../../data/cluster/random/weights.bestNN.hdf5\n",
      "614939/614939 [==============================] - 19s 31us/step - loss: 0.1734 - acc: 0.9237 - val_loss: 0.1716 - val_acc: 0.9247\n",
      "Epoch 41/50\n",
      "614400/614939 [============================>.] - ETA: 0s - loss: 0.1731 - acc: 0.9242Epoch 00041: val_loss improved from 0.17163 to 0.17150, saving model to ../../../data/cluster/random/weights.bestNN.hdf5\n",
      "614939/614939 [==============================] - 20s 33us/step - loss: 0.1731 - acc: 0.9242 - val_loss: 0.1715 - val_acc: 0.9247\n",
      "Epoch 42/50\n",
      "613376/614939 [============================>.] - ETA: 0s - loss: 0.1733 - acc: 0.9235Epoch 00042: val_loss improved from 0.17150 to 0.17142, saving model to ../../../data/cluster/random/weights.bestNN.hdf5\n",
      "614939/614939 [==============================] - 19s 31us/step - loss: 0.1733 - acc: 0.9235 - val_loss: 0.1714 - val_acc: 0.9249\n",
      "Epoch 43/50\n",
      "613376/614939 [============================>.] - ETA: 0s - loss: 0.1730 - acc: 0.9239Epoch 00043: val_loss did not improve\n",
      "614939/614939 [==============================] - 19s 31us/step - loss: 0.1730 - acc: 0.9239 - val_loss: 0.1714 - val_acc: 0.9249\n",
      "Epoch 44/50\n",
      "614400/614939 [============================>.] - ETA: 0s - loss: 0.1731 - acc: 0.9239Epoch 00044: val_loss did not improve\n",
      "614939/614939 [==============================] - 21s 34us/step - loss: 0.1731 - acc: 0.9239 - val_loss: 0.1715 - val_acc: 0.9249\n",
      "Epoch 45/50\n",
      "613376/614939 [============================>.] - ETA: 0s - loss: 0.1728 - acc: 0.9238Epoch 00045: val_loss did not improve\n",
      "614939/614939 [==============================] - 20s 33us/step - loss: 0.1728 - acc: 0.9238 - val_loss: 0.1715 - val_acc: 0.9247\n",
      "Epoch 46/50\n",
      "613376/614939 [============================>.] - ETA: 0s - loss: 0.1729 - acc: 0.9240Epoch 00046: val_loss did not improve\n",
      "614939/614939 [==============================] - 20s 32us/step - loss: 0.1728 - acc: 0.9240 - val_loss: 0.1715 - val_acc: 0.9249\n",
      "Epoch 47/50\n",
      "614400/614939 [============================>.] - ETA: 0s - loss: 0.1726 - acc: 0.9240Epoch 00047: val_loss improved from 0.17142 to 0.17137, saving model to ../../../data/cluster/random/weights.bestNN.hdf5\n",
      "614939/614939 [==============================] - 19s 31us/step - loss: 0.1726 - acc: 0.9240 - val_loss: 0.1714 - val_acc: 0.9247\n",
      "Epoch 48/50\n",
      "614400/614939 [============================>.] - ETA: 0s - loss: 0.1727 - acc: 0.9239Epoch 00048: val_loss improved from 0.17137 to 0.17135, saving model to ../../../data/cluster/random/weights.bestNN.hdf5\n",
      "614939/614939 [==============================] - 20s 33us/step - loss: 0.1727 - acc: 0.9239 - val_loss: 0.1713 - val_acc: 0.9248\n",
      "Epoch 49/50\n",
      "614400/614939 [============================>.] - ETA: 0s - loss: 0.1727 - acc: 0.9239Epoch 00049: val_loss improved from 0.17135 to 0.17112, saving model to ../../../data/cluster/random/weights.bestNN.hdf5\n",
      "614939/614939 [==============================] - 20s 33us/step - loss: 0.1727 - acc: 0.9239 - val_loss: 0.1711 - val_acc: 0.9250\n",
      "Epoch 50/50\n",
      "614400/614939 [============================>.] - ETA: 0s - loss: 0.1726 - acc: 0.9240Epoch 00050: val_loss improved from 0.17112 to 0.17098, saving model to ../../../data/cluster/random/weights.bestNN.hdf5\n",
      "614939/614939 [==============================] - 20s 32us/step - loss: 0.1726 - acc: 0.9240 - val_loss: 0.1710 - val_acc: 0.9253\n"
     ]
    }
   ],
   "source": [
    "VERBOSE = 1\n",
    "checkpointer = ModelCheckpoint(filepath=DATA_PATH + 'weights.bestNN.hdf5',\n",
    "                               verbose=VERBOSE,\n",
    "                               save_best_only=True)\n",
    "earlyStop = EarlyStopping(monitor='val_loss', patience=20)\n",
    "start = time.time()\n",
    "history = model.fit(X_train,\n",
    "                    y_train,\n",
    "                    validation_data=(X_valid, y_valid),\n",
    "                    epochs=EPOCHS,\n",
    "                    batch_size=BATCH_SIZE,\n",
    "                    callbacks=[checkpointer, earlyStop],\n",
    "                    verbose=VERBOSE)\n",
    "elapsed = time.time() - start"
   ]
  },
  {
   "cell_type": "code",
   "execution_count": 24,
   "metadata": {
    "collapsed": false
   },
   "outputs": [
    {
     "name": "stdout",
     "output_type": "stream",
     "text": [
      "Time: 16.66 minutes\n"
     ]
    }
   ],
   "source": [
    "print('Time: %.2f minutes' % (elapsed / 60))"
   ]
  },
  {
   "cell_type": "code",
   "execution_count": 25,
   "metadata": {
    "collapsed": false
   },
   "outputs": [
    {
     "data": {
      "image/png": "[encoded data removed]",
      "text/plain": [
       "<matplotlib.figure.Figure at 0x116534978>"
      ]
     },
     "metadata": {},
     "output_type": "display_data"
    }
   ],
   "source": [
    "plt.plot(history.history['loss'], 'k-', label='train');\n",
    "plt.plot(history.history['val_loss'], 'r-', label='valid');\n",
    "plt.xlabel('epochs');\n",
    "plt.ylabel('Loss (binary cross-entropy)')\n",
    "#plt.yscale('log');\n",
    "plt.legend(loc='best');"
   ]
  },
  {
   "cell_type": "code",
   "execution_count": 26,
   "metadata": {
    "collapsed": false
   },
   "outputs": [
    {
     "data": {
      "image/png": "[encoded data removed]",
      "text/plain": [
       "<matplotlib.figure.Figure at 0x116534550>"
      ]
     },
     "metadata": {},
     "output_type": "display_data"
    }
   ],
   "source": [
    "plt.plot(history.history['acc'], 'k-', label='train');\n",
    "plt.plot(history.history['val_acc'], 'r-', label='valid');\n",
    "plt.xlabel('epochs');\n",
    "plt.ylabel('Accuracy')\n",
    "#plt.yscale('log');\n",
    "plt.legend(loc='best');"
   ]
  },
  {
   "cell_type": "code",
   "execution_count": 27,
   "metadata": {
    "collapsed": false
   },
   "outputs": [
    {
     "name": "stdout",
     "output_type": "stream",
     "text": [
      "This run: 0.17639\n"
     ]
    }
   ],
   "source": [
    "this_run = np.mean(history.history['val_loss'][-50:])\n",
    "print('This run: %.5f' % this_run)"
   ]
  },
  {
   "cell_type": "code",
   "execution_count": 32,
   "metadata": {
    "collapsed": false
   },
   "outputs": [
    {
     "name": "stdout",
     "output_type": "stream",
     "text": [
      "New Best Model Found!\n",
      "\n",
      "Best validation loss so far: 0.17639\n",
      "Training loss of same model: 0.17765\n",
      "Best hyperparameters found so far:\n"
     ]
    }
   ],
   "source": [
    "if this_run < best_val_loss:\n",
    "    print('New Best Model Found!\\n')\n",
    "    best_val_loss = this_run\n",
    "    train_loss_of_best = np.mean(history.history['loss'][-50:])\n",
    "    best_params = get_params()\n",
    "print('Best validation loss so far: %.5f' % best_val_loss)\n",
    "print('Training loss of same model: %.5f' % train_loss_of_best)\n",
    "print('Best hyperparameters found so far:')"
   ]
  },
  {
   "cell_type": "code",
   "execution_count": 30,
   "metadata": {
    "collapsed": false
   },
   "outputs": [
    {
     "name": "stdout",
     "output_type": "stream",
     "text": [
      "{'BATCH_SIZE': 1024,\n",
      " 'BETA_1': 0.9,\n",
      " 'BETA_2': 0.999,\n",
      " 'DECAY': 0.01,\n",
      " 'DROPOUT': 0,\n",
      " 'EPOCHS': 50,\n",
      " 'EPSILON': 1e-08,\n",
      " 'ETA': 0.1,\n",
      " 'NODES_PER_LAYER': [21, 21, 21, 21, 21, 21, 21, 21, 21, 21, 2]}\n"
     ]
    }
   ],
   "source": [
    "pprint(best_params)"
   ]
  },
  {
   "cell_type": "code",
   "execution_count": null,
   "metadata": {
    "collapsed": true
   },
   "outputs": [],
   "source": []
  }
 ],
 "metadata": {
  "kernelspec": {
   "display_name": "Python 3",
   "language": "python",
   "name": "python3"
  },
  "language_info": {
   "codemirror_mode": {
    "name": "ipython",
    "version": 3
   },
   "file_extension": ".py",
   "mimetype": "text/x-python",
   "name": "python",
   "nbconvert_exporter": "python",
   "pygments_lexer": "ipython3",
   "version": "3.6.1"
  }
 },
 "nbformat": 4,
 "nbformat_minor": 0
}
