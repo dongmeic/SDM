{
 "cells": [
  {
   "cell_type": "code",
   "execution_count": 1,
   "metadata": {
    "collapsed": false
   },
   "outputs": [],
   "source": [
    "import os\n",
    "import sys\n",
    "import time\n",
    "\n",
    "import matplotlib.pyplot as plt\n",
    "import numpy as np\n",
    "import pandas as pd\n",
    "from pylab import *\n",
    "from sklearn.linear_model import LogisticRegression, Ridge\n",
    "from sklearn.pipeline import Pipeline\n",
    "from sklearn.model_selection import GridSearchCV\n",
    "from sklearn.preprocessing import StandardScaler\n",
    "\n",
    "sys.path.append('..')\n",
    "import model_utils as util\n",
    "\n",
    "%matplotlib inline\n",
    "plt.rcParams['figure.figsize'] = 10, 8"
   ]
  },
  {
   "cell_type": "code",
   "execution_count": 2,
   "metadata": {
    "collapsed": false
   },
   "outputs": [],
   "source": [
    "DATA_PATH =  '../../../data/cluster/year/'\n",
    "#os.listdir(DATA_PATH)"
   ]
  },
  {
   "cell_type": "code",
   "execution_count": 3,
   "metadata": {
    "collapsed": false
   },
   "outputs": [
    {
     "name": "stdout",
     "output_type": "stream",
     "text": [
      "X_train: (529623, 24)\n",
      "X_valid: (176541, 24)\n",
      "X_test: (176541, 24)\n",
      "y_train: (529623, 1)\n",
      "y_valid: (176541, 1)\n",
      "y_test: (176541, 1)\n"
     ]
    }
   ],
   "source": [
    "[[X_train, y_train], \n",
    " [X_valid, y_valid], \n",
    " [X_test, y_test]] = util.load_data(DATA_PATH)"
   ]
  },
  {
   "cell_type": "code",
   "execution_count": 4,
   "metadata": {
    "collapsed": false
   },
   "outputs": [],
   "source": [
    "# See sdm/R/models/logisticModEDA.R.ipynb for details\n",
    "#def transform(field, field_name, transform_map):\n",
    "#    field_min = field.min()\n",
    "#    field = (field + np.abs(field_min) + 1) ** transform_map[field_name]\n",
    "#    return field"
   ]
  },
  {
   "cell_type": "code",
   "execution_count": 5,
   "metadata": {
    "collapsed": false
   },
   "outputs": [
    {
     "data": {
      "text/plain": [
       "\"\\ndef transform_data_set(dataframe):\\n    data = dataframe.copy()\\n    transform_map = {\\n        'meanTemp_Annual': 0.4897778,\\n        'meanTemp_AprAug': 0.3060202,\\n        'meanTemp_Aug': 0.137697,\\n        'meanMinTemp_DecFeb': 0.9713939,\\n        'meanMinTemp_Oct': -0.1194343,\\n        'meanMinTemp_Jan': 1.064485,\\n        'meanMinTemp_Mar': 1.355394,\\n        'meanMaxTemp_Aug': 0.5649293,\\n        'precip_meanAnnual': 0.05793939,\\n        'precip_JunAug': 0.6671515,\\n        'precipPrevious_JunAug': 0.6300606,\\n        'precip_OctSep': 0.004686869,\\n        'precipPrevious_OctSep': 0.06690909,\\n        'precip_growingSeason': 0.4829899,\\n        'varPrecip_growingSeason': 0.349899,\\n        'elev_etopo1': 0.4753939}\\n    for field in transform_map:\\n        data[field] = transform(data[field], field, transform_map)\\n    return data\\n\""
      ]
     },
     "execution_count": 5,
     "metadata": {},
     "output_type": "execute_result"
    }
   ],
   "source": [
    "'''\n",
    "def transform_data_set(dataframe):\n",
    "    data = dataframe.copy()\n",
    "    transform_map = {\n",
    "        'meanTemp_Annual': 0.4897778,\n",
    "        'meanTemp_AprAug': 0.3060202,\n",
    "        'meanTemp_Aug': 0.137697,\n",
    "        'meanMinTemp_DecFeb': 0.9713939,\n",
    "        'meanMinTemp_Oct': -0.1194343,\n",
    "        'meanMinTemp_Jan': 1.064485,\n",
    "        'meanMinTemp_Mar': 1.355394,\n",
    "        'meanMaxTemp_Aug': 0.5649293,\n",
    "        'precip_meanAnnual': 0.05793939,\n",
    "        'precip_JunAug': 0.6671515,\n",
    "        'precipPrevious_JunAug': 0.6300606,\n",
    "        'precip_OctSep': 0.004686869,\n",
    "        'precipPrevious_OctSep': 0.06690909,\n",
    "        'precip_growingSeason': 0.4829899,\n",
    "        'varPrecip_growingSeason': 0.349899,\n",
    "        'elev_etopo1': 0.4753939}\n",
    "    for field in transform_map:\n",
    "        data[field] = transform(data[field], field, transform_map)\n",
    "    return data\n",
    "'''"
   ]
  },
  {
   "cell_type": "code",
   "execution_count": 4,
   "metadata": {
    "collapsed": false
   },
   "outputs": [],
   "source": [
    "def make_squared(dataframe, fields):\n",
    "    df = dataframe.copy()\n",
    "    for field in fields:\n",
    "        df['%s_sq' % field] = df[field] ** 2\n",
    "    return df"
   ]
  },
  {
   "cell_type": "code",
   "execution_count": 5,
   "metadata": {
    "collapsed": true
   },
   "outputs": [],
   "source": [
    "def make_interactions(dataframe, interactions):\n",
    "    df = dataframe.copy()\n",
    "    for interaction in interactions:\n",
    "        main_effects = interaction.split(':')\n",
    "        df[interaction] = df[main_effects[0]] * df[main_effects[1]]\n",
    "    return df"
   ]
  },
  {
   "cell_type": "code",
   "execution_count": 6,
   "metadata": {
    "collapsed": false
   },
   "outputs": [],
   "source": [
    "sq_fields = [\n",
    "    'meanTemp_Annual', 'meanTemp_AprAug', 'meanTemp_Aug',\n",
    "    'meanMinTemp_DecFeb', 'meanMinTemp_Oct', 'meanMinTemp_Jan',\n",
    "    'meanMinTemp_Mar', 'meanMaxTemp_Aug', 'precip_meanAnnual',\n",
    "    'precip_JunAug', 'precipPrevious_JunAug', 'precip_OctSep',\n",
    "    'precipPrevious_OctSep', 'precip_growingSeason',\n",
    "    'elev_etopo1', 'lat', 'lon']\n",
    "interactions = [\n",
    "    'meanMinTemp_Oct:precip_OctSep', 'precip_meanAnnual:precip_OctSep',\n",
    "    'precip_OctSep:precipPrevious_OctSep', 'meanTemp_Aug:meanMinTemp_Oct',\n",
    "    'precip_OctSep:lon', 'precip_OctSep:precip_growingSeason',\n",
    "    'precip_OctSep:meanMaxTemp_Aug', 'meanMinTemp_Oct:precip_meanAnnual',\n",
    "    'precip_OctSep:meanTemp_Aug', 'precip_OctSep:meanMinTemp_Oct',\n",
    "    'precip_OctSep:elev_etopo1', 'precip_OctSep:elev_etopo1',\n",
    "    'precip_OctSep:lat', 'precip_OctSep:precip_growingSeason',\n",
    "    'precip_OctSep:precipPrevious_OctSep',\n",
    "    'precip_OctSep:precip_meanAnnual', 'precip_OctSep:precip_OctSep',\n",
    "    'meanMaxTemp_Aug:precip_OctSep', 'meanTemp_AprAug:precip_OctSep',\n",
    "    'precip_OctSep:varPrecip_growingSeason', 'meanTemp_Aug:precip_OctSep']"
   ]
  },
  {
   "cell_type": "code",
   "execution_count": 7,
   "metadata": {
    "collapsed": false
   },
   "outputs": [],
   "source": [
    "X_train = make_squared(X_train, sq_fields)\n",
    "X_valid = make_squared(X_valid, sq_fields)\n",
    "X_test  = make_squared(X_test, sq_fields)"
   ]
  },
  {
   "cell_type": "code",
   "execution_count": 8,
   "metadata": {
    "collapsed": true
   },
   "outputs": [],
   "source": [
    "X_train = make_interactions(X_train, interactions)\n",
    "X_valid = make_interactions(X_valid, interactions)\n",
    "X_test  = make_interactions(X_test, interactions)"
   ]
  },
  {
   "cell_type": "code",
   "execution_count": 9,
   "metadata": {
    "collapsed": false
   },
   "outputs": [],
   "source": [
    "#list(X_train)"
   ]
  },
  {
   "cell_type": "code",
   "execution_count": 10,
   "metadata": {
    "collapsed": false
   },
   "outputs": [
    {
     "name": "stdout",
     "output_type": "stream",
     "text": [
      "Percent presence in y_train: 17.26%\n",
      "Percent presence in y_valid: 13.92%\n",
      "Percent presence in y_test: 12.64%\n"
     ]
    }
   ],
   "source": [
    "util.print_percent_presence(y_train, 'y_train')\n",
    "util.print_percent_presence(y_valid, 'y_valid')\n",
    "util.print_percent_presence(y_test,  'y_test')"
   ]
  },
  {
   "cell_type": "code",
   "execution_count": 11,
   "metadata": {
    "collapsed": false
   },
   "outputs": [
    {
     "name": "stdout",
     "output_type": "stream",
     "text": [
      "Baseline accuracy if predicting \"absent\" for all cells:\n",
      "  train: 82.74\n",
      "  valid: 86.08\n",
      "  test:  87.36\n"
     ]
    }
   ],
   "source": [
    "print('Baseline accuracy if predicting \"absent\" for all cells:')\n",
    "print('  train:', 100 - 17.26)\n",
    "print('  valid:', 100 - 13.92)\n",
    "print('  test: ', 100 - 12.64)"
   ]
  },
  {
   "cell_type": "code",
   "execution_count": 12,
   "metadata": {
    "collapsed": false
   },
   "outputs": [
    {
     "data": {
      "text/plain": [
       "year                                      True\n",
       "meanTemp_Annual                           True\n",
       "meanTemp_AprAug                           True\n",
       "meanTemp_Aug                              True\n",
       "meanMinTemp_DecFeb                        True\n",
       "meanMinTemp_Oct                           True\n",
       "meanMinTemp_Jan                           True\n",
       "meanMinTemp_Mar                           True\n",
       "meanMaxTemp_Aug                           True\n",
       "precip_meanAnnual                         True\n",
       "precip_JunAug                             True\n",
       "vegetation                                True\n",
       "precipPrevious_JunAug                     True\n",
       "precip_OctSep                             True\n",
       "precipPrevious_OctSep                     True\n",
       "precip_growingSeason                      True\n",
       "varPrecip_growingSeason                  False\n",
       "elev_etopo1                               True\n",
       "lat                                       True\n",
       "lon                                       True\n",
       "studyArea                                 True\n",
       "elev_srtm30                               True\n",
       "x                                         True\n",
       "y                                         True\n",
       "meanTemp_Annual_sq                        True\n",
       "meanTemp_AprAug_sq                        True\n",
       "meanTemp_Aug_sq                           True\n",
       "meanMinTemp_DecFeb_sq                     True\n",
       "meanMinTemp_Oct_sq                        True\n",
       "meanMinTemp_Jan_sq                        True\n",
       "meanMinTemp_Mar_sq                        True\n",
       "meanMaxTemp_Aug_sq                        True\n",
       "precip_meanAnnual_sq                      True\n",
       "precip_JunAug_sq                          True\n",
       "precipPrevious_JunAug_sq                  True\n",
       "precip_OctSep_sq                          True\n",
       "precipPrevious_OctSep_sq                  True\n",
       "precip_growingSeason_sq                   True\n",
       "elev_etopo1_sq                            True\n",
       "lat_sq                                    True\n",
       "lon_sq                                    True\n",
       "meanMinTemp_Oct:precip_OctSep             True\n",
       "precip_meanAnnual:precip_OctSep           True\n",
       "precip_OctSep:precipPrevious_OctSep       True\n",
       "meanTemp_Aug:meanMinTemp_Oct              True\n",
       "precip_OctSep:lon                         True\n",
       "precip_OctSep:precip_growingSeason        True\n",
       "precip_OctSep:meanMaxTemp_Aug             True\n",
       "meanMinTemp_Oct:precip_meanAnnual         True\n",
       "precip_OctSep:meanTemp_Aug                True\n",
       "precip_OctSep:meanMinTemp_Oct             True\n",
       "precip_OctSep:elev_etopo1                 True\n",
       "precip_OctSep:lat                         True\n",
       "precip_OctSep:precip_meanAnnual           True\n",
       "precip_OctSep:precip_OctSep               True\n",
       "meanMaxTemp_Aug:precip_OctSep             True\n",
       "meanTemp_AprAug:precip_OctSep             True\n",
       "precip_OctSep:varPrecip_growingSeason    False\n",
       "meanTemp_Aug:precip_OctSep                True\n",
       "dtype: bool"
      ]
     },
     "execution_count": 12,
     "metadata": {},
     "output_type": "execute_result"
    }
   ],
   "source": [
    "np.isfinite(X_valid).all()"
   ]
  },
  {
   "cell_type": "code",
   "execution_count": 13,
   "metadata": {
    "collapsed": false
   },
   "outputs": [
    {
     "name": "stdout",
     "output_type": "stream",
     "text": [
      "(526849, 59) (526849, 1)\n",
      "(176146, 59) (176146, 1)\n",
      "(175416, 59) (175416, 1)\n",
      "(526849, 59) (526849, 1)\n",
      "(176146, 59) (176146, 1)\n",
      "(175416, 59) (175416, 1)\n"
     ]
    }
   ],
   "source": [
    "X_train, y_train = util.drop_nans(\n",
    "    X_train, y_train, 'varPrecip_growingSeason')\n",
    "X_valid, y_valid = util.drop_nans(\n",
    "    X_valid, y_valid, 'varPrecip_growingSeason')\n",
    "X_test,  y_test  = util.drop_nans(\n",
    "    X_test,  y_test,  'varPrecip_growingSeason')\n",
    "\n",
    "X_train, y_train = util.drop_nans(\n",
    "    X_train, y_train, 'precip_OctSep:varPrecip_growingSeason')\n",
    "X_valid, y_valid = util.drop_nans(\n",
    "    X_valid, y_valid, 'precip_OctSep:varPrecip_growingSeason')\n",
    "X_test,  y_test  = util.drop_nans(\n",
    "    X_test,  y_test,  'precip_OctSep:varPrecip_growingSeason')"
   ]
  },
  {
   "cell_type": "code",
   "execution_count": 14,
   "metadata": {
    "collapsed": true
   },
   "outputs": [],
   "source": [
    "full_test = X_test.copy()\n",
    "full_test['beetle'] = y_test['beetle']"
   ]
  },
  {
   "cell_type": "code",
   "execution_count": 15,
   "metadata": {
    "collapsed": false
   },
   "outputs": [],
   "source": [
    "# Drop 'studyArea' from predictors (all 1 in the reduced data) and 'x' and\n",
    "# 'y' (perfectly correlated with 'lon' and 'lat')\n",
    "X_train = X_train.drop(['studyArea', 'x', 'y', 'elev_srtm30', 'year'], \n",
    "                       axis=1)\n",
    "X_valid = X_valid.drop(['studyArea', 'x', 'y', 'elev_srtm30', 'year'], \n",
    "                       axis=1)\n",
    "X_test  = X_test.drop(['studyArea',  'x', 'y', 'elev_srtm30', 'year'],  \n",
    "                      axis=1)"
   ]
  },
  {
   "cell_type": "code",
   "execution_count": 16,
   "metadata": {
    "collapsed": false
   },
   "outputs": [
    {
     "name": "stdout",
     "output_type": "stream",
     "text": [
      "['meanTemp_Annual', 'meanTemp_AprAug', 'meanTemp_Aug', 'meanMinTemp_DecFeb', 'meanMinTemp_Oct', 'meanMinTemp_Jan', 'meanMinTemp_Mar', 'meanMaxTemp_Aug', 'precip_meanAnnual', 'precip_JunAug', 'vegetation', 'precipPrevious_JunAug', 'precip_OctSep', 'precipPrevious_OctSep', 'precip_growingSeason', 'varPrecip_growingSeason', 'elev_etopo1', 'lat', 'lon', 'meanTemp_Annual_sq', 'meanTemp_AprAug_sq', 'meanTemp_Aug_sq', 'meanMinTemp_DecFeb_sq', 'meanMinTemp_Oct_sq', 'meanMinTemp_Jan_sq', 'meanMinTemp_Mar_sq', 'meanMaxTemp_Aug_sq', 'precip_meanAnnual_sq', 'precip_JunAug_sq', 'precipPrevious_JunAug_sq', 'precip_OctSep_sq', 'precipPrevious_OctSep_sq', 'precip_growingSeason_sq', 'elev_etopo1_sq', 'lat_sq', 'lon_sq', 'meanMinTemp_Oct:precip_OctSep', 'precip_meanAnnual:precip_OctSep', 'precip_OctSep:precipPrevious_OctSep', 'meanTemp_Aug:meanMinTemp_Oct', 'precip_OctSep:lon', 'precip_OctSep:precip_growingSeason', 'precip_OctSep:meanMaxTemp_Aug', 'meanMinTemp_Oct:precip_meanAnnual', 'precip_OctSep:meanTemp_Aug', 'precip_OctSep:meanMinTemp_Oct', 'precip_OctSep:elev_etopo1', 'precip_OctSep:lat', 'precip_OctSep:precip_meanAnnual', 'precip_OctSep:precip_OctSep', 'meanMaxTemp_Aug:precip_OctSep', 'meanTemp_AprAug:precip_OctSep', 'precip_OctSep:varPrecip_growingSeason', 'meanTemp_Aug:precip_OctSep']\n"
     ]
    }
   ],
   "source": [
    "predictors = list(X_train)\n",
    "print(predictors)"
   ]
  },
  {
   "cell_type": "code",
   "execution_count": 17,
   "metadata": {
    "collapsed": false
   },
   "outputs": [],
   "source": [
    "# Normalize data to make gradient descent more efficient\n",
    "scaler = StandardScaler()\n",
    "X_train = scaler.fit_transform(X_train)\n",
    "X_valid = scaler.transform(X_valid)\n",
    "X_test  = scaler.transform(X_test)"
   ]
  },
  {
   "cell_type": "code",
   "execution_count": 18,
   "metadata": {
    "collapsed": false
   },
   "outputs": [],
   "source": [
    "y_train = y_train['beetle'].values.reshape(-1)\n",
    "y_valid = y_valid['beetle'].values.reshape(-1)\n",
    "y_test  = y_test['beetle'].values.reshape(-1)"
   ]
  },
  {
   "cell_type": "markdown",
   "metadata": {},
   "source": [
    "# Baseline Logistic Regression \n",
    "#### With L1 (_Lasso Regression_) or L2 (_Ridge Regression_ ) Regularization\n",
    "This model will be considered the baseline for logistic regression models as it uses just the raw predictors.  After some EDA, various transformations and interaction terms will also be considered in order to improve the model."
   ]
  },
  {
   "cell_type": "code",
   "execution_count": 19,
   "metadata": {
    "collapsed": false
   },
   "outputs": [
    {
     "name": "stdout",
     "output_type": "stream",
     "text": [
      "Testing C = 0.0001; (l1) Elapsed time: 0.02 minutes\n",
      "(l2) Elapsed time: 0.06 minutes\n",
      "Testing C = 0.001; (l1) Elapsed time: 0.12 minutes\n",
      "(l2) "
     ]
    },
    {
     "ename": "KeyboardInterrupt",
     "evalue": "",
     "output_type": "error",
     "traceback": [
      "\u001b[0;31m---------------------------------------------------------------------------\u001b[0m",
      "\u001b[0;31mKeyboardInterrupt\u001b[0m                         Traceback (most recent call last)",
      "\u001b[0;32m<ipython-input-19-6ec4b486f5b6>\u001b[0m in \u001b[0;36m<module>\u001b[0;34m()\u001b[0m\n\u001b[1;32m     11\u001b[0m         \u001b[0mprint\u001b[0m\u001b[0;34m(\u001b[0m\u001b[0;34m'(%s)'\u001b[0m \u001b[0;34m%\u001b[0m \u001b[0mpenalty\u001b[0m\u001b[0;34m,\u001b[0m \u001b[0mend\u001b[0m\u001b[0;34m=\u001b[0m\u001b[0;34m' '\u001b[0m\u001b[0;34m)\u001b[0m\u001b[0;34m\u001b[0m\u001b[0m\n\u001b[1;32m     12\u001b[0m         \u001b[0mlogistic_clf\u001b[0m \u001b[0;34m=\u001b[0m \u001b[0mLogisticRegression\u001b[0m\u001b[0;34m(\u001b[0m\u001b[0mC\u001b[0m\u001b[0;34m=\u001b[0m\u001b[0mC\u001b[0m\u001b[0;34m,\u001b[0m \u001b[0mpenalty\u001b[0m\u001b[0;34m=\u001b[0m\u001b[0mpenalty\u001b[0m\u001b[0;34m)\u001b[0m\u001b[0;34m\u001b[0m\u001b[0m\n\u001b[0;32m---> 13\u001b[0;31m         \u001b[0mlogistic_clf\u001b[0m\u001b[0;34m.\u001b[0m\u001b[0mfit\u001b[0m\u001b[0;34m(\u001b[0m\u001b[0mX_test\u001b[0m\u001b[0;34m,\u001b[0m \u001b[0my_test\u001b[0m\u001b[0;34m)\u001b[0m\u001b[0;34m\u001b[0m\u001b[0m\n\u001b[0m\u001b[1;32m     14\u001b[0m         \u001b[0mpreds\u001b[0m \u001b[0;34m=\u001b[0m \u001b[0mlogistic_clf\u001b[0m\u001b[0;34m.\u001b[0m\u001b[0mpredict\u001b[0m\u001b[0;34m(\u001b[0m\u001b[0mX_valid\u001b[0m\u001b[0;34m)\u001b[0m\u001b[0;34m\u001b[0m\u001b[0m\n\u001b[1;32m     15\u001b[0m         \u001b[0maccuracy\u001b[0m \u001b[0;34m=\u001b[0m \u001b[0msum\u001b[0m\u001b[0;34m(\u001b[0m\u001b[0my_valid\u001b[0m \u001b[0;34m==\u001b[0m \u001b[0mpreds\u001b[0m\u001b[0;34m)\u001b[0m \u001b[0;34m/\u001b[0m \u001b[0mlen\u001b[0m\u001b[0;34m(\u001b[0m\u001b[0mpreds\u001b[0m\u001b[0;34m)\u001b[0m\u001b[0;34m\u001b[0m\u001b[0m\n",
      "\u001b[0;32m/usr/local/lib/python3.6/site-packages/sklearn/linear_model/logistic.py\u001b[0m in \u001b[0;36mfit\u001b[0;34m(self, X, y, sample_weight)\u001b[0m\n\u001b[1;32m   1184\u001b[0m                 \u001b[0mself\u001b[0m\u001b[0;34m.\u001b[0m\u001b[0mclass_weight\u001b[0m\u001b[0;34m,\u001b[0m \u001b[0mself\u001b[0m\u001b[0;34m.\u001b[0m\u001b[0mpenalty\u001b[0m\u001b[0;34m,\u001b[0m \u001b[0mself\u001b[0m\u001b[0;34m.\u001b[0m\u001b[0mdual\u001b[0m\u001b[0;34m,\u001b[0m \u001b[0mself\u001b[0m\u001b[0;34m.\u001b[0m\u001b[0mverbose\u001b[0m\u001b[0;34m,\u001b[0m\u001b[0;34m\u001b[0m\u001b[0m\n\u001b[1;32m   1185\u001b[0m                 \u001b[0mself\u001b[0m\u001b[0;34m.\u001b[0m\u001b[0mmax_iter\u001b[0m\u001b[0;34m,\u001b[0m \u001b[0mself\u001b[0m\u001b[0;34m.\u001b[0m\u001b[0mtol\u001b[0m\u001b[0;34m,\u001b[0m \u001b[0mself\u001b[0m\u001b[0;34m.\u001b[0m\u001b[0mrandom_state\u001b[0m\u001b[0;34m,\u001b[0m\u001b[0;34m\u001b[0m\u001b[0m\n\u001b[0;32m-> 1186\u001b[0;31m                 sample_weight=sample_weight)\n\u001b[0m\u001b[1;32m   1187\u001b[0m             \u001b[0mself\u001b[0m\u001b[0;34m.\u001b[0m\u001b[0mn_iter_\u001b[0m \u001b[0;34m=\u001b[0m \u001b[0mnp\u001b[0m\u001b[0;34m.\u001b[0m\u001b[0marray\u001b[0m\u001b[0;34m(\u001b[0m\u001b[0;34m[\u001b[0m\u001b[0mn_iter_\u001b[0m\u001b[0;34m]\u001b[0m\u001b[0;34m)\u001b[0m\u001b[0;34m\u001b[0m\u001b[0m\n\u001b[1;32m   1188\u001b[0m             \u001b[0;32mreturn\u001b[0m \u001b[0mself\u001b[0m\u001b[0;34m\u001b[0m\u001b[0m\n",
      "\u001b[0;32m/usr/local/lib/python3.6/site-packages/sklearn/svm/base.py\u001b[0m in \u001b[0;36m_fit_liblinear\u001b[0;34m(X, y, C, fit_intercept, intercept_scaling, class_weight, penalty, dual, verbose, max_iter, tol, random_state, multi_class, loss, epsilon, sample_weight)\u001b[0m\n\u001b[1;32m    910\u001b[0m         \u001b[0mX\u001b[0m\u001b[0;34m,\u001b[0m \u001b[0my_ind\u001b[0m\u001b[0;34m,\u001b[0m \u001b[0msp\u001b[0m\u001b[0;34m.\u001b[0m\u001b[0misspmatrix\u001b[0m\u001b[0;34m(\u001b[0m\u001b[0mX\u001b[0m\u001b[0;34m)\u001b[0m\u001b[0;34m,\u001b[0m \u001b[0msolver_type\u001b[0m\u001b[0;34m,\u001b[0m \u001b[0mtol\u001b[0m\u001b[0;34m,\u001b[0m \u001b[0mbias\u001b[0m\u001b[0;34m,\u001b[0m \u001b[0mC\u001b[0m\u001b[0;34m,\u001b[0m\u001b[0;34m\u001b[0m\u001b[0m\n\u001b[1;32m    911\u001b[0m         \u001b[0mclass_weight_\u001b[0m\u001b[0;34m,\u001b[0m \u001b[0mmax_iter\u001b[0m\u001b[0;34m,\u001b[0m \u001b[0mrnd\u001b[0m\u001b[0;34m.\u001b[0m\u001b[0mrandint\u001b[0m\u001b[0;34m(\u001b[0m\u001b[0mnp\u001b[0m\u001b[0;34m.\u001b[0m\u001b[0miinfo\u001b[0m\u001b[0;34m(\u001b[0m\u001b[0;34m'i'\u001b[0m\u001b[0;34m)\u001b[0m\u001b[0;34m.\u001b[0m\u001b[0mmax\u001b[0m\u001b[0;34m)\u001b[0m\u001b[0;34m,\u001b[0m\u001b[0;34m\u001b[0m\u001b[0m\n\u001b[0;32m--> 912\u001b[0;31m         epsilon, sample_weight)\n\u001b[0m\u001b[1;32m    913\u001b[0m     \u001b[0;31m# Regarding rnd.randint(..) in the above signature:\u001b[0m\u001b[0;34m\u001b[0m\u001b[0;34m\u001b[0m\u001b[0m\n\u001b[1;32m    914\u001b[0m     \u001b[0;31m# seed for srand in range [0..INT_MAX); due to limitations in Numpy\u001b[0m\u001b[0;34m\u001b[0m\u001b[0;34m\u001b[0m\u001b[0m\n",
      "\u001b[0;31mKeyboardInterrupt\u001b[0m: "
     ]
    }
   ],
   "source": [
    "# Find optimal regularization via best validation-set accuracy\n",
    "l1_mods = []\n",
    "l2_mods = []\n",
    "#Cs = [0.0001, 0.0005, 0.001, 0.005, 0.01, 0.05, 0.1, 0.5, 1]\n",
    "Cs = [0.0001, 0.001, 0.01, 0.1, 1]\n",
    "\n",
    "t0 = time.time()\n",
    "for C in Cs:\n",
    "    print('Testing C =', C, end='; ')\n",
    "    for penalty in ['l1', 'l2']:\n",
    "        print('(%s)' % penalty, end=' ')\n",
    "        logistic_clf = LogisticRegression(C=C, penalty=penalty)\n",
    "        logistic_clf.fit(X_test, y_test)\n",
    "        preds = logistic_clf.predict(X_valid)\n",
    "        accuracy = sum(y_valid == preds) / len(preds)\n",
    "        if penalty == 'l1':\n",
    "            l1_mods.append(accuracy)\n",
    "        else:\n",
    "            l2_mods.append(accuracy)\n",
    "        print('Elapsed time: %.2f minutes' % ((time.time() - t0) / 60))"
   ]
  },
  {
   "cell_type": "code",
   "execution_count": 23,
   "metadata": {
    "collapsed": false
   },
   "outputs": [
    {
     "data": {
      "image/png": "[encoded data removed]",
      "text/plain": [
       "<matplotlib.figure.Figure at 0x1014a97f0>"
      ]
     },
     "metadata": {},
     "output_type": "display_data"
    }
   ],
   "source": [
    "plt.plot(Cs, l1_mods, label='L1 Reg.');\n",
    "plt.plot(Cs, l2_mods, label='L2 Reg.');\n",
    "plt.xscale('log');\n",
    "plt.xlabel('C');\n",
    "plt.ylabel('Accuracy');\n",
    "plt.legend(loc='best');"
   ]
  },
  {
   "cell_type": "code",
   "execution_count": 24,
   "metadata": {
    "collapsed": false
   },
   "outputs": [
    {
     "name": "stdout",
     "output_type": "stream",
     "text": [
      "[0.86051911482520183, 0.87760153509020922, 0.8922427985875353, 0.89442280835216237, 0.89261181065706852]\n",
      "[0.88021868222951416, 0.89212925641229435, 0.8925720708957342, 0.89253233113439989, 0.89417869267539429]\n"
     ]
    }
   ],
   "source": [
    "print(l1_mods)\n",
    "print(l2_mods)"
   ]
  },
  {
   "cell_type": "code",
   "execution_count": 24,
   "metadata": {
    "collapsed": false
   },
   "outputs": [
    {
     "name": "stdout",
     "output_type": "stream",
     "text": [
      "Testing C = 0.02; (l1) Elapsed time: 0.73 minutes\n",
      "(l2) Elapsed time: 0.80 minutes\n",
      "Testing C = 0.04; (l1) Elapsed time: 3.51 minutes\n",
      "(l2) Elapsed time: 3.58 minutes\n",
      "Testing C = 0.06; (l1) Elapsed time: 9.00 minutes\n",
      "(l2) Elapsed time: 9.08 minutes\n",
      "Testing C = 0.08; (l1) Elapsed time: 15.24 minutes\n",
      "(l2) Elapsed time: 15.34 minutes\n",
      "Testing C = 0.1; (l1) Elapsed time: 22.34 minutes\n",
      "(l2) Elapsed time: 22.44 minutes\n",
      "Testing C = 0.2; (l1) Elapsed time: 29.42 minutes\n",
      "(l2) Elapsed time: 29.53 minutes\n",
      "Testing C = 0.4; (l1) Elapsed time: 43.77 minutes\n",
      "(l2) Elapsed time: 43.91 minutes\n",
      "Testing C = 0.6; (l1) Elapsed time: 60.40 minutes\n",
      "(l2) Elapsed time: 60.55 minutes\n",
      "Testing C = 0.8; (l1) Elapsed time: 70.17 minutes\n",
      "(l2) Elapsed time: 70.33 minutes\n"
     ]
    }
   ],
   "source": [
    "# Find optimal regularization via best validation-set accuracy\n",
    "l1_mods = []\n",
    "l2_mods = []\n",
    "#Cs = [0.0002, 0.0003, 0.0004, 0.0005, 0.0006, 0.0007, 0.0008, 0.0009, \n",
    "Cs = [0.02, 0.04, 0.06, 0.08, 0.1, 0.2, 0.4, 0.6, 0.8]\n",
    "\n",
    "t0 = time.time()\n",
    "for C in Cs:\n",
    "    print('Testing C =', C, end='; ')\n",
    "    for penalty in ['l1', 'l2']:\n",
    "        print('(%s)' % penalty, end=' ')\n",
    "        logistic_clf = LogisticRegression(C=C, penalty=penalty)\n",
    "        logistic_clf.fit(X_test, y_test)\n",
    "        preds = logistic_clf.predict(X_valid)\n",
    "        accuracy = sum(y_valid == preds) / len(preds)\n",
    "        if penalty == 'l1':\n",
    "            l1_mods.append(accuracy)\n",
    "        else:\n",
    "            l2_mods.append(accuracy)\n",
    "        print('Elapsed time: %.2f minutes' % ((time.time() - t0) / 60))"
   ]
  },
  {
   "cell_type": "code",
   "execution_count": 25,
   "metadata": {
    "collapsed": false
   },
   "outputs": [
    {
     "data": {
      "image/png": "[encoded data removed]",
      "text/plain": [
       "<matplotlib.figure.Figure at 0x111d732b0>"
      ]
     },
     "metadata": {},
     "output_type": "display_data"
    }
   ],
   "source": [
    "plt.plot(Cs, l1_mods, label='L1 Reg.');\n",
    "plt.plot(Cs, l2_mods, label='L2 Reg.');\n",
    "plt.xscale('log');\n",
    "plt.xlabel('C');\n",
    "plt.ylabel('Accuracy');\n",
    "plt.legend(loc='best');"
   ]
  },
  {
   "cell_type": "code",
   "execution_count": 22,
   "metadata": {
    "collapsed": false
   },
   "outputs": [
    {
     "name": "stdout",
     "output_type": "stream",
     "text": [
      "[0.8913969093819899, 0.89292405163898125, 0.8946442155938823, 0.89432062039444549, 0.89436036015577991, 0.89439442280835213, 0.89392889988986413, 0.89340092877499344, 0.89301488537917406]\n",
      "[0.88021868222951416, 0.8918226925391437, 0.89184540097419185, 0.89207248532467387, 0.89222009015248716, 0.89253233113439989, 0.89356556492909289, 0.89387212880224365, 0.89388348301976772, 0.89399134808624658]\n"
     ]
    }
   ],
   "source": [
    "print(l1_mods)\n",
    "print(l2_mods)"
   ]
  },
  {
   "cell_type": "code",
   "execution_count": 26,
   "metadata": {
    "collapsed": false
   },
   "outputs": [
    {
     "name": "stdout",
     "output_type": "stream",
     "text": [
      "Testing C = 0.05; (l1) Elapsed time: 5.27 minutes\n",
      "Testing C = 0.06; (l1) Elapsed time: 12.55 minutes\n",
      "Testing C = 0.07; (l1) Elapsed time: 20.32 minutes\n"
     ]
    }
   ],
   "source": [
    "# Find optimal regularization via best validation-set accuracy\n",
    "l1_mods = []\n",
    "l2_mods = []\n",
    "#Cs = [0.0002, 0.0003, 0.0004, 0.0005, 0.0006, 0.0007, 0.0008, 0.0009, \n",
    "Cs = [0.05, 0.06, 0.07]\n",
    "\n",
    "t0 = time.time()\n",
    "for C in Cs:\n",
    "    print('Testing C =', C, end='; ')\n",
    "    for penalty in ['l1']: #, 'l2']:\n",
    "        print('(%s)' % penalty, end=' ')\n",
    "        logistic_clf = LogisticRegression(C=C, penalty=penalty)\n",
    "        logistic_clf.fit(X_test, y_test)\n",
    "        preds = logistic_clf.predict(X_valid)\n",
    "        accuracy = sum(y_valid == preds) / len(preds)\n",
    "        if penalty == 'l1':\n",
    "            l1_mods.append(accuracy)\n",
    "        else:\n",
    "            l2_mods.append(accuracy)\n",
    "        print('Elapsed time: %.2f minutes' % ((time.time() - t0) / 60))"
   ]
  },
  {
   "cell_type": "code",
   "execution_count": 28,
   "metadata": {
    "collapsed": false
   },
   "outputs": [
    {
     "data": {
      "image/png": "[encoded data removed]",
      "text/plain": [
       "<matplotlib.figure.Figure at 0x113a86278>"
      ]
     },
     "metadata": {},
     "output_type": "display_data"
    }
   ],
   "source": [
    "plt.plot(Cs, l1_mods, label='L1 Reg.');\n",
    "#plt.plot(Cs, l2_mods, label='L2 Reg.');\n",
    "plt.xscale('log');\n",
    "plt.xlabel('C');\n",
    "plt.ylabel('Accuracy');\n",
    "plt.legend(loc='best');"
   ]
  },
  {
   "cell_type": "code",
   "execution_count": null,
   "metadata": {
    "collapsed": true
   },
   "outputs": [],
   "source": [
    "print(l1_mods)"
   ]
  },
  {
   "cell_type": "code",
   "execution_count": 29,
   "metadata": {
    "collapsed": false
   },
   "outputs": [
    {
     "data": {
      "text/plain": [
       "0.87671022027637158"
      ]
     },
     "execution_count": 29,
     "metadata": {},
     "output_type": "execute_result"
    }
   ],
   "source": [
    "logistic_clf = LogisticRegression(C=0.06, penalty='l1')\n",
    "logistic_clf.fit(X_train, y_train)\n",
    "preds = logistic_clf.predict(X_test)\n",
    "accuracy = sum(y_test == preds) / len(preds)\n",
    "accuracy"
   ]
  },
  {
   "cell_type": "code",
   "execution_count": 30,
   "metadata": {
    "collapsed": true
   },
   "outputs": [],
   "source": [
    "def get_predictions_at_threshold(pred_ps, threshold):\n",
    "    return 1 * (pred_ps >= threshold)\n",
    "\n",
    "def threshold_plot(pred_ps, targets):\n",
    "    thresholds = np.linspace(0, 1, 500)\n",
    "    accuracies = []\n",
    "    n = len(pred_ps)\n",
    "\n",
    "    for threshold in thresholds:\n",
    "        preds = get_predictions_at_threshold(pred_ps, threshold)\n",
    "        accuracies.append((preds == targets).sum() / n)\n",
    "        \n",
    "    plt.plot(thresholds, accuracies);\n",
    "    optimal_threshold = thresholds[np.argmax(accuracies)]\n",
    "    optimal_accuracy = max(accuracies)\n",
    "    plt.plot([optimal_threshold, optimal_threshold], \n",
    "             [min(accuracies), max(accuracies)], \n",
    "             'r')\n",
    "    plt.plot([0, 1], [optimal_accuracy, optimal_accuracy], 'r')\n",
    "    plt.xlabel('Threshold for predicting \"Renewal\"')\n",
    "    plt.ylabel('Accuracy')\n",
    "    plt.show()\n",
    "    return {'threshold': optimal_threshold, 'accuracy': optimal_accuracy}"
   ]
  },
  {
   "cell_type": "code",
   "execution_count": 31,
   "metadata": {
    "collapsed": false
   },
   "outputs": [
    {
     "name": "stdout",
     "output_type": "stream",
     "text": [
      "[[  9.99968895e-01   3.11050905e-05]\n",
      " [  9.99972286e-01   2.77144003e-05]\n",
      " [  9.99963205e-01   3.67952035e-05]\n",
      " [  9.99950816e-01   4.91843064e-05]\n",
      " [  9.99955242e-01   4.47578104e-05]]\n"
     ]
    },
    {
     "data": {
      "image/png": "[encoded data removed]",
      "text/plain": [
       "<matplotlib.figure.Figure at 0x113b51d30>"
      ]
     },
     "metadata": {},
     "output_type": "display_data"
    },
    {
     "name": "stdout",
     "output_type": "stream",
     "text": [
      "{'threshold': 0.7114228456913827, 'accuracy': 0.88670360742463628}\n"
     ]
    }
   ],
   "source": [
    "pred_ps = logistic_clf.predict_proba(X_test)\n",
    "print(pred_ps[:5])\n",
    "pred_ps = np.array([p[1] for p in pred_ps])\n",
    "pred_ps[:5]\n",
    "\n",
    "THRESHOLD = 0.5\n",
    "preds = get_predictions_at_threshold(pred_ps, THRESHOLD)\n",
    "preds[:5]\n",
    "\n",
    "best_threshold = threshold_plot(pred_ps, y_test);\n",
    "print(best_threshold)"
   ]
  },
  {
   "cell_type": "code",
   "execution_count": 32,
   "metadata": {
    "collapsed": false
   },
   "outputs": [],
   "source": [
    "preds = logistic_clf.predict(X_test)"
   ]
  },
  {
   "cell_type": "code",
   "execution_count": 33,
   "metadata": {
    "collapsed": false
   },
   "outputs": [
    {
     "name": "stdout",
     "output_type": "stream",
     "text": [
      "Confusion Matrix:\n",
      "         Predicted:\n",
      "         \t1\t\t0\n",
      "Actual: 1\t13958\t\t8356\n",
      "        0\t13271\t\t139831\n",
      "Accuracy:  0.876710220276\n",
      "Precision: 0.512615226413\n",
      "Recall:    0.625526575244\n",
      "F1:        0.563470116868\n"
     ]
    }
   ],
   "source": [
    "cm = util.make_confusion_matrix(y_test, pred_ps, 0.5)\n",
    "metrics = util.get_metrics(cm)"
   ]
  },
  {
   "cell_type": "code",
   "execution_count": 34,
   "metadata": {
    "collapsed": false
   },
   "outputs": [
    {
     "name": "stdout",
     "output_type": "stream",
     "text": [
      "Confusion Matrix:\n",
      "         Predicted:\n",
      "         \t1\t\t0\n",
      "Actual: 1\t7602\t\t14712\n",
      "        0\t5162\t\t147940\n",
      "Accuracy:  0.886703607425\n",
      "Precision: 0.595581322469\n",
      "Recall:    0.340682979296\n",
      "F1:        0.433434061235\n"
     ]
    }
   ],
   "source": [
    "cm = util.make_confusion_matrix(y_test, pred_ps, 0.7114228456913827)\n",
    "metrics = util.get_metrics(cm)"
   ]
  },
  {
   "cell_type": "code",
   "execution_count": 35,
   "metadata": {
    "collapsed": false
   },
   "outputs": [
    {
     "name": "stdout",
     "output_type": "stream",
     "text": [
      "AUC:       0.914399891168\n"
     ]
    }
   ],
   "source": [
    "auc_metrics = util.get_auc(y_test, pred_ps)"
   ]
  },
  {
   "cell_type": "code",
   "execution_count": 36,
   "metadata": {
    "collapsed": false
   },
   "outputs": [
    {
     "data": {
      "image/png": "[encoded data removed]",
      "text/plain": [
       "<matplotlib.figure.Figure at 0x113b57f60>"
      ]
     },
     "metadata": {},
     "output_type": "display_data"
    }
   ],
   "source": [
    "util.plot_roc(auc_metrics['fpr'], auc_metrics['tpr'])"
   ]
  },
  {
   "cell_type": "code",
   "execution_count": 37,
   "metadata": {
    "collapsed": false
   },
   "outputs": [
    {
     "data": {
      "text/html": [
       "<div>\n",
       "<style>\n",
       "    .dataframe thead tr:only-child th {\n",
       "        text-align: right;\n",
       "    }\n",
       "\n",
       "    .dataframe thead th {\n",
       "        text-align: left;\n",
       "    }\n",
       "\n",
       "    .dataframe tbody tr th {\n",
       "        vertical-align: top;\n",
       "    }\n",
       "</style>\n",
       "<table border=\"1\" class=\"dataframe\">\n",
       "  <thead>\n",
       "    <tr style=\"text-align: right;\">\n",
       "      <th></th>\n",
       "      <th>predictor</th>\n",
       "      <th>coef</th>\n",
       "    </tr>\n",
       "  </thead>\n",
       "  <tbody>\n",
       "    <tr>\n",
       "      <th>17</th>\n",
       "      <td>lat</td>\n",
       "      <td>8.346123</td>\n",
       "    </tr>\n",
       "    <tr>\n",
       "      <th>18</th>\n",
       "      <td>lon</td>\n",
       "      <td>-7.712528</td>\n",
       "    </tr>\n",
       "    <tr>\n",
       "      <th>40</th>\n",
       "      <td>precip_OctSep:lon</td>\n",
       "      <td>7.703080</td>\n",
       "    </tr>\n",
       "    <tr>\n",
       "      <th>35</th>\n",
       "      <td>lon_sq</td>\n",
       "      <td>-7.286693</td>\n",
       "    </tr>\n",
       "    <tr>\n",
       "      <th>34</th>\n",
       "      <td>lat_sq</td>\n",
       "      <td>-6.132289</td>\n",
       "    </tr>\n",
       "    <tr>\n",
       "      <th>47</th>\n",
       "      <td>precip_OctSep:lat</td>\n",
       "      <td>-3.988279</td>\n",
       "    </tr>\n",
       "    <tr>\n",
       "      <th>13</th>\n",
       "      <td>precipPrevious_OctSep</td>\n",
       "      <td>3.690817</td>\n",
       "    </tr>\n",
       "    <tr>\n",
       "      <th>20</th>\n",
       "      <td>meanTemp_AprAug_sq</td>\n",
       "      <td>-3.513805</td>\n",
       "    </tr>\n",
       "    <tr>\n",
       "      <th>12</th>\n",
       "      <td>precip_OctSep</td>\n",
       "      <td>3.369235</td>\n",
       "    </tr>\n",
       "    <tr>\n",
       "      <th>1</th>\n",
       "      <td>meanTemp_AprAug</td>\n",
       "      <td>3.099913</td>\n",
       "    </tr>\n",
       "    <tr>\n",
       "      <th>8</th>\n",
       "      <td>precip_meanAnnual</td>\n",
       "      <td>2.800115</td>\n",
       "    </tr>\n",
       "    <tr>\n",
       "      <th>21</th>\n",
       "      <td>meanTemp_Aug_sq</td>\n",
       "      <td>-2.289085</td>\n",
       "    </tr>\n",
       "    <tr>\n",
       "      <th>51</th>\n",
       "      <td>meanTemp_AprAug:precip_OctSep</td>\n",
       "      <td>-1.902592</td>\n",
       "    </tr>\n",
       "    <tr>\n",
       "      <th>53</th>\n",
       "      <td>meanTemp_Aug:precip_OctSep</td>\n",
       "      <td>1.859591</td>\n",
       "    </tr>\n",
       "    <tr>\n",
       "      <th>44</th>\n",
       "      <td>precip_OctSep:meanTemp_Aug</td>\n",
       "      <td>1.858025</td>\n",
       "    </tr>\n",
       "    <tr>\n",
       "      <th>22</th>\n",
       "      <td>meanMinTemp_DecFeb_sq</td>\n",
       "      <td>-1.652795</td>\n",
       "    </tr>\n",
       "    <tr>\n",
       "      <th>10</th>\n",
       "      <td>vegetation</td>\n",
       "      <td>1.428285</td>\n",
       "    </tr>\n",
       "    <tr>\n",
       "      <th>9</th>\n",
       "      <td>precip_JunAug</td>\n",
       "      <td>-1.354162</td>\n",
       "    </tr>\n",
       "    <tr>\n",
       "      <th>0</th>\n",
       "      <td>meanTemp_Annual</td>\n",
       "      <td>1.191981</td>\n",
       "    </tr>\n",
       "    <tr>\n",
       "      <th>6</th>\n",
       "      <td>meanMinTemp_Mar</td>\n",
       "      <td>-1.150403</td>\n",
       "    </tr>\n",
       "    <tr>\n",
       "      <th>3</th>\n",
       "      <td>meanMinTemp_DecFeb</td>\n",
       "      <td>-1.138575</td>\n",
       "    </tr>\n",
       "    <tr>\n",
       "      <th>16</th>\n",
       "      <td>elev_etopo1</td>\n",
       "      <td>1.108097</td>\n",
       "    </tr>\n",
       "    <tr>\n",
       "      <th>28</th>\n",
       "      <td>precip_JunAug_sq</td>\n",
       "      <td>1.075472</td>\n",
       "    </tr>\n",
       "    <tr>\n",
       "      <th>31</th>\n",
       "      <td>precipPrevious_OctSep_sq</td>\n",
       "      <td>-1.013958</td>\n",
       "    </tr>\n",
       "    <tr>\n",
       "      <th>41</th>\n",
       "      <td>precip_OctSep:precip_growingSeason</td>\n",
       "      <td>-0.985602</td>\n",
       "    </tr>\n",
       "    <tr>\n",
       "      <th>39</th>\n",
       "      <td>meanTemp_Aug:meanMinTemp_Oct</td>\n",
       "      <td>0.963470</td>\n",
       "    </tr>\n",
       "    <tr>\n",
       "      <th>25</th>\n",
       "      <td>meanMinTemp_Mar_sq</td>\n",
       "      <td>-0.571988</td>\n",
       "    </tr>\n",
       "    <tr>\n",
       "      <th>43</th>\n",
       "      <td>meanMinTemp_Oct:precip_meanAnnual</td>\n",
       "      <td>-0.571516</td>\n",
       "    </tr>\n",
       "    <tr>\n",
       "      <th>37</th>\n",
       "      <td>precip_meanAnnual:precip_OctSep</td>\n",
       "      <td>0.548847</td>\n",
       "    </tr>\n",
       "    <tr>\n",
       "      <th>14</th>\n",
       "      <td>precip_growingSeason</td>\n",
       "      <td>0.492829</td>\n",
       "    </tr>\n",
       "    <tr>\n",
       "      <th>23</th>\n",
       "      <td>meanMinTemp_Oct_sq</td>\n",
       "      <td>0.449499</td>\n",
       "    </tr>\n",
       "    <tr>\n",
       "      <th>48</th>\n",
       "      <td>precip_OctSep:precip_meanAnnual</td>\n",
       "      <td>0.436717</td>\n",
       "    </tr>\n",
       "    <tr>\n",
       "      <th>7</th>\n",
       "      <td>meanMaxTemp_Aug</td>\n",
       "      <td>0.319765</td>\n",
       "    </tr>\n",
       "    <tr>\n",
       "      <th>32</th>\n",
       "      <td>precip_growingSeason_sq</td>\n",
       "      <td>-0.299101</td>\n",
       "    </tr>\n",
       "    <tr>\n",
       "      <th>52</th>\n",
       "      <td>precip_OctSep:varPrecip_growingSeason</td>\n",
       "      <td>-0.272770</td>\n",
       "    </tr>\n",
       "    <tr>\n",
       "      <th>24</th>\n",
       "      <td>meanMinTemp_Jan_sq</td>\n",
       "      <td>-0.268545</td>\n",
       "    </tr>\n",
       "    <tr>\n",
       "      <th>5</th>\n",
       "      <td>meanMinTemp_Jan</td>\n",
       "      <td>0.240961</td>\n",
       "    </tr>\n",
       "    <tr>\n",
       "      <th>29</th>\n",
       "      <td>precipPrevious_JunAug_sq</td>\n",
       "      <td>-0.235304</td>\n",
       "    </tr>\n",
       "    <tr>\n",
       "      <th>15</th>\n",
       "      <td>varPrecip_growingSeason</td>\n",
       "      <td>0.157478</td>\n",
       "    </tr>\n",
       "    <tr>\n",
       "      <th>33</th>\n",
       "      <td>elev_etopo1_sq</td>\n",
       "      <td>-0.146731</td>\n",
       "    </tr>\n",
       "    <tr>\n",
       "      <th>26</th>\n",
       "      <td>meanMaxTemp_Aug_sq</td>\n",
       "      <td>0.138368</td>\n",
       "    </tr>\n",
       "    <tr>\n",
       "      <th>46</th>\n",
       "      <td>precip_OctSep:elev_etopo1</td>\n",
       "      <td>-0.076227</td>\n",
       "    </tr>\n",
       "    <tr>\n",
       "      <th>11</th>\n",
       "      <td>precipPrevious_JunAug</td>\n",
       "      <td>0.045852</td>\n",
       "    </tr>\n",
       "    <tr>\n",
       "      <th>45</th>\n",
       "      <td>precip_OctSep:meanMinTemp_Oct</td>\n",
       "      <td>0.004301</td>\n",
       "    </tr>\n",
       "    <tr>\n",
       "      <th>36</th>\n",
       "      <td>meanMinTemp_Oct:precip_OctSep</td>\n",
       "      <td>0.003751</td>\n",
       "    </tr>\n",
       "    <tr>\n",
       "      <th>2</th>\n",
       "      <td>meanTemp_Aug</td>\n",
       "      <td>0.000000</td>\n",
       "    </tr>\n",
       "    <tr>\n",
       "      <th>50</th>\n",
       "      <td>meanMaxTemp_Aug:precip_OctSep</td>\n",
       "      <td>0.000000</td>\n",
       "    </tr>\n",
       "    <tr>\n",
       "      <th>49</th>\n",
       "      <td>precip_OctSep:precip_OctSep</td>\n",
       "      <td>0.000000</td>\n",
       "    </tr>\n",
       "    <tr>\n",
       "      <th>19</th>\n",
       "      <td>meanTemp_Annual_sq</td>\n",
       "      <td>0.000000</td>\n",
       "    </tr>\n",
       "    <tr>\n",
       "      <th>4</th>\n",
       "      <td>meanMinTemp_Oct</td>\n",
       "      <td>0.000000</td>\n",
       "    </tr>\n",
       "    <tr>\n",
       "      <th>42</th>\n",
       "      <td>precip_OctSep:meanMaxTemp_Aug</td>\n",
       "      <td>0.000000</td>\n",
       "    </tr>\n",
       "    <tr>\n",
       "      <th>38</th>\n",
       "      <td>precip_OctSep:precipPrevious_OctSep</td>\n",
       "      <td>0.000000</td>\n",
       "    </tr>\n",
       "    <tr>\n",
       "      <th>30</th>\n",
       "      <td>precip_OctSep_sq</td>\n",
       "      <td>0.000000</td>\n",
       "    </tr>\n",
       "    <tr>\n",
       "      <th>27</th>\n",
       "      <td>precip_meanAnnual_sq</td>\n",
       "      <td>0.000000</td>\n",
       "    </tr>\n",
       "  </tbody>\n",
       "</table>\n",
       "</div>"
      ],
      "text/plain": [
       "                                predictor      coef\n",
       "17                                    lat  8.346123\n",
       "18                                    lon -7.712528\n",
       "40                      precip_OctSep:lon  7.703080\n",
       "35                                 lon_sq -7.286693\n",
       "34                                 lat_sq -6.132289\n",
       "47                      precip_OctSep:lat -3.988279\n",
       "13                  precipPrevious_OctSep  3.690817\n",
       "20                     meanTemp_AprAug_sq -3.513805\n",
       "12                          precip_OctSep  3.369235\n",
       "1                         meanTemp_AprAug  3.099913\n",
       "8                       precip_meanAnnual  2.800115\n",
       "21                        meanTemp_Aug_sq -2.289085\n",
       "51          meanTemp_AprAug:precip_OctSep -1.902592\n",
       "53             meanTemp_Aug:precip_OctSep  1.859591\n",
       "44             precip_OctSep:meanTemp_Aug  1.858025\n",
       "22                  meanMinTemp_DecFeb_sq -1.652795\n",
       "10                             vegetation  1.428285\n",
       "9                           precip_JunAug -1.354162\n",
       "0                         meanTemp_Annual  1.191981\n",
       "6                         meanMinTemp_Mar -1.150403\n",
       "3                      meanMinTemp_DecFeb -1.138575\n",
       "16                            elev_etopo1  1.108097\n",
       "28                       precip_JunAug_sq  1.075472\n",
       "31               precipPrevious_OctSep_sq -1.013958\n",
       "41     precip_OctSep:precip_growingSeason -0.985602\n",
       "39           meanTemp_Aug:meanMinTemp_Oct  0.963470\n",
       "25                     meanMinTemp_Mar_sq -0.571988\n",
       "43      meanMinTemp_Oct:precip_meanAnnual -0.571516\n",
       "37        precip_meanAnnual:precip_OctSep  0.548847\n",
       "14                   precip_growingSeason  0.492829\n",
       "23                     meanMinTemp_Oct_sq  0.449499\n",
       "48        precip_OctSep:precip_meanAnnual  0.436717\n",
       "7                         meanMaxTemp_Aug  0.319765\n",
       "32                precip_growingSeason_sq -0.299101\n",
       "52  precip_OctSep:varPrecip_growingSeason -0.272770\n",
       "24                     meanMinTemp_Jan_sq -0.268545\n",
       "5                         meanMinTemp_Jan  0.240961\n",
       "29               precipPrevious_JunAug_sq -0.235304\n",
       "15                varPrecip_growingSeason  0.157478\n",
       "33                         elev_etopo1_sq -0.146731\n",
       "26                     meanMaxTemp_Aug_sq  0.138368\n",
       "46              precip_OctSep:elev_etopo1 -0.076227\n",
       "11                  precipPrevious_JunAug  0.045852\n",
       "45          precip_OctSep:meanMinTemp_Oct  0.004301\n",
       "36          meanMinTemp_Oct:precip_OctSep  0.003751\n",
       "2                            meanTemp_Aug  0.000000\n",
       "50          meanMaxTemp_Aug:precip_OctSep  0.000000\n",
       "49            precip_OctSep:precip_OctSep  0.000000\n",
       "19                     meanTemp_Annual_sq  0.000000\n",
       "4                         meanMinTemp_Oct  0.000000\n",
       "42          precip_OctSep:meanMaxTemp_Aug  0.000000\n",
       "38    precip_OctSep:precipPrevious_OctSep  0.000000\n",
       "30                       precip_OctSep_sq  0.000000\n",
       "27                   precip_meanAnnual_sq  0.000000"
      ]
     },
     "execution_count": 37,
     "metadata": {},
     "output_type": "execute_result"
    }
   ],
   "source": [
    "coefs = pd.DataFrame([[pred, coef] for pred, coef in zip(predictors, logistic_clf.coef_[0])], \n",
    "                     columns=['predictor', 'coef'])\n",
    "coefs['abs'] = np.abs(coefs.coef)\n",
    "coefs = coefs.sort_values('abs', ascending=False)\n",
    "coefs = coefs.drop(['abs'], axis=1)\n",
    "coefs"
   ]
  },
  {
   "cell_type": "code",
   "execution_count": 38,
   "metadata": {
    "collapsed": true
   },
   "outputs": [],
   "source": [
    "def column2matrix(dataframe, column, cell_dim=10000):\n",
    "    '''                                                                          \n",
    "    Convert a column from DataFrame df into a matrix representation with the     \n",
    "    upper-left cell indexing beginning at [0, 0].                                \n",
    "    It is expected that the DataFrame has columns x and y.                       \n",
    "                                                                                 \n",
    "    Args:                                                                        \n",
    "    df: DataFrame: the source data                                               \n",
    "    column: string: the column name to extract                                   \n",
    "    cel_dim: numeric: the dimensions of each grid cell                           \n",
    "                                                                                 \n",
    "    Returns: np.ndarray (a 2D list; matrix)                                      \n",
    "    '''\n",
    "    df = dataframe.copy()\n",
    "    x_min = df.x.min()\n",
    "    y_min = df.y.min()\n",
    "    df.x -= x_min\n",
    "    df.y -= y_min\n",
    "    xs = sorted(df.x.unique())\n",
    "    ys = sorted(df.y.unique())\n",
    "    matrix = np.array([[np.nan for y in range(len(ys))]\n",
    "                       for x in range(len(xs))])\n",
    "\n",
    "    for row in df.index:\n",
    "        x, y, value = df.loc[row, ['x', 'y', column]]\n",
    "        i = int((x - xs[0]) / cell_dim)\n",
    "        j = int((y - ys[0]) / cell_dim)\n",
    "        matrix[i, j] = value\n",
    "\n",
    "    return matrix"
   ]
  },
  {
   "cell_type": "code",
   "execution_count": 39,
   "metadata": {
    "collapsed": false
   },
   "outputs": [
    {
     "data": {
      "text/html": [
       "<div>\n",
       "<style>\n",
       "    .dataframe thead tr:only-child th {\n",
       "        text-align: right;\n",
       "    }\n",
       "\n",
       "    .dataframe thead th {\n",
       "        text-align: left;\n",
       "    }\n",
       "\n",
       "    .dataframe tbody tr th {\n",
       "        vertical-align: top;\n",
       "    }\n",
       "</style>\n",
       "<table border=\"1\" class=\"dataframe\">\n",
       "  <thead>\n",
       "    <tr style=\"text-align: right;\">\n",
       "      <th></th>\n",
       "      <th>year</th>\n",
       "      <th>meanTemp_Annual</th>\n",
       "      <th>meanTemp_AprAug</th>\n",
       "      <th>meanTemp_Aug</th>\n",
       "      <th>meanMinTemp_DecFeb</th>\n",
       "      <th>meanMinTemp_Oct</th>\n",
       "      <th>meanMinTemp_Jan</th>\n",
       "      <th>meanMinTemp_Mar</th>\n",
       "      <th>meanMaxTemp_Aug</th>\n",
       "      <th>precip_meanAnnual</th>\n",
       "      <th>...</th>\n",
       "      <th>precip_OctSep:elev_etopo1</th>\n",
       "      <th>precip_OctSep:lat</th>\n",
       "      <th>precip_OctSep:precip_meanAnnual</th>\n",
       "      <th>precip_OctSep:precip_OctSep</th>\n",
       "      <th>meanMaxTemp_Aug:precip_OctSep</th>\n",
       "      <th>meanTemp_AprAug:precip_OctSep</th>\n",
       "      <th>precip_OctSep:varPrecip_growingSeason</th>\n",
       "      <th>meanTemp_Aug:precip_OctSep</th>\n",
       "      <th>beetle</th>\n",
       "      <th>preds</th>\n",
       "    </tr>\n",
       "  </thead>\n",
       "  <tbody>\n",
       "    <tr>\n",
       "      <th>0</th>\n",
       "      <td>2000</td>\n",
       "      <td>17.057845</td>\n",
       "      <td>18.892138</td>\n",
       "      <td>21.608865</td>\n",
       "      <td>4.831345</td>\n",
       "      <td>10.825336</td>\n",
       "      <td>6.119776</td>\n",
       "      <td>7.627907</td>\n",
       "      <td>27.147665</td>\n",
       "      <td>7.199924</td>\n",
       "      <td>...</td>\n",
       "      <td>6720.300729</td>\n",
       "      <td>3942.380630</td>\n",
       "      <td>930.493385</td>\n",
       "      <td>16702.086497</td>\n",
       "      <td>3508.470629</td>\n",
       "      <td>2441.554720</td>\n",
       "      <td>87.162470</td>\n",
       "      <td>2792.655201</td>\n",
       "      <td>0</td>\n",
       "      <td>0</td>\n",
       "    </tr>\n",
       "    <tr>\n",
       "      <th>1</th>\n",
       "      <td>2000</td>\n",
       "      <td>17.254652</td>\n",
       "      <td>19.109267</td>\n",
       "      <td>21.808772</td>\n",
       "      <td>5.056313</td>\n",
       "      <td>11.052817</td>\n",
       "      <td>6.231007</td>\n",
       "      <td>7.827016</td>\n",
       "      <td>27.346988</td>\n",
       "      <td>6.621443</td>\n",
       "      <td>...</td>\n",
       "      <td>1885.374647</td>\n",
       "      <td>3385.157228</td>\n",
       "      <td>734.347107</td>\n",
       "      <td>12299.783937</td>\n",
       "      <td>3032.901079</td>\n",
       "      <td>2119.301565</td>\n",
       "      <td>87.706257</td>\n",
       "      <td>2418.688598</td>\n",
       "      <td>0</td>\n",
       "      <td>0</td>\n",
       "    </tr>\n",
       "    <tr>\n",
       "      <th>2</th>\n",
       "      <td>2000</td>\n",
       "      <td>17.676624</td>\n",
       "      <td>19.746520</td>\n",
       "      <td>22.608925</td>\n",
       "      <td>4.883052</td>\n",
       "      <td>11.081191</td>\n",
       "      <td>6.041158</td>\n",
       "      <td>7.776271</td>\n",
       "      <td>28.596847</td>\n",
       "      <td>6.506222</td>\n",
       "      <td>...</td>\n",
       "      <td>15701.586859</td>\n",
       "      <td>3175.790555</td>\n",
       "      <td>676.543063</td>\n",
       "      <td>10812.676193</td>\n",
       "      <td>2973.615041</td>\n",
       "      <td>2053.322479</td>\n",
       "      <td>180.105604</td>\n",
       "      <td>2350.966874</td>\n",
       "      <td>0</td>\n",
       "      <td>0</td>\n",
       "    </tr>\n",
       "    <tr>\n",
       "      <th>3</th>\n",
       "      <td>2000</td>\n",
       "      <td>16.558509</td>\n",
       "      <td>18.864768</td>\n",
       "      <td>22.112176</td>\n",
       "      <td>3.356400</td>\n",
       "      <td>9.556494</td>\n",
       "      <td>4.649940</td>\n",
       "      <td>6.029264</td>\n",
       "      <td>28.749263</td>\n",
       "      <td>9.937936</td>\n",
       "      <td>...</td>\n",
       "      <td>98718.653594</td>\n",
       "      <td>6033.479765</td>\n",
       "      <td>1962.119381</td>\n",
       "      <td>38981.490270</td>\n",
       "      <td>5676.177043</td>\n",
       "      <td>3724.608934</td>\n",
       "      <td>33.989244</td>\n",
       "      <td>4365.768436</td>\n",
       "      <td>0</td>\n",
       "      <td>0</td>\n",
       "    </tr>\n",
       "    <tr>\n",
       "      <th>4</th>\n",
       "      <td>2000</td>\n",
       "      <td>16.781979</td>\n",
       "      <td>19.328211</td>\n",
       "      <td>22.731819</td>\n",
       "      <td>3.201135</td>\n",
       "      <td>9.459611</td>\n",
       "      <td>4.256498</td>\n",
       "      <td>5.852778</td>\n",
       "      <td>29.813080</td>\n",
       "      <td>9.939182</td>\n",
       "      <td>...</td>\n",
       "      <td>109969.942702</td>\n",
       "      <td>5961.906526</td>\n",
       "      <td>1937.963301</td>\n",
       "      <td>38018.045803</td>\n",
       "      <td>5813.019043</td>\n",
       "      <td>3768.656495</td>\n",
       "      <td>71.096740</td>\n",
       "      <td>4432.299443</td>\n",
       "      <td>0</td>\n",
       "      <td>0</td>\n",
       "    </tr>\n",
       "  </tbody>\n",
       "</table>\n",
       "<p>5 rows × 61 columns</p>\n",
       "</div>"
      ],
      "text/plain": [
       "   year  meanTemp_Annual  meanTemp_AprAug  meanTemp_Aug  meanMinTemp_DecFeb  \\\n",
       "0  2000        17.057845        18.892138     21.608865            4.831345   \n",
       "1  2000        17.254652        19.109267     21.808772            5.056313   \n",
       "2  2000        17.676624        19.746520     22.608925            4.883052   \n",
       "3  2000        16.558509        18.864768     22.112176            3.356400   \n",
       "4  2000        16.781979        19.328211     22.731819            3.201135   \n",
       "\n",
       "   meanMinTemp_Oct  meanMinTemp_Jan  meanMinTemp_Mar  meanMaxTemp_Aug  \\\n",
       "0        10.825336         6.119776         7.627907        27.147665   \n",
       "1        11.052817         6.231007         7.827016        27.346988   \n",
       "2        11.081191         6.041158         7.776271        28.596847   \n",
       "3         9.556494         4.649940         6.029264        28.749263   \n",
       "4         9.459611         4.256498         5.852778        29.813080   \n",
       "\n",
       "   precip_meanAnnual  ...    precip_OctSep:elev_etopo1  precip_OctSep:lat  \\\n",
       "0           7.199924  ...                  6720.300729        3942.380630   \n",
       "1           6.621443  ...                  1885.374647        3385.157228   \n",
       "2           6.506222  ...                 15701.586859        3175.790555   \n",
       "3           9.937936  ...                 98718.653594        6033.479765   \n",
       "4           9.939182  ...                109969.942702        5961.906526   \n",
       "\n",
       "   precip_OctSep:precip_meanAnnual  precip_OctSep:precip_OctSep  \\\n",
       "0                       930.493385                 16702.086497   \n",
       "1                       734.347107                 12299.783937   \n",
       "2                       676.543063                 10812.676193   \n",
       "3                      1962.119381                 38981.490270   \n",
       "4                      1937.963301                 38018.045803   \n",
       "\n",
       "   meanMaxTemp_Aug:precip_OctSep  meanTemp_AprAug:precip_OctSep  \\\n",
       "0                    3508.470629                    2441.554720   \n",
       "1                    3032.901079                    2119.301565   \n",
       "2                    2973.615041                    2053.322479   \n",
       "3                    5676.177043                    3724.608934   \n",
       "4                    5813.019043                    3768.656495   \n",
       "\n",
       "   precip_OctSep:varPrecip_growingSeason  meanTemp_Aug:precip_OctSep  beetle  \\\n",
       "0                              87.162470                 2792.655201       0   \n",
       "1                              87.706257                 2418.688598       0   \n",
       "2                             180.105604                 2350.966874       0   \n",
       "3                              33.989244                 4365.768436       0   \n",
       "4                              71.096740                 4432.299443       0   \n",
       "\n",
       "   preds  \n",
       "0      0  \n",
       "1      0  \n",
       "2      0  \n",
       "3      0  \n",
       "4      0  \n",
       "\n",
       "[5 rows x 61 columns]"
      ]
     },
     "execution_count": 39,
     "metadata": {},
     "output_type": "execute_result"
    }
   ],
   "source": [
    "full_test['preds'] = preds\n",
    "full_test.head()"
   ]
  },
  {
   "cell_type": "code",
   "execution_count": 40,
   "metadata": {
    "collapsed": true
   },
   "outputs": [],
   "source": [
    "def pred_plot(actual_matrix, pred_matrix, error_matrix, year):\n",
    "    plt.subplot(131)\n",
    "    imshow(np.rot90(actual_matrix));\n",
    "    plt.title('%d Actual' % year);\n",
    "    plt.subplot(132)\n",
    "    imshow(np.rot90(pred_matrix));\n",
    "    plt.title('%d Predicted' % year);\n",
    "    plt.subplot(133)\n",
    "    imshow(np.rot90(error_matrix));\n",
    "    plt.title('%d Error' % year);"
   ]
  },
  {
   "cell_type": "code",
   "execution_count": 41,
   "metadata": {
    "collapsed": true
   },
   "outputs": [],
   "source": [
    "def make_actual_pred_and_error_matrices(data, year, plot=False):\n",
    "    data_year = data.loc[data.year == year, :]\n",
    "    actual_matrix = column2matrix(data_year, 'beetle')\n",
    "    pred_matrix   = column2matrix(data_year, 'preds')\n",
    "    error_matrix  = pred_matrix - actual_matrix\n",
    "    \n",
    "    if plot:\n",
    "        pred_plot(actual_matrix, pred_matrix, error_matrix, year)\n",
    "        \n",
    "    return actual_matrix, pred_matrix, error_matrix"
   ]
  },
  {
   "cell_type": "code",
   "execution_count": 42,
   "metadata": {
    "collapsed": false
   },
   "outputs": [
    {
     "data": {
      "image/png": "[encoded data removed]",
      "text/plain": [
       "<matplotlib.figure.Figure at 0x111ffdcf8>"
      ]
     },
     "metadata": {},
     "output_type": "display_data"
    },
    {
     "data": {
      "image/png": "[encoded data removed]",
      "text/plain": [
       "<matplotlib.figure.Figure at 0x113b3ee10>"
      ]
     },
     "metadata": {},
     "output_type": "display_data"
    },
    {
     "data": {
      "image/png": "[encoded data removed]",
      "text/plain": [
       "<matplotlib.figure.Figure at 0x111d6e8d0>"
      ]
     },
     "metadata": {},
     "output_type": "display_data"
    }
   ],
   "source": [
    "pred_years = [2000, 2001, 2002]\n",
    "for year in pred_years:\n",
    "    plt.figure();\n",
    "    make_actual_pred_and_error_matrices(full_test, year, plot=True)"
   ]
  },
  {
   "cell_type": "code",
   "execution_count": null,
   "metadata": {
    "collapsed": true
   },
   "outputs": [],
   "source": []
  }
 ],
 "metadata": {
  "kernelspec": {
   "display_name": "Python 3",
   "language": "python",
   "name": "python3"
  },
  "language_info": {
   "codemirror_mode": {
    "name": "ipython",
    "version": 3
   },
   "file_extension": ".py",
   "mimetype": "text/x-python",
   "name": "python",
   "nbconvert_exporter": "python",
   "pygments_lexer": "ipython3",
   "version": "3.6.1"
  }
 },
 "nbformat": 4,
 "nbformat_minor": 0
}
