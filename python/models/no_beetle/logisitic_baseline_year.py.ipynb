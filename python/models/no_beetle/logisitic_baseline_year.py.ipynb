{
 "cells": [
  {
   "cell_type": "code",
   "execution_count": 16,
   "metadata": {
    "collapsed": false
   },
   "outputs": [],
   "source": [
    "import matplotlib.pyplot as plt\n",
    "import numpy as np\n",
    "import os\n",
    "from sklearn.linear_model import LogisticRegression, Ridge\n",
    "from sklearn.pipeline import Pipeline\n",
    "from sklearn.model_selection import GridSearchCV\n",
    "from sklearn.preprocessing import StandardScaler\n",
    "\n",
    "import model_utils as util\n",
    "\n",
    "%matplotlib inline\n",
    "plt.rcParams['figure.figsize'] = 10, 8"
   ]
  },
  {
   "cell_type": "code",
   "execution_count": 2,
   "metadata": {
    "collapsed": false
   },
   "outputs": [
    {
     "data": {
      "text/plain": [
       "['weights.bestNN.hdf5',\n",
       " 'X_test.csv',\n",
       " 'X_train.csv',\n",
       " 'X_valid.csv',\n",
       " 'y_test.csv',\n",
       " 'y_train.csv',\n",
       " 'y_valid.csv']"
      ]
     },
     "execution_count": 2,
     "metadata": {},
     "output_type": "execute_result"
    }
   ],
   "source": [
    "DATA_PATH =  '../../data/cluster/year/'\n",
    "os.listdir(DATA_PATH)"
   ]
  },
  {
   "cell_type": "code",
   "execution_count": 3,
   "metadata": {
    "collapsed": false
   },
   "outputs": [
    {
     "name": "stdout",
     "output_type": "stream",
     "text": [
      "X_train: (529623, 24)\n",
      "X_valid: (176541, 24)\n",
      "X_test: (176541, 24)\n",
      "y_train: (529623, 1)\n",
      "y_valid: (176541, 1)\n",
      "y_test: (176541, 1)\n"
     ]
    }
   ],
   "source": [
    "[[X_train, y_train], \n",
    " [X_valid, y_valid], \n",
    " [X_test, y_test]] = util.load_data(DATA_PATH)"
   ]
  },
  {
   "cell_type": "code",
   "execution_count": 4,
   "metadata": {
    "collapsed": false
   },
   "outputs": [
    {
     "name": "stdout",
     "output_type": "stream",
     "text": [
      "Percent presence in y_train: 17.26%\n",
      "Percent presence in y_valid: 13.92%\n",
      "Percent presence in y_test: 12.64%\n"
     ]
    }
   ],
   "source": [
    "util.print_percent_presence(y_train, 'y_train')\n",
    "util.print_percent_presence(y_valid, 'y_valid')\n",
    "util.print_percent_presence(y_test,  'y_test')"
   ]
  },
  {
   "cell_type": "code",
   "execution_count": 5,
   "metadata": {
    "collapsed": false
   },
   "outputs": [
    {
     "name": "stdout",
     "output_type": "stream",
     "text": [
      "Baseline accuracy if predicting \"absent\" for all cells:\n",
      "  train: 82.74\n",
      "  valid: 86.08\n",
      "  test:  87.36\n"
     ]
    }
   ],
   "source": [
    "print('Baseline accuracy if predicting \"absent\" for all cells:')\n",
    "print('  train:', 100 - 17.26)\n",
    "print('  valid:', 100 - 13.92)\n",
    "print('  test: ', 100 - 12.64)"
   ]
  },
  {
   "cell_type": "code",
   "execution_count": 6,
   "metadata": {
    "collapsed": false
   },
   "outputs": [
    {
     "data": {
      "text/plain": [
       "year                        True\n",
       "meanTemp_Annual             True\n",
       "meanTemp_AprAug             True\n",
       "meanTemp_Aug                True\n",
       "meanMinTemp_DecFeb          True\n",
       "meanMinTemp_Oct             True\n",
       "meanMinTemp_Jan             True\n",
       "meanMinTemp_Mar             True\n",
       "meanMaxTemp_Aug             True\n",
       "precip_meanAnnual           True\n",
       "precip_JunAug               True\n",
       "vegetation                  True\n",
       "precipPrevious_JunAug       True\n",
       "precip_OctSep               True\n",
       "precipPrevious_OctSep       True\n",
       "precip_growingSeason        True\n",
       "varPrecip_growingSeason    False\n",
       "elev_etopo1                 True\n",
       "lat                         True\n",
       "lon                         True\n",
       "studyArea                   True\n",
       "elev_srtm30                 True\n",
       "x                           True\n",
       "y                           True\n",
       "dtype: bool"
      ]
     },
     "execution_count": 6,
     "metadata": {},
     "output_type": "execute_result"
    }
   ],
   "source": [
    "np.isfinite(X_valid).all()"
   ]
  },
  {
   "cell_type": "code",
   "execution_count": 7,
   "metadata": {
    "collapsed": false
   },
   "outputs": [
    {
     "name": "stdout",
     "output_type": "stream",
     "text": [
      "(526849, 24) (526849, 1)\n",
      "(176146, 24) (176146, 1)\n",
      "(175416, 24) (175416, 1)\n"
     ]
    }
   ],
   "source": [
    "X_train, y_train = util.drop_nans(\n",
    "    X_train, y_train, 'varPrecip_growingSeason')\n",
    "X_valid, y_valid = util.drop_nans(\n",
    "    X_valid, y_valid, 'varPrecip_growingSeason')\n",
    "X_test,  y_test  = util.drop_nans(\n",
    "    X_test,  y_test,  'varPrecip_growingSeason')"
   ]
  },
  {
   "cell_type": "code",
   "execution_count": 8,
   "metadata": {
    "collapsed": true
   },
   "outputs": [],
   "source": [
    "full_test = X_test.copy()\n",
    "full_test['beetle'] = y_test['beetle']"
   ]
  },
  {
   "cell_type": "code",
   "execution_count": 9,
   "metadata": {
    "collapsed": true
   },
   "outputs": [],
   "source": [
    "# Drop 'studyArea' from predictors (all 1 in the reduced data) and 'x' and\n",
    "# 'y' (perfectly correlated with 'lon' and 'lat')\n",
    "X_train = X_train.drop(['studyArea', 'x', 'y', 'elev_srtm30'], axis=1)\n",
    "X_valid = X_valid.drop(['studyArea', 'x', 'y', 'elev_srtm30'], axis=1)\n",
    "X_test  = X_test.drop(['studyArea',  'x', 'y', 'elev_srtm30'],  axis=1)"
   ]
  },
  {
   "cell_type": "code",
   "execution_count": 10,
   "metadata": {
    "collapsed": false
   },
   "outputs": [],
   "source": [
    "# Normalize data to make gradient descent more efficient\n",
    "scaler = StandardScaler()\n",
    "X_train = scaler.fit_transform(X_train)\n",
    "X_valid = scaler.transform(X_valid)\n",
    "X_test  = scaler.transform(X_test)"
   ]
  },
  {
   "cell_type": "code",
   "execution_count": 11,
   "metadata": {
    "collapsed": false
   },
   "outputs": [],
   "source": [
    "y_train = y_train['beetle'].values.reshape(-1)\n",
    "y_valid = y_valid['beetle'].values.reshape(-1)\n",
    "y_test  = y_test['beetle'].values.reshape(-1)"
   ]
  },
  {
   "cell_type": "markdown",
   "metadata": {},
   "source": [
    "# Baseline Logistic Regression \n",
    "#### With L1 (_Lasso Regression_) or L2 (_Ridge Regression_ ) Regularization\n",
    "This model will be considered the baseline for logistic regression models as it uses just the raw predictors.  After some EDA, various transformations and interaction terms will also be considered in order to improve the model."
   ]
  },
  {
   "cell_type": "code",
   "execution_count": 12,
   "metadata": {
    "collapsed": false
   },
   "outputs": [
    {
     "name": "stdout",
     "output_type": "stream",
     "text": [
      "{'C': 0.001, 'penalty': 'l2'}\n"
     ]
    }
   ],
   "source": [
    "param_grid = [{'C': [0.001, 0.01, 0.1], 'penalty': ['l1']},\n",
    "              {'C': [0.001, 0.01, 0.1], 'penalty': ['l2']}]\n",
    "logistic_mod = GridSearchCV(LogisticRegression(C=1), \n",
    "                            param_grid, \n",
    "                            cv=5,\n",
    "                            scoring='accuracy')\n",
    "logistic_mod.fit(X_train, y_train)\n",
    "\n",
    "print(logistic_mod.best_params_)"
   ]
  },
  {
   "cell_type": "code",
   "execution_count": 21,
   "metadata": {
    "collapsed": false
   },
   "outputs": [
    {
     "name": "stdout",
     "output_type": "stream",
     "text": [
      "{'C': 0.001, 'penalty': 'l2'}\n"
     ]
    }
   ],
   "source": [
    "param_grid = [{'C': [0.0001, 0.001, 0.005], 'penalty': ['l1']},\n",
    "              {'C': [0.0001, 0.001, 0.005], 'penalty': ['l2']}]\n",
    "logistic_mod = GridSearchCV(LogisticRegression(C=1), \n",
    "                            param_grid, \n",
    "                            cv=5,\n",
    "                            scoring='accuracy')\n",
    "logistic_mod.fit(X_train, y_train)\n",
    "\n",
    "print(logistic_mod.best_params_)"
   ]
  },
  {
   "cell_type": "code",
   "execution_count": 22,
   "metadata": {
    "collapsed": false
   },
   "outputs": [
    {
     "name": "stdout",
     "output_type": "stream",
     "text": [
      "{'C': 0.0005, 'penalty': 'l2'}\n"
     ]
    }
   ],
   "source": [
    "param_grid = [{'C': [0.0005, 0.001, 0.002], 'penalty': ['l1']},\n",
    "              {'C': [0.0005, 0.001, 0.002], 'penalty': ['l2']}]\n",
    "logistic_mod = GridSearchCV(LogisticRegression(C=1), \n",
    "                            param_grid, \n",
    "                            cv=5,\n",
    "                            scoring='accuracy')\n",
    "logistic_mod.fit(X_train, y_train)\n",
    "\n",
    "print(logistic_mod.best_params_)"
   ]
  },
  {
   "cell_type": "code",
   "execution_count": 23,
   "metadata": {
    "collapsed": false
   },
   "outputs": [
    {
     "name": "stdout",
     "output_type": "stream",
     "text": [
      "{'C': 0.0005, 'penalty': 'l2'}\n"
     ]
    }
   ],
   "source": [
    "param_grid = [{'C': [0.0003, 0.0005, 0.0008], 'penalty': ['l1']},\n",
    "              {'C': [0.0003, 0.0005, 0.0008], 'penalty': ['l2']}]\n",
    "logistic_mod = GridSearchCV(LogisticRegression(C=1), \n",
    "                            param_grid, \n",
    "                            cv=5,\n",
    "                            scoring='accuracy')\n",
    "logistic_mod.fit(X_train, y_train)\n",
    "\n",
    "print(logistic_mod.best_params_)"
   ]
  },
  {
   "cell_type": "code",
   "execution_count": 24,
   "metadata": {
    "collapsed": false
   },
   "outputs": [
    {
     "name": "stdout",
     "output_type": "stream",
     "text": [
      "{'C': 0.0006, 'penalty': 'l2'}\n"
     ]
    }
   ],
   "source": [
    "param_grid = [{'C': [0.0004, 0.0005, 0.0006], 'penalty': ['l1']},\n",
    "              {'C': [0.0004, 0.0005, 0.0006], 'penalty': ['l2']}]\n",
    "logistic_mod = GridSearchCV(LogisticRegression(C=1), \n",
    "                            param_grid, \n",
    "                            cv=5,\n",
    "                            scoring='accuracy')\n",
    "logistic_mod.fit(X_train, y_train)\n",
    "\n",
    "print(logistic_mod.best_params_)"
   ]
  },
  {
   "cell_type": "code",
   "execution_count": 25,
   "metadata": {
    "collapsed": false
   },
   "outputs": [
    {
     "name": "stdout",
     "output_type": "stream",
     "text": [
      "{'C': 0.0006, 'penalty': 'l2'}\n"
     ]
    }
   ],
   "source": [
    "param_grid = [{'C': [0.0006, 0.0007], 'penalty': ['l1']},\n",
    "              {'C': [0.0006, 0.0007], 'penalty': ['l2']}]\n",
    "logistic_mod = GridSearchCV(LogisticRegression(C=1), \n",
    "                            param_grid, \n",
    "                            cv=5,\n",
    "                            scoring='accuracy')\n",
    "logistic_mod.fit(X_train, y_train)\n",
    "\n",
    "print(logistic_mod.best_params_)"
   ]
  },
  {
   "cell_type": "code",
   "execution_count": 12,
   "metadata": {
    "collapsed": false
   },
   "outputs": [
    {
     "data": {
      "text/plain": [
       "0.81353468326720479"
      ]
     },
     "execution_count": 12,
     "metadata": {},
     "output_type": "execute_result"
    }
   ],
   "source": [
    "logistic_clf = LogisticRegression(C = 0.6, penalty = 'l2')\n",
    "logistic_clf.fit(X_train, y_train)\n",
    "preds = logistic_clf.predict(X_test)\n",
    "accuracy = sum(y_test == preds) / len(preds)\n",
    "accuracy"
   ]
  },
  {
   "cell_type": "code",
   "execution_count": 13,
   "metadata": {
    "collapsed": true
   },
   "outputs": [],
   "source": [
    "def get_predictions_at_threshold(pred_ps, threshold):\n",
    "    return 1 * (pred_ps >= threshold)\n",
    "\n",
    "def threshold_plot(pred_ps, targets):\n",
    "    thresholds = np.linspace(0, 1, 500)\n",
    "    accuracies = []\n",
    "    n = len(pred_ps)\n",
    "\n",
    "    for threshold in thresholds:\n",
    "        preds = get_predictions_at_threshold(pred_ps, threshold)\n",
    "        accuracies.append((preds == targets).sum() / n)\n",
    "        \n",
    "    plt.plot(thresholds, accuracies);\n",
    "    optimal_threshold = thresholds[np.argmax(accuracies)]\n",
    "    optimal_accuracy = max(accuracies)\n",
    "    plt.plot([optimal_threshold, optimal_threshold], \n",
    "             [min(accuracies), max(accuracies)], \n",
    "             'r')\n",
    "    plt.plot([0, 1], [optimal_accuracy, optimal_accuracy], 'r')\n",
    "    plt.xlabel('Threshold for predicting \"Renewal\"')\n",
    "    plt.ylabel('Accuracy')\n",
    "    plt.show()\n",
    "    return {'threshold': optimal_threshold, 'accuracy': optimal_accuracy}"
   ]
  },
  {
   "cell_type": "code",
   "execution_count": 17,
   "metadata": {
    "collapsed": false
   },
   "outputs": [
    {
     "name": "stdout",
     "output_type": "stream",
     "text": [
      "[[ 0.9974864   0.0025136 ]\n",
      " [ 0.99763911  0.00236089]\n",
      " [ 0.9976106   0.0023894 ]\n",
      " [ 0.99436209  0.00563791]\n",
      " [ 0.99378137  0.00621863]]\n"
     ]
    },
    {
     "data": {
      "image/png": "[encoded data removed]",
      "text/plain": [
       "<matplotlib.figure.Figure at 0x101ac3668>"
      ]
     },
     "metadata": {},
     "output_type": "display_data"
    },
    {
     "name": "stdout",
     "output_type": "stream",
     "text": [
      "{'threshold': 0.86973947895791581, 'accuracy': 0.88865895927395444}\n"
     ]
    }
   ],
   "source": [
    "pred_ps = logistic_clf.predict_proba(X_test)\n",
    "print(pred_ps[:5])\n",
    "pred_ps = np.array([p[1] for p in pred_ps])\n",
    "pred_ps[:5]\n",
    "\n",
    "THRESHOLD = 0.5\n",
    "preds = get_predictions_at_threshold(pred_ps, THRESHOLD)\n",
    "preds[:5]\n",
    "\n",
    "best_threshold = threshold_plot(pred_ps, y_test);\n",
    "print(best_threshold)"
   ]
  },
  {
   "cell_type": "code",
   "execution_count": 20,
   "metadata": {
    "collapsed": false
   },
   "outputs": [],
   "source": [
    "preds = logistic_clf.predict(X_test)"
   ]
  },
  {
   "cell_type": "code",
   "execution_count": 24,
   "metadata": {
    "collapsed": false
   },
   "outputs": [
    {
     "name": "stdout",
     "output_type": "stream",
     "text": [
      "Confusion Matrix:\n",
      "         Predicted:\n",
      "         \t1\t\t0\n",
      "Actual: 1\t19556\t\t2758\n",
      "        0\t29951\t\t123151\n",
      "Accuracy:  0.813534683267\n",
      "Precision: 0.395014846385\n",
      "Recall:    0.876400466075\n",
      "F1:        0.544576098913\n"
     ]
    }
   ],
   "source": [
    "cm = util.make_confusion_matrix(y_test, pred_ps, 0.5)\n",
    "metrics = util.get_metrics(cm)"
   ]
  },
  {
   "cell_type": "code",
   "execution_count": 25,
   "metadata": {
    "collapsed": false
   },
   "outputs": [
    {
     "name": "stdout",
     "output_type": "stream",
     "text": [
      "Confusion Matrix:\n",
      "         Predicted:\n",
      "         \t1\t\t0\n",
      "Actual: 1\t7157\t\t15157\n",
      "        0\t4374\t\t148728\n",
      "Accuracy:  0.888658959274\n",
      "Precision: 0.620674702975\n",
      "Recall:    0.320740342386\n",
      "F1:        0.422928054365\n"
     ]
    }
   ],
   "source": [
    "cm = util.make_confusion_matrix(y_test, pred_ps, 0.8697)\n",
    "metrics = util.get_metrics(cm)"
   ]
  },
  {
   "cell_type": "code",
   "execution_count": 26,
   "metadata": {
    "collapsed": false
   },
   "outputs": [
    {
     "name": "stdout",
     "output_type": "stream",
     "text": [
      "AUC:       0.907528419073\n"
     ]
    }
   ],
   "source": [
    "auc_metrics = util.get_auc(y_test, pred_ps)"
   ]
  },
  {
   "cell_type": "code",
   "execution_count": 27,
   "metadata": {
    "collapsed": false
   },
   "outputs": [
    {
     "data": {
      "image/png": "[encoded data removed]",
      "text/plain": [
       "<matplotlib.figure.Figure at 0x101b23358>"
      ]
     },
     "metadata": {},
     "output_type": "display_data"
    }
   ],
   "source": [
    "util.plot_roc(auc_metrics['fpr'], auc_metrics['tpr'])"
   ]
  },
  {
   "cell_type": "code",
   "execution_count": null,
   "metadata": {
    "collapsed": true
   },
   "outputs": [],
   "source": []
  }
 ],
 "metadata": {
  "kernelspec": {
   "display_name": "Python 3",
   "language": "python",
   "name": "python3"
  },
  "language_info": {
   "codemirror_mode": {
    "name": "ipython",
    "version": 3
   },
   "file_extension": ".py",
   "mimetype": "text/x-python",
   "name": "python",
   "nbconvert_exporter": "python",
   "pygments_lexer": "ipython3",
   "version": "3.6.1"
  }
 },
 "nbformat": 4,
 "nbformat_minor": 0
}
