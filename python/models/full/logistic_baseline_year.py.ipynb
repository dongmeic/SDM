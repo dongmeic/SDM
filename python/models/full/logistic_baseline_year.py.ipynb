{
 "cells": [
  {
   "cell_type": "code",
   "execution_count": 1,
   "metadata": {
    "collapsed": false
   },
   "outputs": [],
   "source": [
    "import os\n",
    "import sys\n",
    "import time\n",
    "\n",
    "import matplotlib.pyplot as plt\n",
    "import numpy as np\n",
    "import pandas as pd\n",
    "from pylab import *\n",
    "from sklearn.linear_model import LogisticRegression, Ridge\n",
    "from sklearn.pipeline import Pipeline\n",
    "from sklearn.model_selection import GridSearchCV\n",
    "from sklearn.preprocessing import StandardScaler\n",
    "\n",
    "sys.path.append('..')\n",
    "import model_utils as util\n",
    "\n",
    "%matplotlib inline\n",
    "plt.rcParams['figure.figsize'] = 10, 8"
   ]
  },
  {
   "cell_type": "code",
   "execution_count": 2,
   "metadata": {
    "collapsed": false
   },
   "outputs": [
    {
     "data": {
      "text/plain": [
       "['X_test_full.csv',\n",
       " 'X_train_full.csv',\n",
       " 'X_valid_full.csv',\n",
       " 'y_test_full.csv',\n",
       " 'y_train_full.csv',\n",
       " 'y_valid_full.csv']"
      ]
     },
     "execution_count": 2,
     "metadata": {},
     "output_type": "execute_result"
    }
   ],
   "source": [
    "DATA_PATH =  '../../../data/cluster/year/'\n",
    "[f for f in os.listdir(DATA_PATH) if 'full' in f]"
   ]
  },
  {
   "cell_type": "code",
   "execution_count": 3,
   "metadata": {
    "collapsed": false
   },
   "outputs": [
    {
     "name": "stdout",
     "output_type": "stream",
     "text": [
      "train: X (529623, 25)\t y(529623, 1)\n",
      "valid: X (117694, 25)\t y(117694, 1)\n",
      "test:  X (117694, 25)\t y(117694, 1)\n"
     ]
    }
   ],
   "source": [
    "X_train = pd.read_csv(DATA_PATH + 'X_train_full.csv')\n",
    "X_valid = pd.read_csv(DATA_PATH + 'X_valid_full.csv')\n",
    "X_test  = pd.read_csv(DATA_PATH + 'X_test_full.csv')\n",
    "y_train = pd.read_csv(DATA_PATH + 'y_train_full.csv')\n",
    "y_valid = pd.read_csv(DATA_PATH + 'y_valid_full.csv')\n",
    "y_test  = pd.read_csv(DATA_PATH + 'y_test_full.csv')\n",
    "\n",
    "X_train = X_train.drop(['Unnamed: 0'], axis=1)\n",
    "X_valid = X_valid.drop(['Unnamed: 0'], axis=1)\n",
    "X_test  = X_test.drop(['Unnamed: 0'],  axis=1)\n",
    "y_train = y_train.drop(['Unnamed: 0'], axis=1)\n",
    "y_valid = y_valid.drop(['Unnamed: 0'], axis=1)\n",
    "y_test  = y_test.drop(['Unnamed: 0'],  axis=1)\n",
    "\n",
    "\n",
    "print('train: X %s\\t y%s' % (X_train.shape, y_train.shape))\n",
    "print('valid: X %s\\t y%s' % (X_valid.shape, y_valid.shape))\n",
    "print('test:  X %s\\t y%s' % (X_test.shape,  y_test.shape))"
   ]
  },
  {
   "cell_type": "code",
   "execution_count": 4,
   "metadata": {
    "collapsed": false
   },
   "outputs": [
    {
     "name": "stdout",
     "output_type": "stream",
     "text": [
      "Percent presence in y_train: 17.23%\n",
      "Percent presence in y_valid: 13.29%\n",
      "Percent presence in y_test: 12.54%\n"
     ]
    }
   ],
   "source": [
    "util.print_percent_presence(y_train, 'y_train')\n",
    "util.print_percent_presence(y_valid, 'y_valid')\n",
    "util.print_percent_presence(y_test,  'y_test')"
   ]
  },
  {
   "cell_type": "code",
   "execution_count": 5,
   "metadata": {
    "collapsed": false
   },
   "outputs": [
    {
     "name": "stdout",
     "output_type": "stream",
     "text": [
      "Baseline accuracy if predicting \"absent\" for all cells:\n",
      "  train: 82.74\n",
      "  valid: 86.08\n",
      "  test:  87.36\n"
     ]
    }
   ],
   "source": [
    "print('Baseline accuracy if predicting \"absent\" for all cells:')\n",
    "print('  train:', 100 - 17.26)\n",
    "print('  valid:', 100 - 13.92)\n",
    "print('  test: ', 100 - 12.64)"
   ]
  },
  {
   "cell_type": "code",
   "execution_count": 6,
   "metadata": {
    "collapsed": false
   },
   "outputs": [
    {
     "data": {
      "text/plain": [
       "year                        True\n",
       "meanTemp_Annual             True\n",
       "meanTemp_AprAug             True\n",
       "meanTemp_Aug                True\n",
       "meanMinTemp_DecFeb          True\n",
       "meanMinTemp_Oct             True\n",
       "meanMinTemp_Jan             True\n",
       "meanMinTemp_Mar             True\n",
       "meanMaxTemp_Aug             True\n",
       "precip_meanAnnual           True\n",
       "precip_JunAug               True\n",
       "vegetation                  True\n",
       "precipPrevious_JunAug       True\n",
       "precip_OctSep               True\n",
       "precipPrevious_OctSep       True\n",
       "precip_growingSeason        True\n",
       "varPrecip_growingSeason    False\n",
       "elev_etopo1                 True\n",
       "lat                         True\n",
       "lon                         True\n",
       "studyArea                   True\n",
       "elev_srtm30                 True\n",
       "x                           True\n",
       "y                           True\n",
       "next_year_beetle            True\n",
       "dtype: bool"
      ]
     },
     "execution_count": 6,
     "metadata": {},
     "output_type": "execute_result"
    }
   ],
   "source": [
    "np.isfinite(X_valid).all()"
   ]
  },
  {
   "cell_type": "code",
   "execution_count": 7,
   "metadata": {
    "collapsed": false
   },
   "outputs": [
    {
     "name": "stdout",
     "output_type": "stream",
     "text": [
      "(527766, 25) (527766, 1)\n",
      "(116732, 25) (116732, 1)\n",
      "(117472, 25) (117472, 1)\n"
     ]
    }
   ],
   "source": [
    "X_train, y_train = util.drop_nans(\n",
    "    X_train, y_train, 'varPrecip_growingSeason')\n",
    "X_valid, y_valid = util.drop_nans(\n",
    "    X_valid, y_valid, 'varPrecip_growingSeason')\n",
    "X_test,  y_test  = util.drop_nans(\n",
    "    X_test,  y_test,  'varPrecip_growingSeason')"
   ]
  },
  {
   "cell_type": "code",
   "execution_count": 8,
   "metadata": {
    "collapsed": true
   },
   "outputs": [],
   "source": [
    "full_test = X_test.copy()\n",
    "full_test['beetle'] = y_test['beetle']"
   ]
  },
  {
   "cell_type": "code",
   "execution_count": 9,
   "metadata": {
    "collapsed": true
   },
   "outputs": [],
   "source": [
    "# Drop 'studyArea' from predictors (all 1 in the reduced data) and 'x' and\n",
    "# 'y' (perfectly correlated with 'lon' and 'lat')\n",
    "X_train = X_train.drop(['studyArea', 'x', 'y', 'elev_srtm30', 'year'], axis=1)\n",
    "X_valid = X_valid.drop(['studyArea', 'x', 'y', 'elev_srtm30', 'year'], axis=1)\n",
    "X_test  = X_test.drop(['studyArea',  'x', 'y', 'elev_srtm30', 'year'],  axis=1)"
   ]
  },
  {
   "cell_type": "code",
   "execution_count": 10,
   "metadata": {
    "collapsed": false
   },
   "outputs": [
    {
     "name": "stdout",
     "output_type": "stream",
     "text": [
      "['meanTemp_Annual', 'meanTemp_AprAug', 'meanTemp_Aug', 'meanMinTemp_DecFeb', 'meanMinTemp_Oct', 'meanMinTemp_Jan', 'meanMinTemp_Mar', 'meanMaxTemp_Aug', 'precip_meanAnnual', 'precip_JunAug', 'vegetation', 'precipPrevious_JunAug', 'precip_OctSep', 'precipPrevious_OctSep', 'precip_growingSeason', 'varPrecip_growingSeason', 'elev_etopo1', 'lat', 'lon', 'next_year_beetle']\n"
     ]
    }
   ],
   "source": [
    "predictors = list(X_train)\n",
    "print(predictors)"
   ]
  },
  {
   "cell_type": "code",
   "execution_count": 11,
   "metadata": {
    "collapsed": false
   },
   "outputs": [],
   "source": [
    "# Normalize data to make gradient descent more efficient\n",
    "scaler = StandardScaler()\n",
    "X_train = scaler.fit_transform(X_train)\n",
    "X_valid = scaler.transform(X_valid)\n",
    "X_test  = scaler.transform(X_test)"
   ]
  },
  {
   "cell_type": "code",
   "execution_count": 12,
   "metadata": {
    "collapsed": false
   },
   "outputs": [],
   "source": [
    "y_train = y_train['beetle'].values.reshape(-1)\n",
    "y_valid = y_valid['beetle'].values.reshape(-1)\n",
    "y_test  = y_test['beetle'].values.reshape(-1)"
   ]
  },
  {
   "cell_type": "markdown",
   "metadata": {},
   "source": [
    "# Baseline Logistic Regression \n",
    "#### With L1 (_Lasso Regression_) or L2 (_Ridge Regression_ ) Regularization\n",
    "This model will be considered the baseline for logistic regression models as it uses just the raw predictors.  After some EDA, various transformations and interaction terms will also be considered in order to improve the model."
   ]
  },
  {
   "cell_type": "code",
   "execution_count": 16,
   "metadata": {
    "collapsed": false
   },
   "outputs": [
    {
     "name": "stdout",
     "output_type": "stream",
     "text": [
      "Testing C = 0.0001; (l1) Elapsed time: 0.00 minutes\n",
      "(l2) Elapsed time: 0.01 minutes\n",
      "Testing C = 0.0005; (l1) Elapsed time: 0.01 minutes\n",
      "(l2) Elapsed time: 0.02 minutes\n",
      "Testing C = 0.001; (l1) Elapsed time: 0.03 minutes\n",
      "(l2) Elapsed time: 0.03 minutes\n",
      "Testing C = 0.005; (l1) Elapsed time: 0.07 minutes\n",
      "(l2) Elapsed time: 0.08 minutes\n",
      "Testing C = 0.01; (l1) Elapsed time: 0.14 minutes\n",
      "(l2) Elapsed time: 0.15 minutes\n",
      "Testing C = 0.05; (l1) Elapsed time: 0.34 minutes\n",
      "(l2) Elapsed time: 0.35 minutes\n",
      "Testing C = 0.1; (l1) Elapsed time: 0.46 minutes\n",
      "(l2) Elapsed time: 0.48 minutes\n",
      "Testing C = 0.5; (l1) Elapsed time: 0.65 minutes\n",
      "(l2) Elapsed time: 0.67 minutes\n",
      "Testing C = 1; (l1) Elapsed time: 0.85 minutes\n",
      "(l2) Elapsed time: 0.87 minutes\n"
     ]
    }
   ],
   "source": [
    "# Find optimal regularization via best validation-set accuracy\n",
    "l1_mods = []\n",
    "l2_mods = []\n",
    "Cs = [0.0001, 0.0005, 0.001, 0.005, 0.01, 0.05, 0.1, 0.5, 1]\n",
    "\n",
    "t0 = time.time()\n",
    "for C in Cs:\n",
    "    print('Testing C =', C, end='; ')\n",
    "    for penalty in ['l1', 'l2']:\n",
    "        print('(%s)' % penalty, end=' ')\n",
    "        logistic_clf = LogisticRegression(C=C, penalty=penalty)\n",
    "        logistic_clf.fit(X_test, y_test)\n",
    "        preds = logistic_clf.predict(X_valid)\n",
    "        accuracy = sum(y_valid == preds) / len(preds)\n",
    "        if penalty == 'l1':\n",
    "            l1_mods.append(accuracy)\n",
    "        else:\n",
    "            l2_mods.append(accuracy)\n",
    "        print('Elapsed time: %.2f minutes' % ((time.time() - t0) / 60))"
   ]
  },
  {
   "cell_type": "code",
   "execution_count": 17,
   "metadata": {
    "collapsed": false
   },
   "outputs": [
    {
     "data": {
      "image/png": "[encoded data removed]",
      "text/plain": [
       "<matplotlib.figure.Figure at 0x104ee0320>"
      ]
     },
     "metadata": {},
     "output_type": "display_data"
    }
   ],
   "source": [
    "plt.plot(Cs, l1_mods, label='L1 Reg.');\n",
    "plt.plot(Cs, l2_mods, label='L2 Reg.');\n",
    "plt.xscale('log');\n",
    "plt.xlabel('C');\n",
    "plt.ylabel('Accuracy');\n",
    "plt.legend(loc='best');"
   ]
  },
  {
   "cell_type": "code",
   "execution_count": 18,
   "metadata": {
    "collapsed": false
   },
   "outputs": [
    {
     "name": "stdout",
     "output_type": "stream",
     "text": [
      "[0.92917109275948329, 0.9292910255970942, 0.92938525854093135, 0.92965082410992705, 0.92968509063495874, 0.92598430593153547, 0.92314018435390466, 0.92056162834526956, 0.92027036288250008]\n",
      "[0.92924819244080459, 0.92931672549086797, 0.92932529212212589, 0.93005345577904941, 0.92939382517218927, 0.92706370147003392, 0.92540177500599663, 0.9214525579960936, 0.92070726107665424]\n"
     ]
    }
   ],
   "source": [
    "print(l1_mods)\n",
    "print(l2_mods)"
   ]
  },
  {
   "cell_type": "code",
   "execution_count": 19,
   "metadata": {
    "collapsed": false
   },
   "outputs": [
    {
     "data": {
      "text/plain": [
       "0.93199230454916915"
      ]
     },
     "execution_count": 19,
     "metadata": {},
     "output_type": "execute_result"
    }
   ],
   "source": [
    "logistic_clf = LogisticRegression(C=0.005, penalty='l2')\n",
    "logistic_clf.fit(X_train, y_train)\n",
    "preds = logistic_clf.predict(X_test)\n",
    "accuracy = sum(y_test == preds) / len(preds)\n",
    "accuracy"
   ]
  },
  {
   "cell_type": "code",
   "execution_count": 20,
   "metadata": {
    "collapsed": true
   },
   "outputs": [],
   "source": [
    "def get_predictions_at_threshold(pred_ps, threshold):\n",
    "    return 1 * (pred_ps >= threshold)\n",
    "\n",
    "def threshold_plot(pred_ps, targets):\n",
    "    thresholds = np.linspace(0, 1, 500)\n",
    "    accuracies = []\n",
    "    n = len(pred_ps)\n",
    "\n",
    "    for threshold in thresholds:\n",
    "        preds = get_predictions_at_threshold(pred_ps, threshold)\n",
    "        accuracies.append((preds == targets).sum() / n)\n",
    "        \n",
    "    plt.plot(thresholds, accuracies);\n",
    "    optimal_threshold = thresholds[np.argmax(accuracies)]\n",
    "    optimal_accuracy = max(accuracies)\n",
    "    plt.plot([optimal_threshold, optimal_threshold], \n",
    "             [min(accuracies), max(accuracies)], \n",
    "             'r')\n",
    "    plt.plot([0, 1], [optimal_accuracy, optimal_accuracy], 'r')\n",
    "    plt.xlabel('Threshold for predicting \"Renewal\"')\n",
    "    plt.ylabel('Accuracy')\n",
    "    plt.show()\n",
    "    return {'threshold': optimal_threshold, 'accuracy': optimal_accuracy}"
   ]
  },
  {
   "cell_type": "code",
   "execution_count": 21,
   "metadata": {
    "collapsed": false
   },
   "outputs": [
    {
     "name": "stdout",
     "output_type": "stream",
     "text": [
      "[[ 0.99780558  0.00219442]\n",
      " [ 0.99801101  0.00198899]\n",
      " [ 0.99869645  0.00130355]\n",
      " [ 0.99563067  0.00436933]\n",
      " [ 0.99584074  0.00415926]]\n"
     ]
    },
    {
     "data": {
      "image/png": "[encoded data removed]",
      "text/plain": [
       "<matplotlib.figure.Figure at 0x10bfbeac8>"
      ]
     },
     "metadata": {},
     "output_type": "display_data"
    },
    {
     "name": "stdout",
     "output_type": "stream",
     "text": [
      "{'threshold': 0.49298597194388771, 'accuracy': 0.9320263552165623}\n"
     ]
    }
   ],
   "source": [
    "pred_ps = logistic_clf.predict_proba(X_test)\n",
    "print(pred_ps[:5])\n",
    "pred_ps = np.array([p[1] for p in pred_ps])\n",
    "pred_ps[:5]\n",
    "\n",
    "THRESHOLD = 0.5\n",
    "preds = get_predictions_at_threshold(pred_ps, THRESHOLD)\n",
    "preds[:5]\n",
    "\n",
    "best_threshold = threshold_plot(pred_ps, y_test);\n",
    "print(best_threshold)"
   ]
  },
  {
   "cell_type": "code",
   "execution_count": 22,
   "metadata": {
    "collapsed": false
   },
   "outputs": [],
   "source": [
    "preds = logistic_clf.predict(X_test)"
   ]
  },
  {
   "cell_type": "code",
   "execution_count": 23,
   "metadata": {
    "collapsed": false
   },
   "outputs": [
    {
     "name": "stdout",
     "output_type": "stream",
     "text": [
      "Confusion Matrix:\n",
      "         Predicted:\n",
      "         \t1\t\t0\n",
      "Actual: 1\t10745\t\t4013\n",
      "        0\t3976\t\t98738\n",
      "Accuracy:  0.931992304549\n",
      "Precision: 0.729909652877\n",
      "Recall:    0.728079685594\n",
      "F1:        0.728993520811\n"
     ]
    }
   ],
   "source": [
    "cm = util.make_confusion_matrix(y_test, pred_ps, 0.5)\n",
    "metrics = util.get_metrics(cm)"
   ]
  },
  {
   "cell_type": "code",
   "execution_count": 24,
   "metadata": {
    "collapsed": false
   },
   "outputs": [
    {
     "name": "stdout",
     "output_type": "stream",
     "text": [
      "Confusion Matrix:\n",
      "         Predicted:\n",
      "         \t1\t\t0\n",
      "Actual: 1\t10752\t\t4006\n",
      "        0\t3979\t\t98735\n",
      "Accuracy:  0.932026355217\n",
      "Precision: 0.729889348992\n",
      "Recall:    0.728554004608\n",
      "F1:        0.729221065482\n"
     ]
    }
   ],
   "source": [
    "cm = util.make_confusion_matrix(y_test, pred_ps, 0.49298597)\n",
    "metrics = util.get_metrics(cm)"
   ]
  },
  {
   "cell_type": "code",
   "execution_count": 25,
   "metadata": {
    "collapsed": false
   },
   "outputs": [
    {
     "name": "stdout",
     "output_type": "stream",
     "text": [
      "AUC:       0.946874652267\n"
     ]
    }
   ],
   "source": [
    "auc_metrics = util.get_auc(y_test, pred_ps)"
   ]
  },
  {
   "cell_type": "code",
   "execution_count": 26,
   "metadata": {
    "collapsed": false
   },
   "outputs": [
    {
     "data": {
      "image/png": "[encoded data removed]",
      "text/plain": [
       "<matplotlib.figure.Figure at 0x10584be48>"
      ]
     },
     "metadata": {},
     "output_type": "display_data"
    }
   ],
   "source": [
    "util.plot_roc(auc_metrics['fpr'], auc_metrics['tpr'])"
   ]
  },
  {
   "cell_type": "code",
   "execution_count": 27,
   "metadata": {
    "collapsed": false
   },
   "outputs": [
    {
     "name": "stdout",
     "output_type": "stream",
     "text": [
      "20\n",
      "20\n"
     ]
    }
   ],
   "source": [
    "#predictors\n",
    "print(len(predictors))\n",
    "print(len(logistic_clf.coef_[0]))"
   ]
  },
  {
   "cell_type": "code",
   "execution_count": 28,
   "metadata": {
    "collapsed": false
   },
   "outputs": [
    {
     "data": {
      "text/html": [
       "<div>\n",
       "<style>\n",
       "    .dataframe thead tr:only-child th {\n",
       "        text-align: right;\n",
       "    }\n",
       "\n",
       "    .dataframe thead th {\n",
       "        text-align: left;\n",
       "    }\n",
       "\n",
       "    .dataframe tbody tr th {\n",
       "        vertical-align: top;\n",
       "    }\n",
       "</style>\n",
       "<table border=\"1\" class=\"dataframe\">\n",
       "  <thead>\n",
       "    <tr style=\"text-align: right;\">\n",
       "      <th></th>\n",
       "      <th>predictor</th>\n",
       "      <th>coef</th>\n",
       "    </tr>\n",
       "  </thead>\n",
       "  <tbody>\n",
       "    <tr>\n",
       "      <th>7</th>\n",
       "      <td>meanMaxTemp_Aug</td>\n",
       "      <td>1.400084</td>\n",
       "    </tr>\n",
       "    <tr>\n",
       "      <th>19</th>\n",
       "      <td>next_year_beetle</td>\n",
       "      <td>1.153036</td>\n",
       "    </tr>\n",
       "    <tr>\n",
       "      <th>10</th>\n",
       "      <td>vegetation</td>\n",
       "      <td>1.067121</td>\n",
       "    </tr>\n",
       "    <tr>\n",
       "      <th>2</th>\n",
       "      <td>meanTemp_Aug</td>\n",
       "      <td>-0.966533</td>\n",
       "    </tr>\n",
       "    <tr>\n",
       "      <th>1</th>\n",
       "      <td>meanTemp_AprAug</td>\n",
       "      <td>-0.919322</td>\n",
       "    </tr>\n",
       "    <tr>\n",
       "      <th>17</th>\n",
       "      <td>lat</td>\n",
       "      <td>0.860152</td>\n",
       "    </tr>\n",
       "    <tr>\n",
       "      <th>5</th>\n",
       "      <td>meanMinTemp_Jan</td>\n",
       "      <td>0.577589</td>\n",
       "    </tr>\n",
       "    <tr>\n",
       "      <th>16</th>\n",
       "      <td>elev_etopo1</td>\n",
       "      <td>0.509286</td>\n",
       "    </tr>\n",
       "    <tr>\n",
       "      <th>8</th>\n",
       "      <td>precip_meanAnnual</td>\n",
       "      <td>-0.409025</td>\n",
       "    </tr>\n",
       "    <tr>\n",
       "      <th>14</th>\n",
       "      <td>precip_growingSeason</td>\n",
       "      <td>0.363317</td>\n",
       "    </tr>\n",
       "    <tr>\n",
       "      <th>11</th>\n",
       "      <td>precipPrevious_JunAug</td>\n",
       "      <td>-0.256942</td>\n",
       "    </tr>\n",
       "    <tr>\n",
       "      <th>0</th>\n",
       "      <td>meanTemp_Annual</td>\n",
       "      <td>0.250810</td>\n",
       "    </tr>\n",
       "    <tr>\n",
       "      <th>15</th>\n",
       "      <td>varPrecip_growingSeason</td>\n",
       "      <td>-0.205077</td>\n",
       "    </tr>\n",
       "    <tr>\n",
       "      <th>13</th>\n",
       "      <td>precipPrevious_OctSep</td>\n",
       "      <td>0.173028</td>\n",
       "    </tr>\n",
       "    <tr>\n",
       "      <th>9</th>\n",
       "      <td>precip_JunAug</td>\n",
       "      <td>-0.159106</td>\n",
       "    </tr>\n",
       "    <tr>\n",
       "      <th>12</th>\n",
       "      <td>precip_OctSep</td>\n",
       "      <td>-0.119924</td>\n",
       "    </tr>\n",
       "    <tr>\n",
       "      <th>3</th>\n",
       "      <td>meanMinTemp_DecFeb</td>\n",
       "      <td>0.111198</td>\n",
       "    </tr>\n",
       "    <tr>\n",
       "      <th>6</th>\n",
       "      <td>meanMinTemp_Mar</td>\n",
       "      <td>0.105175</td>\n",
       "    </tr>\n",
       "    <tr>\n",
       "      <th>18</th>\n",
       "      <td>lon</td>\n",
       "      <td>-0.006131</td>\n",
       "    </tr>\n",
       "    <tr>\n",
       "      <th>4</th>\n",
       "      <td>meanMinTemp_Oct</td>\n",
       "      <td>0.000221</td>\n",
       "    </tr>\n",
       "  </tbody>\n",
       "</table>\n",
       "</div>"
      ],
      "text/plain": [
       "                  predictor      coef\n",
       "7           meanMaxTemp_Aug  1.400084\n",
       "19         next_year_beetle  1.153036\n",
       "10               vegetation  1.067121\n",
       "2              meanTemp_Aug -0.966533\n",
       "1           meanTemp_AprAug -0.919322\n",
       "17                      lat  0.860152\n",
       "5           meanMinTemp_Jan  0.577589\n",
       "16              elev_etopo1  0.509286\n",
       "8         precip_meanAnnual -0.409025\n",
       "14     precip_growingSeason  0.363317\n",
       "11    precipPrevious_JunAug -0.256942\n",
       "0           meanTemp_Annual  0.250810\n",
       "15  varPrecip_growingSeason -0.205077\n",
       "13    precipPrevious_OctSep  0.173028\n",
       "9             precip_JunAug -0.159106\n",
       "12            precip_OctSep -0.119924\n",
       "3        meanMinTemp_DecFeb  0.111198\n",
       "6           meanMinTemp_Mar  0.105175\n",
       "18                      lon -0.006131\n",
       "4           meanMinTemp_Oct  0.000221"
      ]
     },
     "execution_count": 28,
     "metadata": {},
     "output_type": "execute_result"
    }
   ],
   "source": [
    "coefs = pd.DataFrame([[pred, coef] for pred, coef in zip(predictors, logistic_clf.coef_[0])], \n",
    "                     columns=['predictor', 'coef'])\n",
    "coefs['abs'] = np.abs(coefs.coef)\n",
    "coefs = coefs.sort_values('abs', ascending=False)\n",
    "coefs = coefs.drop(['abs'], axis=1)\n",
    "coefs"
   ]
  },
  {
   "cell_type": "code",
   "execution_count": 13,
   "metadata": {
    "collapsed": true
   },
   "outputs": [],
   "source": [
    "def column2matrix(dataframe, column, cell_dim=10000):\n",
    "    '''                                                                          \n",
    "    Convert a column from DataFrame df into a matrix representation with the     \n",
    "    upper-left cell indexing beginning at [0, 0].                                \n",
    "    It is expected that the DataFrame has columns x and y.                       \n",
    "                                                                                 \n",
    "    Args:                                                                        \n",
    "    df: DataFrame: the source data                                               \n",
    "    column: string: the column name to extract                                   \n",
    "    cel_dim: numeric: the dimensions of each grid cell                           \n",
    "                                                                                 \n",
    "    Returns: np.ndarray (a 2D list; matrix)                                      \n",
    "    '''\n",
    "    df = dataframe.copy()\n",
    "    x_min = df.x.min()\n",
    "    y_min = df.y.min()\n",
    "    df.x -= x_min\n",
    "    df.y -= y_min\n",
    "    xs = sorted(df.x.unique())\n",
    "    ys = sorted(df.y.unique())\n",
    "    matrix = np.array([[np.nan for y in range(len(ys))]\n",
    "                       for x in range(len(xs))])\n",
    "\n",
    "    for row in df.index:\n",
    "        x, y, value = df.loc[row, ['x', 'y', column]]\n",
    "        i = int((x - xs[0]) / cell_dim)\n",
    "        j = int((y - ys[0]) / cell_dim)\n",
    "        matrix[i, j] = value\n",
    "\n",
    "    return matrix"
   ]
  },
  {
   "cell_type": "code",
   "execution_count": null,
   "metadata": {
    "collapsed": true
   },
   "outputs": [],
   "source": []
  }
 ],
 "metadata": {
  "kernelspec": {
   "display_name": "Python 3",
   "language": "python",
   "name": "python3"
  },
  "language_info": {
   "codemirror_mode": {
    "name": "ipython",
    "version": 3
   },
   "file_extension": ".py",
   "mimetype": "text/x-python",
   "name": "python",
   "nbconvert_exporter": "python",
   "pygments_lexer": "ipython3",
   "version": "3.6.1"
  }
 },
 "nbformat": 4,
 "nbformat_minor": 0
}
