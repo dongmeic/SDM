{
 "cells": [
  {
   "cell_type": "code",
   "execution_count": 1,
   "metadata": {
    "collapsed": false
   },
   "outputs": [],
   "source": [
    "import os\n",
    "import sys\n",
    "import time\n",
    "\n",
    "import matplotlib.pyplot as plt\n",
    "import numpy as np\n",
    "import pandas as pd\n",
    "from pylab import *\n",
    "from sklearn.linear_model import LogisticRegression, Ridge\n",
    "from sklearn.pipeline import Pipeline\n",
    "from sklearn.model_selection import GridSearchCV\n",
    "from sklearn.preprocessing import StandardScaler\n",
    "\n",
    "sys.path.append('..')\n",
    "import model_utils as util\n",
    "\n",
    "%matplotlib inline\n",
    "plt.rcParams['figure.figsize'] = 10, 8"
   ]
  },
  {
   "cell_type": "code",
   "execution_count": 55,
   "metadata": {
    "collapsed": false
   },
   "outputs": [
    {
     "data": {
      "text/plain": [
       "['X_test_full.csv',\n",
       " 'X_train_full.csv',\n",
       " 'X_valid_full.csv',\n",
       " 'y_test_full.csv',\n",
       " 'y_train_full.csv',\n",
       " 'y_valid_full.csv']"
      ]
     },
     "execution_count": 55,
     "metadata": {},
     "output_type": "execute_result"
    }
   ],
   "source": [
    "DATA_PATH =  '../../../data/cluster/year/'\n",
    "HISTORIC_DATA_PATH = '../../../data/cluster/historic/'\n",
    "[f for f in os.listdir(DATA_PATH) if 'full' in f]"
   ]
  },
  {
   "cell_type": "code",
   "execution_count": 3,
   "metadata": {
    "collapsed": false
   },
   "outputs": [
    {
     "name": "stdout",
     "output_type": "stream",
     "text": [
      "train: X (529623, 25)\t y(529623, 1)\n",
      "valid: X (117694, 25)\t y(117694, 1)\n",
      "test:  X (117694, 25)\t y(117694, 1)\n"
     ]
    }
   ],
   "source": [
    "X_train = pd.read_csv(DATA_PATH + 'X_train_full.csv')\n",
    "X_valid = pd.read_csv(DATA_PATH + 'X_valid_full.csv')\n",
    "X_test  = pd.read_csv(DATA_PATH + 'X_test_full.csv')\n",
    "y_train = pd.read_csv(DATA_PATH + 'y_train_full.csv')\n",
    "y_valid = pd.read_csv(DATA_PATH + 'y_valid_full.csv')\n",
    "y_test  = pd.read_csv(DATA_PATH + 'y_test_full.csv')\n",
    "\n",
    "X_train = X_train.drop(['Unnamed: 0'], axis=1)\n",
    "X_valid = X_valid.drop(['Unnamed: 0'], axis=1)\n",
    "X_test  = X_test.drop(['Unnamed: 0'],  axis=1)\n",
    "y_train = y_train.drop(['Unnamed: 0'], axis=1)\n",
    "y_valid = y_valid.drop(['Unnamed: 0'], axis=1)\n",
    "y_test  = y_test.drop(['Unnamed: 0'],  axis=1)\n",
    "\n",
    "\n",
    "print('train: X %s\\t y%s' % (X_train.shape, y_train.shape))\n",
    "print('valid: X %s\\t y%s' % (X_valid.shape, y_valid.shape))\n",
    "print('test:  X %s\\t y%s' % (X_test.shape,  y_test.shape))"
   ]
  },
  {
   "cell_type": "code",
   "execution_count": 4,
   "metadata": {
    "collapsed": false
   },
   "outputs": [
    {
     "name": "stdout",
     "output_type": "stream",
     "text": [
      "Percent presence in y_train: 17.23%\n",
      "Percent presence in y_valid: 13.29%\n",
      "Percent presence in y_test: 12.54%\n"
     ]
    }
   ],
   "source": [
    "util.print_percent_presence(y_train, 'y_train')\n",
    "util.print_percent_presence(y_valid, 'y_valid')\n",
    "util.print_percent_presence(y_test,  'y_test')"
   ]
  },
  {
   "cell_type": "code",
   "execution_count": 5,
   "metadata": {
    "collapsed": false
   },
   "outputs": [
    {
     "name": "stdout",
     "output_type": "stream",
     "text": [
      "Baseline accuracy if predicting \"absent\" for all cells:\n",
      "  train: 82.74\n",
      "  valid: 86.08\n",
      "  test:  87.36\n"
     ]
    }
   ],
   "source": [
    "print('Baseline accuracy if predicting \"absent\" for all cells:')\n",
    "print('  train:', 100 - 17.26)\n",
    "print('  valid:', 100 - 13.92)\n",
    "print('  test: ', 100 - 12.64)"
   ]
  },
  {
   "cell_type": "code",
   "execution_count": 6,
   "metadata": {
    "collapsed": false
   },
   "outputs": [
    {
     "data": {
      "text/plain": [
       "year                        True\n",
       "meanTemp_Annual             True\n",
       "meanTemp_AprAug             True\n",
       "meanTemp_Aug                True\n",
       "meanMinTemp_DecFeb          True\n",
       "meanMinTemp_Oct             True\n",
       "meanMinTemp_Jan             True\n",
       "meanMinTemp_Mar             True\n",
       "meanMaxTemp_Aug             True\n",
       "precip_meanAnnual           True\n",
       "precip_JunAug               True\n",
       "vegetation                  True\n",
       "precipPrevious_JunAug       True\n",
       "precip_OctSep               True\n",
       "precipPrevious_OctSep       True\n",
       "precip_growingSeason        True\n",
       "varPrecip_growingSeason    False\n",
       "elev_etopo1                 True\n",
       "lat                         True\n",
       "lon                         True\n",
       "studyArea                   True\n",
       "elev_srtm30                 True\n",
       "x                           True\n",
       "y                           True\n",
       "next_year_beetle            True\n",
       "dtype: bool"
      ]
     },
     "execution_count": 6,
     "metadata": {},
     "output_type": "execute_result"
    }
   ],
   "source": [
    "np.isfinite(X_valid).all()"
   ]
  },
  {
   "cell_type": "code",
   "execution_count": 7,
   "metadata": {
    "collapsed": false
   },
   "outputs": [
    {
     "name": "stdout",
     "output_type": "stream",
     "text": [
      "(527766, 25) (527766, 1)\n",
      "(116732, 25) (116732, 1)\n",
      "(117472, 25) (117472, 1)\n"
     ]
    }
   ],
   "source": [
    "X_train, y_train = util.drop_nans(\n",
    "    X_train, y_train, 'varPrecip_growingSeason')\n",
    "X_valid, y_valid = util.drop_nans(\n",
    "    X_valid, y_valid, 'varPrecip_growingSeason')\n",
    "X_test,  y_test  = util.drop_nans(\n",
    "    X_test,  y_test,  'varPrecip_growingSeason')"
   ]
  },
  {
   "cell_type": "code",
   "execution_count": 8,
   "metadata": {
    "collapsed": true
   },
   "outputs": [],
   "source": [
    "full_test = X_test.copy()\n",
    "full_test['beetle'] = y_test['beetle']"
   ]
  },
  {
   "cell_type": "code",
   "execution_count": 9,
   "metadata": {
    "collapsed": true
   },
   "outputs": [],
   "source": [
    "# Drop 'studyArea' from predictors (all 1 in the reduced data) and 'x' and\n",
    "# 'y' (perfectly correlated with 'lon' and 'lat')\n",
    "X_train = X_train.drop(['studyArea', 'x', 'y', 'elev_srtm30', 'year'], axis=1)\n",
    "X_valid = X_valid.drop(['studyArea', 'x', 'y', 'elev_srtm30', 'year'], axis=1)\n",
    "X_test  = X_test.drop(['studyArea',  'x', 'y', 'elev_srtm30', 'year'],  axis=1)"
   ]
  },
  {
   "cell_type": "code",
   "execution_count": 10,
   "metadata": {
    "collapsed": false
   },
   "outputs": [
    {
     "name": "stdout",
     "output_type": "stream",
     "text": [
      "['meanTemp_Annual', 'meanTemp_AprAug', 'meanTemp_Aug', 'meanMinTemp_DecFeb', 'meanMinTemp_Oct', 'meanMinTemp_Jan', 'meanMinTemp_Mar', 'meanMaxTemp_Aug', 'precip_meanAnnual', 'precip_JunAug', 'vegetation', 'precipPrevious_JunAug', 'precip_OctSep', 'precipPrevious_OctSep', 'precip_growingSeason', 'varPrecip_growingSeason', 'elev_etopo1', 'lat', 'lon', 'next_year_beetle']\n"
     ]
    }
   ],
   "source": [
    "predictors = list(X_train)\n",
    "print(predictors)"
   ]
  },
  {
   "cell_type": "code",
   "execution_count": 11,
   "metadata": {
    "collapsed": false
   },
   "outputs": [],
   "source": [
    "# Normalize data to make gradient descent more efficient\n",
    "scaler = StandardScaler()\n",
    "X_train = scaler.fit_transform(X_train)\n",
    "X_valid = scaler.transform(X_valid)\n",
    "X_test  = scaler.transform(X_test)"
   ]
  },
  {
   "cell_type": "code",
   "execution_count": 12,
   "metadata": {
    "collapsed": false
   },
   "outputs": [],
   "source": [
    "y_train = y_train['beetle'].values.reshape(-1)\n",
    "y_valid = y_valid['beetle'].values.reshape(-1)\n",
    "y_test  = y_test['beetle'].values.reshape(-1)"
   ]
  },
  {
   "cell_type": "markdown",
   "metadata": {},
   "source": [
    "# Baseline Logistic Regression \n",
    "#### With L1 (_Lasso Regression_) or L2 (_Ridge Regression_ ) Regularization\n",
    "This model will be considered the baseline for logistic regression models as it uses just the raw predictors.  After some EDA, various transformations and interaction terms will also be considered in order to improve the model."
   ]
  },
  {
   "cell_type": "code",
   "execution_count": 13,
   "metadata": {
    "collapsed": false
   },
   "outputs": [
    {
     "name": "stdout",
     "output_type": "stream",
     "text": [
      "Testing C = 0.0001; (l1) Elapsed time: 0.01 minutes\n",
      "(l2) Elapsed time: 0.05 minutes\n",
      "Testing C = 0.0005; (l1) Elapsed time: 0.07 minutes\n",
      "(l2) Elapsed time: 0.10 minutes\n",
      "Testing C = 0.001; (l1) Elapsed time: 0.12 minutes\n",
      "(l2) Elapsed time: 0.16 minutes\n",
      "Testing C = 0.005; (l1) Elapsed time: 0.26 minutes\n",
      "(l2) Elapsed time: 0.31 minutes\n",
      "Testing C = 0.01; (l1) Elapsed time: 0.60 minutes\n",
      "(l2) Elapsed time: 0.65 minutes\n",
      "Testing C = 0.05; (l1) Elapsed time: 1.19 minutes\n",
      "(l2) Elapsed time: 1.24 minutes\n",
      "Testing C = 0.1; (l1) Elapsed time: 1.76 minutes\n",
      "(l2) Elapsed time: 1.80 minutes\n",
      "Testing C = 0.5; (l1) Elapsed time: 2.41 minutes\n",
      "(l2) Elapsed time: 2.49 minutes\n",
      "Testing C = 1; (l1) Elapsed time: 3.08 minutes\n",
      "(l2) Elapsed time: 3.14 minutes\n"
     ]
    }
   ],
   "source": [
    "# Find optimal regularization via best validation-set accuracy\n",
    "l1_mods = []\n",
    "l2_mods = []\n",
    "Cs = [0.0001, 0.0005, 0.001, 0.005, 0.01, 0.05, 0.1, 0.5, 1]\n",
    "\n",
    "t0 = time.time()\n",
    "for C in Cs:\n",
    "    print('Testing C =', C, end='; ')\n",
    "    for penalty in ['l1', 'l2']:\n",
    "        print('(%s)' % penalty, end=' ')\n",
    "        logistic_clf = LogisticRegression(C=C, penalty=penalty)\n",
    "        logistic_clf.fit(X_test, y_test)\n",
    "        preds = logistic_clf.predict(X_valid)\n",
    "        accuracy = sum(y_valid == preds) / len(preds)\n",
    "        if penalty == 'l1':\n",
    "            l1_mods.append(accuracy)\n",
    "        else:\n",
    "            l2_mods.append(accuracy)\n",
    "        print('Elapsed time: %.2f minutes' % ((time.time() - t0) / 60))"
   ]
  },
  {
   "cell_type": "code",
   "execution_count": 14,
   "metadata": {
    "collapsed": false
   },
   "outputs": [
    {
     "data": {
      "image/png": "[encoded data removed]",
      "text/plain": [
       "<matplotlib.figure.Figure at 0x1099d8278>"
      ]
     },
     "metadata": {},
     "output_type": "display_data"
    }
   ],
   "source": [
    "plt.plot(Cs, l1_mods, label='L1 Reg.');\n",
    "plt.plot(Cs, l2_mods, label='L2 Reg.');\n",
    "plt.xscale('log');\n",
    "plt.xlabel('C');\n",
    "plt.ylabel('Accuracy');\n",
    "plt.legend(loc='best');"
   ]
  },
  {
   "cell_type": "code",
   "execution_count": 18,
   "metadata": {
    "collapsed": false
   },
   "outputs": [
    {
     "name": "stdout",
     "output_type": "stream",
     "text": [
      "[0.92917109275948329, 0.9292910255970942, 0.92938525854093135, 0.92965082410992705, 0.92968509063495874, 0.92598430593153547, 0.92314018435390466, 0.92056162834526956, 0.92027036288250008]\n",
      "[0.92924819244080459, 0.92931672549086797, 0.92932529212212589, 0.93005345577904941, 0.92939382517218927, 0.92706370147003392, 0.92540177500599663, 0.9214525579960936, 0.92070726107665424]\n"
     ]
    }
   ],
   "source": [
    "print(l1_mods)\n",
    "print(l2_mods)"
   ]
  },
  {
   "cell_type": "code",
   "execution_count": 15,
   "metadata": {
    "collapsed": false
   },
   "outputs": [
    {
     "name": "stdout",
     "output_type": "stream",
     "text": [
      "Testing C = 0.002; (l1) Elapsed time: 0.03 minutes\n",
      "(l2) Elapsed time: 0.06 minutes\n",
      "Testing C = 0.003; (l1) Elapsed time: 0.22 minutes\n",
      "(l2) Elapsed time: 0.27 minutes\n",
      "Testing C = 0.004; (l1) Elapsed time: 0.38 minutes\n",
      "(l2) Elapsed time: 0.43 minutes\n",
      "Testing C = 0.005; (l1) Elapsed time: 0.53 minutes\n",
      "(l2) Elapsed time: 0.56 minutes\n",
      "Testing C = 0.006; (l1) Elapsed time: 0.67 minutes\n",
      "(l2) Elapsed time: 0.71 minutes\n",
      "Testing C = 0.007; (l1) Elapsed time: 0.83 minutes\n",
      "(l2) Elapsed time: 0.87 minutes\n",
      "Testing C = 0.008; (l1) Elapsed time: 0.99 minutes\n",
      "(l2) Elapsed time: 1.03 minutes\n",
      "Testing C = 0.009; (l1) Elapsed time: 1.19 minutes\n",
      "(l2) Elapsed time: 1.22 minutes\n"
     ]
    }
   ],
   "source": [
    "# Find optimal regularization via best validation-set accuracy\n",
    "l1_mods = []\n",
    "l2_mods = []\n",
    "Cs = [0.002, 0.003, 0.004, 0.005, 0.006, 0.007, 0.008, 0.009]\n",
    "\n",
    "t0 = time.time()\n",
    "for C in Cs:\n",
    "    print('Testing C =', C, end='; ')\n",
    "    for penalty in ['l1', 'l2']:\n",
    "        print('(%s)' % penalty, end=' ')\n",
    "        logistic_clf = LogisticRegression(C=C, penalty=penalty)\n",
    "        logistic_clf.fit(X_test, y_test)\n",
    "        preds = logistic_clf.predict(X_valid)\n",
    "        accuracy = sum(y_valid == preds) / len(preds)\n",
    "        if penalty == 'l1':\n",
    "            l1_mods.append(accuracy)\n",
    "        else:\n",
    "            l2_mods.append(accuracy)\n",
    "        print('Elapsed time: %.2f minutes' % ((time.time() - t0) / 60))"
   ]
  },
  {
   "cell_type": "code",
   "execution_count": 16,
   "metadata": {
    "collapsed": false
   },
   "outputs": [
    {
     "data": {
      "image/png": "[encoded data removed]",
      "text/plain": [
       "<matplotlib.figure.Figure at 0x1112cfe80>"
      ]
     },
     "metadata": {},
     "output_type": "display_data"
    }
   ],
   "source": [
    "plt.plot(Cs, l1_mods, label='L1 Reg.');\n",
    "plt.plot(Cs, l2_mods, label='L2 Reg.');\n",
    "plt.xscale('log');\n",
    "plt.xlabel('C');\n",
    "plt.ylabel('Accuracy');\n",
    "plt.legend(loc='best');"
   ]
  },
  {
   "cell_type": "code",
   "execution_count": 17,
   "metadata": {
    "collapsed": false
   },
   "outputs": [
    {
     "name": "stdout",
     "output_type": "stream",
     "text": [
      "[0.9295565911660898, 0.9295908576911216, 0.92958229105986367, 0.92965939074118498, 0.92983072336634343, 0.9300106226227598, 0.93017338861666043, 0.92977932357879589]\n",
      "[0.92930815885961005, 0.92941095843470511, 0.92952232464105811, 0.93005345577904941, 0.93002775588527564, 0.92975362368502212, 0.92963369084741121, 0.92953945790357395]\n"
     ]
    }
   ],
   "source": [
    "print(l1_mods)\n",
    "print(l2_mods)"
   ]
  },
  {
   "cell_type": "code",
   "execution_count": 18,
   "metadata": {
    "collapsed": false
   },
   "outputs": [
    {
     "data": {
      "text/plain": [
       "0.9320263552165623"
      ]
     },
     "execution_count": 18,
     "metadata": {},
     "output_type": "execute_result"
    }
   ],
   "source": [
    "logistic_clf = LogisticRegression(C=0.008, penalty='l1')\n",
    "logistic_clf.fit(X_train, y_train)\n",
    "preds = logistic_clf.predict(X_test)\n",
    "accuracy = sum(y_test == preds) / len(preds)\n",
    "accuracy"
   ]
  },
  {
   "cell_type": "code",
   "execution_count": 19,
   "metadata": {
    "collapsed": true
   },
   "outputs": [],
   "source": [
    "def get_predictions_at_threshold(pred_ps, threshold):\n",
    "    return 1 * (pred_ps >= threshold)\n",
    "\n",
    "def threshold_plot(pred_ps, targets):\n",
    "    thresholds = np.linspace(0, 1, 500)\n",
    "    accuracies = []\n",
    "    n = len(pred_ps)\n",
    "\n",
    "    for threshold in thresholds:\n",
    "        preds = get_predictions_at_threshold(pred_ps, threshold)\n",
    "        accuracies.append((preds == targets).sum() / n)\n",
    "        \n",
    "    plt.plot(thresholds, accuracies);\n",
    "    optimal_threshold = thresholds[np.argmax(accuracies)]\n",
    "    optimal_accuracy = max(accuracies)\n",
    "    plt.plot([optimal_threshold, optimal_threshold], \n",
    "             [min(accuracies), max(accuracies)], \n",
    "             'r')\n",
    "    plt.plot([0, 1], [optimal_accuracy, optimal_accuracy], 'r')\n",
    "    plt.xlabel('Threshold for predicting \"Renewal\"')\n",
    "    plt.ylabel('Accuracy')\n",
    "    plt.show()\n",
    "    return {'threshold': optimal_threshold, 'accuracy': optimal_accuracy}"
   ]
  },
  {
   "cell_type": "code",
   "execution_count": 20,
   "metadata": {
    "collapsed": false
   },
   "outputs": [
    {
     "name": "stdout",
     "output_type": "stream",
     "text": [
      "[[  9.98470472e-01   1.52952822e-03]\n",
      " [  9.98607746e-01   1.39225377e-03]\n",
      " [  9.99036991e-01   9.63008768e-04]\n",
      " [  9.96796777e-01   3.20322277e-03]\n",
      " [  9.96858481e-01   3.14151945e-03]]\n"
     ]
    },
    {
     "data": {
      "image/png": "[encoded data removed]",
      "text/plain": [
       "<matplotlib.figure.Figure at 0x111fc3358>"
      ]
     },
     "metadata": {},
     "output_type": "display_data"
    },
    {
     "name": "stdout",
     "output_type": "stream",
     "text": [
      "{'threshold': 0.46092184368737471, 'accuracy': 0.93209445655134837}\n"
     ]
    }
   ],
   "source": [
    "pred_ps = logistic_clf.predict_proba(X_test)\n",
    "print(pred_ps[:5])\n",
    "pred_ps = np.array([p[1] for p in pred_ps])\n",
    "pred_ps[:5]\n",
    "\n",
    "THRESHOLD = 0.5\n",
    "preds = get_predictions_at_threshold(pred_ps, THRESHOLD)\n",
    "preds[:5]\n",
    "\n",
    "best_threshold = threshold_plot(pred_ps, y_test);\n",
    "print(best_threshold)"
   ]
  },
  {
   "cell_type": "code",
   "execution_count": 21,
   "metadata": {
    "collapsed": false
   },
   "outputs": [],
   "source": [
    "preds = logistic_clf.predict(X_test)"
   ]
  },
  {
   "cell_type": "code",
   "execution_count": 22,
   "metadata": {
    "collapsed": false
   },
   "outputs": [
    {
     "name": "stdout",
     "output_type": "stream",
     "text": [
      "Confusion Matrix:\n",
      "         Predicted:\n",
      "         \t1\t\t0\n",
      "Actual: 1\t10754\t\t4004\n",
      "        0\t3981\t\t98733\n",
      "Accuracy:  0.932026355217\n",
      "Precision: 0.729826942654\n",
      "Recall:    0.728689524326\n",
      "F1:        0.729257789984\n"
     ]
    }
   ],
   "source": [
    "cm = util.make_confusion_matrix(y_test, pred_ps, 0.5)\n",
    "metrics = util.get_metrics(cm)"
   ]
  },
  {
   "cell_type": "code",
   "execution_count": 23,
   "metadata": {
    "collapsed": false
   },
   "outputs": [
    {
     "name": "stdout",
     "output_type": "stream",
     "text": [
      "Confusion Matrix:\n",
      "         Predicted:\n",
      "         \t1\t\t0\n",
      "Actual: 1\t10818\t\t3940\n",
      "        0\t4037\t\t98677\n",
      "Accuracy:  0.932094456551\n",
      "Precision: 0.72823964995\n",
      "Recall:    0.733026155306\n",
      "F1:        0.730625063317\n"
     ]
    }
   ],
   "source": [
    "cm = util.make_confusion_matrix(y_test, pred_ps, 0.46092184368737471)\n",
    "metrics = util.get_metrics(cm)"
   ]
  },
  {
   "cell_type": "code",
   "execution_count": 24,
   "metadata": {
    "collapsed": false
   },
   "outputs": [
    {
     "name": "stdout",
     "output_type": "stream",
     "text": [
      "AUC:       0.947320010033\n"
     ]
    }
   ],
   "source": [
    "auc_metrics = util.get_auc(y_test, pred_ps)"
   ]
  },
  {
   "cell_type": "code",
   "execution_count": 25,
   "metadata": {
    "collapsed": false
   },
   "outputs": [
    {
     "data": {
      "image/png": "[encoded data removed]",
      "text/plain": [
       "<matplotlib.figure.Figure at 0x111f9a2b0>"
      ]
     },
     "metadata": {},
     "output_type": "display_data"
    }
   ],
   "source": [
    "util.plot_roc(auc_metrics['fpr'], auc_metrics['tpr'])"
   ]
  },
  {
   "cell_type": "code",
   "execution_count": 26,
   "metadata": {
    "collapsed": false
   },
   "outputs": [
    {
     "data": {
      "text/html": [
       "<div>\n",
       "<style>\n",
       "    .dataframe thead tr:only-child th {\n",
       "        text-align: right;\n",
       "    }\n",
       "\n",
       "    .dataframe thead th {\n",
       "        text-align: left;\n",
       "    }\n",
       "\n",
       "    .dataframe tbody tr th {\n",
       "        vertical-align: top;\n",
       "    }\n",
       "</style>\n",
       "<table border=\"1\" class=\"dataframe\">\n",
       "  <thead>\n",
       "    <tr style=\"text-align: right;\">\n",
       "      <th></th>\n",
       "      <th>predictor</th>\n",
       "      <th>coef</th>\n",
       "    </tr>\n",
       "  </thead>\n",
       "  <tbody>\n",
       "    <tr>\n",
       "      <th>7</th>\n",
       "      <td>meanMaxTemp_Aug</td>\n",
       "      <td>1.853048</td>\n",
       "    </tr>\n",
       "    <tr>\n",
       "      <th>2</th>\n",
       "      <td>meanTemp_Aug</td>\n",
       "      <td>-1.423677</td>\n",
       "    </tr>\n",
       "    <tr>\n",
       "      <th>19</th>\n",
       "      <td>next_year_beetle</td>\n",
       "      <td>1.154666</td>\n",
       "    </tr>\n",
       "    <tr>\n",
       "      <th>10</th>\n",
       "      <td>vegetation</td>\n",
       "      <td>1.107910</td>\n",
       "    </tr>\n",
       "    <tr>\n",
       "      <th>17</th>\n",
       "      <td>lat</td>\n",
       "      <td>0.914469</td>\n",
       "    </tr>\n",
       "    <tr>\n",
       "      <th>1</th>\n",
       "      <td>meanTemp_AprAug</td>\n",
       "      <td>-0.864096</td>\n",
       "    </tr>\n",
       "    <tr>\n",
       "      <th>5</th>\n",
       "      <td>meanMinTemp_Jan</td>\n",
       "      <td>0.661427</td>\n",
       "    </tr>\n",
       "    <tr>\n",
       "      <th>16</th>\n",
       "      <td>elev_etopo1</td>\n",
       "      <td>0.512205</td>\n",
       "    </tr>\n",
       "    <tr>\n",
       "      <th>8</th>\n",
       "      <td>precip_meanAnnual</td>\n",
       "      <td>-0.369315</td>\n",
       "    </tr>\n",
       "    <tr>\n",
       "      <th>14</th>\n",
       "      <td>precip_growingSeason</td>\n",
       "      <td>0.310085</td>\n",
       "    </tr>\n",
       "    <tr>\n",
       "      <th>11</th>\n",
       "      <td>precipPrevious_JunAug</td>\n",
       "      <td>-0.275213</td>\n",
       "    </tr>\n",
       "    <tr>\n",
       "      <th>15</th>\n",
       "      <td>varPrecip_growingSeason</td>\n",
       "      <td>-0.194405</td>\n",
       "    </tr>\n",
       "    <tr>\n",
       "      <th>0</th>\n",
       "      <td>meanTemp_Annual</td>\n",
       "      <td>0.166594</td>\n",
       "    </tr>\n",
       "    <tr>\n",
       "      <th>9</th>\n",
       "      <td>precip_JunAug</td>\n",
       "      <td>-0.105200</td>\n",
       "    </tr>\n",
       "    <tr>\n",
       "      <th>4</th>\n",
       "      <td>meanMinTemp_Oct</td>\n",
       "      <td>0.102210</td>\n",
       "    </tr>\n",
       "    <tr>\n",
       "      <th>6</th>\n",
       "      <td>meanMinTemp_Mar</td>\n",
       "      <td>0.083198</td>\n",
       "    </tr>\n",
       "    <tr>\n",
       "      <th>13</th>\n",
       "      <td>precipPrevious_OctSep</td>\n",
       "      <td>0.070214</td>\n",
       "    </tr>\n",
       "    <tr>\n",
       "      <th>3</th>\n",
       "      <td>meanMinTemp_DecFeb</td>\n",
       "      <td>0.040989</td>\n",
       "    </tr>\n",
       "    <tr>\n",
       "      <th>12</th>\n",
       "      <td>precip_OctSep</td>\n",
       "      <td>0.000000</td>\n",
       "    </tr>\n",
       "    <tr>\n",
       "      <th>18</th>\n",
       "      <td>lon</td>\n",
       "      <td>0.000000</td>\n",
       "    </tr>\n",
       "  </tbody>\n",
       "</table>\n",
       "</div>"
      ],
      "text/plain": [
       "                  predictor      coef\n",
       "7           meanMaxTemp_Aug  1.853048\n",
       "2              meanTemp_Aug -1.423677\n",
       "19         next_year_beetle  1.154666\n",
       "10               vegetation  1.107910\n",
       "17                      lat  0.914469\n",
       "1           meanTemp_AprAug -0.864096\n",
       "5           meanMinTemp_Jan  0.661427\n",
       "16              elev_etopo1  0.512205\n",
       "8         precip_meanAnnual -0.369315\n",
       "14     precip_growingSeason  0.310085\n",
       "11    precipPrevious_JunAug -0.275213\n",
       "15  varPrecip_growingSeason -0.194405\n",
       "0           meanTemp_Annual  0.166594\n",
       "9             precip_JunAug -0.105200\n",
       "4           meanMinTemp_Oct  0.102210\n",
       "6           meanMinTemp_Mar  0.083198\n",
       "13    precipPrevious_OctSep  0.070214\n",
       "3        meanMinTemp_DecFeb  0.040989\n",
       "12            precip_OctSep  0.000000\n",
       "18                      lon  0.000000"
      ]
     },
     "execution_count": 26,
     "metadata": {},
     "output_type": "execute_result"
    }
   ],
   "source": [
    "coefs = pd.DataFrame([[pred, coef] for pred, coef in zip(predictors, logistic_clf.coef_[0])], \n",
    "                     columns=['predictor', 'coef'])\n",
    "coefs['abs'] = np.abs(coefs.coef)\n",
    "coefs = coefs.sort_values('abs', ascending=False)\n",
    "coefs = coefs.drop(['abs'], axis=1)\n",
    "coefs"
   ]
  },
  {
   "cell_type": "code",
   "execution_count": 27,
   "metadata": {
    "collapsed": true
   },
   "outputs": [],
   "source": [
    "def column2matrix(dataframe, column, cell_dim=10000):\n",
    "    '''                                                                          \n",
    "    Convert a column from DataFrame df into a matrix representation with the     \n",
    "    upper-left cell indexing beginning at [0, 0].                                \n",
    "    It is expected that the DataFrame has columns x and y.                       \n",
    "                                                                                 \n",
    "    Args:                                                                        \n",
    "    df: DataFrame: the source data                                               \n",
    "    column: string: the column name to extract                                   \n",
    "    cel_dim: numeric: the dimensions of each grid cell                           \n",
    "                                                                                 \n",
    "    Returns: np.ndarray (a 2D list; matrix)                                      \n",
    "    '''\n",
    "    df = dataframe.copy()\n",
    "    x_min = df.x.min()\n",
    "    y_min = df.y.min()\n",
    "    df.x -= x_min\n",
    "    df.y -= y_min\n",
    "    xs = sorted(df.x.unique())\n",
    "    ys = sorted(df.y.unique())\n",
    "    matrix = np.array([[np.nan for y in range(len(ys))]\n",
    "                       for x in range(len(xs))])\n",
    "\n",
    "    for row in df.index:\n",
    "        x, y, value = df.loc[row, ['x', 'y', column]]\n",
    "        i = int((x - xs[0]) / cell_dim)\n",
    "        j = int((y - ys[0]) / cell_dim)\n",
    "        matrix[i, j] = value\n",
    "\n",
    "    return matrix"
   ]
  },
  {
   "cell_type": "code",
   "execution_count": 28,
   "metadata": {
    "collapsed": false
   },
   "outputs": [
    {
     "data": {
      "text/html": [
       "<div>\n",
       "<style>\n",
       "    .dataframe thead tr:only-child th {\n",
       "        text-align: right;\n",
       "    }\n",
       "\n",
       "    .dataframe thead th {\n",
       "        text-align: left;\n",
       "    }\n",
       "\n",
       "    .dataframe tbody tr th {\n",
       "        vertical-align: top;\n",
       "    }\n",
       "</style>\n",
       "<table border=\"1\" class=\"dataframe\">\n",
       "  <thead>\n",
       "    <tr style=\"text-align: right;\">\n",
       "      <th></th>\n",
       "      <th>year</th>\n",
       "      <th>meanTemp_Annual</th>\n",
       "      <th>meanTemp_AprAug</th>\n",
       "      <th>meanTemp_Aug</th>\n",
       "      <th>meanMinTemp_DecFeb</th>\n",
       "      <th>meanMinTemp_Oct</th>\n",
       "      <th>meanMinTemp_Jan</th>\n",
       "      <th>meanMinTemp_Mar</th>\n",
       "      <th>meanMaxTemp_Aug</th>\n",
       "      <th>precip_meanAnnual</th>\n",
       "      <th>...</th>\n",
       "      <th>elev_etopo1</th>\n",
       "      <th>lat</th>\n",
       "      <th>lon</th>\n",
       "      <th>studyArea</th>\n",
       "      <th>elev_srtm30</th>\n",
       "      <th>x</th>\n",
       "      <th>y</th>\n",
       "      <th>next_year_beetle</th>\n",
       "      <th>beetle</th>\n",
       "      <th>preds</th>\n",
       "    </tr>\n",
       "  </thead>\n",
       "  <tbody>\n",
       "    <tr>\n",
       "      <th>0</th>\n",
       "      <td>2000</td>\n",
       "      <td>17.057845</td>\n",
       "      <td>18.892138</td>\n",
       "      <td>21.608865</td>\n",
       "      <td>4.831345</td>\n",
       "      <td>10.825336</td>\n",
       "      <td>6.119776</td>\n",
       "      <td>7.627907</td>\n",
       "      <td>27.147665</td>\n",
       "      <td>7.199924</td>\n",
       "      <td>...</td>\n",
       "      <td>52</td>\n",
       "      <td>30.505152</td>\n",
       "      <td>-116.039726</td>\n",
       "      <td>1</td>\n",
       "      <td>-2</td>\n",
       "      <td>-1550000.0</td>\n",
       "      <td>-2000000.0</td>\n",
       "      <td>0</td>\n",
       "      <td>0</td>\n",
       "      <td>0</td>\n",
       "    </tr>\n",
       "    <tr>\n",
       "      <th>1</th>\n",
       "      <td>2000</td>\n",
       "      <td>17.254652</td>\n",
       "      <td>19.109267</td>\n",
       "      <td>21.808772</td>\n",
       "      <td>5.056313</td>\n",
       "      <td>11.052817</td>\n",
       "      <td>6.231007</td>\n",
       "      <td>7.827016</td>\n",
       "      <td>27.346988</td>\n",
       "      <td>6.621443</td>\n",
       "      <td>...</td>\n",
       "      <td>17</td>\n",
       "      <td>30.523203</td>\n",
       "      <td>-115.938118</td>\n",
       "      <td>1</td>\n",
       "      <td>17</td>\n",
       "      <td>-1540000.0</td>\n",
       "      <td>-2000000.0</td>\n",
       "      <td>0</td>\n",
       "      <td>0</td>\n",
       "      <td>0</td>\n",
       "    </tr>\n",
       "    <tr>\n",
       "      <th>2</th>\n",
       "      <td>2000</td>\n",
       "      <td>17.676624</td>\n",
       "      <td>19.746520</td>\n",
       "      <td>22.608925</td>\n",
       "      <td>4.883052</td>\n",
       "      <td>11.081191</td>\n",
       "      <td>6.041158</td>\n",
       "      <td>7.776271</td>\n",
       "      <td>28.596847</td>\n",
       "      <td>6.506222</td>\n",
       "      <td>...</td>\n",
       "      <td>151</td>\n",
       "      <td>30.541141</td>\n",
       "      <td>-115.836475</td>\n",
       "      <td>1</td>\n",
       "      <td>74</td>\n",
       "      <td>-1530000.0</td>\n",
       "      <td>-2000000.0</td>\n",
       "      <td>0</td>\n",
       "      <td>0</td>\n",
       "      <td>0</td>\n",
       "    </tr>\n",
       "    <tr>\n",
       "      <th>3</th>\n",
       "      <td>2000</td>\n",
       "      <td>16.558509</td>\n",
       "      <td>18.864768</td>\n",
       "      <td>22.112176</td>\n",
       "      <td>3.356400</td>\n",
       "      <td>9.556494</td>\n",
       "      <td>4.649940</td>\n",
       "      <td>6.029264</td>\n",
       "      <td>28.749263</td>\n",
       "      <td>9.937936</td>\n",
       "      <td>...</td>\n",
       "      <td>500</td>\n",
       "      <td>30.558965</td>\n",
       "      <td>-115.734797</td>\n",
       "      <td>1</td>\n",
       "      <td>466</td>\n",
       "      <td>-1520000.0</td>\n",
       "      <td>-2000000.0</td>\n",
       "      <td>0</td>\n",
       "      <td>0</td>\n",
       "      <td>0</td>\n",
       "    </tr>\n",
       "    <tr>\n",
       "      <th>4</th>\n",
       "      <td>2000</td>\n",
       "      <td>16.781979</td>\n",
       "      <td>19.328211</td>\n",
       "      <td>22.731819</td>\n",
       "      <td>3.201135</td>\n",
       "      <td>9.459611</td>\n",
       "      <td>4.256498</td>\n",
       "      <td>5.852778</td>\n",
       "      <td>29.813080</td>\n",
       "      <td>9.939182</td>\n",
       "      <td>...</td>\n",
       "      <td>564</td>\n",
       "      <td>30.576676</td>\n",
       "      <td>-115.633085</td>\n",
       "      <td>1</td>\n",
       "      <td>568</td>\n",
       "      <td>-1510000.0</td>\n",
       "      <td>-2000000.0</td>\n",
       "      <td>0</td>\n",
       "      <td>0</td>\n",
       "      <td>0</td>\n",
       "    </tr>\n",
       "  </tbody>\n",
       "</table>\n",
       "<p>5 rows × 27 columns</p>\n",
       "</div>"
      ],
      "text/plain": [
       "   year  meanTemp_Annual  meanTemp_AprAug  meanTemp_Aug  meanMinTemp_DecFeb  \\\n",
       "0  2000        17.057845        18.892138     21.608865            4.831345   \n",
       "1  2000        17.254652        19.109267     21.808772            5.056313   \n",
       "2  2000        17.676624        19.746520     22.608925            4.883052   \n",
       "3  2000        16.558509        18.864768     22.112176            3.356400   \n",
       "4  2000        16.781979        19.328211     22.731819            3.201135   \n",
       "\n",
       "   meanMinTemp_Oct  meanMinTemp_Jan  meanMinTemp_Mar  meanMaxTemp_Aug  \\\n",
       "0        10.825336         6.119776         7.627907        27.147665   \n",
       "1        11.052817         6.231007         7.827016        27.346988   \n",
       "2        11.081191         6.041158         7.776271        28.596847   \n",
       "3         9.556494         4.649940         6.029264        28.749263   \n",
       "4         9.459611         4.256498         5.852778        29.813080   \n",
       "\n",
       "   precip_meanAnnual  ...    elev_etopo1        lat         lon  studyArea  \\\n",
       "0           7.199924  ...             52  30.505152 -116.039726          1   \n",
       "1           6.621443  ...             17  30.523203 -115.938118          1   \n",
       "2           6.506222  ...            151  30.541141 -115.836475          1   \n",
       "3           9.937936  ...            500  30.558965 -115.734797          1   \n",
       "4           9.939182  ...            564  30.576676 -115.633085          1   \n",
       "\n",
       "   elev_srtm30          x          y  next_year_beetle  beetle  preds  \n",
       "0           -2 -1550000.0 -2000000.0                 0       0      0  \n",
       "1           17 -1540000.0 -2000000.0                 0       0      0  \n",
       "2           74 -1530000.0 -2000000.0                 0       0      0  \n",
       "3          466 -1520000.0 -2000000.0                 0       0      0  \n",
       "4          568 -1510000.0 -2000000.0                 0       0      0  \n",
       "\n",
       "[5 rows x 27 columns]"
      ]
     },
     "execution_count": 28,
     "metadata": {},
     "output_type": "execute_result"
    }
   ],
   "source": [
    "full_test['preds'] = preds\n",
    "full_test.head()"
   ]
  },
  {
   "cell_type": "code",
   "execution_count": 42,
   "metadata": {
    "collapsed": true
   },
   "outputs": [],
   "source": [
    "def pred_plot(actual_matrix, pred_matrix, error_matrix, year):\n",
    "    plt.subplot(131)\n",
    "    imshow(np.rot90(actual_matrix));\n",
    "    plt.title('%d Actual' % year);\n",
    "    plt.subplot(132)\n",
    "    imshow(np.rot90(pred_matrix));\n",
    "    plt.title('%d Predicted' % year);\n",
    "    plt.subplot(133)\n",
    "    imshow(np.rot90(error_matrix));\n",
    "    plt.title('%d Error' % year);"
   ]
  },
  {
   "cell_type": "code",
   "execution_count": 46,
   "metadata": {
    "collapsed": true
   },
   "outputs": [],
   "source": [
    "def make_actual_pred_and_error_matrices(data, year, plot=False):\n",
    "    data_year = data.loc[data.year == year, :]\n",
    "    actual_matrix = column2matrix(data_year, 'beetle')\n",
    "    pred_matrix   = column2matrix(data_year, 'preds')\n",
    "    error_matrix  = pred_matrix - actual_matrix\n",
    "    \n",
    "    if plot:\n",
    "        pred_plot(actual_matrix, pred_matrix, error_matrix, year)\n",
    "        \n",
    "    return actual_matrix, pred_matrix, error_matrix"
   ]
  },
  {
   "cell_type": "code",
   "execution_count": 47,
   "metadata": {
    "collapsed": false
   },
   "outputs": [
    {
     "data": {
      "image/png": "[encoded data removed]",
      "text/plain": [
       "<matplotlib.figure.Figure at 0x113ecdeb8>"
      ]
     },
     "metadata": {},
     "output_type": "display_data"
    },
    {
     "data": {
      "image/png": "[encoded data removed]",
      "text/plain": [
       "<matplotlib.figure.Figure at 0x111f84400>"
      ]
     },
     "metadata": {},
     "output_type": "display_data"
    }
   ],
   "source": [
    "pred_years = [2000, 2001]\n",
    "for year in pred_years:\n",
    "    plt.figure();\n",
    "    make_actual_pred_and_error_matrices(full_test, year, plot=True)"
   ]
  },
  {
   "cell_type": "code",
   "execution_count": 58,
   "metadata": {
    "collapsed": false
   },
   "outputs": [
    {
     "data": {
      "text/plain": [
       "['.DS_Store', 'clean_1998.csv', 'clean_1999.csv']"
      ]
     },
     "execution_count": 58,
     "metadata": {},
     "output_type": "execute_result"
    }
   ],
   "source": [
    "os.listdir(HISTORIC_DATA_PATH)"
   ]
  },
  {
   "cell_type": "code",
   "execution_count": 240,
   "metadata": {
    "collapsed": false
   },
   "outputs": [],
   "source": [
    "def get_ranges(data, verbose=False):\n",
    "    xrange = data.x.min(), data.x.max()\n",
    "    yrange = data.y.min(), data.y.max()\n",
    "    if verbose:\n",
    "        print('x range:', xrange, '\\ny range:', yrange)\n",
    "    return xrange, yrange"
   ]
  },
  {
   "cell_type": "code",
   "execution_count": 287,
   "metadata": {
    "collapsed": false
   },
   "outputs": [
    {
     "name": "stdout",
     "output_type": "stream",
     "text": [
      "x range: (-2070000.0, -200000.0) \n",
      "y range: (-2000000.0, 1520000.0)\n"
     ]
    }
   ],
   "source": [
    "x_range, y_range = get_ranges(full_test, verbose=True)"
   ]
  },
  {
   "cell_type": "code",
   "execution_count": 288,
   "metadata": {
    "collapsed": true
   },
   "outputs": [],
   "source": [
    "def mask_data(data, xrange, yrange, verbose=False):\n",
    "    if verbose:\n",
    "        print('Input data:')\n",
    "        print_ranges(data)\n",
    "    data = data.loc[(data.x >= xrange[0])\n",
    "                    & (data.x <= xrange[1])\n",
    "                    & (data.y >= yrange[0])\n",
    "                    & (data.y <= yrange[1]), :]\n",
    "    if verbose:\n",
    "        print('Output data:')\n",
    "        print_ranges(data)\n",
    "    return data"
   ]
  },
  {
   "cell_type": "code",
   "execution_count": 289,
   "metadata": {
    "collapsed": true
   },
   "outputs": [],
   "source": [
    "def drop_nans(data, field, verbose=False):\n",
    "    X = data.copy()\n",
    "    X = X.loc[np.isnan(X[field]) == False, :]\n",
    "    if verbose:\n",
    "        print(X.shape, y.shape)\n",
    "    return X"
   ]
  },
  {
   "cell_type": "code",
   "execution_count": 290,
   "metadata": {
    "collapsed": false
   },
   "outputs": [
    {
     "name": "stdout",
     "output_type": "stream",
     "text": [
      "Input data:\n",
      "x range: (-5730000.0, 5000000.0) \n",
      "y range: (-4510000.0, 4480000.0)\n",
      "Output data:\n",
      "x range: (-2070000.0, -200000.0) \n",
      "y range: (-2000000.0, 1520000.0)\n"
     ]
    }
   ],
   "source": [
    "historic_years = range(1998, 2000)\n",
    "year = 1999 # <- !\n",
    "next_year_data = full_test.loc[full_test.year == 2000, :]\n",
    "\n",
    "hist_data = pd.read_csv(HISTORIC_DATA_PATH + 'clean_%d.csv' % year) \n",
    "hist_data = mask_data(hist_data, xrange, yrange, verbose=True)"
   ]
  },
  {
   "cell_type": "code",
   "execution_count": 208,
   "metadata": {
    "collapsed": false
   },
   "outputs": [
    {
     "data": {
      "image/png": "[encoded data removed]",
      "text/plain": [
       "<matplotlib.figure.Figure at 0x109a14fd0>"
      ]
     },
     "metadata": {},
     "output_type": "display_data"
    }
   ],
   "source": [
    "imshow(np.rot90(column2matrix(next_year_data, 'beetle')));"
   ]
  },
  {
   "cell_type": "code",
   "execution_count": 257,
   "metadata": {
    "collapsed": false
   },
   "outputs": [],
   "source": [
    "xy = next_year_data.apply(\n",
    "    lambda row: str(row['x']) + str(row['y']), axis=1)"
   ]
  },
  {
   "cell_type": "code",
   "execution_count": 210,
   "metadata": {
    "collapsed": true
   },
   "outputs": [],
   "source": [
    "def find_extra_rows(data, xy):\n",
    "    remove = []\n",
    "    for row in data.index:\n",
    "        data_xy = str(data.loc[row, 'x']) + str(data.loc[row, 'y'])\n",
    "        if data_xy not in list(xy):\n",
    "            remove.append(row)\n",
    "    return remove"
   ]
  },
  {
   "cell_type": "code",
   "execution_count": 211,
   "metadata": {
    "collapsed": false
   },
   "outputs": [
    {
     "data": {
      "text/plain": [
       "91"
      ]
     },
     "execution_count": 211,
     "metadata": {},
     "output_type": "execute_result"
    }
   ],
   "source": [
    "extras = find_extra_rows(hist_data, xy)\n",
    "len(extras)"
   ]
  },
  {
   "cell_type": "code",
   "execution_count": 291,
   "metadata": {
    "collapsed": false
   },
   "outputs": [
    {
     "name": "stdout",
     "output_type": "stream",
     "text": [
      "(58756, 27)\n"
     ]
    }
   ],
   "source": [
    "hist_data = hist_data.drop(extras, axis=0)\n",
    "hist_data = hist_data.rename(\n",
    "    columns={'precipPreious_OctSep': 'precipPrevious_OctSep'})\n",
    "print(next_year_data.shape)"
   ]
  },
  {
   "cell_type": "code",
   "execution_count": 292,
   "metadata": {
    "collapsed": true
   },
   "outputs": [],
   "source": [
    "assert list(hist_data.x) == list(next_year_data.x)\n",
    "assert list(hist_data.y) == list(next_year_data.y)"
   ]
  },
  {
   "cell_type": "code",
   "execution_count": 293,
   "metadata": {
    "collapsed": true
   },
   "outputs": [],
   "source": [
    "hist_data.index = next_year_data.index"
   ]
  },
  {
   "cell_type": "code",
   "execution_count": 294,
   "metadata": {
    "collapsed": false
   },
   "outputs": [
    {
     "name": "stdout",
     "output_type": "stream",
     "text": [
      "(58756, 22)\n",
      "58756\n"
     ]
    }
   ],
   "source": [
    "print(hist_data.shape)\n",
    "print(len(next_year_data['beetle']))"
   ]
  },
  {
   "cell_type": "code",
   "execution_count": 295,
   "metadata": {
    "collapsed": false
   },
   "outputs": [],
   "source": [
    "#list(hist_data)"
   ]
  },
  {
   "cell_type": "code",
   "execution_count": 296,
   "metadata": {
    "collapsed": false
   },
   "outputs": [
    {
     "data": {
      "text/html": [
       "<div>\n",
       "<style>\n",
       "    .dataframe thead tr:only-child th {\n",
       "        text-align: right;\n",
       "    }\n",
       "\n",
       "    .dataframe thead th {\n",
       "        text-align: left;\n",
       "    }\n",
       "\n",
       "    .dataframe tbody tr th {\n",
       "        vertical-align: top;\n",
       "    }\n",
       "</style>\n",
       "<table border=\"1\" class=\"dataframe\">\n",
       "  <thead>\n",
       "    <tr style=\"text-align: right;\">\n",
       "      <th></th>\n",
       "      <th>meanTemp_Annual</th>\n",
       "      <th>meanTemp_AprAug</th>\n",
       "      <th>meanTemp_Aug</th>\n",
       "      <th>meanMinTemp_DecFeb</th>\n",
       "      <th>meanMinTemp_Oct</th>\n",
       "      <th>meanMinTemp_Jan</th>\n",
       "      <th>meanMinTemp_Mar</th>\n",
       "      <th>meanMaxTemp_Aug</th>\n",
       "      <th>precip_meanAnnual</th>\n",
       "      <th>precip_JunAug</th>\n",
       "      <th>vegetation</th>\n",
       "      <th>precipPrevious_JunAug</th>\n",
       "      <th>precip_OctSep</th>\n",
       "      <th>precipPrevious_OctSep</th>\n",
       "      <th>precip_growingSeason</th>\n",
       "      <th>varPrecip_growingSeason</th>\n",
       "      <th>elev_etopo1</th>\n",
       "      <th>lat</th>\n",
       "      <th>lon</th>\n",
       "      <th>next_year_beetle</th>\n",
       "    </tr>\n",
       "  </thead>\n",
       "  <tbody>\n",
       "    <tr>\n",
       "      <th>0</th>\n",
       "      <td>15.602269</td>\n",
       "      <td>17.043553</td>\n",
       "      <td>20.450920</td>\n",
       "      <td>4.002154</td>\n",
       "      <td>8.870124</td>\n",
       "      <td>5.713369</td>\n",
       "      <td>6.440989</td>\n",
       "      <td>26.268693</td>\n",
       "      <td>3.569788</td>\n",
       "      <td>4.673908</td>\n",
       "      <td>0</td>\n",
       "      <td>2.262533</td>\n",
       "      <td>273.108611</td>\n",
       "      <td>230.271149</td>\n",
       "      <td>11.946349</td>\n",
       "      <td>1.423028</td>\n",
       "      <td>52</td>\n",
       "      <td>30.505152</td>\n",
       "      <td>-116.039726</td>\n",
       "      <td>0</td>\n",
       "    </tr>\n",
       "    <tr>\n",
       "      <th>1</th>\n",
       "      <td>15.802161</td>\n",
       "      <td>17.255634</td>\n",
       "      <td>20.671149</td>\n",
       "      <td>4.107497</td>\n",
       "      <td>9.086548</td>\n",
       "      <td>5.811246</td>\n",
       "      <td>6.670581</td>\n",
       "      <td>26.478177</td>\n",
       "      <td>2.620590</td>\n",
       "      <td>2.958697</td>\n",
       "      <td>0</td>\n",
       "      <td>2.033822</td>\n",
       "      <td>256.542815</td>\n",
       "      <td>225.095741</td>\n",
       "      <td>10.556525</td>\n",
       "      <td>1.448678</td>\n",
       "      <td>17</td>\n",
       "      <td>30.523203</td>\n",
       "      <td>-115.938118</td>\n",
       "      <td>0</td>\n",
       "    </tr>\n",
       "    <tr>\n",
       "      <th>2</th>\n",
       "      <td>16.227222</td>\n",
       "      <td>17.887257</td>\n",
       "      <td>21.491630</td>\n",
       "      <td>3.915923</td>\n",
       "      <td>9.103102</td>\n",
       "      <td>5.610222</td>\n",
       "      <td>6.650329</td>\n",
       "      <td>27.738199</td>\n",
       "      <td>2.159113</td>\n",
       "      <td>6.173574</td>\n",
       "      <td>0</td>\n",
       "      <td>3.768936</td>\n",
       "      <td>248.747855</td>\n",
       "      <td>222.838494</td>\n",
       "      <td>9.174845</td>\n",
       "      <td>1.480682</td>\n",
       "      <td>151</td>\n",
       "      <td>30.541141</td>\n",
       "      <td>-115.836475</td>\n",
       "      <td>0</td>\n",
       "    </tr>\n",
       "    <tr>\n",
       "      <th>3</th>\n",
       "      <td>15.110016</td>\n",
       "      <td>16.998226</td>\n",
       "      <td>21.012175</td>\n",
       "      <td>2.579276</td>\n",
       "      <td>7.565246</td>\n",
       "      <td>4.211151</td>\n",
       "      <td>4.927163</td>\n",
       "      <td>27.898682</td>\n",
       "      <td>6.515173</td>\n",
       "      <td>29.650197</td>\n",
       "      <td>0</td>\n",
       "      <td>13.457667</td>\n",
       "      <td>360.251429</td>\n",
       "      <td>282.069357</td>\n",
       "      <td>18.777443</td>\n",
       "      <td>0.944476</td>\n",
       "      <td>500</td>\n",
       "      <td>30.558965</td>\n",
       "      <td>-115.734797</td>\n",
       "      <td>0</td>\n",
       "    </tr>\n",
       "    <tr>\n",
       "      <th>4</th>\n",
       "      <td>15.321903</td>\n",
       "      <td>17.448047</td>\n",
       "      <td>21.631819</td>\n",
       "      <td>2.254531</td>\n",
       "      <td>7.451563</td>\n",
       "      <td>3.817779</td>\n",
       "      <td>4.737033</td>\n",
       "      <td>28.959027</td>\n",
       "      <td>6.309332</td>\n",
       "      <td>35.674847</td>\n",
       "      <td>0</td>\n",
       "      <td>16.249203</td>\n",
       "      <td>353.847053</td>\n",
       "      <td>278.135072</td>\n",
       "      <td>17.231169</td>\n",
       "      <td>0.887878</td>\n",
       "      <td>564</td>\n",
       "      <td>30.576676</td>\n",
       "      <td>-115.633085</td>\n",
       "      <td>0</td>\n",
       "    </tr>\n",
       "  </tbody>\n",
       "</table>\n",
       "</div>"
      ],
      "text/plain": [
       "   meanTemp_Annual  meanTemp_AprAug  meanTemp_Aug  meanMinTemp_DecFeb  \\\n",
       "0        15.602269        17.043553     20.450920            4.002154   \n",
       "1        15.802161        17.255634     20.671149            4.107497   \n",
       "2        16.227222        17.887257     21.491630            3.915923   \n",
       "3        15.110016        16.998226     21.012175            2.579276   \n",
       "4        15.321903        17.448047     21.631819            2.254531   \n",
       "\n",
       "   meanMinTemp_Oct  meanMinTemp_Jan  meanMinTemp_Mar  meanMaxTemp_Aug  \\\n",
       "0         8.870124         5.713369         6.440989        26.268693   \n",
       "1         9.086548         5.811246         6.670581        26.478177   \n",
       "2         9.103102         5.610222         6.650329        27.738199   \n",
       "3         7.565246         4.211151         4.927163        27.898682   \n",
       "4         7.451563         3.817779         4.737033        28.959027   \n",
       "\n",
       "   precip_meanAnnual  precip_JunAug  vegetation  precipPrevious_JunAug  \\\n",
       "0           3.569788       4.673908           0               2.262533   \n",
       "1           2.620590       2.958697           0               2.033822   \n",
       "2           2.159113       6.173574           0               3.768936   \n",
       "3           6.515173      29.650197           0              13.457667   \n",
       "4           6.309332      35.674847           0              16.249203   \n",
       "\n",
       "   precip_OctSep  precipPrevious_OctSep  precip_growingSeason  \\\n",
       "0     273.108611             230.271149             11.946349   \n",
       "1     256.542815             225.095741             10.556525   \n",
       "2     248.747855             222.838494              9.174845   \n",
       "3     360.251429             282.069357             18.777443   \n",
       "4     353.847053             278.135072             17.231169   \n",
       "\n",
       "   varPrecip_growingSeason  elev_etopo1        lat         lon  \\\n",
       "0                 1.423028           52  30.505152 -116.039726   \n",
       "1                 1.448678           17  30.523203 -115.938118   \n",
       "2                 1.480682          151  30.541141 -115.836475   \n",
       "3                 0.944476          500  30.558965 -115.734797   \n",
       "4                 0.887878          564  30.576676 -115.633085   \n",
       "\n",
       "   next_year_beetle  \n",
       "0                 0  \n",
       "1                 0  \n",
       "2                 0  \n",
       "3                 0  \n",
       "4                 0  "
      ]
     },
     "execution_count": 296,
     "metadata": {},
     "output_type": "execute_result"
    }
   ],
   "source": [
    "hist_data['next_year_beetle'] = next_year_data['beetle']\n",
    "#hist_essential['next_year_beetle'] = next_year_data['beetle']\n",
    "#imshow(np.rot90(column2matrix(hist_data, 'next_year_beetle')));\n",
    "hist_essentials = pd.DataFrame(hist_data[predictors[0]])\n",
    "for p in predictors[1:]:\n",
    "    hist_essentials[p] = hist_data[p]\n",
    "\n",
    "hist_essentials.head() "
   ]
  },
  {
   "cell_type": "code",
   "execution_count": 297,
   "metadata": {
    "collapsed": false
   },
   "outputs": [],
   "source": [
    "#print(hist_essential.shape)\n",
    "#hist_essential = drop_nans(hist_essential, 'next_year_beetle')\n",
    "#print(hist_essential.shape)"
   ]
  },
  {
   "cell_type": "code",
   "execution_count": 298,
   "metadata": {
    "collapsed": false
   },
   "outputs": [
    {
     "name": "stdout",
     "output_type": "stream",
     "text": [
      "['meanTemp_Annual', 'meanTemp_AprAug', 'meanTemp_Aug', 'meanMinTemp_DecFeb', 'meanMinTemp_Oct', 'meanMinTemp_Jan', 'meanMinTemp_Mar', 'meanMaxTemp_Aug', 'precip_meanAnnual', 'precip_JunAug', 'vegetation', 'precipPrevious_JunAug', 'precip_OctSep', 'precipPrevious_OctSep', 'precip_growingSeason', 'varPrecip_growingSeason', 'elev_etopo1', 'lat', 'lon', 'next_year_beetle']\n",
      "['meanTemp_Annual', 'meanTemp_AprAug', 'meanTemp_Aug', 'meanMinTemp_DecFeb', 'meanMinTemp_Oct', 'meanMinTemp_Jan', 'meanMinTemp_Mar', 'meanMaxTemp_Aug', 'precip_meanAnnual', 'precip_JunAug', 'vegetation', 'precipPrevious_JunAug', 'precip_OctSep', 'precipPrevious_OctSep', 'precip_growingSeason', 'varPrecip_growingSeason', 'elev_etopo1', 'lat', 'lon', 'next_year_beetle']\n"
     ]
    }
   ],
   "source": [
    "print(predictors)\n",
    "print(list(hist_essentials))"
   ]
  },
  {
   "cell_type": "code",
   "execution_count": 300,
   "metadata": {
    "collapsed": true
   },
   "outputs": [],
   "source": [
    "hist_essentials = scaler.fit_transform(hist_essentials)"
   ]
  },
  {
   "cell_type": "code",
   "execution_count": 301,
   "metadata": {
    "collapsed": false
   },
   "outputs": [],
   "source": [
    "hist_data['preds'] = logistic_clf.predict(hist_essentials)"
   ]
  },
  {
   "cell_type": "code",
   "execution_count": 306,
   "metadata": {
    "collapsed": false
   },
   "outputs": [
    {
     "data": {
      "image/png": "[encoded data removed]",
      "text/plain": [
       "<matplotlib.figure.Figure at 0x111141e80>"
      ]
     },
     "metadata": {},
     "output_type": "display_data"
    }
   ],
   "source": [
    "plt.subplot(121);\n",
    "imshow(np.rot90(column2matrix(hist_data, 'preds')));\n",
    "plt.title('1999');\n",
    "plt.subplot(122);\n",
    "imshow(np.rot90(column2matrix(hist_data, 'next_year_beetle')));\n",
    "plt.title('2000');"
   ]
  },
  {
   "cell_type": "code",
   "execution_count": 318,
   "metadata": {
    "collapsed": false
   },
   "outputs": [],
   "source": [
    "m_1999 = column2matrix(hist_data, 'preds')\n",
    "m_2000 = column2matrix(hist_data, 'next_year_beetle')"
   ]
  },
  {
   "cell_type": "code",
   "execution_count": 319,
   "metadata": {
    "collapsed": false
   },
   "outputs": [
    {
     "data": {
      "image/png": "[encoded data removed]",
      "text/plain": [
       "<matplotlib.figure.Figure at 0x1113ac438>"
      ]
     },
     "metadata": {},
     "output_type": "display_data"
    }
   ],
   "source": [
    "m_diff = m_2000 - m_1999\n",
    "imshow(np.rot90(m_diff));"
   ]
  },
  {
   "cell_type": "code",
   "execution_count": 320,
   "metadata": {
    "collapsed": false
   },
   "outputs": [
    {
     "data": {
      "image/png": "[encoded data removed]",
      "text/plain": [
       "<matplotlib.figure.Figure at 0x110feed68>"
      ]
     },
     "metadata": {},
     "output_type": "display_data"
    }
   ],
   "source": [
    "imshow(np.rot90(m_1999));\n",
    "plt.title('1999');"
   ]
  },
  {
   "cell_type": "code",
   "execution_count": null,
   "metadata": {
    "collapsed": true
   },
   "outputs": [],
   "source": []
  }
 ],
 "metadata": {
  "kernelspec": {
   "display_name": "Python 3",
   "language": "python",
   "name": "python3"
  },
  "language_info": {
   "codemirror_mode": {
    "name": "ipython",
    "version": 3
   },
   "file_extension": ".py",
   "mimetype": "text/x-python",
   "name": "python",
   "nbconvert_exporter": "python",
   "pygments_lexer": "ipython3",
   "version": "3.6.1"
  }
 },
 "nbformat": 4,
 "nbformat_minor": 0
}
