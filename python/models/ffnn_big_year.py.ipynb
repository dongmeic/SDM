{
 "cells": [
  {
   "cell_type": "code",
   "execution_count": 1,
   "metadata": {
    "collapsed": false
   },
   "outputs": [
    {
     "name": "stderr",
     "output_type": "stream",
     "text": [
      "Using TensorFlow backend.\n"
     ]
    }
   ],
   "source": [
    "import keras\n",
    "import matplotlib.pyplot as plt\n",
    "import numpy as np\n",
    "import os\n",
    "import pandas as pd\n",
    "import sys\n",
    "import time\n",
    "from keras.callbacks import EarlyStopping, ModelCheckpoint \n",
    "from keras.layers import Activation, BatchNormalization, Dense, Dropout\n",
    "from keras.models import Sequential\n",
    "from keras.optimizers import Adam\n",
    "from pprint import pprint\n",
    "from pylab import *\n",
    "from sklearn.preprocessing import StandardScaler\n",
    "\n",
    "import model_utils as util\n",
    "\n",
    "sys.path.append('../')\n",
    "import data_manipulations as manip\n",
    "\n",
    "%matplotlib inline\n",
    "\n",
    "plt.rcParams['figure.figsize'] = 10, 8\n",
    "plt.style.use('ggplot')"
   ]
  },
  {
   "cell_type": "code",
   "execution_count": 2,
   "metadata": {
    "collapsed": false
   },
   "outputs": [
    {
     "data": {
      "text/plain": [
       "['weights.bestNN.hdf5',\n",
       " 'X_big_test.csv',\n",
       " 'X_big_train.csv',\n",
       " 'X_big_valid.csv',\n",
       " 'X_test.csv',\n",
       " 'X_train.csv',\n",
       " 'X_valid.csv',\n",
       " 'y_big_test.csv',\n",
       " 'y_big_train.csv',\n",
       " 'y_big_valid.csv',\n",
       " 'y_test.csv',\n",
       " 'y_train.csv',\n",
       " 'y_valid.csv']"
      ]
     },
     "execution_count": 2,
     "metadata": {},
     "output_type": "execute_result"
    }
   ],
   "source": [
    "DATA_PATH =  '../../data/cluster/year/'\n",
    "os.listdir(DATA_PATH)"
   ]
  },
  {
   "cell_type": "code",
   "execution_count": 3,
   "metadata": {
    "collapsed": true
   },
   "outputs": [],
   "source": [
    "def load_data(data_dir):\n",
    "    X_train = pd.read_csv(data_dir + 'X_big_train.csv')\n",
    "    print('X_train:', X_train.shape)\n",
    "    X_valid = pd.read_csv(data_dir + 'X_big_valid.csv')\n",
    "    print('X_valid:', X_valid.shape)\n",
    "    X_test  = pd.read_csv(data_dir + 'X_big_test.csv')\n",
    "    print('X_test:',  X_test.shape)\n",
    "    y_train = pd.read_csv(data_dir + 'y_big_train.csv')\n",
    "    print('y_train:', y_train.shape)\n",
    "    y_valid = pd.read_csv(data_dir + 'y_big_valid.csv')\n",
    "    print('y_valid:', y_valid.shape)\n",
    "    y_test  = pd.read_csv(data_dir + 'y_big_test.csv')\n",
    "    print('y_test:',  y_test.shape)\n",
    "    \n",
    "    return [[X_train, y_train], [X_valid, y_valid], [X_test, y_test]]"
   ]
  },
  {
   "cell_type": "code",
   "execution_count": 4,
   "metadata": {
    "collapsed": false
   },
   "outputs": [
    {
     "name": "stdout",
     "output_type": "stream",
     "text": [
      "X_train: (529623, 428)\n",
      "X_valid: (176541, 428)\n",
      "X_test: (176541, 428)\n",
      "y_train: (529623, 1)\n",
      "y_valid: (176541, 1)\n",
      "y_test: (176541, 1)\n"
     ]
    }
   ],
   "source": [
    "[[X_train, y_train], \n",
    " [X_valid, y_valid], \n",
    " [X_test, y_test]] = load_data(DATA_PATH)"
   ]
  },
  {
   "cell_type": "code",
   "execution_count": 5,
   "metadata": {
    "collapsed": false
   },
   "outputs": [
    {
     "name": "stdout",
     "output_type": "stream",
     "text": [
      "Percent presence in y_train: 17.26%\n",
      "Percent presence in y_valid: 13.92%\n",
      "Percent presence in y_test: 12.64%\n"
     ]
    }
   ],
   "source": [
    "util.print_percent_presence(y_train, 'y_train')\n",
    "util.print_percent_presence(y_valid, 'y_valid')\n",
    "util.print_percent_presence(y_test,  'y_test')"
   ]
  },
  {
   "cell_type": "code",
   "execution_count": 6,
   "metadata": {
    "collapsed": false
   },
   "outputs": [
    {
     "name": "stdout",
     "output_type": "stream",
     "text": [
      "Baseline accuracy if predicting \"absent\" for all cells:\n",
      "  train: 82.74\n",
      "  valid: 86.08\n",
      "  test:  87.36\n"
     ]
    }
   ],
   "source": [
    "print('Baseline accuracy if predicting \"absent\" for all cells:')\n",
    "print('  train:', 100 - 17.26)\n",
    "print('  valid:', 100 - 13.92)\n",
    "print('  test: ', 100 - 12.64)"
   ]
  },
  {
   "cell_type": "code",
   "execution_count": 7,
   "metadata": {
    "collapsed": false
   },
   "outputs": [
    {
     "data": {
      "text/plain": [
       "['varPrecip_growingSeason',\n",
       " 'meanTemp_Aug.varPrecip_growingSeason',\n",
       " 'meanMaxTemp_Aug.varPrecip_growingSeason',\n",
       " 'varPrecip_growingSeason.precip_OctSep_L10112864',\n",
       " 'varPrecip_growingSeason.precipPrevious_OctSep_L1065',\n",
       " 'varPrecip_growingSeason.precip_meanAnnual_L1049',\n",
       " 'varPrecip_growingSeason.elev_etopo1_L111',\n",
       " 'varPrecip_growingSeason.precip_growingSeason_L35',\n",
       " 'vegetation.varPrecip_growingSeason',\n",
       " 'varPrecip_growingSeason.meanTemp_Aug_L129',\n",
       " 'varPrecip_growingSeason.meanTemp_Annual_L385',\n",
       " 'varPrecip_growingSeason.meanMaxTemp_Aug_L495',\n",
       " 'varPrecip_growingSeason.lon',\n",
       " 'varPrecip_growingSeason.lat',\n",
       " 'precip_JunAug.varPrecip_growingSeason',\n",
       " 'varPrecip_growingSeason.meanMinTemp_DecFeb_L55',\n",
       " 'precipPrevious_JunAug.varPrecip_growingSeason',\n",
       " 'varPrecip_growingSeason.lat_L45',\n",
       " 'year.varPrecip_growingSeason',\n",
       " 'varPrecip_growingSeason.precipPrevious_JunAug_L6',\n",
       " 'varPrecip_growingSeason.precip_JunAug_L10',\n",
       " 'precip_growingSeason.varPrecip_growingSeason',\n",
       " 'varPrecip_growingSeason.lon_Lm120',\n",
       " 'meanTemp_Annual.varPrecip_growingSeason',\n",
       " 'precipPrevious_OctSep.varPrecip_growingSeason',\n",
       " 'precip_meanAnnual.varPrecip_growingSeason',\n",
       " 'meanMinTemp_Oct.varPrecip_growingSeason',\n",
       " 'precip_OctSep.varPrecip_growingSeason']"
      ]
     },
     "execution_count": 7,
     "metadata": {},
     "output_type": "execute_result"
    }
   ],
   "source": [
    "is_finite = np.isfinite(X_valid).all()\n",
    "have_nans = list(is_finite[is_finite == False].index)\n",
    "have_nans"
   ]
  },
  {
   "cell_type": "code",
   "execution_count": 8,
   "metadata": {
    "collapsed": false
   },
   "outputs": [
    {
     "name": "stdout",
     "output_type": "stream",
     "text": [
      "(526849, 428) (526849, 1)\n",
      "(176146, 428) (176146, 1)\n",
      "(175416, 428) (175416, 1)\n"
     ]
    }
   ],
   "source": [
    "X_train, y_train = util.drop_nans(\n",
    "    X_train, y_train, 'varPrecip_growingSeason')\n",
    "X_valid, y_valid = util.drop_nans(\n",
    "    X_valid, y_valid, 'varPrecip_growingSeason')\n",
    "X_test,  y_test  = util.drop_nans(\n",
    "    X_test,  y_test,  'varPrecip_growingSeason')"
   ]
  },
  {
   "cell_type": "code",
   "execution_count": 9,
   "metadata": {
    "collapsed": false
   },
   "outputs": [
    {
     "data": {
      "text/plain": [
       "[]"
      ]
     },
     "execution_count": 9,
     "metadata": {},
     "output_type": "execute_result"
    }
   ],
   "source": [
    "is_finite = np.isfinite(X_valid).all()\n",
    "have_nans = list(is_finite[is_finite == False].index)\n",
    "have_nans"
   ]
  },
  {
   "cell_type": "code",
   "execution_count": 10,
   "metadata": {
    "collapsed": true
   },
   "outputs": [],
   "source": [
    "full_test = X_test.copy()\n",
    "full_test['beetle'] = y_test['beetle']"
   ]
  },
  {
   "cell_type": "code",
   "execution_count": 12,
   "metadata": {
    "collapsed": false
   },
   "outputs": [],
   "source": [
    "# Drop 'studyArea' from predictors (all 1 in the reduced data) and 'x' and\n",
    "# 'y' (perfectly correlated with 'lon' and 'lat')\n",
    "X_train = X_train.drop(['x', 'y'], axis=1)\n",
    "X_valid = X_valid.drop(['x', 'y'], axis=1)\n",
    "X_test  = X_test.drop(['x',  'y'], axis=1)"
   ]
  },
  {
   "cell_type": "code",
   "execution_count": 13,
   "metadata": {
    "collapsed": true
   },
   "outputs": [],
   "source": [
    "# Normalize data to make gradient descent more efficient\n",
    "scaler = StandardScaler()\n",
    "X_train = scaler.fit_transform(X_train)\n",
    "X_valid = scaler.transform(X_valid)\n",
    "X_test  = scaler.transform(X_test)"
   ]
  },
  {
   "cell_type": "code",
   "execution_count": 14,
   "metadata": {
    "collapsed": true
   },
   "outputs": [],
   "source": [
    "y_train = util.vectorize(y_train.as_matrix())\n",
    "y_valid = util.vectorize(y_valid.as_matrix())\n",
    "y_test  = util.vectorize(y_test.as_matrix())"
   ]
  },
  {
   "cell_type": "markdown",
   "metadata": {},
   "source": [
    "# Neural Net Model"
   ]
  },
  {
   "cell_type": "code",
   "execution_count": 15,
   "metadata": {
    "collapsed": false
   },
   "outputs": [
    {
     "data": {
      "text/plain": [
       "(526849, 426)"
      ]
     },
     "execution_count": 15,
     "metadata": {},
     "output_type": "execute_result"
    }
   ],
   "source": [
    "best_val_loss = np.inf\n",
    "X_train.shape"
   ]
  },
  {
   "cell_type": "code",
   "execution_count": 39,
   "metadata": {
    "collapsed": false
   },
   "outputs": [
    {
     "data": {
      "text/plain": [
       "[426, 426, 426, 426, 2]"
      ]
     },
     "execution_count": 39,
     "metadata": {},
     "output_type": "execute_result"
    }
   ],
   "source": [
    "# Params and Hyperparams\n",
    "n_inputs = X_train.shape[1]\n",
    "n_outputs = 2\n",
    "\n",
    "# Current best\n",
    "N_LAYERS = 4\n",
    "NODES_PER_LAYER = ([n_inputs] * N_LAYERS)\n",
    "#NODES_PER_LAYER = [\n",
    "    #n_inputs, n_inputs * 2]#, n_inputs * 4, n_inputs * 8, n_inputs * 8, \n",
    "    #n_inputs * 8, n_inputs * 8, n_inputs * 8, n_inputs * 4, n_inputs * 2, \n",
    "    #n_inputs]\n",
    "NODES_PER_LAYER.append(n_outputs)\n",
    "ETA = 0.5\n",
    "DROPOUT = 0.7\n",
    "BETA_1 = 0.9\n",
    "BETA_2 = 0.999\n",
    "EPSILON = 1e-08\n",
    "DECAY = 0.01\n",
    "EPOCHS = 30\n",
    "BATCH_SIZE = 1024\n",
    "\n",
    "NODES_PER_LAYER"
   ]
  },
  {
   "cell_type": "code",
   "execution_count": 40,
   "metadata": {
    "collapsed": true
   },
   "outputs": [],
   "source": [
    "def get_params():\n",
    "    return {'NODES_PER_LAYER': NODES_PER_LAYER,\n",
    "            'ETA': ETA,\n",
    "            'DROPOUT': DROPOUT,\n",
    "            'BETA_1': BETA_1,\n",
    "            'BETA_2': BETA_2,\n",
    "            'EPSILON': EPSILON,\n",
    "            'DECAY': DECAY,\n",
    "            'EPOCHS': EPOCHS,\n",
    "            'BATCH_SIZE': BATCH_SIZE}"
   ]
  },
  {
   "cell_type": "code",
   "execution_count": 41,
   "metadata": {
    "collapsed": false
   },
   "outputs": [
    {
     "name": "stdout",
     "output_type": "stream",
     "text": [
      "_________________________________________________________________\n",
      "Layer (type)                 Output Shape              Param #   \n",
      "=================================================================\n",
      "dense_20 (Dense)             (None, 426)               181902    \n",
      "_________________________________________________________________\n",
      "batch_normalization_20 (Batc (None, 426)               1704      \n",
      "_________________________________________________________________\n",
      "activation_20 (Activation)   (None, 426)               0         \n",
      "_________________________________________________________________\n",
      "dropout_14 (Dropout)         (None, 426)               0         \n",
      "_________________________________________________________________\n",
      "dense_21 (Dense)             (None, 426)               181902    \n",
      "_________________________________________________________________\n",
      "batch_normalization_21 (Batc (None, 426)               1704      \n",
      "_________________________________________________________________\n",
      "activation_21 (Activation)   (None, 426)               0         \n",
      "_________________________________________________________________\n",
      "dropout_15 (Dropout)         (None, 426)               0         \n",
      "_________________________________________________________________\n",
      "dense_22 (Dense)             (None, 426)               181902    \n",
      "_________________________________________________________________\n",
      "batch_normalization_22 (Batc (None, 426)               1704      \n",
      "_________________________________________________________________\n",
      "activation_22 (Activation)   (None, 426)               0         \n",
      "_________________________________________________________________\n",
      "dropout_16 (Dropout)         (None, 426)               0         \n",
      "_________________________________________________________________\n",
      "dense_23 (Dense)             (None, 2)                 854       \n",
      "_________________________________________________________________\n",
      "batch_normalization_23 (Batc (None, 2)                 8         \n",
      "_________________________________________________________________\n",
      "activation_23 (Activation)   (None, 2)                 0         \n",
      "=================================================================\n",
      "Total params: 551,680\n",
      "Trainable params: 549,120\n",
      "Non-trainable params: 2,560\n",
      "_________________________________________________________________\n"
     ]
    }
   ],
   "source": [
    "model = Sequential()\n",
    "\n",
    "# NOTE: \"glorot-normal\" is the same thing as \"Xavier\" initialization\n",
    "model.add(Dense(NODES_PER_LAYER[1], \n",
    "                input_dim=NODES_PER_LAYER[0], \n",
    "                kernel_initializer='glorot_normal'))\n",
    "model.add(BatchNormalization())\n",
    "model.add(Activation('relu'))\n",
    "model.add(Dropout(DROPOUT))\n",
    "\n",
    "# additional hidden layers here\n",
    "for i in range(2, len(NODES_PER_LAYER) - 1):\n",
    "    model.add(Dense(NODES_PER_LAYER[i], \n",
    "                    kernel_initializer='glorot_normal'))\n",
    "    model.add(BatchNormalization())\n",
    "    model.add(Activation('relu'))\n",
    "    model.add(Dropout(DROPOUT))\n",
    "\n",
    "model.add(Dense(NODES_PER_LAYER[-1], kernel_initializer='glorot_normal'))\n",
    "model.add(BatchNormalization())\n",
    "model.add(Activation('softmax'))\n",
    "\n",
    "model.summary()"
   ]
  },
  {
   "cell_type": "code",
   "execution_count": 42,
   "metadata": {
    "collapsed": true
   },
   "outputs": [],
   "source": [
    "adam = Adam(\n",
    "    lr=ETA, beta_1=BETA_1, beta_2=BETA_2, epsilon=EPSILON, decay=DECAY)\n",
    "model.compile(\n",
    "    loss='binary_crossentropy', optimizer=adam, metrics=['accuracy'])"
   ]
  },
  {
   "cell_type": "code",
   "execution_count": 43,
   "metadata": {
    "collapsed": false
   },
   "outputs": [
    {
     "name": "stdout",
     "output_type": "stream",
     "text": [
      "Train on 526849 samples, validate on 176146 samples\n",
      "Epoch 1/30\n",
      "526336/526849 [============================>.] - ETA: 0s - loss: 0.3074 - acc: 0.8579Epoch 00001: val_loss improved from inf to 13.79425, saving model to ../../data/cluster/year/weights.bestNN.hdf5\n",
      "526849/526849 [==============================] - 120s 228us/step - loss: 0.3073 - acc: 0.8579 - val_loss: 13.7943 - val_acc: 0.1395\n",
      "Epoch 2/30\n",
      "526336/526849 [============================>.] - ETA: 0s - loss: 0.2662 - acc: 0.8774Epoch 00002: val_loss improved from 13.79425 to 13.79425, saving model to ../../data/cluster/year/weights.bestNN.hdf5\n",
      "526849/526849 [==============================] - 118s 224us/step - loss: 0.2662 - acc: 0.8774 - val_loss: 13.7943 - val_acc: 0.1395\n",
      "Epoch 3/30\n",
      "526336/526849 [============================>.] - ETA: 0s - loss: 0.2579 - acc: 0.8821Epoch 00003: val_loss did not improve\n",
      "526849/526849 [==============================] - 119s 225us/step - loss: 0.2580 - acc: 0.8821 - val_loss: 13.7943 - val_acc: 0.1395\n",
      "Epoch 4/30\n",
      "526336/526849 [============================>.] - ETA: 0s - loss: 0.2525 - acc: 0.8841Epoch 00004: val_loss improved from 13.79425 to 9.71001, saving model to ../../data/cluster/year/weights.bestNN.hdf5\n",
      "526849/526849 [==============================] - 118s 224us/step - loss: 0.2525 - acc: 0.8841 - val_loss: 9.7100 - val_acc: 0.2372\n",
      "Epoch 5/30\n",
      "526336/526849 [============================>.] - ETA: 0s - loss: 0.2483 - acc: 0.8855Epoch 00005: val_loss improved from 9.71001 to 4.75811, saving model to ../../data/cluster/year/weights.bestNN.hdf5\n",
      "526849/526849 [==============================] - 119s 226us/step - loss: 0.2484 - acc: 0.8855 - val_loss: 4.7581 - val_acc: 0.5698\n",
      "Epoch 6/30\n",
      "526336/526849 [============================>.] - ETA: 0s - loss: 0.2456 - acc: 0.8870Epoch 00006: val_loss improved from 4.75811 to 2.23542, saving model to ../../data/cluster/year/weights.bestNN.hdf5\n",
      "526849/526849 [==============================] - 119s 225us/step - loss: 0.2456 - acc: 0.8870 - val_loss: 2.2354 - val_acc: 0.8605\n",
      "Epoch 7/30\n",
      "526336/526849 [============================>.] - ETA: 0s - loss: 0.2432 - acc: 0.8885Epoch 00007: val_loss improved from 2.23542 to 2.23140, saving model to ../../data/cluster/year/weights.bestNN.hdf5\n",
      "526849/526849 [==============================] - 120s 227us/step - loss: 0.2432 - acc: 0.8885 - val_loss: 2.2314 - val_acc: 0.8603\n",
      "Epoch 8/30\n",
      "526336/526849 [============================>.] - ETA: 0s - loss: 0.2406 - acc: 0.8897Epoch 00008: val_loss did not improve\n",
      "526849/526849 [==============================] - 119s 226us/step - loss: 0.2406 - acc: 0.8897 - val_loss: 2.2359 - val_acc: 0.8605\n",
      "Epoch 9/30\n",
      "526336/526849 [============================>.] - ETA: 0s - loss: 0.2385 - acc: 0.8907Epoch 00009: val_loss did not improve\n",
      "526849/526849 [==============================] - 120s 228us/step - loss: 0.2385 - acc: 0.8907 - val_loss: 2.2359 - val_acc: 0.8605\n",
      "Epoch 10/30\n",
      "526336/526849 [============================>.] - ETA: 0s - loss: 0.2368 - acc: 0.8916Epoch 00010: val_loss did not improve\n",
      "526849/526849 [==============================] - 120s 228us/step - loss: 0.2368 - acc: 0.8916 - val_loss: 2.2359 - val_acc: 0.8605\n",
      "Epoch 11/30\n",
      "526336/526849 [============================>.] - ETA: 0s - loss: 0.2350 - acc: 0.8919Epoch 00011: val_loss did not improve\n",
      "526849/526849 [==============================] - 120s 227us/step - loss: 0.2350 - acc: 0.8919 - val_loss: 2.2359 - val_acc: 0.8605\n",
      "Epoch 12/30\n",
      "526336/526849 [============================>.] - ETA: 0s - loss: 0.2336 - acc: 0.8934Epoch 00012: val_loss did not improve\n",
      "526849/526849 [==============================] - 119s 226us/step - loss: 0.2336 - acc: 0.8934 - val_loss: 2.2359 - val_acc: 0.8605\n",
      "Epoch 13/30\n",
      "526336/526849 [============================>.] - ETA: 0s - loss: 0.2326 - acc: 0.8942Epoch 00013: val_loss did not improve\n",
      "526849/526849 [==============================] - 120s 227us/step - loss: 0.2326 - acc: 0.8942 - val_loss: 2.2359 - val_acc: 0.8605\n",
      "Epoch 14/30\n",
      "526336/526849 [============================>.] - ETA: 0s - loss: 0.2314 - acc: 0.8951Epoch 00014: val_loss did not improve\n",
      "526849/526849 [==============================] - 119s 226us/step - loss: 0.2314 - acc: 0.8951 - val_loss: 2.2359 - val_acc: 0.8605\n",
      "Epoch 15/30\n",
      "526336/526849 [============================>.] - ETA: 0s - loss: 0.2305 - acc: 0.8949Epoch 00015: val_loss improved from 2.23140 to 2.17556, saving model to ../../data/cluster/year/weights.bestNN.hdf5\n",
      "526849/526849 [==============================] - 120s 228us/step - loss: 0.2305 - acc: 0.8949 - val_loss: 2.1756 - val_acc: 0.8605\n",
      "Epoch 16/30\n",
      "526336/526849 [============================>.] - ETA: 0s - loss: 0.2296 - acc: 0.8955Epoch 00016: val_loss improved from 2.17556 to 2.04557, saving model to ../../data/cluster/year/weights.bestNN.hdf5\n",
      "526849/526849 [==============================] - 120s 227us/step - loss: 0.2296 - acc: 0.8955 - val_loss: 2.0456 - val_acc: 0.8605\n",
      "Epoch 17/30\n",
      "526336/526849 [============================>.] - ETA: 0s - loss: 0.2287 - acc: 0.8965Epoch 00017: val_loss improved from 2.04557 to 1.68487, saving model to ../../data/cluster/year/weights.bestNN.hdf5\n",
      "526849/526849 [==============================] - 121s 230us/step - loss: 0.2287 - acc: 0.8965 - val_loss: 1.6849 - val_acc: 0.8605\n",
      "Epoch 18/30\n",
      "526336/526849 [============================>.] - ETA: 0s - loss: 0.2280 - acc: 0.8970Epoch 00018: val_loss improved from 1.68487 to 1.13151, saving model to ../../data/cluster/year/weights.bestNN.hdf5\n",
      "526849/526849 [==============================] - 119s 227us/step - loss: 0.2280 - acc: 0.8970 - val_loss: 1.1315 - val_acc: 0.8605\n",
      "Epoch 19/30\n",
      "526336/526849 [============================>.] - ETA: 0s - loss: 0.2271 - acc: 0.8975Epoch 00019: val_loss did not improve\n",
      "526849/526849 [==============================] - 120s 227us/step - loss: 0.2271 - acc: 0.8975 - val_loss: 5.9231 - val_acc: 0.3712\n",
      "Epoch 20/30\n",
      "526336/526849 [============================>.] - ETA: 0s - loss: 0.2265 - acc: 0.8981Epoch 00020: val_loss did not improve\n",
      "526849/526849 [==============================] - 120s 227us/step - loss: 0.2265 - acc: 0.8981 - val_loss: 4.6780 - val_acc: 0.4978\n",
      "Epoch 21/30\n",
      "526336/526849 [============================>.] - ETA: 0s - loss: 0.2261 - acc: 0.8983Epoch 00021: val_loss did not improve\n",
      "526849/526849 [==============================] - 122s 231us/step - loss: 0.2260 - acc: 0.8983 - val_loss: 6.1106 - val_acc: 0.4461\n",
      "Epoch 22/30\n",
      "526336/526849 [============================>.] - ETA: 0s - loss: 0.2251 - acc: 0.8988Epoch 00022: val_loss did not improve\n",
      "526849/526849 [==============================] - 124s 235us/step - loss: 0.2251 - acc: 0.8989 - val_loss: 8.7155 - val_acc: 0.3321\n",
      "Epoch 23/30\n",
      "526336/526849 [============================>.] - ETA: 0s - loss: 0.2245 - acc: 0.8991Epoch 00023: val_loss did not improve\n",
      "526849/526849 [==============================] - 124s 235us/step - loss: 0.2245 - acc: 0.8991 - val_loss: 8.0529 - val_acc: 0.3869\n",
      "Epoch 24/30\n",
      "526336/526849 [============================>.] - ETA: 0s - loss: 0.2240 - acc: 0.8998Epoch 00024: val_loss did not improve\n",
      "526849/526849 [==============================] - 124s 236us/step - loss: 0.2240 - acc: 0.8998 - val_loss: 6.7590 - val_acc: 0.4832\n",
      "Epoch 25/30\n",
      "526336/526849 [============================>.] - ETA: 0s - loss: 0.2235 - acc: 0.8996Epoch 00025: val_loss did not improve\n",
      "526849/526849 [==============================] - 127s 240us/step - loss: 0.2235 - acc: 0.8996 - val_loss: 6.7946 - val_acc: 0.4827\n",
      "Epoch 26/30\n",
      "526336/526849 [============================>.] - ETA: 0s - loss: 0.2232 - acc: 0.8998Epoch 00026: val_loss did not improve\n",
      "526849/526849 [==============================] - 123s 234us/step - loss: 0.2232 - acc: 0.8998 - val_loss: 6.3565 - val_acc: 0.5251\n",
      "Epoch 27/30\n",
      "526336/526849 [============================>.] - ETA: 0s - loss: 0.2225 - acc: 0.9007Epoch 00027: val_loss did not improve\n",
      "526849/526849 [==============================] - 125s 237us/step - loss: 0.2225 - acc: 0.9007 - val_loss: 6.8404 - val_acc: 0.4983\n",
      "Epoch 28/30\n",
      "526336/526849 [============================>.] - ETA: 0s - loss: 0.2220 - acc: 0.9009Epoch 00028: val_loss did not improve\n",
      "526849/526849 [==============================] - 124s 235us/step - loss: 0.2220 - acc: 0.9009 - val_loss: 6.7604 - val_acc: 0.5058\n",
      "Epoch 29/30\n",
      "526336/526849 [============================>.] - ETA: 0s - loss: 0.2216 - acc: 0.9012Epoch 00029: val_loss did not improve\n",
      "526849/526849 [==============================] - 127s 241us/step - loss: 0.2216 - acc: 0.9012 - val_loss: 6.7464 - val_acc: 0.5155\n",
      "Epoch 30/30\n",
      "526336/526849 [============================>.] - ETA: 0s - loss: 0.2215 - acc: 0.9013Epoch 00030: val_loss did not improve\n",
      "526849/526849 [==============================] - 125s 238us/step - loss: 0.2215 - acc: 0.9012 - val_loss: 5.8435 - val_acc: 0.5762\n",
      "Time: 60.62 minutes\n"
     ]
    }
   ],
   "source": [
    "VERBOSE = 1\n",
    "checkpointer = ModelCheckpoint(filepath=DATA_PATH + 'weights.bestNN.hdf5',\n",
    "                               verbose=VERBOSE,\n",
    "                               save_best_only=True)\n",
    "earlyStop = EarlyStopping(monitor='val_loss', patience=EPOCHS / 2)\n",
    "start = time.time()\n",
    "history = model.fit(X_train,\n",
    "                    y_train,\n",
    "                    validation_data=(X_valid, y_valid),\n",
    "                    epochs=EPOCHS,\n",
    "                    batch_size=BATCH_SIZE,\n",
    "                    callbacks=[checkpointer, earlyStop],\n",
    "                    verbose=VERBOSE)\n",
    "elapsed = time.time() - start\n",
    "print('Time: %.2f minutes' % (elapsed / 60))"
   ]
  },
  {
   "cell_type": "code",
   "execution_count": 44,
   "metadata": {
    "collapsed": false
   },
   "outputs": [
    {
     "data": {
      "image/png": "[encoded data removed]",
      "text/plain": [
       "<matplotlib.figure.Figure at 0x119afd550>"
      ]
     },
     "metadata": {},
     "output_type": "display_data"
    }
   ],
   "source": [
    "plt.plot(history.history['loss'], 'k-', label='train');\n",
    "plt.plot(history.history['val_loss'], 'r-', label='valid');\n",
    "plt.xlabel('epochs');\n",
    "plt.ylabel('Loss (binary cross-entropy)')\n",
    "#plt.yscale('log');\n",
    "plt.legend(loc='best');"
   ]
  },
  {
   "cell_type": "code",
   "execution_count": 45,
   "metadata": {
    "collapsed": false
   },
   "outputs": [
    {
     "data": {
      "image/png": "[encoded data removed]",
      "text/plain": [
       "<matplotlib.figure.Figure at 0x11efa1630>"
      ]
     },
     "metadata": {},
     "output_type": "display_data"
    }
   ],
   "source": [
    "plt.plot(history.history['acc'], 'k-', label='train');\n",
    "plt.plot(history.history['val_acc'], 'r-', label='valid');\n",
    "plt.xlabel('epochs');\n",
    "plt.ylabel('Accuracy')\n",
    "#plt.yscale('log');\n",
    "plt.legend(loc='best');"
   ]
  },
  {
   "cell_type": "code",
   "execution_count": 46,
   "metadata": {
    "collapsed": false
   },
   "outputs": [
    {
     "name": "stdout",
     "output_type": "stream",
     "text": [
      "This run: 5.41958\n",
      "New Best Model Found!\n",
      "\n",
      "Best validation loss so far: 5.41958\n",
      "Training loss of same model: 0.23581\n",
      "Best hyperparameters found so far:\n",
      "{'BATCH_SIZE': 1024,\n",
      " 'BETA_1': 0.9,\n",
      " 'BETA_2': 0.999,\n",
      " 'DECAY': 0.01,\n",
      " 'DROPOUT': 0.7,\n",
      " 'EPOCHS': 30,\n",
      " 'EPSILON': 1e-08,\n",
      " 'ETA': 0.5,\n",
      " 'NODES_PER_LAYER': [426, 426, 426, 426, 2]}\n"
     ]
    }
   ],
   "source": [
    "this_run = np.mean(history.history['val_loss'][-50:])\n",
    "print('This run: %.5f' % this_run)\n",
    "\n",
    "if this_run < best_val_loss:\n",
    "    print('New Best Model Found!\\n')\n",
    "    best_val_loss = this_run\n",
    "    train_loss_of_best = np.mean(history.history['loss'][-50:])\n",
    "    best_params = get_params()\n",
    "print('Best validation loss so far: %.5f' % best_val_loss)\n",
    "print('Training loss of same model: %.5f' % train_loss_of_best)\n",
    "print('Best hyperparameters found so far:')\n",
    "pprint(best_params)"
   ]
  },
  {
   "cell_type": "code",
   "execution_count": 47,
   "metadata": {
    "collapsed": false
   },
   "outputs": [
    {
     "name": "stdout",
     "output_type": "stream",
     "text": [
      "Confusion Matrix:\n",
      "         Predicted:\n",
      "         \t1\t\t0\n",
      "Actual: 1\t0\t\t22314\n",
      "        0\t0\t\t153102\n"
     ]
    }
   ],
   "source": [
    "preds = model.predict(X_test)\n",
    "pred_probs = util.preds2probs(preds)\n",
    "preds = util.one_cold(util.binarize(preds))\n",
    "y_test_cold = util.one_cold((y_test))\n",
    "cm = util.make_confusion_matrix(y_test_cold, pred_probs, 0.5)"
   ]
  },
  {
   "cell_type": "code",
   "execution_count": 48,
   "metadata": {
    "collapsed": false
   },
   "outputs": [
    {
     "name": "stdout",
     "output_type": "stream",
     "text": [
      "Accuracy:  0.872793815843\n",
      "Precision: nan\n",
      "Recall:    0.0\n",
      "F1:        nan\n"
     ]
    },
    {
     "name": "stderr",
     "output_type": "stream",
     "text": [
      "/Users/dsp/dongmei/sdm/python/models/model_utils.py:110: RuntimeWarning: invalid value encountered in long_scalars\n",
      "  precision = cm['tp'] / (cm['tp'] + cm['fp'])\n"
     ]
    }
   ],
   "source": [
    "metrics = util.get_metrics(cm)"
   ]
  },
  {
   "cell_type": "code",
   "execution_count": 49,
   "metadata": {
    "collapsed": false
   },
   "outputs": [
    {
     "name": "stdout",
     "output_type": "stream",
     "text": [
      "AUC:       0.499996734203\n"
     ]
    }
   ],
   "source": [
    "auc_metrics = util.get_auc(y_test_cold, pred_probs)"
   ]
  },
  {
   "cell_type": "code",
   "execution_count": 50,
   "metadata": {
    "collapsed": false
   },
   "outputs": [
    {
     "data": {
      "image/png": "[encoded data removed]",
      "text/plain": [
       "<matplotlib.figure.Figure at 0x11eb71b00>"
      ]
     },
     "metadata": {},
     "output_type": "display_data"
    }
   ],
   "source": [
    "util.plot_roc(auc_metrics['fpr'], auc_metrics['tpr'])"
   ]
  },
  {
   "cell_type": "code",
   "execution_count": 51,
   "metadata": {
    "collapsed": true
   },
   "outputs": [],
   "source": [
    "def column2matrix(dataframe, column, cell_dim=10000):\n",
    "    '''                                                                          \n",
    "    Convert a column from DataFrame df into a matrix representation with the     \n",
    "    upper-left cell indexing beginning at [0, 0].                                \n",
    "    It is expected that the DataFrame has columns x and y.                       \n",
    "                                                                                 \n",
    "    Args:                                                                        \n",
    "    df: DataFrame: the source data                                               \n",
    "    column: string: the column name to extract                                   \n",
    "    cel_dim: numeric: the dimensions of each grid cell                           \n",
    "                                                                                 \n",
    "    Returns: np.ndarray (a 2D list; matrix)                                      \n",
    "    '''\n",
    "    df = dataframe.copy()\n",
    "    x_min = df.x.min()\n",
    "    y_min = df.y.min()\n",
    "    df.x -= x_min\n",
    "    df.y -= y_min\n",
    "    xs = sorted(df.x.unique())\n",
    "    ys = sorted(df.y.unique())\n",
    "    matrix = np.array([[np.nan for y in range(len(ys))]\n",
    "                       for x in range(len(xs))])\n",
    "\n",
    "    for row in df.index:\n",
    "        x, y, value = df.loc[row, ['x', 'y', column]]\n",
    "        i = int((x - xs[0]) / cell_dim)\n",
    "        j = int((y - ys[0]) / cell_dim)\n",
    "        matrix[i, j] = value\n",
    "\n",
    "    return matrix"
   ]
  },
  {
   "cell_type": "code",
   "execution_count": 52,
   "metadata": {
    "collapsed": false
   },
   "outputs": [
    {
     "data": {
      "text/html": [
       "<div>\n",
       "<style>\n",
       "    .dataframe thead tr:only-child th {\n",
       "        text-align: right;\n",
       "    }\n",
       "\n",
       "    .dataframe thead th {\n",
       "        text-align: left;\n",
       "    }\n",
       "\n",
       "    .dataframe tbody tr th {\n",
       "        vertical-align: top;\n",
       "    }\n",
       "</style>\n",
       "<table border=\"1\" class=\"dataframe\">\n",
       "  <thead>\n",
       "    <tr style=\"text-align: right;\">\n",
       "      <th></th>\n",
       "      <th>year</th>\n",
       "      <th>meanTemp_Annual</th>\n",
       "      <th>meanTemp_AprAug</th>\n",
       "      <th>meanTemp_Aug</th>\n",
       "      <th>meanMinTemp_DecFeb</th>\n",
       "      <th>meanMinTemp_Oct</th>\n",
       "      <th>meanMinTemp_Jan</th>\n",
       "      <th>meanMinTemp_Mar</th>\n",
       "      <th>meanMaxTemp_Aug</th>\n",
       "      <th>precip_meanAnnual</th>\n",
       "      <th>...</th>\n",
       "      <th>precip_OctSep.lat_L45</th>\n",
       "      <th>precip_OctSep.precip_growingSeason_L35</th>\n",
       "      <th>precip_OctSep.precipPrevious_OctSep_L1065</th>\n",
       "      <th>precip_OctSep.precip_meanAnnual_L1049</th>\n",
       "      <th>precip_OctSep.precip_OctSep_L10112864</th>\n",
       "      <th>meanMaxTemp_Aug.precip_OctSep</th>\n",
       "      <th>meanTemp_AprAug.precip_OctSep</th>\n",
       "      <th>precip_OctSep.varPrecip_growingSeason</th>\n",
       "      <th>meanTemp_Aug.precip_OctSep</th>\n",
       "      <th>beetle</th>\n",
       "    </tr>\n",
       "  </thead>\n",
       "  <tbody>\n",
       "    <tr>\n",
       "      <th>1</th>\n",
       "      <td>2000</td>\n",
       "      <td>17.254652</td>\n",
       "      <td>19.109267</td>\n",
       "      <td>21.808772</td>\n",
       "      <td>5.056313</td>\n",
       "      <td>11.052817</td>\n",
       "      <td>6.231007</td>\n",
       "      <td>7.827016</td>\n",
       "      <td>27.346988</td>\n",
       "      <td>6.621443</td>\n",
       "      <td>...</td>\n",
       "      <td>110.904391</td>\n",
       "      <td>110.904391</td>\n",
       "      <td>0.0</td>\n",
       "      <td>0.0</td>\n",
       "      <td>0.0</td>\n",
       "      <td>3032.901079</td>\n",
       "      <td>2119.301565</td>\n",
       "      <td>87.706257</td>\n",
       "      <td>2418.688598</td>\n",
       "      <td>0</td>\n",
       "    </tr>\n",
       "    <tr>\n",
       "      <th>2</th>\n",
       "      <td>2000</td>\n",
       "      <td>17.676624</td>\n",
       "      <td>19.746520</td>\n",
       "      <td>22.608925</td>\n",
       "      <td>4.883052</td>\n",
       "      <td>11.081191</td>\n",
       "      <td>6.041158</td>\n",
       "      <td>7.776271</td>\n",
       "      <td>28.596847</td>\n",
       "      <td>6.506222</td>\n",
       "      <td>...</td>\n",
       "      <td>103.984019</td>\n",
       "      <td>103.984019</td>\n",
       "      <td>0.0</td>\n",
       "      <td>0.0</td>\n",
       "      <td>0.0</td>\n",
       "      <td>2973.615041</td>\n",
       "      <td>2053.322479</td>\n",
       "      <td>180.105604</td>\n",
       "      <td>2350.966874</td>\n",
       "      <td>0</td>\n",
       "    </tr>\n",
       "    <tr>\n",
       "      <th>3</th>\n",
       "      <td>2000</td>\n",
       "      <td>16.558509</td>\n",
       "      <td>18.864768</td>\n",
       "      <td>22.112176</td>\n",
       "      <td>3.356400</td>\n",
       "      <td>9.556494</td>\n",
       "      <td>4.649940</td>\n",
       "      <td>6.029264</td>\n",
       "      <td>28.749263</td>\n",
       "      <td>9.937936</td>\n",
       "      <td>...</td>\n",
       "      <td>197.437307</td>\n",
       "      <td>0.000000</td>\n",
       "      <td>0.0</td>\n",
       "      <td>0.0</td>\n",
       "      <td>0.0</td>\n",
       "      <td>5676.177043</td>\n",
       "      <td>3724.608934</td>\n",
       "      <td>33.989244</td>\n",
       "      <td>4365.768436</td>\n",
       "      <td>0</td>\n",
       "    </tr>\n",
       "    <tr>\n",
       "      <th>4</th>\n",
       "      <td>2000</td>\n",
       "      <td>16.781979</td>\n",
       "      <td>19.328211</td>\n",
       "      <td>22.731819</td>\n",
       "      <td>3.201135</td>\n",
       "      <td>9.459611</td>\n",
       "      <td>4.256498</td>\n",
       "      <td>5.852778</td>\n",
       "      <td>29.813080</td>\n",
       "      <td>9.939182</td>\n",
       "      <td>...</td>\n",
       "      <td>194.982168</td>\n",
       "      <td>0.000000</td>\n",
       "      <td>0.0</td>\n",
       "      <td>0.0</td>\n",
       "      <td>0.0</td>\n",
       "      <td>5813.019043</td>\n",
       "      <td>3768.656495</td>\n",
       "      <td>71.096740</td>\n",
       "      <td>4432.299443</td>\n",
       "      <td>0</td>\n",
       "    </tr>\n",
       "    <tr>\n",
       "      <th>5</th>\n",
       "      <td>2000</td>\n",
       "      <td>15.364015</td>\n",
       "      <td>18.031978</td>\n",
       "      <td>21.651566</td>\n",
       "      <td>1.695748</td>\n",
       "      <td>7.912659</td>\n",
       "      <td>3.012935</td>\n",
       "      <td>4.226322</td>\n",
       "      <td>29.026302</td>\n",
       "      <td>16.397472</td>\n",
       "      <td>...</td>\n",
       "      <td>350.616022</td>\n",
       "      <td>0.000000</td>\n",
       "      <td>0.0</td>\n",
       "      <td>0.0</td>\n",
       "      <td>0.0</td>\n",
       "      <td>10177.086564</td>\n",
       "      <td>6322.300275</td>\n",
       "      <td>55.819223</td>\n",
       "      <td>7591.385988</td>\n",
       "      <td>0</td>\n",
       "    </tr>\n",
       "  </tbody>\n",
       "</table>\n",
       "<p>5 rows × 429 columns</p>\n",
       "</div>"
      ],
      "text/plain": [
       "   year  meanTemp_Annual  meanTemp_AprAug  meanTemp_Aug  meanMinTemp_DecFeb  \\\n",
       "1  2000        17.254652        19.109267     21.808772            5.056313   \n",
       "2  2000        17.676624        19.746520     22.608925            4.883052   \n",
       "3  2000        16.558509        18.864768     22.112176            3.356400   \n",
       "4  2000        16.781979        19.328211     22.731819            3.201135   \n",
       "5  2000        15.364015        18.031978     21.651566            1.695748   \n",
       "\n",
       "   meanMinTemp_Oct  meanMinTemp_Jan  meanMinTemp_Mar  meanMaxTemp_Aug  \\\n",
       "1        11.052817         6.231007         7.827016        27.346988   \n",
       "2        11.081191         6.041158         7.776271        28.596847   \n",
       "3         9.556494         4.649940         6.029264        28.749263   \n",
       "4         9.459611         4.256498         5.852778        29.813080   \n",
       "5         7.912659         3.012935         4.226322        29.026302   \n",
       "\n",
       "   precip_meanAnnual   ...    precip_OctSep.lat_L45  \\\n",
       "1           6.621443   ...               110.904391   \n",
       "2           6.506222   ...               103.984019   \n",
       "3           9.937936   ...               197.437307   \n",
       "4           9.939182   ...               194.982168   \n",
       "5          16.397472   ...               350.616022   \n",
       "\n",
       "   precip_OctSep.precip_growingSeason_L35  \\\n",
       "1                              110.904391   \n",
       "2                              103.984019   \n",
       "3                                0.000000   \n",
       "4                                0.000000   \n",
       "5                                0.000000   \n",
       "\n",
       "   precip_OctSep.precipPrevious_OctSep_L1065  \\\n",
       "1                                        0.0   \n",
       "2                                        0.0   \n",
       "3                                        0.0   \n",
       "4                                        0.0   \n",
       "5                                        0.0   \n",
       "\n",
       "   precip_OctSep.precip_meanAnnual_L1049  \\\n",
       "1                                    0.0   \n",
       "2                                    0.0   \n",
       "3                                    0.0   \n",
       "4                                    0.0   \n",
       "5                                    0.0   \n",
       "\n",
       "   precip_OctSep.precip_OctSep_L10112864  meanMaxTemp_Aug.precip_OctSep  \\\n",
       "1                                    0.0                    3032.901079   \n",
       "2                                    0.0                    2973.615041   \n",
       "3                                    0.0                    5676.177043   \n",
       "4                                    0.0                    5813.019043   \n",
       "5                                    0.0                   10177.086564   \n",
       "\n",
       "   meanTemp_AprAug.precip_OctSep  precip_OctSep.varPrecip_growingSeason  \\\n",
       "1                    2119.301565                              87.706257   \n",
       "2                    2053.322479                             180.105604   \n",
       "3                    3724.608934                              33.989244   \n",
       "4                    3768.656495                              71.096740   \n",
       "5                    6322.300275                              55.819223   \n",
       "\n",
       "   meanTemp_Aug.precip_OctSep  beetle  \n",
       "1                 2418.688598       0  \n",
       "2                 2350.966874       0  \n",
       "3                 4365.768436       0  \n",
       "4                 4432.299443       0  \n",
       "5                 7591.385988       0  \n",
       "\n",
       "[5 rows x 429 columns]"
      ]
     },
     "execution_count": 52,
     "metadata": {},
     "output_type": "execute_result"
    }
   ],
   "source": [
    "test_2000 = full_test.loc[full_test.year == 2000, :]\n",
    "test_2001 = full_test.loc[full_test.year == 2001, :]\n",
    "test_2002 = full_test.loc[full_test.year == 2002, :]\n",
    "test_2000.head()"
   ]
  },
  {
   "cell_type": "code",
   "execution_count": 53,
   "metadata": {
    "collapsed": true
   },
   "outputs": [],
   "source": [
    "beetle_2000_matrix = column2matrix(test_2000, 'beetle')"
   ]
  },
  {
   "cell_type": "code",
   "execution_count": 54,
   "metadata": {
    "collapsed": true
   },
   "outputs": [],
   "source": [
    "pred_2000_matrix = column2matrix(test_2000, 'preds')\n",
    "error_matrix = pred_2000_matrix - beetle_2000_matrix"
   ]
  },
  {
   "cell_type": "code",
   "execution_count": 55,
   "metadata": {
    "collapsed": false
   },
   "outputs": [
    {
     "data": {
      "image/png": "[encoded data removed]",
      "text/plain": [
       "<matplotlib.figure.Figure at 0x1154ecfd0>"
      ]
     },
     "metadata": {},
     "output_type": "display_data"
    }
   ],
   "source": [
    "imshow(np.rot90(beetle_2000_matrix));"
   ]
  },
  {
   "cell_type": "code",
   "execution_count": 56,
   "metadata": {
    "collapsed": false
   },
   "outputs": [
    {
     "name": "stderr",
     "output_type": "stream",
     "text": [
      "/usr/local/lib/python3.6/site-packages/matplotlib/colors.py:823: UserWarning: Warning: converting a masked element to nan.\n",
      "  dtype = np.min_scalar_type(value)\n",
      "/usr/local/lib/python3.6/site-packages/numpy/ma/core.py:2766: UserWarning: Warning: converting a masked element to nan.\n",
      "  order=order, subok=True, ndmin=ndmin)\n"
     ]
    },
    {
     "data": {
      "image/png": "[encoded data removed]",
      "text/plain": [
       "<matplotlib.figure.Figure at 0x117a5cc18>"
      ]
     },
     "metadata": {},
     "output_type": "display_data"
    }
   ],
   "source": [
    "imshow(np.rot90(pred_2000_matrix));"
   ]
  },
  {
   "cell_type": "code",
   "execution_count": 57,
   "metadata": {
    "collapsed": false
   },
   "outputs": [
    {
     "name": "stderr",
     "output_type": "stream",
     "text": [
      "/usr/local/lib/python3.6/site-packages/matplotlib/colors.py:823: UserWarning: Warning: converting a masked element to nan.\n",
      "  dtype = np.min_scalar_type(value)\n",
      "/usr/local/lib/python3.6/site-packages/numpy/ma/core.py:2766: UserWarning: Warning: converting a masked element to nan.\n",
      "  order=order, subok=True, ndmin=ndmin)\n"
     ]
    },
    {
     "data": {
      "image/png": "[encoded data removed]",
      "text/plain": [
       "<matplotlib.figure.Figure at 0x11ec71908>"
      ]
     },
     "metadata": {},
     "output_type": "display_data"
    }
   ],
   "source": [
    "imshow(np.rot90(error_matrix));"
   ]
  },
  {
   "cell_type": "code",
   "execution_count": null,
   "metadata": {
    "collapsed": true
   },
   "outputs": [],
   "source": []
  }
 ],
 "metadata": {
  "kernelspec": {
   "display_name": "Python 3",
   "language": "python",
   "name": "python3"
  },
  "language_info": {
   "codemirror_mode": {
    "name": "ipython",
    "version": 3
   },
   "file_extension": ".py",
   "mimetype": "text/x-python",
   "name": "python",
   "nbconvert_exporter": "python",
   "pygments_lexer": "ipython3",
   "version": "3.6.1"
  }
 },
 "nbformat": 4,
 "nbformat_minor": 0
}
