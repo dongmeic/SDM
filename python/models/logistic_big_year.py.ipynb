{
 "cells": [
  {
   "cell_type": "markdown",
   "metadata": {},
   "source": [
    "This notebook applies a logistic regression model to the data set, including transformations, segmentations, and interactions as discovered and created in the exploratory R script <a href=\"https://github.com/dongmeic/SDM/blob/master/R/models/logisticModEDA.R.ipynb\">here</a>."
   ]
  },
  {
   "cell_type": "code",
   "execution_count": 29,
   "metadata": {
    "collapsed": true
   },
   "outputs": [],
   "source": [
    "import matplotlib.pyplot as plt\n",
    "import numpy as np\n",
    "import os\n",
    "import pandas as pd\n",
    "import time\n",
    "from sklearn.linear_model import LogisticRegression, Ridge\n",
    "from sklearn.pipeline import Pipeline\n",
    "from sklearn.model_selection import GridSearchCV\n",
    "from sklearn.preprocessing import StandardScaler\n",
    "\n",
    "import model_utils as util\n",
    "\n",
    "%matplotlib inline\n",
    "plt.rcParams['figure.figsize'] = 10, 8"
   ]
  },
  {
   "cell_type": "code",
   "execution_count": 30,
   "metadata": {
    "collapsed": false
   },
   "outputs": [
    {
     "data": {
      "text/plain": [
       "['tensor2000.pkl.bz2',\n",
       " 'tensor2001.pkl.bz2',\n",
       " 'tensor2002.pkl.bz2',\n",
       " 'tensor2003.pkl.bz2',\n",
       " 'tensor2004.pkl.bz2',\n",
       " 'tensor2005.pkl.bz2',\n",
       " 'tensor2006.pkl.bz2',\n",
       " 'tensor2007.pkl.bz2',\n",
       " 'tensor2008.pkl.bz2',\n",
       " 'tensor2009.pkl.bz2',\n",
       " 'tensor2010.pkl.bz2',\n",
       " 'tensor2011.pkl.bz2',\n",
       " 'tensor2012.pkl.bz2',\n",
       " 'tensor2013.pkl.bz2',\n",
       " 'tensor2014.pkl.bz2',\n",
       " 'weights.bestNN.hdf5',\n",
       " 'X_big_test.csv',\n",
       " 'X_big_train.csv',\n",
       " 'X_big_valid.csv',\n",
       " 'X_test.csv',\n",
       " 'X_train.csv',\n",
       " 'X_valid.csv',\n",
       " 'y_big_test.csv',\n",
       " 'y_big_train.csv',\n",
       " 'y_big_valid.csv',\n",
       " 'y_matrix2000.pkl.bz2',\n",
       " 'y_matrix2001.pkl.bz2',\n",
       " 'y_matrix2002.pkl.bz2',\n",
       " 'y_matrix2003.pkl.bz2',\n",
       " 'y_matrix2004.pkl.bz2',\n",
       " 'y_matrix2005.pkl.bz2',\n",
       " 'y_matrix2006.pkl.bz2',\n",
       " 'y_matrix2007.pkl.bz2',\n",
       " 'y_matrix2008.pkl.bz2',\n",
       " 'y_matrix2009.pkl.bz2',\n",
       " 'y_matrix2010.pkl.bz2',\n",
       " 'y_matrix2011.pkl.bz2',\n",
       " 'y_matrix2012.pkl.bz2',\n",
       " 'y_matrix2013.pkl.bz2',\n",
       " 'y_matrix2014.pkl.bz2',\n",
       " 'y_test.csv',\n",
       " 'y_train.csv',\n",
       " 'y_valid.csv']"
      ]
     },
     "execution_count": 30,
     "metadata": {},
     "output_type": "execute_result"
    }
   ],
   "source": [
    "DATA_PATH =  '../../data/cluster/year/'\n",
    "os.listdir(DATA_PATH)"
   ]
  },
  {
   "cell_type": "code",
   "execution_count": 31,
   "metadata": {
    "collapsed": true
   },
   "outputs": [],
   "source": [
    "def load_data(data_dir):\n",
    "    X_train = pd.read_csv(data_dir + 'X_big_train.csv')\n",
    "    print('X_train:', X_train.shape)\n",
    "    X_valid = pd.read_csv(data_dir + 'X_big_valid.csv')\n",
    "    print('X_valid:', X_valid.shape)\n",
    "    X_test  = pd.read_csv(data_dir + 'X_big_test.csv')\n",
    "    print('X_test:',  X_test.shape)\n",
    "    y_train = pd.read_csv(data_dir + 'y_big_train.csv')\n",
    "    print('y_train:', y_train.shape)\n",
    "    y_valid = pd.read_csv(data_dir + 'y_big_valid.csv')\n",
    "    print('y_valid:', y_valid.shape)\n",
    "    y_test  = pd.read_csv(data_dir + 'y_big_test.csv')\n",
    "    print('y_test:',  y_test.shape)\n",
    "    \n",
    "    return [[X_train, y_train], [X_valid, y_valid], [X_test, y_test]]"
   ]
  },
  {
   "cell_type": "code",
   "execution_count": 32,
   "metadata": {
    "collapsed": false
   },
   "outputs": [
    {
     "name": "stdout",
     "output_type": "stream",
     "text": [
      "X_train: (529623, 428)\n",
      "X_valid: (176541, 428)\n",
      "X_test: (176541, 428)\n",
      "y_train: (529623, 1)\n",
      "y_valid: (176541, 1)\n",
      "y_test: (176541, 1)\n"
     ]
    }
   ],
   "source": [
    "[[X_train, y_train], \n",
    " [X_valid, y_valid], \n",
    " [X_test, y_test]] = load_data(DATA_PATH)"
   ]
  },
  {
   "cell_type": "code",
   "execution_count": 33,
   "metadata": {
    "collapsed": false
   },
   "outputs": [
    {
     "data": {
      "text/html": [
       "<div>\n",
       "<style>\n",
       "    .dataframe thead tr:only-child th {\n",
       "        text-align: right;\n",
       "    }\n",
       "\n",
       "    .dataframe thead th {\n",
       "        text-align: left;\n",
       "    }\n",
       "\n",
       "    .dataframe tbody tr th {\n",
       "        vertical-align: top;\n",
       "    }\n",
       "</style>\n",
       "<table border=\"1\" class=\"dataframe\">\n",
       "  <thead>\n",
       "    <tr style=\"text-align: right;\">\n",
       "      <th></th>\n",
       "      <th>beetle</th>\n",
       "    </tr>\n",
       "  </thead>\n",
       "  <tbody>\n",
       "    <tr>\n",
       "      <th>0</th>\n",
       "      <td>0</td>\n",
       "    </tr>\n",
       "    <tr>\n",
       "      <th>1</th>\n",
       "      <td>0</td>\n",
       "    </tr>\n",
       "    <tr>\n",
       "      <th>2</th>\n",
       "      <td>0</td>\n",
       "    </tr>\n",
       "    <tr>\n",
       "      <th>3</th>\n",
       "      <td>0</td>\n",
       "    </tr>\n",
       "    <tr>\n",
       "      <th>4</th>\n",
       "      <td>0</td>\n",
       "    </tr>\n",
       "  </tbody>\n",
       "</table>\n",
       "</div>"
      ],
      "text/plain": [
       "   beetle\n",
       "0       0\n",
       "1       0\n",
       "2       0\n",
       "3       0\n",
       "4       0"
      ]
     },
     "execution_count": 33,
     "metadata": {},
     "output_type": "execute_result"
    }
   ],
   "source": [
    "y_train.head()"
   ]
  },
  {
   "cell_type": "code",
   "execution_count": 34,
   "metadata": {
    "collapsed": false
   },
   "outputs": [
    {
     "data": {
      "text/html": [
       "<div>\n",
       "<style>\n",
       "    .dataframe thead tr:only-child th {\n",
       "        text-align: right;\n",
       "    }\n",
       "\n",
       "    .dataframe thead th {\n",
       "        text-align: left;\n",
       "    }\n",
       "\n",
       "    .dataframe tbody tr th {\n",
       "        vertical-align: top;\n",
       "    }\n",
       "</style>\n",
       "<table border=\"1\" class=\"dataframe\">\n",
       "  <thead>\n",
       "    <tr style=\"text-align: right;\">\n",
       "      <th></th>\n",
       "      <th>year</th>\n",
       "      <th>meanTemp_Annual</th>\n",
       "      <th>meanTemp_AprAug</th>\n",
       "      <th>meanTemp_Aug</th>\n",
       "      <th>meanMinTemp_DecFeb</th>\n",
       "      <th>meanMinTemp_Oct</th>\n",
       "      <th>meanMinTemp_Jan</th>\n",
       "      <th>meanMinTemp_Mar</th>\n",
       "      <th>meanMaxTemp_Aug</th>\n",
       "      <th>precip_meanAnnual</th>\n",
       "      <th>...</th>\n",
       "      <th>precip_OctSep.elev_etopo1_L111</th>\n",
       "      <th>precip_OctSep.lat_L45</th>\n",
       "      <th>precip_OctSep.precip_growingSeason_L35</th>\n",
       "      <th>precip_OctSep.precipPrevious_OctSep_L1065</th>\n",
       "      <th>precip_OctSep.precip_meanAnnual_L1049</th>\n",
       "      <th>precip_OctSep.precip_OctSep_L10112864</th>\n",
       "      <th>meanMaxTemp_Aug.precip_OctSep</th>\n",
       "      <th>meanTemp_AprAug.precip_OctSep</th>\n",
       "      <th>precip_OctSep.varPrecip_growingSeason</th>\n",
       "      <th>meanTemp_Aug.precip_OctSep</th>\n",
       "    </tr>\n",
       "  </thead>\n",
       "  <tbody>\n",
       "    <tr>\n",
       "      <th>0</th>\n",
       "      <td>2006</td>\n",
       "      <td>3.990634</td>\n",
       "      <td>1.605879</td>\n",
       "      <td>1.290749</td>\n",
       "      <td>69.133768</td>\n",
       "      <td>0.720433</td>\n",
       "      <td>127.207708</td>\n",
       "      <td>1250.563817</td>\n",
       "      <td>4.935820</td>\n",
       "      <td>1.044079</td>\n",
       "      <td>...</td>\n",
       "      <td>1.011283</td>\n",
       "      <td>1.011283</td>\n",
       "      <td>1.011283</td>\n",
       "      <td>1.011283</td>\n",
       "      <td>1.011283</td>\n",
       "      <td>1.011283</td>\n",
       "      <td>4.991511</td>\n",
       "      <td>1.623998</td>\n",
       "      <td>1.359425</td>\n",
       "      <td>1.305313</td>\n",
       "    </tr>\n",
       "    <tr>\n",
       "      <th>1</th>\n",
       "      <td>2006</td>\n",
       "      <td>3.992621</td>\n",
       "      <td>1.606685</td>\n",
       "      <td>1.290793</td>\n",
       "      <td>69.219433</td>\n",
       "      <td>0.720437</td>\n",
       "      <td>127.429912</td>\n",
       "      <td>1260.014689</td>\n",
       "      <td>4.939409</td>\n",
       "      <td>1.043837</td>\n",
       "      <td>...</td>\n",
       "      <td>1.011283</td>\n",
       "      <td>1.011283</td>\n",
       "      <td>1.011283</td>\n",
       "      <td>1.011283</td>\n",
       "      <td>1.011283</td>\n",
       "      <td>1.011283</td>\n",
       "      <td>4.995140</td>\n",
       "      <td>1.624813</td>\n",
       "      <td>1.356691</td>\n",
       "      <td>1.305357</td>\n",
       "    </tr>\n",
       "    <tr>\n",
       "      <th>2</th>\n",
       "      <td>2006</td>\n",
       "      <td>3.996872</td>\n",
       "      <td>1.609031</td>\n",
       "      <td>1.290969</td>\n",
       "      <td>69.081661</td>\n",
       "      <td>0.720437</td>\n",
       "      <td>127.072590</td>\n",
       "      <td>1258.160544</td>\n",
       "      <td>4.963157</td>\n",
       "      <td>1.043672</td>\n",
       "      <td>...</td>\n",
       "      <td>1.011283</td>\n",
       "      <td>1.011283</td>\n",
       "      <td>1.011283</td>\n",
       "      <td>1.011283</td>\n",
       "      <td>1.011283</td>\n",
       "      <td>1.011283</td>\n",
       "      <td>5.019156</td>\n",
       "      <td>1.627185</td>\n",
       "      <td>1.353328</td>\n",
       "      <td>1.305535</td>\n",
       "    </tr>\n",
       "    <tr>\n",
       "      <th>3</th>\n",
       "      <td>2006</td>\n",
       "      <td>3.985463</td>\n",
       "      <td>1.605739</td>\n",
       "      <td>1.290857</td>\n",
       "      <td>68.045596</td>\n",
       "      <td>0.720410</td>\n",
       "      <td>124.392642</td>\n",
       "      <td>1180.705122</td>\n",
       "      <td>4.965677</td>\n",
       "      <td>1.044720</td>\n",
       "      <td>...</td>\n",
       "      <td>1.011284</td>\n",
       "      <td>1.011284</td>\n",
       "      <td>1.011284</td>\n",
       "      <td>1.011284</td>\n",
       "      <td>1.011284</td>\n",
       "      <td>1.011284</td>\n",
       "      <td>5.021708</td>\n",
       "      <td>1.623858</td>\n",
       "      <td>1.336549</td>\n",
       "      <td>1.305422</td>\n",
       "    </tr>\n",
       "    <tr>\n",
       "      <th>4</th>\n",
       "      <td>2006</td>\n",
       "      <td>3.987666</td>\n",
       "      <td>1.607431</td>\n",
       "      <td>1.290990</td>\n",
       "      <td>67.750966</td>\n",
       "      <td>0.720408</td>\n",
       "      <td>123.632866</td>\n",
       "      <td>1172.168976</td>\n",
       "      <td>4.985482</td>\n",
       "      <td>1.044705</td>\n",
       "      <td>...</td>\n",
       "      <td>1.011283</td>\n",
       "      <td>1.011283</td>\n",
       "      <td>1.011283</td>\n",
       "      <td>1.011283</td>\n",
       "      <td>1.011283</td>\n",
       "      <td>1.011283</td>\n",
       "      <td>5.041735</td>\n",
       "      <td>1.625569</td>\n",
       "      <td>1.332730</td>\n",
       "      <td>1.305557</td>\n",
       "    </tr>\n",
       "  </tbody>\n",
       "</table>\n",
       "<p>5 rows × 428 columns</p>\n",
       "</div>"
      ],
      "text/plain": [
       "   year  meanTemp_Annual  meanTemp_AprAug  meanTemp_Aug  meanMinTemp_DecFeb  \\\n",
       "0  2006         3.990634         1.605879      1.290749           69.133768   \n",
       "1  2006         3.992621         1.606685      1.290793           69.219433   \n",
       "2  2006         3.996872         1.609031      1.290969           69.081661   \n",
       "3  2006         3.985463         1.605739      1.290857           68.045596   \n",
       "4  2006         3.987666         1.607431      1.290990           67.750966   \n",
       "\n",
       "   meanMinTemp_Oct  meanMinTemp_Jan  meanMinTemp_Mar  meanMaxTemp_Aug  \\\n",
       "0         0.720433       127.207708      1250.563817         4.935820   \n",
       "1         0.720437       127.429912      1260.014689         4.939409   \n",
       "2         0.720437       127.072590      1258.160544         4.963157   \n",
       "3         0.720410       124.392642      1180.705122         4.965677   \n",
       "4         0.720408       123.632866      1172.168976         4.985482   \n",
       "\n",
       "   precip_meanAnnual             ...              \\\n",
       "0           1.044079             ...               \n",
       "1           1.043837             ...               \n",
       "2           1.043672             ...               \n",
       "3           1.044720             ...               \n",
       "4           1.044705             ...               \n",
       "\n",
       "   precip_OctSep.elev_etopo1_L111  precip_OctSep.lat_L45  \\\n",
       "0                        1.011283               1.011283   \n",
       "1                        1.011283               1.011283   \n",
       "2                        1.011283               1.011283   \n",
       "3                        1.011284               1.011284   \n",
       "4                        1.011283               1.011283   \n",
       "\n",
       "   precip_OctSep.precip_growingSeason_L35  \\\n",
       "0                                1.011283   \n",
       "1                                1.011283   \n",
       "2                                1.011283   \n",
       "3                                1.011284   \n",
       "4                                1.011283   \n",
       "\n",
       "   precip_OctSep.precipPrevious_OctSep_L1065  \\\n",
       "0                                   1.011283   \n",
       "1                                   1.011283   \n",
       "2                                   1.011283   \n",
       "3                                   1.011284   \n",
       "4                                   1.011283   \n",
       "\n",
       "   precip_OctSep.precip_meanAnnual_L1049  \\\n",
       "0                               1.011283   \n",
       "1                               1.011283   \n",
       "2                               1.011283   \n",
       "3                               1.011284   \n",
       "4                               1.011283   \n",
       "\n",
       "   precip_OctSep.precip_OctSep_L10112864  meanMaxTemp_Aug.precip_OctSep  \\\n",
       "0                               1.011283                       4.991511   \n",
       "1                               1.011283                       4.995140   \n",
       "2                               1.011283                       5.019156   \n",
       "3                               1.011284                       5.021708   \n",
       "4                               1.011283                       5.041735   \n",
       "\n",
       "   meanTemp_AprAug.precip_OctSep  precip_OctSep.varPrecip_growingSeason  \\\n",
       "0                       1.623998                               1.359425   \n",
       "1                       1.624813                               1.356691   \n",
       "2                       1.627185                               1.353328   \n",
       "3                       1.623858                               1.336549   \n",
       "4                       1.625569                               1.332730   \n",
       "\n",
       "   meanTemp_Aug.precip_OctSep  \n",
       "0                    1.305313  \n",
       "1                    1.305357  \n",
       "2                    1.305535  \n",
       "3                    1.305422  \n",
       "4                    1.305557  \n",
       "\n",
       "[5 rows x 428 columns]"
      ]
     },
     "execution_count": 34,
     "metadata": {},
     "output_type": "execute_result"
    }
   ],
   "source": [
    "X_train.head()"
   ]
  },
  {
   "cell_type": "code",
   "execution_count": 35,
   "metadata": {
    "collapsed": false
   },
   "outputs": [
    {
     "name": "stdout",
     "output_type": "stream",
     "text": [
      "277 388 405\n"
     ]
    }
   ],
   "source": [
    "segmented = [field for field in (list(X_train)) if 'L' in field]\n",
    "interactions = [field for field in list(X_train) if '.' in field]\n",
    "both = list(set(segmented) | set(interactions))\n",
    "print(len(segmented), len(interactions), len(both))"
   ]
  },
  {
   "cell_type": "code",
   "execution_count": 36,
   "metadata": {
    "collapsed": false
   },
   "outputs": [
    {
     "name": "stdout",
     "output_type": "stream",
     "text": [
      "Percent presence in y_train: 17.26%\n",
      "Percent presence in y_valid: 13.92%\n",
      "Percent presence in y_test: 12.64%\n"
     ]
    }
   ],
   "source": [
    "util.print_percent_presence(y_train, 'y_train')\n",
    "util.print_percent_presence(y_valid, 'y_valid')\n",
    "util.print_percent_presence(y_test,  'y_test')"
   ]
  },
  {
   "cell_type": "code",
   "execution_count": 37,
   "metadata": {
    "collapsed": false
   },
   "outputs": [
    {
     "name": "stdout",
     "output_type": "stream",
     "text": [
      "Baseline accuracy if predicting \"absent\" for all cells:\n",
      "  train: 82.74\n",
      "  valid: 86.08\n",
      "  test:  87.36\n"
     ]
    }
   ],
   "source": [
    "print('Baseline accuracy if predicting \"absent\" for all cells:')\n",
    "print('  train:', 100 - 17.26)\n",
    "print('  valid:', 100 - 13.92)\n",
    "print('  test: ', 100 - 12.64)"
   ]
  },
  {
   "cell_type": "code",
   "execution_count": 38,
   "metadata": {
    "collapsed": false
   },
   "outputs": [],
   "source": [
    "is_finite = np.isfinite(X_valid).all()"
   ]
  },
  {
   "cell_type": "code",
   "execution_count": 39,
   "metadata": {
    "collapsed": false
   },
   "outputs": [],
   "source": [
    "have_nans = list(is_finite[is_finite == False].index)\n",
    "#have_nans"
   ]
  },
  {
   "cell_type": "code",
   "execution_count": 40,
   "metadata": {
    "collapsed": false
   },
   "outputs": [
    {
     "name": "stdout",
     "output_type": "stream",
     "text": [
      "(526849, 428) (526849, 1)\n",
      "(176146, 428) (176146, 1)\n",
      "(175416, 428) (175416, 1)\n"
     ]
    }
   ],
   "source": [
    "X_train, y_train = util.drop_nans(\n",
    "    X_train, y_train, 'varPrecip_growingSeason')\n",
    "X_valid, y_valid = util.drop_nans(\n",
    "    X_valid, y_valid, 'varPrecip_growingSeason')\n",
    "X_test,  y_test  = util.drop_nans(\n",
    "    X_test,  y_test,  'varPrecip_growingSeason')"
   ]
  },
  {
   "cell_type": "code",
   "execution_count": 41,
   "metadata": {
    "collapsed": false
   },
   "outputs": [
    {
     "data": {
      "text/plain": [
       "[]"
      ]
     },
     "execution_count": 41,
     "metadata": {},
     "output_type": "execute_result"
    }
   ],
   "source": [
    "is_finite = np.isfinite(X_valid).all()\n",
    "have_nans = list(is_finite[is_finite == False].index)\n",
    "have_nans"
   ]
  },
  {
   "cell_type": "code",
   "execution_count": 42,
   "metadata": {
    "collapsed": true
   },
   "outputs": [],
   "source": [
    "def drop_fields(fields, Xs):\n",
    "    X_train, X_valid, X_test = Xs\n",
    "    X_train = X_train.drop(fields, axis=1)\n",
    "    X_valid = X_valid.drop(fields, axis=1)\n",
    "    X_test  = X_test.drop(fields,  axis=1)\n",
    "    return X_train, X_valid, X_test"
   ]
  },
  {
   "cell_type": "code",
   "execution_count": 43,
   "metadata": {
    "collapsed": false
   },
   "outputs": [],
   "source": [
    "# Select data set here\n",
    "Xs = X_train, X_valid, X_test\n",
    "#X_train, X_valid, X_test = drop_fields(segmented, Xs)\n",
    "#X_train, X_valid, X_test = drop_fields(interactions, Xs)\n",
    "X_train, X_valid, X_test = drop_fields(both, Xs)"
   ]
  },
  {
   "cell_type": "code",
   "execution_count": 44,
   "metadata": {
    "collapsed": true
   },
   "outputs": [],
   "source": [
    "full_test = X_test.copy()\n",
    "full_test['beetle'] = y_test['beetle']"
   ]
  },
  {
   "cell_type": "code",
   "execution_count": 45,
   "metadata": {
    "collapsed": false
   },
   "outputs": [],
   "source": [
    "# Drop 'studyArea' from predictors (all 1 in the reduced data) and 'x' and\n",
    "# 'y' (perfectly correlated with 'lon' and 'lat')\n",
    "X_train = X_train.drop(['x', 'y'], axis=1)\n",
    "X_valid = X_valid.drop(['x', 'y'], axis=1)\n",
    "X_test  = X_test.drop(['x', 'y'],  axis=1)"
   ]
  },
  {
   "cell_type": "code",
   "execution_count": 46,
   "metadata": {
    "collapsed": true
   },
   "outputs": [],
   "source": [
    "# Normalize data to make gradient descent more efficient\n",
    "scaler = StandardScaler()\n",
    "X_train = scaler.fit_transform(X_train)\n",
    "X_valid = scaler.transform(X_valid)\n",
    "X_test  = scaler.transform(X_test)"
   ]
  },
  {
   "cell_type": "code",
   "execution_count": 47,
   "metadata": {
    "collapsed": true
   },
   "outputs": [],
   "source": [
    "y_train = y_train['beetle'].values.reshape(-1)\n",
    "y_valid = y_valid['beetle'].values.reshape(-1)\n",
    "y_test  = y_test['beetle'].values.reshape(-1)"
   ]
  },
  {
   "cell_type": "markdown",
   "metadata": {},
   "source": [
    "# Logistic Regression \n",
    "#### With L1 (_Lasso Regression_) or L2 (_Ridge Regression_ ) Regularization\n",
    "This model will be considered the baseline for logistic regression models as it uses just the raw predictors.  After some EDA, various transformations and interaction terms will also be considered in order to improve the model."
   ]
  },
  {
   "cell_type": "code",
   "execution_count": 48,
   "metadata": {
    "collapsed": false
   },
   "outputs": [
    {
     "name": "stdout",
     "output_type": "stream",
     "text": [
      "Testing C = 0.0001; (l1) Elapsed time: 0.04 minutes\n",
      "(l2) Elapsed time: 0.05 minutes\n",
      "Testing C = 0.0005; (l1) Elapsed time: 0.42 minutes\n",
      "(l2) Elapsed time: 0.43 minutes\n",
      "Testing C = 0.001; (l1) Elapsed time: 0.64 minutes\n",
      "(l2) Elapsed time: 0.66 minutes\n",
      "Testing C = 0.005; (l1) Elapsed time: 1.04 minutes\n",
      "(l2) Elapsed time: 1.05 minutes\n",
      "Testing C = 0.01; (l1) Elapsed time: 1.25 minutes\n",
      "(l2) Elapsed time: 1.26 minutes\n",
      "Testing C = 0.05; (l1) Elapsed time: 2.09 minutes\n",
      "(l2) Elapsed time: 2.10 minutes\n",
      "Testing C = 0.1; (l1) Elapsed time: 2.60 minutes\n",
      "(l2) Elapsed time: 2.61 minutes\n",
      "Testing C = 0.5; (l1) Elapsed time: 2.81 minutes\n",
      "(l2) Elapsed time: 2.82 minutes\n",
      "Testing C = 1; (l1) Elapsed time: 2.93 minutes\n",
      "(l2) Elapsed time: 2.94 minutes\n"
     ]
    }
   ],
   "source": [
    "# Find optimal regularization via best validation-set accuracy\n",
    "l1_mods = []\n",
    "l2_mods = []\n",
    "Cs = [0.0001, 0.0005, 0.001, 0.005, 0.01, 0.05, 0.1, 0.5, 1]\n",
    "\n",
    "t0 = time.time()\n",
    "for C in Cs:\n",
    "    print('Testing C =', C, end='; ')\n",
    "    for penalty in ['l1', 'l2']:\n",
    "        print('(%s)' % penalty, end=' ')\n",
    "        logistic_clf = LogisticRegression(C=C, penalty=penalty)\n",
    "        logistic_clf.fit(X_test, y_test)\n",
    "        preds = logistic_clf.predict(X_valid)\n",
    "        accuracy = sum(y_valid == preds) / len(preds)\n",
    "        if penalty == 'l1':\n",
    "            l1_mods.append(accuracy)\n",
    "        else:\n",
    "            l2_mods.append(accuracy)\n",
    "        print('Elapsed time: %.2f minutes' % ((time.time() - t0) / 60))"
   ]
  },
  {
   "cell_type": "code",
   "execution_count": 49,
   "metadata": {
    "collapsed": false
   },
   "outputs": [
    {
     "name": "stdout",
     "output_type": "stream",
     "text": [
      "[0.86051343771643973, 0.86051343771643973, 0.86051343771643973, 0.86051343771643973, 0.86051343771643973, 0.86051343771643973, 0.86051343771643973, 0.86051343771643973, 0.86051343771643973]\n"
     ]
    },
    {
     "data": {
      "image/png": "[encoded data removed]",
      "text/plain": [
       "<matplotlib.figure.Figure at 0x108b605f8>"
      ]
     },
     "metadata": {},
     "output_type": "display_data"
    }
   ],
   "source": [
    "plt.plot(Cs, l1_mods, label='L1 Reg.');\n",
    "plt.plot(Cs, l2_mods, label='L2 Reg.');\n",
    "plt.xscale('log');\n",
    "plt.xlabel('C');\n",
    "plt.ylabel('Accuracy');\n",
    "plt.legend(loc='best');\n",
    "print(l2_mods)"
   ]
  },
  {
   "cell_type": "code",
   "execution_count": 50,
   "metadata": {
    "collapsed": false
   },
   "outputs": [
    {
     "data": {
      "text/plain": [
       "0.87278811510922605"
      ]
     },
     "execution_count": 50,
     "metadata": {},
     "output_type": "execute_result"
    }
   ],
   "source": [
    "logistic_clf = LogisticRegression(C=1, penalty='l2')\n",
    "logistic_clf.fit(X_test, y_test)\n",
    "preds = logistic_clf.predict(X_test)\n",
    "accuracy = sum(y_test == preds) / len(preds)\n",
    "accuracy"
   ]
  },
  {
   "cell_type": "code",
   "execution_count": 51,
   "metadata": {
    "collapsed": false
   },
   "outputs": [
    {
     "name": "stdout",
     "output_type": "stream",
     "text": [
      "[1 0 0 0 0 0 0 0 0 0]\n",
      "[0 0 0 0 0 0 0 0 0 0]\n"
     ]
    }
   ],
   "source": [
    "print(preds[:10])\n",
    "print(y_test[:10])"
   ]
  },
  {
   "cell_type": "code",
   "execution_count": 52,
   "metadata": {
    "collapsed": true
   },
   "outputs": [],
   "source": [
    "def get_predictions_at_threshold(pred_ps, threshold):\n",
    "    return 1 * (pred_ps >= threshold)\n",
    "\n",
    "def threshold_plot(pred_ps, targets):\n",
    "    thresholds = np.linspace(0, 1, 500)\n",
    "    accuracies = []\n",
    "    n = len(pred_ps)\n",
    "\n",
    "    for threshold in thresholds:\n",
    "        preds = get_predictions_at_threshold(pred_ps, threshold)\n",
    "        accuracies.append((preds == targets).sum() / n)\n",
    "        \n",
    "    plt.plot(thresholds, accuracies);\n",
    "    optimal_threshold = thresholds[np.argmax(accuracies)]\n",
    "    optimal_accuracy = max(accuracies)\n",
    "    plt.plot([optimal_threshold, optimal_threshold], \n",
    "             [min(accuracies), max(accuracies)], \n",
    "             'r')\n",
    "    plt.plot([0, 1], [optimal_accuracy, optimal_accuracy], 'r')\n",
    "    plt.xlabel('Threshold for predicting \"Renewal\"')\n",
    "    plt.ylabel('Accuracy')\n",
    "    plt.show()\n",
    "    return {'threshold': optimal_threshold, 'accuracy': optimal_accuracy}"
   ]
  },
  {
   "cell_type": "code",
   "execution_count": 53,
   "metadata": {
    "collapsed": false
   },
   "outputs": [
    {
     "name": "stdout",
     "output_type": "stream",
     "text": [
      "[[ 0.5         0.5       ]\n",
      " [ 0.54210458  0.45789542]\n",
      " [ 0.53946572  0.46053428]\n",
      " [ 0.57485472  0.42514528]\n",
      " [ 0.573933    0.426067  ]]\n"
     ]
    }
   ],
   "source": [
    "pred_ps = logistic_clf.predict_proba(X_test)\n",
    "print(pred_ps[:5])\n",
    "pred_ps = np.array([p[1] for p in pred_ps])\n",
    "\n",
    "#THRESHOLD = 0.5\n",
    "#preds = get_predictions_at_threshold(pred_ps, THRESHOLD)\n",
    "#print(preds[:5])\n",
    "\n",
    "#best_threshold = threshold_plot(pred_ps, y_test);\n",
    "#print(best_threshold)"
   ]
  },
  {
   "cell_type": "code",
   "execution_count": 54,
   "metadata": {
    "collapsed": false
   },
   "outputs": [
    {
     "name": "stdout",
     "output_type": "stream",
     "text": [
      "Confusion Matrix:\n",
      "         Predicted:\n",
      "         \t1\t\t0\n",
      "Actual: 1\t0\t\t22314\n",
      "        0\t1\t\t153101\n",
      "Accuracy:  0.872788115109\n",
      "Precision: 0.0\n",
      "Recall:    0.0\n",
      "F1:        nan\n"
     ]
    },
    {
     "name": "stderr",
     "output_type": "stream",
     "text": [
      "/Users/dsp/dongmei/sdm/python/models/model_utils.py:112: RuntimeWarning: invalid value encountered in double_scalars\n",
      "  F1        = 2 * precision * recall / (precision + recall)\n"
     ]
    }
   ],
   "source": [
    "cm = util.make_confusion_matrix(y_test, pred_ps, 0.5)\n",
    "metrics = util.get_metrics(cm)"
   ]
  },
  {
   "cell_type": "code",
   "execution_count": 55,
   "metadata": {
    "collapsed": false
   },
   "outputs": [
    {
     "name": "stdout",
     "output_type": "stream",
     "text": [
      "AUC:       0.300945843031\n"
     ]
    },
    {
     "data": {
      "image/png": "[encoded data removed]",
      "text/plain": [
       "<matplotlib.figure.Figure at 0x108f80c18>"
      ]
     },
     "metadata": {},
     "output_type": "display_data"
    }
   ],
   "source": [
    "auc_metrics = util.get_auc(y_test, pred_ps)\n",
    "util.plot_roc(auc_metrics['fpr'], auc_metrics['tpr'])"
   ]
  },
  {
   "cell_type": "markdown",
   "metadata": {},
   "source": [
    "* **Full model**\n",
    "```\n",
    "    C=0.01, penalty='l2'\n",
    "\n",
    "    Confusion Matrix:\n",
    "           Predicted:\n",
    "                  1\t\t  0\n",
    "    Actual: 1\t  3186\t  19128\n",
    "            0\t  3487\t  149615\n",
    "\n",
    "    Accuracy:  0.871077894833\n",
    "    Precision: 0.477446425895\n",
    "    Recall:    0.14278031729\n",
    "    F1:        0.219822679132\n",
    "    AUC:       0.847796955454\n",
    "```\n",
    "\n",
    "* **No Segmented Data**\n",
    "```\n",
    "    C=1, penalty='l2'\n",
    "    Confusion Matrix:\n",
    "             Predicted:\n",
    "                1\t\t0\n",
    "    Actual: 1\t2898\t\t19416\n",
    "            0\t3140\t\t149962\n",
    "    Accuracy:  0.871414238154\n",
    "    Precision: 0.479960251739\n",
    "    Recall:    0.129873621941\n",
    "    F1:        0.204430022573  \n",
    "    AUC:       0.833799160281 \n",
    "```\n",
    "\n",
    "* **No Interactions and No Both**\n",
    "```\n",
    "    Confusion Matrix:\n",
    "             Predicted:\n",
    "                1\t\t0\n",
    "    Actual: 1\t0\t\t22314\n",
    "            0\t1\t\t153101\n",
    "    Accuracy:  0.872788115109\n",
    "    Precision: 0.0\n",
    "    Recall:    0.0\n",
    "    F1:        nan\n",
    "    AUC:       0.300945843031\n",
    "```"
   ]
  },
  {
   "cell_type": "code",
   "execution_count": null,
   "metadata": {
    "collapsed": true
   },
   "outputs": [],
   "source": []
  },
  {
   "cell_type": "code",
   "execution_count": null,
   "metadata": {
    "collapsed": true
   },
   "outputs": [],
   "source": []
  }
 ],
 "metadata": {
  "kernelspec": {
   "display_name": "Python 3",
   "language": "python",
   "name": "python3"
  },
  "language_info": {
   "codemirror_mode": {
    "name": "ipython",
    "version": 3
   },
   "file_extension": ".py",
   "mimetype": "text/x-python",
   "name": "python",
   "nbconvert_exporter": "python",
   "pygments_lexer": "ipython3",
   "version": "3.6.1"
  }
 },
 "nbformat": 4,
 "nbformat_minor": 0
}
