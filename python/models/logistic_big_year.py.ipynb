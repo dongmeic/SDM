{
 "cells": [
  {
   "cell_type": "markdown",
   "metadata": {},
   "source": [
    "This notebook applies a logistic regression model to the data set, including transformations, segmentations, and interactions as discovered and created in the exploratory R script <a href=\"https://github.com/dongmeic/SDM/blob/master/R/models/logisticModEDA.R.ipynb\">here</a>."
   ]
  },
  {
   "cell_type": "code",
   "execution_count": 1,
   "metadata": {
    "collapsed": true
   },
   "outputs": [],
   "source": [
    "import matplotlib.pyplot as plt\n",
    "import numpy as np\n",
    "import os\n",
    "import pandas as pd\n",
    "from sklearn.linear_model import LogisticRegression, Ridge\n",
    "from sklearn.pipeline import Pipeline\n",
    "from sklearn.model_selection import GridSearchCV\n",
    "from sklearn.preprocessing import StandardScaler\n",
    "\n",
    "import model_utils as util\n",
    "\n",
    "%matplotlib inline\n",
    "plt.rcParams['figure.figsize'] = 10, 8"
   ]
  },
  {
   "cell_type": "code",
   "execution_count": 2,
   "metadata": {
    "collapsed": false
   },
   "outputs": [
    {
     "data": {
      "text/plain": [
       "['weights.bestNN.hdf5',\n",
       " 'X_big_test.csv',\n",
       " 'X_big_train.csv',\n",
       " 'X_big_valid.csv',\n",
       " 'X_test.csv',\n",
       " 'X_train.csv',\n",
       " 'X_valid.csv',\n",
       " 'y_big_test.csv',\n",
       " 'y_big_train.csv',\n",
       " 'y_big_valid.csv',\n",
       " 'y_test.csv',\n",
       " 'y_train.csv',\n",
       " 'y_valid.csv']"
      ]
     },
     "execution_count": 2,
     "metadata": {},
     "output_type": "execute_result"
    }
   ],
   "source": [
    "DATA_PATH =  '../../data/cluster/year/'\n",
    "os.listdir(DATA_PATH)"
   ]
  },
  {
   "cell_type": "code",
   "execution_count": 3,
   "metadata": {
    "collapsed": true
   },
   "outputs": [],
   "source": [
    "def load_data(data_dir):\n",
    "    X_train = pd.read_csv(data_dir + 'X_big_train.csv')\n",
    "    print('X_train:', X_train.shape)\n",
    "    X_valid = pd.read_csv(data_dir + 'X_big_valid.csv')\n",
    "    print('X_valid:', X_valid.shape)\n",
    "    X_test  = pd.read_csv(data_dir + 'X_big_test.csv')\n",
    "    print('X_test:',  X_test.shape)\n",
    "    y_train = pd.read_csv(data_dir + 'y_big_train.csv')\n",
    "    print('y_train:', y_train.shape)\n",
    "    y_valid = pd.read_csv(data_dir + 'y_big_valid.csv')\n",
    "    print('y_valid:', y_valid.shape)\n",
    "    y_test  = pd.read_csv(data_dir + 'y_big_test.csv')\n",
    "    print('y_test:',  y_test.shape)\n",
    "    \n",
    "    return [[X_train, y_train], [X_valid, y_valid], [X_test, y_test]]"
   ]
  },
  {
   "cell_type": "code",
   "execution_count": 4,
   "metadata": {
    "collapsed": false
   },
   "outputs": [
    {
     "name": "stdout",
     "output_type": "stream",
     "text": [
      "X_train: (529623, 428)\n",
      "X_valid: (176541, 428)\n",
      "X_test: (176541, 428)\n",
      "y_train: (529623, 1)\n",
      "y_valid: (176541, 1)\n",
      "y_test: (176541, 1)\n"
     ]
    }
   ],
   "source": [
    "[[X_train, y_train], \n",
    " [X_valid, y_valid], \n",
    " [X_test, y_test]] = load_data(DATA_PATH)"
   ]
  },
  {
   "cell_type": "code",
   "execution_count": 5,
   "metadata": {
    "collapsed": false
   },
   "outputs": [
    {
     "data": {
      "text/html": [
       "<div>\n",
       "<style>\n",
       "    .dataframe thead tr:only-child th {\n",
       "        text-align: right;\n",
       "    }\n",
       "\n",
       "    .dataframe thead th {\n",
       "        text-align: left;\n",
       "    }\n",
       "\n",
       "    .dataframe tbody tr th {\n",
       "        vertical-align: top;\n",
       "    }\n",
       "</style>\n",
       "<table border=\"1\" class=\"dataframe\">\n",
       "  <thead>\n",
       "    <tr style=\"text-align: right;\">\n",
       "      <th></th>\n",
       "      <th>beetle</th>\n",
       "    </tr>\n",
       "  </thead>\n",
       "  <tbody>\n",
       "    <tr>\n",
       "      <th>0</th>\n",
       "      <td>0</td>\n",
       "    </tr>\n",
       "    <tr>\n",
       "      <th>1</th>\n",
       "      <td>0</td>\n",
       "    </tr>\n",
       "    <tr>\n",
       "      <th>2</th>\n",
       "      <td>0</td>\n",
       "    </tr>\n",
       "    <tr>\n",
       "      <th>3</th>\n",
       "      <td>0</td>\n",
       "    </tr>\n",
       "    <tr>\n",
       "      <th>4</th>\n",
       "      <td>0</td>\n",
       "    </tr>\n",
       "  </tbody>\n",
       "</table>\n",
       "</div>"
      ],
      "text/plain": [
       "   beetle\n",
       "0       0\n",
       "1       0\n",
       "2       0\n",
       "3       0\n",
       "4       0"
      ]
     },
     "execution_count": 5,
     "metadata": {},
     "output_type": "execute_result"
    }
   ],
   "source": [
    "y_train.head()"
   ]
  },
  {
   "cell_type": "code",
   "execution_count": 6,
   "metadata": {
    "collapsed": false
   },
   "outputs": [
    {
     "data": {
      "text/html": [
       "<div>\n",
       "<style>\n",
       "    .dataframe thead tr:only-child th {\n",
       "        text-align: right;\n",
       "    }\n",
       "\n",
       "    .dataframe thead th {\n",
       "        text-align: left;\n",
       "    }\n",
       "\n",
       "    .dataframe tbody tr th {\n",
       "        vertical-align: top;\n",
       "    }\n",
       "</style>\n",
       "<table border=\"1\" class=\"dataframe\">\n",
       "  <thead>\n",
       "    <tr style=\"text-align: right;\">\n",
       "      <th></th>\n",
       "      <th>year</th>\n",
       "      <th>meanTemp_Annual</th>\n",
       "      <th>meanTemp_AprAug</th>\n",
       "      <th>meanTemp_Aug</th>\n",
       "      <th>meanMinTemp_DecFeb</th>\n",
       "      <th>meanMinTemp_Oct</th>\n",
       "      <th>meanMinTemp_Jan</th>\n",
       "      <th>meanMinTemp_Mar</th>\n",
       "      <th>meanMaxTemp_Aug</th>\n",
       "      <th>precip_meanAnnual</th>\n",
       "      <th>...</th>\n",
       "      <th>precip_OctSep.elev_etopo1_L111</th>\n",
       "      <th>precip_OctSep.lat_L45</th>\n",
       "      <th>precip_OctSep.precip_growingSeason_L35</th>\n",
       "      <th>precip_OctSep.precipPrevious_OctSep_L1065</th>\n",
       "      <th>precip_OctSep.precip_meanAnnual_L1049</th>\n",
       "      <th>precip_OctSep.precip_OctSep_L10112864</th>\n",
       "      <th>meanMaxTemp_Aug.precip_OctSep</th>\n",
       "      <th>meanTemp_AprAug.precip_OctSep</th>\n",
       "      <th>precip_OctSep.varPrecip_growingSeason</th>\n",
       "      <th>meanTemp_Aug.precip_OctSep</th>\n",
       "    </tr>\n",
       "  </thead>\n",
       "  <tbody>\n",
       "    <tr>\n",
       "      <th>0</th>\n",
       "      <td>2006</td>\n",
       "      <td>3.990634</td>\n",
       "      <td>1.605879</td>\n",
       "      <td>1.290749</td>\n",
       "      <td>69.133768</td>\n",
       "      <td>0.720433</td>\n",
       "      <td>127.207708</td>\n",
       "      <td>1250.563817</td>\n",
       "      <td>4.935820</td>\n",
       "      <td>1.044079</td>\n",
       "      <td>...</td>\n",
       "      <td>1.011283</td>\n",
       "      <td>1.011283</td>\n",
       "      <td>1.011283</td>\n",
       "      <td>1.011283</td>\n",
       "      <td>1.011283</td>\n",
       "      <td>1.011283</td>\n",
       "      <td>4.991511</td>\n",
       "      <td>1.623998</td>\n",
       "      <td>1.359425</td>\n",
       "      <td>1.305313</td>\n",
       "    </tr>\n",
       "    <tr>\n",
       "      <th>1</th>\n",
       "      <td>2006</td>\n",
       "      <td>3.992621</td>\n",
       "      <td>1.606685</td>\n",
       "      <td>1.290793</td>\n",
       "      <td>69.219433</td>\n",
       "      <td>0.720437</td>\n",
       "      <td>127.429912</td>\n",
       "      <td>1260.014689</td>\n",
       "      <td>4.939409</td>\n",
       "      <td>1.043837</td>\n",
       "      <td>...</td>\n",
       "      <td>1.011283</td>\n",
       "      <td>1.011283</td>\n",
       "      <td>1.011283</td>\n",
       "      <td>1.011283</td>\n",
       "      <td>1.011283</td>\n",
       "      <td>1.011283</td>\n",
       "      <td>4.995140</td>\n",
       "      <td>1.624813</td>\n",
       "      <td>1.356691</td>\n",
       "      <td>1.305357</td>\n",
       "    </tr>\n",
       "    <tr>\n",
       "      <th>2</th>\n",
       "      <td>2006</td>\n",
       "      <td>3.996872</td>\n",
       "      <td>1.609031</td>\n",
       "      <td>1.290969</td>\n",
       "      <td>69.081661</td>\n",
       "      <td>0.720437</td>\n",
       "      <td>127.072590</td>\n",
       "      <td>1258.160544</td>\n",
       "      <td>4.963157</td>\n",
       "      <td>1.043672</td>\n",
       "      <td>...</td>\n",
       "      <td>1.011283</td>\n",
       "      <td>1.011283</td>\n",
       "      <td>1.011283</td>\n",
       "      <td>1.011283</td>\n",
       "      <td>1.011283</td>\n",
       "      <td>1.011283</td>\n",
       "      <td>5.019156</td>\n",
       "      <td>1.627185</td>\n",
       "      <td>1.353328</td>\n",
       "      <td>1.305535</td>\n",
       "    </tr>\n",
       "    <tr>\n",
       "      <th>3</th>\n",
       "      <td>2006</td>\n",
       "      <td>3.985463</td>\n",
       "      <td>1.605739</td>\n",
       "      <td>1.290857</td>\n",
       "      <td>68.045596</td>\n",
       "      <td>0.720410</td>\n",
       "      <td>124.392642</td>\n",
       "      <td>1180.705122</td>\n",
       "      <td>4.965677</td>\n",
       "      <td>1.044720</td>\n",
       "      <td>...</td>\n",
       "      <td>1.011284</td>\n",
       "      <td>1.011284</td>\n",
       "      <td>1.011284</td>\n",
       "      <td>1.011284</td>\n",
       "      <td>1.011284</td>\n",
       "      <td>1.011284</td>\n",
       "      <td>5.021708</td>\n",
       "      <td>1.623858</td>\n",
       "      <td>1.336549</td>\n",
       "      <td>1.305422</td>\n",
       "    </tr>\n",
       "    <tr>\n",
       "      <th>4</th>\n",
       "      <td>2006</td>\n",
       "      <td>3.987666</td>\n",
       "      <td>1.607431</td>\n",
       "      <td>1.290990</td>\n",
       "      <td>67.750966</td>\n",
       "      <td>0.720408</td>\n",
       "      <td>123.632866</td>\n",
       "      <td>1172.168976</td>\n",
       "      <td>4.985482</td>\n",
       "      <td>1.044705</td>\n",
       "      <td>...</td>\n",
       "      <td>1.011283</td>\n",
       "      <td>1.011283</td>\n",
       "      <td>1.011283</td>\n",
       "      <td>1.011283</td>\n",
       "      <td>1.011283</td>\n",
       "      <td>1.011283</td>\n",
       "      <td>5.041735</td>\n",
       "      <td>1.625569</td>\n",
       "      <td>1.332730</td>\n",
       "      <td>1.305557</td>\n",
       "    </tr>\n",
       "  </tbody>\n",
       "</table>\n",
       "<p>5 rows × 428 columns</p>\n",
       "</div>"
      ],
      "text/plain": [
       "   year  meanTemp_Annual  meanTemp_AprAug  meanTemp_Aug  meanMinTemp_DecFeb  \\\n",
       "0  2006         3.990634         1.605879      1.290749           69.133768   \n",
       "1  2006         3.992621         1.606685      1.290793           69.219433   \n",
       "2  2006         3.996872         1.609031      1.290969           69.081661   \n",
       "3  2006         3.985463         1.605739      1.290857           68.045596   \n",
       "4  2006         3.987666         1.607431      1.290990           67.750966   \n",
       "\n",
       "   meanMinTemp_Oct  meanMinTemp_Jan  meanMinTemp_Mar  meanMaxTemp_Aug  \\\n",
       "0         0.720433       127.207708      1250.563817         4.935820   \n",
       "1         0.720437       127.429912      1260.014689         4.939409   \n",
       "2         0.720437       127.072590      1258.160544         4.963157   \n",
       "3         0.720410       124.392642      1180.705122         4.965677   \n",
       "4         0.720408       123.632866      1172.168976         4.985482   \n",
       "\n",
       "   precip_meanAnnual             ...              \\\n",
       "0           1.044079             ...               \n",
       "1           1.043837             ...               \n",
       "2           1.043672             ...               \n",
       "3           1.044720             ...               \n",
       "4           1.044705             ...               \n",
       "\n",
       "   precip_OctSep.elev_etopo1_L111  precip_OctSep.lat_L45  \\\n",
       "0                        1.011283               1.011283   \n",
       "1                        1.011283               1.011283   \n",
       "2                        1.011283               1.011283   \n",
       "3                        1.011284               1.011284   \n",
       "4                        1.011283               1.011283   \n",
       "\n",
       "   precip_OctSep.precip_growingSeason_L35  \\\n",
       "0                                1.011283   \n",
       "1                                1.011283   \n",
       "2                                1.011283   \n",
       "3                                1.011284   \n",
       "4                                1.011283   \n",
       "\n",
       "   precip_OctSep.precipPrevious_OctSep_L1065  \\\n",
       "0                                   1.011283   \n",
       "1                                   1.011283   \n",
       "2                                   1.011283   \n",
       "3                                   1.011284   \n",
       "4                                   1.011283   \n",
       "\n",
       "   precip_OctSep.precip_meanAnnual_L1049  \\\n",
       "0                               1.011283   \n",
       "1                               1.011283   \n",
       "2                               1.011283   \n",
       "3                               1.011284   \n",
       "4                               1.011283   \n",
       "\n",
       "   precip_OctSep.precip_OctSep_L10112864  meanMaxTemp_Aug.precip_OctSep  \\\n",
       "0                               1.011283                       4.991511   \n",
       "1                               1.011283                       4.995140   \n",
       "2                               1.011283                       5.019156   \n",
       "3                               1.011284                       5.021708   \n",
       "4                               1.011283                       5.041735   \n",
       "\n",
       "   meanTemp_AprAug.precip_OctSep  precip_OctSep.varPrecip_growingSeason  \\\n",
       "0                       1.623998                               1.359425   \n",
       "1                       1.624813                               1.356691   \n",
       "2                       1.627185                               1.353328   \n",
       "3                       1.623858                               1.336549   \n",
       "4                       1.625569                               1.332730   \n",
       "\n",
       "   meanTemp_Aug.precip_OctSep  \n",
       "0                    1.305313  \n",
       "1                    1.305357  \n",
       "2                    1.305535  \n",
       "3                    1.305422  \n",
       "4                    1.305557  \n",
       "\n",
       "[5 rows x 428 columns]"
      ]
     },
     "execution_count": 6,
     "metadata": {},
     "output_type": "execute_result"
    }
   ],
   "source": [
    "X_train.head()"
   ]
  },
  {
   "cell_type": "code",
   "execution_count": 7,
   "metadata": {
    "collapsed": false
   },
   "outputs": [
    {
     "name": "stdout",
     "output_type": "stream",
     "text": [
      "Percent presence in y_train: 17.26%\n",
      "Percent presence in y_valid: 13.92%\n",
      "Percent presence in y_test: 12.64%\n"
     ]
    }
   ],
   "source": [
    "util.print_percent_presence(y_train, 'y_train')\n",
    "util.print_percent_presence(y_valid, 'y_valid')\n",
    "util.print_percent_presence(y_test,  'y_test')"
   ]
  },
  {
   "cell_type": "code",
   "execution_count": 8,
   "metadata": {
    "collapsed": false
   },
   "outputs": [
    {
     "name": "stdout",
     "output_type": "stream",
     "text": [
      "Baseline accuracy if predicting \"absent\" for all cells:\n",
      "  train: 82.74\n",
      "  valid: 86.08\n",
      "  test:  87.36\n"
     ]
    }
   ],
   "source": [
    "print('Baseline accuracy if predicting \"absent\" for all cells:')\n",
    "print('  train:', 100 - 17.26)\n",
    "print('  valid:', 100 - 13.92)\n",
    "print('  test: ', 100 - 12.64)"
   ]
  },
  {
   "cell_type": "code",
   "execution_count": 9,
   "metadata": {
    "collapsed": false
   },
   "outputs": [],
   "source": [
    "is_finite = np.isfinite(X_valid).all()"
   ]
  },
  {
   "cell_type": "code",
   "execution_count": 10,
   "metadata": {
    "collapsed": false
   },
   "outputs": [
    {
     "data": {
      "text/plain": [
       "['varPrecip_growingSeason',\n",
       " 'meanTemp_Aug.varPrecip_growingSeason',\n",
       " 'meanMaxTemp_Aug.varPrecip_growingSeason',\n",
       " 'varPrecip_growingSeason.precip_OctSep_L10112864',\n",
       " 'varPrecip_growingSeason.precipPrevious_OctSep_L1065',\n",
       " 'varPrecip_growingSeason.precip_meanAnnual_L1049',\n",
       " 'varPrecip_growingSeason.elev_etopo1_L111',\n",
       " 'varPrecip_growingSeason.precip_growingSeason_L35',\n",
       " 'vegetation.varPrecip_growingSeason',\n",
       " 'varPrecip_growingSeason.meanTemp_Aug_L129',\n",
       " 'varPrecip_growingSeason.meanTemp_Annual_L385',\n",
       " 'varPrecip_growingSeason.meanMaxTemp_Aug_L495',\n",
       " 'varPrecip_growingSeason.lon',\n",
       " 'varPrecip_growingSeason.lat',\n",
       " 'precip_JunAug.varPrecip_growingSeason',\n",
       " 'varPrecip_growingSeason.meanMinTemp_DecFeb_L55',\n",
       " 'precipPrevious_JunAug.varPrecip_growingSeason',\n",
       " 'varPrecip_growingSeason.lat_L45',\n",
       " 'year.varPrecip_growingSeason',\n",
       " 'varPrecip_growingSeason.precipPrevious_JunAug_L6',\n",
       " 'varPrecip_growingSeason.precip_JunAug_L10',\n",
       " 'precip_growingSeason.varPrecip_growingSeason',\n",
       " 'varPrecip_growingSeason.lon_Lm120',\n",
       " 'meanTemp_Annual.varPrecip_growingSeason',\n",
       " 'precipPrevious_OctSep.varPrecip_growingSeason',\n",
       " 'precip_meanAnnual.varPrecip_growingSeason',\n",
       " 'meanMinTemp_Oct.varPrecip_growingSeason',\n",
       " 'precip_OctSep.varPrecip_growingSeason']"
      ]
     },
     "execution_count": 10,
     "metadata": {},
     "output_type": "execute_result"
    }
   ],
   "source": [
    "have_nans = list(is_finite[is_finite == False].index)\n",
    "have_nans"
   ]
  },
  {
   "cell_type": "code",
   "execution_count": 11,
   "metadata": {
    "collapsed": false
   },
   "outputs": [
    {
     "name": "stdout",
     "output_type": "stream",
     "text": [
      "(526849, 428) (526849, 1)\n",
      "(176146, 428) (176146, 1)\n",
      "(175416, 428) (175416, 1)\n"
     ]
    }
   ],
   "source": [
    "X_train, y_train = util.drop_nans(\n",
    "    X_train, y_train, 'varPrecip_growingSeason')\n",
    "X_valid, y_valid = util.drop_nans(\n",
    "    X_valid, y_valid, 'varPrecip_growingSeason')\n",
    "X_test,  y_test  = util.drop_nans(\n",
    "    X_test,  y_test,  'varPrecip_growingSeason')"
   ]
  },
  {
   "cell_type": "code",
   "execution_count": 12,
   "metadata": {
    "collapsed": false
   },
   "outputs": [
    {
     "data": {
      "text/plain": [
       "[]"
      ]
     },
     "execution_count": 12,
     "metadata": {},
     "output_type": "execute_result"
    }
   ],
   "source": [
    "is_finite = np.isfinite(X_valid).all()\n",
    "have_nans = list(is_finite[is_finite == False].index)\n",
    "have_nans"
   ]
  },
  {
   "cell_type": "code",
   "execution_count": 13,
   "metadata": {
    "collapsed": true
   },
   "outputs": [],
   "source": [
    "full_test = X_test.copy()\n",
    "full_test['beetle'] = y_test['beetle']"
   ]
  },
  {
   "cell_type": "code",
   "execution_count": 14,
   "metadata": {
    "collapsed": false
   },
   "outputs": [],
   "source": [
    "# Drop 'studyArea' from predictors (all 1 in the reduced data) and 'x' and\n",
    "# 'y' (perfectly correlated with 'lon' and 'lat')\n",
    "X_train = X_train.drop(['x', 'y'], axis=1)\n",
    "X_valid = X_valid.drop(['x', 'y'], axis=1)\n",
    "X_test  = X_test.drop(['x', 'y'],  axis=1)"
   ]
  },
  {
   "cell_type": "code",
   "execution_count": 15,
   "metadata": {
    "collapsed": true
   },
   "outputs": [],
   "source": [
    "# Normalize data to make gradient descent more efficient\n",
    "scaler = StandardScaler()\n",
    "X_train = scaler.fit_transform(X_train)\n",
    "X_valid = scaler.transform(X_valid)\n",
    "X_test  = scaler.transform(X_test)"
   ]
  },
  {
   "cell_type": "code",
   "execution_count": 16,
   "metadata": {
    "collapsed": true
   },
   "outputs": [],
   "source": [
    "y_train = y_train['beetle'].values.reshape(-1)\n",
    "y_valid = y_valid['beetle'].values.reshape(-1)\n",
    "y_test  = y_test['beetle'].values.reshape(-1)"
   ]
  },
  {
   "cell_type": "markdown",
   "metadata": {},
   "source": [
    "# Logistic Regression \n",
    "#### With L1 (_Lasso Regression_) or L2 (_Ridge Regression_ ) Regularization\n",
    "This model will be considered the baseline for logistic regression models as it uses just the raw predictors.  After some EDA, various transformations and interaction terms will also be considered in order to improve the model."
   ]
  },
  {
   "cell_type": "code",
   "execution_count": 18,
   "metadata": {
    "collapsed": false
   },
   "outputs": [
    {
     "name": "stdout",
     "output_type": "stream",
     "text": [
      "{'C': 0.0005, 'penalty': 'l1'}\n"
     ]
    }
   ],
   "source": [
    "param_grid = [{'C': [0.0001, 0.0005, 0.005], 'penalty': ['l1']},\n",
    "              {'C': [0.0001, 0.0005, 0.005], 'penalty': ['l2']}]\n",
    "logistic_mod = GridSearchCV(LogisticRegression(C=1), \n",
    "                            param_grid, \n",
    "                            cv=5,\n",
    "                            scoring='accuracy')\n",
    "logistic_mod.fit(X_train, y_train)\n",
    "\n",
    "print(logistic_mod.best_params_)"
   ]
  },
  {
   "cell_type": "code",
   "execution_count": 19,
   "metadata": {
    "collapsed": false
   },
   "outputs": [
    {
     "name": "stdout",
     "output_type": "stream",
     "text": [
      "{'C': 0.001, 'penalty': 'l1'}\n"
     ]
    }
   ],
   "source": [
    "param_grid = [{'C': [0.0003, 0.0005, 0.001], 'penalty': ['l1']},\n",
    "              {'C': [0.0003, 0.0005, 0.001], 'penalty': ['l2']}]\n",
    "logistic_mod = GridSearchCV(LogisticRegression(C=1), \n",
    "                            param_grid, \n",
    "                            cv=5,\n",
    "                            scoring='accuracy')\n",
    "logistic_mod.fit(X_train, y_train)\n",
    "\n",
    "print(logistic_mod.best_params_)"
   ]
  },
  {
   "cell_type": "code",
   "execution_count": 20,
   "metadata": {
    "collapsed": false
   },
   "outputs": [
    {
     "name": "stdout",
     "output_type": "stream",
     "text": [
      "{'C': 0.0008, 'penalty': 'l1'}\n"
     ]
    }
   ],
   "source": [
    "param_grid = [{'C': [0.0008, 0.001, 0.003], 'penalty': ['l1']},\n",
    "              {'C': [0.0008, 0.001, 0.003], 'penalty': ['l2']}]\n",
    "logistic_mod = GridSearchCV(LogisticRegression(C=1), \n",
    "                            param_grid, \n",
    "                            cv=5,\n",
    "                            scoring='accuracy')\n",
    "logistic_mod.fit(X_train, y_train)\n",
    "\n",
    "print(logistic_mod.best_params_)"
   ]
  },
  {
   "cell_type": "code",
   "execution_count": 21,
   "metadata": {
    "collapsed": false
   },
   "outputs": [
    {
     "name": "stdout",
     "output_type": "stream",
     "text": [
      "{'C': 0.0008, 'penalty': 'l1'}\n"
     ]
    }
   ],
   "source": [
    "param_grid = [{'C': [0.0006, 0.0008, 0.0009], 'penalty': ['l1']},\n",
    "              {'C': [0.0006, 0.0008, 0.0009], 'penalty': ['l2']}]\n",
    "logistic_mod = GridSearchCV(LogisticRegression(C=1), \n",
    "                            param_grid, \n",
    "                            cv=5,\n",
    "                            scoring='accuracy')\n",
    "logistic_mod.fit(X_train, y_train)\n",
    "\n",
    "print(logistic_mod.best_params_)"
   ]
  },
  {
   "cell_type": "code",
   "execution_count": 22,
   "metadata": {
    "collapsed": false
   },
   "outputs": [
    {
     "name": "stdout",
     "output_type": "stream",
     "text": [
      "{'C': 0.0007, 'penalty': 'l1'}\n"
     ]
    }
   ],
   "source": [
    "param_grid = [{'C': [0.0007, 0.0008], 'penalty': ['l1']},\n",
    "              {'C': [0.0007, 0.0008], 'penalty': ['l2']}]\n",
    "logistic_mod = GridSearchCV(LogisticRegression(C=1), \n",
    "                            param_grid, \n",
    "                            cv=5,\n",
    "                            scoring='accuracy')\n",
    "logistic_mod.fit(X_train, y_train)\n",
    "\n",
    "print(logistic_mod.best_params_)"
   ]
  },
  {
   "cell_type": "code",
   "execution_count": null,
   "metadata": {
    "collapsed": false
   },
   "outputs": [],
   "source": [
    "logistic_clf = LogisticRegression(C=0.0007, penalty='l1')\n",
    "logistic_clf.fit(X_test, y_test)\n",
    "preds = logistic_clf.predict(X_test)\n",
    "accuracy = sum(y_test == preds) / len(preds)\n",
    "accuracy"
   ]
  },
  {
   "cell_type": "code",
   "execution_count": null,
   "metadata": {
    "collapsed": false
   },
   "outputs": [],
   "source": [
    "print(preds[:10])\n",
    "print(y_test[:10])"
   ]
  },
  {
   "cell_type": "code",
   "execution_count": 30,
   "metadata": {
    "collapsed": true
   },
   "outputs": [],
   "source": [
    "def get_predictions_at_threshold(pred_ps, threshold):\n",
    "    return 1 * (pred_ps >= threshold)\n",
    "\n",
    "def threshold_plot(pred_ps, targets):\n",
    "    thresholds = np.linspace(0, 1, 500)\n",
    "    accuracies = []\n",
    "    n = len(pred_ps)\n",
    "\n",
    "    for threshold in thresholds:\n",
    "        preds = get_predictions_at_threshold(pred_ps, threshold)\n",
    "        accuracies.append((preds == targets).sum() / n)\n",
    "        \n",
    "    plt.plot(thresholds, accuracies);\n",
    "    optimal_threshold = thresholds[np.argmax(accuracies)]\n",
    "    optimal_accuracy = max(accuracies)\n",
    "    plt.plot([optimal_threshold, optimal_threshold], \n",
    "             [min(accuracies), max(accuracies)], \n",
    "             'r')\n",
    "    plt.plot([0, 1], [optimal_accuracy, optimal_accuracy], 'r')\n",
    "    plt.xlabel('Threshold for predicting \"Renewal\"')\n",
    "    plt.ylabel('Accuracy')\n",
    "    plt.show()\n",
    "    return {'threshold': optimal_threshold, 'accuracy': optimal_accuracy}"
   ]
  },
  {
   "cell_type": "code",
   "execution_count": 31,
   "metadata": {
    "collapsed": false
   },
   "outputs": [
    {
     "name": "stdout",
     "output_type": "stream",
     "text": [
      "[[  9.99298538e-01   7.01462408e-04]\n",
      " [  0.00000000e+00   1.00000000e+00]\n",
      " [  0.00000000e+00   1.00000000e+00]\n",
      " [  0.00000000e+00   1.00000000e+00]\n",
      " [  0.00000000e+00   1.00000000e+00]]\n"
     ]
    }
   ],
   "source": [
    "pred_ps = logistic_clf.predict_proba(X_test)\n",
    "print(pred_ps[:5])\n",
    "pred_ps = np.array([p[1] for p in pred_ps])\n",
    "\n",
    "#THRESHOLD = 0.5\n",
    "#preds = get_predictions_at_threshold(pred_ps, THRESHOLD)\n",
    "#print(preds[:5])\n",
    "\n",
    "#best_threshold = threshold_plot(pred_ps, y_test);\n",
    "#print(best_threshold)"
   ]
  },
  {
   "cell_type": "code",
   "execution_count": 26,
   "metadata": {
    "collapsed": false
   },
   "outputs": [
    {
     "name": "stdout",
     "output_type": "stream",
     "text": [
      "Confusion Matrix:\n",
      "         Predicted:\n",
      "         \t1\t\t0\n",
      "Actual: 1\t0\t\t22314\n",
      "        0\t1\t\t153101\n",
      "Accuracy:  0.872788115109\n",
      "Precision: 0.0\n",
      "Recall:    0.0\n",
      "F1:        nan\n"
     ]
    },
    {
     "name": "stderr",
     "output_type": "stream",
     "text": [
      "/Users/dsp/dongmei/sdm/python/models/model_utils.py:112: RuntimeWarning: invalid value encountered in double_scalars\n",
      "  F1        = 2 * precision * recall / (precision + recall)\n"
     ]
    }
   ],
   "source": [
    "cm = util.make_confusion_matrix(y_test, pred_ps, 0.5)\n",
    "metrics = util.get_metrics(cm)"
   ]
  },
  {
   "cell_type": "code",
   "execution_count": 27,
   "metadata": {
    "collapsed": false
   },
   "outputs": [
    {
     "name": "stdout",
     "output_type": "stream",
     "text": [
      "Confusion Matrix:\n",
      "         Predicted:\n",
      "         \t1\t\t0\n",
      "Actual: 1\t0\t\t22314\n",
      "        0\t1\t\t153101\n",
      "Accuracy:  0.872788115109\n",
      "Precision: 0.0\n",
      "Recall:    0.0\n",
      "F1:        nan\n"
     ]
    },
    {
     "name": "stderr",
     "output_type": "stream",
     "text": [
      "/Users/dsp/dongmei/sdm/python/models/model_utils.py:112: RuntimeWarning: invalid value encountered in double_scalars\n",
      "  F1        = 2 * precision * recall / (precision + recall)\n"
     ]
    }
   ],
   "source": [
    "cm = util.make_confusion_matrix(y_test, pred_ps, 0.41)\n",
    "metrics = util.get_metrics(cm)"
   ]
  },
  {
   "cell_type": "code",
   "execution_count": null,
   "metadata": {
    "collapsed": true
   },
   "outputs": [],
   "source": [
    "auc_metrics = util.get_auc(y_test, pred_ps)\n",
    "util.plot_roc(auc_metrics['fpr'], auc_metrics['tpr'])"
   ]
  }
 ],
 "metadata": {
  "kernelspec": {
   "display_name": "Python 3",
   "language": "python",
   "name": "python3"
  },
  "language_info": {
   "codemirror_mode": {
    "name": "ipython",
    "version": 3
   },
   "file_extension": ".py",
   "mimetype": "text/x-python",
   "name": "python",
   "nbconvert_exporter": "python",
   "pygments_lexer": "ipython3",
   "version": "3.6.1"
  }
 },
 "nbformat": 4,
 "nbformat_minor": 0
}
