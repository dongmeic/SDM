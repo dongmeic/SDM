{
 "cells": [
  {
   "cell_type": "markdown",
   "metadata": {},
   "source": [
    "# Feed-Forward Neural Network\n",
    "This notebook uses a basic (feed-forward) artificial network to predict presence/absence of beetles in raster cells.\n",
    "\n",
    "### \"North Edge\" Prediction Case"
   ]
  },
  {
   "cell_type": "code",
   "execution_count": 1,
   "metadata": {
    "collapsed": false
   },
   "outputs": [
    {
     "name": "stderr",
     "output_type": "stream",
     "text": [
      "Using TensorFlow backend.\n"
     ]
    }
   ],
   "source": [
    "import keras\n",
    "import matplotlib.pyplot as plt\n",
    "import numpy as np\n",
    "import os\n",
    "import pandas as pd\n",
    "import sys\n",
    "import time\n",
    "from keras.callbacks import EarlyStopping, ModelCheckpoint \n",
    "from keras.layers import Activation, BatchNormalization, Dense, Dropout\n",
    "from keras.models import Sequential\n",
    "from keras.optimizers import Adam\n",
    "from pprint import pprint\n",
    "from pylab import *\n",
    "from sklearn.preprocessing import StandardScaler\n",
    "\n",
    "import model_utils as util\n",
    "\n",
    "sys.path.append('../')\n",
    "import data_manipulations as manip\n",
    "\n",
    "%matplotlib inline\n",
    "\n",
    "plt.rcParams['figure.figsize'] = 10, 8\n",
    "plt.style.use('ggplot')"
   ]
  },
  {
   "cell_type": "code",
   "execution_count": 2,
   "metadata": {
    "collapsed": false
   },
   "outputs": [],
   "source": [
    "#!unzip ../../../data/cluster/edge/n/X_train.csv.zip\n",
    "#!mv ./X_train.csv ../../../data/cluster/edge/n/X_train.csv"
   ]
  },
  {
   "cell_type": "code",
   "execution_count": 3,
   "metadata": {
    "collapsed": false
   },
   "outputs": [
    {
     "data": {
      "text/plain": [
       "['weights.bestNN.hdf5',\n",
       " 'X_test.csv',\n",
       " 'X_train.csv',\n",
       " 'X_train.csv.zip',\n",
       " 'X_valid.csv',\n",
       " 'y_test.csv',\n",
       " 'y_test.csv~',\n",
       " 'y_train.csv',\n",
       " 'y_train.csv~',\n",
       " 'y_valid.csv',\n",
       " 'y_valid.csv~']"
      ]
     },
     "execution_count": 3,
     "metadata": {},
     "output_type": "execute_result"
    }
   ],
   "source": [
    "DATA_PATH =  '../../data/cluster/edge/n/'\n",
    "os.listdir(DATA_PATH)"
   ]
  },
  {
   "cell_type": "code",
   "execution_count": 4,
   "metadata": {
    "collapsed": false
   },
   "outputs": [
    {
     "name": "stdout",
     "output_type": "stream",
     "text": [
      "X_train: (617805, 24)\n",
      "X_valid: (131551, 24)\n",
      "X_test: (132405, 24)\n",
      "y_train: (617805, 1)\n",
      "y_valid: (131551, 1)\n",
      "y_test: (132405, 1)\n"
     ]
    }
   ],
   "source": [
    "[[X_train, y_train], \n",
    " [X_valid, y_valid], \n",
    " [X_test, y_test]] = util.load_data(DATA_PATH)"
   ]
  },
  {
   "cell_type": "code",
   "execution_count": 5,
   "metadata": {
    "collapsed": false
   },
   "outputs": [
    {
     "data": {
      "text/html": [
       "<div>\n",
       "<style>\n",
       "    .dataframe thead tr:only-child th {\n",
       "        text-align: right;\n",
       "    }\n",
       "\n",
       "    .dataframe thead th {\n",
       "        text-align: left;\n",
       "    }\n",
       "\n",
       "    .dataframe tbody tr th {\n",
       "        vertical-align: top;\n",
       "    }\n",
       "</style>\n",
       "<table border=\"1\" class=\"dataframe\">\n",
       "  <thead>\n",
       "    <tr style=\"text-align: right;\">\n",
       "      <th></th>\n",
       "      <th>beetle</th>\n",
       "    </tr>\n",
       "  </thead>\n",
       "  <tbody>\n",
       "    <tr>\n",
       "      <th>0</th>\n",
       "      <td>0</td>\n",
       "    </tr>\n",
       "    <tr>\n",
       "      <th>1</th>\n",
       "      <td>0</td>\n",
       "    </tr>\n",
       "    <tr>\n",
       "      <th>2</th>\n",
       "      <td>0</td>\n",
       "    </tr>\n",
       "    <tr>\n",
       "      <th>3</th>\n",
       "      <td>0</td>\n",
       "    </tr>\n",
       "    <tr>\n",
       "      <th>4</th>\n",
       "      <td>0</td>\n",
       "    </tr>\n",
       "  </tbody>\n",
       "</table>\n",
       "</div>"
      ],
      "text/plain": [
       "   beetle\n",
       "0       0\n",
       "1       0\n",
       "2       0\n",
       "3       0\n",
       "4       0"
      ]
     },
     "execution_count": 5,
     "metadata": {},
     "output_type": "execute_result"
    }
   ],
   "source": [
    "y_train.head()"
   ]
  },
  {
   "cell_type": "code",
   "execution_count": 6,
   "metadata": {
    "collapsed": false
   },
   "outputs": [],
   "source": [
    "def print_percent_presence(y, y_name):\n",
    "    print('Percent presence in %s: %.2f%%' % \n",
    "          (y_name, 100 * y.sum() / y.shape[0]))"
   ]
  },
  {
   "cell_type": "code",
   "execution_count": 7,
   "metadata": {
    "collapsed": false
   },
   "outputs": [
    {
     "name": "stdout",
     "output_type": "stream",
     "text": [
      "Percent presence in y_train: 19.01%\n",
      "Percent presence in y_valid: 14.96%\n",
      "Percent presence in y_test: 0.80%\n"
     ]
    }
   ],
   "source": [
    "print_percent_presence(y_train, 'y_train')\n",
    "print_percent_presence(y_valid, 'y_valid')\n",
    "print_percent_presence(y_test,  'y_test')"
   ]
  },
  {
   "cell_type": "code",
   "execution_count": 8,
   "metadata": {
    "collapsed": false
   },
   "outputs": [],
   "source": [
    "# Drop 'studyArea' from predictors (all 1 in the reduced data) and 'x' and\n",
    "# 'y' (perfectly correlated with 'lon' and 'lat')\n",
    "X_train = X_train.drop(['studyArea', 'x', 'y', 'year'], axis=1)\n",
    "X_valid = X_valid.drop(['studyArea', 'x', 'y', 'year'], axis=1)\n",
    "X_test  = X_test.drop(['studyArea', 'x', 'y', 'year'],  axis=1)"
   ]
  },
  {
   "cell_type": "code",
   "execution_count": 9,
   "metadata": {
    "collapsed": false
   },
   "outputs": [
    {
     "data": {
      "text/plain": [
       "meanTemp_Annual             True\n",
       "meanTemp_AprAug             True\n",
       "meanTemp_Aug                True\n",
       "meanMinTemp_DecFeb          True\n",
       "meanMinTemp_Oct             True\n",
       "meanMinTemp_Jan             True\n",
       "meanMinTemp_Mar             True\n",
       "meanMaxTemp_Aug             True\n",
       "precip_meanAnnual           True\n",
       "precip_JunAug               True\n",
       "vegetation                  True\n",
       "precipPrevious_JunAug       True\n",
       "precip_OctSep               True\n",
       "precipPrevious_OctSep       True\n",
       "precip_growingSeason        True\n",
       "varPrecip_growingSeason    False\n",
       "elev_etopo1                 True\n",
       "lat                         True\n",
       "lon                         True\n",
       "elev_srtm30                 True\n",
       "dtype: bool"
      ]
     },
     "execution_count": 9,
     "metadata": {},
     "output_type": "execute_result"
    }
   ],
   "source": [
    "np.isfinite(X_valid).all()"
   ]
  },
  {
   "cell_type": "code",
   "execution_count": 10,
   "metadata": {
    "collapsed": false
   },
   "outputs": [
    {
     "name": "stdout",
     "output_type": "stream",
     "text": [
      "X_train: 0.0\n",
      "X_valid: 0.00930437624952\n",
      "X_test: 0.0231864355576\n"
     ]
    }
   ],
   "source": [
    "print('X_train:', \n",
    "      np.isnan(X_train.varPrecip_growingSeason).sum() / X_train.shape[0])\n",
    "print('X_valid:', \n",
    "      np.isnan(X_valid.varPrecip_growingSeason).sum() / X_valid.shape[0])\n",
    "print('X_test:',  \n",
    "      np.isnan(X_test.varPrecip_growingSeason).sum() / X_test.shape[0])"
   ]
  },
  {
   "cell_type": "code",
   "execution_count": 11,
   "metadata": {
    "collapsed": false
   },
   "outputs": [
    {
     "name": "stdout",
     "output_type": "stream",
     "text": [
      "(617805, 20) (617805, 1)\n",
      "(130327, 20) (130327, 1)\n",
      "(129335, 20) (129335, 1)\n"
     ]
    }
   ],
   "source": [
    "X_train, y_train = util.drop_nans(\n",
    "    X_train, y_train, 'varPrecip_growingSeason')\n",
    "X_valid, y_valid = util.drop_nans(\n",
    "    X_valid, y_valid, 'varPrecip_growingSeason')\n",
    "X_test,  y_test  = util.drop_nans(\n",
    "    X_test,  y_test,  'varPrecip_growingSeason')"
   ]
  },
  {
   "cell_type": "code",
   "execution_count": 12,
   "metadata": {
    "collapsed": false
   },
   "outputs": [],
   "source": [
    "# Normalize data to make gradient descent more efficient\n",
    "scaler = StandardScaler()\n",
    "X_train = scaler.fit_transform(X_train)\n",
    "X_valid = scaler.transform(X_valid)\n",
    "X_test  = scaler.transform(X_test)"
   ]
  },
  {
   "cell_type": "code",
   "execution_count": 13,
   "metadata": {
    "collapsed": false
   },
   "outputs": [],
   "source": [
    "y_train = util.vectorize(y_train.as_matrix())\n",
    "y_valid = util.vectorize(y_valid.as_matrix())\n",
    "y_test  = util.vectorize(y_test.as_matrix())"
   ]
  },
  {
   "cell_type": "markdown",
   "metadata": {},
   "source": [
    "# Neural Net Model"
   ]
  },
  {
   "cell_type": "code",
   "execution_count": 14,
   "metadata": {
    "collapsed": false
   },
   "outputs": [
    {
     "data": {
      "text/plain": [
       "(617805, 20)"
      ]
     },
     "execution_count": 14,
     "metadata": {},
     "output_type": "execute_result"
    }
   ],
   "source": [
    "best_val_loss = np.inf\n",
    "X_train.shape"
   ]
  },
  {
   "cell_type": "code",
   "execution_count": 15,
   "metadata": {
    "collapsed": false
   },
   "outputs": [
    {
     "data": {
      "text/plain": [
       "[20, 20, 20, 20, 20, 20, 20, 20, 2]"
      ]
     },
     "execution_count": 15,
     "metadata": {},
     "output_type": "execute_result"
    }
   ],
   "source": [
    "# Params and Hyperparams\n",
    "n_inputs = X_train.shape[1]\n",
    "n_outputs = 2\n",
    "\n",
    "# Current best\n",
    "N_LAYERS = 8\n",
    "NODES_PER_LAYER = ([n_inputs] * N_LAYERS)\n",
    "#NODES_PER_LAYER = [\n",
    "#    n_inputs, n_inputs * 2, n_inputs * 4, n_inputs * 4, n_inputs *2, \n",
    "#    n_inputs]\n",
    "NODES_PER_LAYER.append(n_outputs)\n",
    "ETA = 0.05\n",
    "DROPOUT = 0.6\n",
    "BETA_1 = 0.9\n",
    "BETA_2 = 0.999\n",
    "EPSILON = 1e-08\n",
    "DECAY = 0.01\n",
    "EPOCHS = 124\n",
    "BATCH_SIZE = 1024\n",
    "\n",
    "NODES_PER_LAYER"
   ]
  },
  {
   "cell_type": "code",
   "execution_count": 16,
   "metadata": {
    "collapsed": true
   },
   "outputs": [],
   "source": [
    "def get_params():\n",
    "    return {'NODES_PER_LAYER': NODES_PER_LAYER,\n",
    "            'ETA': ETA,\n",
    "            'DROPOUT': DROPOUT,\n",
    "            'BETA_1': BETA_1,\n",
    "            'BETA_2': BETA_2,\n",
    "            'EPSILON': EPSILON,\n",
    "            'DECAY': DECAY,\n",
    "            'EPOCHS': EPOCHS,\n",
    "            'BATCH_SIZE': BATCH_SIZE}"
   ]
  },
  {
   "cell_type": "code",
   "execution_count": 17,
   "metadata": {
    "collapsed": false
   },
   "outputs": [
    {
     "name": "stdout",
     "output_type": "stream",
     "text": [
      "_________________________________________________________________\n",
      "Layer (type)                 Output Shape              Param #   \n",
      "=================================================================\n",
      "dense_1 (Dense)              (None, 20)                420       \n",
      "_________________________________________________________________\n",
      "batch_normalization_1 (Batch (None, 20)                80        \n",
      "_________________________________________________________________\n",
      "activation_1 (Activation)    (None, 20)                0         \n",
      "_________________________________________________________________\n",
      "dropout_1 (Dropout)          (None, 20)                0         \n",
      "_________________________________________________________________\n",
      "dense_2 (Dense)              (None, 20)                420       \n",
      "_________________________________________________________________\n",
      "batch_normalization_2 (Batch (None, 20)                80        \n",
      "_________________________________________________________________\n",
      "activation_2 (Activation)    (None, 20)                0         \n",
      "_________________________________________________________________\n",
      "dropout_2 (Dropout)          (None, 20)                0         \n",
      "_________________________________________________________________\n",
      "dense_3 (Dense)              (None, 20)                420       \n",
      "_________________________________________________________________\n",
      "batch_normalization_3 (Batch (None, 20)                80        \n",
      "_________________________________________________________________\n",
      "activation_3 (Activation)    (None, 20)                0         \n",
      "_________________________________________________________________\n",
      "dropout_3 (Dropout)          (None, 20)                0         \n",
      "_________________________________________________________________\n",
      "dense_4 (Dense)              (None, 20)                420       \n",
      "_________________________________________________________________\n",
      "batch_normalization_4 (Batch (None, 20)                80        \n",
      "_________________________________________________________________\n",
      "activation_4 (Activation)    (None, 20)                0         \n",
      "_________________________________________________________________\n",
      "dropout_4 (Dropout)          (None, 20)                0         \n",
      "_________________________________________________________________\n",
      "dense_5 (Dense)              (None, 20)                420       \n",
      "_________________________________________________________________\n",
      "batch_normalization_5 (Batch (None, 20)                80        \n",
      "_________________________________________________________________\n",
      "activation_5 (Activation)    (None, 20)                0         \n",
      "_________________________________________________________________\n",
      "dropout_5 (Dropout)          (None, 20)                0         \n",
      "_________________________________________________________________\n",
      "dense_6 (Dense)              (None, 20)                420       \n",
      "_________________________________________________________________\n",
      "batch_normalization_6 (Batch (None, 20)                80        \n",
      "_________________________________________________________________\n",
      "activation_6 (Activation)    (None, 20)                0         \n",
      "_________________________________________________________________\n",
      "dropout_6 (Dropout)          (None, 20)                0         \n",
      "_________________________________________________________________\n",
      "dense_7 (Dense)              (None, 20)                420       \n",
      "_________________________________________________________________\n",
      "batch_normalization_7 (Batch (None, 20)                80        \n",
      "_________________________________________________________________\n",
      "activation_7 (Activation)    (None, 20)                0         \n",
      "_________________________________________________________________\n",
      "dropout_7 (Dropout)          (None, 20)                0         \n",
      "_________________________________________________________________\n",
      "dense_8 (Dense)              (None, 2)                 42        \n",
      "_________________________________________________________________\n",
      "batch_normalization_8 (Batch (None, 2)                 8         \n",
      "_________________________________________________________________\n",
      "activation_8 (Activation)    (None, 2)                 0         \n",
      "=================================================================\n",
      "Total params: 3,550\n",
      "Trainable params: 3,266\n",
      "Non-trainable params: 284\n",
      "_________________________________________________________________\n"
     ]
    }
   ],
   "source": [
    "model = Sequential()\n",
    "\n",
    "# NOTE: \"glorot-normal\" is the same thing as \"Xavier\" initialization\n",
    "model.add(Dense(NODES_PER_LAYER[1], \n",
    "                input_dim=NODES_PER_LAYER[0], \n",
    "                kernel_initializer='glorot_normal'))\n",
    "model.add(BatchNormalization())\n",
    "model.add(Activation('relu'))\n",
    "model.add(Dropout(DROPOUT))\n",
    "\n",
    "# additional hidden layers here\n",
    "for i in range(2, len(NODES_PER_LAYER) - 1):\n",
    "    model.add(Dense(NODES_PER_LAYER[i], \n",
    "                    kernel_initializer='glorot_normal'))\n",
    "    model.add(BatchNormalization())\n",
    "    model.add(Activation('relu'))\n",
    "    model.add(Dropout(DROPOUT))\n",
    "\n",
    "model.add(Dense(NODES_PER_LAYER[-1], kernel_initializer='glorot_normal'))\n",
    "model.add(BatchNormalization())\n",
    "model.add(Activation('softmax'))\n",
    "\n",
    "model.summary()"
   ]
  },
  {
   "cell_type": "code",
   "execution_count": 18,
   "metadata": {
    "collapsed": true
   },
   "outputs": [],
   "source": [
    "adam = Adam(\n",
    "    lr=ETA, beta_1=BETA_1, beta_2=BETA_2, epsilon=EPSILON, decay=DECAY)\n",
    "model.compile(\n",
    "    loss='binary_crossentropy', optimizer=adam, metrics=['accuracy'])"
   ]
  },
  {
   "cell_type": "code",
   "execution_count": 19,
   "metadata": {
    "collapsed": false
   },
   "outputs": [
    {
     "name": "stdout",
     "output_type": "stream",
     "text": [
      "Train on 617805 samples, validate on 130327 samples\n",
      "Epoch 1/124\n",
      "615424/617805 [============================>.] - ETA: 0s - loss: 0.4234 - acc: 0.8165 - binary_accuracy: 0.8165Epoch 00001: val_loss improved from inf to 0.32884, saving model to ../../data/cluster/edge/n/weights.bestNN.hdf5\n",
      "617805/617805 [==============================] - 19s 30us/step - loss: 0.4234 - acc: 0.8164 - binary_accuracy: 0.8164 - val_loss: 0.3288 - val_acc: 0.8492 - val_binary_accuracy: 0.8492\n",
      "Epoch 2/124\n",
      "617472/617805 [============================>.] - ETA: 0s - loss: 0.3846 - acc: 0.8224 - binary_accuracy: 0.8224Epoch 00002: val_loss improved from 0.32884 to 0.32560, saving model to ../../data/cluster/edge/n/weights.bestNN.hdf5\n",
      "617805/617805 [==============================] - 16s 26us/step - loss: 0.3846 - acc: 0.8224 - binary_accuracy: 0.8224 - val_loss: 0.3256 - val_acc: 0.8492 - val_binary_accuracy: 0.8492\n",
      "Epoch 3/124\n",
      "617472/617805 [============================>.] - ETA: 0s - loss: 0.3813 - acc: 0.8226 - binary_accuracy: 0.8226Epoch 00003: val_loss improved from 0.32560 to 0.32464, saving model to ../../data/cluster/edge/n/weights.bestNN.hdf5\n",
      "617805/617805 [==============================] - 17s 27us/step - loss: 0.3813 - acc: 0.8226 - binary_accuracy: 0.8226 - val_loss: 0.3246 - val_acc: 0.8492 - val_binary_accuracy: 0.8492\n",
      "Epoch 4/124\n",
      "617472/617805 [============================>.] - ETA: 0s - loss: 0.3787 - acc: 0.8233 - binary_accuracy: 0.8233Epoch 00004: val_loss improved from 0.32464 to 0.32438, saving model to ../../data/cluster/edge/n/weights.bestNN.hdf5\n",
      "617805/617805 [==============================] - 16s 26us/step - loss: 0.3787 - acc: 0.8233 - binary_accuracy: 0.8233 - val_loss: 0.3244 - val_acc: 0.8492 - val_binary_accuracy: 0.8492\n",
      "Epoch 5/124\n",
      "617472/617805 [============================>.] - ETA: 0s - loss: 0.3775 - acc: 0.8232 - binary_accuracy: 0.8232Epoch 00005: val_loss improved from 0.32438 to 0.32063, saving model to ../../data/cluster/edge/n/weights.bestNN.hdf5\n",
      "617805/617805 [==============================] - 16s 25us/step - loss: 0.3775 - acc: 0.8232 - binary_accuracy: 0.8232 - val_loss: 0.3206 - val_acc: 0.8494 - val_binary_accuracy: 0.8494\n",
      "Epoch 6/124\n",
      "617472/617805 [============================>.] - ETA: 0s - loss: 0.3765 - acc: 0.8239 - binary_accuracy: 0.8239Epoch 00006: val_loss improved from 0.32063 to 0.31980, saving model to ../../data/cluster/edge/n/weights.bestNN.hdf5\n",
      "617805/617805 [==============================] - 15s 25us/step - loss: 0.3765 - acc: 0.8239 - binary_accuracy: 0.8239 - val_loss: 0.3198 - val_acc: 0.8493 - val_binary_accuracy: 0.8493\n",
      "Epoch 7/124\n",
      "616448/617805 [============================>.] - ETA: 0s - loss: 0.3758 - acc: 0.8237 - binary_accuracy: 0.8237Epoch 00007: val_loss did not improve\n",
      "617805/617805 [==============================] - 15s 25us/step - loss: 0.3759 - acc: 0.8237 - binary_accuracy: 0.8237 - val_loss: 0.3201 - val_acc: 0.8492 - val_binary_accuracy: 0.8492\n",
      "Epoch 8/124\n",
      "616448/617805 [============================>.] - ETA: 0s - loss: 0.3754 - acc: 0.8243 - binary_accuracy: 0.8243Epoch 00008: val_loss improved from 0.31980 to 0.31923, saving model to ../../data/cluster/edge/n/weights.bestNN.hdf5\n",
      "617805/617805 [==============================] - 15s 24us/step - loss: 0.3754 - acc: 0.8243 - binary_accuracy: 0.8243 - val_loss: 0.3192 - val_acc: 0.8492 - val_binary_accuracy: 0.8492\n",
      "Epoch 9/124\n",
      "616448/617805 [============================>.] - ETA: 0s - loss: 0.3746 - acc: 0.8239 - binary_accuracy: 0.8239Epoch 00009: val_loss did not improve\n",
      "617805/617805 [==============================] - 15s 24us/step - loss: 0.3746 - acc: 0.8239 - binary_accuracy: 0.8239 - val_loss: 0.3200 - val_acc: 0.8493 - val_binary_accuracy: 0.8493\n",
      "Epoch 10/124\n",
      "617472/617805 [============================>.] - ETA: 0s - loss: 0.3737 - acc: 0.8242 - binary_accuracy: 0.8242Epoch 00010: val_loss did not improve\n",
      "617805/617805 [==============================] - 15s 24us/step - loss: 0.3738 - acc: 0.8242 - binary_accuracy: 0.8242 - val_loss: 0.3195 - val_acc: 0.8499 - val_binary_accuracy: 0.8499\n",
      "Epoch 11/124\n",
      "616448/617805 [============================>.] - ETA: 0s - loss: 0.3738 - acc: 0.8240 - binary_accuracy: 0.8240Epoch 00011: val_loss did not improve\n",
      "617805/617805 [==============================] - 15s 24us/step - loss: 0.3738 - acc: 0.8240 - binary_accuracy: 0.8240 - val_loss: 0.3207 - val_acc: 0.8493 - val_binary_accuracy: 0.8493\n",
      "Epoch 12/124\n",
      "615424/617805 [============================>.] - ETA: 0s - loss: 0.3738 - acc: 0.8243 - binary_accuracy: 0.8243Epoch 00012: val_loss did not improve\n",
      "617805/617805 [==============================] - 15s 24us/step - loss: 0.3739 - acc: 0.8243 - binary_accuracy: 0.8243 - val_loss: 0.3203 - val_acc: 0.8494 - val_binary_accuracy: 0.8494\n",
      "Epoch 13/124\n",
      "615424/617805 [============================>.] - ETA: 0s - loss: 0.3734 - acc: 0.8247 - binary_accuracy: 0.8247Epoch 00013: val_loss did not improve\n",
      "617805/617805 [==============================] - 15s 24us/step - loss: 0.3734 - acc: 0.8247 - binary_accuracy: 0.8247 - val_loss: 0.3196 - val_acc: 0.8493 - val_binary_accuracy: 0.8493\n",
      "Epoch 14/124\n",
      "616448/617805 [============================>.] - ETA: 0s - loss: 0.3736 - acc: 0.8245 - binary_accuracy: 0.8245Epoch 00014: val_loss did not improve\n",
      "617805/617805 [==============================] - 15s 24us/step - loss: 0.3736 - acc: 0.8245 - binary_accuracy: 0.8245 - val_loss: 0.3197 - val_acc: 0.8492 - val_binary_accuracy: 0.8492\n",
      "Epoch 15/124\n",
      "617472/617805 [============================>.] - ETA: 0s - loss: 0.3726 - acc: 0.8253 - binary_accuracy: 0.8253Epoch 00015: val_loss did not improve\n",
      "617805/617805 [==============================] - 15s 24us/step - loss: 0.3726 - acc: 0.8253 - binary_accuracy: 0.8253 - val_loss: 0.3197 - val_acc: 0.8493 - val_binary_accuracy: 0.8493\n",
      "Epoch 16/124\n",
      "617472/617805 [============================>.] - ETA: 0s - loss: 0.3734 - acc: 0.8243 - binary_accuracy: 0.8243Epoch 00016: val_loss improved from 0.31923 to 0.31878, saving model to ../../data/cluster/edge/n/weights.bestNN.hdf5\n",
      "617805/617805 [==============================] - 15s 24us/step - loss: 0.3734 - acc: 0.8243 - binary_accuracy: 0.8243 - val_loss: 0.3188 - val_acc: 0.8495 - val_binary_accuracy: 0.8495\n",
      "Epoch 17/124\n",
      "616448/617805 [============================>.] - ETA: 0s - loss: 0.3728 - acc: 0.8246 - binary_accuracy: 0.8246Epoch 00017: val_loss did not improve\n",
      "617805/617805 [==============================] - 15s 24us/step - loss: 0.3728 - acc: 0.8246 - binary_accuracy: 0.8246 - val_loss: 0.3205 - val_acc: 0.8492 - val_binary_accuracy: 0.8492\n",
      "Epoch 18/124\n",
      "617472/617805 [============================>.] - ETA: 0s - loss: 0.3727 - acc: 0.8248 - binary_accuracy: 0.8248Epoch 00018: val_loss did not improve\n",
      "617805/617805 [==============================] - 15s 24us/step - loss: 0.3727 - acc: 0.8248 - binary_accuracy: 0.8248 - val_loss: 0.3198 - val_acc: 0.8492 - val_binary_accuracy: 0.8492\n",
      "Epoch 19/124\n",
      "616448/617805 [============================>.] - ETA: 0s - loss: 0.3731 - acc: 0.8246 - binary_accuracy: 0.8246Epoch 00019: val_loss did not improve\n",
      "617805/617805 [==============================] - 17s 28us/step - loss: 0.3730 - acc: 0.8246 - binary_accuracy: 0.8246 - val_loss: 0.3190 - val_acc: 0.8492 - val_binary_accuracy: 0.8492\n",
      "Epoch 20/124\n",
      "617472/617805 [============================>.] - ETA: 0s - loss: 0.3725 - acc: 0.8246 - binary_accuracy: 0.8246Epoch 00020: val_loss did not improve\n",
      "617805/617805 [==============================] - 17s 27us/step - loss: 0.3725 - acc: 0.8245 - binary_accuracy: 0.8245 - val_loss: 0.3199 - val_acc: 0.8492 - val_binary_accuracy: 0.8492\n",
      "Epoch 21/124\n",
      "616448/617805 [============================>.] - ETA: 0s - loss: 0.3728 - acc: 0.8244 - binary_accuracy: 0.8244Epoch 00021: val_loss did not improve\n",
      "617805/617805 [==============================] - 17s 27us/step - loss: 0.3728 - acc: 0.8244 - binary_accuracy: 0.8244 - val_loss: 0.3198 - val_acc: 0.8492 - val_binary_accuracy: 0.8492\n",
      "Epoch 22/124\n",
      "617472/617805 [============================>.] - ETA: 0s - loss: 0.3721 - acc: 0.8251 - binary_accuracy: 0.8251Epoch 00022: val_loss did not improve\n",
      "617805/617805 [==============================] - 17s 27us/step - loss: 0.3721 - acc: 0.8251 - binary_accuracy: 0.8251 - val_loss: 0.3193 - val_acc: 0.8492 - val_binary_accuracy: 0.8492\n",
      "Epoch 23/124\n",
      "617472/617805 [============================>.] - ETA: 0s - loss: 0.3717 - acc: 0.8252 - binary_accuracy: 0.8252Epoch 00023: val_loss improved from 0.31878 to 0.31876, saving model to ../../data/cluster/edge/n/weights.bestNN.hdf5\n",
      "617805/617805 [==============================] - 17s 27us/step - loss: 0.3717 - acc: 0.8251 - binary_accuracy: 0.8251 - val_loss: 0.3188 - val_acc: 0.8493 - val_binary_accuracy: 0.8493\n",
      "Epoch 24/124\n",
      "617472/617805 [============================>.] - ETA: 0s - loss: 0.3726 - acc: 0.8242 - binary_accuracy: 0.8242Epoch 00024: val_loss did not improve\n",
      "617805/617805 [==============================] - 16s 26us/step - loss: 0.3726 - acc: 0.8242 - binary_accuracy: 0.8242 - val_loss: 0.3191 - val_acc: 0.8492 - val_binary_accuracy: 0.8492\n",
      "Epoch 25/124\n",
      "615424/617805 [============================>.] - ETA: 0s - loss: 0.3718 - acc: 0.8252 - binary_accuracy: 0.8252Epoch 00025: val_loss improved from 0.31876 to 0.31847, saving model to ../../data/cluster/edge/n/weights.bestNN.hdf5\n",
      "617805/617805 [==============================] - 15s 25us/step - loss: 0.3718 - acc: 0.8252 - binary_accuracy: 0.8252 - val_loss: 0.3185 - val_acc: 0.8493 - val_binary_accuracy: 0.8493\n",
      "Epoch 26/124\n",
      "617472/617805 [============================>.] - ETA: 0s - loss: 0.3724 - acc: 0.8251 - binary_accuracy: 0.8251Epoch 00026: val_loss improved from 0.31847 to 0.31838, saving model to ../../data/cluster/edge/n/weights.bestNN.hdf5\n",
      "617805/617805 [==============================] - 15s 24us/step - loss: 0.3724 - acc: 0.8250 - binary_accuracy: 0.8250 - val_loss: 0.3184 - val_acc: 0.8492 - val_binary_accuracy: 0.8492\n",
      "Epoch 27/124\n",
      "617472/617805 [============================>.] - ETA: 0s - loss: 0.3721 - acc: 0.8250 - binary_accuracy: 0.8250Epoch 00027: val_loss did not improve\n",
      "617805/617805 [==============================] - 15s 24us/step - loss: 0.3721 - acc: 0.8250 - binary_accuracy: 0.8250 - val_loss: 0.3192 - val_acc: 0.8492 - val_binary_accuracy: 0.8492\n",
      "Epoch 28/124\n",
      "617472/617805 [============================>.] - ETA: 0s - loss: 0.3725 - acc: 0.8246 - binary_accuracy: 0.8246Epoch 00028: val_loss improved from 0.31838 to 0.31829, saving model to ../../data/cluster/edge/n/weights.bestNN.hdf5\n",
      "617805/617805 [==============================] - 15s 24us/step - loss: 0.3725 - acc: 0.8246 - binary_accuracy: 0.8246 - val_loss: 0.3183 - val_acc: 0.8494 - val_binary_accuracy: 0.8494\n",
      "Epoch 29/124\n",
      "617472/617805 [============================>.] - ETA: 0s - loss: 0.3717 - acc: 0.8253 - binary_accuracy: 0.8253Epoch 00029: val_loss did not improve\n",
      "617805/617805 [==============================] - 15s 25us/step - loss: 0.3717 - acc: 0.8253 - binary_accuracy: 0.8253 - val_loss: 0.3188 - val_acc: 0.8492 - val_binary_accuracy: 0.8492\n",
      "Epoch 30/124\n",
      "615424/617805 [============================>.] - ETA: 0s - loss: 0.3716 - acc: 0.8246 - binary_accuracy: 0.8246Epoch 00030: val_loss did not improve\n",
      "617805/617805 [==============================] - 15s 25us/step - loss: 0.3717 - acc: 0.8246 - binary_accuracy: 0.8246 - val_loss: 0.3188 - val_acc: 0.8492 - val_binary_accuracy: 0.8492\n",
      "Epoch 31/124\n",
      "617472/617805 [============================>.] - ETA: 0s - loss: 0.3721 - acc: 0.8243 - binary_accuracy: 0.8243Epoch 00031: val_loss did not improve\n",
      "617805/617805 [==============================] - 15s 24us/step - loss: 0.3721 - acc: 0.8243 - binary_accuracy: 0.8243 - val_loss: 0.3188 - val_acc: 0.8492 - val_binary_accuracy: 0.8492\n",
      "Epoch 32/124\n",
      "615424/617805 [============================>.] - ETA: 0s - loss: 0.3725 - acc: 0.8241 - binary_accuracy: 0.8241Epoch 00032: val_loss did not improve\n",
      "617805/617805 [==============================] - 15s 24us/step - loss: 0.3724 - acc: 0.8242 - binary_accuracy: 0.8242 - val_loss: 0.3184 - val_acc: 0.8492 - val_binary_accuracy: 0.8492\n",
      "Epoch 33/124\n",
      "617472/617805 [============================>.] - ETA: 0s - loss: 0.3711 - acc: 0.8254 - binary_accuracy: 0.8254Epoch 00033: val_loss improved from 0.31829 to 0.31760, saving model to ../../data/cluster/edge/n/weights.bestNN.hdf5\n",
      "617805/617805 [==============================] - 15s 24us/step - loss: 0.3712 - acc: 0.8254 - binary_accuracy: 0.8254 - val_loss: 0.3176 - val_acc: 0.8494 - val_binary_accuracy: 0.8494\n",
      "Epoch 34/124\n",
      "615424/617805 [============================>.] - ETA: 0s - loss: 0.3712 - acc: 0.8251 - binary_accuracy: 0.8251Epoch 00034: val_loss did not improve\n",
      "617805/617805 [==============================] - 15s 25us/step - loss: 0.3712 - acc: 0.8251 - binary_accuracy: 0.8251 - val_loss: 0.3184 - val_acc: 0.8492 - val_binary_accuracy: 0.8492\n",
      "Epoch 35/124\n",
      "616448/617805 [============================>.] - ETA: 0s - loss: 0.3705 - acc: 0.8251 - binary_accuracy: 0.8251Epoch 00035: val_loss did not improve\n",
      "617805/617805 [==============================] - 15s 24us/step - loss: 0.3705 - acc: 0.8251 - binary_accuracy: 0.8251 - val_loss: 0.3190 - val_acc: 0.8492 - val_binary_accuracy: 0.8492\n",
      "Epoch 36/124\n",
      "617472/617805 [============================>.] - ETA: 0s - loss: 0.3720 - acc: 0.8249 - binary_accuracy: 0.8249Epoch 00036: val_loss did not improve\n",
      "617805/617805 [==============================] - 15s 24us/step - loss: 0.3719 - acc: 0.8249 - binary_accuracy: 0.8249 - val_loss: 0.3198 - val_acc: 0.8492 - val_binary_accuracy: 0.8492\n",
      "Epoch 37/124\n",
      "615424/617805 [============================>.] - ETA: 0s - loss: 0.3718 - acc: 0.8247 - binary_accuracy: 0.8247Epoch 00037: val_loss did not improve\n",
      "617805/617805 [==============================] - 15s 24us/step - loss: 0.3718 - acc: 0.8247 - binary_accuracy: 0.8247 - val_loss: 0.3195 - val_acc: 0.8492 - val_binary_accuracy: 0.8492\n",
      "Epoch 38/124\n",
      "615424/617805 [============================>.] - ETA: 0s - loss: 0.3708 - acc: 0.8250 - binary_accuracy: 0.8250Epoch 00038: val_loss did not improve\n",
      "617805/617805 [==============================] - 15s 24us/step - loss: 0.3708 - acc: 0.8250 - binary_accuracy: 0.8250 - val_loss: 0.3182 - val_acc: 0.8492 - val_binary_accuracy: 0.8492\n",
      "Epoch 39/124\n",
      "616448/617805 [============================>.] - ETA: 0s - loss: 0.3713 - acc: 0.8249 - binary_accuracy: 0.8249Epoch 00039: val_loss did not improve\n",
      "617805/617805 [==============================] - 15s 24us/step - loss: 0.3714 - acc: 0.8249 - binary_accuracy: 0.8249 - val_loss: 0.3181 - val_acc: 0.8492 - val_binary_accuracy: 0.8492\n",
      "Epoch 40/124\n",
      "615424/617805 [============================>.] - ETA: 0s - loss: 0.3712 - acc: 0.8253 - binary_accuracy: 0.8253Epoch 00040: val_loss did not improve\n",
      "617805/617805 [==============================] - 17s 27us/step - loss: 0.3713 - acc: 0.8253 - binary_accuracy: 0.8253 - val_loss: 0.3182 - val_acc: 0.8492 - val_binary_accuracy: 0.8492\n",
      "Epoch 41/124\n",
      "615424/617805 [============================>.] - ETA: 0s - loss: 0.3718 - acc: 0.8249 - binary_accuracy: 0.8249Epoch 00041: val_loss did not improve\n",
      "617805/617805 [==============================] - 16s 26us/step - loss: 0.3718 - acc: 0.8249 - binary_accuracy: 0.8249 - val_loss: 0.3177 - val_acc: 0.8493 - val_binary_accuracy: 0.8493\n",
      "Epoch 42/124\n",
      "617472/617805 [============================>.] - ETA: 0s - loss: 0.3721 - acc: 0.8246 - binary_accuracy: 0.8246Epoch 00042: val_loss did not improve\n",
      "617805/617805 [==============================] - 15s 24us/step - loss: 0.3721 - acc: 0.8246 - binary_accuracy: 0.8246 - val_loss: 0.3191 - val_acc: 0.8492 - val_binary_accuracy: 0.8492\n",
      "Epoch 43/124\n",
      "617472/617805 [============================>.] - ETA: 0s - loss: 0.3706 - acc: 0.8257 - binary_accuracy: 0.8257Epoch 00043: val_loss did not improve\n",
      "617805/617805 [==============================] - 15s 24us/step - loss: 0.3706 - acc: 0.8256 - binary_accuracy: 0.8256 - val_loss: 0.3188 - val_acc: 0.8492 - val_binary_accuracy: 0.8492\n",
      "Epoch 44/124\n",
      "617472/617805 [============================>.] - ETA: 0s - loss: 0.3716 - acc: 0.8250 - binary_accuracy: 0.8250Epoch 00044: val_loss did not improve\n",
      "617805/617805 [==============================] - 14s 23us/step - loss: 0.3716 - acc: 0.8250 - binary_accuracy: 0.8250 - val_loss: 0.3188 - val_acc: 0.8492 - val_binary_accuracy: 0.8492\n",
      "Epoch 45/124\n",
      "616448/617805 [============================>.] - ETA: 0s - loss: 0.3706 - acc: 0.8250 - binary_accuracy: 0.8250Epoch 00045: val_loss did not improve\n",
      "617805/617805 [==============================] - 14s 23us/step - loss: 0.3705 - acc: 0.8250 - binary_accuracy: 0.8250 - val_loss: 0.3184 - val_acc: 0.8492 - val_binary_accuracy: 0.8492\n",
      "Epoch 46/124\n",
      "617472/617805 [============================>.] - ETA: 0s - loss: 0.3715 - acc: 0.8249 - binary_accuracy: 0.8249Epoch 00046: val_loss did not improve\n",
      "617805/617805 [==============================] - 15s 24us/step - loss: 0.3715 - acc: 0.8249 - binary_accuracy: 0.8249 - val_loss: 0.3190 - val_acc: 0.8492 - val_binary_accuracy: 0.8492\n",
      "Epoch 47/124\n",
      "615424/617805 [============================>.] - ETA: 0s - loss: 0.3713 - acc: 0.8252 - binary_accuracy: 0.8252Epoch 00047: val_loss did not improve\n",
      "617805/617805 [==============================] - 15s 24us/step - loss: 0.3714 - acc: 0.8251 - binary_accuracy: 0.8251 - val_loss: 0.3195 - val_acc: 0.8492 - val_binary_accuracy: 0.8492\n",
      "Epoch 48/124\n",
      "615424/617805 [============================>.] - ETA: 0s - loss: 0.3706 - acc: 0.8252 - binary_accuracy: 0.8252Epoch 00048: val_loss did not improve\n",
      "617805/617805 [==============================] - 15s 24us/step - loss: 0.3706 - acc: 0.8252 - binary_accuracy: 0.8252 - val_loss: 0.3186 - val_acc: 0.8492 - val_binary_accuracy: 0.8492\n",
      "Epoch 49/124\n",
      "615424/617805 [============================>.] - ETA: 0s - loss: 0.3722 - acc: 0.8244 - binary_accuracy: 0.8244Epoch 00049: val_loss did not improve\n",
      "617805/617805 [==============================] - 15s 25us/step - loss: 0.3721 - acc: 0.8244 - binary_accuracy: 0.8244 - val_loss: 0.3198 - val_acc: 0.8492 - val_binary_accuracy: 0.8492\n",
      "Epoch 50/124\n",
      "615424/617805 [============================>.] - ETA: 0s - loss: 0.3714 - acc: 0.8244 - binary_accuracy: 0.8244Epoch 00050: val_loss did not improve\n",
      "617805/617805 [==============================] - 15s 24us/step - loss: 0.3713 - acc: 0.8244 - binary_accuracy: 0.8244 - val_loss: 0.3189 - val_acc: 0.8492 - val_binary_accuracy: 0.8492\n",
      "Epoch 51/124\n",
      "616448/617805 [============================>.] - ETA: 0s - loss: 0.3717 - acc: 0.8247 - binary_accuracy: 0.8247Epoch 00051: val_loss did not improve\n",
      "617805/617805 [==============================] - 15s 24us/step - loss: 0.3717 - acc: 0.8247 - binary_accuracy: 0.8247 - val_loss: 0.3206 - val_acc: 0.8492 - val_binary_accuracy: 0.8492\n",
      "Epoch 52/124\n",
      "615424/617805 [============================>.] - ETA: 0s - loss: 0.3707 - acc: 0.8250 - binary_accuracy: 0.8250Epoch 00052: val_loss did not improve\n",
      "617805/617805 [==============================] - 15s 24us/step - loss: 0.3707 - acc: 0.8250 - binary_accuracy: 0.8250 - val_loss: 0.3198 - val_acc: 0.8492 - val_binary_accuracy: 0.8492\n",
      "Epoch 53/124\n",
      "617472/617805 [============================>.] - ETA: 0s - loss: 0.3707 - acc: 0.8247 - binary_accuracy: 0.8247Epoch 00053: val_loss did not improve\n",
      "617805/617805 [==============================] - 15s 24us/step - loss: 0.3708 - acc: 0.8246 - binary_accuracy: 0.8246 - val_loss: 0.3194 - val_acc: 0.8492 - val_binary_accuracy: 0.8492\n",
      "Epoch 54/124\n",
      "616448/617805 [============================>.] - ETA: 0s - loss: 0.3713 - acc: 0.8250 - binary_accuracy: 0.8250Epoch 00054: val_loss did not improve\n",
      "617805/617805 [==============================] - 15s 24us/step - loss: 0.3713 - acc: 0.8251 - binary_accuracy: 0.8251 - val_loss: 0.3197 - val_acc: 0.8492 - val_binary_accuracy: 0.8492\n",
      "Epoch 55/124\n",
      "617472/617805 [============================>.] - ETA: 0s - loss: 0.3716 - acc: 0.8244 - binary_accuracy: 0.8244Epoch 00055: val_loss did not improve\n",
      "617805/617805 [==============================] - 15s 24us/step - loss: 0.3716 - acc: 0.8244 - binary_accuracy: 0.8244 - val_loss: 0.3192 - val_acc: 0.8492 - val_binary_accuracy: 0.8492\n",
      "Epoch 56/124\n",
      "617472/617805 [============================>.] - ETA: 0s - loss: 0.3706 - acc: 0.8249 - binary_accuracy: 0.8249Epoch 00056: val_loss did not improve\n",
      "617805/617805 [==============================] - 15s 25us/step - loss: 0.3706 - acc: 0.8249 - binary_accuracy: 0.8249 - val_loss: 0.3193 - val_acc: 0.8492 - val_binary_accuracy: 0.8492\n",
      "Epoch 57/124\n",
      "616448/617805 [============================>.] - ETA: 0s - loss: 0.3706 - acc: 0.8246 - binary_accuracy: 0.8246Epoch 00057: val_loss did not improve\n",
      "617805/617805 [==============================] - 15s 25us/step - loss: 0.3706 - acc: 0.8246 - binary_accuracy: 0.8246 - val_loss: 0.3199 - val_acc: 0.8492 - val_binary_accuracy: 0.8492\n",
      "Epoch 58/124\n",
      "616448/617805 [============================>.] - ETA: 0s - loss: 0.3700 - acc: 0.8251 - binary_accuracy: 0.8251Epoch 00058: val_loss did not improve\n",
      "617805/617805 [==============================] - 15s 24us/step - loss: 0.3700 - acc: 0.8250 - binary_accuracy: 0.8250 - val_loss: 0.3189 - val_acc: 0.8492 - val_binary_accuracy: 0.8492\n",
      "Epoch 59/124\n",
      "617472/617805 [============================>.] - ETA: 0s - loss: 0.3709 - acc: 0.8249 - binary_accuracy: 0.8249Epoch 00059: val_loss did not improve\n",
      "617805/617805 [==============================] - 15s 24us/step - loss: 0.3709 - acc: 0.8249 - binary_accuracy: 0.8249 - val_loss: 0.3186 - val_acc: 0.8492 - val_binary_accuracy: 0.8492\n",
      "Epoch 60/124\n",
      "616448/617805 [============================>.] - ETA: 0s - loss: 0.3712 - acc: 0.8253 - binary_accuracy: 0.8253Epoch 00060: val_loss did not improve\n",
      "617805/617805 [==============================] - 15s 25us/step - loss: 0.3712 - acc: 0.8253 - binary_accuracy: 0.8253 - val_loss: 0.3199 - val_acc: 0.8492 - val_binary_accuracy: 0.8492\n",
      "Epoch 61/124\n",
      "616448/617805 [============================>.] - ETA: 0s - loss: 0.3710 - acc: 0.8243 - binary_accuracy: 0.8243Epoch 00061: val_loss did not improve\n",
      "617805/617805 [==============================] - 16s 25us/step - loss: 0.3710 - acc: 0.8243 - binary_accuracy: 0.8243 - val_loss: 0.3201 - val_acc: 0.8492 - val_binary_accuracy: 0.8492\n",
      "Epoch 62/124\n",
      "617472/617805 [============================>.] - ETA: 0s - loss: 0.3700 - acc: 0.8253 - binary_accuracy: 0.8253Epoch 00062: val_loss did not improve\n",
      "617805/617805 [==============================] - 15s 25us/step - loss: 0.3700 - acc: 0.8253 - binary_accuracy: 0.8253 - val_loss: 0.3190 - val_acc: 0.8492 - val_binary_accuracy: 0.8492\n",
      "Epoch 63/124\n",
      "617472/617805 [============================>.] - ETA: 0s - loss: 0.3711 - acc: 0.8250 - binary_accuracy: 0.8250Epoch 00063: val_loss did not improve\n",
      "617805/617805 [==============================] - 16s 26us/step - loss: 0.3711 - acc: 0.8251 - binary_accuracy: 0.8251 - val_loss: 0.3194 - val_acc: 0.8492 - val_binary_accuracy: 0.8492\n",
      "Epoch 64/124\n",
      "615424/617805 [============================>.] - ETA: 0s - loss: 0.3705 - acc: 0.8251 - binary_accuracy: 0.8251Epoch 00064: val_loss did not improve\n",
      "617805/617805 [==============================] - 15s 25us/step - loss: 0.3705 - acc: 0.8252 - binary_accuracy: 0.8252 - val_loss: 0.3197 - val_acc: 0.8492 - val_binary_accuracy: 0.8492\n",
      "Epoch 65/124\n",
      "616448/617805 [============================>.] - ETA: 0s - loss: 0.3712 - acc: 0.8253 - binary_accuracy: 0.8253Epoch 00065: val_loss did not improve\n",
      "617805/617805 [==============================] - 15s 25us/step - loss: 0.3712 - acc: 0.8254 - binary_accuracy: 0.8254 - val_loss: 0.3202 - val_acc: 0.8492 - val_binary_accuracy: 0.8492\n",
      "Epoch 66/124\n",
      "617472/617805 [============================>.] - ETA: 0s - loss: 0.3708 - acc: 0.8253 - binary_accuracy: 0.8253Epoch 00066: val_loss did not improve\n",
      "617805/617805 [==============================] - 16s 25us/step - loss: 0.3707 - acc: 0.8253 - binary_accuracy: 0.8253 - val_loss: 0.3193 - val_acc: 0.8492 - val_binary_accuracy: 0.8492\n",
      "Epoch 67/124\n",
      "617472/617805 [============================>.] - ETA: 0s - loss: 0.3704 - acc: 0.8251 - binary_accuracy: 0.8251Epoch 00067: val_loss did not improve\n",
      "617805/617805 [==============================] - 15s 25us/step - loss: 0.3704 - acc: 0.8251 - binary_accuracy: 0.8251 - val_loss: 0.3190 - val_acc: 0.8492 - val_binary_accuracy: 0.8492\n",
      "Epoch 68/124\n",
      "617472/617805 [============================>.] - ETA: 0s - loss: 0.3713 - acc: 0.8246 - binary_accuracy: 0.8246Epoch 00068: val_loss did not improve\n",
      "617805/617805 [==============================] - 15s 24us/step - loss: 0.3713 - acc: 0.8246 - binary_accuracy: 0.8246 - val_loss: 0.3188 - val_acc: 0.8492 - val_binary_accuracy: 0.8492\n",
      "Epoch 69/124\n",
      "616448/617805 [============================>.] - ETA: 0s - loss: 0.3704 - acc: 0.8252 - binary_accuracy: 0.8252Epoch 00069: val_loss did not improve\n",
      "617805/617805 [==============================] - 15s 25us/step - loss: 0.3704 - acc: 0.8252 - binary_accuracy: 0.8252 - val_loss: 0.3187 - val_acc: 0.8492 - val_binary_accuracy: 0.8492\n",
      "Epoch 70/124\n",
      "616448/617805 [============================>.] - ETA: 0s - loss: 0.3701 - acc: 0.8253 - binary_accuracy: 0.8253Epoch 00070: val_loss did not improve\n",
      "617805/617805 [==============================] - 16s 25us/step - loss: 0.3701 - acc: 0.8254 - binary_accuracy: 0.8254 - val_loss: 0.3184 - val_acc: 0.8492 - val_binary_accuracy: 0.8492\n",
      "Epoch 71/124\n",
      "616448/617805 [============================>.] - ETA: 0s - loss: 0.3709 - acc: 0.8256 - binary_accuracy: 0.8256Epoch 00071: val_loss did not improve\n",
      "617805/617805 [==============================] - 16s 25us/step - loss: 0.3708 - acc: 0.8256 - binary_accuracy: 0.8256 - val_loss: 0.3191 - val_acc: 0.8492 - val_binary_accuracy: 0.8492\n",
      "Epoch 72/124\n",
      "617472/617805 [============================>.] - ETA: 0s - loss: 0.3708 - acc: 0.8252 - binary_accuracy: 0.8252Epoch 00072: val_loss did not improve\n",
      "617805/617805 [==============================] - 15s 25us/step - loss: 0.3708 - acc: 0.8252 - binary_accuracy: 0.8252 - val_loss: 0.3193 - val_acc: 0.8492 - val_binary_accuracy: 0.8492\n",
      "Epoch 73/124\n",
      "616448/617805 [============================>.] - ETA: 0s - loss: 0.3704 - acc: 0.8248 - binary_accuracy: 0.8248Epoch 00073: val_loss did not improve\n",
      "617805/617805 [==============================] - 16s 25us/step - loss: 0.3704 - acc: 0.8248 - binary_accuracy: 0.8248 - val_loss: 0.3189 - val_acc: 0.8492 - val_binary_accuracy: 0.8492\n",
      "Epoch 74/124\n",
      "616448/617805 [============================>.] - ETA: 0s - loss: 0.3699 - acc: 0.8254 - binary_accuracy: 0.8254Epoch 00074: val_loss did not improve\n",
      "617805/617805 [==============================] - 15s 24us/step - loss: 0.3699 - acc: 0.8254 - binary_accuracy: 0.8254 - val_loss: 0.3197 - val_acc: 0.8492 - val_binary_accuracy: 0.8492\n",
      "Epoch 75/124\n",
      "617472/617805 [============================>.] - ETA: 0s - loss: 0.3702 - acc: 0.8253 - binary_accuracy: 0.8253Epoch 00075: val_loss did not improve\n",
      "617805/617805 [==============================] - 15s 24us/step - loss: 0.3702 - acc: 0.8253 - binary_accuracy: 0.8253 - val_loss: 0.3190 - val_acc: 0.8492 - val_binary_accuracy: 0.8492\n",
      "Epoch 76/124\n",
      "617472/617805 [============================>.] - ETA: 0s - loss: 0.3710 - acc: 0.8244 - binary_accuracy: 0.8244Epoch 00076: val_loss did not improve\n",
      "617805/617805 [==============================] - 15s 24us/step - loss: 0.3710 - acc: 0.8244 - binary_accuracy: 0.8244 - val_loss: 0.3191 - val_acc: 0.8492 - val_binary_accuracy: 0.8492\n",
      "Epoch 77/124\n",
      "617472/617805 [============================>.] - ETA: 0s - loss: 0.3702 - acc: 0.8254 - binary_accuracy: 0.8254Epoch 00077: val_loss did not improve\n",
      "617805/617805 [==============================] - 15s 25us/step - loss: 0.3703 - acc: 0.8254 - binary_accuracy: 0.8254 - val_loss: 0.3189 - val_acc: 0.8492 - val_binary_accuracy: 0.8492\n",
      "Epoch 78/124\n",
      "616448/617805 [============================>.] - ETA: 0s - loss: 0.3709 - acc: 0.8246 - binary_accuracy: 0.8246Epoch 00078: val_loss did not improve\n",
      "617805/617805 [==============================] - 15s 24us/step - loss: 0.3709 - acc: 0.8246 - binary_accuracy: 0.8246 - val_loss: 0.3198 - val_acc: 0.8492 - val_binary_accuracy: 0.8492\n",
      "Epoch 79/124\n",
      "617472/617805 [============================>.] - ETA: 0s - loss: 0.3706 - acc: 0.8251 - binary_accuracy: 0.8251Epoch 00079: val_loss did not improve\n",
      "617805/617805 [==============================] - 15s 25us/step - loss: 0.3707 - acc: 0.8251 - binary_accuracy: 0.8251 - val_loss: 0.3192 - val_acc: 0.8492 - val_binary_accuracy: 0.8492\n",
      "Epoch 80/124\n",
      "615424/617805 [============================>.] - ETA: 0s - loss: 0.3703 - acc: 0.8254 - binary_accuracy: 0.8254Epoch 00080: val_loss did not improve\n",
      "617805/617805 [==============================] - 15s 24us/step - loss: 0.3704 - acc: 0.8253 - binary_accuracy: 0.8253 - val_loss: 0.3183 - val_acc: 0.8492 - val_binary_accuracy: 0.8492\n",
      "Epoch 81/124\n",
      "616448/617805 [============================>.] - ETA: 0s - loss: 0.3704 - acc: 0.8252 - binary_accuracy: 0.8252Epoch 00081: val_loss did not improve\n",
      "617805/617805 [==============================] - 15s 24us/step - loss: 0.3705 - acc: 0.8252 - binary_accuracy: 0.8252 - val_loss: 0.3187 - val_acc: 0.8492 - val_binary_accuracy: 0.8492\n",
      "Epoch 82/124\n",
      "616448/617805 [============================>.] - ETA: 0s - loss: 0.3706 - acc: 0.8249 - binary_accuracy: 0.8249Epoch 00082: val_loss did not improve\n",
      "617805/617805 [==============================] - 15s 24us/step - loss: 0.3706 - acc: 0.8249 - binary_accuracy: 0.8249 - val_loss: 0.3186 - val_acc: 0.8492 - val_binary_accuracy: 0.8492\n",
      "Epoch 83/124\n",
      "616448/617805 [============================>.] - ETA: 0s - loss: 0.3707 - acc: 0.8253 - binary_accuracy: 0.8253Epoch 00083: val_loss did not improve\n",
      "617805/617805 [==============================] - 15s 25us/step - loss: 0.3708 - acc: 0.8252 - binary_accuracy: 0.8252 - val_loss: 0.3193 - val_acc: 0.8492 - val_binary_accuracy: 0.8492\n",
      "Epoch 84/124\n",
      "615424/617805 [============================>.] - ETA: 0s - loss: 0.3713 - acc: 0.8249 - binary_accuracy: 0.8249Epoch 00084: val_loss did not improve\n",
      "617805/617805 [==============================] - 15s 25us/step - loss: 0.3713 - acc: 0.8248 - binary_accuracy: 0.8248 - val_loss: 0.3192 - val_acc: 0.8492 - val_binary_accuracy: 0.8492\n",
      "Epoch 85/124\n",
      "616448/617805 [============================>.] - ETA: 0s - loss: 0.3705 - acc: 0.8250 - binary_accuracy: 0.8250Epoch 00085: val_loss did not improve\n",
      "617805/617805 [==============================] - 15s 24us/step - loss: 0.3705 - acc: 0.8250 - binary_accuracy: 0.8250 - val_loss: 0.3194 - val_acc: 0.8492 - val_binary_accuracy: 0.8492\n",
      "Epoch 86/124\n",
      "616448/617805 [============================>.] - ETA: 0s - loss: 0.3705 - acc: 0.8251 - binary_accuracy: 0.8251Epoch 00086: val_loss did not improve\n",
      "617805/617805 [==============================] - 15s 24us/step - loss: 0.3705 - acc: 0.8250 - binary_accuracy: 0.8250 - val_loss: 0.3186 - val_acc: 0.8492 - val_binary_accuracy: 0.8492\n",
      "Epoch 87/124\n",
      "616448/617805 [============================>.] - ETA: 0s - loss: 0.3698 - acc: 0.8255 - binary_accuracy: 0.8255Epoch 00087: val_loss did not improve\n",
      "617805/617805 [==============================] - 16s 26us/step - loss: 0.3699 - acc: 0.8254 - binary_accuracy: 0.8254 - val_loss: 0.3188 - val_acc: 0.8492 - val_binary_accuracy: 0.8492\n",
      "Epoch 88/124\n",
      "617472/617805 [============================>.] - ETA: 0s - loss: 0.3709 - acc: 0.8250 - binary_accuracy: 0.8250Epoch 00088: val_loss did not improve\n",
      "617805/617805 [==============================] - 16s 26us/step - loss: 0.3708 - acc: 0.8250 - binary_accuracy: 0.8250 - val_loss: 0.3195 - val_acc: 0.8492 - val_binary_accuracy: 0.8492\n",
      "Epoch 89/124\n",
      "616448/617805 [============================>.] - ETA: 0s - loss: 0.3699 - acc: 0.8247 - binary_accuracy: 0.8247Epoch 00089: val_loss did not improve\n",
      "617805/617805 [==============================] - 15s 25us/step - loss: 0.3699 - acc: 0.8247 - binary_accuracy: 0.8247 - val_loss: 0.3189 - val_acc: 0.8492 - val_binary_accuracy: 0.8492\n",
      "Epoch 90/124\n",
      "615424/617805 [============================>.] - ETA: 0s - loss: 0.3709 - acc: 0.8246 - binary_accuracy: 0.8246Epoch 00090: val_loss did not improve\n",
      "617805/617805 [==============================] - 15s 25us/step - loss: 0.3708 - acc: 0.8246 - binary_accuracy: 0.8246 - val_loss: 0.3189 - val_acc: 0.8492 - val_binary_accuracy: 0.8492\n",
      "Epoch 91/124\n",
      "615424/617805 [============================>.] - ETA: 0s - loss: 0.3703 - acc: 0.8255 - binary_accuracy: 0.8255Epoch 00091: val_loss did not improve\n",
      "617805/617805 [==============================] - 15s 25us/step - loss: 0.3702 - acc: 0.8255 - binary_accuracy: 0.8255 - val_loss: 0.3192 - val_acc: 0.8492 - val_binary_accuracy: 0.8492\n",
      "Epoch 92/124\n",
      "617472/617805 [============================>.] - ETA: 0s - loss: 0.3697 - acc: 0.8252 - binary_accuracy: 0.8252Epoch 00092: val_loss did not improve\n",
      "617805/617805 [==============================] - 15s 25us/step - loss: 0.3697 - acc: 0.8252 - binary_accuracy: 0.8252 - val_loss: 0.3191 - val_acc: 0.8492 - val_binary_accuracy: 0.8492\n",
      "Epoch 93/124\n",
      "616448/617805 [============================>.] - ETA: 0s - loss: 0.3705 - acc: 0.8253 - binary_accuracy: 0.8253Epoch 00093: val_loss did not improve\n",
      "617805/617805 [==============================] - 15s 25us/step - loss: 0.3706 - acc: 0.8252 - binary_accuracy: 0.8252 - val_loss: 0.3190 - val_acc: 0.8492 - val_binary_accuracy: 0.8492\n",
      "Epoch 94/124\n",
      "617472/617805 [============================>.] - ETA: 0s - loss: 0.3702 - acc: 0.8253 - binary_accuracy: 0.8253Epoch 00094: val_loss did not improve\n",
      "617805/617805 [==============================] - 15s 24us/step - loss: 0.3702 - acc: 0.8253 - binary_accuracy: 0.8253 - val_loss: 0.3195 - val_acc: 0.8492 - val_binary_accuracy: 0.8492\n",
      "Epoch 95/124\n",
      "616448/617805 [============================>.] - ETA: 0s - loss: 0.3699 - acc: 0.8256 - binary_accuracy: 0.8256Epoch 00095: val_loss did not improve\n",
      "617805/617805 [==============================] - 15s 24us/step - loss: 0.3699 - acc: 0.8256 - binary_accuracy: 0.8256 - val_loss: 0.3186 - val_acc: 0.8492 - val_binary_accuracy: 0.8492\n",
      "Epoch 96/124\n",
      "617472/617805 [============================>.] - ETA: 0s - loss: 0.3707 - acc: 0.8249 - binary_accuracy: 0.8249Epoch 00096: val_loss did not improve\n",
      "617805/617805 [==============================] - 15s 25us/step - loss: 0.3707 - acc: 0.8249 - binary_accuracy: 0.8249 - val_loss: 0.3189 - val_acc: 0.8492 - val_binary_accuracy: 0.8492\n",
      "Epoch 97/124\n",
      "617472/617805 [============================>.] - ETA: 0s - loss: 0.3699 - acc: 0.8250 - binary_accuracy: 0.8250Epoch 00097: val_loss did not improve\n",
      "617805/617805 [==============================] - 15s 24us/step - loss: 0.3700 - acc: 0.8250 - binary_accuracy: 0.8250 - val_loss: 0.3194 - val_acc: 0.8492 - val_binary_accuracy: 0.8492\n",
      "Epoch 98/124\n",
      "617472/617805 [============================>.] - ETA: 0s - loss: 0.3719 - acc: 0.8244 - binary_accuracy: 0.8244Epoch 00098: val_loss did not improve\n",
      "617805/617805 [==============================] - 15s 25us/step - loss: 0.3719 - acc: 0.8244 - binary_accuracy: 0.8244 - val_loss: 0.3197 - val_acc: 0.8492 - val_binary_accuracy: 0.8492\n",
      "Epoch 99/124\n",
      "617472/617805 [============================>.] - ETA: 0s - loss: 0.3704 - acc: 0.8247 - binary_accuracy: 0.8247Epoch 00099: val_loss did not improve\n",
      "617805/617805 [==============================] - 15s 25us/step - loss: 0.3704 - acc: 0.8247 - binary_accuracy: 0.8247 - val_loss: 0.3194 - val_acc: 0.8492 - val_binary_accuracy: 0.8492\n",
      "Epoch 100/124\n",
      "615424/617805 [============================>.] - ETA: 0s - loss: 0.3700 - acc: 0.8252 - binary_accuracy: 0.8252Epoch 00100: val_loss did not improve\n",
      "617805/617805 [==============================] - 15s 25us/step - loss: 0.3700 - acc: 0.8252 - binary_accuracy: 0.8252 - val_loss: 0.3194 - val_acc: 0.8492 - val_binary_accuracy: 0.8492\n",
      "Epoch 101/124\n",
      "616448/617805 [============================>.] - ETA: 0s - loss: 0.3704 - acc: 0.8254 - binary_accuracy: 0.8254Epoch 00101: val_loss did not improve\n",
      "617805/617805 [==============================] - 15s 25us/step - loss: 0.3703 - acc: 0.8254 - binary_accuracy: 0.8254 - val_loss: 0.3192 - val_acc: 0.8492 - val_binary_accuracy: 0.8492\n",
      "Epoch 102/124\n",
      "617472/617805 [============================>.] - ETA: 0s - loss: 0.3702 - acc: 0.8255 - binary_accuracy: 0.8255Epoch 00102: val_loss did not improve\n",
      "617805/617805 [==============================] - 15s 24us/step - loss: 0.3701 - acc: 0.8255 - binary_accuracy: 0.8255 - val_loss: 0.3194 - val_acc: 0.8492 - val_binary_accuracy: 0.8492\n",
      "Epoch 103/124\n",
      "617472/617805 [============================>.] - ETA: 0s - loss: 0.3702 - acc: 0.8252 - binary_accuracy: 0.8252Epoch 00103: val_loss did not improve\n",
      "617805/617805 [==============================] - 15s 25us/step - loss: 0.3702 - acc: 0.8252 - binary_accuracy: 0.8252 - val_loss: 0.3195 - val_acc: 0.8492 - val_binary_accuracy: 0.8492\n",
      "Epoch 104/124\n",
      "617472/617805 [============================>.] - ETA: 0s - loss: 0.3701 - acc: 0.8251 - binary_accuracy: 0.8251Epoch 00104: val_loss did not improve\n",
      "617805/617805 [==============================] - 15s 25us/step - loss: 0.3701 - acc: 0.8251 - binary_accuracy: 0.8251 - val_loss: 0.3194 - val_acc: 0.8492 - val_binary_accuracy: 0.8492\n",
      "Epoch 105/124\n",
      "617472/617805 [============================>.] - ETA: 0s - loss: 0.3705 - acc: 0.8255 - binary_accuracy: 0.8255Epoch 00105: val_loss did not improve\n",
      "617805/617805 [==============================] - 15s 25us/step - loss: 0.3705 - acc: 0.8255 - binary_accuracy: 0.8255 - val_loss: 0.3199 - val_acc: 0.8492 - val_binary_accuracy: 0.8492\n",
      "Epoch 106/124\n",
      "617472/617805 [============================>.] - ETA: 0s - loss: 0.3710 - acc: 0.8248 - binary_accuracy: 0.8248Epoch 00106: val_loss did not improve\n",
      "617805/617805 [==============================] - 15s 25us/step - loss: 0.3709 - acc: 0.8248 - binary_accuracy: 0.8248 - val_loss: 0.3198 - val_acc: 0.8492 - val_binary_accuracy: 0.8492\n",
      "Epoch 107/124\n",
      "615424/617805 [============================>.] - ETA: 0s - loss: 0.3708 - acc: 0.8249 - binary_accuracy: 0.8249Epoch 00107: val_loss did not improve\n",
      "617805/617805 [==============================] - 15s 25us/step - loss: 0.3708 - acc: 0.8249 - binary_accuracy: 0.8249 - val_loss: 0.3204 - val_acc: 0.8492 - val_binary_accuracy: 0.8492\n",
      "Epoch 108/124\n",
      "617472/617805 [============================>.] - ETA: 0s - loss: 0.3701 - acc: 0.8251 - binary_accuracy: 0.8251Epoch 00108: val_loss did not improve\n",
      "617805/617805 [==============================] - 15s 25us/step - loss: 0.3700 - acc: 0.8251 - binary_accuracy: 0.8251 - val_loss: 0.3200 - val_acc: 0.8492 - val_binary_accuracy: 0.8492\n",
      "Epoch 109/124\n",
      "616448/617805 [============================>.] - ETA: 0s - loss: 0.3705 - acc: 0.8246 - binary_accuracy: 0.8246Epoch 00109: val_loss did not improve\n",
      "617805/617805 [==============================] - 15s 24us/step - loss: 0.3705 - acc: 0.8246 - binary_accuracy: 0.8246 - val_loss: 0.3197 - val_acc: 0.8492 - val_binary_accuracy: 0.8492\n",
      "Epoch 110/124\n",
      "615424/617805 [============================>.] - ETA: 0s - loss: 0.3706 - acc: 0.8246 - binary_accuracy: 0.8246Epoch 00110: val_loss did not improve\n",
      "617805/617805 [==============================] - 15s 25us/step - loss: 0.3706 - acc: 0.8246 - binary_accuracy: 0.8246 - val_loss: 0.3190 - val_acc: 0.8492 - val_binary_accuracy: 0.8492\n",
      "Epoch 111/124\n",
      "616448/617805 [============================>.] - ETA: 0s - loss: 0.3706 - acc: 0.8249 - binary_accuracy: 0.8249Epoch 00111: val_loss did not improve\n",
      "617805/617805 [==============================] - 15s 24us/step - loss: 0.3705 - acc: 0.8249 - binary_accuracy: 0.8249 - val_loss: 0.3201 - val_acc: 0.8492 - val_binary_accuracy: 0.8492\n",
      "Epoch 112/124\n",
      "615424/617805 [============================>.] - ETA: 0s - loss: 0.3703 - acc: 0.8253 - binary_accuracy: 0.8253Epoch 00112: val_loss did not improve\n",
      "617805/617805 [==============================] - 15s 25us/step - loss: 0.3703 - acc: 0.8253 - binary_accuracy: 0.8253 - val_loss: 0.3196 - val_acc: 0.8492 - val_binary_accuracy: 0.8492\n",
      "Epoch 113/124\n",
      "617472/617805 [============================>.] - ETA: 0s - loss: 0.3705 - acc: 0.8248 - binary_accuracy: 0.8248Epoch 00113: val_loss did not improve\n",
      "617805/617805 [==============================] - 15s 25us/step - loss: 0.3705 - acc: 0.8247 - binary_accuracy: 0.8247 - val_loss: 0.3201 - val_acc: 0.8492 - val_binary_accuracy: 0.8492\n",
      "Epoch 114/124\n",
      "616448/617805 [============================>.] - ETA: 0s - loss: 0.3705 - acc: 0.8251 - binary_accuracy: 0.8251Epoch 00114: val_loss did not improve\n",
      "617805/617805 [==============================] - 16s 25us/step - loss: 0.3705 - acc: 0.8251 - binary_accuracy: 0.8251 - val_loss: 0.3208 - val_acc: 0.8492 - val_binary_accuracy: 0.8492\n",
      "Epoch 115/124\n",
      "617472/617805 [============================>.] - ETA: 0s - loss: 0.3702 - acc: 0.8246 - binary_accuracy: 0.8246Epoch 00115: val_loss did not improve\n",
      "617805/617805 [==============================] - 15s 24us/step - loss: 0.3702 - acc: 0.8246 - binary_accuracy: 0.8246 - val_loss: 0.3200 - val_acc: 0.8492 - val_binary_accuracy: 0.8492\n",
      "Epoch 116/124\n",
      "615424/617805 [============================>.] - ETA: 0s - loss: 0.3704 - acc: 0.8249 - binary_accuracy: 0.8249Epoch 00116: val_loss did not improve\n",
      "617805/617805 [==============================] - 15s 24us/step - loss: 0.3704 - acc: 0.8249 - binary_accuracy: 0.8249 - val_loss: 0.3194 - val_acc: 0.8492 - val_binary_accuracy: 0.8492\n",
      "Epoch 117/124\n",
      "615424/617805 [============================>.] - ETA: 0s - loss: 0.3699 - acc: 0.8249 - binary_accuracy: 0.8249Epoch 00117: val_loss did not improve\n",
      "617805/617805 [==============================] - 15s 25us/step - loss: 0.3698 - acc: 0.8249 - binary_accuracy: 0.8249 - val_loss: 0.3196 - val_acc: 0.8492 - val_binary_accuracy: 0.8492\n",
      "Epoch 118/124\n",
      "617472/617805 [============================>.] - ETA: 0s - loss: 0.3705 - acc: 0.8246 - binary_accuracy: 0.8246Epoch 00118: val_loss did not improve\n",
      "617805/617805 [==============================] - 15s 25us/step - loss: 0.3705 - acc: 0.8246 - binary_accuracy: 0.8246 - val_loss: 0.3200 - val_acc: 0.8492 - val_binary_accuracy: 0.8492\n",
      "Epoch 119/124\n",
      "617472/617805 [============================>.] - ETA: 0s - loss: 0.3703 - acc: 0.8245 - binary_accuracy: 0.8245Epoch 00119: val_loss did not improve\n",
      "617805/617805 [==============================] - 16s 25us/step - loss: 0.3703 - acc: 0.8245 - binary_accuracy: 0.8245 - val_loss: 0.3199 - val_acc: 0.8492 - val_binary_accuracy: 0.8492\n",
      "Epoch 120/124\n",
      "617472/617805 [============================>.] - ETA: 0s - loss: 0.3697 - acc: 0.8252 - binary_accuracy: 0.8252Epoch 00120: val_loss did not improve\n",
      "617805/617805 [==============================] - 16s 26us/step - loss: 0.3696 - acc: 0.8252 - binary_accuracy: 0.8252 - val_loss: 0.3190 - val_acc: 0.8492 - val_binary_accuracy: 0.8492\n",
      "Epoch 121/124\n",
      "616448/617805 [============================>.] - ETA: 0s - loss: 0.3700 - acc: 0.8254 - binary_accuracy: 0.8254Epoch 00121: val_loss did not improve\n",
      "617805/617805 [==============================] - 15s 25us/step - loss: 0.3700 - acc: 0.8254 - binary_accuracy: 0.8254 - val_loss: 0.3192 - val_acc: 0.8492 - val_binary_accuracy: 0.8492\n",
      "Epoch 122/124\n",
      "617472/617805 [============================>.] - ETA: 0s - loss: 0.3701 - acc: 0.8249 - binary_accuracy: 0.8249Epoch 00122: val_loss did not improve\n",
      "617805/617805 [==============================] - 15s 25us/step - loss: 0.3701 - acc: 0.8249 - binary_accuracy: 0.8249 - val_loss: 0.3192 - val_acc: 0.8492 - val_binary_accuracy: 0.8492\n",
      "Epoch 123/124\n",
      "616448/617805 [============================>.] - ETA: 0s - loss: 0.3705 - acc: 0.8248 - binary_accuracy: 0.8248Epoch 00123: val_loss did not improve\n",
      "617805/617805 [==============================] - 15s 25us/step - loss: 0.3705 - acc: 0.8248 - binary_accuracy: 0.8248 - val_loss: 0.3193 - val_acc: 0.8492 - val_binary_accuracy: 0.8492\n",
      "Epoch 124/124\n",
      "616448/617805 [============================>.] - ETA: 0s - loss: 0.3701 - acc: 0.8253 - binary_accuracy: 0.8253Epoch 00124: val_loss did not improve\n",
      "617805/617805 [==============================] - 15s 24us/step - loss: 0.3701 - acc: 0.8252 - binary_accuracy: 0.8252 - val_loss: 0.3189 - val_acc: 0.8492 - val_binary_accuracy: 0.8492\n"
     ]
    }
   ],
   "source": [
    "VERBOSE = 1\n",
    "checkpointer = ModelCheckpoint(filepath=DATA_PATH + 'weights.bestNN.hdf5',\n",
    "                               verbose=VERBOSE,\n",
    "                               save_best_only=True)\n",
    "earlyStop = EarlyStopping(monitor='val_loss', patience=1000)\n",
    "start = time.time()\n",
    "history = model.fit(X_train,\n",
    "                    y_train,\n",
    "                    validation_data=(X_valid, y_valid),\n",
    "                    epochs=EPOCHS,\n",
    "                    batch_size=BATCH_SIZE,\n",
    "                    callbacks=[checkpointer, earlyStop],\n",
    "                    verbose=VERBOSE)\n",
    "elapsed = time.time() - start"
   ]
  },
  {
   "cell_type": "code",
   "execution_count": 20,
   "metadata": {
    "collapsed": false
   },
   "outputs": [
    {
     "name": "stdout",
     "output_type": "stream",
     "text": [
      "Time: 31.74 minutes\n"
     ]
    }
   ],
   "source": [
    "print('Time: %.2f minutes' % (elapsed / 60))"
   ]
  },
  {
   "cell_type": "code",
   "execution_count": 21,
   "metadata": {
    "collapsed": false
   },
   "outputs": [
    {
     "data": {
      "image/png": "[encoded data removed]",
      "text/plain": [
       "<matplotlib.figure.Figure at 0x11d2bdf60>"
      ]
     },
     "metadata": {},
     "output_type": "display_data"
    }
   ],
   "source": [
    "plt.plot(history.history['loss'], 'k-', label='train');\n",
    "plt.plot(history.history['val_loss'], 'r-', label='valid');\n",
    "plt.xlabel('epochs');\n",
    "plt.ylabel('Loss (binary cross-entropy)')\n",
    "#plt.yscale('log');\n",
    "plt.legend(loc='best');"
   ]
  },
  {
   "cell_type": "code",
   "execution_count": 22,
   "metadata": {
    "collapsed": false
   },
   "outputs": [
    {
     "data": {
      "image/png": "[encoded data removed]",
      "text/plain": [
       "<matplotlib.figure.Figure at 0x1203c7550>"
      ]
     },
     "metadata": {},
     "output_type": "display_data"
    }
   ],
   "source": [
    "plt.plot(history.history['acc'], 'k-', label='train');\n",
    "plt.plot(history.history['val_acc'], 'r-', label='valid');\n",
    "plt.xlabel('epochs');\n",
    "plt.ylabel('Accuracy')\n",
    "#plt.yscale('log');\n",
    "plt.legend(loc='best');"
   ]
  },
  {
   "cell_type": "code",
   "execution_count": 23,
   "metadata": {
    "collapsed": false
   },
   "outputs": [
    {
     "name": "stdout",
     "output_type": "stream",
     "text": [
      "This run: 0.31935\n"
     ]
    }
   ],
   "source": [
    "this_run = np.mean(history.history['val_loss'][-50:])\n",
    "print('This run: %.5f' % this_run)"
   ]
  },
  {
   "cell_type": "code",
   "execution_count": 24,
   "metadata": {
    "collapsed": false
   },
   "outputs": [
    {
     "name": "stdout",
     "output_type": "stream",
     "text": [
      "New Best Model Found!\n",
      "\n",
      "Best validation loss so far: 0.31935\n",
      "Training loss of same model: 0.37040\n",
      "Best hyperparameters found so far:\n",
      "{'BATCH_SIZE': 1024,\n",
      " 'BETA_1': 0.9,\n",
      " 'BETA_2': 0.999,\n",
      " 'DECAY': 0.01,\n",
      " 'DROPOUT': 0.6,\n",
      " 'EPOCHS': 124,\n",
      " 'EPSILON': 1e-08,\n",
      " 'ETA': 0.05,\n",
      " 'NODES_PER_LAYER': [20, 20, 20, 20, 20, 20, 20, 20, 2]}\n"
     ]
    }
   ],
   "source": [
    "if this_run < best_val_loss:\n",
    "    print('New Best Model Found!\\n')\n",
    "    best_val_loss = this_run\n",
    "    train_loss_of_best = np.mean(history.history['loss'][-50:])\n",
    "    best_params = get_params()\n",
    "print('Best validation loss so far: %.5f' % best_val_loss)\n",
    "print('Training loss of same model: %.5f' % train_loss_of_best)\n",
    "print('Best hyperparameters found so far:')\n",
    "pprint(best_params)"
   ]
  },
  {
   "cell_type": "code",
   "execution_count": 25,
   "metadata": {
    "collapsed": true
   },
   "outputs": [],
   "source": [
    "preds = model.predict(X_test)\n",
    "pred_probs = util.preds2probs(preds)\n",
    "preds = util.one_cold(util.binarize(preds))\n",
    "y_test = util.one_cold((y_test))"
   ]
  },
  {
   "cell_type": "code",
   "execution_count": 26,
   "metadata": {
    "collapsed": false
   },
   "outputs": [
    {
     "name": "stdout",
     "output_type": "stream",
     "text": [
      "Confusion Matrix:\n",
      "         Predicted:\n",
      "         \t1\t\t0\n",
      "Actual: 1\t0\t\t1064\n",
      "        0\t0\t\t128271\n"
     ]
    }
   ],
   "source": [
    "cm = util.make_confusion_matrix(y_test, pred_probs, 0.5)"
   ]
  },
  {
   "cell_type": "code",
   "execution_count": 27,
   "metadata": {
    "collapsed": false
   },
   "outputs": [
    {
     "name": "stdout",
     "output_type": "stream",
     "text": [
      "Accuracy:  0.99177330189\n",
      "Precision: nan\n",
      "Recall:    0.0\n",
      "F1:        nan\n"
     ]
    },
    {
     "name": "stderr",
     "output_type": "stream",
     "text": [
      "/Users/dsp/dongmei/sdm/python/models/model_utils.py:105: RuntimeWarning: invalid value encountered in long_scalars\n",
      "  precision = cm['tp'] / (cm['tp'] + cm['fp'])\n"
     ]
    }
   ],
   "source": [
    "metrics = util.get_metrics(cm)"
   ]
  },
  {
   "cell_type": "code",
   "execution_count": 28,
   "metadata": {
    "collapsed": false
   },
   "outputs": [
    {
     "name": "stdout",
     "output_type": "stream",
     "text": [
      "AUC:       0.867093484172\n"
     ]
    }
   ],
   "source": [
    "auc_metrics = util.get_auc(y_test, pred_probs)"
   ]
  },
  {
   "cell_type": "code",
   "execution_count": 29,
   "metadata": {
    "collapsed": false
   },
   "outputs": [
    {
     "data": {
      "image/png": "[encoded data removed]",
      "text/plain": [
       "<matplotlib.figure.Figure at 0x10e4934a8>"
      ]
     },
     "metadata": {},
     "output_type": "display_data"
    }
   ],
   "source": [
    "util.plot_roc(auc_metrics['fpr'], auc_metrics['tpr'])"
   ]
  },
  {
   "cell_type": "code",
   "execution_count": null,
   "metadata": {
    "collapsed": true
   },
   "outputs": [],
   "source": []
  }
 ],
 "metadata": {
  "kernelspec": {
   "display_name": "Python 3",
   "language": "python",
   "name": "python3"
  },
  "language_info": {
   "codemirror_mode": {
    "name": "ipython",
    "version": 3
   },
   "file_extension": ".py",
   "mimetype": "text/x-python",
   "name": "python",
   "nbconvert_exporter": "python",
   "pygments_lexer": "ipython3",
   "version": "3.6.1"
  }
 },
 "nbformat": 4,
 "nbformat_minor": 0
}
