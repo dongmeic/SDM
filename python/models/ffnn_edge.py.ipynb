{
 "cells": [
  {
   "cell_type": "markdown",
   "metadata": {},
   "source": [
    "# Feed-Forward Neural Network\n",
    "This notebook uses a basic (feed-forward) artificial network to predict presence/absence of beetles in raster cells.\n",
    "\n",
    "### \"Edge\" Prediction Case"
   ]
  },
  {
   "cell_type": "code",
   "execution_count": 1,
   "metadata": {
    "collapsed": false
   },
   "outputs": [
    {
     "name": "stderr",
     "output_type": "stream",
     "text": [
      "Using TensorFlow backend.\n"
     ]
    }
   ],
   "source": [
    "import keras\n",
    "import matplotlib.pyplot as plt\n",
    "import numpy as np\n",
    "import os\n",
    "import pandas as pd\n",
    "import sys\n",
    "import time\n",
    "from keras.callbacks import EarlyStopping, ModelCheckpoint \n",
    "from keras.layers import Activation, BatchNormalization, Dense, Dropout\n",
    "from keras.models import Sequential\n",
    "from keras.optimizers import Adam\n",
    "from pprint import pprint\n",
    "from pylab import *\n",
    "from sklearn.preprocessing import StandardScaler\n",
    "\n",
    "sys.path.append('../..')\n",
    "import data_manipulations as manip\n",
    "\n",
    "%matplotlib inline\n",
    "\n",
    "plt.rcParams['figure.figsize'] = 10, 8\n",
    "plt.style.use('ggplot')"
   ]
  },
  {
   "cell_type": "code",
   "execution_count": 2,
   "metadata": {
    "collapsed": false
   },
   "outputs": [],
   "source": [
    "#!unzip ../../../data/cluster/edge/n/X_train.csv.zip\n",
    "#!mv ./X_train.csv ../../../data/cluster/edge/n/X_train.csv"
   ]
  },
  {
   "cell_type": "code",
   "execution_count": 3,
   "metadata": {
    "collapsed": false
   },
   "outputs": [
    {
     "data": {
      "text/plain": [
       "['X_test.csv',\n",
       " 'X_train.csv',\n",
       " 'X_train.csv.zip',\n",
       " 'X_valid.csv',\n",
       " 'y_test.csv',\n",
       " 'y_test.csv~',\n",
       " 'y_train.csv',\n",
       " 'y_train.csv~',\n",
       " 'y_valid.csv',\n",
       " 'y_valid.csv~']"
      ]
     },
     "execution_count": 3,
     "metadata": {},
     "output_type": "execute_result"
    }
   ],
   "source": [
    "DATA_PATH =  '../../../data/cluster/edge/n/'\n",
    "os.listdir(DATA_PATH)"
   ]
  },
  {
   "cell_type": "code",
   "execution_count": 4,
   "metadata": {
    "collapsed": true
   },
   "outputs": [],
   "source": [
    "def load_data(data_dir):\n",
    "    X_train = pd.read_csv(data_dir + 'X_train.csv')\n",
    "    print('X_train:', X_train.shape)\n",
    "    X_valid = pd.read_csv(data_dir + 'X_valid.csv')\n",
    "    print('X_valid:', X_valid.shape)\n",
    "    X_test  = pd.read_csv(data_dir + 'X_test.csv')\n",
    "    print('X_test:',  X_test.shape)\n",
    "    y_train = pd.read_csv(data_dir + 'y_train.csv')\n",
    "    print('y_train:', y_train.shape)\n",
    "    y_valid = pd.read_csv(data_dir + 'y_valid.csv')\n",
    "    print('y_valid:', y_valid.shape)\n",
    "    y_test  = pd.read_csv(data_dir + 'y_test.csv')\n",
    "    print('y_test:',  y_test.shape)\n",
    "    \n",
    "    return [[X_train, y_train], [X_valid, y_valid], [X_test, y_test]]"
   ]
  },
  {
   "cell_type": "code",
   "execution_count": 5,
   "metadata": {
    "collapsed": false
   },
   "outputs": [
    {
     "name": "stdout",
     "output_type": "stream",
     "text": [
      "X_train: (617805, 24)\n",
      "X_valid: (131551, 24)\n",
      "X_test: (132405, 24)\n",
      "y_train: (617805, 1)\n",
      "y_valid: (131551, 1)\n",
      "y_test: (132405, 1)\n"
     ]
    }
   ],
   "source": [
    "[[X_train, y_train], [X_valid, y_valid], [X_test, y_test]] = load_data(\n",
    "    DATA_PATH)"
   ]
  },
  {
   "cell_type": "code",
   "execution_count": 6,
   "metadata": {
    "collapsed": false
   },
   "outputs": [],
   "source": [
    "def summarize(df, field, plot=True):\n",
    "    quantiles = df.quantile(q=[0, 0.25, 0.5, 0.75, 1], axis=0)\n",
    "    means = df.mean(axis=0)\n",
    "    \n",
    "    quants = quantiles[field]\n",
    "    values = df[field]\n",
    "    values = values[np.isnan(values) == False]\n",
    "    n_nan  = values[np.isnan(values) == True].sum()\n",
    "    is_finite = np.isfinite(values).all()\n",
    "\n",
    "    print('\\n%s:\\n%10s%10s%10s%10s%10s%10s\\n'\n",
    "          '%10.2f%10.2f%10.2f%10.2f%10.2f%10.2f'\n",
    "          % (field, 'min', '25%', 'med', 'mean', '75%', 'max',\n",
    "             quants[0], quants[0.25], quants[0.5], means[field], \n",
    "             quants[0.75], quants[1]))\n",
    "    if plot:\n",
    "        plt.figure();\n",
    "        plt.hist(values);\n",
    "        plt.title(field);"
   ]
  },
  {
   "cell_type": "code",
   "execution_count": 7,
   "metadata": {
    "collapsed": false
   },
   "outputs": [],
   "source": [
    "#ignore = ['x', 'y', 'year']\n",
    "#for field in list(X_train):\n",
    "    #if field not in ignore:\n",
    "        #summarize(X_train, field, plot=False)\n",
    "        #summarize(X_valid, field, plot=False)\n",
    "        #summarize(X_test,  field, plot=False)"
   ]
  },
  {
   "cell_type": "code",
   "execution_count": 8,
   "metadata": {
    "collapsed": false
   },
   "outputs": [],
   "source": [
    "#for YEAR in range(2000, 2015):\n",
    "#    plt.figure()\n",
    "#    plt.scatter(\n",
    "#        X_train.loc[(y_train['beetle'] == 1) & (X_train['year'] == YEAR), \n",
    "#                    'lon'], \n",
    "#        X_train.loc[(y_train['beetle'] == 1) & (X_train['year'] == YEAR), \n",
    "#                    'lat'],\n",
    "#        alpha=0.1, label=YEAR);\n",
    "#    plt.legend(loc='best');"
   ]
  },
  {
   "cell_type": "code",
   "execution_count": 9,
   "metadata": {
    "collapsed": false
   },
   "outputs": [
    {
     "data": {
      "text/html": [
       "<div>\n",
       "<style>\n",
       "    .dataframe thead tr:only-child th {\n",
       "        text-align: right;\n",
       "    }\n",
       "\n",
       "    .dataframe thead th {\n",
       "        text-align: left;\n",
       "    }\n",
       "\n",
       "    .dataframe tbody tr th {\n",
       "        vertical-align: top;\n",
       "    }\n",
       "</style>\n",
       "<table border=\"1\" class=\"dataframe\">\n",
       "  <thead>\n",
       "    <tr style=\"text-align: right;\">\n",
       "      <th></th>\n",
       "      <th>beetle</th>\n",
       "    </tr>\n",
       "  </thead>\n",
       "  <tbody>\n",
       "    <tr>\n",
       "      <th>0</th>\n",
       "      <td>0</td>\n",
       "    </tr>\n",
       "    <tr>\n",
       "      <th>1</th>\n",
       "      <td>0</td>\n",
       "    </tr>\n",
       "    <tr>\n",
       "      <th>2</th>\n",
       "      <td>0</td>\n",
       "    </tr>\n",
       "    <tr>\n",
       "      <th>3</th>\n",
       "      <td>0</td>\n",
       "    </tr>\n",
       "    <tr>\n",
       "      <th>4</th>\n",
       "      <td>0</td>\n",
       "    </tr>\n",
       "  </tbody>\n",
       "</table>\n",
       "</div>"
      ],
      "text/plain": [
       "   beetle\n",
       "0       0\n",
       "1       0\n",
       "2       0\n",
       "3       0\n",
       "4       0"
      ]
     },
     "execution_count": 9,
     "metadata": {},
     "output_type": "execute_result"
    }
   ],
   "source": [
    "y_train.head()"
   ]
  },
  {
   "cell_type": "code",
   "execution_count": 10,
   "metadata": {
    "collapsed": false
   },
   "outputs": [],
   "source": [
    "# Drop 'studyArea' from predictors (all 1 in the reduced data) and 'x' and\n",
    "# 'y' (perfectly correlated with 'lon' and 'lat')\n",
    "X_train = X_train.drop(['studyArea', 'x', 'y'], axis=1)\n",
    "X_valid = X_valid.drop(['studyArea', 'x', 'y'], axis=1)\n",
    "X_test  = X_test.drop(['studyArea', 'x', 'y'],  axis=1)"
   ]
  },
  {
   "cell_type": "code",
   "execution_count": 13,
   "metadata": {
    "collapsed": false
   },
   "outputs": [
    {
     "data": {
      "text/plain": [
       "year                        True\n",
       "meanTemp_Annual             True\n",
       "meanTemp_AprAug             True\n",
       "meanTemp_Aug                True\n",
       "meanMinTemp_DecFeb          True\n",
       "meanMinTemp_Oct             True\n",
       "meanMinTemp_Jan             True\n",
       "meanMinTemp_Mar             True\n",
       "meanMaxTemp_Aug             True\n",
       "precip_meanAnnual           True\n",
       "precip_JunAug               True\n",
       "vegetation                  True\n",
       "precipPrevious_JunAug       True\n",
       "precip_OctSep               True\n",
       "precipPrevious_OctSep       True\n",
       "precip_growingSeason        True\n",
       "varPrecip_growingSeason    False\n",
       "elev_etopo1                 True\n",
       "lat                         True\n",
       "lon                         True\n",
       "elev_srtm30                 True\n",
       "dtype: bool"
      ]
     },
     "execution_count": 13,
     "metadata": {},
     "output_type": "execute_result"
    }
   ],
   "source": [
    "np.isfinite(X_valid).all()"
   ]
  },
  {
   "cell_type": "code",
   "execution_count": 14,
   "metadata": {
    "collapsed": false
   },
   "outputs": [
    {
     "name": "stdout",
     "output_type": "stream",
     "text": [
      "X_train: 0.0\n",
      "X_valid: 0.00930437624952\n",
      "X_test: 0.0231864355576\n"
     ]
    }
   ],
   "source": [
    "print('X_train:', \n",
    "      np.isnan(X_train.varPrecip_growingSeason).sum() / X_train.shape[0])\n",
    "print('X_valid:', \n",
    "      np.isnan(X_valid.varPrecip_growingSeason).sum() / X_valid.shape[0])\n",
    "print('X_test:',  \n",
    "      np.isnan(X_test.varPrecip_growingSeason).sum() / X_test.shape[0])"
   ]
  },
  {
   "cell_type": "code",
   "execution_count": 15,
   "metadata": {
    "collapsed": false
   },
   "outputs": [
    {
     "name": "stdout",
     "output_type": "stream",
     "text": [
      "(617805, 21) (617805, 1)\n",
      "(130327, 21) (130327, 1)\n",
      "(129335, 21) (129335, 1)\n"
     ]
    }
   ],
   "source": [
    "# NaNs in less than 1% of the rows.... just drop\n",
    "def drop_nans(X_df, y_df, field, verbose=True):\n",
    "    X = X_df.copy()\n",
    "    y = y_df.copy()\n",
    "    X = X.loc[np.isnan(X_df[field]) == False, :]\n",
    "    y = y.loc[np.isnan(X_df[field]) == False, :]\n",
    "    \n",
    "    if verbose:\n",
    "        print(X.shape, y.shape)\n",
    "    return X, y\n",
    "\n",
    "\n",
    "X_train, y_train = drop_nans(X_train, y_train, 'varPrecip_growingSeason')\n",
    "X_valid, y_valid = drop_nans(X_valid, y_valid, 'varPrecip_growingSeason')\n",
    "X_test,  y_test  = drop_nans(X_test,  y_test,  'varPrecip_growingSeason')"
   ]
  },
  {
   "cell_type": "code",
   "execution_count": 16,
   "metadata": {
    "collapsed": false
   },
   "outputs": [],
   "source": [
    "# Normalize data to make gradient descent more efficient\n",
    "scaler = StandardScaler()\n",
    "X_train = scaler.fit_transform(X_train)\n",
    "X_valid = scaler.transform(X_valid)\n",
    "X_test  = scaler.transform(X_test)"
   ]
  },
  {
   "cell_type": "code",
   "execution_count": 17,
   "metadata": {
    "collapsed": false
   },
   "outputs": [],
   "source": [
    "def vectorize(y):\n",
    "    y = y.tolist()\n",
    "    for i in range(len(y)):\n",
    "        y[i] = [1, 0] if y[i] == [0] else [0, 1]\n",
    "        \n",
    "    return np.array(y)"
   ]
  },
  {
   "cell_type": "code",
   "execution_count": 18,
   "metadata": {
    "collapsed": false
   },
   "outputs": [],
   "source": [
    "y_train = y_train.as_matrix()\n",
    "y_valid = y_valid.as_matrix()\n",
    "y_test  = y_test.as_matrix()"
   ]
  },
  {
   "cell_type": "code",
   "execution_count": 19,
   "metadata": {
    "collapsed": false
   },
   "outputs": [],
   "source": [
    "y_train = vectorize(y_train)\n",
    "y_valid = vectorize(y_valid)\n",
    "y_test  = vectorize(y_test)"
   ]
  },
  {
   "cell_type": "markdown",
   "metadata": {},
   "source": [
    "# Neural Net Model"
   ]
  },
  {
   "cell_type": "code",
   "execution_count": 20,
   "metadata": {
    "collapsed": false
   },
   "outputs": [
    {
     "data": {
      "text/plain": [
       "(617805, 21)"
      ]
     },
     "execution_count": 20,
     "metadata": {},
     "output_type": "execute_result"
    }
   ],
   "source": [
    "best_val_loss = np.inf\n",
    "X_train.shape"
   ]
  },
  {
   "cell_type": "code",
   "execution_count": 77,
   "metadata": {
    "collapsed": false
   },
   "outputs": [
    {
     "data": {
      "text/plain": [
       "[21, 21, 21, 21, 21, 21, 21, 21, 21, 21, 2]"
      ]
     },
     "execution_count": 77,
     "metadata": {},
     "output_type": "execute_result"
    }
   ],
   "source": [
    "# Params and Hyperparams\n",
    "n_inputs = X_train.shape[1]\n",
    "n_outputs = 2\n",
    "\n",
    "# Current best\n",
    "N_LAYERS = 15\n",
    "NODES_PER_LAYER = ([n_inputs] * N_LAYERS)\n",
    "NODES_PER_LAYER.append(n_outputs)\n",
    "ETA = 0.1\n",
    "DROPOUT = 0.5\n",
    "BETA_1 = 0.9\n",
    "BETA_2 = 0.999\n",
    "EPSILON = 1e-08\n",
    "DECAY = 0.01\n",
    "EPOCHS = 50\n",
    "BATCH_SIZE = 1024\n",
    "\n",
    "NODES_PER_LAYER"
   ]
  },
  {
   "cell_type": "code",
   "execution_count": 78,
   "metadata": {
    "collapsed": true
   },
   "outputs": [],
   "source": [
    "def get_params():\n",
    "    return {'NODES_PER_LAYER': NODES_PER_LAYER,\n",
    "            'ETA': ETA,\n",
    "            'DROPOUT': DROPOUT,\n",
    "            'BETA_1': BETA_1,\n",
    "            'BETA_2': BETA_2,\n",
    "            'EPSILON': EPSILON,\n",
    "            'DECAY': DECAY,\n",
    "            'EPOCHS': EPOCHS,\n",
    "            'BATCH_SIZE': BATCH_SIZE}"
   ]
  },
  {
   "cell_type": "code",
   "execution_count": 79,
   "metadata": {
    "collapsed": false
   },
   "outputs": [
    {
     "name": "stdout",
     "output_type": "stream",
     "text": [
      "_________________________________________________________________\n",
      "Layer (type)                 Output Shape              Param #   \n",
      "=================================================================\n",
      "dense_51 (Dense)             (None, 21)                462       \n",
      "_________________________________________________________________\n",
      "batch_normalization_51 (Batc (None, 21)                84        \n",
      "_________________________________________________________________\n",
      "activation_51 (Activation)   (None, 21)                0         \n",
      "_________________________________________________________________\n",
      "dropout_46 (Dropout)         (None, 21)                0         \n",
      "_________________________________________________________________\n",
      "dense_52 (Dense)             (None, 21)                462       \n",
      "_________________________________________________________________\n",
      "batch_normalization_52 (Batc (None, 21)                84        \n",
      "_________________________________________________________________\n",
      "activation_52 (Activation)   (None, 21)                0         \n",
      "_________________________________________________________________\n",
      "dropout_47 (Dropout)         (None, 21)                0         \n",
      "_________________________________________________________________\n",
      "dense_53 (Dense)             (None, 21)                462       \n",
      "_________________________________________________________________\n",
      "batch_normalization_53 (Batc (None, 21)                84        \n",
      "_________________________________________________________________\n",
      "activation_53 (Activation)   (None, 21)                0         \n",
      "_________________________________________________________________\n",
      "dropout_48 (Dropout)         (None, 21)                0         \n",
      "_________________________________________________________________\n",
      "dense_54 (Dense)             (None, 21)                462       \n",
      "_________________________________________________________________\n",
      "batch_normalization_54 (Batc (None, 21)                84        \n",
      "_________________________________________________________________\n",
      "activation_54 (Activation)   (None, 21)                0         \n",
      "_________________________________________________________________\n",
      "dropout_49 (Dropout)         (None, 21)                0         \n",
      "_________________________________________________________________\n",
      "dense_55 (Dense)             (None, 21)                462       \n",
      "_________________________________________________________________\n",
      "batch_normalization_55 (Batc (None, 21)                84        \n",
      "_________________________________________________________________\n",
      "activation_55 (Activation)   (None, 21)                0         \n",
      "_________________________________________________________________\n",
      "dropout_50 (Dropout)         (None, 21)                0         \n",
      "_________________________________________________________________\n",
      "dense_56 (Dense)             (None, 21)                462       \n",
      "_________________________________________________________________\n",
      "batch_normalization_56 (Batc (None, 21)                84        \n",
      "_________________________________________________________________\n",
      "activation_56 (Activation)   (None, 21)                0         \n",
      "_________________________________________________________________\n",
      "dropout_51 (Dropout)         (None, 21)                0         \n",
      "_________________________________________________________________\n",
      "dense_57 (Dense)             (None, 21)                462       \n",
      "_________________________________________________________________\n",
      "batch_normalization_57 (Batc (None, 21)                84        \n",
      "_________________________________________________________________\n",
      "activation_57 (Activation)   (None, 21)                0         \n",
      "_________________________________________________________________\n",
      "dropout_52 (Dropout)         (None, 21)                0         \n",
      "_________________________________________________________________\n",
      "dense_58 (Dense)             (None, 21)                462       \n",
      "_________________________________________________________________\n",
      "batch_normalization_58 (Batc (None, 21)                84        \n",
      "_________________________________________________________________\n",
      "activation_58 (Activation)   (None, 21)                0         \n",
      "_________________________________________________________________\n",
      "dropout_53 (Dropout)         (None, 21)                0         \n",
      "_________________________________________________________________\n",
      "dense_59 (Dense)             (None, 21)                462       \n",
      "_________________________________________________________________\n",
      "batch_normalization_59 (Batc (None, 21)                84        \n",
      "_________________________________________________________________\n",
      "activation_59 (Activation)   (None, 21)                0         \n",
      "_________________________________________________________________\n",
      "dropout_54 (Dropout)         (None, 21)                0         \n",
      "_________________________________________________________________\n",
      "dense_60 (Dense)             (None, 2)                 44        \n",
      "_________________________________________________________________\n",
      "batch_normalization_60 (Batc (None, 2)                 8         \n",
      "_________________________________________________________________\n",
      "activation_60 (Activation)   (None, 2)                 0         \n",
      "=================================================================\n",
      "Total params: 4,966\n",
      "Trainable params: 4,584\n",
      "Non-trainable params: 382\n",
      "_________________________________________________________________\n"
     ]
    }
   ],
   "source": [
    "model = Sequential()\n",
    "\n",
    "# NOTE: \"glorot-normal\" is the same thing as \"Xavier\" initialization\n",
    "model.add(Dense(NODES_PER_LAYER[1], \n",
    "                input_dim=NODES_PER_LAYER[0], \n",
    "                kernel_initializer='glorot_normal'))\n",
    "model.add(BatchNormalization())\n",
    "model.add(Activation('relu'))\n",
    "model.add(Dropout(DROPOUT))\n",
    "\n",
    "# additional hidden layers here\n",
    "for i in range(2, len(NODES_PER_LAYER) - 1):\n",
    "    model.add(Dense(NODES_PER_LAYER[i], \n",
    "                    kernel_initializer='glorot_normal'))\n",
    "    model.add(BatchNormalization())\n",
    "    model.add(Activation('relu'))\n",
    "    model.add(Dropout(DROPOUT))\n",
    "\n",
    "model.add(Dense(NODES_PER_LAYER[-1], kernel_initializer='glorot_normal'))\n",
    "model.add(BatchNormalization())\n",
    "model.add(Activation('softmax'))\n",
    "\n",
    "model.summary()"
   ]
  },
  {
   "cell_type": "code",
   "execution_count": 80,
   "metadata": {
    "collapsed": true
   },
   "outputs": [],
   "source": [
    "adam = Adam(\n",
    "    lr=ETA, beta_1=BETA_1, beta_2=BETA_2, epsilon=EPSILON, decay=DECAY)\n",
    "model.compile(\n",
    "    loss='binary_crossentropy', optimizer=adam, metrics=['accuracy'])"
   ]
  },
  {
   "cell_type": "code",
   "execution_count": 81,
   "metadata": {
    "collapsed": false
   },
   "outputs": [
    {
     "name": "stdout",
     "output_type": "stream",
     "text": [
      "Train on 617805 samples, validate on 130327 samples\n",
      "Epoch 1/50\n",
      "617472/617805 [============================>.] - ETA: 0s - loss: 0.3858 - acc: 0.8071Epoch 00001: val_loss improved from inf to 0.34193, saving model to ../../../data/cluster/edge/n/weights.bestNN.hdf5\n",
      "617805/617805 [==============================] - 30s 48us/step - loss: 0.3858 - acc: 0.8071 - val_loss: 0.3419 - val_acc: 0.8492\n",
      "Epoch 2/50\n",
      "616448/617805 [============================>.] - ETA: 0s - loss: 0.3429 - acc: 0.8099Epoch 00002: val_loss improved from 0.34193 to 0.29691, saving model to ../../../data/cluster/edge/n/weights.bestNN.hdf5\n",
      "617805/617805 [==============================] - 21s 34us/step - loss: 0.3429 - acc: 0.8099 - val_loss: 0.2969 - val_acc: 0.8492\n",
      "Epoch 3/50\n",
      "616448/617805 [============================>.] - ETA: 0s - loss: 0.3362 - acc: 0.8117Epoch 00003: val_loss did not improve\n",
      "617805/617805 [==============================] - 21s 34us/step - loss: 0.3362 - acc: 0.8117 - val_loss: 0.2974 - val_acc: 0.8492\n",
      "Epoch 4/50\n",
      "617472/617805 [============================>.] - ETA: 0s - loss: 0.3327 - acc: 0.8119Epoch 00004: val_loss did not improve\n",
      "617805/617805 [==============================] - 21s 33us/step - loss: 0.3327 - acc: 0.8119 - val_loss: 0.3089 - val_acc: 0.8492\n",
      "Epoch 5/50\n",
      "617472/617805 [============================>.] - ETA: 0s - loss: 0.3287 - acc: 0.8134Epoch 00005: val_loss improved from 0.29691 to 0.29364, saving model to ../../../data/cluster/edge/n/weights.bestNN.hdf5\n",
      "617805/617805 [==============================] - 21s 34us/step - loss: 0.3287 - acc: 0.8134 - val_loss: 0.2936 - val_acc: 0.8492\n",
      "Epoch 6/50\n",
      "616448/617805 [============================>.] - ETA: 0s - loss: 0.3283 - acc: 0.8135Epoch 00006: val_loss did not improve\n",
      "617805/617805 [==============================] - 21s 34us/step - loss: 0.3283 - acc: 0.8135 - val_loss: 0.3009 - val_acc: 0.8492\n",
      "Epoch 7/50\n",
      "616448/617805 [============================>.] - ETA: 0s - loss: 0.3269 - acc: 0.8140Epoch 00007: val_loss improved from 0.29364 to 0.29193, saving model to ../../../data/cluster/edge/n/weights.bestNN.hdf5\n",
      "617805/617805 [==============================] - 21s 34us/step - loss: 0.3269 - acc: 0.8140 - val_loss: 0.2919 - val_acc: 0.8492\n",
      "Epoch 8/50\n",
      "617472/617805 [============================>.] - ETA: 0s - loss: 0.3264 - acc: 0.8144Epoch 00008: val_loss did not improve\n",
      "617805/617805 [==============================] - 21s 34us/step - loss: 0.3264 - acc: 0.8144 - val_loss: 0.2963 - val_acc: 0.8492\n",
      "Epoch 9/50\n",
      "616448/617805 [============================>.] - ETA: 0s - loss: 0.3258 - acc: 0.8144Epoch 00009: val_loss did not improve\n",
      "617805/617805 [==============================] - 23s 37us/step - loss: 0.3258 - acc: 0.8144 - val_loss: 0.2960 - val_acc: 0.8371\n",
      "Epoch 10/50\n",
      "616448/617805 [============================>.] - ETA: 0s - loss: 0.3245 - acc: 0.8153Epoch 00010: val_loss did not improve\n",
      "617805/617805 [==============================] - 22s 36us/step - loss: 0.3245 - acc: 0.8154 - val_loss: 0.2934 - val_acc: 0.8492\n",
      "Epoch 11/50\n",
      "616448/617805 [============================>.] - ETA: 0s - loss: 0.3238 - acc: 0.8161Epoch 00011: val_loss did not improve\n",
      "617805/617805 [==============================] - 22s 36us/step - loss: 0.3238 - acc: 0.8161 - val_loss: 0.2942 - val_acc: 0.8492\n",
      "Epoch 12/50\n",
      "616448/617805 [============================>.] - ETA: 0s - loss: 0.3232 - acc: 0.8160Epoch 00012: val_loss did not improve\n",
      "617805/617805 [==============================] - 22s 35us/step - loss: 0.3232 - acc: 0.8159 - val_loss: 0.2957 - val_acc: 0.8492\n",
      "Epoch 13/50\n",
      "617472/617805 [============================>.] - ETA: 0s - loss: 0.3242 - acc: 0.8148Epoch 00013: val_loss did not improve\n",
      "617805/617805 [==============================] - 21s 35us/step - loss: 0.3242 - acc: 0.8148 - val_loss: 0.2949 - val_acc: 0.8392\n",
      "Epoch 14/50\n",
      "616448/617805 [============================>.] - ETA: 0s - loss: 0.3236 - acc: 0.8157Epoch 00014: val_loss did not improve\n",
      "617805/617805 [==============================] - 22s 35us/step - loss: 0.3236 - acc: 0.8157 - val_loss: 0.2938 - val_acc: 0.8492\n",
      "Epoch 15/50\n",
      "617472/617805 [============================>.] - ETA: 0s - loss: 0.3234 - acc: 0.8164Epoch 00015: val_loss did not improve\n",
      "617805/617805 [==============================] - 22s 36us/step - loss: 0.3234 - acc: 0.8164 - val_loss: 0.2936 - val_acc: 0.8492\n",
      "Epoch 16/50\n",
      "616448/617805 [============================>.] - ETA: 0s - loss: 0.3232 - acc: 0.8159Epoch 00016: val_loss did not improve\n",
      "617805/617805 [==============================] - 23s 37us/step - loss: 0.3233 - acc: 0.8158 - val_loss: 0.2932 - val_acc: 0.8482\n",
      "Epoch 17/50\n",
      "616448/617805 [============================>.] - ETA: 0s - loss: 0.3221 - acc: 0.8159Epoch 00017: val_loss did not improve\n",
      "617805/617805 [==============================] - 22s 35us/step - loss: 0.3222 - acc: 0.8158 - val_loss: 0.2949 - val_acc: 0.8492\n",
      "Epoch 18/50\n",
      "617472/617805 [============================>.] - ETA: 0s - loss: 0.3220 - acc: 0.8169Epoch 00018: val_loss did not improve\n",
      "617805/617805 [==============================] - 22s 35us/step - loss: 0.3220 - acc: 0.8169 - val_loss: 0.2942 - val_acc: 0.8489\n",
      "Epoch 19/50\n",
      "616448/617805 [============================>.] - ETA: 0s - loss: 0.3229 - acc: 0.8160Epoch 00019: val_loss did not improve\n",
      "617805/617805 [==============================] - 22s 35us/step - loss: 0.3229 - acc: 0.8160 - val_loss: 0.2937 - val_acc: 0.8432\n",
      "Epoch 20/50\n",
      "616448/617805 [============================>.] - ETA: 0s - loss: 0.3218 - acc: 0.8162Epoch 00020: val_loss did not improve\n",
      "617805/617805 [==============================] - 22s 35us/step - loss: 0.3219 - acc: 0.8162 - val_loss: 0.2936 - val_acc: 0.8491\n",
      "Epoch 21/50\n",
      "617472/617805 [============================>.] - ETA: 0s - loss: 0.3214 - acc: 0.8166Epoch 00021: val_loss did not improve\n",
      "617805/617805 [==============================] - 21s 35us/step - loss: 0.3214 - acc: 0.8166 - val_loss: 0.2926 - val_acc: 0.8484\n",
      "Epoch 22/50\n",
      "617472/617805 [============================>.] - ETA: 0s - loss: 0.3215 - acc: 0.8166Epoch 00022: val_loss did not improve\n",
      "617805/617805 [==============================] - 21s 35us/step - loss: 0.3215 - acc: 0.8166 - val_loss: 0.2932 - val_acc: 0.8473\n",
      "Epoch 23/50\n",
      "617472/617805 [============================>.] - ETA: 0s - loss: 0.3221 - acc: 0.8165Epoch 00023: val_loss did not improve\n",
      "617805/617805 [==============================] - 24s 38us/step - loss: 0.3221 - acc: 0.8165 - val_loss: 0.2935 - val_acc: 0.8490\n",
      "Epoch 24/50\n",
      "616448/617805 [============================>.] - ETA: 0s - loss: 0.3212 - acc: 0.8163Epoch 00024: val_loss did not improve\n",
      "617805/617805 [==============================] - 21s 35us/step - loss: 0.3212 - acc: 0.8163 - val_loss: 0.2937 - val_acc: 0.8507\n",
      "Epoch 25/50\n",
      "616448/617805 [============================>.] - ETA: 0s - loss: 0.3210 - acc: 0.8165Epoch 00025: val_loss did not improve\n",
      "617805/617805 [==============================] - 21s 35us/step - loss: 0.3210 - acc: 0.8164 - val_loss: 0.2938 - val_acc: 0.8499\n",
      "Epoch 26/50\n",
      "616448/617805 [============================>.] - ETA: 0s - loss: 0.3215 - acc: 0.8159Epoch 00026: val_loss improved from 0.29193 to 0.29150, saving model to ../../../data/cluster/edge/n/weights.bestNN.hdf5\n",
      "617805/617805 [==============================] - 22s 36us/step - loss: 0.3215 - acc: 0.8159 - val_loss: 0.2915 - val_acc: 0.8550\n",
      "Epoch 27/50\n",
      "616448/617805 [============================>.] - ETA: 0s - loss: 0.3204 - acc: 0.8165Epoch 00027: val_loss did not improve\n",
      "617805/617805 [==============================] - 22s 35us/step - loss: 0.3205 - acc: 0.8165 - val_loss: 0.2925 - val_acc: 0.8505\n",
      "Epoch 28/50\n",
      "617472/617805 [============================>.] - ETA: 0s - loss: 0.3209 - acc: 0.8172Epoch 00028: val_loss did not improve\n",
      "617805/617805 [==============================] - 21s 35us/step - loss: 0.3209 - acc: 0.8172 - val_loss: 0.2920 - val_acc: 0.8517\n",
      "Epoch 29/50\n",
      "617472/617805 [============================>.] - ETA: 0s - loss: 0.3208 - acc: 0.8172Epoch 00029: val_loss did not improve\n",
      "617805/617805 [==============================] - 22s 35us/step - loss: 0.3208 - acc: 0.8172 - val_loss: 0.2918 - val_acc: 0.8533\n",
      "Epoch 30/50\n",
      "616448/617805 [============================>.] - ETA: 0s - loss: 0.3210 - acc: 0.8163Epoch 00030: val_loss did not improve\n",
      "617805/617805 [==============================] - 21s 35us/step - loss: 0.3210 - acc: 0.8163 - val_loss: 0.2921 - val_acc: 0.8522\n",
      "Epoch 31/50\n",
      "617472/617805 [============================>.] - ETA: 0s - loss: 0.3203 - acc: 0.8173Epoch 00031: val_loss did not improve\n",
      "617805/617805 [==============================] - 21s 35us/step - loss: 0.3203 - acc: 0.8173 - val_loss: 0.2932 - val_acc: 0.8548\n",
      "Epoch 32/50\n",
      "616448/617805 [============================>.] - ETA: 0s - loss: 0.3200 - acc: 0.8172Epoch 00032: val_loss did not improve\n",
      "617805/617805 [==============================] - 22s 35us/step - loss: 0.3200 - acc: 0.8172 - val_loss: 0.2928 - val_acc: 0.8519\n",
      "Epoch 33/50\n",
      "616448/617805 [============================>.] - ETA: 0s - loss: 0.3208 - acc: 0.8166Epoch 00033: val_loss did not improve\n",
      "617805/617805 [==============================] - 21s 35us/step - loss: 0.3208 - acc: 0.8166 - val_loss: 0.2931 - val_acc: 0.8520\n",
      "Epoch 34/50\n",
      "617472/617805 [============================>.] - ETA: 0s - loss: 0.3194 - acc: 0.8173Epoch 00034: val_loss did not improve\n",
      "617805/617805 [==============================] - 23s 37us/step - loss: 0.3194 - acc: 0.8173 - val_loss: 0.2931 - val_acc: 0.8531\n",
      "Epoch 35/50\n",
      "617472/617805 [============================>.] - ETA: 0s - loss: 0.3202 - acc: 0.8172Epoch 00035: val_loss did not improve\n",
      "617805/617805 [==============================] - 24s 39us/step - loss: 0.3202 - acc: 0.8172 - val_loss: 0.2919 - val_acc: 0.8534\n",
      "Epoch 36/50\n",
      "617472/617805 [============================>.] - ETA: 0s - loss: 0.3200 - acc: 0.8175Epoch 00036: val_loss did not improve\n",
      "617805/617805 [==============================] - 21s 34us/step - loss: 0.3200 - acc: 0.8175 - val_loss: 0.2933 - val_acc: 0.8538\n",
      "Epoch 37/50\n",
      "617472/617805 [============================>.] - ETA: 0s - loss: 0.3200 - acc: 0.8168Epoch 00037: val_loss did not improve\n",
      "617805/617805 [==============================] - 21s 34us/step - loss: 0.3200 - acc: 0.8168 - val_loss: 0.2932 - val_acc: 0.8534\n",
      "Epoch 38/50\n",
      "617472/617805 [============================>.] - ETA: 0s - loss: 0.3202 - acc: 0.8165Epoch 00038: val_loss did not improve\n",
      "617805/617805 [==============================] - 21s 34us/step - loss: 0.3202 - acc: 0.8165 - val_loss: 0.2919 - val_acc: 0.8550\n",
      "Epoch 39/50\n",
      "616448/617805 [============================>.] - ETA: 0s - loss: 0.3196 - acc: 0.8168Epoch 00039: val_loss did not improve\n",
      "617805/617805 [==============================] - 21s 35us/step - loss: 0.3196 - acc: 0.8168 - val_loss: 0.2930 - val_acc: 0.8538\n",
      "Epoch 40/50\n",
      "616448/617805 [============================>.] - ETA: 0s - loss: 0.3196 - acc: 0.8164Epoch 00040: val_loss did not improve\n",
      "617805/617805 [==============================] - 23s 37us/step - loss: 0.3196 - acc: 0.8165 - val_loss: 0.2922 - val_acc: 0.8534\n",
      "Epoch 41/50\n",
      "617472/617805 [============================>.] - ETA: 0s - loss: 0.3197 - acc: 0.8172Epoch 00041: val_loss did not improve\n",
      "617805/617805 [==============================] - 21s 34us/step - loss: 0.3198 - acc: 0.8172 - val_loss: 0.2926 - val_acc: 0.8536\n",
      "Epoch 42/50\n",
      "617472/617805 [============================>.] - ETA: 0s - loss: 0.3196 - acc: 0.8169Epoch 00042: val_loss did not improve\n",
      "617805/617805 [==============================] - 21s 34us/step - loss: 0.3196 - acc: 0.8169 - val_loss: 0.2924 - val_acc: 0.8556\n",
      "Epoch 43/50\n",
      "617472/617805 [============================>.] - ETA: 0s - loss: 0.3204 - acc: 0.8169Epoch 00043: val_loss did not improve\n",
      "617805/617805 [==============================] - 21s 34us/step - loss: 0.3204 - acc: 0.8169 - val_loss: 0.2926 - val_acc: 0.8561\n",
      "Epoch 44/50\n",
      "617472/617805 [============================>.] - ETA: 0s - loss: 0.3201 - acc: 0.8176Epoch 00044: val_loss did not improve\n",
      "617805/617805 [==============================] - 21s 34us/step - loss: 0.3201 - acc: 0.8176 - val_loss: 0.2921 - val_acc: 0.8546\n",
      "Epoch 45/50\n",
      "617472/617805 [============================>.] - ETA: 0s - loss: 0.3193 - acc: 0.8177Epoch 00045: val_loss did not improve\n",
      "617805/617805 [==============================] - 21s 34us/step - loss: 0.3193 - acc: 0.8177 - val_loss: 0.2918 - val_acc: 0.8545\n",
      "Epoch 46/50\n",
      "617472/617805 [============================>.] - ETA: 0s - loss: 0.3196 - acc: 0.8174Epoch 00046: val_loss did not improve\n",
      "617805/617805 [==============================] - 21s 34us/step - loss: 0.3196 - acc: 0.8174 - val_loss: 0.2925 - val_acc: 0.8554\n",
      "Epoch 47/50\n",
      "617472/617805 [============================>.] - ETA: 0s - loss: 0.3191 - acc: 0.8179Epoch 00047: val_loss did not improve\n",
      "617805/617805 [==============================] - 21s 34us/step - loss: 0.3191 - acc: 0.8179 - val_loss: 0.2919 - val_acc: 0.8549\n",
      "Epoch 48/50\n",
      "617472/617805 [============================>.] - ETA: 0s - loss: 0.3198 - acc: 0.8177Epoch 00048: val_loss did not improve\n",
      "617805/617805 [==============================] - 21s 34us/step - loss: 0.3198 - acc: 0.8177 - val_loss: 0.2926 - val_acc: 0.8565\n",
      "Epoch 49/50\n",
      "616448/617805 [============================>.] - ETA: 0s - loss: 0.3198 - acc: 0.8173Epoch 00049: val_loss did not improve\n",
      "617805/617805 [==============================] - 21s 34us/step - loss: 0.3198 - acc: 0.8172 - val_loss: 0.2933 - val_acc: 0.8549\n",
      "Epoch 50/50\n",
      "617472/617805 [============================>.] - ETA: 0s - loss: 0.3192 - acc: 0.8177Epoch 00050: val_loss did not improve\n",
      "617805/617805 [==============================] - 21s 34us/step - loss: 0.3192 - acc: 0.8177 - val_loss: 0.2926 - val_acc: 0.8556\n"
     ]
    }
   ],
   "source": [
    "VERBOSE = 1\n",
    "checkpointer = ModelCheckpoint(filepath=DATA_PATH + 'weights.bestNN.hdf5',\n",
    "                               verbose=VERBOSE,\n",
    "                               save_best_only=True)\n",
    "earlyStop = EarlyStopping(monitor='val_loss', patience=50)\n",
    "start = time.time()\n",
    "history = model.fit(X_train,\n",
    "                    y_train,\n",
    "                    validation_data=(X_valid, y_valid),\n",
    "                    epochs=EPOCHS,\n",
    "                    batch_size=BATCH_SIZE,\n",
    "                    callbacks=[checkpointer, earlyStop],\n",
    "                    verbose=VERBOSE)\n",
    "elapsed = time.time() - start"
   ]
  },
  {
   "cell_type": "code",
   "execution_count": 82,
   "metadata": {
    "collapsed": false
   },
   "outputs": [
    {
     "name": "stdout",
     "output_type": "stream",
     "text": [
      "Time: 18.17 minutes\n"
     ]
    }
   ],
   "source": [
    "print('Time: %.2f minutes' % (elapsed / 60))"
   ]
  },
  {
   "cell_type": "code",
   "execution_count": 83,
   "metadata": {
    "collapsed": false
   },
   "outputs": [
    {
     "data": {
      "image/png": "[encoded data removed]",
      "text/plain": [
       "<matplotlib.figure.Figure at 0x12dea3c18>"
      ]
     },
     "metadata": {},
     "output_type": "display_data"
    }
   ],
   "source": [
    "plt.plot(history.history['loss'], 'k-', label='train');\n",
    "plt.plot(history.history['val_loss'], 'r-', label='valid');\n",
    "plt.xlabel('epochs');\n",
    "plt.ylabel('Loss (binary cross-entropy)')\n",
    "#plt.yscale('log');\n",
    "plt.legend(loc='best');"
   ]
  },
  {
   "cell_type": "code",
   "execution_count": 84,
   "metadata": {
    "collapsed": false
   },
   "outputs": [
    {
     "data": {
      "image/png": "[encoded data removed]",
      "text/plain": [
       "<matplotlib.figure.Figure at 0x1312e14a8>"
      ]
     },
     "metadata": {},
     "output_type": "display_data"
    }
   ],
   "source": [
    "plt.plot(history.history['acc'], 'k-', label='train');\n",
    "plt.plot(history.history['val_acc'], 'r-', label='valid');\n",
    "plt.xlabel('epochs');\n",
    "plt.ylabel('Accuracy')\n",
    "#plt.yscale('log');\n",
    "plt.legend(loc='best');"
   ]
  },
  {
   "cell_type": "code",
   "execution_count": 85,
   "metadata": {
    "collapsed": false
   },
   "outputs": [
    {
     "name": "stdout",
     "output_type": "stream",
     "text": [
      "This run: 0.29261\n"
     ]
    }
   ],
   "source": [
    "this_run = np.mean(history.history['val_loss'][-20:])\n",
    "this_run_acc = np.mean(history.history['val_acc'][-20:])\n",
    "print('This run: %.5f' % this_run)"
   ]
  },
  {
   "cell_type": "code",
   "execution_count": 86,
   "metadata": {
    "collapsed": false
   },
   "outputs": [
    {
     "name": "stdout",
     "output_type": "stream",
     "text": [
      "Best validation loss so far: 0.29146\tAcc: 0.87227\n",
      "Training loss of same model: 0.24848\tAcc: 0.88315\n",
      "Best hyperparameters found so far:\n",
      "{'BATCH_SIZE': 1024,\n",
      " 'BETA_1': 0.9,\n",
      " 'BETA_2': 0.999,\n",
      " 'DECAY': 0.01,\n",
      " 'DROPOUT': 0.2,\n",
      " 'EPOCHS': 50,\n",
      " 'EPSILON': 1e-08,\n",
      " 'ETA': 0.1,\n",
      " 'NODES_PER_LAYER': [21, 21, 21, 21, 21, 21, 21, 21, 21, 21, 2]}\n"
     ]
    }
   ],
   "source": [
    "if this_run < best_val_loss:\n",
    "    print('New Best Model Found!\\n')\n",
    "    best_val_loss = this_run\n",
    "    best_val_acc  = this_run_acc\n",
    "    train_loss_of_best = np.mean(history.history['loss'][-20:])\n",
    "    train_acc_of_best = np.mean(history.history['acc'][-20:])\n",
    "    best_params = get_params()\n",
    "print('Best validation loss so far: %.5f\\tAcc: %.5f' % (best_val_loss, best_val_acc))\n",
    "print('Training loss of same model: %.5f\\tAcc: %.5f' % (train_loss_of_best, train_acc_of_best))\n",
    "print('Best hyperparameters found so far:')\n",
    "pprint(best_params)"
   ]
  },
  {
   "cell_type": "markdown",
   "metadata": {
    "collapsed": false
   },
   "source": [
    "Overfitting"
   ]
  },
  {
   "cell_type": "code",
   "execution_count": null,
   "metadata": {
    "collapsed": true
   },
   "outputs": [],
   "source": []
  }
 ],
 "metadata": {
  "kernelspec": {
   "display_name": "Python 3",
   "language": "python",
   "name": "python3"
  },
  "language_info": {
   "codemirror_mode": {
    "name": "ipython",
    "version": 3
   },
   "file_extension": ".py",
   "mimetype": "text/x-python",
   "name": "python",
   "nbconvert_exporter": "python",
   "pygments_lexer": "ipython3",
   "version": "3.6.1"
  }
 },
 "nbformat": 4,
 "nbformat_minor": 0
}
