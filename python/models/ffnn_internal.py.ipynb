{
 "cells": [
  {
   "cell_type": "code",
   "execution_count": 1,
   "metadata": {
    "collapsed": false
   },
   "outputs": [
    {
     "name": "stderr",
     "output_type": "stream",
     "text": [
      "Using TensorFlow backend.\n"
     ]
    }
   ],
   "source": [
    "import keras\n",
    "import matplotlib.pyplot as plt\n",
    "import numpy as np\n",
    "import os\n",
    "import pandas as pd\n",
    "import sys\n",
    "import time\n",
    "from keras.callbacks import EarlyStopping, ModelCheckpoint \n",
    "from keras.layers import Activation, BatchNormalization, Dense, Dropout\n",
    "from keras.models import Sequential\n",
    "from keras.optimizers import Adam\n",
    "from pprint import pprint\n",
    "from pylab import *\n",
    "#from sklearn.metrics import auc, confusion_matrix, roc_auc_score, roc_curve \n",
    "from sklearn.preprocessing import StandardScaler\n",
    "\n",
    "import model_utils as util\n",
    "\n",
    "sys.path.append('../')\n",
    "import data_manipulations as manip\n",
    "\n",
    "%matplotlib inline\n",
    "\n",
    "plt.rcParams['figure.figsize'] = 10, 8\n",
    "plt.style.use('ggplot')"
   ]
  },
  {
   "cell_type": "code",
   "execution_count": 2,
   "metadata": {
    "collapsed": false
   },
   "outputs": [
    {
     "data": {
      "text/plain": [
       "['weights.bestNN.hdf5',\n",
       " 'X_test.csv',\n",
       " 'X_train.csv',\n",
       " 'X_valid.csv',\n",
       " 'y_test.csv',\n",
       " 'y_test.csv~',\n",
       " 'y_train.csv',\n",
       " 'y_train.csv~',\n",
       " 'y_valid.csv',\n",
       " 'y_valid.csv~']"
      ]
     },
     "execution_count": 2,
     "metadata": {},
     "output_type": "execute_result"
    }
   ],
   "source": [
    "DATA_PATH =  '../../data/cluster/internal/'\n",
    "os.listdir(DATA_PATH)"
   ]
  },
  {
   "cell_type": "code",
   "execution_count": 3,
   "metadata": {
    "collapsed": false
   },
   "outputs": [
    {
     "name": "stdout",
     "output_type": "stream",
     "text": [
      "X_train: (588570, 24)\n",
      "X_valid: (147915, 24)\n",
      "X_test: (146220, 24)\n",
      "y_train: (588570, 1)\n",
      "y_valid: (147915, 1)\n",
      "y_test: (146220, 1)\n"
     ]
    }
   ],
   "source": [
    "[[X_train, y_train], \n",
    " [X_valid, y_valid], \n",
    " [X_test, y_test]] = util.load_data(DATA_PATH)"
   ]
  },
  {
   "cell_type": "code",
   "execution_count": 4,
   "metadata": {
    "collapsed": false
   },
   "outputs": [
    {
     "data": {
      "text/html": [
       "<div>\n",
       "<style>\n",
       "    .dataframe thead tr:only-child th {\n",
       "        text-align: right;\n",
       "    }\n",
       "\n",
       "    .dataframe thead th {\n",
       "        text-align: left;\n",
       "    }\n",
       "\n",
       "    .dataframe tbody tr th {\n",
       "        vertical-align: top;\n",
       "    }\n",
       "</style>\n",
       "<table border=\"1\" class=\"dataframe\">\n",
       "  <thead>\n",
       "    <tr style=\"text-align: right;\">\n",
       "      <th></th>\n",
       "      <th>beetle</th>\n",
       "    </tr>\n",
       "  </thead>\n",
       "  <tbody>\n",
       "    <tr>\n",
       "      <th>0</th>\n",
       "      <td>0</td>\n",
       "    </tr>\n",
       "    <tr>\n",
       "      <th>1</th>\n",
       "      <td>0</td>\n",
       "    </tr>\n",
       "    <tr>\n",
       "      <th>2</th>\n",
       "      <td>0</td>\n",
       "    </tr>\n",
       "    <tr>\n",
       "      <th>3</th>\n",
       "      <td>0</td>\n",
       "    </tr>\n",
       "    <tr>\n",
       "      <th>4</th>\n",
       "      <td>0</td>\n",
       "    </tr>\n",
       "  </tbody>\n",
       "</table>\n",
       "</div>"
      ],
      "text/plain": [
       "   beetle\n",
       "0       0\n",
       "1       0\n",
       "2       0\n",
       "3       0\n",
       "4       0"
      ]
     },
     "execution_count": 4,
     "metadata": {},
     "output_type": "execute_result"
    }
   ],
   "source": [
    "y_train.head()"
   ]
  },
  {
   "cell_type": "code",
   "execution_count": 5,
   "metadata": {
    "collapsed": false
   },
   "outputs": [],
   "source": [
    "def print_percent_presence(y, y_name):\n",
    "    print('Percent presence in %s: %.2f%%' % \n",
    "          (y_name, 100 * y.sum() / y.shape[0]))"
   ]
  },
  {
   "cell_type": "code",
   "execution_count": 6,
   "metadata": {
    "collapsed": false
   },
   "outputs": [
    {
     "name": "stdout",
     "output_type": "stream",
     "text": [
      "Percent presence in y_train: 8.90%\n",
      "Percent presence in y_valid: 18.76%\n",
      "Percent presence in y_test: 39.75%\n"
     ]
    }
   ],
   "source": [
    "print_percent_presence(y_train, 'y_train')\n",
    "print_percent_presence(y_valid, 'y_valid')\n",
    "print_percent_presence(y_test,  'y_test')"
   ]
  },
  {
   "cell_type": "code",
   "execution_count": 7,
   "metadata": {
    "collapsed": true
   },
   "outputs": [],
   "source": [
    "# Drop 'studyArea' from predictors (all 1 in the reduced data) and 'x' and\n",
    "# 'y' (perfectly correlated with 'lon' and 'lat')\n",
    "X_train = X_train.drop(['studyArea', 'x', 'y', 'year'], axis=1)\n",
    "X_valid = X_valid.drop(['studyArea', 'x', 'y', 'year'], axis=1)\n",
    "X_test  = X_test.drop(['studyArea', 'x', 'y', 'year'],  axis=1)"
   ]
  },
  {
   "cell_type": "code",
   "execution_count": 8,
   "metadata": {
    "collapsed": false
   },
   "outputs": [
    {
     "data": {
      "text/plain": [
       "meanTemp_Annual             True\n",
       "meanTemp_AprAug             True\n",
       "meanTemp_Aug                True\n",
       "meanMinTemp_DecFeb          True\n",
       "meanMinTemp_Oct             True\n",
       "meanMinTemp_Jan             True\n",
       "meanMinTemp_Mar             True\n",
       "meanMaxTemp_Aug             True\n",
       "precip_meanAnnual           True\n",
       "precip_JunAug               True\n",
       "vegetation                  True\n",
       "precipPrevious_JunAug       True\n",
       "precip_OctSep               True\n",
       "precipPrevious_OctSep       True\n",
       "precip_growingSeason        True\n",
       "varPrecip_growingSeason    False\n",
       "elev_etopo1                 True\n",
       "lat                         True\n",
       "lon                         True\n",
       "elev_srtm30                 True\n",
       "dtype: bool"
      ]
     },
     "execution_count": 8,
     "metadata": {},
     "output_type": "execute_result"
    }
   ],
   "source": [
    "np.isfinite(X_train).all()"
   ]
  },
  {
   "cell_type": "code",
   "execution_count": 9,
   "metadata": {
    "collapsed": false
   },
   "outputs": [
    {
     "name": "stdout",
     "output_type": "stream",
     "text": [
      "X_train: 0.0072803574766\n",
      "X_valid: 6.08457560085e-05\n",
      "X_test: 0.0\n"
     ]
    }
   ],
   "source": [
    "print('X_train:', \n",
    "      np.isnan(X_train.varPrecip_growingSeason).sum() / X_train.shape[0])\n",
    "print('X_valid:', \n",
    "      np.isnan(X_valid.varPrecip_growingSeason).sum() / X_valid.shape[0])\n",
    "print('X_test:',  \n",
    "      np.isnan(X_test.varPrecip_growingSeason).sum() / X_test.shape[0])"
   ]
  },
  {
   "cell_type": "code",
   "execution_count": 10,
   "metadata": {
    "collapsed": false
   },
   "outputs": [
    {
     "name": "stdout",
     "output_type": "stream",
     "text": [
      "(584285, 20) (584285, 1)\n",
      "(147906, 20) (147906, 1)\n",
      "(146220, 20) (146220, 1)\n"
     ]
    }
   ],
   "source": [
    "X_train, y_train = util.drop_nans(\n",
    "    X_train, y_train, 'varPrecip_growingSeason')\n",
    "X_valid, y_valid = util.drop_nans(\n",
    "    X_valid, y_valid, 'varPrecip_growingSeason')\n",
    "X_test,  y_test  = util.drop_nans(\n",
    "    X_test,  y_test,  'varPrecip_growingSeason')"
   ]
  },
  {
   "cell_type": "code",
   "execution_count": 11,
   "metadata": {
    "collapsed": true
   },
   "outputs": [],
   "source": [
    "# Normalize data to make gradient descent more efficient\n",
    "scaler = StandardScaler()\n",
    "X_train = scaler.fit_transform(X_train)\n",
    "X_valid = scaler.transform(X_valid)\n",
    "X_test  = scaler.transform(X_test)"
   ]
  },
  {
   "cell_type": "code",
   "execution_count": 12,
   "metadata": {
    "collapsed": true
   },
   "outputs": [],
   "source": [
    "y_train = util.vectorize(y_train.as_matrix())\n",
    "y_valid = util.vectorize(y_valid.as_matrix())\n",
    "y_test  = util.vectorize(y_test.as_matrix())"
   ]
  },
  {
   "cell_type": "code",
   "execution_count": 13,
   "metadata": {
    "collapsed": false
   },
   "outputs": [
    {
     "data": {
      "text/plain": [
       "(584285, 20)"
      ]
     },
     "execution_count": 13,
     "metadata": {},
     "output_type": "execute_result"
    }
   ],
   "source": [
    "best_val_loss = np.inf\n",
    "X_train.shape"
   ]
  },
  {
   "cell_type": "code",
   "execution_count": 14,
   "metadata": {
    "collapsed": false
   },
   "outputs": [
    {
     "data": {
      "text/plain": [
       "[20, 20, 20, 20, 20, 20, 20, 20, 2]"
      ]
     },
     "execution_count": 14,
     "metadata": {},
     "output_type": "execute_result"
    }
   ],
   "source": [
    "# Params and Hyperparams\n",
    "n_inputs = X_train.shape[1]\n",
    "n_outputs = 2\n",
    "\n",
    "# Current best\n",
    "N_LAYERS = 8\n",
    "NODES_PER_LAYER = ([n_inputs] * N_LAYERS)\n",
    "#NODES_PER_LAYER = [\n",
    "#    n_inputs, n_inputs * 2, n_inputs * 4, n_inputs * 4, n_inputs *2, \n",
    "#    n_inputs]\n",
    "NODES_PER_LAYER.append(n_outputs)\n",
    "ETA = 0.01\n",
    "DROPOUT = 0.4\n",
    "BETA_1 = 0.9\n",
    "BETA_2 = 0.999\n",
    "EPSILON = 1e-08\n",
    "DECAY = 0.01\n",
    "EPOCHS = 124\n",
    "BATCH_SIZE = 1024\n",
    "\n",
    "NODES_PER_LAYER"
   ]
  },
  {
   "cell_type": "code",
   "execution_count": 15,
   "metadata": {
    "collapsed": true
   },
   "outputs": [],
   "source": [
    "def get_params():\n",
    "    return {'NODES_PER_LAYER': NODES_PER_LAYER,\n",
    "            'ETA': ETA,\n",
    "            'DROPOUT': DROPOUT,\n",
    "            'BETA_1': BETA_1,\n",
    "            'BETA_2': BETA_2,\n",
    "            'EPSILON': EPSILON,\n",
    "            'DECAY': DECAY,\n",
    "            'EPOCHS': EPOCHS,\n",
    "            'BATCH_SIZE': BATCH_SIZE}"
   ]
  },
  {
   "cell_type": "code",
   "execution_count": 16,
   "metadata": {
    "collapsed": false
   },
   "outputs": [
    {
     "name": "stdout",
     "output_type": "stream",
     "text": [
      "_________________________________________________________________\n",
      "Layer (type)                 Output Shape              Param #   \n",
      "=================================================================\n",
      "dense_1 (Dense)              (None, 20)                420       \n",
      "_________________________________________________________________\n",
      "batch_normalization_1 (Batch (None, 20)                80        \n",
      "_________________________________________________________________\n",
      "activation_1 (Activation)    (None, 20)                0         \n",
      "_________________________________________________________________\n",
      "dropout_1 (Dropout)          (None, 20)                0         \n",
      "_________________________________________________________________\n",
      "dense_2 (Dense)              (None, 20)                420       \n",
      "_________________________________________________________________\n",
      "batch_normalization_2 (Batch (None, 20)                80        \n",
      "_________________________________________________________________\n",
      "activation_2 (Activation)    (None, 20)                0         \n",
      "_________________________________________________________________\n",
      "dropout_2 (Dropout)          (None, 20)                0         \n",
      "_________________________________________________________________\n",
      "dense_3 (Dense)              (None, 20)                420       \n",
      "_________________________________________________________________\n",
      "batch_normalization_3 (Batch (None, 20)                80        \n",
      "_________________________________________________________________\n",
      "activation_3 (Activation)    (None, 20)                0         \n",
      "_________________________________________________________________\n",
      "dropout_3 (Dropout)          (None, 20)                0         \n",
      "_________________________________________________________________\n",
      "dense_4 (Dense)              (None, 20)                420       \n",
      "_________________________________________________________________\n",
      "batch_normalization_4 (Batch (None, 20)                80        \n",
      "_________________________________________________________________\n",
      "activation_4 (Activation)    (None, 20)                0         \n",
      "_________________________________________________________________\n",
      "dropout_4 (Dropout)          (None, 20)                0         \n",
      "_________________________________________________________________\n",
      "dense_5 (Dense)              (None, 20)                420       \n",
      "_________________________________________________________________\n",
      "batch_normalization_5 (Batch (None, 20)                80        \n",
      "_________________________________________________________________\n",
      "activation_5 (Activation)    (None, 20)                0         \n",
      "_________________________________________________________________\n",
      "dropout_5 (Dropout)          (None, 20)                0         \n",
      "_________________________________________________________________\n",
      "dense_6 (Dense)              (None, 20)                420       \n",
      "_________________________________________________________________\n",
      "batch_normalization_6 (Batch (None, 20)                80        \n",
      "_________________________________________________________________\n",
      "activation_6 (Activation)    (None, 20)                0         \n",
      "_________________________________________________________________\n",
      "dropout_6 (Dropout)          (None, 20)                0         \n",
      "_________________________________________________________________\n",
      "dense_7 (Dense)              (None, 20)                420       \n",
      "_________________________________________________________________\n",
      "batch_normalization_7 (Batch (None, 20)                80        \n",
      "_________________________________________________________________\n",
      "activation_7 (Activation)    (None, 20)                0         \n",
      "_________________________________________________________________\n",
      "dropout_7 (Dropout)          (None, 20)                0         \n",
      "_________________________________________________________________\n",
      "dense_8 (Dense)              (None, 2)                 42        \n",
      "_________________________________________________________________\n",
      "batch_normalization_8 (Batch (None, 2)                 8         \n",
      "_________________________________________________________________\n",
      "activation_8 (Activation)    (None, 2)                 0         \n",
      "=================================================================\n",
      "Total params: 3,550\n",
      "Trainable params: 3,266\n",
      "Non-trainable params: 284\n",
      "_________________________________________________________________\n"
     ]
    }
   ],
   "source": [
    "model = Sequential()\n",
    "\n",
    "# NOTE: \"glorot-normal\" is the same thing as \"Xavier\" initialization\n",
    "model.add(Dense(NODES_PER_LAYER[1], \n",
    "                input_dim=NODES_PER_LAYER[0], \n",
    "                kernel_initializer='glorot_normal'))\n",
    "model.add(BatchNormalization())\n",
    "model.add(Activation('relu'))\n",
    "model.add(Dropout(DROPOUT))\n",
    "\n",
    "# additional hidden layers here\n",
    "for i in range(2, len(NODES_PER_LAYER) - 1):\n",
    "    model.add(Dense(NODES_PER_LAYER[i], \n",
    "                    kernel_initializer='glorot_normal'))\n",
    "    model.add(BatchNormalization())\n",
    "    model.add(Activation('relu'))\n",
    "    model.add(Dropout(DROPOUT))\n",
    "\n",
    "model.add(Dense(NODES_PER_LAYER[-1], kernel_initializer='glorot_normal'))\n",
    "model.add(BatchNormalization())\n",
    "model.add(Activation('softmax'))\n",
    "\n",
    "model.summary()"
   ]
  },
  {
   "cell_type": "code",
   "execution_count": 17,
   "metadata": {
    "collapsed": true
   },
   "outputs": [],
   "source": [
    "adam = Adam(\n",
    "    lr=ETA, beta_1=BETA_1, beta_2=BETA_2, epsilon=EPSILON, decay=DECAY)\n",
    "model.compile(\n",
    "    loss='binary_crossentropy', optimizer=adam, metrics=['accuracy'])"
   ]
  },
  {
   "cell_type": "code",
   "execution_count": 18,
   "metadata": {
    "collapsed": false
   },
   "outputs": [
    {
     "name": "stdout",
     "output_type": "stream",
     "text": [
      "Train on 584285 samples, validate on 147906 samples\n",
      "Epoch 1/124\n",
      "582656/584285 [============================>.] - ETA: 0s - loss: 0.3095 - acc: 0.9013Epoch 00001: val_loss improved from inf to 0.40367, saving model to ../../data/cluster/internal/weights.bestNN.hdf5\n",
      "584285/584285 [==============================] - 18s 31us/step - loss: 0.3093 - acc: 0.9013 - val_loss: 0.4037 - val_acc: 0.8124\n",
      "Epoch 2/124\n",
      "583680/584285 [============================>.] - ETA: 0s - loss: 0.2251 - acc: 0.9066Epoch 00002: val_loss improved from 0.40367 to 0.39969, saving model to ../../data/cluster/internal/weights.bestNN.hdf5\n",
      "584285/584285 [==============================] - 16s 27us/step - loss: 0.2251 - acc: 0.9066 - val_loss: 0.3997 - val_acc: 0.8124\n",
      "Epoch 3/124\n",
      "583680/584285 [============================>.] - ETA: 0s - loss: 0.2134 - acc: 0.9077Epoch 00003: val_loss improved from 0.39969 to 0.39672, saving model to ../../data/cluster/internal/weights.bestNN.hdf5\n",
      "584285/584285 [==============================] - 15s 25us/step - loss: 0.2133 - acc: 0.9077 - val_loss: 0.3967 - val_acc: 0.8124\n",
      "Epoch 4/124\n",
      "583680/584285 [============================>.] - ETA: 0s - loss: 0.2076 - acc: 0.9085Epoch 00004: val_loss did not improve\n",
      "584285/584285 [==============================] - 16s 28us/step - loss: 0.2076 - acc: 0.9085 - val_loss: 0.3987 - val_acc: 0.8124\n",
      "Epoch 5/124\n",
      "582656/584285 [============================>.] - ETA: 0s - loss: 0.2042 - acc: 0.9088Epoch 00005: val_loss improved from 0.39672 to 0.39631, saving model to ../../data/cluster/internal/weights.bestNN.hdf5\n",
      "584285/584285 [==============================] - 16s 27us/step - loss: 0.2042 - acc: 0.9088 - val_loss: 0.3963 - val_acc: 0.8124\n",
      "Epoch 6/124\n",
      "581632/584285 [============================>.] - ETA: 0s - loss: 0.2020 - acc: 0.9084Epoch 00006: val_loss improved from 0.39631 to 0.39053, saving model to ../../data/cluster/internal/weights.bestNN.hdf5\n",
      "584285/584285 [==============================] - 15s 26us/step - loss: 0.2021 - acc: 0.9083 - val_loss: 0.3905 - val_acc: 0.8124\n",
      "Epoch 7/124\n",
      "583680/584285 [============================>.] - ETA: 0s - loss: 0.1998 - acc: 0.9091Epoch 00007: val_loss did not improve\n",
      "584285/584285 [==============================] - 16s 27us/step - loss: 0.1998 - acc: 0.9091 - val_loss: 0.3936 - val_acc: 0.8124\n",
      "Epoch 8/124\n",
      "583680/584285 [============================>.] - ETA: 0s - loss: 0.1989 - acc: 0.9085Epoch 00008: val_loss did not improve\n",
      "584285/584285 [==============================] - 17s 30us/step - loss: 0.1989 - acc: 0.9086 - val_loss: 0.3945 - val_acc: 0.8124\n",
      "Epoch 9/124\n",
      "583680/584285 [============================>.] - ETA: 0s - loss: 0.1979 - acc: 0.9085Epoch 00009: val_loss did not improve\n",
      "584285/584285 [==============================] - 17s 29us/step - loss: 0.1979 - acc: 0.9085 - val_loss: 0.3914 - val_acc: 0.8124\n",
      "Epoch 10/124\n",
      "581632/584285 [============================>.] - ETA: 0s - loss: 0.1972 - acc: 0.9087Epoch 00010: val_loss did not improve\n",
      "584285/584285 [==============================] - 13s 23us/step - loss: 0.1972 - acc: 0.9087 - val_loss: 0.3919 - val_acc: 0.8124\n",
      "Epoch 11/124\n",
      "582656/584285 [============================>.] - ETA: 0s - loss: 0.1963 - acc: 0.9085Epoch 00011: val_loss improved from 0.39053 to 0.39041, saving model to ../../data/cluster/internal/weights.bestNN.hdf5\n",
      "584285/584285 [==============================] - 13s 22us/step - loss: 0.1964 - acc: 0.9085 - val_loss: 0.3904 - val_acc: 0.8124\n",
      "Epoch 12/124\n",
      "581632/584285 [============================>.] - ETA: 0s - loss: 0.1961 - acc: 0.9088Epoch 00012: val_loss did not improve\n",
      "584285/584285 [==============================] - 13s 22us/step - loss: 0.1960 - acc: 0.9088 - val_loss: 0.3913 - val_acc: 0.8124\n",
      "Epoch 13/124\n",
      "581632/584285 [============================>.] - ETA: 0s - loss: 0.1952 - acc: 0.9087Epoch 00013: val_loss improved from 0.39041 to 0.38842, saving model to ../../data/cluster/internal/weights.bestNN.hdf5\n",
      "584285/584285 [==============================] - 13s 22us/step - loss: 0.1953 - acc: 0.9087 - val_loss: 0.3884 - val_acc: 0.8124\n",
      "Epoch 14/124\n",
      "583680/584285 [============================>.] - ETA: 0s - loss: 0.1956 - acc: 0.9083Epoch 00014: val_loss did not improve\n",
      "584285/584285 [==============================] - 13s 22us/step - loss: 0.1955 - acc: 0.9084 - val_loss: 0.3935 - val_acc: 0.8124\n",
      "Epoch 15/124\n",
      "582656/584285 [============================>.] - ETA: 0s - loss: 0.1948 - acc: 0.9084Epoch 00015: val_loss did not improve\n",
      "584285/584285 [==============================] - 13s 22us/step - loss: 0.1948 - acc: 0.9084 - val_loss: 0.3899 - val_acc: 0.8124\n",
      "Epoch 16/124\n",
      "582656/584285 [============================>.] - ETA: 0s - loss: 0.1943 - acc: 0.9089Epoch 00016: val_loss did not improve\n",
      "584285/584285 [==============================] - 13s 22us/step - loss: 0.1943 - acc: 0.9089 - val_loss: 0.3914 - val_acc: 0.8124\n",
      "Epoch 17/124\n",
      "583680/584285 [============================>.] - ETA: 0s - loss: 0.1941 - acc: 0.9088Epoch 00017: val_loss did not improve\n",
      "584285/584285 [==============================] - 13s 22us/step - loss: 0.1941 - acc: 0.9088 - val_loss: 0.3905 - val_acc: 0.8124\n",
      "Epoch 18/124\n",
      "582656/584285 [============================>.] - ETA: 0s - loss: 0.1945 - acc: 0.9083Epoch 00018: val_loss did not improve\n",
      "584285/584285 [==============================] - 13s 22us/step - loss: 0.1945 - acc: 0.9083 - val_loss: 0.3914 - val_acc: 0.8124\n",
      "Epoch 19/124\n",
      "582656/584285 [============================>.] - ETA: 0s - loss: 0.1936 - acc: 0.9087Epoch 00019: val_loss did not improve\n",
      "584285/584285 [==============================] - 13s 22us/step - loss: 0.1936 - acc: 0.9087 - val_loss: 0.3899 - val_acc: 0.8124\n",
      "Epoch 20/124\n",
      "582656/584285 [============================>.] - ETA: 0s - loss: 0.1937 - acc: 0.9084Epoch 00020: val_loss did not improve\n",
      "584285/584285 [==============================] - 13s 22us/step - loss: 0.1937 - acc: 0.9084 - val_loss: 0.3896 - val_acc: 0.8124\n",
      "Epoch 21/124\n",
      "582656/584285 [============================>.] - ETA: 0s - loss: 0.1929 - acc: 0.9088Epoch 00021: val_loss did not improve\n",
      "584285/584285 [==============================] - 13s 22us/step - loss: 0.1929 - acc: 0.9088 - val_loss: 0.3915 - val_acc: 0.8124\n",
      "Epoch 22/124\n",
      "582656/584285 [============================>.] - ETA: 0s - loss: 0.1929 - acc: 0.9088Epoch 00022: val_loss did not improve\n",
      "584285/584285 [==============================] - 13s 22us/step - loss: 0.1929 - acc: 0.9088 - val_loss: 0.3908 - val_acc: 0.8124\n",
      "Epoch 23/124\n",
      "581632/584285 [============================>.] - ETA: 0s - loss: 0.1932 - acc: 0.9085Epoch 00023: val_loss did not improve\n",
      "584285/584285 [==============================] - 13s 22us/step - loss: 0.1931 - acc: 0.9085 - val_loss: 0.3896 - val_acc: 0.8124\n",
      "Epoch 24/124\n",
      "582656/584285 [============================>.] - ETA: 0s - loss: 0.1928 - acc: 0.9085Epoch 00024: val_loss did not improve\n",
      "584285/584285 [==============================] - 13s 22us/step - loss: 0.1929 - acc: 0.9085 - val_loss: 0.3917 - val_acc: 0.8124\n",
      "Epoch 25/124\n",
      "581632/584285 [============================>.] - ETA: 0s - loss: 0.1926 - acc: 0.9089Epoch 00025: val_loss did not improve\n",
      "584285/584285 [==============================] - 13s 22us/step - loss: 0.1926 - acc: 0.9089 - val_loss: 0.3920 - val_acc: 0.8124\n",
      "Epoch 26/124\n",
      "582656/584285 [============================>.] - ETA: 0s - loss: 0.1923 - acc: 0.9092Epoch 00026: val_loss did not improve\n",
      "584285/584285 [==============================] - 13s 22us/step - loss: 0.1923 - acc: 0.9092 - val_loss: 0.3911 - val_acc: 0.8124\n",
      "Epoch 27/124\n",
      "581632/584285 [============================>.] - ETA: 0s - loss: 0.1924 - acc: 0.9085Epoch 00027: val_loss did not improve\n",
      "584285/584285 [==============================] - 13s 23us/step - loss: 0.1924 - acc: 0.9085 - val_loss: 0.3921 - val_acc: 0.8124\n",
      "Epoch 28/124\n",
      "582656/584285 [============================>.] - ETA: 0s - loss: 0.1924 - acc: 0.9087Epoch 00028: val_loss did not improve\n",
      "584285/584285 [==============================] - 13s 23us/step - loss: 0.1924 - acc: 0.9087 - val_loss: 0.3926 - val_acc: 0.8124\n",
      "Epoch 29/124\n",
      "583680/584285 [============================>.] - ETA: 0s - loss: 0.1923 - acc: 0.9088Epoch 00029: val_loss did not improve\n",
      "584285/584285 [==============================] - 13s 22us/step - loss: 0.1923 - acc: 0.9088 - val_loss: 0.3923 - val_acc: 0.8124\n",
      "Epoch 30/124\n",
      "583680/584285 [============================>.] - ETA: 0s - loss: 0.1922 - acc: 0.9089Epoch 00030: val_loss did not improve\n",
      "584285/584285 [==============================] - 13s 22us/step - loss: 0.1922 - acc: 0.9089 - val_loss: 0.3920 - val_acc: 0.8124\n",
      "Epoch 31/124\n",
      "582656/584285 [============================>.] - ETA: 0s - loss: 0.1925 - acc: 0.9084Epoch 00031: val_loss did not improve\n",
      "584285/584285 [==============================] - 13s 23us/step - loss: 0.1925 - acc: 0.9084 - val_loss: 0.3917 - val_acc: 0.8124\n",
      "Epoch 32/124\n",
      "583680/584285 [============================>.] - ETA: 0s - loss: 0.1921 - acc: 0.9088Epoch 00032: val_loss did not improve\n",
      "584285/584285 [==============================] - 13s 23us/step - loss: 0.1922 - acc: 0.9088 - val_loss: 0.3932 - val_acc: 0.8124\n",
      "Epoch 33/124\n",
      "581632/584285 [============================>.] - ETA: 0s - loss: 0.1921 - acc: 0.9086Epoch 00033: val_loss did not improve\n",
      "584285/584285 [==============================] - 13s 23us/step - loss: 0.1921 - acc: 0.9086 - val_loss: 0.3936 - val_acc: 0.8124\n",
      "Epoch 34/124\n",
      "583680/584285 [============================>.] - ETA: 0s - loss: 0.1917 - acc: 0.9087Epoch 00034: val_loss did not improve\n",
      "584285/584285 [==============================] - 13s 23us/step - loss: 0.1917 - acc: 0.9087 - val_loss: 0.3912 - val_acc: 0.8124\n",
      "Epoch 35/124\n",
      "581632/584285 [============================>.] - ETA: 0s - loss: 0.1919 - acc: 0.9085Epoch 00035: val_loss did not improve\n",
      "584285/584285 [==============================] - 13s 22us/step - loss: 0.1919 - acc: 0.9085 - val_loss: 0.3924 - val_acc: 0.8124\n",
      "Epoch 36/124\n",
      "581632/584285 [============================>.] - ETA: 0s - loss: 0.1917 - acc: 0.9088Epoch 00036: val_loss did not improve\n",
      "584285/584285 [==============================] - 13s 23us/step - loss: 0.1916 - acc: 0.9088 - val_loss: 0.3914 - val_acc: 0.8124\n",
      "Epoch 37/124\n",
      "581632/584285 [============================>.] - ETA: 0s - loss: 0.1910 - acc: 0.9089Epoch 00037: val_loss did not improve\n",
      "584285/584285 [==============================] - 13s 23us/step - loss: 0.1910 - acc: 0.9089 - val_loss: 0.3909 - val_acc: 0.8124\n",
      "Epoch 38/124\n",
      "581632/584285 [============================>.] - ETA: 0s - loss: 0.1914 - acc: 0.9088Epoch 00038: val_loss did not improve\n",
      "584285/584285 [==============================] - 13s 22us/step - loss: 0.1914 - acc: 0.9088 - val_loss: 0.3920 - val_acc: 0.8124\n",
      "Epoch 39/124\n",
      "583680/584285 [============================>.] - ETA: 0s - loss: 0.1912 - acc: 0.9087Epoch 00039: val_loss did not improve\n",
      "584285/584285 [==============================] - 13s 22us/step - loss: 0.1911 - acc: 0.9087 - val_loss: 0.3920 - val_acc: 0.8124\n",
      "Epoch 40/124\n",
      "581632/584285 [============================>.] - ETA: 0s - loss: 0.1913 - acc: 0.9087Epoch 00040: val_loss did not improve\n",
      "584285/584285 [==============================] - 13s 23us/step - loss: 0.1913 - acc: 0.9087 - val_loss: 0.3919 - val_acc: 0.8124\n",
      "Epoch 41/124\n",
      "581632/584285 [============================>.] - ETA: 0s - loss: 0.1909 - acc: 0.9094Epoch 00041: val_loss did not improve\n",
      "584285/584285 [==============================] - 13s 22us/step - loss: 0.1909 - acc: 0.9094 - val_loss: 0.3916 - val_acc: 0.8124\n",
      "Epoch 42/124\n",
      "583680/584285 [============================>.] - ETA: 0s - loss: 0.1920 - acc: 0.9085Epoch 00042: val_loss did not improve\n",
      "584285/584285 [==============================] - 13s 22us/step - loss: 0.1919 - acc: 0.9085 - val_loss: 0.3924 - val_acc: 0.8124\n",
      "Epoch 43/124\n",
      "582656/584285 [============================>.] - ETA: 0s - loss: 0.1913 - acc: 0.9088Epoch 00043: val_loss did not improve\n",
      "584285/584285 [==============================] - 13s 23us/step - loss: 0.1913 - acc: 0.9088 - val_loss: 0.3923 - val_acc: 0.8124\n",
      "Epoch 44/124\n",
      "583680/584285 [============================>.] - ETA: 0s - loss: 0.1909 - acc: 0.9090Epoch 00044: val_loss did not improve\n",
      "584285/584285 [==============================] - 13s 23us/step - loss: 0.1909 - acc: 0.9090 - val_loss: 0.3927 - val_acc: 0.8124\n",
      "Epoch 45/124\n",
      "582656/584285 [============================>.] - ETA: 0s - loss: 0.1909 - acc: 0.9089Epoch 00045: val_loss did not improve\n",
      "584285/584285 [==============================] - 13s 22us/step - loss: 0.1910 - acc: 0.9089 - val_loss: 0.3933 - val_acc: 0.8124\n",
      "Epoch 46/124\n",
      "582656/584285 [============================>.] - ETA: 0s - loss: 0.1905 - acc: 0.9092Epoch 00046: val_loss did not improve\n",
      "584285/584285 [==============================] - 13s 22us/step - loss: 0.1905 - acc: 0.9092 - val_loss: 0.3934 - val_acc: 0.8124\n",
      "Epoch 47/124\n",
      "582656/584285 [============================>.] - ETA: 0s - loss: 0.1912 - acc: 0.9085Epoch 00047: val_loss did not improve\n",
      "584285/584285 [==============================] - 13s 23us/step - loss: 0.1912 - acc: 0.9085 - val_loss: 0.3931 - val_acc: 0.8124\n",
      "Epoch 48/124\n",
      "581632/584285 [============================>.] - ETA: 0s - loss: 0.1905 - acc: 0.9086Epoch 00048: val_loss did not improve\n",
      "584285/584285 [==============================] - 13s 22us/step - loss: 0.1906 - acc: 0.9086 - val_loss: 0.3927 - val_acc: 0.8124\n",
      "Epoch 49/124\n",
      "581632/584285 [============================>.] - ETA: 0s - loss: 0.1906 - acc: 0.9091Epoch 00049: val_loss did not improve\n",
      "584285/584285 [==============================] - 13s 22us/step - loss: 0.1906 - acc: 0.9091 - val_loss: 0.3929 - val_acc: 0.8124\n",
      "Epoch 50/124\n",
      "583680/584285 [============================>.] - ETA: 0s - loss: 0.1906 - acc: 0.9090Epoch 00050: val_loss did not improve\n",
      "584285/584285 [==============================] - 13s 23us/step - loss: 0.1907 - acc: 0.9090 - val_loss: 0.3920 - val_acc: 0.8124\n",
      "Epoch 51/124\n",
      "582656/584285 [============================>.] - ETA: 0s - loss: 0.1907 - acc: 0.9082Epoch 00051: val_loss did not improve\n",
      "584285/584285 [==============================] - 13s 23us/step - loss: 0.1906 - acc: 0.9082 - val_loss: 0.3938 - val_acc: 0.8124\n",
      "Epoch 52/124\n",
      "582656/584285 [============================>.] - ETA: 0s - loss: 0.1906 - acc: 0.9088Epoch 00052: val_loss did not improve\n",
      "584285/584285 [==============================] - 13s 22us/step - loss: 0.1906 - acc: 0.9088 - val_loss: 0.3911 - val_acc: 0.8124\n",
      "Epoch 53/124\n",
      "583680/584285 [============================>.] - ETA: 0s - loss: 0.1908 - acc: 0.9085Epoch 00053: val_loss did not improve\n",
      "584285/584285 [==============================] - 13s 22us/step - loss: 0.1908 - acc: 0.9085 - val_loss: 0.3932 - val_acc: 0.8124\n",
      "Epoch 54/124\n",
      "582656/584285 [============================>.] - ETA: 0s - loss: 0.1906 - acc: 0.9080Epoch 00054: val_loss did not improve\n",
      "584285/584285 [==============================] - 13s 22us/step - loss: 0.1906 - acc: 0.9081 - val_loss: 0.3927 - val_acc: 0.8124\n",
      "Epoch 55/124\n",
      "583680/584285 [============================>.] - ETA: 0s - loss: 0.1906 - acc: 0.9086Epoch 00055: val_loss did not improve\n",
      "584285/584285 [==============================] - 13s 23us/step - loss: 0.1906 - acc: 0.9086 - val_loss: 0.3909 - val_acc: 0.8124\n",
      "Epoch 56/124\n",
      "583680/584285 [============================>.] - ETA: 0s - loss: 0.1907 - acc: 0.9083Epoch 00056: val_loss did not improve\n",
      "584285/584285 [==============================] - 13s 23us/step - loss: 0.1907 - acc: 0.9083 - val_loss: 0.3920 - val_acc: 0.8124\n",
      "Epoch 57/124\n",
      "581632/584285 [============================>.] - ETA: 0s - loss: 0.1908 - acc: 0.9084Epoch 00057: val_loss did not improve\n",
      "584285/584285 [==============================] - 13s 22us/step - loss: 0.1908 - acc: 0.9084 - val_loss: 0.3919 - val_acc: 0.8124\n",
      "Epoch 58/124\n",
      "582656/584285 [============================>.] - ETA: 0s - loss: 0.1903 - acc: 0.9087Epoch 00058: val_loss did not improve\n",
      "584285/584285 [==============================] - 13s 22us/step - loss: 0.1904 - acc: 0.9086 - val_loss: 0.3926 - val_acc: 0.8124\n",
      "Epoch 59/124\n",
      "581632/584285 [============================>.] - ETA: 0s - loss: 0.1905 - acc: 0.9087Epoch 00059: val_loss did not improve\n",
      "584285/584285 [==============================] - 13s 22us/step - loss: 0.1905 - acc: 0.9087 - val_loss: 0.3914 - val_acc: 0.8124\n",
      "Epoch 60/124\n",
      "582656/584285 [============================>.] - ETA: 0s - loss: 0.1903 - acc: 0.9089Epoch 00060: val_loss did not improve\n",
      "584285/584285 [==============================] - 13s 23us/step - loss: 0.1902 - acc: 0.9089 - val_loss: 0.3914 - val_acc: 0.8124\n",
      "Epoch 61/124\n",
      "581632/584285 [============================>.] - ETA: 0s - loss: 0.1906 - acc: 0.9086Epoch 00061: val_loss did not improve\n",
      "584285/584285 [==============================] - 13s 22us/step - loss: 0.1905 - acc: 0.9087 - val_loss: 0.3919 - val_acc: 0.8124\n",
      "Epoch 62/124\n",
      "581632/584285 [============================>.] - ETA: 0s - loss: 0.1903 - acc: 0.9085Epoch 00062: val_loss did not improve\n",
      "584285/584285 [==============================] - 13s 23us/step - loss: 0.1903 - acc: 0.9085 - val_loss: 0.3930 - val_acc: 0.8124\n",
      "Epoch 63/124\n",
      "581632/584285 [============================>.] - ETA: 0s - loss: 0.1902 - acc: 0.9088Epoch 00063: val_loss did not improve\n",
      "584285/584285 [==============================] - 13s 23us/step - loss: 0.1902 - acc: 0.9088 - val_loss: 0.3927 - val_acc: 0.8124\n"
     ]
    }
   ],
   "source": [
    "VERBOSE = 1\n",
    "checkpointer = ModelCheckpoint(filepath=DATA_PATH + 'weights.bestNN.hdf5',\n",
    "                               verbose=VERBOSE,\n",
    "                               save_best_only=True)\n",
    "earlyStop = EarlyStopping(monitor='val_loss', patience=50)\n",
    "start = time.time()\n",
    "history = model.fit(X_train,\n",
    "                    y_train,\n",
    "                    validation_data=(X_valid, y_valid),\n",
    "                    epochs=EPOCHS,\n",
    "                    batch_size=BATCH_SIZE,\n",
    "                    callbacks=[checkpointer, earlyStop],\n",
    "                    verbose=VERBOSE)\n",
    "elapsed = time.time() - start"
   ]
  },
  {
   "cell_type": "code",
   "execution_count": 19,
   "metadata": {
    "collapsed": false
   },
   "outputs": [
    {
     "name": "stdout",
     "output_type": "stream",
     "text": [
      "Time: 14.33 minutes\n"
     ]
    }
   ],
   "source": [
    "print('Time: %.2f minutes' % (elapsed / 60))"
   ]
  },
  {
   "cell_type": "code",
   "execution_count": 20,
   "metadata": {
    "collapsed": false
   },
   "outputs": [
    {
     "data": {
      "image/png": "[encoded data removed]",
      "text/plain": [
       "<matplotlib.figure.Figure at 0x12002ddd8>"
      ]
     },
     "metadata": {},
     "output_type": "display_data"
    }
   ],
   "source": [
    "plt.plot(history.history['loss'], 'k-', label='train');\n",
    "plt.plot(history.history['val_loss'], 'r-', label='valid');\n",
    "plt.xlabel('epochs');\n",
    "plt.ylabel('Loss (binary cross-entropy)')\n",
    "#plt.yscale('log');\n",
    "plt.legend(loc='best');"
   ]
  },
  {
   "cell_type": "code",
   "execution_count": 21,
   "metadata": {
    "collapsed": false
   },
   "outputs": [
    {
     "data": {
      "image/png": "[encoded data removed]",
      "text/plain": [
       "<matplotlib.figure.Figure at 0x1282d7fd0>"
      ]
     },
     "metadata": {},
     "output_type": "display_data"
    }
   ],
   "source": [
    "plt.plot(history.history['acc'], 'k-', label='train');\n",
    "plt.plot(history.history['val_acc'], 'r-', label='valid');\n",
    "plt.xlabel('epochs');\n",
    "plt.ylabel('Accuracy')\n",
    "#plt.yscale('log');\n",
    "plt.legend(loc='best');"
   ]
  },
  {
   "cell_type": "code",
   "execution_count": 22,
   "metadata": {
    "collapsed": false
   },
   "outputs": [
    {
     "name": "stdout",
     "output_type": "stream",
     "text": [
      "This run: 0.39195\n"
     ]
    }
   ],
   "source": [
    "this_run = np.mean(history.history['val_loss'][-50:])\n",
    "print('This run: %.5f' % this_run)"
   ]
  },
  {
   "cell_type": "code",
   "execution_count": 23,
   "metadata": {
    "collapsed": false
   },
   "outputs": [
    {
     "name": "stdout",
     "output_type": "stream",
     "text": [
      "New Best Model Found!\n",
      "\n",
      "Best validation loss so far: 0.39195\n",
      "Training loss of same model: 0.19180\n",
      "Best hyperparameters found so far:\n",
      "{'BATCH_SIZE': 1024,\n",
      " 'BETA_1': 0.9,\n",
      " 'BETA_2': 0.999,\n",
      " 'DECAY': 0.01,\n",
      " 'DROPOUT': 0.4,\n",
      " 'EPOCHS': 124,\n",
      " 'EPSILON': 1e-08,\n",
      " 'ETA': 0.01,\n",
      " 'NODES_PER_LAYER': [20, 20, 20, 20, 20, 20, 20, 20, 2]}\n"
     ]
    }
   ],
   "source": [
    "if this_run < best_val_loss:\n",
    "    print('New Best Model Found!\\n')\n",
    "    best_val_loss = this_run\n",
    "    train_loss_of_best = np.mean(history.history['loss'][-50:])\n",
    "    best_params = get_params()\n",
    "print('Best validation loss so far: %.5f' % best_val_loss)\n",
    "print('Training loss of same model: %.5f' % train_loss_of_best)\n",
    "print('Best hyperparameters found so far:')\n",
    "pprint(best_params)"
   ]
  },
  {
   "cell_type": "code",
   "execution_count": 24,
   "metadata": {
    "collapsed": true
   },
   "outputs": [],
   "source": [
    "preds = model.predict(X_test)"
   ]
  },
  {
   "cell_type": "code",
   "execution_count": 25,
   "metadata": {
    "collapsed": true
   },
   "outputs": [],
   "source": [
    "pred_probs = util.preds2probs(preds)"
   ]
  },
  {
   "cell_type": "code",
   "execution_count": 26,
   "metadata": {
    "collapsed": false
   },
   "outputs": [],
   "source": [
    "preds = util.one_cold(util.binarize(preds))\n",
    "y_test = util.one_cold((y_test))"
   ]
  },
  {
   "cell_type": "code",
   "execution_count": 27,
   "metadata": {
    "collapsed": false
   },
   "outputs": [
    {
     "name": "stdout",
     "output_type": "stream",
     "text": [
      "Confusion Matrix:\n",
      "         Predicted:\n",
      "         \t1\t\t0\n",
      "Actual: 1\t0\t\t58122\n",
      "        0\t0\t\t88098\n"
     ]
    }
   ],
   "source": [
    "cm = util.make_confusion_matrix(y_test, pred_probs, 0.5)"
   ]
  },
  {
   "cell_type": "code",
   "execution_count": 28,
   "metadata": {
    "collapsed": false
   },
   "outputs": [
    {
     "name": "stdout",
     "output_type": "stream",
     "text": [
      "Accuracy:  0.602503077554\n",
      "Precision: nan\n",
      "Recall:    0.0\n",
      "F1:        nan\n"
     ]
    },
    {
     "name": "stderr",
     "output_type": "stream",
     "text": [
      "/Users/dsp/dongmei/sdm/python/models/model_utils.py:105: RuntimeWarning: invalid value encountered in long_scalars\n",
      "  precision = cm['tp'] / (cm['tp'] + cm['fp'])\n"
     ]
    }
   ],
   "source": [
    "metrics = util.get_metrics(cm)"
   ]
  },
  {
   "cell_type": "code",
   "execution_count": 29,
   "metadata": {
    "collapsed": false
   },
   "outputs": [
    {
     "name": "stdout",
     "output_type": "stream",
     "text": [
      "AUC:       0.817030452792\n"
     ]
    }
   ],
   "source": [
    "auc_metrics = util.get_auc(y_test, pred_probs)"
   ]
  },
  {
   "cell_type": "code",
   "execution_count": 30,
   "metadata": {
    "collapsed": false
   },
   "outputs": [
    {
     "data": {
      "image/png": "[encoded data removed]",
      "text/plain": [
       "<matplotlib.figure.Figure at 0x11ff0cb70>"
      ]
     },
     "metadata": {},
     "output_type": "display_data"
    }
   ],
   "source": [
    "util.plot_roc(auc_metrics['fpr'], auc_metrics['tpr'])"
   ]
  },
  {
   "cell_type": "code",
   "execution_count": null,
   "metadata": {
    "collapsed": true
   },
   "outputs": [],
   "source": []
  }
 ],
 "metadata": {
  "kernelspec": {
   "display_name": "Python 3",
   "language": "python",
   "name": "python3"
  },
  "language_info": {
   "codemirror_mode": {
    "name": "ipython",
    "version": 3
   },
   "file_extension": ".py",
   "mimetype": "text/x-python",
   "name": "python",
   "nbconvert_exporter": "python",
   "pygments_lexer": "ipython3",
   "version": "3.6.1"
  }
 },
 "nbformat": 4,
 "nbformat_minor": 0
}
