{
 "cells": [
  {
   "cell_type": "markdown",
   "metadata": {},
   "source": [
    "# Feed-Forward Neural Network\n",
    "This notebook uses a basic (feed-forward) artificial network to predict presence/absence of beetles in raster cells."
   ]
  },
  {
   "cell_type": "code",
   "execution_count": 1,
   "metadata": {
    "collapsed": false
   },
   "outputs": [
    {
     "name": "stderr",
     "output_type": "stream",
     "text": [
      "Using TensorFlow backend.\n"
     ]
    }
   ],
   "source": [
    "import keras\n",
    "import matplotlib.pyplot as plt\n",
    "import numpy as np\n",
    "import os\n",
    "import pandas as pd\n",
    "import sys\n",
    "import time\n",
    "from keras.callbacks import EarlyStopping, ModelCheckpoint \n",
    "from keras.layers import Activation, BatchNormalization, Dense, Dropout\n",
    "from keras.models import Sequential\n",
    "from keras.optimizers import Adam\n",
    "from pprint import pprint\n",
    "from pylab import *\n",
    "from sklearn.metrics import auc, confusion_matrix, roc_auc_score, roc_curve \n",
    "from sklearn.preprocessing import StandardScaler\n",
    "\n",
    "sys.path.append('../')\n",
    "import data_manipulations as manip\n",
    "\n",
    "%matplotlib inline\n",
    "\n",
    "plt.rcParams['figure.figsize'] = 10, 8\n",
    "plt.style.use('ggplot')"
   ]
  },
  {
   "cell_type": "code",
   "execution_count": 2,
   "metadata": {
    "collapsed": false
   },
   "outputs": [
    {
     "data": {
      "text/plain": [
       "['weights.bestNN.hdf5',\n",
       " 'X_test.csv',\n",
       " 'X_train.csv',\n",
       " 'X_train.csv.zip',\n",
       " 'X_valid.csv',\n",
       " 'y_test.csv',\n",
       " 'y_train.csv',\n",
       " 'y_valid.csv']"
      ]
     },
     "execution_count": 2,
     "metadata": {},
     "output_type": "execute_result"
    }
   ],
   "source": [
    "DATA_PATH =  '../../data/cluster/random/'\n",
    "os.listdir(DATA_PATH)"
   ]
  },
  {
   "cell_type": "code",
   "execution_count": 3,
   "metadata": {
    "collapsed": true
   },
   "outputs": [],
   "source": [
    "def load_data(data_dir):\n",
    "    X_train = pd.read_csv(data_dir + 'X_train.csv')\n",
    "    print('X_train:', X_train.shape)\n",
    "    X_valid = pd.read_csv(data_dir + 'X_valid.csv')\n",
    "    print('X_valid:', X_valid.shape)\n",
    "    X_test  = pd.read_csv(data_dir + 'X_test.csv')\n",
    "    print('X_test:',  X_test.shape)\n",
    "    y_train = pd.read_csv(data_dir + 'y_train.csv')\n",
    "    print('y_train:', y_train.shape)\n",
    "    y_valid = pd.read_csv(data_dir + 'y_valid.csv')\n",
    "    print('y_valid:', y_valid.shape)\n",
    "    y_test  = pd.read_csv(data_dir + 'y_test.csv')\n",
    "    print('y_test:',  y_test.shape)\n",
    "    \n",
    "    return [[X_train, y_train], [X_valid, y_valid], [X_test, y_test]]"
   ]
  },
  {
   "cell_type": "code",
   "execution_count": 4,
   "metadata": {
    "collapsed": false
   },
   "outputs": [
    {
     "name": "stdout",
     "output_type": "stream",
     "text": [
      "X_train: (617893, 24)\n",
      "X_valid: (132406, 24)\n",
      "X_test: (132406, 24)\n",
      "y_train: (617893, 1)\n",
      "y_valid: (132406, 1)\n",
      "y_test: (132406, 1)\n"
     ]
    }
   ],
   "source": [
    "[[X_train, y_train], [X_valid, y_valid], [X_test, y_test]] = load_data(\n",
    "    DATA_PATH)"
   ]
  },
  {
   "cell_type": "code",
   "execution_count": 5,
   "metadata": {
    "collapsed": false
   },
   "outputs": [
    {
     "data": {
      "text/plain": [
       "['year',\n",
       " 'meanTemp_Annual',\n",
       " 'meanTemp_AprAug',\n",
       " 'meanTemp_Aug',\n",
       " 'meanMinTemp_DecFeb',\n",
       " 'meanMinTemp_Oct',\n",
       " 'meanMinTemp_Jan',\n",
       " 'meanMinTemp_Mar',\n",
       " 'meanMaxTemp_Aug',\n",
       " 'precip_meanAnnual',\n",
       " 'precip_JunAug',\n",
       " 'vegetation',\n",
       " 'precipPrevious_JunAug',\n",
       " 'precip_OctSep',\n",
       " 'precipPrevious_OctSep',\n",
       " 'precip_growingSeason',\n",
       " 'varPrecip_growingSeason',\n",
       " 'elev_etopo1',\n",
       " 'lat',\n",
       " 'lon',\n",
       " 'studyArea',\n",
       " 'elev_srtm30',\n",
       " 'x',\n",
       " 'y']"
      ]
     },
     "execution_count": 5,
     "metadata": {},
     "output_type": "execute_result"
    }
   ],
   "source": [
    "list(X_train)"
   ]
  },
  {
   "cell_type": "code",
   "execution_count": 6,
   "metadata": {
    "collapsed": false
   },
   "outputs": [],
   "source": [
    "def summarize(df, field, plot=True):\n",
    "    quantiles = df.quantile(q=[0, 0.25, 0.5, 0.75, 1], axis=0)\n",
    "    means = df.mean(axis=0)\n",
    "    \n",
    "    quants = quantiles[field]\n",
    "    values = df[field]\n",
    "    values = values[np.isnan(values) == False]\n",
    "    n_nan  = values[np.isnan(values) == True].sum()\n",
    "    is_finite = np.isfinite(values).all()\n",
    "\n",
    "    print('\\n%s:\\n%10s%10s%10s%10s%10s%10s\\n'\n",
    "          '%10.2f%10.2f%10.2f%10.2f%10.2f%10.2f'\n",
    "          % (field, 'min', '25%', 'med', 'mean', '75%', 'max',\n",
    "             quants[0], quants[0.25], quants[0.5], means[field], \n",
    "             quants[0.75], quants[1]))\n",
    "    if plot:\n",
    "        plt.figure();\n",
    "        plt.hist(values);\n",
    "        plt.title(field);"
   ]
  },
  {
   "cell_type": "code",
   "execution_count": 7,
   "metadata": {
    "collapsed": false
   },
   "outputs": [],
   "source": [
    "#ignore = ['x', 'y', 'year']\n",
    "#for field in list(X_train):\n",
    "    #if field not in ignore:\n",
    "        #summarize(X_train, field, plot=False)\n",
    "        #summarize(X_valid, field, plot=False)\n",
    "        #summarize(X_test,  field, plot=False)"
   ]
  },
  {
   "cell_type": "code",
   "execution_count": 8,
   "metadata": {
    "collapsed": false
   },
   "outputs": [],
   "source": [
    "#for YEAR in range(2000, 2015):\n",
    "#    plt.figure()\n",
    "#    plt.scatter(\n",
    "#        X_train.loc[(y_train['beetle'] == 1) & (X_train['year'] == YEAR), \n",
    "#                    'lon'], \n",
    "#        X_train.loc[(y_train['beetle'] == 1) & (X_train['year'] == YEAR), \n",
    "#                    'lat'],\n",
    "#        alpha=0.1, label=YEAR);\n",
    "#    plt.legend(loc='best');"
   ]
  },
  {
   "cell_type": "code",
   "execution_count": 9,
   "metadata": {
    "collapsed": false
   },
   "outputs": [
    {
     "data": {
      "text/html": [
       "<div>\n",
       "<style>\n",
       "    .dataframe thead tr:only-child th {\n",
       "        text-align: right;\n",
       "    }\n",
       "\n",
       "    .dataframe thead th {\n",
       "        text-align: left;\n",
       "    }\n",
       "\n",
       "    .dataframe tbody tr th {\n",
       "        vertical-align: top;\n",
       "    }\n",
       "</style>\n",
       "<table border=\"1\" class=\"dataframe\">\n",
       "  <thead>\n",
       "    <tr style=\"text-align: right;\">\n",
       "      <th></th>\n",
       "      <th>beetle</th>\n",
       "    </tr>\n",
       "  </thead>\n",
       "  <tbody>\n",
       "    <tr>\n",
       "      <th>0</th>\n",
       "      <td>0</td>\n",
       "    </tr>\n",
       "    <tr>\n",
       "      <th>1</th>\n",
       "      <td>0</td>\n",
       "    </tr>\n",
       "    <tr>\n",
       "      <th>2</th>\n",
       "      <td>0</td>\n",
       "    </tr>\n",
       "    <tr>\n",
       "      <th>3</th>\n",
       "      <td>0</td>\n",
       "    </tr>\n",
       "    <tr>\n",
       "      <th>4</th>\n",
       "      <td>0</td>\n",
       "    </tr>\n",
       "  </tbody>\n",
       "</table>\n",
       "</div>"
      ],
      "text/plain": [
       "   beetle\n",
       "0       0\n",
       "1       0\n",
       "2       0\n",
       "3       0\n",
       "4       0"
      ]
     },
     "execution_count": 9,
     "metadata": {},
     "output_type": "execute_result"
    }
   ],
   "source": [
    "y_train.head()"
   ]
  },
  {
   "cell_type": "code",
   "execution_count": 10,
   "metadata": {
    "collapsed": false
   },
   "outputs": [],
   "source": [
    "# Drop 'studyArea' from predictors (all 1 in the reduced data) and 'x' and\n",
    "# 'y' (perfectly correlated with 'lon' and 'lat')\n",
    "X_train = X_train.drop(['studyArea', 'x', 'y', 'year'], axis=1)\n",
    "X_valid = X_valid.drop(['studyArea', 'x', 'y', 'year'], axis=1)\n",
    "X_test  = X_test.drop(['studyArea', 'x', 'y', 'year'],  axis=1)"
   ]
  },
  {
   "cell_type": "code",
   "execution_count": 11,
   "metadata": {
    "collapsed": false
   },
   "outputs": [
    {
     "data": {
      "text/plain": [
       "meanTemp_Annual             True\n",
       "meanTemp_AprAug             True\n",
       "meanTemp_Aug                True\n",
       "meanMinTemp_DecFeb          True\n",
       "meanMinTemp_Oct             True\n",
       "meanMinTemp_Jan             True\n",
       "meanMinTemp_Mar             True\n",
       "meanMaxTemp_Aug             True\n",
       "precip_meanAnnual           True\n",
       "precip_JunAug               True\n",
       "vegetation                  True\n",
       "precipPrevious_JunAug       True\n",
       "precip_OctSep               True\n",
       "precipPrevious_OctSep       True\n",
       "precip_growingSeason        True\n",
       "varPrecip_growingSeason    False\n",
       "elev_etopo1                 True\n",
       "lat                         True\n",
       "lon                         True\n",
       "elev_srtm30                 True\n",
       "dtype: bool"
      ]
     },
     "execution_count": 11,
     "metadata": {},
     "output_type": "execute_result"
    }
   ],
   "source": [
    "np.isfinite(X_train).all()"
   ]
  },
  {
   "cell_type": "code",
   "execution_count": 12,
   "metadata": {
    "collapsed": false
   },
   "outputs": [
    {
     "name": "stdout",
     "output_type": "stream",
     "text": [
      "X_train: 0.00478076301237\n",
      "X_valid: 0.00493180067369\n",
      "X_test: 0.00518858661994\n"
     ]
    }
   ],
   "source": [
    "print('X_train:', \n",
    "      np.isnan(X_train.varPrecip_growingSeason).sum() / X_train.shape[0])\n",
    "print('X_valid:', \n",
    "      np.isnan(X_valid.varPrecip_growingSeason).sum() / X_valid.shape[0])\n",
    "print('X_test:',  \n",
    "      np.isnan(X_test.varPrecip_growingSeason).sum() / X_test.shape[0])"
   ]
  },
  {
   "cell_type": "code",
   "execution_count": 13,
   "metadata": {
    "collapsed": false
   },
   "outputs": [
    {
     "name": "stdout",
     "output_type": "stream",
     "text": [
      "(614939, 20) (614939, 1)\n",
      "(131753, 20) (131753, 1)\n",
      "(131719, 20) (131719, 1)\n"
     ]
    }
   ],
   "source": [
    "# NaNs in less than 1% of the rows.... just drop\n",
    "def drop_nans(X_df, y_df, field, verbose=True):\n",
    "    X = X_df.copy()\n",
    "    y = y_df.copy()\n",
    "    X = X.loc[np.isnan(X_df[field]) == False, :]\n",
    "    y = y.loc[np.isnan(X_df[field]) == False, :]\n",
    "    \n",
    "    if verbose:\n",
    "        print(X.shape, y.shape)\n",
    "    return X, y\n",
    "\n",
    "\n",
    "X_train, y_train = drop_nans(X_train, y_train, 'varPrecip_growingSeason')\n",
    "X_valid, y_valid = drop_nans(X_valid, y_valid, 'varPrecip_growingSeason')\n",
    "X_test,  y_test  = drop_nans(X_test,  y_test,  'varPrecip_growingSeason')"
   ]
  },
  {
   "cell_type": "code",
   "execution_count": 14,
   "metadata": {
    "collapsed": false
   },
   "outputs": [],
   "source": [
    "# Normalize data to make gradient descent more efficient\n",
    "scaler = StandardScaler()\n",
    "X_train = scaler.fit_transform(X_train)\n",
    "X_valid = scaler.transform(X_valid)\n",
    "X_test  = scaler.transform(X_test)"
   ]
  },
  {
   "cell_type": "code",
   "execution_count": 15,
   "metadata": {
    "collapsed": false
   },
   "outputs": [],
   "source": [
    "def vectorize(y):\n",
    "    y = y.tolist()\n",
    "    for i in range(len(y)):\n",
    "        y[i] = [1, 0] if y[i] == [0] else [0, 1]\n",
    "        \n",
    "    return np.array(y)"
   ]
  },
  {
   "cell_type": "code",
   "execution_count": 16,
   "metadata": {
    "collapsed": false
   },
   "outputs": [],
   "source": [
    "y_train = y_train.as_matrix()\n",
    "y_valid = y_valid.as_matrix()\n",
    "y_test  = y_test.as_matrix()"
   ]
  },
  {
   "cell_type": "code",
   "execution_count": 17,
   "metadata": {
    "collapsed": false
   },
   "outputs": [],
   "source": [
    "y_train = vectorize(y_train)\n",
    "y_valid = vectorize(y_valid)\n",
    "y_test  = vectorize(y_test)"
   ]
  },
  {
   "cell_type": "markdown",
   "metadata": {},
   "source": [
    "# Neural Net Model"
   ]
  },
  {
   "cell_type": "code",
   "execution_count": 18,
   "metadata": {
    "collapsed": false
   },
   "outputs": [
    {
     "data": {
      "text/plain": [
       "(614939, 20)"
      ]
     },
     "execution_count": 18,
     "metadata": {},
     "output_type": "execute_result"
    }
   ],
   "source": [
    "best_val_loss = np.inf\n",
    "X_train.shape"
   ]
  },
  {
   "cell_type": "code",
   "execution_count": 24,
   "metadata": {
    "collapsed": false
   },
   "outputs": [
    {
     "data": {
      "text/plain": [
       "[20, 40, 80, 80, 40, 20, 2]"
      ]
     },
     "execution_count": 24,
     "metadata": {},
     "output_type": "execute_result"
    }
   ],
   "source": [
    "# Params and Hyperparams\n",
    "n_inputs = X_train.shape[1]\n",
    "n_outputs = 2\n",
    "\n",
    "# Current best\n",
    "N_LAYERS = 16\n",
    "#NODES_PER_LAYER = ([n_inputs] * N_LAYERS)\n",
    "NODES_PER_LAYER = [\n",
    "    n_inputs, n_inputs * 2, n_inputs * 4, n_inputs * 4, n_inputs *2, \n",
    "    n_inputs]\n",
    "NODES_PER_LAYER.append(n_outputs)\n",
    "ETA = 0.1\n",
    "DROPOUT = 0    \n",
    "BETA_1 = 0.9\n",
    "BETA_2 = 0.999\n",
    "EPSILON = 1e-08\n",
    "DECAY = 0.01\n",
    "EPOCHS = 124\n",
    "BATCH_SIZE = 1024\n",
    "\n",
    "NODES_PER_LAYER"
   ]
  },
  {
   "cell_type": "code",
   "execution_count": 25,
   "metadata": {
    "collapsed": true
   },
   "outputs": [],
   "source": [
    "def get_params():\n",
    "    return {'NODES_PER_LAYER': NODES_PER_LAYER,\n",
    "            'ETA': ETA,\n",
    "            'DROPOUT': DROPOUT,\n",
    "            'BETA_1': BETA_1,\n",
    "            'BETA_2': BETA_2,\n",
    "            'EPSILON': EPSILON,\n",
    "            'DECAY': DECAY,\n",
    "            'EPOCHS': EPOCHS,\n",
    "            'BATCH_SIZE': BATCH_SIZE}"
   ]
  },
  {
   "cell_type": "code",
   "execution_count": 26,
   "metadata": {
    "collapsed": false
   },
   "outputs": [
    {
     "name": "stdout",
     "output_type": "stream",
     "text": [
      "_________________________________________________________________\n",
      "Layer (type)                 Output Shape              Param #   \n",
      "=================================================================\n",
      "dense_7 (Dense)              (None, 40)                840       \n",
      "_________________________________________________________________\n",
      "batch_normalization_7 (Batch (None, 40)                160       \n",
      "_________________________________________________________________\n",
      "activation_7 (Activation)    (None, 40)                0         \n",
      "_________________________________________________________________\n",
      "dropout_6 (Dropout)          (None, 40)                0         \n",
      "_________________________________________________________________\n",
      "dense_8 (Dense)              (None, 80)                3280      \n",
      "_________________________________________________________________\n",
      "batch_normalization_8 (Batch (None, 80)                320       \n",
      "_________________________________________________________________\n",
      "activation_8 (Activation)    (None, 80)                0         \n",
      "_________________________________________________________________\n",
      "dropout_7 (Dropout)          (None, 80)                0         \n",
      "_________________________________________________________________\n",
      "dense_9 (Dense)              (None, 80)                6480      \n",
      "_________________________________________________________________\n",
      "batch_normalization_9 (Batch (None, 80)                320       \n",
      "_________________________________________________________________\n",
      "activation_9 (Activation)    (None, 80)                0         \n",
      "_________________________________________________________________\n",
      "dropout_8 (Dropout)          (None, 80)                0         \n",
      "_________________________________________________________________\n",
      "dense_10 (Dense)             (None, 40)                3240      \n",
      "_________________________________________________________________\n",
      "batch_normalization_10 (Batc (None, 40)                160       \n",
      "_________________________________________________________________\n",
      "activation_10 (Activation)   (None, 40)                0         \n",
      "_________________________________________________________________\n",
      "dropout_9 (Dropout)          (None, 40)                0         \n",
      "_________________________________________________________________\n",
      "dense_11 (Dense)             (None, 20)                820       \n",
      "_________________________________________________________________\n",
      "batch_normalization_11 (Batc (None, 20)                80        \n",
      "_________________________________________________________________\n",
      "activation_11 (Activation)   (None, 20)                0         \n",
      "_________________________________________________________________\n",
      "dropout_10 (Dropout)         (None, 20)                0         \n",
      "_________________________________________________________________\n",
      "dense_12 (Dense)             (None, 2)                 42        \n",
      "_________________________________________________________________\n",
      "batch_normalization_12 (Batc (None, 2)                 8         \n",
      "_________________________________________________________________\n",
      "activation_12 (Activation)   (None, 2)                 0         \n",
      "=================================================================\n",
      "Total params: 15,750\n",
      "Trainable params: 15,226\n",
      "Non-trainable params: 524\n",
      "_________________________________________________________________\n"
     ]
    }
   ],
   "source": [
    "model = Sequential()\n",
    "\n",
    "# NOTE: \"glorot-normal\" is the same thing as \"Xavier\" initialization\n",
    "model.add(Dense(NODES_PER_LAYER[1], \n",
    "                input_dim=NODES_PER_LAYER[0], \n",
    "                kernel_initializer='glorot_normal'))\n",
    "model.add(BatchNormalization())\n",
    "model.add(Activation('relu'))\n",
    "model.add(Dropout(DROPOUT))\n",
    "\n",
    "# additional hidden layers here\n",
    "for i in range(2, len(NODES_PER_LAYER) - 1):\n",
    "    model.add(Dense(NODES_PER_LAYER[i], \n",
    "                    kernel_initializer='glorot_normal'))\n",
    "    model.add(BatchNormalization())\n",
    "    model.add(Activation('relu'))\n",
    "    model.add(Dropout(DROPOUT))\n",
    "\n",
    "model.add(Dense(NODES_PER_LAYER[-1], kernel_initializer='glorot_normal'))\n",
    "model.add(BatchNormalization())\n",
    "model.add(Activation('softmax'))\n",
    "\n",
    "model.summary()"
   ]
  },
  {
   "cell_type": "code",
   "execution_count": 27,
   "metadata": {
    "collapsed": true
   },
   "outputs": [],
   "source": [
    "adam = Adam(\n",
    "    lr=ETA, beta_1=BETA_1, beta_2=BETA_2, epsilon=EPSILON, decay=DECAY)\n",
    "model.compile(\n",
    "    loss='binary_crossentropy', optimizer=adam, metrics=['accuracy'])"
   ]
  },
  {
   "cell_type": "code",
   "execution_count": 28,
   "metadata": {
    "collapsed": false
   },
   "outputs": [
    {
     "name": "stdout",
     "output_type": "stream",
     "text": [
      "Train on 614939 samples, validate on 131753 samples\n",
      "Epoch 1/124\n",
      "614400/614939 [============================>.] - ETA: 0s - loss: 0.2240 - acc: 0.8979Epoch 00001: val_loss improved from inf to 0.20822, saving model to ../../data/cluster/random/weights.bestNN.hdf5\n",
      "614939/614939 [==============================] - 19s 31us/step - loss: 0.2240 - acc: 0.8979 - val_loss: 0.2082 - val_acc: 0.9051\n",
      "Epoch 2/124\n",
      "613376/614939 [============================>.] - ETA: 0s - loss: 0.2021 - acc: 0.9084Epoch 00002: val_loss improved from 0.20822 to 0.20159, saving model to ../../data/cluster/random/weights.bestNN.hdf5\n",
      "614939/614939 [==============================] - 15s 25us/step - loss: 0.2020 - acc: 0.9085 - val_loss: 0.2016 - val_acc: 0.9090\n",
      "Epoch 3/124\n",
      "613376/614939 [============================>.] - ETA: 0s - loss: 0.1950 - acc: 0.9119Epoch 00003: val_loss improved from 0.20159 to 0.19258, saving model to ../../data/cluster/random/weights.bestNN.hdf5\n",
      "614939/614939 [==============================] - 15s 25us/step - loss: 0.1950 - acc: 0.9119 - val_loss: 0.1926 - val_acc: 0.9134\n",
      "Epoch 4/124\n",
      "612352/614939 [============================>.] - ETA: 0s - loss: 0.1899 - acc: 0.9146Epoch 00004: val_loss improved from 0.19258 to 0.19025, saving model to ../../data/cluster/random/weights.bestNN.hdf5\n",
      "614939/614939 [==============================] - 15s 25us/step - loss: 0.1900 - acc: 0.9146 - val_loss: 0.1903 - val_acc: 0.9147\n",
      "Epoch 5/124\n",
      "614400/614939 [============================>.] - ETA: 0s - loss: 0.1857 - acc: 0.9168Epoch 00005: val_loss improved from 0.19025 to 0.18453, saving model to ../../data/cluster/random/weights.bestNN.hdf5\n",
      "614939/614939 [==============================] - 15s 25us/step - loss: 0.1857 - acc: 0.9168 - val_loss: 0.1845 - val_acc: 0.9169\n",
      "Epoch 6/124\n",
      "613376/614939 [============================>.] - ETA: 0s - loss: 0.1823 - acc: 0.9187Epoch 00006: val_loss improved from 0.18453 to 0.18177, saving model to ../../data/cluster/random/weights.bestNN.hdf5\n",
      "614939/614939 [==============================] - 15s 25us/step - loss: 0.1823 - acc: 0.9187 - val_loss: 0.1818 - val_acc: 0.9188\n",
      "Epoch 7/124\n",
      "613376/614939 [============================>.] - ETA: 0s - loss: 0.1799 - acc: 0.9198Epoch 00007: val_loss improved from 0.18177 to 0.17898, saving model to ../../data/cluster/random/weights.bestNN.hdf5\n",
      "614939/614939 [==============================] - 15s 25us/step - loss: 0.1799 - acc: 0.9198 - val_loss: 0.1790 - val_acc: 0.9204\n",
      "Epoch 8/124\n",
      "613376/614939 [============================>.] - ETA: 0s - loss: 0.1775 - acc: 0.9210Epoch 00008: val_loss improved from 0.17898 to 0.17641, saving model to ../../data/cluster/random/weights.bestNN.hdf5\n",
      "614939/614939 [==============================] - 15s 25us/step - loss: 0.1775 - acc: 0.9210 - val_loss: 0.1764 - val_acc: 0.9216\n",
      "Epoch 9/124\n",
      "614400/614939 [============================>.] - ETA: 0s - loss: 0.1759 - acc: 0.9216Epoch 00009: val_loss improved from 0.17641 to 0.17509, saving model to ../../data/cluster/random/weights.bestNN.hdf5\n",
      "614939/614939 [==============================] - 15s 24us/step - loss: 0.1759 - acc: 0.9216 - val_loss: 0.1751 - val_acc: 0.9224\n",
      "Epoch 10/124\n",
      "614400/614939 [============================>.] - ETA: 0s - loss: 0.1747 - acc: 0.9225Epoch 00010: val_loss did not improve\n",
      "614939/614939 [==============================] - 15s 25us/step - loss: 0.1747 - acc: 0.9226 - val_loss: 0.1755 - val_acc: 0.9225\n",
      "Epoch 11/124\n",
      "613376/614939 [============================>.] - ETA: 0s - loss: 0.1734 - acc: 0.9229Epoch 00011: val_loss improved from 0.17509 to 0.17297, saving model to ../../data/cluster/random/weights.bestNN.hdf5\n",
      "614939/614939 [==============================] - 15s 25us/step - loss: 0.1734 - acc: 0.9229 - val_loss: 0.1730 - val_acc: 0.9240\n",
      "Epoch 12/124\n",
      "614400/614939 [============================>.] - ETA: 0s - loss: 0.1719 - acc: 0.9238Epoch 00012: val_loss improved from 0.17297 to 0.17251, saving model to ../../data/cluster/random/weights.bestNN.hdf5\n",
      "614939/614939 [==============================] - 16s 26us/step - loss: 0.1719 - acc: 0.9238 - val_loss: 0.1725 - val_acc: 0.9235\n",
      "Epoch 13/124\n",
      "613376/614939 [============================>.] - ETA: 0s - loss: 0.1708 - acc: 0.9243Epoch 00013: val_loss improved from 0.17251 to 0.17143, saving model to ../../data/cluster/random/weights.bestNN.hdf5\n",
      "614939/614939 [==============================] - 16s 26us/step - loss: 0.1708 - acc: 0.9243 - val_loss: 0.1714 - val_acc: 0.9243\n",
      "Epoch 14/124\n",
      "614400/614939 [============================>.] - ETA: 0s - loss: 0.1699 - acc: 0.9243Epoch 00014: val_loss improved from 0.17143 to 0.17027, saving model to ../../data/cluster/random/weights.bestNN.hdf5\n",
      "614939/614939 [==============================] - 15s 25us/step - loss: 0.1699 - acc: 0.9243 - val_loss: 0.1703 - val_acc: 0.9247\n",
      "Epoch 15/124\n",
      "614400/614939 [============================>.] - ETA: 0s - loss: 0.1692 - acc: 0.9251Epoch 00015: val_loss improved from 0.17027 to 0.17005, saving model to ../../data/cluster/random/weights.bestNN.hdf5\n",
      "614939/614939 [==============================] - 16s 26us/step - loss: 0.1692 - acc: 0.9251 - val_loss: 0.1700 - val_acc: 0.9250\n",
      "Epoch 16/124\n",
      "613376/614939 [============================>.] - ETA: 0s - loss: 0.1683 - acc: 0.9254Epoch 00016: val_loss improved from 0.17005 to 0.16994, saving model to ../../data/cluster/random/weights.bestNN.hdf5\n",
      "614939/614939 [==============================] - 15s 25us/step - loss: 0.1683 - acc: 0.9254 - val_loss: 0.1699 - val_acc: 0.9253\n",
      "Epoch 17/124\n",
      "612352/614939 [============================>.] - ETA: 0s - loss: 0.1677 - acc: 0.9256Epoch 00017: val_loss improved from 0.16994 to 0.16755, saving model to ../../data/cluster/random/weights.bestNN.hdf5\n",
      "614939/614939 [==============================] - 16s 25us/step - loss: 0.1677 - acc: 0.9256 - val_loss: 0.1675 - val_acc: 0.9266\n",
      "Epoch 18/124\n",
      "613376/614939 [============================>.] - ETA: 0s - loss: 0.1673 - acc: 0.9259Epoch 00018: val_loss improved from 0.16755 to 0.16754, saving model to ../../data/cluster/random/weights.bestNN.hdf5\n",
      "614939/614939 [==============================] - 15s 25us/step - loss: 0.1673 - acc: 0.9259 - val_loss: 0.1675 - val_acc: 0.9265\n",
      "Epoch 19/124\n",
      "614400/614939 [============================>.] - ETA: 0s - loss: 0.1664 - acc: 0.9264Epoch 00019: val_loss improved from 0.16754 to 0.16688, saving model to ../../data/cluster/random/weights.bestNN.hdf5\n",
      "614939/614939 [==============================] - 16s 26us/step - loss: 0.1664 - acc: 0.9264 - val_loss: 0.1669 - val_acc: 0.9268\n",
      "Epoch 20/124\n",
      "613376/614939 [============================>.] - ETA: 0s - loss: 0.1661 - acc: 0.9264Epoch 00020: val_loss improved from 0.16688 to 0.16610, saving model to ../../data/cluster/random/weights.bestNN.hdf5\n",
      "614939/614939 [==============================] - 16s 26us/step - loss: 0.1660 - acc: 0.9264 - val_loss: 0.1661 - val_acc: 0.9272\n",
      "Epoch 21/124\n",
      "614400/614939 [============================>.] - ETA: 0s - loss: 0.1656 - acc: 0.9269Epoch 00021: val_loss improved from 0.16610 to 0.16509, saving model to ../../data/cluster/random/weights.bestNN.hdf5\n",
      "614939/614939 [==============================] - 16s 27us/step - loss: 0.1656 - acc: 0.9269 - val_loss: 0.1651 - val_acc: 0.9276\n",
      "Epoch 22/124\n",
      "613376/614939 [============================>.] - ETA: 0s - loss: 0.1651 - acc: 0.9268Epoch 00022: val_loss did not improve\n",
      "614939/614939 [==============================] - 17s 27us/step - loss: 0.1651 - acc: 0.9268 - val_loss: 0.1653 - val_acc: 0.9279\n",
      "Epoch 23/124\n",
      "612352/614939 [============================>.] - ETA: 0s - loss: 0.1645 - acc: 0.9272Epoch 00023: val_loss did not improve\n",
      "614939/614939 [==============================] - 17s 27us/step - loss: 0.1646 - acc: 0.9272 - val_loss: 0.1655 - val_acc: 0.9277\n",
      "Epoch 24/124\n",
      "613376/614939 [============================>.] - ETA: 0s - loss: 0.1640 - acc: 0.9274Epoch 00024: val_loss improved from 0.16509 to 0.16390, saving model to ../../data/cluster/random/weights.bestNN.hdf5\n",
      "614939/614939 [==============================] - 17s 27us/step - loss: 0.1640 - acc: 0.9274 - val_loss: 0.1639 - val_acc: 0.9279\n",
      "Epoch 25/124\n",
      "613376/614939 [============================>.] - ETA: 0s - loss: 0.1637 - acc: 0.9281Epoch 00025: val_loss improved from 0.16390 to 0.16386, saving model to ../../data/cluster/random/weights.bestNN.hdf5\n",
      "614939/614939 [==============================] - 17s 28us/step - loss: 0.1638 - acc: 0.9281 - val_loss: 0.1639 - val_acc: 0.9278\n",
      "Epoch 26/124\n",
      "613376/614939 [============================>.] - ETA: 0s - loss: 0.1630 - acc: 0.9281Epoch 00026: val_loss improved from 0.16386 to 0.16315, saving model to ../../data/cluster/random/weights.bestNN.hdf5\n",
      "614939/614939 [==============================] - 16s 27us/step - loss: 0.1630 - acc: 0.9281 - val_loss: 0.1632 - val_acc: 0.9287\n",
      "Epoch 27/124\n",
      "614400/614939 [============================>.] - ETA: 0s - loss: 0.1628 - acc: 0.9283Epoch 00027: val_loss did not improve\n",
      "614939/614939 [==============================] - 17s 27us/step - loss: 0.1628 - acc: 0.9283 - val_loss: 0.1632 - val_acc: 0.9288\n",
      "Epoch 28/124\n",
      "613376/614939 [============================>.] - ETA: 0s - loss: 0.1623 - acc: 0.9284Epoch 00028: val_loss did not improve\n",
      "614939/614939 [==============================] - 16s 27us/step - loss: 0.1622 - acc: 0.9285 - val_loss: 0.1637 - val_acc: 0.9279\n",
      "Epoch 29/124\n",
      "614400/614939 [============================>.] - ETA: 0s - loss: 0.1623 - acc: 0.9284Epoch 00029: val_loss improved from 0.16315 to 0.16249, saving model to ../../data/cluster/random/weights.bestNN.hdf5\n",
      "614939/614939 [==============================] - 17s 27us/step - loss: 0.1623 - acc: 0.9284 - val_loss: 0.1625 - val_acc: 0.9285\n",
      "Epoch 30/124\n",
      "614400/614939 [============================>.] - ETA: 0s - loss: 0.1617 - acc: 0.9285Epoch 00030: val_loss improved from 0.16249 to 0.16217, saving model to ../../data/cluster/random/weights.bestNN.hdf5\n",
      "614939/614939 [==============================] - 16s 27us/step - loss: 0.1617 - acc: 0.9285 - val_loss: 0.1622 - val_acc: 0.9290\n",
      "Epoch 31/124\n",
      "614400/614939 [============================>.] - ETA: 0s - loss: 0.1613 - acc: 0.9288Epoch 00031: val_loss improved from 0.16217 to 0.16212, saving model to ../../data/cluster/random/weights.bestNN.hdf5\n",
      "614939/614939 [==============================] - 17s 27us/step - loss: 0.1613 - acc: 0.9288 - val_loss: 0.1621 - val_acc: 0.9291\n",
      "Epoch 32/124\n",
      "614400/614939 [============================>.] - ETA: 0s - loss: 0.1612 - acc: 0.9289Epoch 00032: val_loss improved from 0.16212 to 0.16203, saving model to ../../data/cluster/random/weights.bestNN.hdf5\n",
      "614939/614939 [==============================] - 17s 27us/step - loss: 0.1612 - acc: 0.9288 - val_loss: 0.1620 - val_acc: 0.9296\n",
      "Epoch 33/124\n",
      "613376/614939 [============================>.] - ETA: 0s - loss: 0.1607 - acc: 0.9289Epoch 00033: val_loss improved from 0.16203 to 0.16106, saving model to ../../data/cluster/random/weights.bestNN.hdf5\n",
      "614939/614939 [==============================] - 17s 28us/step - loss: 0.1607 - acc: 0.9289 - val_loss: 0.1611 - val_acc: 0.9297\n",
      "Epoch 34/124\n",
      "614400/614939 [============================>.] - ETA: 0s - loss: 0.1605 - acc: 0.9294Epoch 00034: val_loss improved from 0.16106 to 0.16095, saving model to ../../data/cluster/random/weights.bestNN.hdf5\n",
      "614939/614939 [==============================] - 17s 28us/step - loss: 0.1605 - acc: 0.9294 - val_loss: 0.1609 - val_acc: 0.9295\n",
      "Epoch 35/124\n",
      "613376/614939 [============================>.] - ETA: 0s - loss: 0.1603 - acc: 0.9293Epoch 00035: val_loss improved from 0.16095 to 0.16062, saving model to ../../data/cluster/random/weights.bestNN.hdf5\n",
      "614939/614939 [==============================] - 17s 27us/step - loss: 0.1602 - acc: 0.9293 - val_loss: 0.1606 - val_acc: 0.9300\n",
      "Epoch 36/124\n",
      "613376/614939 [============================>.] - ETA: 0s - loss: 0.1601 - acc: 0.9293Epoch 00036: val_loss improved from 0.16062 to 0.16028, saving model to ../../data/cluster/random/weights.bestNN.hdf5\n",
      "614939/614939 [==============================] - 17s 28us/step - loss: 0.1601 - acc: 0.9293 - val_loss: 0.1603 - val_acc: 0.9298\n",
      "Epoch 37/124\n",
      "613376/614939 [============================>.] - ETA: 0s - loss: 0.1597 - acc: 0.9295Epoch 00037: val_loss improved from 0.16028 to 0.16007, saving model to ../../data/cluster/random/weights.bestNN.hdf5\n",
      "614939/614939 [==============================] - 17s 28us/step - loss: 0.1598 - acc: 0.9295 - val_loss: 0.1601 - val_acc: 0.9303\n",
      "Epoch 38/124\n",
      "613376/614939 [============================>.] - ETA: 0s - loss: 0.1601 - acc: 0.9292Epoch 00038: val_loss improved from 0.16007 to 0.15987, saving model to ../../data/cluster/random/weights.bestNN.hdf5\n",
      "614939/614939 [==============================] - 17s 28us/step - loss: 0.1601 - acc: 0.9292 - val_loss: 0.1599 - val_acc: 0.9302\n",
      "Epoch 39/124\n",
      "613376/614939 [============================>.] - ETA: 0s - loss: 0.1593 - acc: 0.9297Epoch 00039: val_loss improved from 0.15987 to 0.15959, saving model to ../../data/cluster/random/weights.bestNN.hdf5\n",
      "614939/614939 [==============================] - 18s 30us/step - loss: 0.1593 - acc: 0.9297 - val_loss: 0.1596 - val_acc: 0.9303\n",
      "Epoch 40/124\n",
      "614400/614939 [============================>.] - ETA: 0s - loss: 0.1592 - acc: 0.9299Epoch 00040: val_loss did not improve\n",
      "614939/614939 [==============================] - 16s 26us/step - loss: 0.1591 - acc: 0.9299 - val_loss: 0.1597 - val_acc: 0.9305\n",
      "Epoch 41/124\n",
      "613376/614939 [============================>.] - ETA: 0s - loss: 0.1592 - acc: 0.9298Epoch 00041: val_loss did not improve\n",
      "614939/614939 [==============================] - 16s 26us/step - loss: 0.1592 - acc: 0.9298 - val_loss: 0.1597 - val_acc: 0.9301\n",
      "Epoch 42/124\n",
      "614400/614939 [============================>.] - ETA: 0s - loss: 0.1586 - acc: 0.9303Epoch 00042: val_loss improved from 0.15959 to 0.15925, saving model to ../../data/cluster/random/weights.bestNN.hdf5\n",
      "614939/614939 [==============================] - 16s 26us/step - loss: 0.1586 - acc: 0.9303 - val_loss: 0.1592 - val_acc: 0.9301\n",
      "Epoch 43/124\n",
      "614400/614939 [============================>.] - ETA: 0s - loss: 0.1588 - acc: 0.9302Epoch 00043: val_loss improved from 0.15925 to 0.15906, saving model to ../../data/cluster/random/weights.bestNN.hdf5\n",
      "614939/614939 [==============================] - 16s 27us/step - loss: 0.1588 - acc: 0.9302 - val_loss: 0.1591 - val_acc: 0.9304\n",
      "Epoch 44/124\n",
      "614400/614939 [============================>.] - ETA: 0s - loss: 0.1588 - acc: 0.9302Epoch 00044: val_loss did not improve\n",
      "614939/614939 [==============================] - 16s 27us/step - loss: 0.1588 - acc: 0.9302 - val_loss: 0.1592 - val_acc: 0.9304\n",
      "Epoch 45/124\n",
      "612352/614939 [============================>.] - ETA: 0s - loss: 0.1582 - acc: 0.9302Epoch 00045: val_loss improved from 0.15906 to 0.15857, saving model to ../../data/cluster/random/weights.bestNN.hdf5\n",
      "614939/614939 [==============================] - 17s 27us/step - loss: 0.1583 - acc: 0.9301 - val_loss: 0.1586 - val_acc: 0.9306\n",
      "Epoch 46/124\n",
      "613376/614939 [============================>.] - ETA: 0s - loss: 0.1581 - acc: 0.9303Epoch 00046: val_loss did not improve\n",
      "614939/614939 [==============================] - 17s 27us/step - loss: 0.1581 - acc: 0.9303 - val_loss: 0.1592 - val_acc: 0.9307\n",
      "Epoch 47/124\n",
      "614400/614939 [============================>.] - ETA: 0s - loss: 0.1580 - acc: 0.9304Epoch 00047: val_loss improved from 0.15857 to 0.15851, saving model to ../../data/cluster/random/weights.bestNN.hdf5\n",
      "614939/614939 [==============================] - 19s 31us/step - loss: 0.1580 - acc: 0.9304 - val_loss: 0.1585 - val_acc: 0.9307\n",
      "Epoch 48/124\n",
      "614400/614939 [============================>.] - ETA: 0s - loss: 0.1580 - acc: 0.9306Epoch 00048: val_loss improved from 0.15851 to 0.15838, saving model to ../../data/cluster/random/weights.bestNN.hdf5\n",
      "614939/614939 [==============================] - 17s 27us/step - loss: 0.1580 - acc: 0.9306 - val_loss: 0.1584 - val_acc: 0.9307\n",
      "Epoch 49/124\n",
      "614400/614939 [============================>.] - ETA: 0s - loss: 0.1574 - acc: 0.9306Epoch 00049: val_loss improved from 0.15838 to 0.15822, saving model to ../../data/cluster/random/weights.bestNN.hdf5\n",
      "614939/614939 [==============================] - 17s 27us/step - loss: 0.1574 - acc: 0.9306 - val_loss: 0.1582 - val_acc: 0.9311\n",
      "Epoch 50/124\n",
      "613376/614939 [============================>.] - ETA: 0s - loss: 0.1575 - acc: 0.9306Epoch 00050: val_loss did not improve\n",
      "614939/614939 [==============================] - 16s 27us/step - loss: 0.1575 - acc: 0.9306 - val_loss: 0.1584 - val_acc: 0.9309\n",
      "Epoch 51/124\n",
      "614400/614939 [============================>.] - ETA: 0s - loss: 0.1576 - acc: 0.9307Epoch 00051: val_loss improved from 0.15822 to 0.15816, saving model to ../../data/cluster/random/weights.bestNN.hdf5\n",
      "614939/614939 [==============================] - 17s 27us/step - loss: 0.1576 - acc: 0.9307 - val_loss: 0.1582 - val_acc: 0.9308\n",
      "Epoch 52/124\n",
      "613376/614939 [============================>.] - ETA: 0s - loss: 0.1574 - acc: 0.9307Epoch 00052: val_loss improved from 0.15816 to 0.15798, saving model to ../../data/cluster/random/weights.bestNN.hdf5\n",
      "614939/614939 [==============================] - 17s 27us/step - loss: 0.1574 - acc: 0.9308 - val_loss: 0.1580 - val_acc: 0.9313\n",
      "Epoch 53/124\n",
      "613376/614939 [============================>.] - ETA: 0s - loss: 0.1571 - acc: 0.9310Epoch 00053: val_loss improved from 0.15798 to 0.15758, saving model to ../../data/cluster/random/weights.bestNN.hdf5\n",
      "614939/614939 [==============================] - 18s 29us/step - loss: 0.1571 - acc: 0.9310 - val_loss: 0.1576 - val_acc: 0.9310\n",
      "Epoch 54/124\n",
      "614400/614939 [============================>.] - ETA: 0s - loss: 0.1569 - acc: 0.9310Epoch 00054: val_loss did not improve\n",
      "614939/614939 [==============================] - 16s 27us/step - loss: 0.1569 - acc: 0.9310 - val_loss: 0.1577 - val_acc: 0.9311\n",
      "Epoch 55/124\n",
      "613376/614939 [============================>.] - ETA: 0s - loss: 0.1568 - acc: 0.9309Epoch 00055: val_loss did not improve\n",
      "614939/614939 [==============================] - 16s 26us/step - loss: 0.1568 - acc: 0.9309 - val_loss: 0.1581 - val_acc: 0.9310\n",
      "Epoch 56/124\n",
      "614400/614939 [============================>.] - ETA: 0s - loss: 0.1566 - acc: 0.9310Epoch 00056: val_loss improved from 0.15758 to 0.15756, saving model to ../../data/cluster/random/weights.bestNN.hdf5\n",
      "614939/614939 [==============================] - 16s 26us/step - loss: 0.1566 - acc: 0.9310 - val_loss: 0.1576 - val_acc: 0.9312\n",
      "Epoch 57/124\n",
      "614400/614939 [============================>.] - ETA: 0s - loss: 0.1567 - acc: 0.9313Epoch 00057: val_loss improved from 0.15756 to 0.15744, saving model to ../../data/cluster/random/weights.bestNN.hdf5\n",
      "614939/614939 [==============================] - 17s 27us/step - loss: 0.1567 - acc: 0.9313 - val_loss: 0.1574 - val_acc: 0.9312\n",
      "Epoch 58/124\n",
      "614400/614939 [============================>.] - ETA: 0s - loss: 0.1566 - acc: 0.9310Epoch 00058: val_loss improved from 0.15744 to 0.15707, saving model to ../../data/cluster/random/weights.bestNN.hdf5\n",
      "614939/614939 [==============================] - 17s 27us/step - loss: 0.1566 - acc: 0.9310 - val_loss: 0.1571 - val_acc: 0.9312\n",
      "Epoch 59/124\n",
      "614400/614939 [============================>.] - ETA: 0s - loss: 0.1563 - acc: 0.9312Epoch 00059: val_loss did not improve\n",
      "614939/614939 [==============================] - 17s 27us/step - loss: 0.1563 - acc: 0.9312 - val_loss: 0.1576 - val_acc: 0.9314\n",
      "Epoch 60/124\n",
      "614400/614939 [============================>.] - ETA: 0s - loss: 0.1558 - acc: 0.9314Epoch 00060: val_loss did not improve\n",
      "614939/614939 [==============================] - 17s 27us/step - loss: 0.1558 - acc: 0.9314 - val_loss: 0.1571 - val_acc: 0.9317\n",
      "Epoch 61/124\n",
      "613376/614939 [============================>.] - ETA: 0s - loss: 0.1559 - acc: 0.9315Epoch 00061: val_loss improved from 0.15707 to 0.15687, saving model to ../../data/cluster/random/weights.bestNN.hdf5\n",
      "614939/614939 [==============================] - 17s 28us/step - loss: 0.1559 - acc: 0.9315 - val_loss: 0.1569 - val_acc: 0.9318\n",
      "Epoch 62/124\n",
      "613376/614939 [============================>.] - ETA: 0s - loss: 0.1560 - acc: 0.9318Epoch 00062: val_loss improved from 0.15687 to 0.15682, saving model to ../../data/cluster/random/weights.bestNN.hdf5\n",
      "614939/614939 [==============================] - 16s 27us/step - loss: 0.1560 - acc: 0.9318 - val_loss: 0.1568 - val_acc: 0.9311\n",
      "Epoch 63/124\n",
      "613376/614939 [============================>.] - ETA: 0s - loss: 0.1557 - acc: 0.9314Epoch 00063: val_loss did not improve\n",
      "614939/614939 [==============================] - 17s 27us/step - loss: 0.1556 - acc: 0.9315 - val_loss: 0.1571 - val_acc: 0.9313\n",
      "Epoch 64/124\n",
      "613376/614939 [============================>.] - ETA: 0s - loss: 0.1553 - acc: 0.9319Epoch 00064: val_loss improved from 0.15682 to 0.15670, saving model to ../../data/cluster/random/weights.bestNN.hdf5\n",
      "614939/614939 [==============================] - 16s 27us/step - loss: 0.1554 - acc: 0.9319 - val_loss: 0.1567 - val_acc: 0.9317\n",
      "Epoch 65/124\n",
      "613376/614939 [============================>.] - ETA: 0s - loss: 0.1557 - acc: 0.9315Epoch 00065: val_loss improved from 0.15670 to 0.15648, saving model to ../../data/cluster/random/weights.bestNN.hdf5\n",
      "614939/614939 [==============================] - 17s 27us/step - loss: 0.1557 - acc: 0.9315 - val_loss: 0.1565 - val_acc: 0.9320\n",
      "Epoch 66/124\n",
      "613376/614939 [============================>.] - ETA: 0s - loss: 0.1555 - acc: 0.9316Epoch 00066: val_loss improved from 0.15648 to 0.15621, saving model to ../../data/cluster/random/weights.bestNN.hdf5\n",
      "614939/614939 [==============================] - 17s 27us/step - loss: 0.1555 - acc: 0.9316 - val_loss: 0.1562 - val_acc: 0.9317\n",
      "Epoch 67/124\n",
      "613376/614939 [============================>.] - ETA: 0s - loss: 0.1553 - acc: 0.9318Epoch 00067: val_loss did not improve\n",
      "614939/614939 [==============================] - 17s 27us/step - loss: 0.1553 - acc: 0.9318 - val_loss: 0.1563 - val_acc: 0.9317\n",
      "Epoch 68/124\n",
      "614400/614939 [============================>.] - ETA: 0s - loss: 0.1557 - acc: 0.9313Epoch 00068: val_loss did not improve\n",
      "614939/614939 [==============================] - 17s 28us/step - loss: 0.1557 - acc: 0.9313 - val_loss: 0.1563 - val_acc: 0.9319\n",
      "Epoch 69/124\n",
      "613376/614939 [============================>.] - ETA: 0s - loss: 0.1554 - acc: 0.9318Epoch 00069: val_loss improved from 0.15621 to 0.15610, saving model to ../../data/cluster/random/weights.bestNN.hdf5\n",
      "614939/614939 [==============================] - 17s 28us/step - loss: 0.1554 - acc: 0.9318 - val_loss: 0.1561 - val_acc: 0.9317\n",
      "Epoch 70/124\n",
      "614400/614939 [============================>.] - ETA: 0s - loss: 0.1553 - acc: 0.9316Epoch 00070: val_loss did not improve\n",
      "614939/614939 [==============================] - 17s 28us/step - loss: 0.1553 - acc: 0.9316 - val_loss: 0.1563 - val_acc: 0.9319\n",
      "Epoch 71/124\n",
      "614400/614939 [============================>.] - ETA: 0s - loss: 0.1551 - acc: 0.9319Epoch 00071: val_loss improved from 0.15610 to 0.15588, saving model to ../../data/cluster/random/weights.bestNN.hdf5\n",
      "614939/614939 [==============================] - 17s 28us/step - loss: 0.1551 - acc: 0.9319 - val_loss: 0.1559 - val_acc: 0.9320\n",
      "Epoch 72/124\n",
      "614400/614939 [============================>.] - ETA: 0s - loss: 0.1550 - acc: 0.9317Epoch 00072: val_loss did not improve\n",
      "614939/614939 [==============================] - 17s 28us/step - loss: 0.1550 - acc: 0.9317 - val_loss: 0.1560 - val_acc: 0.9321\n",
      "Epoch 73/124\n",
      "612352/614939 [============================>.] - ETA: 0s - loss: 0.1544 - acc: 0.9322Epoch 00073: val_loss improved from 0.15588 to 0.15573, saving model to ../../data/cluster/random/weights.bestNN.hdf5\n",
      "614939/614939 [==============================] - 17s 28us/step - loss: 0.1544 - acc: 0.9322 - val_loss: 0.1557 - val_acc: 0.9323\n",
      "Epoch 74/124\n",
      "614400/614939 [============================>.] - ETA: 0s - loss: 0.1552 - acc: 0.9318Epoch 00074: val_loss improved from 0.15573 to 0.15561, saving model to ../../data/cluster/random/weights.bestNN.hdf5\n",
      "614939/614939 [==============================] - 18s 29us/step - loss: 0.1552 - acc: 0.9318 - val_loss: 0.1556 - val_acc: 0.9320\n",
      "Epoch 75/124\n",
      "614400/614939 [============================>.] - ETA: 0s - loss: 0.1549 - acc: 0.9319Epoch 00075: val_loss did not improve\n",
      "614939/614939 [==============================] - 18s 29us/step - loss: 0.1549 - acc: 0.9319 - val_loss: 0.1556 - val_acc: 0.9320\n",
      "Epoch 76/124\n",
      "614400/614939 [============================>.] - ETA: 0s - loss: 0.1545 - acc: 0.9320Epoch 00076: val_loss improved from 0.15561 to 0.15557, saving model to ../../data/cluster/random/weights.bestNN.hdf5\n",
      "614939/614939 [==============================] - 18s 29us/step - loss: 0.1546 - acc: 0.9320 - val_loss: 0.1556 - val_acc: 0.9320\n",
      "Epoch 77/124\n",
      "614400/614939 [============================>.] - ETA: 0s - loss: 0.1546 - acc: 0.9319Epoch 00077: val_loss improved from 0.15557 to 0.15540, saving model to ../../data/cluster/random/weights.bestNN.hdf5\n",
      "614939/614939 [==============================] - 18s 29us/step - loss: 0.1546 - acc: 0.9319 - val_loss: 0.1554 - val_acc: 0.9320\n",
      "Epoch 78/124\n",
      "613376/614939 [============================>.] - ETA: 0s - loss: 0.1546 - acc: 0.9320Epoch 00078: val_loss improved from 0.15540 to 0.15536, saving model to ../../data/cluster/random/weights.bestNN.hdf5\n",
      "614939/614939 [==============================] - 18s 29us/step - loss: 0.1546 - acc: 0.9320 - val_loss: 0.1554 - val_acc: 0.9321\n",
      "Epoch 79/124\n",
      "614400/614939 [============================>.] - ETA: 0s - loss: 0.1541 - acc: 0.9324Epoch 00079: val_loss did not improve\n",
      "614939/614939 [==============================] - 18s 29us/step - loss: 0.1542 - acc: 0.9324 - val_loss: 0.1557 - val_acc: 0.9322\n",
      "Epoch 80/124\n",
      "614400/614939 [============================>.] - ETA: 0s - loss: 0.1548 - acc: 0.9321Epoch 00080: val_loss did not improve\n",
      "614939/614939 [==============================] - 19s 30us/step - loss: 0.1548 - acc: 0.9321 - val_loss: 0.1554 - val_acc: 0.9322\n",
      "Epoch 81/124\n",
      "613376/614939 [============================>.] - ETA: 0s - loss: 0.1539 - acc: 0.9325Epoch 00081: val_loss improved from 0.15536 to 0.15531, saving model to ../../data/cluster/random/weights.bestNN.hdf5\n",
      "614939/614939 [==============================] - 17s 27us/step - loss: 0.1539 - acc: 0.9325 - val_loss: 0.1553 - val_acc: 0.9322\n",
      "Epoch 82/124\n",
      "613376/614939 [============================>.] - ETA: 0s - loss: 0.1548 - acc: 0.9317Epoch 00082: val_loss improved from 0.15531 to 0.15518, saving model to ../../data/cluster/random/weights.bestNN.hdf5\n",
      "614939/614939 [==============================] - 17s 28us/step - loss: 0.1548 - acc: 0.9317 - val_loss: 0.1552 - val_acc: 0.9327\n",
      "Epoch 83/124\n",
      "613376/614939 [============================>.] - ETA: 0s - loss: 0.1541 - acc: 0.9323Epoch 00083: val_loss improved from 0.15518 to 0.15507, saving model to ../../data/cluster/random/weights.bestNN.hdf5\n",
      "614939/614939 [==============================] - 17s 28us/step - loss: 0.1541 - acc: 0.9323 - val_loss: 0.1551 - val_acc: 0.9325\n",
      "Epoch 84/124\n",
      "613376/614939 [============================>.] - ETA: 0s - loss: 0.1543 - acc: 0.9321Epoch 00084: val_loss did not improve\n",
      "614939/614939 [==============================] - 17s 28us/step - loss: 0.1544 - acc: 0.9321 - val_loss: 0.1551 - val_acc: 0.9323\n",
      "Epoch 85/124\n",
      "613376/614939 [============================>.] - ETA: 0s - loss: 0.1538 - acc: 0.9324Epoch 00085: val_loss improved from 0.15507 to 0.15499, saving model to ../../data/cluster/random/weights.bestNN.hdf5\n",
      "614939/614939 [==============================] - 19s 32us/step - loss: 0.1539 - acc: 0.9324 - val_loss: 0.1550 - val_acc: 0.9324\n",
      "Epoch 86/124\n",
      "614400/614939 [============================>.] - ETA: 0s - loss: 0.1538 - acc: 0.9324Epoch 00086: val_loss improved from 0.15499 to 0.15488, saving model to ../../data/cluster/random/weights.bestNN.hdf5\n",
      "614939/614939 [==============================] - 17s 28us/step - loss: 0.1538 - acc: 0.9324 - val_loss: 0.1549 - val_acc: 0.9328\n",
      "Epoch 87/124\n",
      "614400/614939 [============================>.] - ETA: 0s - loss: 0.1539 - acc: 0.9325Epoch 00087: val_loss did not improve\n",
      "614939/614939 [==============================] - 15s 24us/step - loss: 0.1540 - acc: 0.9325 - val_loss: 0.1549 - val_acc: 0.9327\n",
      "Epoch 88/124\n",
      "614400/614939 [============================>.] - ETA: 0s - loss: 0.1541 - acc: 0.9322Epoch 00088: val_loss improved from 0.15488 to 0.15485, saving model to ../../data/cluster/random/weights.bestNN.hdf5\n",
      "614939/614939 [==============================] - 17s 27us/step - loss: 0.1541 - acc: 0.9322 - val_loss: 0.1548 - val_acc: 0.9329\n",
      "Epoch 89/124\n",
      "614400/614939 [============================>.] - ETA: 0s - loss: 0.1537 - acc: 0.9327Epoch 00089: val_loss improved from 0.15485 to 0.15474, saving model to ../../data/cluster/random/weights.bestNN.hdf5\n",
      "614939/614939 [==============================] - 16s 27us/step - loss: 0.1537 - acc: 0.9327 - val_loss: 0.1547 - val_acc: 0.9324\n",
      "Epoch 90/124\n",
      "614400/614939 [============================>.] - ETA: 0s - loss: 0.1539 - acc: 0.9324Epoch 00090: val_loss improved from 0.15474 to 0.15468, saving model to ../../data/cluster/random/weights.bestNN.hdf5\n",
      "614939/614939 [==============================] - 16s 27us/step - loss: 0.1539 - acc: 0.9324 - val_loss: 0.1547 - val_acc: 0.9328\n",
      "Epoch 91/124\n",
      "614400/614939 [============================>.] - ETA: 0s - loss: 0.1538 - acc: 0.9325Epoch 00091: val_loss improved from 0.15468 to 0.15458, saving model to ../../data/cluster/random/weights.bestNN.hdf5\n",
      "614939/614939 [==============================] - 17s 27us/step - loss: 0.1538 - acc: 0.9325 - val_loss: 0.1546 - val_acc: 0.9326\n",
      "Epoch 92/124\n",
      "613376/614939 [============================>.] - ETA: 0s - loss: 0.1533 - acc: 0.9327Epoch 00092: val_loss did not improve\n",
      "614939/614939 [==============================] - 17s 27us/step - loss: 0.1533 - acc: 0.9327 - val_loss: 0.1547 - val_acc: 0.9329\n",
      "Epoch 93/124\n",
      "612352/614939 [============================>.] - ETA: 0s - loss: 0.1535 - acc: 0.9326Epoch 00093: val_loss improved from 0.15458 to 0.15429, saving model to ../../data/cluster/random/weights.bestNN.hdf5\n",
      "614939/614939 [==============================] - 17s 27us/step - loss: 0.1534 - acc: 0.9326 - val_loss: 0.1543 - val_acc: 0.9327\n",
      "Epoch 94/124\n",
      "612352/614939 [============================>.] - ETA: 0s - loss: 0.1532 - acc: 0.9329Epoch 00094: val_loss improved from 0.15429 to 0.15426, saving model to ../../data/cluster/random/weights.bestNN.hdf5\n",
      "614939/614939 [==============================] - 17s 28us/step - loss: 0.1533 - acc: 0.9328 - val_loss: 0.1543 - val_acc: 0.9332\n",
      "Epoch 95/124\n",
      "614400/614939 [============================>.] - ETA: 0s - loss: 0.1531 - acc: 0.9328Epoch 00095: val_loss improved from 0.15426 to 0.15414, saving model to ../../data/cluster/random/weights.bestNN.hdf5\n",
      "614939/614939 [==============================] - 17s 28us/step - loss: 0.1531 - acc: 0.9328 - val_loss: 0.1541 - val_acc: 0.9332\n",
      "Epoch 96/124\n",
      "614400/614939 [============================>.] - ETA: 0s - loss: 0.1533 - acc: 0.9326Epoch 00096: val_loss did not improve\n",
      "614939/614939 [==============================] - 16s 27us/step - loss: 0.1533 - acc: 0.9326 - val_loss: 0.1541 - val_acc: 0.9329\n",
      "Epoch 97/124\n",
      "613376/614939 [============================>.] - ETA: 0s - loss: 0.1532 - acc: 0.9326Epoch 00097: val_loss did not improve\n",
      "614939/614939 [==============================] - 16s 26us/step - loss: 0.1531 - acc: 0.9326 - val_loss: 0.1543 - val_acc: 0.9330\n",
      "Epoch 98/124\n",
      "614400/614939 [============================>.] - ETA: 0s - loss: 0.1530 - acc: 0.9327Epoch 00098: val_loss did not improve\n",
      "614939/614939 [==============================] - 16s 27us/step - loss: 0.1531 - acc: 0.9327 - val_loss: 0.1545 - val_acc: 0.9332\n",
      "Epoch 99/124\n",
      "613376/614939 [============================>.] - ETA: 0s - loss: 0.1528 - acc: 0.9330Epoch 00099: val_loss improved from 0.15414 to 0.15414, saving model to ../../data/cluster/random/weights.bestNN.hdf5\n",
      "614939/614939 [==============================] - 17s 27us/step - loss: 0.1528 - acc: 0.9330 - val_loss: 0.1541 - val_acc: 0.9330\n",
      "Epoch 100/124\n",
      "613376/614939 [============================>.] - ETA: 0s - loss: 0.1527 - acc: 0.9329Epoch 00100: val_loss improved from 0.15414 to 0.15410, saving model to ../../data/cluster/random/weights.bestNN.hdf5\n",
      "614939/614939 [==============================] - 17s 28us/step - loss: 0.1528 - acc: 0.9328 - val_loss: 0.1541 - val_acc: 0.9332\n",
      "Epoch 101/124\n",
      "614400/614939 [============================>.] - ETA: 0s - loss: 0.1528 - acc: 0.9330Epoch 00101: val_loss improved from 0.15410 to 0.15410, saving model to ../../data/cluster/random/weights.bestNN.hdf5\n",
      "614939/614939 [==============================] - 17s 27us/step - loss: 0.1528 - acc: 0.9330 - val_loss: 0.1541 - val_acc: 0.9333\n",
      "Epoch 102/124\n",
      "614400/614939 [============================>.] - ETA: 0s - loss: 0.1530 - acc: 0.9328Epoch 00102: val_loss improved from 0.15410 to 0.15396, saving model to ../../data/cluster/random/weights.bestNN.hdf5\n",
      "614939/614939 [==============================] - 17s 27us/step - loss: 0.1530 - acc: 0.9328 - val_loss: 0.1540 - val_acc: 0.9333\n",
      "Epoch 103/124\n",
      "614400/614939 [============================>.] - ETA: 0s - loss: 0.1533 - acc: 0.9327Epoch 00103: val_loss improved from 0.15396 to 0.15390, saving model to ../../data/cluster/random/weights.bestNN.hdf5\n",
      "614939/614939 [==============================] - 17s 28us/step - loss: 0.1533 - acc: 0.9327 - val_loss: 0.1539 - val_acc: 0.9332\n",
      "Epoch 104/124\n",
      "613376/614939 [============================>.] - ETA: 0s - loss: 0.1525 - acc: 0.9330Epoch 00104: val_loss did not improve\n",
      "614939/614939 [==============================] - 17s 27us/step - loss: 0.1525 - acc: 0.9330 - val_loss: 0.1540 - val_acc: 0.9331\n",
      "Epoch 105/124\n",
      "613376/614939 [============================>.] - ETA: 0s - loss: 0.1529 - acc: 0.9329Epoch 00105: val_loss did not improve\n",
      "614939/614939 [==============================] - 18s 28us/step - loss: 0.1529 - acc: 0.9329 - val_loss: 0.1539 - val_acc: 0.9332\n",
      "Epoch 106/124\n",
      "613376/614939 [============================>.] - ETA: 0s - loss: 0.1526 - acc: 0.9331Epoch 00106: val_loss did not improve\n",
      "614939/614939 [==============================] - 17s 27us/step - loss: 0.1525 - acc: 0.9331 - val_loss: 0.1540 - val_acc: 0.9330\n",
      "Epoch 107/124\n",
      "613376/614939 [============================>.] - ETA: 0s - loss: 0.1528 - acc: 0.9330Epoch 00107: val_loss did not improve\n",
      "614939/614939 [==============================] - 17s 28us/step - loss: 0.1528 - acc: 0.9330 - val_loss: 0.1540 - val_acc: 0.9335\n",
      "Epoch 108/124\n",
      "613376/614939 [============================>.] - ETA: 0s - loss: 0.1522 - acc: 0.9332Epoch 00108: val_loss did not improve\n",
      "614939/614939 [==============================] - 17s 28us/step - loss: 0.1523 - acc: 0.9332 - val_loss: 0.1540 - val_acc: 0.9330\n",
      "Epoch 109/124\n",
      "614400/614939 [============================>.] - ETA: 0s - loss: 0.1522 - acc: 0.9331Epoch 00109: val_loss improved from 0.15390 to 0.15354, saving model to ../../data/cluster/random/weights.bestNN.hdf5\n",
      "614939/614939 [==============================] - 17s 28us/step - loss: 0.1522 - acc: 0.9331 - val_loss: 0.1535 - val_acc: 0.9331\n",
      "Epoch 110/124\n",
      "613376/614939 [============================>.] - ETA: 0s - loss: 0.1526 - acc: 0.9332Epoch 00110: val_loss did not improve\n",
      "614939/614939 [==============================] - 19s 31us/step - loss: 0.1526 - acc: 0.9332 - val_loss: 0.1537 - val_acc: 0.9332\n",
      "Epoch 111/124\n",
      "613376/614939 [============================>.] - ETA: 0s - loss: 0.1525 - acc: 0.9330Epoch 00111: val_loss did not improve\n",
      "614939/614939 [==============================] - 17s 27us/step - loss: 0.1525 - acc: 0.9331 - val_loss: 0.1536 - val_acc: 0.9333\n",
      "Epoch 112/124\n",
      "614400/614939 [============================>.] - ETA: 0s - loss: 0.1523 - acc: 0.9332Epoch 00112: val_loss did not improve\n",
      "614939/614939 [==============================] - 17s 28us/step - loss: 0.1523 - acc: 0.9333 - val_loss: 0.1537 - val_acc: 0.9335\n",
      "Epoch 113/124\n",
      "613376/614939 [============================>.] - ETA: 0s - loss: 0.1525 - acc: 0.9330Epoch 00113: val_loss did not improve\n",
      "614939/614939 [==============================] - 17s 28us/step - loss: 0.1525 - acc: 0.9330 - val_loss: 0.1536 - val_acc: 0.9334\n",
      "Epoch 114/124\n",
      "614400/614939 [============================>.] - ETA: 0s - loss: 0.1524 - acc: 0.9331Epoch 00114: val_loss did not improve\n",
      "614939/614939 [==============================] - 17s 28us/step - loss: 0.1524 - acc: 0.9331 - val_loss: 0.1536 - val_acc: 0.9332\n",
      "Epoch 115/124\n",
      "613376/614939 [============================>.] - ETA: 0s - loss: 0.1518 - acc: 0.9332Epoch 00115: val_loss improved from 0.15354 to 0.15349, saving model to ../../data/cluster/random/weights.bestNN.hdf5\n",
      "614939/614939 [==============================] - 17s 28us/step - loss: 0.1518 - acc: 0.9332 - val_loss: 0.1535 - val_acc: 0.9334\n",
      "Epoch 116/124\n",
      "614400/614939 [============================>.] - ETA: 0s - loss: 0.1520 - acc: 0.9334Epoch 00116: val_loss improved from 0.15349 to 0.15332, saving model to ../../data/cluster/random/weights.bestNN.hdf5\n",
      "614939/614939 [==============================] - 17s 28us/step - loss: 0.1520 - acc: 0.9334 - val_loss: 0.1533 - val_acc: 0.9336\n",
      "Epoch 117/124\n",
      "613376/614939 [============================>.] - ETA: 0s - loss: 0.1519 - acc: 0.9334Epoch 00117: val_loss did not improve\n",
      "614939/614939 [==============================] - 18s 29us/step - loss: 0.1519 - acc: 0.9334 - val_loss: 0.1535 - val_acc: 0.9338\n",
      "Epoch 118/124\n",
      "614400/614939 [============================>.] - ETA: 0s - loss: 0.1520 - acc: 0.9333Epoch 00118: val_loss did not improve\n",
      "614939/614939 [==============================] - 17s 28us/step - loss: 0.1520 - acc: 0.9332 - val_loss: 0.1533 - val_acc: 0.9335\n",
      "Epoch 119/124\n",
      "613376/614939 [============================>.] - ETA: 0s - loss: 0.1516 - acc: 0.9335Epoch 00119: val_loss did not improve\n",
      "614939/614939 [==============================] - 17s 28us/step - loss: 0.1517 - acc: 0.9335 - val_loss: 0.1535 - val_acc: 0.9337\n",
      "Epoch 120/124\n",
      "613376/614939 [============================>.] - ETA: 0s - loss: 0.1520 - acc: 0.9333Epoch 00120: val_loss improved from 0.15332 to 0.15315, saving model to ../../data/cluster/random/weights.bestNN.hdf5\n",
      "614939/614939 [==============================] - 18s 29us/step - loss: 0.1521 - acc: 0.9332 - val_loss: 0.1532 - val_acc: 0.9337\n",
      "Epoch 121/124\n",
      "614400/614939 [============================>.] - ETA: 0s - loss: 0.1517 - acc: 0.9334Epoch 00121: val_loss improved from 0.15315 to 0.15315, saving model to ../../data/cluster/random/weights.bestNN.hdf5\n",
      "614939/614939 [==============================] - 18s 28us/step - loss: 0.1517 - acc: 0.9334 - val_loss: 0.1532 - val_acc: 0.9339\n",
      "Epoch 122/124\n",
      "613376/614939 [============================>.] - ETA: 0s - loss: 0.1517 - acc: 0.9334Epoch 00122: val_loss did not improve\n",
      "614939/614939 [==============================] - 17s 28us/step - loss: 0.1517 - acc: 0.9334 - val_loss: 0.1533 - val_acc: 0.9335\n",
      "Epoch 123/124\n",
      "614400/614939 [============================>.] - ETA: 0s - loss: 0.1517 - acc: 0.9334Epoch 00123: val_loss did not improve\n",
      "614939/614939 [==============================] - 18s 29us/step - loss: 0.1517 - acc: 0.9334 - val_loss: 0.1533 - val_acc: 0.9337\n",
      "Epoch 124/124\n",
      "613376/614939 [============================>.] - ETA: 0s - loss: 0.1518 - acc: 0.9336Epoch 00124: val_loss did not improve\n",
      "614939/614939 [==============================] - 18s 29us/step - loss: 0.1518 - acc: 0.9336 - val_loss: 0.1533 - val_acc: 0.9336\n"
     ]
    }
   ],
   "source": [
    "VERBOSE = 1\n",
    "checkpointer = ModelCheckpoint(filepath=DATA_PATH + 'weights.bestNN.hdf5',\n",
    "                               verbose=VERBOSE,\n",
    "                               save_best_only=True)\n",
    "earlyStop = EarlyStopping(monitor='val_loss', patience=20)\n",
    "start = time.time()\n",
    "history = model.fit(X_train,\n",
    "                    y_train,\n",
    "                    validation_data=(X_valid, y_valid),\n",
    "                    epochs=EPOCHS,\n",
    "                    batch_size=BATCH_SIZE,\n",
    "                    callbacks=[checkpointer, earlyStop],\n",
    "                    verbose=VERBOSE)\n",
    "elapsed = time.time() - start"
   ]
  },
  {
   "cell_type": "code",
   "execution_count": 29,
   "metadata": {
    "collapsed": false
   },
   "outputs": [
    {
     "name": "stdout",
     "output_type": "stream",
     "text": [
      "Time: 34.66 minutes\n"
     ]
    }
   ],
   "source": [
    "print('Time: %.2f minutes' % (elapsed / 60))"
   ]
  },
  {
   "cell_type": "code",
   "execution_count": 30,
   "metadata": {
    "collapsed": false
   },
   "outputs": [
    {
     "data": {
      "image/png": "[encoded data removed]",
      "text/plain": [
       "<matplotlib.figure.Figure at 0x1230332b0>"
      ]
     },
     "metadata": {},
     "output_type": "display_data"
    }
   ],
   "source": [
    "plt.plot(history.history['loss'], 'k-', label='train');\n",
    "plt.plot(history.history['val_loss'], 'r-', label='valid');\n",
    "plt.xlabel('epochs');\n",
    "plt.ylabel('Loss (binary cross-entropy)')\n",
    "#plt.yscale('log');\n",
    "plt.legend(loc='best');"
   ]
  },
  {
   "cell_type": "code",
   "execution_count": 31,
   "metadata": {
    "collapsed": false
   },
   "outputs": [
    {
     "data": {
      "image/png": "[encoded data removed]",
      "text/plain": [
       "<matplotlib.figure.Figure at 0x1251af9e8>"
      ]
     },
     "metadata": {},
     "output_type": "display_data"
    }
   ],
   "source": [
    "plt.plot(history.history['acc'], 'k-', label='train');\n",
    "plt.plot(history.history['val_acc'], 'r-', label='valid');\n",
    "plt.xlabel('epochs');\n",
    "plt.ylabel('Accuracy')\n",
    "#plt.yscale('log');\n",
    "plt.legend(loc='best');"
   ]
  },
  {
   "cell_type": "code",
   "execution_count": 32,
   "metadata": {
    "collapsed": false
   },
   "outputs": [
    {
     "name": "stdout",
     "output_type": "stream",
     "text": [
      "This run: 0.15426\n"
     ]
    }
   ],
   "source": [
    "this_run = np.mean(history.history['val_loss'][-50:])\n",
    "print('This run: %.5f' % this_run)"
   ]
  },
  {
   "cell_type": "code",
   "execution_count": 33,
   "metadata": {
    "collapsed": false
   },
   "outputs": [
    {
     "name": "stdout",
     "output_type": "stream",
     "text": [
      "New Best Model Found!\n",
      "\n",
      "Best validation loss so far: 0.15426\n",
      "Training loss of same model: 0.15310\n",
      "Best hyperparameters found so far:\n"
     ]
    }
   ],
   "source": [
    "if this_run < best_val_loss:\n",
    "    print('New Best Model Found!\\n')\n",
    "    best_val_loss = this_run\n",
    "    train_loss_of_best = np.mean(history.history['loss'][-50:])\n",
    "    best_params = get_params()\n",
    "print('Best validation loss so far: %.5f' % best_val_loss)\n",
    "print('Training loss of same model: %.5f' % train_loss_of_best)\n",
    "print('Best hyperparameters found so far:')"
   ]
  },
  {
   "cell_type": "code",
   "execution_count": 34,
   "metadata": {
    "collapsed": false
   },
   "outputs": [
    {
     "name": "stdout",
     "output_type": "stream",
     "text": [
      "{'BATCH_SIZE': 1024,\n",
      " 'BETA_1': 0.9,\n",
      " 'BETA_2': 0.999,\n",
      " 'DECAY': 0.01,\n",
      " 'DROPOUT': 0,\n",
      " 'EPOCHS': 124,\n",
      " 'EPSILON': 1e-08,\n",
      " 'ETA': 0.1,\n",
      " 'NODES_PER_LAYER': [20, 40, 80, 80, 40, 20, 2]}\n"
     ]
    }
   ],
   "source": [
    "pprint(best_params)"
   ]
  },
  {
   "cell_type": "markdown",
   "metadata": {
    "collapsed": true
   },
   "source": [
    "# Check Performance Against Test Set"
   ]
  },
  {
   "cell_type": "code",
   "execution_count": 35,
   "metadata": {
    "collapsed": false
   },
   "outputs": [],
   "source": [
    "preds = model.predict(X_test)"
   ]
  },
  {
   "cell_type": "code",
   "execution_count": 36,
   "metadata": {
    "collapsed": false
   },
   "outputs": [
    {
     "name": "stdout",
     "output_type": "stream",
     "text": [
      "[[  9.91120636e-01   8.87943897e-03]\n",
      " [  9.99965787e-01   3.41764571e-05]\n",
      " [  9.99916077e-01   8.39519198e-05]\n",
      " [  9.71896291e-01   2.81036608e-02]\n",
      " [  1.69149324e-01   8.30850661e-01]\n",
      " [  9.99942183e-01   5.77775754e-05]\n",
      " [  7.91255236e-01   2.08744794e-01]\n",
      " [  9.81336892e-01   1.86631717e-02]\n",
      " [  8.51366818e-02   9.14863348e-01]\n",
      " [  9.99653459e-01   3.46568675e-04]]\n",
      "[[1 0]\n",
      " [1 0]\n",
      " [1 0]\n",
      " [1 0]\n",
      " [1 0]\n",
      " [1 0]\n",
      " [1 0]\n",
      " [1 0]\n",
      " [1 0]\n",
      " [1 0]]\n"
     ]
    }
   ],
   "source": [
    "print(preds[:10])\n",
    "print(y_test[:10])"
   ]
  },
  {
   "cell_type": "code",
   "execution_count": 37,
   "metadata": {
    "collapsed": true
   },
   "outputs": [],
   "source": [
    "def preds2probs(preds):\n",
    "    return [pred[1] for pred in preds]"
   ]
  },
  {
   "cell_type": "code",
   "execution_count": 38,
   "metadata": {
    "collapsed": false
   },
   "outputs": [
    {
     "data": {
      "text/plain": [
       "[0.008879439,\n",
       " 3.4176457e-05,\n",
       " 8.395192e-05,\n",
       " 0.028103661,\n",
       " 0.83085066,\n",
       " 5.7777575e-05,\n",
       " 0.20874479,\n",
       " 0.018663172,\n",
       " 0.91486335,\n",
       " 0.00034656868]"
      ]
     },
     "execution_count": 38,
     "metadata": {},
     "output_type": "execute_result"
    }
   ],
   "source": [
    "pred_probs = preds2probs(preds)\n",
    "pred_probs[:10]"
   ]
  },
  {
   "cell_type": "code",
   "execution_count": 39,
   "metadata": {
    "collapsed": false
   },
   "outputs": [],
   "source": [
    "def binarize(preds):\n",
    "    return [[round(x) for x in p] for p in preds]\n",
    "\n",
    "def one_cold(one_hot_matrix):\n",
    "    # [[0, 1], [0, 1], [1, 0]] -> [1, 1, 0]\n",
    "    return [argmax(vector) for vector in one_hot_matrix]"
   ]
  },
  {
   "cell_type": "code",
   "execution_count": 40,
   "metadata": {
    "collapsed": false
   },
   "outputs": [
    {
     "name": "stdout",
     "output_type": "stream",
     "text": [
      "[0, 0, 0, 0, 1, 0, 0, 0, 1, 0]\n",
      "[0, 0, 0, 0, 0, 0, 0, 0, 0, 0]\n"
     ]
    }
   ],
   "source": [
    "preds = one_cold(binarize(preds))\n",
    "y_test = one_cold((y_test))\n",
    "\n",
    "print(preds[:10])\n",
    "print(y_test[:10])\n",
    "#print(np.array(preds).sum())\n",
    "#print(y_test.sum())"
   ]
  },
  {
   "cell_type": "code",
   "execution_count": 41,
   "metadata": {
    "collapsed": false
   },
   "outputs": [],
   "source": [
    "def print_cm(tp, tn, fp, fn):\n",
    "    print('Confusion Matrix:')\n",
    "    print('         Predicted:')\n",
    "    print('         \\t1\\t\\t0')\n",
    "    print('Actual: 1\\t%d\\t\\t%d' %(tp, fn))\n",
    "    print('        0\\t%d\\t\\t%d' %(fp, tn))"
   ]
  },
  {
   "cell_type": "code",
   "execution_count": 42,
   "metadata": {
    "collapsed": false
   },
   "outputs": [
    {
     "name": "stdout",
     "output_type": "stream",
     "text": [
      "true pos:  [0 0 0 1]\n",
      "true neg:  [1 0 0 0]\n",
      "false pos: [0 0 1 0]\n",
      "false neg: [0 1 0 0]\n"
     ]
    }
   ],
   "source": [
    "pred = np.array([0, 0, 1, 1])\n",
    "target = np.array([0, 1, 0, 1])\n",
    "print('true pos: ', (pred & target))\n",
    "print('true neg: ', 1 * (np.logical_not(pred) & np.logical_not(target)))\n",
    "print('false pos:', 1 * (pred & np.logical_not(target)))\n",
    "print('false neg:', 1 * (np.logical_not(pred) & target))"
   ]
  },
  {
   "cell_type": "code",
   "execution_count": 43,
   "metadata": {
    "collapsed": false
   },
   "outputs": [],
   "source": [
    "def make_confusion_matrix(targets, pred_probs, threshold, verbose=True):\n",
    "    targets = np.array(targets)\n",
    "    pred_probs = np.array(pred_probs)\n",
    "    preds = 1 * (pred_probs >= threshold)\n",
    "    \n",
    "    #preds_binary = binarize(preds)\n",
    "    tp = sum(preds & targets)\n",
    "    tn = sum(np.logical_not(preds) & np.logical_not(targets))\n",
    "    fp = sum(preds & np.logical_not(targets))\n",
    "    fn = sum(np.logical_not(preds) & targets)\n",
    "    \n",
    "    if verbose:\n",
    "        print_cm(tp, tn, fp, fn)\n",
    "\n",
    "    return {'tp': tp, 'fp': fp,'tn': tn, 'fn': fn}"
   ]
  },
  {
   "cell_type": "code",
   "execution_count": 44,
   "metadata": {
    "collapsed": false
   },
   "outputs": [
    {
     "name": "stdout",
     "output_type": "stream",
     "text": [
      "[0, 0, 0, 0, 0, 0, 0, 0, 0, 0]\n",
      "[0.008879439, 3.4176457e-05, 8.395192e-05, 0.028103661, 0.83085066, 5.7777575e-05, 0.20874479, 0.018663172, 0.91486335, 0.00034656868]\n"
     ]
    }
   ],
   "source": [
    "print(y_test[:10])\n",
    "print(pred_probs[:10])"
   ]
  },
  {
   "cell_type": "code",
   "execution_count": 45,
   "metadata": {
    "collapsed": false
   },
   "outputs": [
    {
     "name": "stdout",
     "output_type": "stream",
     "text": [
      "Confusion Matrix:\n",
      "         Predicted:\n",
      "         \t1\t\t0\n",
      "Actual: 1\t16097\t\t4690\n",
      "        0\t3945\t\t106987\n"
     ]
    }
   ],
   "source": [
    "cm = make_confusion_matrix(y_test, pred_probs, 0.5)"
   ]
  },
  {
   "cell_type": "code",
   "execution_count": 46,
   "metadata": {
    "collapsed": false
   },
   "outputs": [],
   "source": [
    "def get_metrics(cm):\n",
    "    accuracy  = ((cm['tp'] + cm['tn']) /\n",
    "                 (cm['tp'] + cm['tn'] + cm['fp'] + cm['fn']))\n",
    "    precision = cm['tp'] / (cm['tp'] + cm['fp'])\n",
    "    recall    = cm['tp'] / (cm['tp'] + cm['fn'])\n",
    "    F         = 2 * precision * recall / (precision + recall)\n",
    "\n",
    "    print('Accuracy: ', accuracy)\n",
    "    print('Precision:', precision)\n",
    "    print('Recall:   ', recall)\n",
    "    print('F1:       ', F)"
   ]
  },
  {
   "cell_type": "code",
   "execution_count": 47,
   "metadata": {
    "collapsed": false
   },
   "outputs": [
    {
     "name": "stdout",
     "output_type": "stream",
     "text": [
      "Accuracy:  0.934443778043\n",
      "Precision: 0.80316335695\n",
      "Recall:    0.774378217155\n",
      "F1:        0.788508168214\n"
     ]
    }
   ],
   "source": [
    "metrics = get_metrics(cm)"
   ]
  },
  {
   "cell_type": "code",
   "execution_count": 48,
   "metadata": {
    "collapsed": false
   },
   "outputs": [],
   "source": [
    "def get_auc(target, preds):\n",
    "    fpr, tpr, _ = roc_curve(target, preds)\n",
    "    mod_auc = auc(fpr, tpr)\n",
    "    print('AUC:      ', mod_auc)\n",
    "\n",
    "    return { 'fpr': fpr, 'tpr': tpr, 'auc': mod_auc }"
   ]
  },
  {
   "cell_type": "code",
   "execution_count": 49,
   "metadata": {
    "collapsed": true
   },
   "outputs": [],
   "source": [
    "def plot_roc(fpr, tpr):\n",
    "    plt.plot(fpr, tpr, 'k')\n",
    "    plt.plot([0, 1], [0, 1], 'r')\n",
    "    plt.xlabel('False Positive Rate (1 - Specificity)')\n",
    "    plt.ylabel('True Positive Rate (Sensitivity)')\n",
    "    plt.title('ROC Curve')\n",
    "    plt.show()"
   ]
  },
  {
   "cell_type": "code",
   "execution_count": 50,
   "metadata": {
    "collapsed": false
   },
   "outputs": [
    {
     "name": "stdout",
     "output_type": "stream",
     "text": [
      "AUC:       0.973070993747\n"
     ]
    },
    {
     "data": {
      "text/plain": [
       "array([  0.00000000e+00,   0.00000000e+00,   9.01453142e-06, ...,\n",
       "         9.95645981e-01,   9.95664010e-01,   1.00000000e+00])"
      ]
     },
     "execution_count": 50,
     "metadata": {},
     "output_type": "execute_result"
    }
   ],
   "source": [
    "auc_metrics = get_auc(y_test, pred_probs)\n",
    "auc_metrics['fpr']"
   ]
  },
  {
   "cell_type": "code",
   "execution_count": 51,
   "metadata": {
    "collapsed": false
   },
   "outputs": [
    {
     "data": {
      "image/png": "[encoded data removed]",
      "text/plain": [
       "<matplotlib.figure.Figure at 0x1259b1be0>"
      ]
     },
     "metadata": {},
     "output_type": "display_data"
    }
   ],
   "source": [
    "plot_roc(auc_metrics['fpr'], auc_metrics['tpr'])"
   ]
  },
  {
   "cell_type": "code",
   "execution_count": null,
   "metadata": {
    "collapsed": true
   },
   "outputs": [],
   "source": []
  }
 ],
 "metadata": {
  "kernelspec": {
   "display_name": "Python 3",
   "language": "python",
   "name": "python3"
  },
  "language_info": {
   "codemirror_mode": {
    "name": "ipython",
    "version": 3
   },
   "file_extension": ".py",
   "mimetype": "text/x-python",
   "name": "python",
   "nbconvert_exporter": "python",
   "pygments_lexer": "ipython3",
   "version": "3.6.1"
  }
 },
 "nbformat": 4,
 "nbformat_minor": 0
}
