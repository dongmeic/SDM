{
 "cells": [
  {
   "cell_type": "markdown",
   "metadata": {},
   "source": [
    "# Feed-Forward Neural Network\n",
    "This notebook uses a basic (feed-forward) artificial network to predict presence/absence of beetles in raster cells."
   ]
  },
  {
   "cell_type": "code",
   "execution_count": 1,
   "metadata": {
    "collapsed": false
   },
   "outputs": [
    {
     "name": "stderr",
     "output_type": "stream",
     "text": [
      "Using TensorFlow backend.\n"
     ]
    }
   ],
   "source": [
    "import keras\n",
    "import matplotlib.pyplot as plt\n",
    "import numpy as np\n",
    "import os\n",
    "import pandas as pd\n",
    "import sys\n",
    "import time\n",
    "from keras.callbacks import EarlyStopping, ModelCheckpoint \n",
    "from keras.layers import Activation, BatchNormalization, Dense, Dropout\n",
    "from keras.models import Sequential\n",
    "from keras.optimizers import Adam\n",
    "from pprint import pprint\n",
    "from pylab import *\n",
    "from sklearn.metrics import auc, confusion_matrix, roc_auc_score, roc_curve \n",
    "from sklearn.preprocessing import StandardScaler\n",
    "\n",
    "sys.path.append('../')\n",
    "import data_manipulations as manip\n",
    "\n",
    "%matplotlib inline\n",
    "\n",
    "plt.rcParams['figure.figsize'] = 10, 8\n",
    "plt.style.use('ggplot')"
   ]
  },
  {
   "cell_type": "code",
   "execution_count": 2,
   "metadata": {
    "collapsed": false
   },
   "outputs": [
    {
     "data": {
      "text/plain": [
       "['weights.bestNN.hdf5',\n",
       " 'X_test.csv',\n",
       " 'X_train.csv',\n",
       " 'X_train.csv.zip',\n",
       " 'X_valid.csv',\n",
       " 'y_test.csv',\n",
       " 'y_train.csv',\n",
       " 'y_valid.csv']"
      ]
     },
     "execution_count": 2,
     "metadata": {},
     "output_type": "execute_result"
    }
   ],
   "source": [
    "DATA_PATH =  '../../data/cluster/random/'\n",
    "os.listdir(DATA_PATH)"
   ]
  },
  {
   "cell_type": "code",
   "execution_count": 3,
   "metadata": {
    "collapsed": true
   },
   "outputs": [],
   "source": [
    "def load_data(data_dir):\n",
    "    X_train = pd.read_csv(data_dir + 'X_train.csv')\n",
    "    print('X_train:', X_train.shape)\n",
    "    X_valid = pd.read_csv(data_dir + 'X_valid.csv')\n",
    "    print('X_valid:', X_valid.shape)\n",
    "    X_test  = pd.read_csv(data_dir + 'X_test.csv')\n",
    "    print('X_test:',  X_test.shape)\n",
    "    y_train = pd.read_csv(data_dir + 'y_train.csv')\n",
    "    print('y_train:', y_train.shape)\n",
    "    y_valid = pd.read_csv(data_dir + 'y_valid.csv')\n",
    "    print('y_valid:', y_valid.shape)\n",
    "    y_test  = pd.read_csv(data_dir + 'y_test.csv')\n",
    "    print('y_test:',  y_test.shape)\n",
    "    \n",
    "    return [[X_train, y_train], [X_valid, y_valid], [X_test, y_test]]"
   ]
  },
  {
   "cell_type": "code",
   "execution_count": 4,
   "metadata": {
    "collapsed": false
   },
   "outputs": [
    {
     "name": "stdout",
     "output_type": "stream",
     "text": [
      "X_train: (617893, 24)\n",
      "X_valid: (132406, 24)\n",
      "X_test: (132406, 24)\n",
      "y_train: (617893, 1)\n",
      "y_valid: (132406, 1)\n",
      "y_test: (132406, 1)\n"
     ]
    }
   ],
   "source": [
    "[[X_train, y_train], [X_valid, y_valid], [X_test, y_test]] = load_data(\n",
    "    DATA_PATH)"
   ]
  },
  {
   "cell_type": "code",
   "execution_count": 5,
   "metadata": {
    "collapsed": false
   },
   "outputs": [
    {
     "data": {
      "text/plain": [
       "['year',\n",
       " 'meanTemp_Annual',\n",
       " 'meanTemp_AprAug',\n",
       " 'meanTemp_Aug',\n",
       " 'meanMinTemp_DecFeb',\n",
       " 'meanMinTemp_Oct',\n",
       " 'meanMinTemp_Jan',\n",
       " 'meanMinTemp_Mar',\n",
       " 'meanMaxTemp_Aug',\n",
       " 'precip_meanAnnual',\n",
       " 'precip_JunAug',\n",
       " 'vegetation',\n",
       " 'precipPrevious_JunAug',\n",
       " 'precip_OctSep',\n",
       " 'precipPrevious_OctSep',\n",
       " 'precip_growingSeason',\n",
       " 'varPrecip_growingSeason',\n",
       " 'elev_etopo1',\n",
       " 'lat',\n",
       " 'lon',\n",
       " 'studyArea',\n",
       " 'elev_srtm30',\n",
       " 'x',\n",
       " 'y']"
      ]
     },
     "execution_count": 5,
     "metadata": {},
     "output_type": "execute_result"
    }
   ],
   "source": [
    "list(X_train)"
   ]
  },
  {
   "cell_type": "code",
   "execution_count": 6,
   "metadata": {
    "collapsed": false
   },
   "outputs": [],
   "source": [
    "def summarize(df, field, plot=True):\n",
    "    quantiles = df.quantile(q=[0, 0.25, 0.5, 0.75, 1], axis=0)\n",
    "    means = df.mean(axis=0)\n",
    "    \n",
    "    quants = quantiles[field]\n",
    "    values = df[field]\n",
    "    values = values[np.isnan(values) == False]\n",
    "    n_nan  = values[np.isnan(values) == True].sum()\n",
    "    is_finite = np.isfinite(values).all()\n",
    "\n",
    "    print('\\n%s:\\n%10s%10s%10s%10s%10s%10s\\n'\n",
    "          '%10.2f%10.2f%10.2f%10.2f%10.2f%10.2f'\n",
    "          % (field, 'min', '25%', 'med', 'mean', '75%', 'max',\n",
    "             quants[0], quants[0.25], quants[0.5], means[field], \n",
    "             quants[0.75], quants[1]))\n",
    "    if plot:\n",
    "        plt.figure();\n",
    "        plt.hist(values);\n",
    "        plt.title(field);"
   ]
  },
  {
   "cell_type": "code",
   "execution_count": 7,
   "metadata": {
    "collapsed": false
   },
   "outputs": [],
   "source": [
    "#ignore = ['x', 'y', 'year']\n",
    "#for field in list(X_train):\n",
    "    #if field not in ignore:\n",
    "        #summarize(X_train, field, plot=False)\n",
    "        #summarize(X_valid, field, plot=False)\n",
    "        #summarize(X_test,  field, plot=False)"
   ]
  },
  {
   "cell_type": "code",
   "execution_count": 8,
   "metadata": {
    "collapsed": false
   },
   "outputs": [],
   "source": [
    "#for YEAR in range(2000, 2015):\n",
    "#    plt.figure()\n",
    "#    plt.scatter(\n",
    "#        X_train.loc[(y_train['beetle'] == 1) & (X_train['year'] == YEAR), \n",
    "#                    'lon'], \n",
    "#        X_train.loc[(y_train['beetle'] == 1) & (X_train['year'] == YEAR), \n",
    "#                    'lat'],\n",
    "#        alpha=0.1, label=YEAR);\n",
    "#    plt.legend(loc='best');"
   ]
  },
  {
   "cell_type": "code",
   "execution_count": 9,
   "metadata": {
    "collapsed": false
   },
   "outputs": [
    {
     "data": {
      "text/html": [
       "<div>\n",
       "<style>\n",
       "    .dataframe thead tr:only-child th {\n",
       "        text-align: right;\n",
       "    }\n",
       "\n",
       "    .dataframe thead th {\n",
       "        text-align: left;\n",
       "    }\n",
       "\n",
       "    .dataframe tbody tr th {\n",
       "        vertical-align: top;\n",
       "    }\n",
       "</style>\n",
       "<table border=\"1\" class=\"dataframe\">\n",
       "  <thead>\n",
       "    <tr style=\"text-align: right;\">\n",
       "      <th></th>\n",
       "      <th>beetle</th>\n",
       "    </tr>\n",
       "  </thead>\n",
       "  <tbody>\n",
       "    <tr>\n",
       "      <th>0</th>\n",
       "      <td>0</td>\n",
       "    </tr>\n",
       "    <tr>\n",
       "      <th>1</th>\n",
       "      <td>0</td>\n",
       "    </tr>\n",
       "    <tr>\n",
       "      <th>2</th>\n",
       "      <td>0</td>\n",
       "    </tr>\n",
       "    <tr>\n",
       "      <th>3</th>\n",
       "      <td>0</td>\n",
       "    </tr>\n",
       "    <tr>\n",
       "      <th>4</th>\n",
       "      <td>0</td>\n",
       "    </tr>\n",
       "  </tbody>\n",
       "</table>\n",
       "</div>"
      ],
      "text/plain": [
       "   beetle\n",
       "0       0\n",
       "1       0\n",
       "2       0\n",
       "3       0\n",
       "4       0"
      ]
     },
     "execution_count": 9,
     "metadata": {},
     "output_type": "execute_result"
    }
   ],
   "source": [
    "y_train.head()"
   ]
  },
  {
   "cell_type": "code",
   "execution_count": 10,
   "metadata": {
    "collapsed": false
   },
   "outputs": [],
   "source": [
    "# Drop 'studyArea' from predictors (all 1 in the reduced data) and 'x' and\n",
    "# 'y' (perfectly correlated with 'lon' and 'lat')\n",
    "X_train = X_train.drop(['studyArea', 'x', 'y', 'year'], axis=1)\n",
    "X_valid = X_valid.drop(['studyArea', 'x', 'y', 'year'], axis=1)\n",
    "X_test  = X_test.drop(['studyArea', 'x', 'y', 'year'],  axis=1)"
   ]
  },
  {
   "cell_type": "code",
   "execution_count": 11,
   "metadata": {
    "collapsed": false
   },
   "outputs": [
    {
     "data": {
      "text/plain": [
       "meanTemp_Annual             True\n",
       "meanTemp_AprAug             True\n",
       "meanTemp_Aug                True\n",
       "meanMinTemp_DecFeb          True\n",
       "meanMinTemp_Oct             True\n",
       "meanMinTemp_Jan             True\n",
       "meanMinTemp_Mar             True\n",
       "meanMaxTemp_Aug             True\n",
       "precip_meanAnnual           True\n",
       "precip_JunAug               True\n",
       "vegetation                  True\n",
       "precipPrevious_JunAug       True\n",
       "precip_OctSep               True\n",
       "precipPrevious_OctSep       True\n",
       "precip_growingSeason        True\n",
       "varPrecip_growingSeason    False\n",
       "elev_etopo1                 True\n",
       "lat                         True\n",
       "lon                         True\n",
       "elev_srtm30                 True\n",
       "dtype: bool"
      ]
     },
     "execution_count": 11,
     "metadata": {},
     "output_type": "execute_result"
    }
   ],
   "source": [
    "np.isfinite(X_train).all()"
   ]
  },
  {
   "cell_type": "code",
   "execution_count": 12,
   "metadata": {
    "collapsed": false
   },
   "outputs": [
    {
     "name": "stdout",
     "output_type": "stream",
     "text": [
      "X_train: 0.00478076301237\n",
      "X_valid: 0.00493180067369\n",
      "X_test: 0.00518858661994\n"
     ]
    }
   ],
   "source": [
    "print('X_train:', \n",
    "      np.isnan(X_train.varPrecip_growingSeason).sum() / X_train.shape[0])\n",
    "print('X_valid:', \n",
    "      np.isnan(X_valid.varPrecip_growingSeason).sum() / X_valid.shape[0])\n",
    "print('X_test:',  \n",
    "      np.isnan(X_test.varPrecip_growingSeason).sum() / X_test.shape[0])"
   ]
  },
  {
   "cell_type": "code",
   "execution_count": 13,
   "metadata": {
    "collapsed": false
   },
   "outputs": [
    {
     "name": "stdout",
     "output_type": "stream",
     "text": [
      "(614939, 20) (614939, 1)\n",
      "(131753, 20) (131753, 1)\n",
      "(131719, 20) (131719, 1)\n"
     ]
    }
   ],
   "source": [
    "# NaNs in less than 1% of the rows.... just drop\n",
    "def drop_nans(X_df, y_df, field, verbose=True):\n",
    "    X = X_df.copy()\n",
    "    y = y_df.copy()\n",
    "    X = X.loc[np.isnan(X_df[field]) == False, :]\n",
    "    y = y.loc[np.isnan(X_df[field]) == False, :]\n",
    "    \n",
    "    if verbose:\n",
    "        print(X.shape, y.shape)\n",
    "    return X, y\n",
    "\n",
    "\n",
    "X_train, y_train = drop_nans(X_train, y_train, 'varPrecip_growingSeason')\n",
    "X_valid, y_valid = drop_nans(X_valid, y_valid, 'varPrecip_growingSeason')\n",
    "X_test,  y_test  = drop_nans(X_test,  y_test,  'varPrecip_growingSeason')"
   ]
  },
  {
   "cell_type": "code",
   "execution_count": 14,
   "metadata": {
    "collapsed": false
   },
   "outputs": [],
   "source": [
    "# Normalize data to make gradient descent more efficient\n",
    "scaler = StandardScaler()\n",
    "X_train = scaler.fit_transform(X_train)\n",
    "X_valid = scaler.transform(X_valid)\n",
    "X_test  = scaler.transform(X_test)"
   ]
  },
  {
   "cell_type": "code",
   "execution_count": 15,
   "metadata": {
    "collapsed": false
   },
   "outputs": [],
   "source": [
    "def vectorize(y):\n",
    "    y = y.tolist()\n",
    "    for i in range(len(y)):\n",
    "        y[i] = [1, 0] if y[i] == [0] else [0, 1]\n",
    "        \n",
    "    return np.array(y)"
   ]
  },
  {
   "cell_type": "code",
   "execution_count": 16,
   "metadata": {
    "collapsed": false
   },
   "outputs": [],
   "source": [
    "y_train = y_train.as_matrix()\n",
    "y_valid = y_valid.as_matrix()\n",
    "y_test  = y_test.as_matrix()"
   ]
  },
  {
   "cell_type": "code",
   "execution_count": 17,
   "metadata": {
    "collapsed": false
   },
   "outputs": [],
   "source": [
    "y_train = vectorize(y_train)\n",
    "y_valid = vectorize(y_valid)\n",
    "y_test  = vectorize(y_test)"
   ]
  },
  {
   "cell_type": "markdown",
   "metadata": {},
   "source": [
    "# Neural Net Model"
   ]
  },
  {
   "cell_type": "code",
   "execution_count": 18,
   "metadata": {
    "collapsed": false
   },
   "outputs": [
    {
     "data": {
      "text/plain": [
       "(614939, 20)"
      ]
     },
     "execution_count": 18,
     "metadata": {},
     "output_type": "execute_result"
    }
   ],
   "source": [
    "best_val_loss = np.inf\n",
    "X_train.shape"
   ]
  },
  {
   "cell_type": "code",
   "execution_count": 67,
   "metadata": {
    "collapsed": false
   },
   "outputs": [
    {
     "data": {
      "text/plain": [
       "[20, 20, 20, 20, 20, 20, 20, 20, 20, 20, 20, 20, 20, 20, 20, 20, 2]"
      ]
     },
     "execution_count": 67,
     "metadata": {},
     "output_type": "execute_result"
    }
   ],
   "source": [
    "# Params and Hyperparams\n",
    "n_inputs = X_train.shape[1]\n",
    "n_outputs = 2\n",
    "\n",
    "# Current best\n",
    "N_LAYERS = 16\n",
    "NODES_PER_LAYER = ([n_inputs] * N_LAYERS)\n",
    "NODES_PER_LAYER.append(n_outputs)\n",
    "ETA = 0.1\n",
    "DROPOUT = 0    \n",
    "BETA_1 = 0.9\n",
    "BETA_2 = 0.999\n",
    "EPSILON = 1e-08\n",
    "DECAY = 0.01\n",
    "EPOCHS = 100\n",
    "BATCH_SIZE = 1024\n",
    "\n",
    "NODES_PER_LAYER"
   ]
  },
  {
   "cell_type": "code",
   "execution_count": 68,
   "metadata": {
    "collapsed": true
   },
   "outputs": [],
   "source": [
    "def get_params():\n",
    "    return {'NODES_PER_LAYER': NODES_PER_LAYER,\n",
    "            'ETA': ETA,\n",
    "            'DROPOUT': DROPOUT,\n",
    "            'BETA_1': BETA_1,\n",
    "            'BETA_2': BETA_2,\n",
    "            'EPSILON': EPSILON,\n",
    "            'DECAY': DECAY,\n",
    "            'EPOCHS': EPOCHS,\n",
    "            'BATCH_SIZE': BATCH_SIZE}"
   ]
  },
  {
   "cell_type": "code",
   "execution_count": 69,
   "metadata": {
    "collapsed": false
   },
   "outputs": [
    {
     "name": "stdout",
     "output_type": "stream",
     "text": [
      "_________________________________________________________________\n",
      "Layer (type)                 Output Shape              Param #   \n",
      "=================================================================\n",
      "dense_41 (Dense)             (None, 20)                420       \n",
      "_________________________________________________________________\n",
      "batch_normalization_41 (Batc (None, 20)                80        \n",
      "_________________________________________________________________\n",
      "activation_41 (Activation)   (None, 20)                0         \n",
      "_________________________________________________________________\n",
      "dropout_39 (Dropout)         (None, 20)                0         \n",
      "_________________________________________________________________\n",
      "dense_42 (Dense)             (None, 20)                420       \n",
      "_________________________________________________________________\n",
      "batch_normalization_42 (Batc (None, 20)                80        \n",
      "_________________________________________________________________\n",
      "activation_42 (Activation)   (None, 20)                0         \n",
      "_________________________________________________________________\n",
      "dropout_40 (Dropout)         (None, 20)                0         \n",
      "_________________________________________________________________\n",
      "dense_43 (Dense)             (None, 20)                420       \n",
      "_________________________________________________________________\n",
      "batch_normalization_43 (Batc (None, 20)                80        \n",
      "_________________________________________________________________\n",
      "activation_43 (Activation)   (None, 20)                0         \n",
      "_________________________________________________________________\n",
      "dropout_41 (Dropout)         (None, 20)                0         \n",
      "_________________________________________________________________\n",
      "dense_44 (Dense)             (None, 20)                420       \n",
      "_________________________________________________________________\n",
      "batch_normalization_44 (Batc (None, 20)                80        \n",
      "_________________________________________________________________\n",
      "activation_44 (Activation)   (None, 20)                0         \n",
      "_________________________________________________________________\n",
      "dropout_42 (Dropout)         (None, 20)                0         \n",
      "_________________________________________________________________\n",
      "dense_45 (Dense)             (None, 20)                420       \n",
      "_________________________________________________________________\n",
      "batch_normalization_45 (Batc (None, 20)                80        \n",
      "_________________________________________________________________\n",
      "activation_45 (Activation)   (None, 20)                0         \n",
      "_________________________________________________________________\n",
      "dropout_43 (Dropout)         (None, 20)                0         \n",
      "_________________________________________________________________\n",
      "dense_46 (Dense)             (None, 20)                420       \n",
      "_________________________________________________________________\n",
      "batch_normalization_46 (Batc (None, 20)                80        \n",
      "_________________________________________________________________\n",
      "activation_46 (Activation)   (None, 20)                0         \n",
      "_________________________________________________________________\n",
      "dropout_44 (Dropout)         (None, 20)                0         \n",
      "_________________________________________________________________\n",
      "dense_47 (Dense)             (None, 20)                420       \n",
      "_________________________________________________________________\n",
      "batch_normalization_47 (Batc (None, 20)                80        \n",
      "_________________________________________________________________\n",
      "activation_47 (Activation)   (None, 20)                0         \n",
      "_________________________________________________________________\n",
      "dropout_45 (Dropout)         (None, 20)                0         \n",
      "_________________________________________________________________\n",
      "dense_48 (Dense)             (None, 20)                420       \n",
      "_________________________________________________________________\n",
      "batch_normalization_48 (Batc (None, 20)                80        \n",
      "_________________________________________________________________\n",
      "activation_48 (Activation)   (None, 20)                0         \n",
      "_________________________________________________________________\n",
      "dropout_46 (Dropout)         (None, 20)                0         \n",
      "_________________________________________________________________\n",
      "dense_49 (Dense)             (None, 20)                420       \n",
      "_________________________________________________________________\n",
      "batch_normalization_49 (Batc (None, 20)                80        \n",
      "_________________________________________________________________\n",
      "activation_49 (Activation)   (None, 20)                0         \n",
      "_________________________________________________________________\n",
      "dropout_47 (Dropout)         (None, 20)                0         \n",
      "_________________________________________________________________\n",
      "dense_50 (Dense)             (None, 20)                420       \n",
      "_________________________________________________________________\n",
      "batch_normalization_50 (Batc (None, 20)                80        \n",
      "_________________________________________________________________\n",
      "activation_50 (Activation)   (None, 20)                0         \n",
      "_________________________________________________________________\n",
      "dropout_48 (Dropout)         (None, 20)                0         \n",
      "_________________________________________________________________\n",
      "dense_51 (Dense)             (None, 20)                420       \n",
      "_________________________________________________________________\n",
      "batch_normalization_51 (Batc (None, 20)                80        \n",
      "_________________________________________________________________\n",
      "activation_51 (Activation)   (None, 20)                0         \n",
      "_________________________________________________________________\n",
      "dropout_49 (Dropout)         (None, 20)                0         \n",
      "_________________________________________________________________\n",
      "dense_52 (Dense)             (None, 20)                420       \n",
      "_________________________________________________________________\n",
      "batch_normalization_52 (Batc (None, 20)                80        \n",
      "_________________________________________________________________\n",
      "activation_52 (Activation)   (None, 20)                0         \n",
      "_________________________________________________________________\n",
      "dropout_50 (Dropout)         (None, 20)                0         \n",
      "_________________________________________________________________\n",
      "dense_53 (Dense)             (None, 20)                420       \n",
      "_________________________________________________________________\n",
      "batch_normalization_53 (Batc (None, 20)                80        \n",
      "_________________________________________________________________\n",
      "activation_53 (Activation)   (None, 20)                0         \n",
      "_________________________________________________________________\n",
      "dropout_51 (Dropout)         (None, 20)                0         \n",
      "_________________________________________________________________\n",
      "dense_54 (Dense)             (None, 20)                420       \n",
      "_________________________________________________________________\n",
      "batch_normalization_54 (Batc (None, 20)                80        \n",
      "_________________________________________________________________\n",
      "activation_54 (Activation)   (None, 20)                0         \n",
      "_________________________________________________________________\n",
      "dropout_52 (Dropout)         (None, 20)                0         \n",
      "_________________________________________________________________\n",
      "dense_55 (Dense)             (None, 20)                420       \n",
      "_________________________________________________________________\n",
      "batch_normalization_55 (Batc (None, 20)                80        \n",
      "_________________________________________________________________\n",
      "activation_55 (Activation)   (None, 20)                0         \n",
      "_________________________________________________________________\n",
      "dropout_53 (Dropout)         (None, 20)                0         \n",
      "_________________________________________________________________\n",
      "dense_56 (Dense)             (None, 2)                 42        \n",
      "_________________________________________________________________\n",
      "batch_normalization_56 (Batc (None, 2)                 8         \n",
      "_________________________________________________________________\n",
      "activation_56 (Activation)   (None, 2)                 0         \n",
      "=================================================================\n",
      "Total params: 7,550\n",
      "Trainable params: 6,946\n",
      "Non-trainable params: 604\n",
      "_________________________________________________________________\n"
     ]
    }
   ],
   "source": [
    "model = Sequential()\n",
    "\n",
    "# NOTE: \"glorot-normal\" is the same thing as \"Xavier\" initialization\n",
    "model.add(Dense(NODES_PER_LAYER[1], \n",
    "                input_dim=NODES_PER_LAYER[0], \n",
    "                kernel_initializer='glorot_normal'))\n",
    "model.add(BatchNormalization())\n",
    "model.add(Activation('relu'))\n",
    "model.add(Dropout(DROPOUT))\n",
    "\n",
    "# additional hidden layers here\n",
    "for i in range(2, len(NODES_PER_LAYER) - 1):\n",
    "    model.add(Dense(NODES_PER_LAYER[i], \n",
    "                    kernel_initializer='glorot_normal'))\n",
    "    model.add(BatchNormalization())\n",
    "    model.add(Activation('relu'))\n",
    "    model.add(Dropout(DROPOUT))\n",
    "\n",
    "model.add(Dense(NODES_PER_LAYER[-1], kernel_initializer='glorot_normal'))\n",
    "model.add(BatchNormalization())\n",
    "model.add(Activation('softmax'))\n",
    "\n",
    "model.summary()"
   ]
  },
  {
   "cell_type": "code",
   "execution_count": 70,
   "metadata": {
    "collapsed": true
   },
   "outputs": [],
   "source": [
    "adam = Adam(\n",
    "    lr=ETA, beta_1=BETA_1, beta_2=BETA_2, epsilon=EPSILON, decay=DECAY)\n",
    "model.compile(\n",
    "    loss='binary_crossentropy', optimizer=adam, metrics=['accuracy'])"
   ]
  },
  {
   "cell_type": "code",
   "execution_count": 71,
   "metadata": {
    "collapsed": false
   },
   "outputs": [
    {
     "name": "stdout",
     "output_type": "stream",
     "text": [
      "Train on 614939 samples, validate on 131753 samples\n",
      "Epoch 1/100\n",
      "614400/614939 [============================>.] - ETA: 0s - loss: 0.2391 - acc: 0.8898Epoch 00001: val_loss improved from inf to 0.25615, saving model to ../../data/cluster/random/weights.bestNN.hdf5\n",
      "614939/614939 [==============================] - 35s 56us/step - loss: 0.2391 - acc: 0.8899 - val_loss: 0.2561 - val_acc: 0.8806\n",
      "Epoch 2/100\n",
      "613376/614939 [============================>.] - ETA: 0s - loss: 0.2169 - acc: 0.8997Epoch 00002: val_loss improved from 0.25615 to 0.21356, saving model to ../../data/cluster/random/weights.bestNN.hdf5\n",
      "614939/614939 [==============================] - 26s 42us/step - loss: 0.2169 - acc: 0.8997 - val_loss: 0.2136 - val_acc: 0.9009\n",
      "Epoch 3/100\n",
      "614400/614939 [============================>.] - ETA: 0s - loss: 0.2105 - acc: 0.9030Epoch 00003: val_loss improved from 0.21356 to 0.21011, saving model to ../../data/cluster/random/weights.bestNN.hdf5\n",
      "614939/614939 [==============================] - 25s 41us/step - loss: 0.2105 - acc: 0.9030 - val_loss: 0.2101 - val_acc: 0.9038\n",
      "Epoch 4/100\n",
      "613376/614939 [============================>.] - ETA: 0s - loss: 0.2060 - acc: 0.9063Epoch 00004: val_loss improved from 0.21011 to 0.20756, saving model to ../../data/cluster/random/weights.bestNN.hdf5\n",
      "614939/614939 [==============================] - 25s 41us/step - loss: 0.2060 - acc: 0.9063 - val_loss: 0.2076 - val_acc: 0.9048\n",
      "Epoch 5/100\n",
      "613376/614939 [============================>.] - ETA: 0s - loss: 0.2032 - acc: 0.9078Epoch 00005: val_loss improved from 0.20756 to 0.20295, saving model to ../../data/cluster/random/weights.bestNN.hdf5\n",
      "614939/614939 [==============================] - 25s 41us/step - loss: 0.2032 - acc: 0.9078 - val_loss: 0.2030 - val_acc: 0.9078\n",
      "Epoch 6/100\n",
      "613376/614939 [============================>.] - ETA: 0s - loss: 0.2015 - acc: 0.9088Epoch 00006: val_loss improved from 0.20295 to 0.20248, saving model to ../../data/cluster/random/weights.bestNN.hdf5\n",
      "614939/614939 [==============================] - 25s 41us/step - loss: 0.2016 - acc: 0.9088 - val_loss: 0.2025 - val_acc: 0.9082\n",
      "Epoch 7/100\n",
      "614400/614939 [============================>.] - ETA: 0s - loss: 0.2000 - acc: 0.9094Epoch 00007: val_loss improved from 0.20248 to 0.20214, saving model to ../../data/cluster/random/weights.bestNN.hdf5\n",
      "614939/614939 [==============================] - 25s 41us/step - loss: 0.2000 - acc: 0.9094 - val_loss: 0.2021 - val_acc: 0.9087\n",
      "Epoch 8/100\n",
      "613376/614939 [============================>.] - ETA: 0s - loss: 0.1985 - acc: 0.9105Epoch 00008: val_loss did not improve\n",
      "614939/614939 [==============================] - 26s 42us/step - loss: 0.1985 - acc: 0.9105 - val_loss: 0.2040 - val_acc: 0.9062\n",
      "Epoch 9/100\n",
      "613376/614939 [============================>.] - ETA: 0s - loss: 0.1974 - acc: 0.9110Epoch 00009: val_loss improved from 0.20214 to 0.20067, saving model to ../../data/cluster/random/weights.bestNN.hdf5\n",
      "614939/614939 [==============================] - 26s 42us/step - loss: 0.1974 - acc: 0.9110 - val_loss: 0.2007 - val_acc: 0.9082\n",
      "Epoch 10/100\n",
      "613376/614939 [============================>.] - ETA: 0s - loss: 0.1967 - acc: 0.9111Epoch 00010: val_loss improved from 0.20067 to 0.19568, saving model to ../../data/cluster/random/weights.bestNN.hdf5\n",
      "614939/614939 [==============================] - 26s 42us/step - loss: 0.1966 - acc: 0.9112 - val_loss: 0.1957 - val_acc: 0.9118\n",
      "Epoch 11/100\n",
      "613376/614939 [============================>.] - ETA: 0s - loss: 0.1958 - acc: 0.9116Epoch 00011: val_loss improved from 0.19568 to 0.19547, saving model to ../../data/cluster/random/weights.bestNN.hdf5\n",
      "614939/614939 [==============================] - 26s 42us/step - loss: 0.1958 - acc: 0.9116 - val_loss: 0.1955 - val_acc: 0.9116\n",
      "Epoch 12/100\n",
      "614400/614939 [============================>.] - ETA: 0s - loss: 0.1953 - acc: 0.9118Epoch 00012: val_loss improved from 0.19547 to 0.19473, saving model to ../../data/cluster/random/weights.bestNN.hdf5\n",
      "614939/614939 [==============================] - 26s 42us/step - loss: 0.1953 - acc: 0.9118 - val_loss: 0.1947 - val_acc: 0.9119\n",
      "Epoch 13/100\n",
      "613376/614939 [============================>.] - ETA: 0s - loss: 0.1944 - acc: 0.9125Epoch 00013: val_loss improved from 0.19473 to 0.19395, saving model to ../../data/cluster/random/weights.bestNN.hdf5\n",
      "614939/614939 [==============================] - 27s 44us/step - loss: 0.1943 - acc: 0.9125 - val_loss: 0.1940 - val_acc: 0.9125\n",
      "Epoch 14/100\n",
      "613376/614939 [============================>.] - ETA: 0s - loss: 0.1937 - acc: 0.9129Epoch 00014: val_loss improved from 0.19395 to 0.19318, saving model to ../../data/cluster/random/weights.bestNN.hdf5\n",
      "614939/614939 [==============================] - 26s 42us/step - loss: 0.1937 - acc: 0.9129 - val_loss: 0.1932 - val_acc: 0.9132\n",
      "Epoch 15/100\n",
      "614400/614939 [============================>.] - ETA: 0s - loss: 0.1931 - acc: 0.9130Epoch 00015: val_loss did not improve\n",
      "614939/614939 [==============================] - 26s 43us/step - loss: 0.1931 - acc: 0.9130 - val_loss: 0.1943 - val_acc: 0.9125\n",
      "Epoch 16/100\n",
      "614400/614939 [============================>.] - ETA: 0s - loss: 0.1927 - acc: 0.9133Epoch 00016: val_loss improved from 0.19318 to 0.19184, saving model to ../../data/cluster/random/weights.bestNN.hdf5\n",
      "614939/614939 [==============================] - 26s 43us/step - loss: 0.1927 - acc: 0.9133 - val_loss: 0.1918 - val_acc: 0.9137\n",
      "Epoch 17/100\n",
      "614400/614939 [============================>.] - ETA: 0s - loss: 0.1918 - acc: 0.9136Epoch 00017: val_loss improved from 0.19184 to 0.19149, saving model to ../../data/cluster/random/weights.bestNN.hdf5\n",
      "614939/614939 [==============================] - 27s 43us/step - loss: 0.1918 - acc: 0.9136 - val_loss: 0.1915 - val_acc: 0.9139\n",
      "Epoch 18/100\n",
      "614400/614939 [============================>.] - ETA: 0s - loss: 0.1917 - acc: 0.9137Epoch 00018: val_loss did not improve\n",
      "614939/614939 [==============================] - 27s 44us/step - loss: 0.1917 - acc: 0.9137 - val_loss: 0.1919 - val_acc: 0.9137\n",
      "Epoch 19/100\n",
      "614400/614939 [============================>.] - ETA: 0s - loss: 0.1913 - acc: 0.9138Epoch 00019: val_loss did not improve\n",
      "614939/614939 [==============================] - 27s 43us/step - loss: 0.1914 - acc: 0.9138 - val_loss: 0.1915 - val_acc: 0.9139\n",
      "Epoch 20/100\n",
      "613376/614939 [============================>.] - ETA: 0s - loss: 0.1911 - acc: 0.9140Epoch 00020: val_loss improved from 0.19149 to 0.19099, saving model to ../../data/cluster/random/weights.bestNN.hdf5\n",
      "614939/614939 [==============================] - 27s 44us/step - loss: 0.1910 - acc: 0.9140 - val_loss: 0.1910 - val_acc: 0.9145\n",
      "Epoch 21/100\n",
      "614400/614939 [============================>.] - ETA: 0s - loss: 0.1907 - acc: 0.9143Epoch 00021: val_loss improved from 0.19099 to 0.18993, saving model to ../../data/cluster/random/weights.bestNN.hdf5\n",
      "614939/614939 [==============================] - 27s 44us/step - loss: 0.1907 - acc: 0.9143 - val_loss: 0.1899 - val_acc: 0.9147\n",
      "Epoch 22/100\n",
      "614400/614939 [============================>.] - ETA: 0s - loss: 0.1901 - acc: 0.9145Epoch 00022: val_loss improved from 0.18993 to 0.18946, saving model to ../../data/cluster/random/weights.bestNN.hdf5\n",
      "614939/614939 [==============================] - 28s 45us/step - loss: 0.1901 - acc: 0.9145 - val_loss: 0.1895 - val_acc: 0.9149\n",
      "Epoch 23/100\n",
      "613376/614939 [============================>.] - ETA: 0s - loss: 0.1900 - acc: 0.9146Epoch 00023: val_loss did not improve\n",
      "614939/614939 [==============================] - 27s 44us/step - loss: 0.1900 - acc: 0.9146 - val_loss: 0.1896 - val_acc: 0.9152\n",
      "Epoch 24/100\n",
      "613376/614939 [============================>.] - ETA: 0s - loss: 0.1899 - acc: 0.9145Epoch 00024: val_loss did not improve\n",
      "614939/614939 [==============================] - 27s 44us/step - loss: 0.1899 - acc: 0.9145 - val_loss: 0.1896 - val_acc: 0.9147\n",
      "Epoch 25/100\n",
      "613376/614939 [============================>.] - ETA: 0s - loss: 0.1894 - acc: 0.9149Epoch 00025: val_loss improved from 0.18946 to 0.18856, saving model to ../../data/cluster/random/weights.bestNN.hdf5\n",
      "614939/614939 [==============================] - 27s 45us/step - loss: 0.1894 - acc: 0.9150 - val_loss: 0.1886 - val_acc: 0.9156\n",
      "Epoch 26/100\n",
      "614400/614939 [============================>.] - ETA: 0s - loss: 0.1892 - acc: 0.9148Epoch 00026: val_loss improved from 0.18856 to 0.18823, saving model to ../../data/cluster/random/weights.bestNN.hdf5\n",
      "614939/614939 [==============================] - 28s 45us/step - loss: 0.1892 - acc: 0.9148 - val_loss: 0.1882 - val_acc: 0.9154\n",
      "Epoch 27/100\n",
      "614400/614939 [============================>.] - ETA: 0s - loss: 0.1890 - acc: 0.9152Epoch 00027: val_loss did not improve\n",
      "614939/614939 [==============================] - 28s 45us/step - loss: 0.1890 - acc: 0.9152 - val_loss: 0.1886 - val_acc: 0.9153\n",
      "Epoch 28/100\n",
      "613376/614939 [============================>.] - ETA: 0s - loss: 0.1887 - acc: 0.9153Epoch 00028: val_loss improved from 0.18823 to 0.18791, saving model to ../../data/cluster/random/weights.bestNN.hdf5\n",
      "614939/614939 [==============================] - 28s 45us/step - loss: 0.1887 - acc: 0.9153 - val_loss: 0.1879 - val_acc: 0.9155\n",
      "Epoch 29/100\n",
      "614400/614939 [============================>.] - ETA: 0s - loss: 0.1885 - acc: 0.9152Epoch 00029: val_loss improved from 0.18791 to 0.18746, saving model to ../../data/cluster/random/weights.bestNN.hdf5\n",
      "614939/614939 [==============================] - 28s 45us/step - loss: 0.1885 - acc: 0.9152 - val_loss: 0.1875 - val_acc: 0.9160\n",
      "Epoch 30/100\n",
      "614400/614939 [============================>.] - ETA: 0s - loss: 0.1886 - acc: 0.9153Epoch 00030: val_loss improved from 0.18746 to 0.18737, saving model to ../../data/cluster/random/weights.bestNN.hdf5\n",
      "614939/614939 [==============================] - 28s 45us/step - loss: 0.1886 - acc: 0.9153 - val_loss: 0.1874 - val_acc: 0.9165\n",
      "Epoch 31/100\n",
      "614400/614939 [============================>.] - ETA: 0s - loss: 0.1882 - acc: 0.9155Epoch 00031: val_loss improved from 0.18737 to 0.18735, saving model to ../../data/cluster/random/weights.bestNN.hdf5\n",
      "614939/614939 [==============================] - 28s 46us/step - loss: 0.1882 - acc: 0.9155 - val_loss: 0.1873 - val_acc: 0.9160\n",
      "Epoch 32/100\n",
      "614400/614939 [============================>.] - ETA: 0s - loss: 0.1879 - acc: 0.9158Epoch 00032: val_loss did not improve\n",
      "614939/614939 [==============================] - 28s 45us/step - loss: 0.1879 - acc: 0.9157 - val_loss: 0.1874 - val_acc: 0.9158\n",
      "Epoch 33/100\n",
      "613376/614939 [============================>.] - ETA: 0s - loss: 0.1879 - acc: 0.9154Epoch 00033: val_loss improved from 0.18735 to 0.18691, saving model to ../../data/cluster/random/weights.bestNN.hdf5\n",
      "614939/614939 [==============================] - 28s 45us/step - loss: 0.1879 - acc: 0.9154 - val_loss: 0.1869 - val_acc: 0.9166\n",
      "Epoch 34/100\n",
      "613376/614939 [============================>.] - ETA: 0s - loss: 0.1874 - acc: 0.9157Epoch 00034: val_loss improved from 0.18691 to 0.18677, saving model to ../../data/cluster/random/weights.bestNN.hdf5\n",
      "614939/614939 [==============================] - 28s 45us/step - loss: 0.1875 - acc: 0.9157 - val_loss: 0.1868 - val_acc: 0.9164\n",
      "Epoch 35/100\n",
      "613376/614939 [============================>.] - ETA: 0s - loss: 0.1871 - acc: 0.9159Epoch 00035: val_loss improved from 0.18677 to 0.18646, saving model to ../../data/cluster/random/weights.bestNN.hdf5\n",
      "614939/614939 [==============================] - 27s 45us/step - loss: 0.1871 - acc: 0.9159 - val_loss: 0.1865 - val_acc: 0.9165\n",
      "Epoch 36/100\n",
      "613376/614939 [============================>.] - ETA: 0s - loss: 0.1873 - acc: 0.9157Epoch 00036: val_loss did not improve\n",
      "614939/614939 [==============================] - 28s 45us/step - loss: 0.1873 - acc: 0.9157 - val_loss: 0.1868 - val_acc: 0.9160\n",
      "Epoch 37/100\n",
      "614400/614939 [============================>.] - ETA: 0s - loss: 0.1870 - acc: 0.9162Epoch 00037: val_loss improved from 0.18646 to 0.18613, saving model to ../../data/cluster/random/weights.bestNN.hdf5\n",
      "614939/614939 [==============================] - 28s 45us/step - loss: 0.1870 - acc: 0.9161 - val_loss: 0.1861 - val_acc: 0.9167\n",
      "Epoch 38/100\n",
      "614400/614939 [============================>.] - ETA: 0s - loss: 0.1868 - acc: 0.9160Epoch 00038: val_loss improved from 0.18613 to 0.18575, saving model to ../../data/cluster/random/weights.bestNN.hdf5\n",
      "614939/614939 [==============================] - 28s 46us/step - loss: 0.1868 - acc: 0.9160 - val_loss: 0.1858 - val_acc: 0.9165\n",
      "Epoch 39/100\n",
      "613376/614939 [============================>.] - ETA: 0s - loss: 0.1866 - acc: 0.9161Epoch 00039: val_loss improved from 0.18575 to 0.18550, saving model to ../../data/cluster/random/weights.bestNN.hdf5\n",
      "614939/614939 [==============================] - 28s 46us/step - loss: 0.1867 - acc: 0.9161 - val_loss: 0.1855 - val_acc: 0.9170\n",
      "Epoch 40/100\n",
      "614400/614939 [============================>.] - ETA: 0s - loss: 0.1870 - acc: 0.9159Epoch 00040: val_loss did not improve\n",
      "614939/614939 [==============================] - 28s 45us/step - loss: 0.1870 - acc: 0.9159 - val_loss: 0.1859 - val_acc: 0.9169\n",
      "Epoch 41/100\n",
      "613376/614939 [============================>.] - ETA: 0s - loss: 0.1866 - acc: 0.9160Epoch 00041: val_loss did not improve\n",
      "614939/614939 [==============================] - 28s 45us/step - loss: 0.1865 - acc: 0.9160 - val_loss: 0.1856 - val_acc: 0.9165\n",
      "Epoch 42/100\n",
      "613376/614939 [============================>.] - ETA: 0s - loss: 0.1865 - acc: 0.9161Epoch 00042: val_loss improved from 0.18550 to 0.18548, saving model to ../../data/cluster/random/weights.bestNN.hdf5\n",
      "614939/614939 [==============================] - 29s 46us/step - loss: 0.1864 - acc: 0.9161 - val_loss: 0.1855 - val_acc: 0.9167\n",
      "Epoch 43/100\n",
      "613376/614939 [============================>.] - ETA: 0s - loss: 0.1865 - acc: 0.9162Epoch 00043: val_loss improved from 0.18548 to 0.18547, saving model to ../../data/cluster/random/weights.bestNN.hdf5\n",
      "614939/614939 [==============================] - 28s 45us/step - loss: 0.1865 - acc: 0.9162 - val_loss: 0.1855 - val_acc: 0.9169\n",
      "Epoch 44/100\n",
      "613376/614939 [============================>.] - ETA: 0s - loss: 0.1864 - acc: 0.9162Epoch 00044: val_loss did not improve\n",
      "614939/614939 [==============================] - 28s 45us/step - loss: 0.1864 - acc: 0.9162 - val_loss: 0.1855 - val_acc: 0.9170\n",
      "Epoch 45/100\n",
      "614400/614939 [============================>.] - ETA: 0s - loss: 0.1863 - acc: 0.9166Epoch 00045: val_loss improved from 0.18547 to 0.18522, saving model to ../../data/cluster/random/weights.bestNN.hdf5\n",
      "614939/614939 [==============================] - 28s 45us/step - loss: 0.1863 - acc: 0.9166 - val_loss: 0.1852 - val_acc: 0.9173\n",
      "Epoch 46/100\n",
      "613376/614939 [============================>.] - ETA: 0s - loss: 0.1862 - acc: 0.9167Epoch 00046: val_loss improved from 0.18522 to 0.18507, saving model to ../../data/cluster/random/weights.bestNN.hdf5\n",
      "614939/614939 [==============================] - 28s 46us/step - loss: 0.1861 - acc: 0.9167 - val_loss: 0.1851 - val_acc: 0.9168\n",
      "Epoch 47/100\n",
      "614400/614939 [============================>.] - ETA: 0s - loss: 0.1857 - acc: 0.9166Epoch 00047: val_loss did not improve\n",
      "614939/614939 [==============================] - 28s 45us/step - loss: 0.1857 - acc: 0.9166 - val_loss: 0.1855 - val_acc: 0.9161\n",
      "Epoch 48/100\n",
      "613376/614939 [============================>.] - ETA: 0s - loss: 0.1858 - acc: 0.9167Epoch 00048: val_loss improved from 0.18507 to 0.18495, saving model to ../../data/cluster/random/weights.bestNN.hdf5\n",
      "614939/614939 [==============================] - 28s 46us/step - loss: 0.1858 - acc: 0.9167 - val_loss: 0.1849 - val_acc: 0.9172\n",
      "Epoch 49/100\n",
      "614400/614939 [============================>.] - ETA: 0s - loss: 0.1858 - acc: 0.9166Epoch 00049: val_loss improved from 0.18495 to 0.18446, saving model to ../../data/cluster/random/weights.bestNN.hdf5\n",
      "614939/614939 [==============================] - 28s 45us/step - loss: 0.1858 - acc: 0.9166 - val_loss: 0.1845 - val_acc: 0.9173\n",
      "Epoch 50/100\n",
      "613376/614939 [============================>.] - ETA: 0s - loss: 0.1858 - acc: 0.9165Epoch 00050: val_loss did not improve\n",
      "614939/614939 [==============================] - 28s 45us/step - loss: 0.1859 - acc: 0.9165 - val_loss: 0.1845 - val_acc: 0.9174\n",
      "Epoch 51/100\n",
      "613376/614939 [============================>.] - ETA: 0s - loss: 0.1855 - acc: 0.9168Epoch 00051: val_loss improved from 0.18446 to 0.18424, saving model to ../../data/cluster/random/weights.bestNN.hdf5\n",
      "614939/614939 [==============================] - 28s 46us/step - loss: 0.1856 - acc: 0.9168 - val_loss: 0.1842 - val_acc: 0.9174\n",
      "Epoch 52/100\n",
      "614400/614939 [============================>.] - ETA: 0s - loss: 0.1852 - acc: 0.9170Epoch 00052: val_loss improved from 0.18424 to 0.18416, saving model to ../../data/cluster/random/weights.bestNN.hdf5\n",
      "614939/614939 [==============================] - 28s 45us/step - loss: 0.1851 - acc: 0.9170 - val_loss: 0.1842 - val_acc: 0.9176\n",
      "Epoch 53/100\n",
      "613376/614939 [============================>.] - ETA: 0s - loss: 0.1851 - acc: 0.9169Epoch 00053: val_loss improved from 0.18416 to 0.18404, saving model to ../../data/cluster/random/weights.bestNN.hdf5\n",
      "614939/614939 [==============================] - 28s 46us/step - loss: 0.1852 - acc: 0.9169 - val_loss: 0.1840 - val_acc: 0.9176\n",
      "Epoch 54/100\n",
      "614400/614939 [============================>.] - ETA: 0s - loss: 0.1851 - acc: 0.9169Epoch 00054: val_loss improved from 0.18404 to 0.18398, saving model to ../../data/cluster/random/weights.bestNN.hdf5\n",
      "614939/614939 [==============================] - 28s 45us/step - loss: 0.1851 - acc: 0.9169 - val_loss: 0.1840 - val_acc: 0.9175\n",
      "Epoch 55/100\n",
      "614400/614939 [============================>.] - ETA: 0s - loss: 0.1855 - acc: 0.9166Epoch 00055: val_loss did not improve\n",
      "614939/614939 [==============================] - 28s 45us/step - loss: 0.1854 - acc: 0.9166 - val_loss: 0.1843 - val_acc: 0.9175\n",
      "Epoch 56/100\n",
      "613376/614939 [============================>.] - ETA: 0s - loss: 0.1848 - acc: 0.9171Epoch 00056: val_loss did not improve\n",
      "614939/614939 [==============================] - 28s 46us/step - loss: 0.1849 - acc: 0.9171 - val_loss: 0.1840 - val_acc: 0.9176\n",
      "Epoch 57/100\n",
      "613376/614939 [============================>.] - ETA: 0s - loss: 0.1851 - acc: 0.9169Epoch 00057: val_loss improved from 0.18398 to 0.18381, saving model to ../../data/cluster/random/weights.bestNN.hdf5\n",
      "614939/614939 [==============================] - 28s 45us/step - loss: 0.1850 - acc: 0.9169 - val_loss: 0.1838 - val_acc: 0.9176\n",
      "Epoch 58/100\n",
      "613376/614939 [============================>.] - ETA: 0s - loss: 0.1852 - acc: 0.9170Epoch 00058: val_loss improved from 0.18381 to 0.18371, saving model to ../../data/cluster/random/weights.bestNN.hdf5\n",
      "614939/614939 [==============================] - 28s 46us/step - loss: 0.1852 - acc: 0.9170 - val_loss: 0.1837 - val_acc: 0.9177\n",
      "Epoch 59/100\n",
      "614400/614939 [============================>.] - ETA: 0s - loss: 0.1851 - acc: 0.9169Epoch 00059: val_loss improved from 0.18371 to 0.18352, saving model to ../../data/cluster/random/weights.bestNN.hdf5\n",
      "614939/614939 [==============================] - 28s 45us/step - loss: 0.1851 - acc: 0.9169 - val_loss: 0.1835 - val_acc: 0.9177\n",
      "Epoch 60/100\n",
      "614400/614939 [============================>.] - ETA: 0s - loss: 0.1850 - acc: 0.9170Epoch 00060: val_loss did not improve\n",
      "614939/614939 [==============================] - 28s 46us/step - loss: 0.1850 - acc: 0.9170 - val_loss: 0.1838 - val_acc: 0.9174\n",
      "Epoch 61/100\n",
      "614400/614939 [============================>.] - ETA: 0s - loss: 0.1847 - acc: 0.9170Epoch 00061: val_loss improved from 0.18352 to 0.18341, saving model to ../../data/cluster/random/weights.bestNN.hdf5\n",
      "614939/614939 [==============================] - 28s 45us/step - loss: 0.1847 - acc: 0.9170 - val_loss: 0.1834 - val_acc: 0.9180\n",
      "Epoch 62/100\n",
      "613376/614939 [============================>.] - ETA: 0s - loss: 0.1850 - acc: 0.9171Epoch 00062: val_loss did not improve\n",
      "614939/614939 [==============================] - 28s 45us/step - loss: 0.1849 - acc: 0.9171 - val_loss: 0.1835 - val_acc: 0.9177\n",
      "Epoch 63/100\n",
      "613376/614939 [============================>.] - ETA: 0s - loss: 0.1845 - acc: 0.9172Epoch 00063: val_loss improved from 0.18341 to 0.18323, saving model to ../../data/cluster/random/weights.bestNN.hdf5\n",
      "614939/614939 [==============================] - 28s 46us/step - loss: 0.1845 - acc: 0.9171 - val_loss: 0.1832 - val_acc: 0.9177\n",
      "Epoch 64/100\n",
      "614400/614939 [============================>.] - ETA: 0s - loss: 0.1847 - acc: 0.9170Epoch 00064: val_loss improved from 0.18323 to 0.18305, saving model to ../../data/cluster/random/weights.bestNN.hdf5\n",
      "614939/614939 [==============================] - 28s 46us/step - loss: 0.1846 - acc: 0.9170 - val_loss: 0.1831 - val_acc: 0.9180\n",
      "Epoch 65/100\n",
      "614400/614939 [============================>.] - ETA: 0s - loss: 0.1848 - acc: 0.9173Epoch 00065: val_loss did not improve\n",
      "614939/614939 [==============================] - 28s 45us/step - loss: 0.1848 - acc: 0.9173 - val_loss: 0.1832 - val_acc: 0.9178\n",
      "Epoch 66/100\n",
      "614400/614939 [============================>.] - ETA: 0s - loss: 0.1845 - acc: 0.9173Epoch 00066: val_loss improved from 0.18305 to 0.18293, saving model to ../../data/cluster/random/weights.bestNN.hdf5\n",
      "614939/614939 [==============================] - 28s 45us/step - loss: 0.1846 - acc: 0.9173 - val_loss: 0.1829 - val_acc: 0.9182\n",
      "Epoch 67/100\n",
      "614400/614939 [============================>.] - ETA: 0s - loss: 0.1843 - acc: 0.9172Epoch 00067: val_loss did not improve\n",
      "614939/614939 [==============================] - 28s 45us/step - loss: 0.1843 - acc: 0.9172 - val_loss: 0.1831 - val_acc: 0.9183\n",
      "Epoch 68/100\n",
      "613376/614939 [============================>.] - ETA: 0s - loss: 0.1845 - acc: 0.9171Epoch 00068: val_loss improved from 0.18293 to 0.18284, saving model to ../../data/cluster/random/weights.bestNN.hdf5\n",
      "614939/614939 [==============================] - 28s 46us/step - loss: 0.1845 - acc: 0.9171 - val_loss: 0.1828 - val_acc: 0.9181\n",
      "Epoch 69/100\n",
      "613376/614939 [============================>.] - ETA: 0s - loss: 0.1845 - acc: 0.9175Epoch 00069: val_loss did not improve\n",
      "614939/614939 [==============================] - 28s 45us/step - loss: 0.1845 - acc: 0.9176 - val_loss: 0.1829 - val_acc: 0.9179\n",
      "Epoch 70/100\n",
      "614400/614939 [============================>.] - ETA: 0s - loss: 0.1843 - acc: 0.9173Epoch 00070: val_loss did not improve\n",
      "614939/614939 [==============================] - 28s 46us/step - loss: 0.1843 - acc: 0.9173 - val_loss: 0.1830 - val_acc: 0.9180\n",
      "Epoch 71/100\n",
      "614400/614939 [============================>.] - ETA: 0s - loss: 0.1843 - acc: 0.9174Epoch 00071: val_loss improved from 0.18284 to 0.18277, saving model to ../../data/cluster/random/weights.bestNN.hdf5\n",
      "614939/614939 [==============================] - 28s 46us/step - loss: 0.1843 - acc: 0.9174 - val_loss: 0.1828 - val_acc: 0.9179\n",
      "Epoch 72/100\n",
      "613376/614939 [============================>.] - ETA: 0s - loss: 0.1839 - acc: 0.9175Epoch 00072: val_loss improved from 0.18277 to 0.18258, saving model to ../../data/cluster/random/weights.bestNN.hdf5\n",
      "614939/614939 [==============================] - 28s 45us/step - loss: 0.1839 - acc: 0.9175 - val_loss: 0.1826 - val_acc: 0.9180\n",
      "Epoch 73/100\n",
      "613376/614939 [============================>.] - ETA: 0s - loss: 0.1843 - acc: 0.9175Epoch 00073: val_loss did not improve\n",
      "614939/614939 [==============================] - 28s 45us/step - loss: 0.1843 - acc: 0.9175 - val_loss: 0.1828 - val_acc: 0.9182\n",
      "Epoch 74/100\n",
      "614400/614939 [============================>.] - ETA: 0s - loss: 0.1839 - acc: 0.9176Epoch 00074: val_loss did not improve\n",
      "614939/614939 [==============================] - 28s 45us/step - loss: 0.1839 - acc: 0.9176 - val_loss: 0.1826 - val_acc: 0.9185\n",
      "Epoch 75/100\n",
      "614400/614939 [============================>.] - ETA: 0s - loss: 0.1838 - acc: 0.9175Epoch 00075: val_loss did not improve\n",
      "614939/614939 [==============================] - 28s 45us/step - loss: 0.1839 - acc: 0.9175 - val_loss: 0.1828 - val_acc: 0.9183\n",
      "Epoch 76/100\n",
      "614400/614939 [============================>.] - ETA: 0s - loss: 0.1837 - acc: 0.9178Epoch 00076: val_loss improved from 0.18258 to 0.18240, saving model to ../../data/cluster/random/weights.bestNN.hdf5\n",
      "614939/614939 [==============================] - 28s 46us/step - loss: 0.1837 - acc: 0.9178 - val_loss: 0.1824 - val_acc: 0.9182\n",
      "Epoch 77/100\n",
      "613376/614939 [============================>.] - ETA: 0s - loss: 0.1841 - acc: 0.9175Epoch 00077: val_loss improved from 0.18240 to 0.18232, saving model to ../../data/cluster/random/weights.bestNN.hdf5\n",
      "614939/614939 [==============================] - 27s 45us/step - loss: 0.1840 - acc: 0.9175 - val_loss: 0.1823 - val_acc: 0.9182\n",
      "Epoch 78/100\n",
      "614400/614939 [============================>.] - ETA: 0s - loss: 0.1839 - acc: 0.9174Epoch 00078: val_loss did not improve\n",
      "614939/614939 [==============================] - 28s 46us/step - loss: 0.1839 - acc: 0.9174 - val_loss: 0.1824 - val_acc: 0.9185\n",
      "Epoch 79/100\n",
      "614400/614939 [============================>.] - ETA: 0s - loss: 0.1836 - acc: 0.9178Epoch 00079: val_loss did not improve\n",
      "614939/614939 [==============================] - 28s 45us/step - loss: 0.1836 - acc: 0.9178 - val_loss: 0.1824 - val_acc: 0.9182\n",
      "Epoch 80/100\n",
      "613376/614939 [============================>.] - ETA: 0s - loss: 0.1838 - acc: 0.9177Epoch 00080: val_loss improved from 0.18232 to 0.18228, saving model to ../../data/cluster/random/weights.bestNN.hdf5\n",
      "614939/614939 [==============================] - 28s 45us/step - loss: 0.1838 - acc: 0.9177 - val_loss: 0.1823 - val_acc: 0.9187\n",
      "Epoch 81/100\n",
      "614400/614939 [============================>.] - ETA: 0s - loss: 0.1838 - acc: 0.9177Epoch 00081: val_loss improved from 0.18228 to 0.18217, saving model to ../../data/cluster/random/weights.bestNN.hdf5\n",
      "614939/614939 [==============================] - 28s 45us/step - loss: 0.1838 - acc: 0.9177 - val_loss: 0.1822 - val_acc: 0.9184\n",
      "Epoch 82/100\n",
      "614400/614939 [============================>.] - ETA: 0s - loss: 0.1838 - acc: 0.9177Epoch 00082: val_loss improved from 0.18217 to 0.18199, saving model to ../../data/cluster/random/weights.bestNN.hdf5\n",
      "614939/614939 [==============================] - 27s 45us/step - loss: 0.1838 - acc: 0.9177 - val_loss: 0.1820 - val_acc: 0.9184\n",
      "Epoch 83/100\n",
      "614400/614939 [============================>.] - ETA: 0s - loss: 0.1836 - acc: 0.9177Epoch 00083: val_loss did not improve\n",
      "614939/614939 [==============================] - 28s 45us/step - loss: 0.1835 - acc: 0.9177 - val_loss: 0.1820 - val_acc: 0.9185\n",
      "Epoch 84/100\n",
      "614400/614939 [============================>.] - ETA: 0s - loss: 0.1836 - acc: 0.9178Epoch 00084: val_loss did not improve\n",
      "614939/614939 [==============================] - 28s 45us/step - loss: 0.1836 - acc: 0.9178 - val_loss: 0.1822 - val_acc: 0.9181\n",
      "Epoch 85/100\n",
      "613376/614939 [============================>.] - ETA: 0s - loss: 0.1835 - acc: 0.9177Epoch 00085: val_loss improved from 0.18199 to 0.18180, saving model to ../../data/cluster/random/weights.bestNN.hdf5\n",
      "614939/614939 [==============================] - 28s 46us/step - loss: 0.1835 - acc: 0.9177 - val_loss: 0.1818 - val_acc: 0.9186\n",
      "Epoch 86/100\n",
      "614400/614939 [============================>.] - ETA: 0s - loss: 0.1835 - acc: 0.9178Epoch 00086: val_loss did not improve\n",
      "614939/614939 [==============================] - 28s 45us/step - loss: 0.1834 - acc: 0.9179 - val_loss: 0.1821 - val_acc: 0.9181\n",
      "Epoch 87/100\n",
      "613376/614939 [============================>.] - ETA: 0s - loss: 0.1833 - acc: 0.9180Epoch 00087: val_loss did not improve\n",
      "614939/614939 [==============================] - 28s 45us/step - loss: 0.1833 - acc: 0.9180 - val_loss: 0.1819 - val_acc: 0.9185\n",
      "Epoch 88/100\n",
      "614400/614939 [============================>.] - ETA: 0s - loss: 0.1833 - acc: 0.9180Epoch 00088: val_loss did not improve\n",
      "614939/614939 [==============================] - 28s 45us/step - loss: 0.1833 - acc: 0.9180 - val_loss: 0.1821 - val_acc: 0.9183\n",
      "Epoch 89/100\n",
      "613376/614939 [============================>.] - ETA: 0s - loss: 0.1833 - acc: 0.9181Epoch 00089: val_loss did not improve\n",
      "614939/614939 [==============================] - 28s 46us/step - loss: 0.1833 - acc: 0.9180 - val_loss: 0.1818 - val_acc: 0.9186\n",
      "Epoch 90/100\n",
      "613376/614939 [============================>.] - ETA: 0s - loss: 0.1836 - acc: 0.9178Epoch 00090: val_loss improved from 0.18180 to 0.18171, saving model to ../../data/cluster/random/weights.bestNN.hdf5\n",
      "614939/614939 [==============================] - 28s 45us/step - loss: 0.1836 - acc: 0.9178 - val_loss: 0.1817 - val_acc: 0.9188\n",
      "Epoch 91/100\n",
      "614400/614939 [============================>.] - ETA: 0s - loss: 0.1833 - acc: 0.9179Epoch 00091: val_loss improved from 0.18171 to 0.18161, saving model to ../../data/cluster/random/weights.bestNN.hdf5\n",
      "614939/614939 [==============================] - 28s 46us/step - loss: 0.1833 - acc: 0.9179 - val_loss: 0.1816 - val_acc: 0.9187\n",
      "Epoch 92/100\n",
      "614400/614939 [============================>.] - ETA: 0s - loss: 0.1834 - acc: 0.9178Epoch 00092: val_loss did not improve\n",
      "614939/614939 [==============================] - 28s 45us/step - loss: 0.1834 - acc: 0.9178 - val_loss: 0.1817 - val_acc: 0.9188\n",
      "Epoch 93/100\n",
      "613376/614939 [============================>.] - ETA: 0s - loss: 0.1831 - acc: 0.9182Epoch 00093: val_loss improved from 0.18161 to 0.18157, saving model to ../../data/cluster/random/weights.bestNN.hdf5\n",
      "614939/614939 [==============================] - 28s 46us/step - loss: 0.1831 - acc: 0.9182 - val_loss: 0.1816 - val_acc: 0.9185\n",
      "Epoch 94/100\n",
      "613376/614939 [============================>.] - ETA: 0s - loss: 0.1834 - acc: 0.9180Epoch 00094: val_loss improved from 0.18157 to 0.18157, saving model to ../../data/cluster/random/weights.bestNN.hdf5\n",
      "614939/614939 [==============================] - 28s 45us/step - loss: 0.1834 - acc: 0.9180 - val_loss: 0.1816 - val_acc: 0.9188\n",
      "Epoch 95/100\n",
      "613376/614939 [============================>.] - ETA: 0s - loss: 0.1832 - acc: 0.9181Epoch 00095: val_loss improved from 0.18157 to 0.18149, saving model to ../../data/cluster/random/weights.bestNN.hdf5\n",
      "614939/614939 [==============================] - 28s 45us/step - loss: 0.1832 - acc: 0.9181 - val_loss: 0.1815 - val_acc: 0.9187\n",
      "Epoch 96/100\n",
      "614400/614939 [============================>.] - ETA: 0s - loss: 0.1829 - acc: 0.9181Epoch 00096: val_loss improved from 0.18149 to 0.18138, saving model to ../../data/cluster/random/weights.bestNN.hdf5\n",
      "614939/614939 [==============================] - 28s 45us/step - loss: 0.1830 - acc: 0.9182 - val_loss: 0.1814 - val_acc: 0.9188\n",
      "Epoch 97/100\n",
      "614400/614939 [============================>.] - ETA: 0s - loss: 0.1831 - acc: 0.9183Epoch 00097: val_loss improved from 0.18138 to 0.18125, saving model to ../../data/cluster/random/weights.bestNN.hdf5\n",
      "614939/614939 [==============================] - 28s 45us/step - loss: 0.1831 - acc: 0.9183 - val_loss: 0.1813 - val_acc: 0.9187\n",
      "Epoch 98/100\n",
      "613376/614939 [============================>.] - ETA: 0s - loss: 0.1830 - acc: 0.9181Epoch 00098: val_loss did not improve\n",
      "614939/614939 [==============================] - 28s 45us/step - loss: 0.1830 - acc: 0.9181 - val_loss: 0.1816 - val_acc: 0.9186\n",
      "Epoch 99/100\n",
      "614400/614939 [============================>.] - ETA: 0s - loss: 0.1830 - acc: 0.9180Epoch 00099: val_loss did not improve\n",
      "614939/614939 [==============================] - 27s 45us/step - loss: 0.1830 - acc: 0.9180 - val_loss: 0.1814 - val_acc: 0.9185\n",
      "Epoch 100/100\n",
      "614400/614939 [============================>.] - ETA: 0s - loss: 0.1831 - acc: 0.9180Epoch 00100: val_loss did not improve\n",
      "614939/614939 [==============================] - 29s 46us/step - loss: 0.1831 - acc: 0.9180 - val_loss: 0.1815 - val_acc: 0.9190\n"
     ]
    }
   ],
   "source": [
    "VERBOSE = 1\n",
    "checkpointer = ModelCheckpoint(filepath=DATA_PATH + 'weights.bestNN.hdf5',\n",
    "                               verbose=VERBOSE,\n",
    "                               save_best_only=True)\n",
    "earlyStop = EarlyStopping(monitor='val_loss', patience=20)\n",
    "start = time.time()\n",
    "history = model.fit(X_train,\n",
    "                    y_train,\n",
    "                    validation_data=(X_valid, y_valid),\n",
    "                    epochs=EPOCHS,\n",
    "                    batch_size=BATCH_SIZE,\n",
    "                    callbacks=[checkpointer, earlyStop],\n",
    "                    verbose=VERBOSE)\n",
    "elapsed = time.time() - start"
   ]
  },
  {
   "cell_type": "code",
   "execution_count": 72,
   "metadata": {
    "collapsed": false
   },
   "outputs": [
    {
     "name": "stdout",
     "output_type": "stream",
     "text": [
      "Time: 46.06 minutes\n"
     ]
    }
   ],
   "source": [
    "print('Time: %.2f minutes' % (elapsed / 60))"
   ]
  },
  {
   "cell_type": "code",
   "execution_count": 73,
   "metadata": {
    "collapsed": false
   },
   "outputs": [
    {
     "data": {
      "image/png": "[encoded data removed]",
      "text/plain": [
       "<matplotlib.figure.Figure at 0x12ba9fd30>"
      ]
     },
     "metadata": {},
     "output_type": "display_data"
    }
   ],
   "source": [
    "plt.plot(history.history['loss'], 'k-', label='train');\n",
    "plt.plot(history.history['val_loss'], 'r-', label='valid');\n",
    "plt.xlabel('epochs');\n",
    "plt.ylabel('Loss (binary cross-entropy)')\n",
    "#plt.yscale('log');\n",
    "plt.legend(loc='best');"
   ]
  },
  {
   "cell_type": "code",
   "execution_count": 74,
   "metadata": {
    "collapsed": false
   },
   "outputs": [
    {
     "data": {
      "image/png": "[encoded data removed]",
      "text/plain": [
       "<matplotlib.figure.Figure at 0x130a01160>"
      ]
     },
     "metadata": {},
     "output_type": "display_data"
    }
   ],
   "source": [
    "plt.plot(history.history['acc'], 'k-', label='train');\n",
    "plt.plot(history.history['val_acc'], 'r-', label='valid');\n",
    "plt.xlabel('epochs');\n",
    "plt.ylabel('Accuracy')\n",
    "#plt.yscale('log');\n",
    "plt.legend(loc='best');"
   ]
  },
  {
   "cell_type": "code",
   "execution_count": 75,
   "metadata": {
    "collapsed": false
   },
   "outputs": [
    {
     "name": "stdout",
     "output_type": "stream",
     "text": [
      "This run: 0.18262\n"
     ]
    }
   ],
   "source": [
    "this_run = np.mean(history.history['val_loss'][-50:])\n",
    "print('This run: %.5f' % this_run)"
   ]
  },
  {
   "cell_type": "code",
   "execution_count": 76,
   "metadata": {
    "collapsed": false
   },
   "outputs": [
    {
     "name": "stdout",
     "output_type": "stream",
     "text": [
      "New Best Model Found!\n",
      "\n",
      "Best validation loss so far: 0.18262\n",
      "Training loss of same model: 0.18407\n",
      "Best hyperparameters found so far:\n"
     ]
    }
   ],
   "source": [
    "if this_run < best_val_loss:\n",
    "    print('New Best Model Found!\\n')\n",
    "    best_val_loss = this_run\n",
    "    train_loss_of_best = np.mean(history.history['loss'][-50:])\n",
    "    best_params = get_params()\n",
    "print('Best validation loss so far: %.5f' % best_val_loss)\n",
    "print('Training loss of same model: %.5f' % train_loss_of_best)\n",
    "print('Best hyperparameters found so far:')"
   ]
  },
  {
   "cell_type": "code",
   "execution_count": 77,
   "metadata": {
    "collapsed": false
   },
   "outputs": [
    {
     "name": "stdout",
     "output_type": "stream",
     "text": [
      "{'BATCH_SIZE': 1024,\n",
      " 'BETA_1': 0.9,\n",
      " 'BETA_2': 0.999,\n",
      " 'DECAY': 0.01,\n",
      " 'DROPOUT': 0,\n",
      " 'EPOCHS': 100,\n",
      " 'EPSILON': 1e-08,\n",
      " 'ETA': 0.1,\n",
      " 'NODES_PER_LAYER': [20,\n",
      "                     20,\n",
      "                     20,\n",
      "                     20,\n",
      "                     20,\n",
      "                     20,\n",
      "                     20,\n",
      "                     20,\n",
      "                     20,\n",
      "                     20,\n",
      "                     20,\n",
      "                     20,\n",
      "                     20,\n",
      "                     20,\n",
      "                     20,\n",
      "                     20,\n",
      "                     2]}\n"
     ]
    }
   ],
   "source": [
    "pprint(best_params)"
   ]
  },
  {
   "cell_type": "markdown",
   "metadata": {
    "collapsed": true
   },
   "source": [
    "# Check Performance Against Test Set"
   ]
  },
  {
   "cell_type": "code",
   "execution_count": 78,
   "metadata": {
    "collapsed": true
   },
   "outputs": [],
   "source": [
    "preds = model.predict(X_test)"
   ]
  },
  {
   "cell_type": "code",
   "execution_count": 79,
   "metadata": {
    "collapsed": false
   },
   "outputs": [
    {
     "name": "stdout",
     "output_type": "stream",
     "text": [
      "[[  9.52188253e-01   4.78117056e-02]\n",
      " [  9.79239702e-01   2.07602587e-02]\n",
      " [  9.98868883e-01   1.13113446e-03]\n",
      " [  9.83262658e-01   1.67373810e-02]\n",
      " [  3.18006098e-01   6.81993961e-01]\n",
      " [  9.99871016e-01   1.28950662e-04]\n",
      " [  7.23227084e-01   2.76772946e-01]\n",
      " [  9.89556253e-01   1.04437359e-02]\n",
      " [  6.93730533e-01   3.06269467e-01]\n",
      " [  9.98389006e-01   1.61099236e-03]]\n",
      "[0, 0, 0, 0, 0, 0, 0, 0, 0, 0]\n"
     ]
    }
   ],
   "source": [
    "print(preds[:10])\n",
    "print(y_test[:10])"
   ]
  },
  {
   "cell_type": "code",
   "execution_count": 80,
   "metadata": {
    "collapsed": true
   },
   "outputs": [],
   "source": [
    "def preds2probs(preds):\n",
    "    return [pred[1] for pred in preds]"
   ]
  },
  {
   "cell_type": "code",
   "execution_count": 81,
   "metadata": {
    "collapsed": false
   },
   "outputs": [
    {
     "data": {
      "text/plain": [
       "[0.047811706,\n",
       " 0.020760259,\n",
       " 0.0011311345,\n",
       " 0.016737381,\n",
       " 0.68199396,\n",
       " 0.00012895066,\n",
       " 0.27677295,\n",
       " 0.010443736,\n",
       " 0.30626947,\n",
       " 0.0016109924]"
      ]
     },
     "execution_count": 81,
     "metadata": {},
     "output_type": "execute_result"
    }
   ],
   "source": [
    "pred_probs = preds2probs(preds)\n",
    "pred_probs[:10]"
   ]
  },
  {
   "cell_type": "code",
   "execution_count": 82,
   "metadata": {
    "collapsed": false
   },
   "outputs": [],
   "source": [
    "def binarize(preds):\n",
    "    return [[round(x) for x in p] for p in preds]\n",
    "\n",
    "def one_cold(one_hot_matrix):\n",
    "    # [[0, 1], [0, 1], [1, 0]] -> [1, 1, 0]\n",
    "    return [argmax(vector) for vector in one_hot_matrix]"
   ]
  },
  {
   "cell_type": "code",
   "execution_count": 87,
   "metadata": {
    "collapsed": false
   },
   "outputs": [
    {
     "name": "stdout",
     "output_type": "stream",
     "text": [
      "[0, 0, 0, 0, 1, 0, 0, 0, 0, 0]\n",
      "[0, 0, 0, 0, 0, 0, 0, 0, 0, 0]\n"
     ]
    }
   ],
   "source": [
    "preds = one_cold(binarize(preds))\n",
    "y_test = one_cold((y_test))\n",
    "\n",
    "print(preds[:10])\n",
    "print(y_test[:10])"
   ]
  },
  {
   "cell_type": "code",
   "execution_count": 88,
   "metadata": {
    "collapsed": false
   },
   "outputs": [],
   "source": [
    "def print_cm(tp, tn, fp, fn):\n",
    "    print('Confusion Matrix:')\n",
    "    print('         Predicted:')\n",
    "    print('         \\t1\\t\\t0')\n",
    "    print('Actual: 1\\t%d\\t\\t%d' %(tp, fn))\n",
    "    print('        0\\t%d\\t\\t%d' %(fp, tn))"
   ]
  },
  {
   "cell_type": "code",
   "execution_count": 89,
   "metadata": {
    "collapsed": false
   },
   "outputs": [
    {
     "name": "stdout",
     "output_type": "stream",
     "text": [
      "true pos:  [0 0 0 1]\n",
      "true neg:  [1 0 0 0]\n",
      "false pos: [0 0 1 0]\n",
      "false neg: [0 1 0 0]\n"
     ]
    }
   ],
   "source": [
    "pred = np.array([0, 0, 1, 1])\n",
    "target = np.array([0, 1, 0, 1])\n",
    "print('true pos: ', (pred & target))\n",
    "print('true neg: ', 1 * (np.logical_not(pred) & np.logical_not(target)))\n",
    "print('false pos:', 1 * (pred & np.logical_not(target)))\n",
    "print('false neg:', 1 * (np.logical_not(pred) & target))"
   ]
  },
  {
   "cell_type": "code",
   "execution_count": 90,
   "metadata": {
    "collapsed": false
   },
   "outputs": [],
   "source": [
    "def make_confusion_matrix(targets, pred_probs, threshold, verbose=True):\n",
    "    targets = np.array(targets)\n",
    "    pred_probs = np.array(pred_probs)\n",
    "    preds = 1 * (pred_probs >= threshold)\n",
    "    \n",
    "    #preds_binary = binarize(preds)\n",
    "    tp = sum(preds & targets)\n",
    "    tn = sum(np.logical_not(preds) & np.logical_not(targets))\n",
    "    fp = sum(preds & np.logical_not(targets))\n",
    "    fn = sum(np.logical_not(preds) & targets)\n",
    "    \n",
    "    if verbose:\n",
    "        print_cm(tp, tn, fp, fn)\n",
    "\n",
    "    return {'tp': tp, 'fp': fp,'tn': tn, 'fn': fn}"
   ]
  },
  {
   "cell_type": "code",
   "execution_count": 91,
   "metadata": {
    "collapsed": false
   },
   "outputs": [
    {
     "name": "stdout",
     "output_type": "stream",
     "text": [
      "[0, 0, 0, 0, 0, 0, 0, 0, 0, 0]\n",
      "[0.047811706, 0.020760259, 0.0011311345, 0.016737381, 0.68199396, 0.00012895066, 0.27677295, 0.010443736, 0.30626947, 0.0016109924]\n"
     ]
    }
   ],
   "source": [
    "print(y_test[:10])\n",
    "print(pred_probs[:10])"
   ]
  },
  {
   "cell_type": "code",
   "execution_count": 92,
   "metadata": {
    "collapsed": false
   },
   "outputs": [
    {
     "name": "stdout",
     "output_type": "stream",
     "text": [
      "Confusion Matrix:\n",
      "         Predicted:\n",
      "         \t1\t\t0\n",
      "Actual: 1\t14996\t\t5791\n",
      "        0\t4799\t\t106133\n"
     ]
    }
   ],
   "source": [
    "cm = make_confusion_matrix(y_test, pred_probs, 0.5)"
   ]
  },
  {
   "cell_type": "code",
   "execution_count": 93,
   "metadata": {
    "collapsed": false
   },
   "outputs": [],
   "source": [
    "def get_metrics(cm):\n",
    "    accuracy  = ((cm['tp'] + cm['tn']) /\n",
    "                 (cm['tp'] + cm['tn'] + cm['fp'] + cm['fn']))\n",
    "    precision = cm['tp'] / (cm['tp'] + cm['fp'])\n",
    "    recall    = cm['tp'] / (cm['tp'] + cm['fn'])\n",
    "    F         = 2 * precision * recall / (precision + recall)\n",
    "\n",
    "    print('Accuracy: ', accuracy)\n",
    "    print('Precision:', precision)\n",
    "    print('Recall:   ', recall)\n",
    "    print('F1:       ', F)"
   ]
  },
  {
   "cell_type": "code",
   "execution_count": 94,
   "metadata": {
    "collapsed": false
   },
   "outputs": [
    {
     "name": "stdout",
     "output_type": "stream",
     "text": [
      "Accuracy:  0.919601576082\n",
      "Precision: 0.757565041677\n",
      "Recall:    0.721412421225\n",
      "F1:        0.73904686807\n"
     ]
    }
   ],
   "source": [
    "metrics = get_metrics(cm)"
   ]
  },
  {
   "cell_type": "code",
   "execution_count": 95,
   "metadata": {
    "collapsed": false
   },
   "outputs": [],
   "source": [
    "def get_auc(target, preds):\n",
    "    fpr, tpr, _ = roc_curve(target, preds)\n",
    "    mod_auc = auc(fpr, tpr)\n",
    "    print('AUC:      ', mod_auc)\n",
    "\n",
    "    return { 'fpr': fpr, 'tpr': tpr, 'auc': mod_auc }"
   ]
  },
  {
   "cell_type": "code",
   "execution_count": 96,
   "metadata": {
    "collapsed": true
   },
   "outputs": [],
   "source": [
    "def plot_roc(fpr, tpr):\n",
    "    plt.plot(fpr, tpr, 'k')\n",
    "    plt.plot([0, 1], [0, 1], 'r')\n",
    "    plt.xlabel('False Positive Rate (1 - Specificity)')\n",
    "    plt.ylabel('True Positive Rate (Sensitivity)')\n",
    "    plt.title('ROC Curve')\n",
    "    plt.show()"
   ]
  },
  {
   "cell_type": "code",
   "execution_count": 97,
   "metadata": {
    "collapsed": false
   },
   "outputs": [
    {
     "name": "stdout",
     "output_type": "stream",
     "text": [
      "AUC:       0.960709254746\n"
     ]
    },
    {
     "data": {
      "text/plain": [
       "array([  0.00000000e+00,   0.00000000e+00,   9.01453142e-06, ...,\n",
       "         9.78707677e-01,   9.78725706e-01,   1.00000000e+00])"
      ]
     },
     "execution_count": 97,
     "metadata": {},
     "output_type": "execute_result"
    }
   ],
   "source": [
    "auc_metrics = get_auc(y_test, pred_probs)\n",
    "auc_metrics['fpr']"
   ]
  },
  {
   "cell_type": "code",
   "execution_count": 98,
   "metadata": {
    "collapsed": false
   },
   "outputs": [
    {
     "data": {
      "image/png": "[encoded data removed]",
      "text/plain": [
       "<matplotlib.figure.Figure at 0x130a0f748>"
      ]
     },
     "metadata": {},
     "output_type": "display_data"
    }
   ],
   "source": [
    "plot_roc(auc_metrics['fpr'], auc_metrics['tpr'])"
   ]
  },
  {
   "cell_type": "code",
   "execution_count": null,
   "metadata": {
    "collapsed": true
   },
   "outputs": [],
   "source": []
  }
 ],
 "metadata": {
  "kernelspec": {
   "display_name": "Python 3",
   "language": "python",
   "name": "python3"
  },
  "language_info": {
   "codemirror_mode": {
    "name": "ipython",
    "version": 3
   },
   "file_extension": ".py",
   "mimetype": "text/x-python",
   "name": "python",
   "nbconvert_exporter": "python",
   "pygments_lexer": "ipython3",
   "version": "3.6.1"
  }
 },
 "nbformat": 4,
 "nbformat_minor": 0
}
