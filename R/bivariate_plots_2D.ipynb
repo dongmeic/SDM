{
 "cells": [
  {
   "cell_type": "code",
   "execution_count": 1,
   "metadata": {
    "collapsed": true
   },
   "outputs": [],
   "source": [
    "source('/Users/dongmeichen/GitHub/SDM/R/model_output_functions.R')"
   ]
  },
  {
   "cell_type": "code",
   "execution_count": 2,
   "metadata": {
    "collapsed": false
   },
   "outputs": [
    {
     "name": "stdout",
     "output_type": "stream",
     "text": [
      "Merging train data...\n"
     ]
    }
   ],
   "source": [
    "train <- merge.files('train')"
   ]
  },
  {
   "cell_type": "code",
   "execution_count": 3,
   "metadata": {
    "collapsed": true
   },
   "outputs": [],
   "source": [
    "path <- '/Users/dongmeichen/Documents/beetle/data/'\n",
    "out <- '/Users/dongmeichen/Documents/beetle/output/'"
   ]
  },
  {
   "cell_type": "code",
   "execution_count": 4,
   "metadata": {
    "collapsed": true
   },
   "outputs": [],
   "source": [
    "i <- 5\n",
    "model <- paste0('model', i)"
   ]
  },
  {
   "cell_type": "code",
   "execution_count": 5,
   "metadata": {
    "collapsed": false
   },
   "outputs": [],
   "source": [
    "coeff <- read.csv(paste0(path, model,'/coefficients.csv'), stringsAsFactors = FALSE)"
   ]
  },
  {
   "cell_type": "code",
   "execution_count": 6,
   "metadata": {
    "collapsed": false
   },
   "outputs": [
    {
     "name": "stdout",
     "output_type": "stream",
     "text": [
      "Calculated JanTmin_sq ...\n",
      "Calculated etopo1_sq ...\n",
      "Calculated lat_sq ...\n",
      "Calculated Mar20_sq ...\n",
      "Calculated vpd_sq ...\n",
      "Calculated ddAugJul_sq ...\n",
      "Calculated cwd_sq ...\n",
      "Calculated AugMaxT_sq ...\n",
      "Calculated ddAugJun_sq ...\n",
      "Calculated PPT_sq ...\n",
      "Calculated summerP2_sq ...\n",
      "Calculated POctSep_sq ...\n",
      "Calculated Pmean_sq ...\n",
      "Calculated PMarAug_sq ...\n",
      "Calculated max.drop_sq ...\n",
      "Calculated age_sq ...\n",
      "Calculated Acs_sq ...\n",
      "Calculated maxT_sq ...\n",
      "Calculated mi_sq ...\n",
      "Calculated OctTmin_sq ...\n",
      "Calculated OctMin_sq ...\n",
      "Calculated summerP0_sq ...\n",
      "Calculated summerP1_sq ...\n",
      "Calculated sum9_diff_sq ...\n",
      "Calculated PcumOctSep_sq ...\n",
      "Calculated Tmin_sq ...\n",
      "Calculated MarMin_sq ...\n",
      "Calculated wd_sq ...\n",
      "Calculated AugTmean_cub ...\n",
      "Calculated lat_cub ...\n",
      "Calculated TMarAug_cub ...\n",
      "Calculated JanMin_cub ...\n",
      "Calculated minT_cub ...\n",
      "Calculated Jan20_cub ...\n",
      "Calculated fallTmean_cub ...\n",
      "Calculated lon_cub ...\n",
      "Calculated Tvar_cub ...\n",
      "Calculated MarTmin_cub ...\n",
      "Calculated AugTmax_cub ...\n",
      "Calculated winterMin_cub ...\n",
      "Calculated OptTsum_cub ...\n",
      "Calculated age_cub ...\n",
      "Calculated sum9_diff_cub ...\n",
      "Calculated Tmean_cub ...\n",
      "Calculated summerTmean_cub ...\n",
      "Calculated density_cub ...\n",
      "Calculated TOctSep_cub ...\n",
      "[1] \"adding y data...\"\n"
     ]
    }
   ],
   "source": [
    "if(i==1){\n",
    "    ndf <- train[,-which(colnames(train) %in% c(\"x\", \"y\", \"x.new\", \"y.new\", \"xy\"))]\n",
    "}else{\n",
    "    squares <- grep('_sq', coeff$predictor, value=TRUE)\n",
    "    cubes <- grep('_cub', coeff$predictor, value=TRUE)\n",
    "    interactions <- grep(':', coeff$predictor, value=TRUE)\n",
    "    singles <- coeff$predictor[!(coeff$predictor %in% c(squares, cubes, interactions))]\n",
    "    ndf <- get.data.frame(train)\n",
    "}"
   ]
  },
  {
   "cell_type": "code",
   "execution_count": 7,
   "metadata": {
    "collapsed": true
   },
   "outputs": [],
   "source": [
    "if(i==1){\n",
    "    drops <- c('summerP2')\n",
    "}else if(i==2){\n",
    "    drops <- c('summerP1', 'lat:summerP1', 'lon:summerP1', 'etopo1:summerP2')\n",
    "}else if(i==3){\n",
    "    drops <- c('sum9_t1', 'summerP2', 'lon:summerP1', 'lat:summerP0', 'etopo1:summerP2')\n",
    "}else{\n",
    "    drops <- c('sum9_t1', 'summerP2', 'lon:summerP1', 'lat:summerP0', 'etopo1:summerP1', 'density:summerP1')\n",
    "}"
   ]
  },
  {
   "cell_type": "code",
   "execution_count": 8,
   "metadata": {
    "collapsed": true
   },
   "outputs": [],
   "source": [
    "strings <- capture.output(var.string(coeff, drops))\n",
    "mod.string <- paste0('glm(btl_t ~ ', strings, ', data=ndf, family=binomial())')"
   ]
  },
  {
   "cell_type": "code",
   "execution_count": 9,
   "metadata": {
    "collapsed": false
   },
   "outputs": [
    {
     "data": {
      "text/plain": [
       "    user   system  elapsed \n",
       " 991.293   49.780 1162.880 "
      ]
     },
     "metadata": {},
     "output_type": "display_data"
    }
   ],
   "source": [
    "ptm <- proc.time()\n",
    "mod <- eval(parse(text=mod.string))\n",
    "proc.time() - ptm"
   ]
  },
  {
   "cell_type": "code",
   "execution_count": 10,
   "metadata": {
    "collapsed": true
   },
   "outputs": [],
   "source": [
    "system(\"say 'I am done'\")"
   ]
  },
  {
   "cell_type": "code",
   "execution_count": 11,
   "metadata": {
    "collapsed": false
   },
   "outputs": [
    {
     "data": {
      "text/plain": [
       "\n",
       "Call:\n",
       "glm(formula = btl_t ~ density:Tmean + lat:TMarAug + AugTmean_cub + \n",
       "    sum9_diff + lat_cub + TMarAug_cub + lon:lat:etopo1 + density:TMarAug + \n",
       "    etopo1:vpd + JanTmin_sq + lon:sum9_diff + lon:Jan20 + sum9_t2 + \n",
       "    density:TOctSep + density:vpd + lat:maxAugT + JanMin_cub + \n",
       "    Acs + etopo1 + etopo1:AugTmean + etopo1_sq + minT_cub + lat:AugTmean + \n",
       "    lon:JanTmin + etopo1:cwd + lat:summerTmean + lat_sq + maxAugT + \n",
       "    OctMin + Tvar + lat:OctTmin + Jan20_cub + lat:mi + Tmean + \n",
       "    lon:Mar20 + lon:OctMin + PMarAug + etopo1:TOctSep + Tmin + \n",
       "    etopo1:mi + lon:summerP0 + lon:Acs + lon:Tmean + fallTmean_cub + \n",
       "    MarMin + lon:Tmin + lat:fallTmean + lat:maxT + lat:JanTmin + \n",
       "    lat:POctSep + lat:TOctSep + lon:summerP2 + lon_cub + etopo1:OctTmin + \n",
       "    lat:sum9_diff + etopo1:ddAugJul + lon:AugTmean + Jan20 + \n",
       "    ddAugJun + summerTmean + lat:MarTmin + vgt + lon:OctTmin + \n",
       "    Mar20_sq + vpd_sq + lon:maxAugT + etopo1:MarTmin + etopo1:maxAugT + \n",
       "    lon + etopo1:summerTmean + fallTmean + winterMin + lon:vpd + \n",
       "    density:fallTmean + ddAugJul_sq + sum9_t1:sum9_t2 + ddAugJul + \n",
       "    etopo1:Tvar + lat:minT + lon:mi + JanMin + lon:POctSep + \n",
       "    etopo1:maxT + lat:PPT + etopo1:fallTmean + maxT + wd + etopo1:ddAugJun + \n",
       "    etopo1:wd + cwd_sq + lat:winterMin + lat:OptTsum + etopo1:Tmin + \n",
       "    density + summerP0 + max.drop + etopo1:PPT + lat:PMarAug + \n",
       "    etopo1:TMarAug + AugMaxT_sq + lat:vpd + lat:cwd + ddAugJun_sq + \n",
       "    density:minT + vpd + PPT_sq + summerP2_sq + POctSep_sq + \n",
       "    etopo1:Tmean + lon:MarTmin + lon:JanMin + AugTmean + density:winterMin + \n",
       "    lat:MarMin + lat:Pmean + density:cwd + Pmean_sq + lat:PcumOctSep + \n",
       "    lat:summerP1 + lon:AugMaxT + lat + lon:minT + cwd + lat:summerP2 + \n",
       "    etopo1:OctMin + lat:Tvar + lon:Pmean + density:JanMin + lat:Tmean + \n",
       "    lon:PcumOctSep + Tvar_cub + lat:Acs + lon:PMarAug + MarTmin_cub + \n",
       "    btl_t1 + lon:wd + density:PPT + PMarAug_sq + max.drop_sq + \n",
       "    age_sq + age + lat:Mar20 + TOctSep + btl_t2 + density:POctSep + \n",
       "    PPT + lat:JanMin + Acs_sq + lon:summerTmean + etopo1:PcumOctSep + \n",
       "    maxT_sq + AugTmax + mi + etopo1:MarMin + density:Tmin + etopo1:Acs + \n",
       "    density:AugMaxT + density:max.drop + lon:TMarAug + AugTmax_cub + \n",
       "    density:AugTmax + lat:Tmin + density:Pmean + mi_sq + OctTmin + \n",
       "    summerP1 + lat:max.drop + OptTsum + JanTmin + lon:ddAugJun + \n",
       "    density:MarTmin + etopo1:JanMin + OctTmin_sq + lon:AugTmax + \n",
       "    lat:ddAugJun + density:wd + etopo1:AugTmax + winterMin_cub + \n",
       "    density:mi + lon:fallTmean + density:AugTmean + lon:PPT + \n",
       "    lon:maxT + OptTsum_cub + OctMin_sq + etopo1:OptTsum + etopo1:Mar20 + \n",
       "    AugMaxT + Mar20 + etopo1:minT + TMarAug + density:summerP0 + \n",
       "    lat:ddAugJul + lat:wd + density:summerTmean + etopo1:winterMin + \n",
       "    age_cub + lat:OctMin + sum9_diff_cub + lat:AugTmax + POctSep + \n",
       "    lon:ddAugJul + etopo1:PMarAug + etopo1:sum9_diff + lon:MarMin + \n",
       "    lon:max.drop + lon:TOctSep + Tmean_cub + etopo1:Jan20 + etopo1:max.drop + \n",
       "    density:Mar20 + density:PcumOctSep + etopo1:Pmean + summerP0_sq + \n",
       "    density:ddAugJul + etopo1:JanTmin + summerP1_sq + etopo1:POctSep + \n",
       "    Pmean + etopo1:AugMaxT + btl_t1:btl_t2 + density:maxAugT + \n",
       "    lat:Jan20 + PcumOctSep + lon:winterMin + MarTmin + lat:AugMaxT + \n",
       "    density:ddAugJun + sum9_diff_sq + density:OctMin + density:PMarAug + \n",
       "    lon:OptTsum + summerTmean_cub + density:OctTmin + density:maxT + \n",
       "    density:MarMin + density:sum9_diff + density:summerP2 + density:Jan20 + \n",
       "    age:density + lon:cwd + density_cub + PcumOctSep_sq + density:Tvar + \n",
       "    etopo1:summerP0 + lon:Tvar + etopo1:summerP2 + Tmin_sq + \n",
       "    TOctSep_cub + age:density:sum9_diff + density:OptTsum + MarMin_sq + \n",
       "    wd_sq + age:sum9_diff + density:JanTmin + density:Acs + minT, \n",
       "    family = binomial(), data = ndf)\n",
       "\n",
       "Deviance Residuals: \n",
       "    Min       1Q   Median       3Q      Max  \n",
       "-2.8113  -0.1829  -0.0704  -0.0136   4.3899  \n",
       "\n",
       "Coefficients:\n",
       "                        Estimate Std. Error z value Pr(>|z|)    \n",
       "(Intercept)           -2.185e+02  1.338e+01 -16.332  < 2e-16 ***\n",
       "AugTmean_cub           8.856e-04  6.671e-05  13.276  < 2e-16 ***\n",
       "sum9_diff             -9.982e-01  5.773e-02 -17.290  < 2e-16 ***\n",
       "lat_cub               -4.071e-04  7.269e-05  -5.601 2.14e-08 ***\n",
       "TMarAug_cub           -6.531e-04  1.822e-04  -3.585 0.000337 ***\n",
       "JanTmin_sq            -4.227e-03  5.354e-04  -7.895 2.90e-15 ***\n",
       "sum9_t2                5.589e-01  8.891e-03  62.858  < 2e-16 ***\n",
       "JanMin_cub            -4.747e-05  2.641e-06 -17.974  < 2e-16 ***\n",
       "Acs                   -6.884e-01  7.371e-02  -9.340  < 2e-16 ***\n",
       "etopo1                 1.281e-02  1.020e-03  12.551  < 2e-16 ***\n",
       "etopo1_sq             -9.425e-07  6.851e-08 -13.756  < 2e-16 ***\n",
       "minT_cub               3.835e-05  8.825e-06   4.346 1.39e-05 ***\n",
       "lat_sq                 3.544e-02  1.015e-02   3.493 0.000478 ***\n",
       "maxAugT               -1.054e-02  5.661e-02  -0.186 0.852278    \n",
       "OctMin                -3.610e-01  5.261e-02  -6.861 6.83e-12 ***\n",
       "Tvar                  -3.122e+00  7.716e-01  -4.045 5.22e-05 ***\n",
       "Jan20_cub             -2.075e-04  1.202e-05 -17.265  < 2e-16 ***\n",
       "Tmean                  1.653e+01  1.389e+00  11.901  < 2e-16 ***\n",
       "PMarAug               -1.593e-02  5.244e-03  -3.037 0.002386 ** \n",
       "Tmin                  -4.687e+00  3.301e-01 -14.200  < 2e-16 ***\n",
       "fallTmean_cub          1.162e-03  1.770e-04   6.566 5.17e-11 ***\n",
       "MarMin                 1.874e-01  4.685e-02   3.999 6.37e-05 ***\n",
       "lon_cub                2.403e-05  1.535e-06  15.657  < 2e-16 ***\n",
       "Jan20                  3.448e-01  7.327e-02   4.706 2.52e-06 ***\n",
       "ddAugJun              -9.695e-02  2.144e-02  -4.521 6.14e-06 ***\n",
       "summerTmean            3.620e+00  7.582e-01   4.775 1.80e-06 ***\n",
       "vgt                    1.187e+00  2.730e-02  43.474  < 2e-16 ***\n",
       "Mar20_sq              -7.318e-03  6.511e-04 -11.239  < 2e-16 ***\n",
       "vpd_sq                -1.039e-10  8.802e-12 -11.808  < 2e-16 ***\n",
       "lon                   -2.255e+00  8.903e-02 -25.324  < 2e-16 ***\n",
       "fallTmean             -8.536e-01  3.267e-01  -2.613 0.008984 ** \n",
       "winterMin              1.431e+00  1.689e-01   8.472  < 2e-16 ***\n",
       "ddAugJul_sq            4.526e-08  3.546e-07   0.128 0.898421    \n",
       "ddAugJul               9.200e-02  2.121e-02   4.337 1.44e-05 ***\n",
       "JanMin                -1.185e-01  5.193e-02  -2.282 0.022497 *  \n",
       "maxT                  -1.599e-01  1.411e-01  -1.133 0.257263    \n",
       "wd                    -3.609e-04  1.671e-03  -0.216 0.828952    \n",
       "cwd_sq                 2.776e-06  9.470e-07   2.932 0.003372 ** \n",
       "density                1.881e-05  8.589e-06   2.190 0.028556 *  \n",
       "summerP0               8.166e-02  6.068e-03  13.458  < 2e-16 ***\n",
       "max.drop              -7.207e-02  7.541e-02  -0.956 0.339258    \n",
       "AugMaxT_sq            -1.252e-03  6.639e-04  -1.886 0.059257 .  \n",
       "ddAugJun_sq            9.971e-08  3.589e-07   0.278 0.781139    \n",
       "vpd                   -1.342e-04  2.219e-05  -6.047 1.48e-09 ***\n",
       "PPT_sq                -3.056e-08  3.125e-09  -9.777  < 2e-16 ***\n",
       "summerP2_sq            7.742e-06  1.485e-06   5.213 1.85e-07 ***\n",
       "POctSep_sq            -4.817e-07  1.279e-07  -3.767 0.000165 ***\n",
       "AugTmean              -2.440e+00  5.668e-01  -4.304 1.68e-05 ***\n",
       "Pmean_sq               9.528e-06  1.841e-05   0.517 0.604819    \n",
       "lat                   -1.086e+00  4.890e-01  -2.220 0.026391 *  \n",
       "cwd                    4.395e-02  6.068e-03   7.243 4.39e-13 ***\n",
       "Tvar_cub               4.085e-04  2.013e-04   2.029 0.042463 *  \n",
       "MarTmin_cub            1.706e-04  2.753e-05   6.198 5.73e-10 ***\n",
       "btl_t1                 8.477e-01  2.265e-02  37.422  < 2e-16 ***\n",
       "PMarAug_sq            -1.420e-06  4.704e-07  -3.018 0.002543 ** \n",
       "max.drop_sq           -4.625e-03  7.927e-04  -5.835 5.39e-09 ***\n",
       "age_sq                -2.105e-05  2.417e-06  -8.709  < 2e-16 ***\n",
       "age                    4.347e-03  3.591e-04  12.107  < 2e-16 ***\n",
       "TOctSep               -1.075e+01  1.709e+00  -6.294 3.10e-10 ***\n",
       "btl_t2                 8.091e-01  2.414e-02  33.514  < 2e-16 ***\n",
       "PPT                   -9.196e-03  6.075e-04 -15.137  < 2e-16 ***\n",
       "Acs_sq                 2.061e-03  6.155e-04   3.349 0.000812 ***\n",
       "maxT_sq                2.697e-03  7.305e-04   3.692 0.000222 ***\n",
       "AugTmax                4.986e+00  3.382e-01  14.741  < 2e-16 ***\n",
       "mi                     6.760e+00  2.267e+00   2.982 0.002868 ** \n",
       "AugTmax_cub           -3.806e-04  1.955e-05 -19.466  < 2e-16 ***\n",
       "mi_sq                  9.144e-02  1.515e-02   6.037 1.57e-09 ***\n",
       "OctTmin               -2.837e-01  1.670e-01  -1.698 0.089430 .  \n",
       "summerP1              -7.415e-03  4.076e-03  -1.819 0.068887 .  \n",
       "OptTsum                3.044e-03  2.725e-02   0.112 0.911063    \n",
       "JanTmin                1.300e+00  1.189e-01  10.930  < 2e-16 ***\n",
       "OctTmin_sq            -1.884e-03  1.320e-03  -1.428 0.153369    \n",
       "winterMin_cub          1.405e-05  8.716e-06   1.612 0.106931    \n",
       "OptTsum_cub           -6.711e-07  2.298e-07  -2.921 0.003494 ** \n",
       "OctMin_sq             -1.011e-03  2.919e-04  -3.464 0.000533 ***\n",
       "AugMaxT                1.022e+00  1.271e-01   8.045 8.61e-16 ***\n",
       "Mar20                 -5.157e-02  1.025e-01  -0.503 0.614967    \n",
       "TMarAug               -6.419e+00  1.014e+00  -6.333 2.41e-10 ***\n",
       "age_cub                2.466e-08  3.693e-09   6.679 2.41e-11 ***\n",
       "sum9_diff_cub         -1.769e-03  8.784e-05 -20.144  < 2e-16 ***\n",
       "POctSep                8.727e-03  4.733e-03   1.844 0.065207 .  \n",
       "Tmean_cub             -3.010e-03  7.948e-04  -3.787 0.000152 ***\n",
       "summerP0_sq           -1.059e-05  3.206e-06  -3.303 0.000957 ***\n",
       "summerP1_sq           -7.531e-06  2.941e-06  -2.561 0.010434 *  \n",
       "Pmean                 -1.293e-02  5.117e-02  -0.253 0.800479    \n",
       "PcumOctSep             2.059e-02  4.701e-03   4.381 1.18e-05 ***\n",
       "MarTmin                1.745e+00  2.030e-01   8.595  < 2e-16 ***\n",
       "sum9_diff_sq          -5.594e-03  6.065e-04  -9.223  < 2e-16 ***\n",
       "summerTmean_cub        9.430e-05  9.104e-05   1.036 0.300293    \n",
       "density_cub           -1.615e-16  3.621e-17  -4.459 8.24e-06 ***\n",
       "PcumOctSep_sq          3.135e-07  6.698e-08   4.681 2.85e-06 ***\n",
       "Tmin_sq               -8.068e-03  1.444e-03  -5.586 2.32e-08 ***\n",
       "TOctSep_cub            2.438e-03  7.143e-04   3.413 0.000642 ***\n",
       "MarMin_sq              2.535e-04  1.884e-04   1.346 0.178458    \n",
       "wd_sq                 -3.443e-08  1.173e-08  -2.934 0.003343 ** \n",
       "minT                  -1.016e+00  1.722e-01  -5.900 3.63e-09 ***\n",
       "density:Tmean         -3.267e-05  2.161e-06 -15.118  < 2e-16 ***\n",
       "lat:TMarAug            5.744e-02  1.053e-02   5.457 4.84e-08 ***\n",
       "density:TMarAug        4.988e-06  1.633e-06   3.054 0.002262 ** \n",
       "etopo1:vpd            -9.765e-09  1.420e-09  -6.876 6.14e-12 ***\n",
       "sum9_diff:lon         -8.074e-03  5.109e-04 -15.804  < 2e-16 ***\n",
       "lon:Jan20              2.451e-03  7.130e-04   3.437 0.000587 ***\n",
       "density:TOctSep        2.670e-05  2.879e-06   9.272  < 2e-16 ***\n",
       "density:vpd            1.179e-10  2.675e-11   4.408 1.04e-05 ***\n",
       "lat:maxAugT            5.640e-03  5.888e-04   9.578  < 2e-16 ***\n",
       "etopo1:AugTmean        5.739e-04  3.816e-05  15.040  < 2e-16 ***\n",
       "lat:AugTmean           3.379e-02  5.237e-03   6.453 1.10e-10 ***\n",
       "lon:JanTmin            1.786e-02  1.222e-03  14.614  < 2e-16 ***\n",
       "etopo1:cwd             7.840e-07  3.635e-07   2.157 0.031023 *  \n",
       "lat:summerTmean        1.387e-02  7.426e-03   1.868 0.061764 .  \n",
       "lat:OctTmin           -8.047e-03  1.862e-03  -4.322 1.54e-05 ***\n",
       "lat:mi                 8.110e-02  2.025e-02   4.005 6.20e-05 ***\n",
       "lon:Mar20             -4.689e-04  9.734e-04  -0.482 0.629999    \n",
       "lon:OctMin            -4.515e-03  5.142e-04  -8.780  < 2e-16 ***\n",
       "etopo1:TOctSep        -4.115e-04  1.456e-04  -2.826 0.004708 ** \n",
       "etopo1:mi              1.090e-03  1.493e-04   7.300 2.87e-13 ***\n",
       "lon:summerP0           6.629e-04  7.356e-05   9.011  < 2e-16 ***\n",
       "lon:Acs               -6.254e-03  8.539e-04  -7.325 2.40e-13 ***\n",
       "Tmean:lon              8.587e-02  1.097e-02   7.829 4.94e-15 ***\n",
       "lon:Tmin              -6.536e-02  3.260e-03 -20.047  < 2e-16 ***\n",
       "lat:fallTmean          5.501e-02  4.742e-03  11.601  < 2e-16 ***\n",
       "lat:maxT               1.201e-02  1.133e-03  10.601  < 2e-16 ***\n",
       "lat:JanTmin            1.301e-02  1.681e-03   7.739 1.00e-14 ***\n",
       "lat:POctSep           -2.131e-04  4.034e-05  -5.282 1.28e-07 ***\n",
       "lat:TOctSep            8.538e-02  2.106e-02   4.053 5.05e-05 ***\n",
       "lon:summerP2           9.008e-05  3.839e-05   2.347 0.018942 *  \n",
       "etopo1:OctTmin         7.696e-05  1.498e-05   5.137 2.79e-07 ***\n",
       "lat:sum9_diff          9.155e-03  5.851e-04  15.645  < 2e-16 ***\n",
       "etopo1:ddAugJul       -4.933e-06  1.460e-06  -3.378 0.000729 ***\n",
       "lon:AugTmean           8.381e-03  3.845e-03   2.180 0.029279 *  \n",
       "lat:MarTmin           -1.387e-02  2.491e-03  -5.566 2.61e-08 ***\n",
       "lon:OctTmin           -5.021e-03  1.442e-03  -3.481 0.000500 ***\n",
       "lon:maxAugT            2.485e-03  4.684e-04   5.304 1.13e-07 ***\n",
       "etopo1:MarTmin        -1.915e-04  1.677e-05 -11.417  < 2e-16 ***\n",
       "etopo1:maxAugT         3.166e-05  4.097e-06   7.729 1.08e-14 ***\n",
       "etopo1:summerTmean    -4.639e-04  5.764e-05  -8.049 8.35e-16 ***\n",
       "lon:vpd               -2.714e-06  1.501e-07 -18.082  < 2e-16 ***\n",
       "density:fallTmean      5.452e-06  5.816e-07   9.373  < 2e-16 ***\n",
       "sum9_t2:sum9_t1       -2.417e-02  9.292e-04 -26.010  < 2e-16 ***\n",
       "etopo1:Tvar           -3.643e-05  5.969e-05  -0.610 0.541670    \n",
       "lat:minT               4.522e-03  2.982e-03   1.516 0.129410    \n",
       "lon:mi                 1.016e-01  2.093e-02   4.852 1.22e-06 ***\n",
       "lon:POctSep           -3.066e-05  4.340e-05  -0.706 0.479887    \n",
       "etopo1:maxT            6.291e-05  9.518e-06   6.609 3.86e-11 ***\n",
       "lat:PPT                5.309e-06  3.368e-06   1.576 0.114929    \n",
       "etopo1:fallTmean       8.686e-05  3.167e-05   2.743 0.006096 ** \n",
       "etopo1:ddAugJun        5.522e-06  1.473e-06   3.749 0.000177 ***\n",
       "etopo1:wd             -7.323e-07  1.087e-07  -6.736 1.63e-11 ***\n",
       "lat:winterMin         -1.309e-02  2.891e-03  -4.528 5.96e-06 ***\n",
       "lat:OptTsum            4.508e-04  2.833e-04   1.591 0.111529    \n",
       "etopo1:Tmin            6.074e-06  3.057e-05   0.199 0.842494    \n",
       "etopo1:PPT             3.600e-08  2.972e-08   1.212 0.225697    \n",
       "lat:PMarAug           -3.069e-04  3.441e-05  -8.918  < 2e-16 ***\n",
       "TMarAug:etopo1         5.817e-04  8.296e-05   7.012 2.36e-12 ***\n",
       "lat:vpd               -3.181e-06  2.566e-07 -12.400  < 2e-16 ***\n",
       "lat:cwd                1.319e-04  8.991e-05   1.467 0.142327    \n",
       "density:minT           1.628e-06  3.131e-07   5.200 1.99e-07 ***\n",
       "Tmean:etopo1          -1.120e-04  1.239e-04  -0.904 0.366155    \n",
       "lon:MarTmin            9.240e-03  1.811e-03   5.103 3.35e-07 ***\n",
       "lon:JanMin            -8.671e-04  4.983e-04  -1.740 0.081851 .  \n",
       "density:winterMin     -1.377e-06  3.139e-07  -4.387 1.15e-05 ***\n",
       "lat:MarMin             5.452e-03  8.299e-04   6.570 5.03e-11 ***\n",
       "lat:Pmean             -1.682e-03  4.525e-04  -3.717 0.000202 ***\n",
       "density:cwd            2.123e-10  6.240e-09   0.034 0.972856    \n",
       "lat:PcumOctSep         2.592e-04  3.927e-05   6.600 4.10e-11 ***\n",
       "lat:summerP1          -7.294e-05  9.390e-05  -0.777 0.437292    \n",
       "lon:AugMaxT            8.316e-03  8.246e-04  10.084  < 2e-16 ***\n",
       "lon:minT              -4.529e-03  1.812e-03  -2.499 0.012443 *  \n",
       "lat:summerP2           2.425e-04  6.400e-05   3.789 0.000151 ***\n",
       "etopo1:OctMin         -2.439e-05  4.777e-06  -5.106 3.30e-07 ***\n",
       "lat:Tvar              -3.486e-02  9.129e-03  -3.819 0.000134 ***\n",
       "lon:Pmean             -8.760e-04  4.749e-04  -1.845 0.065101 .  \n",
       "density:JanMin        -1.203e-07  9.959e-08  -1.208 0.227093    \n",
       "Tmean:lat             -1.240e-01  1.891e-02  -6.560 5.39e-11 ***\n",
       "lon:PcumOctSep         2.915e-04  4.314e-05   6.758 1.40e-11 ***\n",
       "lat:Acs               -3.464e-03  1.536e-03  -2.255 0.024127 *  \n",
       "lon:PMarAug           -2.384e-04  4.091e-05  -5.826 5.67e-09 ***\n",
       "lon:wd                -3.574e-05  1.456e-05  -2.456 0.014064 *  \n",
       "density:PPT            9.712e-11  9.761e-10   0.100 0.920739    \n",
       "lat:Mar20              3.558e-03  1.741e-03   2.043 0.041041 *  \n",
       "density:POctSep        7.186e-09  7.842e-09   0.916 0.359494    \n",
       "lat:JanMin             1.197e-03  8.256e-04   1.450 0.147034    \n",
       "lon:summerTmean        3.051e-02  5.506e-03   5.541 3.01e-08 ***\n",
       "etopo1:PcumOctSep      1.068e-06  3.048e-07   3.504 0.000459 ***\n",
       "etopo1:MarMin         -2.013e-05  4.607e-06  -4.369 1.25e-05 ***\n",
       "density:Tmin           1.153e-07  5.473e-07   0.211 0.833159    \n",
       "etopo1:Acs             4.938e-05  7.205e-06   6.854 7.18e-12 ***\n",
       "density:AugMaxT       -5.164e-07  1.759e-07  -2.936 0.003321 ** \n",
       "density:max.drop       2.762e-07  1.536e-07   1.799 0.072085 .  \n",
       "TMarAug:lon           -3.080e-02  8.016e-03  -3.843 0.000122 ***\n",
       "density:AugTmax       -3.204e-06  4.398e-07  -7.286 3.20e-13 ***\n",
       "lat:Tmin              -5.809e-02  4.591e-03 -12.653  < 2e-16 ***\n",
       "density:Pmean          2.130e-08  8.605e-08   0.248 0.804466    \n",
       "lat:max.drop           1.764e-03  1.169e-03   1.509 0.131311    \n",
       "lon:ddAugJun          -2.263e-06  1.125e-04  -0.020 0.983952    \n",
       "density:MarTmin        7.321e-07  3.689e-07   1.985 0.047195 *  \n",
       "etopo1:JanMin          1.786e-05  4.630e-06   3.857 0.000115 ***\n",
       "lon:AugTmax            6.423e-03  2.397e-03   2.680 0.007355 ** \n",
       "lat:ddAugJun           2.003e-03  2.330e-04   8.597  < 2e-16 ***\n",
       "density:wd             4.500e-09  2.689e-09   1.674 0.094162 .  \n",
       "etopo1:AugTmax        -3.806e-04  2.035e-05 -18.705  < 2e-16 ***\n",
       "density:mi            -8.290e-06  3.539e-06  -2.342 0.019160 *  \n",
       "lon:fallTmean          1.864e-02  2.977e-03   6.261 3.83e-10 ***\n",
       "density:AugTmean       2.394e-06  7.339e-07   3.262 0.001107 ** \n",
       "lon:PPT               -7.765e-05  4.923e-06 -15.773  < 2e-16 ***\n",
       "lon:maxT               5.940e-03  8.927e-04   6.654 2.85e-11 ***\n",
       "etopo1:OptTsum         2.640e-06  1.964e-06   1.344 0.178871    \n",
       "etopo1:Mar20          -2.979e-05  9.526e-06  -3.127 0.001765 ** \n",
       "etopo1:minT            7.103e-05  1.453e-05   4.887 1.02e-06 ***\n",
       "density:summerP0      -5.153e-08  1.443e-08  -3.571 0.000356 ***\n",
       "lat:ddAugJul          -1.933e-03  2.321e-04  -8.329  < 2e-16 ***\n",
       "lat:wd                -6.517e-05  1.412e-05  -4.616 3.92e-06 ***\n",
       "density:summerTmean   -3.842e-06  1.179e-06  -3.259 0.001119 ** \n",
       "etopo1:winterMin      -1.023e-04  1.434e-05  -7.138 9.50e-13 ***\n",
       "lat:OctMin            -3.279e-03  7.291e-04  -4.497 6.90e-06 ***\n",
       "lat:AugTmax           -6.153e-02  3.210e-03 -19.170  < 2e-16 ***\n",
       "lon:ddAugJul           4.689e-06  1.109e-04   0.042 0.966280    \n",
       "etopo1:PMarAug         1.586e-06  3.044e-07   5.208 1.91e-07 ***\n",
       "sum9_diff:etopo1       3.936e-05  4.408e-06   8.930  < 2e-16 ***\n",
       "lon:MarMin             2.944e-03  4.712e-04   6.248 4.16e-10 ***\n",
       "lon:max.drop          -3.869e-04  7.649e-04  -0.506 0.612974    \n",
       "lon:TOctSep           -5.588e-02  1.353e-02  -4.131 3.61e-05 ***\n",
       "etopo1:Jan20          -1.608e-05  6.827e-06  -2.355 0.018501 *  \n",
       "etopo1:max.drop        1.640e-05  7.010e-06   2.339 0.019340 *  \n",
       "density:Mar20          6.185e-07  1.739e-07   3.556 0.000376 ***\n",
       "density:PcumOctSep    -4.005e-09  7.644e-09  -0.524 0.600265    \n",
       "etopo1:Pmean          -1.362e-05  3.524e-06  -3.864 0.000112 ***\n",
       "density:ddAugJul      -2.225e-08  2.856e-08  -0.779 0.436018    \n",
       "etopo1:JanTmin        -9.986e-06  1.020e-05  -0.979 0.327416    \n",
       "etopo1:POctSep        -1.694e-06  3.025e-07  -5.600 2.15e-08 ***\n",
       "etopo1:AugMaxT        -5.305e-05  8.598e-06  -6.170 6.83e-10 ***\n",
       "btl_t1:btl_t2         -1.660e-01  3.048e-02  -5.445 5.17e-08 ***\n",
       "density:maxAugT       -1.726e-07  9.795e-08  -1.762 0.078031 .  \n",
       "lat:Jan20              6.687e-04  1.232e-03   0.543 0.587265    \n",
       "lon:winterMin          4.921e-03  1.779e-03   2.766 0.005679 ** \n",
       "lat:AugMaxT            3.284e-03  1.047e-03   3.136 0.001711 ** \n",
       "density:ddAugJun       2.144e-08  2.883e-08   0.744 0.457119    \n",
       "density:OctMin         1.734e-08  9.530e-08   0.182 0.855593    \n",
       "density:PMarAug        1.268e-08  8.747e-09   1.449 0.147319    \n",
       "lon:OptTsum            1.787e-04  2.035e-04   0.878 0.379851    \n",
       "density:OctTmin       -8.548e-07  2.933e-07  -2.915 0.003559 ** \n",
       "density:maxT           7.256e-07  1.947e-07   3.726 0.000195 ***\n",
       "density:MarMin         6.973e-09  9.166e-08   0.076 0.939362    \n",
       "density:sum9_diff     -6.783e-07  1.647e-07  -4.118 3.82e-05 ***\n",
       "density:summerP2       1.260e-08  7.559e-09   1.666 0.095643 .  \n",
       "density:Jan20         -5.742e-08  1.347e-07  -0.426 0.669831    \n",
       "density:age           -1.046e-08  5.171e-09  -2.022 0.043187 *  \n",
       "lon:cwd                4.611e-04  3.860e-05  11.945  < 2e-16 ***\n",
       "density:Tvar           4.807e-06  1.444e-06   3.330 0.000867 ***\n",
       "etopo1:summerP0       -5.529e-06  6.047e-07  -9.144  < 2e-16 ***\n",
       "lon:Tvar              -3.954e-02  7.193e-03  -5.497 3.86e-08 ***\n",
       "etopo1:summerP2        1.561e-06  3.191e-07   4.892 9.98e-07 ***\n",
       "density:OptTsum        7.503e-08  4.309e-08   1.741 0.081639 .  \n",
       "sum9_diff:age          4.624e-05  7.190e-05   0.643 0.520104    \n",
       "density:JanTmin        7.210e-07  2.168e-07   3.325 0.000884 ***\n",
       "density:Acs            1.005e-07  1.468e-07   0.684 0.493713    \n",
       "lat:lon:etopo1         1.761e-06  1.069e-07  16.472  < 2e-16 ***\n",
       "density:sum9_diff:age  2.125e-09  1.862e-09   1.141 0.253832    \n",
       "---\n",
       "Signif. codes:  0 ‘***’ 0.001 ‘**’ 0.01 ‘*’ 0.05 ‘.’ 0.1 ‘ ’ 1\n",
       "\n",
       "(Dispersion parameter for binomial family taken to be 1)\n",
       "\n",
       "    Null deviance: 603584  on 777264  degrees of freedom\n",
       "Residual deviance: 221437  on 777007  degrees of freedom\n",
       "  (13063 observations deleted due to missingness)\n",
       "AIC: 221953\n",
       "\n",
       "Number of Fisher Scoring iterations: 11\n"
      ]
     },
     "metadata": {},
     "output_type": "display_data"
    }
   ],
   "source": [
    "summary(mod)"
   ]
  },
  {
   "cell_type": "code",
   "execution_count": 12,
   "metadata": {
    "collapsed": false
   },
   "outputs": [
    {
     "data": {
      "text/html": [
       "<table>\n",
       "<thead><tr><th scope=col>btl_t</th><th scope=col>sum9_diff</th><th scope=col>sum9_t2</th><th scope=col>Acs</th><th scope=col>etopo1</th><th scope=col>maxAugT</th><th scope=col>OctMin</th><th scope=col>Tvar</th><th scope=col>Tmean</th><th scope=col>PMarAug</th><th scope=col>⋯</th><th scope=col>MarTmin_cub</th><th scope=col>AugTmax_cub</th><th scope=col>winterMin_cub</th><th scope=col>OptTsum_cub</th><th scope=col>age_cub</th><th scope=col>sum9_diff_cub</th><th scope=col>Tmean_cub</th><th scope=col>summerTmean_cub</th><th scope=col>density_cub</th><th scope=col>TOctSep_cub</th></tr></thead>\n",
       "<tbody>\n",
       "\t<tr><td>0           </td><td>0           </td><td>0           </td><td>0           </td><td>994         </td><td>31          </td><td>-0.9903192  </td><td>8.595260    </td><td>17.92430    </td><td>94.05243    </td><td>⋯           </td><td>24.98798    </td><td>38344.81    </td><td>-747.3379   </td><td>373248      </td><td>0           </td><td>0           </td><td>5758.730    </td><td>21926.32    </td><td>1.855666e+09</td><td>5765.615    </td></tr>\n",
       "\t<tr><td>0           </td><td>0           </td><td>0           </td><td>0           </td><td>948         </td><td>31          </td><td>-0.8581916  </td><td>8.630087    </td><td>18.14168    </td><td>87.02101    </td><td>⋯           </td><td>32.42007    </td><td>38991.29    </td><td>-732.3474   </td><td>274625      </td><td>0           </td><td>0           </td><td>5970.802    </td><td>22524.15    </td><td>2.007043e+01</td><td>5978.004    </td></tr>\n",
       "\t<tr><td>0           </td><td>0           </td><td>0           </td><td>0           </td><td>944         </td><td>31          </td><td>-0.5260306  </td><td>8.661894    </td><td>18.15920    </td><td>81.11690    </td><td>⋯           </td><td>31.35720    </td><td>38950.24    </td><td>-717.2137   </td><td>250047      </td><td>0           </td><td>0           </td><td>5988.114    </td><td>22569.80    </td><td>6.708259e+09</td><td>5995.476    </td></tr>\n",
       "\t<tr><td>0           </td><td>0           </td><td>0           </td><td>0           </td><td>889         </td><td>31          </td><td>-0.4928438  </td><td>8.771569    </td><td>18.45130    </td><td>76.24133    </td><td>⋯           </td><td>41.75022    </td><td>40127.72    </td><td>-672.3877   </td><td>195112      </td><td>0           </td><td>0           </td><td>6281.752    </td><td>23587.49    </td><td>1.240710e+08</td><td>6289.760    </td></tr>\n",
       "\t<tr><td>0           </td><td>0           </td><td>0           </td><td>0           </td><td>827         </td><td>31          </td><td>-0.4436704  </td><td>8.838607    </td><td>18.67021    </td><td>68.74231    </td><td>⋯           </td><td>52.71887    </td><td>40989.16    </td><td>-616.7952   </td><td>132651      </td><td>0           </td><td>0           </td><td>6508.001    </td><td>24357.48    </td><td>2.819073e+10</td><td>6519.838    </td></tr>\n",
       "\t<tr><td>0           </td><td>0           </td><td>0           </td><td>0           </td><td>801         </td><td>31          </td><td>-0.5019645  </td><td>8.923908    </td><td>18.86408    </td><td>65.20767    </td><td>⋯           </td><td>63.03671    </td><td>41862.36    </td><td>-566.0512   </td><td>125000      </td><td>0           </td><td>0           </td><td>6712.847    </td><td>25143.72    </td><td>1.820109e+11</td><td>6728.704    </td></tr>\n",
       "</tbody>\n",
       "</table>\n"
      ],
      "text/latex": [
       "\\begin{tabular}{r|llllllllllllllllllllllllllllllllllllllllllllllllllllllllllllllllllllllllllllllllllllllllllllllllll}\n",
       " btl\\_t & sum9\\_diff & sum9\\_t2 & Acs & etopo1 & maxAugT & OctMin & Tvar & Tmean & PMarAug & ⋯ & MarTmin\\_cub & AugTmax\\_cub & winterMin\\_cub & OptTsum\\_cub & age\\_cub & sum9\\_diff\\_cub & Tmean\\_cub & summerTmean\\_cub & density\\_cub & TOctSep\\_cub\\\\\n",
       "\\hline\n",
       "\t 0            & 0            & 0            & 0            & 994          & 31           & -0.9903192   & 8.595260     & 17.92430     & 94.05243     & ⋯            & 24.98798     & 38344.81     & -747.3379    & 373248       & 0            & 0            & 5758.730     & 21926.32     & 1.855666e+09 & 5765.615    \\\\\n",
       "\t 0            & 0            & 0            & 0            & 948          & 31           & -0.8581916   & 8.630087     & 18.14168     & 87.02101     & ⋯            & 32.42007     & 38991.29     & -732.3474    & 274625       & 0            & 0            & 5970.802     & 22524.15     & 2.007043e+01 & 5978.004    \\\\\n",
       "\t 0            & 0            & 0            & 0            & 944          & 31           & -0.5260306   & 8.661894     & 18.15920     & 81.11690     & ⋯            & 31.35720     & 38950.24     & -717.2137    & 250047       & 0            & 0            & 5988.114     & 22569.80     & 6.708259e+09 & 5995.476    \\\\\n",
       "\t 0            & 0            & 0            & 0            & 889          & 31           & -0.4928438   & 8.771569     & 18.45130     & 76.24133     & ⋯            & 41.75022     & 40127.72     & -672.3877    & 195112       & 0            & 0            & 6281.752     & 23587.49     & 1.240710e+08 & 6289.760    \\\\\n",
       "\t 0            & 0            & 0            & 0            & 827          & 31           & -0.4436704   & 8.838607     & 18.67021     & 68.74231     & ⋯            & 52.71887     & 40989.16     & -616.7952    & 132651       & 0            & 0            & 6508.001     & 24357.48     & 2.819073e+10 & 6519.838    \\\\\n",
       "\t 0            & 0            & 0            & 0            & 801          & 31           & -0.5019645   & 8.923908     & 18.86408     & 65.20767     & ⋯            & 63.03671     & 41862.36     & -566.0512    & 125000       & 0            & 0            & 6712.847     & 25143.72     & 1.820109e+11 & 6728.704    \\\\\n",
       "\\end{tabular}\n"
      ],
      "text/markdown": [
       "\n",
       "btl_t | sum9_diff | sum9_t2 | Acs | etopo1 | maxAugT | OctMin | Tvar | Tmean | PMarAug | ⋯ | MarTmin_cub | AugTmax_cub | winterMin_cub | OptTsum_cub | age_cub | sum9_diff_cub | Tmean_cub | summerTmean_cub | density_cub | TOctSep_cub | \n",
       "|---|---|---|---|---|---|\n",
       "| 0            | 0            | 0            | 0            | 994          | 31           | -0.9903192   | 8.595260     | 17.92430     | 94.05243     | ⋯            | 24.98798     | 38344.81     | -747.3379    | 373248       | 0            | 0            | 5758.730     | 21926.32     | 1.855666e+09 | 5765.615     | \n",
       "| 0            | 0            | 0            | 0            | 948          | 31           | -0.8581916   | 8.630087     | 18.14168     | 87.02101     | ⋯            | 32.42007     | 38991.29     | -732.3474    | 274625       | 0            | 0            | 5970.802     | 22524.15     | 2.007043e+01 | 5978.004     | \n",
       "| 0            | 0            | 0            | 0            | 944          | 31           | -0.5260306   | 8.661894     | 18.15920     | 81.11690     | ⋯            | 31.35720     | 38950.24     | -717.2137    | 250047       | 0            | 0            | 5988.114     | 22569.80     | 6.708259e+09 | 5995.476     | \n",
       "| 0            | 0            | 0            | 0            | 889          | 31           | -0.4928438   | 8.771569     | 18.45130     | 76.24133     | ⋯            | 41.75022     | 40127.72     | -672.3877    | 195112       | 0            | 0            | 6281.752     | 23587.49     | 1.240710e+08 | 6289.760     | \n",
       "| 0            | 0            | 0            | 0            | 827          | 31           | -0.4436704   | 8.838607     | 18.67021     | 68.74231     | ⋯            | 52.71887     | 40989.16     | -616.7952    | 132651       | 0            | 0            | 6508.001     | 24357.48     | 2.819073e+10 | 6519.838     | \n",
       "| 0            | 0            | 0            | 0            | 801          | 31           | -0.5019645   | 8.923908     | 18.86408     | 65.20767     | ⋯            | 63.03671     | 41862.36     | -566.0512    | 125000       | 0            | 0            | 6712.847     | 25143.72     | 1.820109e+11 | 6728.704     | \n",
       "\n",
       "\n"
      ],
      "text/plain": [
       "  btl_t sum9_diff sum9_t2 Acs etopo1 maxAugT OctMin     Tvar     Tmean   \n",
       "1 0     0         0       0   994    31      -0.9903192 8.595260 17.92430\n",
       "2 0     0         0       0   948    31      -0.8581916 8.630087 18.14168\n",
       "3 0     0         0       0   944    31      -0.5260306 8.661894 18.15920\n",
       "4 0     0         0       0   889    31      -0.4928438 8.771569 18.45130\n",
       "5 0     0         0       0   827    31      -0.4436704 8.838607 18.67021\n",
       "6 0     0         0       0   801    31      -0.5019645 8.923908 18.86408\n",
       "  PMarAug  ⋯ MarTmin_cub AugTmax_cub winterMin_cub OptTsum_cub age_cub\n",
       "1 94.05243 ⋯ 24.98798    38344.81    -747.3379     373248      0      \n",
       "2 87.02101 ⋯ 32.42007    38991.29    -732.3474     274625      0      \n",
       "3 81.11690 ⋯ 31.35720    38950.24    -717.2137     250047      0      \n",
       "4 76.24133 ⋯ 41.75022    40127.72    -672.3877     195112      0      \n",
       "5 68.74231 ⋯ 52.71887    40989.16    -616.7952     132651      0      \n",
       "6 65.20767 ⋯ 63.03671    41862.36    -566.0512     125000      0      \n",
       "  sum9_diff_cub Tmean_cub summerTmean_cub density_cub  TOctSep_cub\n",
       "1 0             5758.730  21926.32        1.855666e+09 5765.615   \n",
       "2 0             5970.802  22524.15        2.007043e+01 5978.004   \n",
       "3 0             5988.114  22569.80        6.708259e+09 5995.476   \n",
       "4 0             6281.752  23587.49        1.240710e+08 6289.760   \n",
       "5 0             6508.001  24357.48        2.819073e+10 6519.838   \n",
       "6 0             6712.847  25143.72        1.820109e+11 6728.704   "
      ]
     },
     "metadata": {},
     "output_type": "display_data"
    }
   ],
   "source": [
    "head(ndf)"
   ]
  },
  {
   "cell_type": "code",
   "execution_count": 13,
   "metadata": {
    "collapsed": false
   },
   "outputs": [
    {
     "data": {
      "text/html": [
       "<ol class=list-inline>\n",
       "\t<li>'btl_t'</li>\n",
       "\t<li>'sum9_diff'</li>\n",
       "\t<li>'sum9_t2'</li>\n",
       "\t<li>'Acs'</li>\n",
       "\t<li>'etopo1'</li>\n",
       "\t<li>'maxAugT'</li>\n",
       "\t<li>'OctMin'</li>\n",
       "\t<li>'Tvar'</li>\n",
       "\t<li>'Tmean'</li>\n",
       "\t<li>'PMarAug'</li>\n",
       "\t<li>'Tmin'</li>\n",
       "\t<li>'MarMin'</li>\n",
       "\t<li>'Jan20'</li>\n",
       "\t<li>'ddAugJun'</li>\n",
       "\t<li>'summerTmean'</li>\n",
       "\t<li>'vgt'</li>\n",
       "\t<li>'lon'</li>\n",
       "\t<li>'fallTmean'</li>\n",
       "\t<li>'winterMin'</li>\n",
       "\t<li>'ddAugJul'</li>\n",
       "\t<li>'JanMin'</li>\n",
       "\t<li>'maxT'</li>\n",
       "\t<li>'wd'</li>\n",
       "\t<li>'density'</li>\n",
       "\t<li>'summerP0'</li>\n",
       "\t<li>'max.drop'</li>\n",
       "\t<li>'vpd'</li>\n",
       "\t<li>'sum9_t1'</li>\n",
       "\t<li>'AugTmean'</li>\n",
       "\t<li>'lat'</li>\n",
       "\t<li>'cwd'</li>\n",
       "\t<li>'btl_t1'</li>\n",
       "\t<li>'age'</li>\n",
       "\t<li>'TOctSep'</li>\n",
       "\t<li>'btl_t2'</li>\n",
       "\t<li>'PPT'</li>\n",
       "\t<li>'AugTmax'</li>\n",
       "\t<li>'mi'</li>\n",
       "\t<li>'OctTmin'</li>\n",
       "\t<li>'summerP1'</li>\n",
       "\t<li>'OptTsum'</li>\n",
       "\t<li>'JanTmin'</li>\n",
       "\t<li>'AugMaxT'</li>\n",
       "\t<li>'Mar20'</li>\n",
       "\t<li>'TMarAug'</li>\n",
       "\t<li>'summerP2'</li>\n",
       "\t<li>'POctSep'</li>\n",
       "\t<li>'Pmean'</li>\n",
       "\t<li>'PcumOctSep'</li>\n",
       "\t<li>'MarTmin'</li>\n",
       "\t<li>'minT'</li>\n",
       "\t<li>'JanTmin_sq'</li>\n",
       "\t<li>'etopo1_sq'</li>\n",
       "\t<li>'lat_sq'</li>\n",
       "\t<li>'Mar20_sq'</li>\n",
       "\t<li>'vpd_sq'</li>\n",
       "\t<li>'ddAugJul_sq'</li>\n",
       "\t<li>'cwd_sq'</li>\n",
       "\t<li>'AugMaxT_sq'</li>\n",
       "\t<li>'ddAugJun_sq'</li>\n",
       "\t<li>'PPT_sq'</li>\n",
       "\t<li>'summerP2_sq'</li>\n",
       "\t<li>'POctSep_sq'</li>\n",
       "\t<li>'Pmean_sq'</li>\n",
       "\t<li>'PMarAug_sq'</li>\n",
       "\t<li>'max.drop_sq'</li>\n",
       "\t<li>'age_sq'</li>\n",
       "\t<li>'Acs_sq'</li>\n",
       "\t<li>'maxT_sq'</li>\n",
       "\t<li>'mi_sq'</li>\n",
       "\t<li>'OctTmin_sq'</li>\n",
       "\t<li>'OctMin_sq'</li>\n",
       "\t<li>'summerP0_sq'</li>\n",
       "\t<li>'summerP1_sq'</li>\n",
       "\t<li>'sum9_diff_sq'</li>\n",
       "\t<li>'PcumOctSep_sq'</li>\n",
       "\t<li>'Tmin_sq'</li>\n",
       "\t<li>'MarMin_sq'</li>\n",
       "\t<li>'wd_sq'</li>\n",
       "\t<li>'AugTmean_cub'</li>\n",
       "\t<li>'lat_cub'</li>\n",
       "\t<li>'TMarAug_cub'</li>\n",
       "\t<li>'JanMin_cub'</li>\n",
       "\t<li>'minT_cub'</li>\n",
       "\t<li>'Jan20_cub'</li>\n",
       "\t<li>'fallTmean_cub'</li>\n",
       "\t<li>'lon_cub'</li>\n",
       "\t<li>'Tvar_cub'</li>\n",
       "\t<li>'MarTmin_cub'</li>\n",
       "\t<li>'AugTmax_cub'</li>\n",
       "\t<li>'winterMin_cub'</li>\n",
       "\t<li>'OptTsum_cub'</li>\n",
       "\t<li>'age_cub'</li>\n",
       "\t<li>'sum9_diff_cub'</li>\n",
       "\t<li>'Tmean_cub'</li>\n",
       "\t<li>'summerTmean_cub'</li>\n",
       "\t<li>'density_cub'</li>\n",
       "\t<li>'TOctSep_cub'</li>\n",
       "</ol>\n"
      ],
      "text/latex": [
       "\\begin{enumerate*}\n",
       "\\item 'btl\\_t'\n",
       "\\item 'sum9\\_diff'\n",
       "\\item 'sum9\\_t2'\n",
       "\\item 'Acs'\n",
       "\\item 'etopo1'\n",
       "\\item 'maxAugT'\n",
       "\\item 'OctMin'\n",
       "\\item 'Tvar'\n",
       "\\item 'Tmean'\n",
       "\\item 'PMarAug'\n",
       "\\item 'Tmin'\n",
       "\\item 'MarMin'\n",
       "\\item 'Jan20'\n",
       "\\item 'ddAugJun'\n",
       "\\item 'summerTmean'\n",
       "\\item 'vgt'\n",
       "\\item 'lon'\n",
       "\\item 'fallTmean'\n",
       "\\item 'winterMin'\n",
       "\\item 'ddAugJul'\n",
       "\\item 'JanMin'\n",
       "\\item 'maxT'\n",
       "\\item 'wd'\n",
       "\\item 'density'\n",
       "\\item 'summerP0'\n",
       "\\item 'max.drop'\n",
       "\\item 'vpd'\n",
       "\\item 'sum9\\_t1'\n",
       "\\item 'AugTmean'\n",
       "\\item 'lat'\n",
       "\\item 'cwd'\n",
       "\\item 'btl\\_t1'\n",
       "\\item 'age'\n",
       "\\item 'TOctSep'\n",
       "\\item 'btl\\_t2'\n",
       "\\item 'PPT'\n",
       "\\item 'AugTmax'\n",
       "\\item 'mi'\n",
       "\\item 'OctTmin'\n",
       "\\item 'summerP1'\n",
       "\\item 'OptTsum'\n",
       "\\item 'JanTmin'\n",
       "\\item 'AugMaxT'\n",
       "\\item 'Mar20'\n",
       "\\item 'TMarAug'\n",
       "\\item 'summerP2'\n",
       "\\item 'POctSep'\n",
       "\\item 'Pmean'\n",
       "\\item 'PcumOctSep'\n",
       "\\item 'MarTmin'\n",
       "\\item 'minT'\n",
       "\\item 'JanTmin\\_sq'\n",
       "\\item 'etopo1\\_sq'\n",
       "\\item 'lat\\_sq'\n",
       "\\item 'Mar20\\_sq'\n",
       "\\item 'vpd\\_sq'\n",
       "\\item 'ddAugJul\\_sq'\n",
       "\\item 'cwd\\_sq'\n",
       "\\item 'AugMaxT\\_sq'\n",
       "\\item 'ddAugJun\\_sq'\n",
       "\\item 'PPT\\_sq'\n",
       "\\item 'summerP2\\_sq'\n",
       "\\item 'POctSep\\_sq'\n",
       "\\item 'Pmean\\_sq'\n",
       "\\item 'PMarAug\\_sq'\n",
       "\\item 'max.drop\\_sq'\n",
       "\\item 'age\\_sq'\n",
       "\\item 'Acs\\_sq'\n",
       "\\item 'maxT\\_sq'\n",
       "\\item 'mi\\_sq'\n",
       "\\item 'OctTmin\\_sq'\n",
       "\\item 'OctMin\\_sq'\n",
       "\\item 'summerP0\\_sq'\n",
       "\\item 'summerP1\\_sq'\n",
       "\\item 'sum9\\_diff\\_sq'\n",
       "\\item 'PcumOctSep\\_sq'\n",
       "\\item 'Tmin\\_sq'\n",
       "\\item 'MarMin\\_sq'\n",
       "\\item 'wd\\_sq'\n",
       "\\item 'AugTmean\\_cub'\n",
       "\\item 'lat\\_cub'\n",
       "\\item 'TMarAug\\_cub'\n",
       "\\item 'JanMin\\_cub'\n",
       "\\item 'minT\\_cub'\n",
       "\\item 'Jan20\\_cub'\n",
       "\\item 'fallTmean\\_cub'\n",
       "\\item 'lon\\_cub'\n",
       "\\item 'Tvar\\_cub'\n",
       "\\item 'MarTmin\\_cub'\n",
       "\\item 'AugTmax\\_cub'\n",
       "\\item 'winterMin\\_cub'\n",
       "\\item 'OptTsum\\_cub'\n",
       "\\item 'age\\_cub'\n",
       "\\item 'sum9\\_diff\\_cub'\n",
       "\\item 'Tmean\\_cub'\n",
       "\\item 'summerTmean\\_cub'\n",
       "\\item 'density\\_cub'\n",
       "\\item 'TOctSep\\_cub'\n",
       "\\end{enumerate*}\n"
      ],
      "text/markdown": [
       "1. 'btl_t'\n",
       "2. 'sum9_diff'\n",
       "3. 'sum9_t2'\n",
       "4. 'Acs'\n",
       "5. 'etopo1'\n",
       "6. 'maxAugT'\n",
       "7. 'OctMin'\n",
       "8. 'Tvar'\n",
       "9. 'Tmean'\n",
       "10. 'PMarAug'\n",
       "11. 'Tmin'\n",
       "12. 'MarMin'\n",
       "13. 'Jan20'\n",
       "14. 'ddAugJun'\n",
       "15. 'summerTmean'\n",
       "16. 'vgt'\n",
       "17. 'lon'\n",
       "18. 'fallTmean'\n",
       "19. 'winterMin'\n",
       "20. 'ddAugJul'\n",
       "21. 'JanMin'\n",
       "22. 'maxT'\n",
       "23. 'wd'\n",
       "24. 'density'\n",
       "25. 'summerP0'\n",
       "26. 'max.drop'\n",
       "27. 'vpd'\n",
       "28. 'sum9_t1'\n",
       "29. 'AugTmean'\n",
       "30. 'lat'\n",
       "31. 'cwd'\n",
       "32. 'btl_t1'\n",
       "33. 'age'\n",
       "34. 'TOctSep'\n",
       "35. 'btl_t2'\n",
       "36. 'PPT'\n",
       "37. 'AugTmax'\n",
       "38. 'mi'\n",
       "39. 'OctTmin'\n",
       "40. 'summerP1'\n",
       "41. 'OptTsum'\n",
       "42. 'JanTmin'\n",
       "43. 'AugMaxT'\n",
       "44. 'Mar20'\n",
       "45. 'TMarAug'\n",
       "46. 'summerP2'\n",
       "47. 'POctSep'\n",
       "48. 'Pmean'\n",
       "49. 'PcumOctSep'\n",
       "50. 'MarTmin'\n",
       "51. 'minT'\n",
       "52. 'JanTmin_sq'\n",
       "53. 'etopo1_sq'\n",
       "54. 'lat_sq'\n",
       "55. 'Mar20_sq'\n",
       "56. 'vpd_sq'\n",
       "57. 'ddAugJul_sq'\n",
       "58. 'cwd_sq'\n",
       "59. 'AugMaxT_sq'\n",
       "60. 'ddAugJun_sq'\n",
       "61. 'PPT_sq'\n",
       "62. 'summerP2_sq'\n",
       "63. 'POctSep_sq'\n",
       "64. 'Pmean_sq'\n",
       "65. 'PMarAug_sq'\n",
       "66. 'max.drop_sq'\n",
       "67. 'age_sq'\n",
       "68. 'Acs_sq'\n",
       "69. 'maxT_sq'\n",
       "70. 'mi_sq'\n",
       "71. 'OctTmin_sq'\n",
       "72. 'OctMin_sq'\n",
       "73. 'summerP0_sq'\n",
       "74. 'summerP1_sq'\n",
       "75. 'sum9_diff_sq'\n",
       "76. 'PcumOctSep_sq'\n",
       "77. 'Tmin_sq'\n",
       "78. 'MarMin_sq'\n",
       "79. 'wd_sq'\n",
       "80. 'AugTmean_cub'\n",
       "81. 'lat_cub'\n",
       "82. 'TMarAug_cub'\n",
       "83. 'JanMin_cub'\n",
       "84. 'minT_cub'\n",
       "85. 'Jan20_cub'\n",
       "86. 'fallTmean_cub'\n",
       "87. 'lon_cub'\n",
       "88. 'Tvar_cub'\n",
       "89. 'MarTmin_cub'\n",
       "90. 'AugTmax_cub'\n",
       "91. 'winterMin_cub'\n",
       "92. 'OptTsum_cub'\n",
       "93. 'age_cub'\n",
       "94. 'sum9_diff_cub'\n",
       "95. 'Tmean_cub'\n",
       "96. 'summerTmean_cub'\n",
       "97. 'density_cub'\n",
       "98. 'TOctSep_cub'\n",
       "\n",
       "\n"
      ],
      "text/plain": [
       " [1] \"btl_t\"           \"sum9_diff\"       \"sum9_t2\"         \"Acs\"            \n",
       " [5] \"etopo1\"          \"maxAugT\"         \"OctMin\"          \"Tvar\"           \n",
       " [9] \"Tmean\"           \"PMarAug\"         \"Tmin\"            \"MarMin\"         \n",
       "[13] \"Jan20\"           \"ddAugJun\"        \"summerTmean\"     \"vgt\"            \n",
       "[17] \"lon\"             \"fallTmean\"       \"winterMin\"       \"ddAugJul\"       \n",
       "[21] \"JanMin\"          \"maxT\"            \"wd\"              \"density\"        \n",
       "[25] \"summerP0\"        \"max.drop\"        \"vpd\"             \"sum9_t1\"        \n",
       "[29] \"AugTmean\"        \"lat\"             \"cwd\"             \"btl_t1\"         \n",
       "[33] \"age\"             \"TOctSep\"         \"btl_t2\"          \"PPT\"            \n",
       "[37] \"AugTmax\"         \"mi\"              \"OctTmin\"         \"summerP1\"       \n",
       "[41] \"OptTsum\"         \"JanTmin\"         \"AugMaxT\"         \"Mar20\"          \n",
       "[45] \"TMarAug\"         \"summerP2\"        \"POctSep\"         \"Pmean\"          \n",
       "[49] \"PcumOctSep\"      \"MarTmin\"         \"minT\"            \"JanTmin_sq\"     \n",
       "[53] \"etopo1_sq\"       \"lat_sq\"          \"Mar20_sq\"        \"vpd_sq\"         \n",
       "[57] \"ddAugJul_sq\"     \"cwd_sq\"          \"AugMaxT_sq\"      \"ddAugJun_sq\"    \n",
       "[61] \"PPT_sq\"          \"summerP2_sq\"     \"POctSep_sq\"      \"Pmean_sq\"       \n",
       "[65] \"PMarAug_sq\"      \"max.drop_sq\"     \"age_sq\"          \"Acs_sq\"         \n",
       "[69] \"maxT_sq\"         \"mi_sq\"           \"OctTmin_sq\"      \"OctMin_sq\"      \n",
       "[73] \"summerP0_sq\"     \"summerP1_sq\"     \"sum9_diff_sq\"    \"PcumOctSep_sq\"  \n",
       "[77] \"Tmin_sq\"         \"MarMin_sq\"       \"wd_sq\"           \"AugTmean_cub\"   \n",
       "[81] \"lat_cub\"         \"TMarAug_cub\"     \"JanMin_cub\"      \"minT_cub\"       \n",
       "[85] \"Jan20_cub\"       \"fallTmean_cub\"   \"lon_cub\"         \"Tvar_cub\"       \n",
       "[89] \"MarTmin_cub\"     \"AugTmax_cub\"     \"winterMin_cub\"   \"OptTsum_cub\"    \n",
       "[93] \"age_cub\"         \"sum9_diff_cub\"   \"Tmean_cub\"       \"summerTmean_cub\"\n",
       "[97] \"density_cub\"     \"TOctSep_cub\"    "
      ]
     },
     "metadata": {},
     "output_type": "display_data"
    }
   ],
   "source": [
    "names(ndf)"
   ]
  },
  {
   "cell_type": "code",
   "execution_count": 14,
   "metadata": {
    "collapsed": false
   },
   "outputs": [],
   "source": [
    "s <- grep(paste0('_sq'), row.names(coef(summary(mod))), value=T)"
   ]
  },
  {
   "cell_type": "code",
   "execution_count": 15,
   "metadata": {
    "collapsed": true
   },
   "outputs": [],
   "source": [
    "sqs <- sapply(strsplit(s, split='_', fixed=TRUE), function(x) (x[1]))"
   ]
  },
  {
   "cell_type": "code",
   "execution_count": 16,
   "metadata": {
    "collapsed": false
   },
   "outputs": [],
   "source": [
    "s <- grep(paste0('_cub'), row.names(coef(summary(mod))), value=T)"
   ]
  },
  {
   "cell_type": "code",
   "execution_count": 17,
   "metadata": {
    "collapsed": false
   },
   "outputs": [],
   "source": [
    "cubs <- sapply(strsplit(s, split='_', fixed=TRUE), function(x) (x[1]))"
   ]
  },
  {
   "cell_type": "code",
   "execution_count": 18,
   "metadata": {
    "collapsed": true
   },
   "outputs": [],
   "source": [
    "field <- 'Tmean'"
   ]
  },
  {
   "cell_type": "code",
   "execution_count": 29,
   "metadata": {
    "collapsed": true
   },
   "outputs": [],
   "source": [
    "med.df <- data.frame(t(apply(ndf, 2, median, na.rm=TRUE)))\n",
    "n.steps <- 100\n",
    "med.df <- med.df[rep(1, n.steps), ]"
   ]
  },
  {
   "cell_type": "code",
   "execution_count": 30,
   "metadata": {
    "collapsed": true
   },
   "outputs": [],
   "source": [
    "test.df <- med.df"
   ]
  },
  {
   "cell_type": "code",
   "execution_count": 31,
   "metadata": {
    "collapsed": false
   },
   "outputs": [],
   "source": [
    "xmin <- quantile(ndf[, field], probs=0.025)\n",
    "xmax <- quantile(ndf[, field], probs=0.975)"
   ]
  },
  {
   "cell_type": "code",
   "execution_count": 32,
   "metadata": {
    "collapsed": false
   },
   "outputs": [],
   "source": [
    "test.df[, field] <- seq(xmin, xmax, length=100)"
   ]
  },
  {
   "cell_type": "code",
   "execution_count": 33,
   "metadata": {
    "collapsed": false
   },
   "outputs": [],
   "source": [
    "if(field %in% sqs & field %in% cubs){\n",
    "    test.df[, paste(field, '_sq')] <- test.df[, field]^2\n",
    "    test.df[, paste(field, '_cub')] <- test.df[, field]^3\n",
    "}else if(field %in% sqs){\n",
    "    test.df[, paste(field, '_sq')] <- test.df[, field]^2  \n",
    "}else if(field %in% cubs){\n",
    "    test.df[, paste(field, '_cub')] <- test.df[, field]^3\n",
    "}\n",
    "preds <- predict(mod, newdata=test.df, type=\"response\")"
   ]
  },
  {
   "cell_type": "code",
   "execution_count": 34,
   "metadata": {
    "collapsed": true
   },
   "outputs": [],
   "source": [
    "df <- ndf[ndf$btl_t==1,]"
   ]
  },
  {
   "cell_type": "code",
   "execution_count": 35,
   "metadata": {
    "collapsed": false
   },
   "outputs": [
    {
     "data": {
      "image/png": "[encoded data removed]",
      "text/plain": [
       "Plot with title “Histogram of df[, field]”"
      ]
     },
     "metadata": {},
     "output_type": "display_data"
    }
   ],
   "source": [
    "hist(df[,field])"
   ]
  },
  {
   "cell_type": "code",
   "execution_count": 36,
   "metadata": {
    "collapsed": false
   },
   "outputs": [],
   "source": [
    "vals <- df[,field]"
   ]
  },
  {
   "cell_type": "code",
   "execution_count": 37,
   "metadata": {
    "collapsed": false
   },
   "outputs": [],
   "source": [
    "vals <- vals[vals > xmin & vals < xmax]"
   ]
  },
  {
   "cell_type": "code",
   "execution_count": 46,
   "metadata": {
    "collapsed": false
   },
   "outputs": [
    {
     "data": {
      "image/png": "[encoded data removed]",
      "text/plain": [
       "Plot with title “Annual mean temperature”"
      ]
     },
     "metadata": {},
     "output_type": "display_data"
    }
   ],
   "source": [
    "plot(preds ~ test.df[, field], \n",
    "         type='l', lty=1, lwd=4,\n",
    "         main='Annual mean temperature',\n",
    "         xlab='', \n",
    "         ylab='',\n",
    "         cex.axis=2.5,\n",
    "         cex.main=2.5)\n",
    "rug(jitter(vals), col=rgb(0,0,0,0.2))"
   ]
  },
  {
   "cell_type": "code",
   "execution_count": 80,
   "metadata": {
    "collapsed": false
   },
   "outputs": [
    {
     "data": {
      "text/html": [
       "<ol class=list-inline>\n",
       "\t<li>0</li>\n",
       "\t<li>28</li>\n",
       "</ol>\n"
      ],
      "text/latex": [
       "\\begin{enumerate*}\n",
       "\\item 0\n",
       "\\item 28\n",
       "\\end{enumerate*}\n"
      ],
      "text/markdown": [
       "1. 0\n",
       "2. 28\n",
       "\n",
       "\n"
      ],
      "text/plain": [
       "[1]  0 28"
      ]
     },
     "metadata": {},
     "output_type": "display_data"
    }
   ],
   "source": [
    "range(df[,field])"
   ]
  },
  {
   "cell_type": "code",
   "execution_count": 18,
   "metadata": {
    "collapsed": false
   },
   "outputs": [
    {
     "data": {
      "text/html": [
       "'^Tmean$'"
      ],
      "text/latex": [
       "'\\textasciicircum{}Tmean\\$'"
      ],
      "text/markdown": [
       "'^Tmean$'"
      ],
      "text/plain": [
       "[1] \"^Tmean$\""
      ]
     },
     "metadata": {},
     "output_type": "display_data"
    }
   ],
   "source": [
    "paste0('^', field, '$')"
   ]
  },
  {
   "cell_type": "code",
   "execution_count": 35,
   "metadata": {
    "collapsed": false
   },
   "outputs": [
    {
     "data": {
      "text/html": [
       "<ol class=list-inline>\n",
       "\t<li>'JanTmin'</li>\n",
       "\t<li>'etopo1'</li>\n",
       "\t<li>'lat'</li>\n",
       "\t<li>'Mar20'</li>\n",
       "\t<li>'vpd'</li>\n",
       "\t<li>'ddAugJul'</li>\n",
       "\t<li>'cwd'</li>\n",
       "\t<li>'AugMaxT'</li>\n",
       "\t<li>'ddAugJun'</li>\n",
       "\t<li>'PPT'</li>\n",
       "\t<li>'summerP2'</li>\n",
       "\t<li>'POctSep'</li>\n",
       "\t<li>'Pmean'</li>\n",
       "\t<li>'PMarAug'</li>\n",
       "\t<li>'max.drop'</li>\n",
       "\t<li>'age'</li>\n",
       "\t<li>'Acs'</li>\n",
       "\t<li>'maxT'</li>\n",
       "\t<li>'mi'</li>\n",
       "\t<li>'OctTmin'</li>\n",
       "\t<li>'OctMin'</li>\n",
       "\t<li>'summerP0'</li>\n",
       "\t<li>'summerP1'</li>\n",
       "\t<li>'sum9'</li>\n",
       "\t<li>'PcumOctSep'</li>\n",
       "\t<li>'Tmin'</li>\n",
       "\t<li>'MarMin'</li>\n",
       "\t<li>'wd'</li>\n",
       "</ol>\n"
      ],
      "text/latex": [
       "\\begin{enumerate*}\n",
       "\\item 'JanTmin'\n",
       "\\item 'etopo1'\n",
       "\\item 'lat'\n",
       "\\item 'Mar20'\n",
       "\\item 'vpd'\n",
       "\\item 'ddAugJul'\n",
       "\\item 'cwd'\n",
       "\\item 'AugMaxT'\n",
       "\\item 'ddAugJun'\n",
       "\\item 'PPT'\n",
       "\\item 'summerP2'\n",
       "\\item 'POctSep'\n",
       "\\item 'Pmean'\n",
       "\\item 'PMarAug'\n",
       "\\item 'max.drop'\n",
       "\\item 'age'\n",
       "\\item 'Acs'\n",
       "\\item 'maxT'\n",
       "\\item 'mi'\n",
       "\\item 'OctTmin'\n",
       "\\item 'OctMin'\n",
       "\\item 'summerP0'\n",
       "\\item 'summerP1'\n",
       "\\item 'sum9'\n",
       "\\item 'PcumOctSep'\n",
       "\\item 'Tmin'\n",
       "\\item 'MarMin'\n",
       "\\item 'wd'\n",
       "\\end{enumerate*}\n"
      ],
      "text/markdown": [
       "1. 'JanTmin'\n",
       "2. 'etopo1'\n",
       "3. 'lat'\n",
       "4. 'Mar20'\n",
       "5. 'vpd'\n",
       "6. 'ddAugJul'\n",
       "7. 'cwd'\n",
       "8. 'AugMaxT'\n",
       "9. 'ddAugJun'\n",
       "10. 'PPT'\n",
       "11. 'summerP2'\n",
       "12. 'POctSep'\n",
       "13. 'Pmean'\n",
       "14. 'PMarAug'\n",
       "15. 'max.drop'\n",
       "16. 'age'\n",
       "17. 'Acs'\n",
       "18. 'maxT'\n",
       "19. 'mi'\n",
       "20. 'OctTmin'\n",
       "21. 'OctMin'\n",
       "22. 'summerP0'\n",
       "23. 'summerP1'\n",
       "24. 'sum9'\n",
       "25. 'PcumOctSep'\n",
       "26. 'Tmin'\n",
       "27. 'MarMin'\n",
       "28. 'wd'\n",
       "\n",
       "\n"
      ],
      "text/plain": [
       " [1] \"JanTmin\"    \"etopo1\"     \"lat\"        \"Mar20\"      \"vpd\"       \n",
       " [6] \"ddAugJul\"   \"cwd\"        \"AugMaxT\"    \"ddAugJun\"   \"PPT\"       \n",
       "[11] \"summerP2\"   \"POctSep\"    \"Pmean\"      \"PMarAug\"    \"max.drop\"  \n",
       "[16] \"age\"        \"Acs\"        \"maxT\"       \"mi\"         \"OctTmin\"   \n",
       "[21] \"OctMin\"     \"summerP0\"   \"summerP1\"   \"sum9\"       \"PcumOctSep\"\n",
       "[26] \"Tmin\"       \"MarMin\"     \"wd\"        "
      ]
     },
     "metadata": {},
     "output_type": "display_data"
    }
   ],
   "source": [
    "sqs"
   ]
  },
  {
   "cell_type": "code",
   "execution_count": 37,
   "metadata": {
    "collapsed": false
   },
   "outputs": [
    {
     "data": {
      "text/html": [
       "<ol class=list-inline>\n",
       "\t<li>'AugTmean'</li>\n",
       "\t<li>'lat'</li>\n",
       "\t<li>'TMarAug'</li>\n",
       "\t<li>'JanMin'</li>\n",
       "\t<li>'minT'</li>\n",
       "\t<li>'Jan20'</li>\n",
       "\t<li>'fallTmean'</li>\n",
       "\t<li>'lon'</li>\n",
       "\t<li>'Tvar'</li>\n",
       "\t<li>'MarTmin'</li>\n",
       "\t<li>'AugTmax'</li>\n",
       "\t<li>'winterMin'</li>\n",
       "\t<li>'OptTsum'</li>\n",
       "\t<li>'age'</li>\n",
       "\t<li>'sum9'</li>\n",
       "\t<li>'Tmean'</li>\n",
       "\t<li>'summerTmean'</li>\n",
       "\t<li>'density'</li>\n",
       "\t<li>'TOctSep'</li>\n",
       "</ol>\n"
      ],
      "text/latex": [
       "\\begin{enumerate*}\n",
       "\\item 'AugTmean'\n",
       "\\item 'lat'\n",
       "\\item 'TMarAug'\n",
       "\\item 'JanMin'\n",
       "\\item 'minT'\n",
       "\\item 'Jan20'\n",
       "\\item 'fallTmean'\n",
       "\\item 'lon'\n",
       "\\item 'Tvar'\n",
       "\\item 'MarTmin'\n",
       "\\item 'AugTmax'\n",
       "\\item 'winterMin'\n",
       "\\item 'OptTsum'\n",
       "\\item 'age'\n",
       "\\item 'sum9'\n",
       "\\item 'Tmean'\n",
       "\\item 'summerTmean'\n",
       "\\item 'density'\n",
       "\\item 'TOctSep'\n",
       "\\end{enumerate*}\n"
      ],
      "text/markdown": [
       "1. 'AugTmean'\n",
       "2. 'lat'\n",
       "3. 'TMarAug'\n",
       "4. 'JanMin'\n",
       "5. 'minT'\n",
       "6. 'Jan20'\n",
       "7. 'fallTmean'\n",
       "8. 'lon'\n",
       "9. 'Tvar'\n",
       "10. 'MarTmin'\n",
       "11. 'AugTmax'\n",
       "12. 'winterMin'\n",
       "13. 'OptTsum'\n",
       "14. 'age'\n",
       "15. 'sum9'\n",
       "16. 'Tmean'\n",
       "17. 'summerTmean'\n",
       "18. 'density'\n",
       "19. 'TOctSep'\n",
       "\n",
       "\n"
      ],
      "text/plain": [
       " [1] \"AugTmean\"    \"lat\"         \"TMarAug\"     \"JanMin\"      \"minT\"       \n",
       " [6] \"Jan20\"       \"fallTmean\"   \"lon\"         \"Tvar\"        \"MarTmin\"    \n",
       "[11] \"AugTmax\"     \"winterMin\"   \"OptTsum\"     \"age\"         \"sum9\"       \n",
       "[16] \"Tmean\"       \"summerTmean\" \"density\"     \"TOctSep\"    "
      ]
     },
     "metadata": {},
     "output_type": "display_data"
    }
   ],
   "source": [
    "cubs"
   ]
  },
  {
   "cell_type": "code",
   "execution_count": 39,
   "metadata": {
    "collapsed": false
   },
   "outputs": [
    {
     "data": {
      "text/html": [
       "TRUE"
      ],
      "text/latex": [
       "TRUE"
      ],
      "text/markdown": [
       "TRUE"
      ],
      "text/plain": [
       "[1] TRUE"
      ]
     },
     "metadata": {},
     "output_type": "display_data"
    }
   ],
   "source": [
    "field %in% sqs & field %in% cubs"
   ]
  },
  {
   "cell_type": "code",
   "execution_count": 51,
   "metadata": {
    "collapsed": false
   },
   "outputs": [
    {
     "data": {
      "text/html": [
       "<dl class=dl-horizontal>\n",
       "\t<dt>Jan20_cub</dt>\n",
       "\t\t<dd>8.62406028435549e-67</dd>\n",
       "\t<dt>Jan20</dt>\n",
       "\t\t<dd>2.52383668889142e-06</dd>\n",
       "\t<dt>lon:Jan20</dt>\n",
       "\t\t<dd>0.000587351898558144</dd>\n",
       "\t<dt>etopo1:Jan20</dt>\n",
       "\t\t<dd>0.0185013450821803</dd>\n",
       "\t<dt>lat:Jan20</dt>\n",
       "\t\t<dd>0.587264979383314</dd>\n",
       "\t<dt>density:Jan20</dt>\n",
       "\t\t<dd>0.669831031646612</dd>\n",
       "</dl>\n"
      ],
      "text/latex": [
       "\\begin{description*}\n",
       "\\item[Jan20\\textbackslash{}\\_cub] 8.62406028435549e-67\n",
       "\\item[Jan20] 2.52383668889142e-06\n",
       "\\item[lon:Jan20] 0.000587351898558144\n",
       "\\item[etopo1:Jan20] 0.0185013450821803\n",
       "\\item[lat:Jan20] 0.587264979383314\n",
       "\\item[density:Jan20] 0.669831031646612\n",
       "\\end{description*}\n"
      ],
      "text/markdown": [
       "Jan20_cub\n",
       ":   8.62406028435549e-67Jan20\n",
       ":   2.52383668889142e-06lon:Jan20\n",
       ":   0.000587351898558144etopo1:Jan20\n",
       ":   0.0185013450821803lat:Jan20\n",
       ":   0.587264979383314density:Jan20\n",
       ":   0.669831031646612\n",
       "\n"
      ],
      "text/plain": [
       "    Jan20_cub         Jan20     lon:Jan20  etopo1:Jan20     lat:Jan20 \n",
       " 8.624060e-67  2.523837e-06  5.873519e-04  1.850135e-02  5.872650e-01 \n",
       "density:Jan20 \n",
       " 6.698310e-01 "
      ]
     },
     "metadata": {},
     "output_type": "display_data"
    }
   ],
   "source": [
    "coef(summary(mod))[grep(paste0('^', field, '|:', field), row.names(coef(summary(mod)))), 4]"
   ]
  },
  {
   "cell_type": "code",
   "execution_count": 95,
   "metadata": {
    "collapsed": true
   },
   "outputs": [],
   "source": [
    "vars <- c('TMarAug','Tmean','Tvar','ddAugJul','AugTmean','maxAugT','summerTmean','OptTsum',\n",
    "          'JanTmin', 'Jan20', 'Acs', 'minT','summerP0', 'vpd', 'cwd', 'wd')\n",
    "varnms <- c('Growing season (Mar - Aug) temperature', 'Annual mean temperature', 'Seasonal temperature variation',\n",
    "            'Degree days from Aug to Jul', 'Mean August temperature', 'Frequency of ≥ 18.3 °C temperature in Aug',\n",
    "            'Mean summer temperature', 'Days with optimum summer temperatures', \n",
    "            'January minimum temperature', 'Days with a ≤-20 °C temperature in Jan','Average duration of cold snaps', \n",
    "            'Minimum daily temperature (Aug-Jul)', 'Summer precipitation', 'Vapor pressure deficit', \n",
    "            'Cumulative climatic water deficit', 'Water deficit')"
   ]
  },
  {
   "cell_type": "code",
   "execution_count": 19,
   "metadata": {
    "collapsed": true
   },
   "outputs": [],
   "source": [
    "med.df <- data.frame(t(apply(ndf, 2, median, na.rm=TRUE)))\n",
    "n.steps <- 100\n",
    "med.df <- med.df[rep(1, n.steps), ]"
   ]
  },
  {
   "cell_type": "code",
   "execution_count": 96,
   "metadata": {
    "collapsed": false
   },
   "outputs": [
    {
     "data": {
      "text/html": [
       "<strong>pdf:</strong> 2"
      ],
      "text/latex": [
       "\\textbf{pdf:} 2"
      ],
      "text/markdown": [
       "**pdf:** 2"
      ],
      "text/plain": [
       "pdf \n",
       "  2 "
      ]
     },
     "metadata": {},
     "output_type": "display_data"
    }
   ],
   "source": [
    "png(paste0(out,'biovariate_plot_',i,'.png'), width=14, height=12, units=\"in\", res=300)\n",
    "par(mfrow=c(4,4),mar=c(3.5,3.5,3,1))\n",
    "for (field in vars) {\n",
    "    j <- which(vars==field)\n",
    "    test.df <- med.df\n",
    "    xmin <- quantile(ndf[, field], probs=0.025, na.rm=TRUE)\n",
    "    xmax <- quantile(ndf[, field], probs=0.975, na.rm=TRUE)\n",
    "    test.df[, field] <- seq(xmin, xmax, length=100)\n",
    "    if(field %in% sqs & field %in% cubs){\n",
    "        test.df[, paste(field, '_sq')] <- test.df[, field]^2\n",
    "        test.df[, paste(field, '_cub')] <- test.df[, field]^3\n",
    "    }else if(field %in% sqs){\n",
    "        test.df[, paste(field, '_sq')] <- test.df[, field]^2  \n",
    "    }else if(field %in% cubs){\n",
    "        test.df[, paste(field, '_cub')] <- test.df[, field]^3\n",
    "    }\n",
    "    preds <- predict(mod, newdata=test.df, type=\"response\")\n",
    "    plot(preds ~ test.df[, field], \n",
    "         type='l', lty=1, lwd=2,\n",
    "         main=varnms[j],\n",
    "         xlab='', \n",
    "         ylab='')\n",
    "    vals <- df[,field]\n",
    "    vals <- vals[vals > xmin & vals < xmax]\n",
    "    rug(jitter(vals), col=rgb(0,0,0,0.2))\n",
    "}\n",
    "dev.off()"
   ]
  },
  {
   "cell_type": "code",
   "execution_count": 97,
   "metadata": {
    "collapsed": true
   },
   "outputs": [],
   "source": [
    "vars <- c('lon', 'lat', 'etopo1', 'age', 'density', 'sum9_diff')\n",
    "varnms <- c('Longitude', 'Latitude', 'Elevation', 'Stand age', 'Tree density', 'Beetle pressure')"
   ]
  },
  {
   "cell_type": "code",
   "execution_count": 98,
   "metadata": {
    "collapsed": false
   },
   "outputs": [
    {
     "data": {
      "text/html": [
       "<strong>pdf:</strong> 2"
      ],
      "text/latex": [
       "\\textbf{pdf:} 2"
      ],
      "text/markdown": [
       "**pdf:** 2"
      ],
      "text/plain": [
       "pdf \n",
       "  2 "
      ]
     },
     "metadata": {},
     "output_type": "display_data"
    }
   ],
   "source": [
    "png(paste0(out,'biovariate_plot_density_',i,'.png'), width=10, height=6, units=\"in\", res=300)\n",
    "par(mfrow=c(2,3),mar=c(3.5,3.5,3,1))\n",
    "for (field in vars) {\n",
    "    j <- which(vars==field)\n",
    "    test.df <- med.df\n",
    "    xmin <- quantile(ndf[, field], probs=0.025, na.rm=TRUE)\n",
    "    xmax <- quantile(ndf[, field], probs=0.975, na.rm=TRUE)\n",
    "    test.df[, field] <- seq(xmin, xmax, length=100)\n",
    "    if(field %in% sqs & field %in% cubs){\n",
    "        test.df[, paste(field, '_sq')] <- test.df[, field]^2\n",
    "        test.df[, paste(field, '_cub')] <- test.df[, field]^3\n",
    "    }else if(field %in% sqs){\n",
    "        test.df[, paste(field, '_sq')] <- test.df[, field]^2  \n",
    "    }else if(field %in% cubs){\n",
    "        test.df[, paste(field, '_cub')] <- test.df[, field]^3\n",
    "    }\n",
    "    preds <- predict(mod, newdata=test.df, type=\"response\")\n",
    "    plot(preds ~ test.df[, field], \n",
    "         type='l', lty=1, lwd=2,\n",
    "         main=varnms[j],\n",
    "         xlab='', \n",
    "         ylab='')\n",
    "    vals <- df[,field]\n",
    "    vals <- vals[vals > xmin & vals < xmax]\n",
    "    rug(jitter(vals), col=rgb(0,0,0,0.2))\n",
    "}\n",
    "dev.off()"
   ]
  },
  {
   "cell_type": "code",
   "execution_count": 47,
   "metadata": {
    "collapsed": true
   },
   "outputs": [],
   "source": [
    "vars <- c('Tmean','AugTmean','JanTmin', 'vpd', 'etopo1', 'age', 'density', 'sum9_diff')\n",
    "varnms <- c('Annual mean temperature', 'Mean August temperature', 'January minimum temperature',  \n",
    "            'Vapor pressure deficit', 'Elevation', 'Stand age', 'Tree density', 'Beetle pressure')"
   ]
  },
  {
   "cell_type": "code",
   "execution_count": 48,
   "metadata": {
    "collapsed": false
   },
   "outputs": [
    {
     "data": {
      "text/html": [
       "<table>\n",
       "<thead><tr><th></th><th scope=col>btl_t</th><th scope=col>sum9_diff</th><th scope=col>sum9_t2</th><th scope=col>Acs</th><th scope=col>etopo1</th><th scope=col>maxAugT</th><th scope=col>OctMin</th><th scope=col>Tvar</th><th scope=col>Tmean</th><th scope=col>PMarAug</th><th scope=col>⋯</th><th scope=col>MarTmin_cub</th><th scope=col>AugTmax_cub</th><th scope=col>winterMin_cub</th><th scope=col>OptTsum_cub</th><th scope=col>age_cub</th><th scope=col>sum9_diff_cub</th><th scope=col>Tmean_cub</th><th scope=col>summerTmean_cub</th><th scope=col>density_cub</th><th scope=col>TOctSep_cub</th></tr></thead>\n",
       "<tbody>\n",
       "\t<tr><th scope=row>1</th><td>0           </td><td>0           </td><td>0           </td><td>0           </td><td>1119        </td><td>30          </td><td>-7          </td><td>8.825953    </td><td>6.07141     </td><td>245.2352    </td><td>⋯           </td><td>-179.8418   </td><td>18161.37    </td><td>-15741.77   </td><td>46656       </td><td>0           </td><td>0           </td><td>223.8044    </td><td>4884.057    </td><td>4.421033e+12</td><td>223.5534    </td></tr>\n",
       "\t<tr><th scope=row>1.1</th><td>0           </td><td>0           </td><td>0           </td><td>0           </td><td>1119        </td><td>30          </td><td>-7          </td><td>8.825953    </td><td>6.07141     </td><td>245.2352    </td><td>⋯           </td><td>-179.8418   </td><td>18161.37    </td><td>-15741.77   </td><td>46656       </td><td>0           </td><td>0           </td><td>223.8044    </td><td>4884.057    </td><td>4.421033e+12</td><td>223.5534    </td></tr>\n",
       "\t<tr><th scope=row>1.2</th><td>0           </td><td>0           </td><td>0           </td><td>0           </td><td>1119        </td><td>30          </td><td>-7          </td><td>8.825953    </td><td>6.07141     </td><td>245.2352    </td><td>⋯           </td><td>-179.8418   </td><td>18161.37    </td><td>-15741.77   </td><td>46656       </td><td>0           </td><td>0           </td><td>223.8044    </td><td>4884.057    </td><td>4.421033e+12</td><td>223.5534    </td></tr>\n",
       "\t<tr><th scope=row>1.3</th><td>0           </td><td>0           </td><td>0           </td><td>0           </td><td>1119        </td><td>30          </td><td>-7          </td><td>8.825953    </td><td>6.07141     </td><td>245.2352    </td><td>⋯           </td><td>-179.8418   </td><td>18161.37    </td><td>-15741.77   </td><td>46656       </td><td>0           </td><td>0           </td><td>223.8044    </td><td>4884.057    </td><td>4.421033e+12</td><td>223.5534    </td></tr>\n",
       "\t<tr><th scope=row>1.4</th><td>0           </td><td>0           </td><td>0           </td><td>0           </td><td>1119        </td><td>30          </td><td>-7          </td><td>8.825953    </td><td>6.07141     </td><td>245.2352    </td><td>⋯           </td><td>-179.8418   </td><td>18161.37    </td><td>-15741.77   </td><td>46656       </td><td>0           </td><td>0           </td><td>223.8044    </td><td>4884.057    </td><td>4.421033e+12</td><td>223.5534    </td></tr>\n",
       "\t<tr><th scope=row>1.5</th><td>0           </td><td>0           </td><td>0           </td><td>0           </td><td>1119        </td><td>30          </td><td>-7          </td><td>8.825953    </td><td>6.07141     </td><td>245.2352    </td><td>⋯           </td><td>-179.8418   </td><td>18161.37    </td><td>-15741.77   </td><td>46656       </td><td>0           </td><td>0           </td><td>223.8044    </td><td>4884.057    </td><td>4.421033e+12</td><td>223.5534    </td></tr>\n",
       "</tbody>\n",
       "</table>\n"
      ],
      "text/latex": [
       "\\begin{tabular}{r|llllllllllllllllllllllllllllllllllllllllllllllllllllllllllllllllllllllllllllllllllllllllllllllllll}\n",
       "  & btl\\_t & sum9\\_diff & sum9\\_t2 & Acs & etopo1 & maxAugT & OctMin & Tvar & Tmean & PMarAug & ⋯ & MarTmin\\_cub & AugTmax\\_cub & winterMin\\_cub & OptTsum\\_cub & age\\_cub & sum9\\_diff\\_cub & Tmean\\_cub & summerTmean\\_cub & density\\_cub & TOctSep\\_cub\\\\\n",
       "\\hline\n",
       "\t1 & 0            & 0            & 0            & 0            & 1119         & 30           & -7           & 8.825953     & 6.07141      & 245.2352     & ⋯            & -179.8418    & 18161.37     & -15741.77    & 46656        & 0            & 0            & 223.8044     & 4884.057     & 4.421033e+12 & 223.5534    \\\\\n",
       "\t1.1 & 0            & 0            & 0            & 0            & 1119         & 30           & -7           & 8.825953     & 6.07141      & 245.2352     & ⋯            & -179.8418    & 18161.37     & -15741.77    & 46656        & 0            & 0            & 223.8044     & 4884.057     & 4.421033e+12 & 223.5534    \\\\\n",
       "\t1.2 & 0            & 0            & 0            & 0            & 1119         & 30           & -7           & 8.825953     & 6.07141      & 245.2352     & ⋯            & -179.8418    & 18161.37     & -15741.77    & 46656        & 0            & 0            & 223.8044     & 4884.057     & 4.421033e+12 & 223.5534    \\\\\n",
       "\t1.3 & 0            & 0            & 0            & 0            & 1119         & 30           & -7           & 8.825953     & 6.07141      & 245.2352     & ⋯            & -179.8418    & 18161.37     & -15741.77    & 46656        & 0            & 0            & 223.8044     & 4884.057     & 4.421033e+12 & 223.5534    \\\\\n",
       "\t1.4 & 0            & 0            & 0            & 0            & 1119         & 30           & -7           & 8.825953     & 6.07141      & 245.2352     & ⋯            & -179.8418    & 18161.37     & -15741.77    & 46656        & 0            & 0            & 223.8044     & 4884.057     & 4.421033e+12 & 223.5534    \\\\\n",
       "\t1.5 & 0            & 0            & 0            & 0            & 1119         & 30           & -7           & 8.825953     & 6.07141      & 245.2352     & ⋯            & -179.8418    & 18161.37     & -15741.77    & 46656        & 0            & 0            & 223.8044     & 4884.057     & 4.421033e+12 & 223.5534    \\\\\n",
       "\\end{tabular}\n"
      ],
      "text/markdown": [
       "\n",
       "| <!--/--> | btl_t | sum9_diff | sum9_t2 | Acs | etopo1 | maxAugT | OctMin | Tvar | Tmean | PMarAug | ⋯ | MarTmin_cub | AugTmax_cub | winterMin_cub | OptTsum_cub | age_cub | sum9_diff_cub | Tmean_cub | summerTmean_cub | density_cub | TOctSep_cub | \n",
       "|---|---|---|---|---|---|\n",
       "| 1 | 0            | 0            | 0            | 0            | 1119         | 30           | -7           | 8.825953     | 6.07141      | 245.2352     | ⋯            | -179.8418    | 18161.37     | -15741.77    | 46656        | 0            | 0            | 223.8044     | 4884.057     | 4.421033e+12 | 223.5534     | \n",
       "| 1.1 | 0            | 0            | 0            | 0            | 1119         | 30           | -7           | 8.825953     | 6.07141      | 245.2352     | ⋯            | -179.8418    | 18161.37     | -15741.77    | 46656        | 0            | 0            | 223.8044     | 4884.057     | 4.421033e+12 | 223.5534     | \n",
       "| 1.2 | 0            | 0            | 0            | 0            | 1119         | 30           | -7           | 8.825953     | 6.07141      | 245.2352     | ⋯            | -179.8418    | 18161.37     | -15741.77    | 46656        | 0            | 0            | 223.8044     | 4884.057     | 4.421033e+12 | 223.5534     | \n",
       "| 1.3 | 0            | 0            | 0            | 0            | 1119         | 30           | -7           | 8.825953     | 6.07141      | 245.2352     | ⋯            | -179.8418    | 18161.37     | -15741.77    | 46656        | 0            | 0            | 223.8044     | 4884.057     | 4.421033e+12 | 223.5534     | \n",
       "| 1.4 | 0            | 0            | 0            | 0            | 1119         | 30           | -7           | 8.825953     | 6.07141      | 245.2352     | ⋯            | -179.8418    | 18161.37     | -15741.77    | 46656        | 0            | 0            | 223.8044     | 4884.057     | 4.421033e+12 | 223.5534     | \n",
       "| 1.5 | 0            | 0            | 0            | 0            | 1119         | 30           | -7           | 8.825953     | 6.07141      | 245.2352     | ⋯            | -179.8418    | 18161.37     | -15741.77    | 46656        | 0            | 0            | 223.8044     | 4884.057     | 4.421033e+12 | 223.5534     | \n",
       "\n",
       "\n"
      ],
      "text/plain": [
       "    btl_t sum9_diff sum9_t2 Acs etopo1 maxAugT OctMin Tvar     Tmean   PMarAug \n",
       "1   0     0         0       0   1119   30      -7     8.825953 6.07141 245.2352\n",
       "1.1 0     0         0       0   1119   30      -7     8.825953 6.07141 245.2352\n",
       "1.2 0     0         0       0   1119   30      -7     8.825953 6.07141 245.2352\n",
       "1.3 0     0         0       0   1119   30      -7     8.825953 6.07141 245.2352\n",
       "1.4 0     0         0       0   1119   30      -7     8.825953 6.07141 245.2352\n",
       "1.5 0     0         0       0   1119   30      -7     8.825953 6.07141 245.2352\n",
       "    ⋯ MarTmin_cub AugTmax_cub winterMin_cub OptTsum_cub age_cub sum9_diff_cub\n",
       "1   ⋯ -179.8418   18161.37    -15741.77     46656       0       0            \n",
       "1.1 ⋯ -179.8418   18161.37    -15741.77     46656       0       0            \n",
       "1.2 ⋯ -179.8418   18161.37    -15741.77     46656       0       0            \n",
       "1.3 ⋯ -179.8418   18161.37    -15741.77     46656       0       0            \n",
       "1.4 ⋯ -179.8418   18161.37    -15741.77     46656       0       0            \n",
       "1.5 ⋯ -179.8418   18161.37    -15741.77     46656       0       0            \n",
       "    Tmean_cub summerTmean_cub density_cub  TOctSep_cub\n",
       "1   223.8044  4884.057        4.421033e+12 223.5534   \n",
       "1.1 223.8044  4884.057        4.421033e+12 223.5534   \n",
       "1.2 223.8044  4884.057        4.421033e+12 223.5534   \n",
       "1.3 223.8044  4884.057        4.421033e+12 223.5534   \n",
       "1.4 223.8044  4884.057        4.421033e+12 223.5534   \n",
       "1.5 223.8044  4884.057        4.421033e+12 223.5534   "
      ]
     },
     "metadata": {},
     "output_type": "display_data"
    }
   ],
   "source": [
    "head(med.df)"
   ]
  },
  {
   "cell_type": "code",
   "execution_count": 49,
   "metadata": {
    "collapsed": false
   },
   "outputs": [
    {
     "data": {
      "text/html": [
       "<strong>pdf:</strong> 2"
      ],
      "text/latex": [
       "\\textbf{pdf:} 2"
      ],
      "text/markdown": [
       "**pdf:** 2"
      ],
      "text/plain": [
       "pdf \n",
       "  2 "
      ]
     },
     "metadata": {},
     "output_type": "display_data"
    }
   ],
   "source": [
    "png(paste0(out,'response_curves_',i,'.png'), width=12, height=6, units=\"in\", res=300)\n",
    "par(mfrow=c(2,4),mar=c(3.5,3.5,3,1))\n",
    "for (field in vars) {\n",
    "    j <- which(vars==field)\n",
    "    test.df <- med.df\n",
    "    xmin <- quantile(ndf[, field], probs=0.025, na.rm=TRUE)\n",
    "    xmax <- quantile(ndf[, field], probs=0.975, na.rm=TRUE)\n",
    "    test.df[, field] <- seq(xmin, xmax, length=100)\n",
    "    if(field %in% sqs & field %in% cubs){\n",
    "        test.df[, paste(field, '_sq')] <- test.df[, field]^2\n",
    "        test.df[, paste(field, '_cub')] <- test.df[, field]^3\n",
    "    }else if(field %in% sqs){\n",
    "        test.df[, paste(field, '_sq')] <- test.df[, field]^2  \n",
    "    }else if(field %in% cubs){\n",
    "        test.df[, paste(field, '_cub')] <- test.df[, field]^3\n",
    "    }\n",
    "    preds <- predict(mod, newdata=test.df, type=\"response\")\n",
    "    plot(preds ~ test.df[, field], \n",
    "         type='l', lty=1, lwd=2,\n",
    "         main=varnms[j], cex.main=1.5,\n",
    "         xlab='', \n",
    "         ylab='',\n",
    "         ylim=c(0,1))\n",
    "    vals <- df[,field]\n",
    "    vals <- vals[vals > xmin & vals < xmax]\n",
    "    rug(jitter(vals), col=rgb(0,0,0,0.2))\n",
    "}\n",
    "dev.off()"
   ]
  },
  {
   "cell_type": "code",
   "execution_count": 24,
   "metadata": {
    "collapsed": false
   },
   "outputs": [
    {
     "data": {
      "text/html": [
       "'Tmean'"
      ],
      "text/latex": [
       "'Tmean'"
      ],
      "text/markdown": [
       "'Tmean'"
      ],
      "text/plain": [
       "[1] \"Tmean\""
      ]
     },
     "metadata": {},
     "output_type": "display_data"
    }
   ],
   "source": [
    "field"
   ]
  },
  {
   "cell_type": "code",
   "execution_count": null,
   "metadata": {
    "collapsed": true
   },
   "outputs": [],
   "source": []
  }
 ],
 "metadata": {
  "kernelspec": {
   "display_name": "R",
   "language": "R",
   "name": "ir"
  },
  "language_info": {
   "codemirror_mode": "r",
   "file_extension": ".r",
   "mimetype": "text/x-r-source",
   "name": "R",
   "pygments_lexer": "r",
   "version": "3.4.4"
  }
 },
 "nbformat": 4,
 "nbformat_minor": 2
}
